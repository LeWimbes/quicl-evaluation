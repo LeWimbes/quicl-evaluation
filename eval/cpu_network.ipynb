{
 "cells": [
  {
   "cell_type": "code",
   "execution_count": null,
   "metadata": {},
   "outputs": [],
   "source": [
    "%load_ext autoreload\n",
    "%autoreload 2\n",
    "\n",
    "import pathlib\n",
    "\n",
    "import pandas as pd\n",
    "pd.set_option('display.float_format', lambda x: '%.1f' % x)\n",
    "import scipy.stats\n",
    "import numpy as np\n",
    "\n",
    "import plotly.express as px\n",
    "import plotly.graph_objs as go\n",
    "\n",
    "from data_handlers.bwm import parse_bwms\n",
    "from data_handlers.pidstat import parse_pidstat"
   ]
  },
  {
   "cell_type": "code",
   "execution_count": null,
   "metadata": {},
   "outputs": [],
   "source": [
    "experiment_path = pathlib.Path(f\"/home/sterz/maci-docker-compose/maci_data/binary_files/44\")"
   ]
  },
  {
   "cell_type": "code",
   "execution_count": null,
   "metadata": {},
   "outputs": [],
   "source": [
    "name_replacement = {\n",
    "}\n",
    "\n",
    "routing_color_map = {\n",
    "}"
   ]
  },
  {
   "cell_type": "code",
   "execution_count": null,
   "metadata": {
    "tags": []
   },
   "outputs": [],
   "source": [
    "network_df = parse_bwms(experiment_path)"
   ]
  },
  {
   "cell_type": "code",
   "execution_count": null,
   "metadata": {
    "tags": []
   },
   "outputs": [],
   "source": [
    "procmem_df = parse_pidstat(experiment_path)"
   ]
  },
  {
   "cell_type": "code",
   "execution_count": null,
   "metadata": {},
   "outputs": [],
   "source": [
    "merged = procmem_df.merge(network_df, left_index=True, right_index=True).reset_index()\n",
    "\n",
    "merged = merged.replace(\"DTN7Go\", \"DTN7-go\")\n",
    "merged = merged.replace(\"mtcp\", \"MTCP\")\n",
    "merged = merged.replace(\"quicl\", \"QUICL\")\n",
    "\n",
    "merged = merged.rename(columns={\"Payload Size\": \"Bundle Size\"})\n",
    "merged = merged.rename(columns={\"# Payloads\": \"# Bundles\"})\n",
    "\n",
    "merged[\"Software/CLA\"] = merged['Software'] + \"/\" + merged['CLA']\n",
    "\n",
    "merged[\"Bundle Size\"] = merged[\"Bundle Size\"].replace(1000, \"1 kB\")\n",
    "merged[\"Bundle Size\"] = merged[\"Bundle Size\"].replace(100000, \"100 kB\")\n",
    "merged[\"Bundle Size\"] = merged[\"Bundle Size\"].replace(1000000, \"1 MB\")\n",
    "\n",
    "merged = merged[merged[\"Loss\"] != 50]"
   ]
  },
  {
   "cell_type": "code",
   "execution_count": null,
   "metadata": {},
   "outputs": [],
   "source": [
    "fig = px.box(\n",
    "    merged,\n",
    "    x=\"Bundle Size\", \n",
    "    y=\"Mbit/s\",\n",
    "    color=\"Loss\",\n",
    "    facet_col=\"Software/CLA\",\n",
    "    facet_row=\"# Bundles\",\n",
    "    labels={\n",
    "        \"Mbit/s\": \"\",\n",
    "        \"Loss\": \"Loss (%)\",\n",
    "        \"# Bundles\": \"Bundles\",\n",
    "        \"Delivered (%)\": \"\"\n",
    "    },\n",
    "    category_orders={\n",
    "        \"Loss\": [0, 10, 30],\n",
    "        \"Bundle Size\": [\"1 kB\", \"100 kB\", \"1 MB\"],\n",
    "        \"Software/CLA\": [\"DTN7-go/MTCP\", \"DTN7-go/QUICL\"],\n",
    "        \"Number of Bundles\": [10, 100]\n",
    "    },\n",
    "    facet_row_spacing=0.08\n",
    ")\n",
    "\n",
    "fig.for_each_annotation(lambda a: a.update(text=a.text.replace(\"=\", \": \")))\n",
    "fig.for_each_annotation(lambda a: a.update(text=a.text.replace(\"Software/CLA: \", \"\")))\n",
    "\n",
    "fig.add_annotation(x=-0.05, y=0.35,\n",
    "                   text=\"Throughput (Mbit/s)\",\n",
    "                   textangle=-90,\n",
    "                   xref=\"paper\",\n",
    "                   yref=\"paper\",\n",
    "                   font=dict(size=14)\n",
    "                   )\n",
    "\n",
    "fig.update_layout(\n",
    "    margin=dict(l=0, r=0, t=20, b=0),\n",
    ")\n",
    "\n",
    "fig.write_image(\"throughput.pdf\", width=500, height=250)\n",
    "fig"
   ]
  },
  {
   "cell_type": "code",
   "execution_count": null,
   "metadata": {},
   "outputs": [],
   "source": [
    "fig = px.box(\n",
    "    merged,\n",
    "    x=\"Bundle Size\", \n",
    "    y=merged[\"%CPU\"] / merged[\"# Node\"],\n",
    "    color=\"Loss\",\n",
    "    facet_col=\"Software/CLA\",\n",
    "    facet_row=\"# Bundles\",\n",
    "    labels={\n",
    "        \"y\": \"\",\n",
    "        \"Loss\": \"Loss (%)\",\n",
    "        \"# Bundles\": \"Bundles\",\n",
    "        \"Delivered (%)\": \"\"\n",
    "    },\n",
    "    category_orders={\n",
    "        \"Loss\": [0, 10, 30],\n",
    "        \"Bundle Size\": [\"1 kB\", \"100 kB\", \"1 MB\"],\n",
    "        \"Software/CLA\": [\"DTN7-go/MTCP\", \"DTN7-go/QUICL\"],\n",
    "        \"Number of Bundles\": [10, 100]\n",
    "    },\n",
    "    facet_row_spacing=0.08\n",
    ")\n",
    "\n",
    "fig.for_each_annotation(lambda a: a.update(text=a.text.replace(\"=\", \": \")))\n",
    "fig.for_each_annotation(lambda a: a.update(text=a.text.replace(\"Software/CLA: \", \"\")))\n",
    "\n",
    "fig.add_annotation(x=-0.05, y=0.35,\n",
    "                   text=\"CPU (%)\",\n",
    "                   textangle=-90,\n",
    "                   xref=\"paper\",\n",
    "                   yref=\"paper\",\n",
    "                   font=dict(size=14)\n",
    "                   )\n",
    "\n",
    "fig.update_layout(\n",
    "    margin=dict(l=0, r=0, t=20, b=0),\n",
    "    yaxis_range=[0,100]\n",
    ")\n",
    "\n",
    "fig.write_image(\"cpu.pdf\", width=500, height=250)\n",
    "fig"
   ]
  },
  {
   "cell_type": "code",
   "execution_count": null,
   "metadata": {},
   "outputs": [],
   "source": [
    "fig = px.box(\n",
    "    merged,\n",
    "    x=\"Bundle Size\", \n",
    "    y=(merged[\"RSS\"] / merged[\"# Node\"]) / 1000,\n",
    "    color=\"Loss\",\n",
    "    facet_col=\"Software/CLA\",\n",
    "    facet_row=\"# Bundles\",\n",
    "    labels={\n",
    "        \"y\": \"\",\n",
    "        \"Loss\": \"Loss (%)\",\n",
    "        \"# Bundles\": \"Bundles\",\n",
    "        \"Delivered (%)\": \"\"\n",
    "    },\n",
    "    category_orders={\n",
    "        \"Loss\": [0, 10, 30],\n",
    "        \"Bundle Size\": [\"1 kB\", \"100 kB\", \"1 MB\"],\n",
    "        \"Software/CLA\": [\"DTN7-go/MTCP\", \"DTN7-go/QUICL\"],\n",
    "        \"Number of Bundles\": [10, 100]\n",
    "    },\n",
    "    facet_row_spacing=0.08\n",
    ")\n",
    "\n",
    "fig.for_each_annotation(lambda a: a.update(text=a.text.replace(\"=\", \": \")))\n",
    "fig.for_each_annotation(lambda a: a.update(text=a.text.replace(\"Software/CLA: \", \"\")))\n",
    "\n",
    "fig.add_annotation(x=-0.05, y=0.35,\n",
    "                   text=\"Memory Usage (MB)\",\n",
    "                   textangle=-90,\n",
    "                   xref=\"paper\",\n",
    "                   yref=\"paper\",\n",
    "                   font=dict(size=14)\n",
    "                   )\n",
    "\n",
    "fig.update_layout(\n",
    "    margin=dict(l=0, r=0, t=20, b=0),\n",
    "    yaxis_range=[0, 700]\n",
    ")\n",
    "\n",
    "fig.write_image(\"memory.pdf\", width=500, height=250)\n",
    "fig"
   ]
  }
 ],
 "metadata": {
  "kernelspec": {
   "display_name": "venv",
   "language": "python",
   "name": "python3"
  },
  "language_info": {
   "codemirror_mode": {
    "name": "ipython",
    "version": 3
   },
   "file_extension": ".py",
   "mimetype": "text/x-python",
   "name": "python",
   "nbconvert_exporter": "python",
   "pygments_lexer": "ipython3",
   "version": "3.8.10"
  },
  "vscode": {
   "interpreter": {
    "hash": "641d5286c24ce6c921edfe19b055ac39c0f930e75576e15c3d25ad0550bc35a7"
   }
  }
 },
 "nbformat": 4,
 "nbformat_minor": 4
}
