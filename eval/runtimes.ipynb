{
 "cells": [
  {
   "cell_type": "code",
   "execution_count": 1,
   "metadata": {},
   "outputs": [],
   "source": [
    "%load_ext autoreload\n",
    "%autoreload 2\n",
    "\n",
    "import pathlib\n",
    "from datetime import timedelta\n",
    "\n",
    "import pandas as pd\n",
    "pd.set_option('display.max_rows', 200)\n",
    "import plotly.express as px\n",
    "\n",
    "from tqdm import tqdm\n",
    "\n",
    "from data_handlers.runtimes import *"
   ]
  },
  {
   "cell_type": "code",
   "execution_count": 2,
   "metadata": {},
   "outputs": [],
   "source": [
    "experiment_path = pathlib.Path(f\"/home/sterz/maci-docker-compose/maci_data/binary_files\")\n",
    "experiment_ids = [8, 9, 10, 11, 12]\n",
    "# experiment_ids = [\"dtn7ng\", \"dtn7rs\", \"ibrdtn\", \"serval\"]"
   ]
  },
  {
   "cell_type": "code",
   "execution_count": 3,
   "metadata": {},
   "outputs": [
    {
     "name": "stdout",
     "output_type": "stream",
     "text": [
      "Parsing /home/sterz/maci-docker-compose/maci_data/binary_files/8/406\n"
     ]
    },
    {
     "ename": "KeyError",
     "evalue": "'loss'",
     "output_type": "error",
     "traceback": [
      "\u001b[0;31m---------------------------------------------------------------------------\u001b[0m",
      "\u001b[0;31mKeyError\u001b[0m                                  Traceback (most recent call last)",
      "Cell \u001b[0;32mIn[3], line 1\u001b[0m\n\u001b[0;32m----> 1\u001b[0m orig_event_frame \u001b[38;5;241m=\u001b[39m \u001b[43mparse_bundle_events\u001b[49m\u001b[43m(\u001b[49m\u001b[43mexperiment_path\u001b[49m\u001b[43m,\u001b[49m\u001b[43m \u001b[49m\u001b[43mexperiment_ids\u001b[49m\u001b[43m)\u001b[49m\n",
      "File \u001b[0;32m~/maci-docker-compose/maci_data/eval/data_handlers/runtimes.py:52\u001b[0m, in \u001b[0;36mparse_bundle_events\u001b[0;34m(experiment_path, experiment_ids)\u001b[0m\n\u001b[1;32m     49\u001b[0m \u001b[38;5;28;01mfor\u001b[39;00m experiment_id \u001b[38;5;129;01min\u001b[39;00m experiment_ids:\n\u001b[1;32m     50\u001b[0m     instance_paths \u001b[38;5;241m=\u001b[39m glob\u001b[38;5;241m.\u001b[39mglob(os\u001b[38;5;241m.\u001b[39mpath\u001b[38;5;241m.\u001b[39mjoin(experiment_path, \u001b[38;5;28mstr\u001b[39m(experiment_id), \u001b[38;5;124m\"\u001b[39m\u001b[38;5;124m*\u001b[39m\u001b[38;5;124m\"\u001b[39m))\n\u001b[0;32m---> 52\u001b[0m     parsed_instances \u001b[38;5;241m=\u001b[39m [parse_bundle_events_instance(path) \u001b[38;5;28;01mfor\u001b[39;00m path \u001b[38;5;129;01min\u001b[39;00m instance_paths]\n\u001b[1;32m     53\u001b[0m     bundle_events: List[Dict[\u001b[38;5;28mstr\u001b[39m, Union[\u001b[38;5;28mstr\u001b[39m, datetime]]] \u001b[38;5;241m=\u001b[39m []\n\u001b[1;32m     54\u001b[0m     \u001b[38;5;28;01mfor\u001b[39;00m instance \u001b[38;5;129;01min\u001b[39;00m parsed_instances:\n",
      "File \u001b[0;32m~/maci-docker-compose/maci_data/eval/data_handlers/runtimes.py:52\u001b[0m, in \u001b[0;36m<listcomp>\u001b[0;34m(.0)\u001b[0m\n\u001b[1;32m     49\u001b[0m \u001b[38;5;28;01mfor\u001b[39;00m experiment_id \u001b[38;5;129;01min\u001b[39;00m experiment_ids:\n\u001b[1;32m     50\u001b[0m     instance_paths \u001b[38;5;241m=\u001b[39m glob\u001b[38;5;241m.\u001b[39mglob(os\u001b[38;5;241m.\u001b[39mpath\u001b[38;5;241m.\u001b[39mjoin(experiment_path, \u001b[38;5;28mstr\u001b[39m(experiment_id), \u001b[38;5;124m\"\u001b[39m\u001b[38;5;124m*\u001b[39m\u001b[38;5;124m\"\u001b[39m))\n\u001b[0;32m---> 52\u001b[0m     parsed_instances \u001b[38;5;241m=\u001b[39m [\u001b[43mparse_bundle_events_instance\u001b[49m\u001b[43m(\u001b[49m\u001b[43mpath\u001b[49m\u001b[43m)\u001b[49m \u001b[38;5;28;01mfor\u001b[39;00m path \u001b[38;5;129;01min\u001b[39;00m instance_paths]\n\u001b[1;32m     53\u001b[0m     bundle_events: List[Dict[\u001b[38;5;28mstr\u001b[39m, Union[\u001b[38;5;28mstr\u001b[39m, datetime]]] \u001b[38;5;241m=\u001b[39m []\n\u001b[1;32m     54\u001b[0m     \u001b[38;5;28;01mfor\u001b[39;00m instance \u001b[38;5;129;01min\u001b[39;00m parsed_instances:\n",
      "File \u001b[0;32m~/maci-docker-compose/maci_data/eval/data_handlers/runtimes.py:43\u001b[0m, in \u001b[0;36mparse_bundle_events_instance\u001b[0;34m(instance_path)\u001b[0m\n\u001b[1;32m     39\u001b[0m params \u001b[38;5;241m=\u001b[39m parse_instance_parameters(path\u001b[38;5;241m=\u001b[39mparam_path)\n\u001b[1;32m     41\u001b[0m software \u001b[38;5;241m=\u001b[39m params[\u001b[38;5;124m'\u001b[39m\u001b[38;5;124msoftware\u001b[39m\u001b[38;5;124m'\u001b[39m]\n\u001b[0;32m---> 43\u001b[0m \u001b[38;5;28;01mreturn\u001b[39;00m \u001b[43mparsing_functions\u001b[49m\u001b[43m[\u001b[49m\u001b[43msoftware\u001b[49m\u001b[43m]\u001b[49m\u001b[43m(\u001b[49m\u001b[43minstance_path\u001b[49m\u001b[43m,\u001b[49m\u001b[43m \u001b[49m\u001b[43mparams\u001b[49m\u001b[43m)\u001b[49m\n",
      "File \u001b[0;32m~/maci-docker-compose/maci_data/eval/data_handlers/softwares/dtn7ng.py:90\u001b[0m, in \u001b[0;36mparse_bundle_events_instance\u001b[0;34m(instance_path, params)\u001b[0m\n\u001b[1;32m     87\u001b[0m \u001b[38;5;28mprint\u001b[39m(\u001b[38;5;124mf\u001b[39m\u001b[38;5;124m\"\u001b[39m\u001b[38;5;124mParsing \u001b[39m\u001b[38;5;132;01m{\u001b[39;00minstance_path\u001b[38;5;132;01m}\u001b[39;00m\u001b[38;5;124m\"\u001b[39m, flush\u001b[38;5;241m=\u001b[39m\u001b[38;5;28;01mTrue\u001b[39;00m)\n\u001b[1;32m     88\u001b[0m node_paths \u001b[38;5;241m=\u001b[39m glob\u001b[38;5;241m.\u001b[39mglob(os\u001b[38;5;241m.\u001b[39mpath\u001b[38;5;241m.\u001b[39mjoin(instance_path, \u001b[38;5;124m\"\u001b[39m\u001b[38;5;124m*.conf_dtngod.log*\u001b[39m\u001b[38;5;124m\"\u001b[39m))\n\u001b[0;32m---> 90\u001b[0m parsed_nodes \u001b[38;5;241m=\u001b[39m [\n\u001b[1;32m     91\u001b[0m     parse_node(\n\u001b[1;32m     92\u001b[0m         node_path\u001b[38;5;241m=\u001b[39mp,\n\u001b[1;32m     93\u001b[0m         software\u001b[38;5;241m=\u001b[39mparams[\u001b[38;5;124m\"\u001b[39m\u001b[38;5;124msoftware\u001b[39m\u001b[38;5;124m\"\u001b[39m],\n\u001b[1;32m     94\u001b[0m         cla\u001b[38;5;241m=\u001b[39mparams[\u001b[38;5;124m\"\u001b[39m\u001b[38;5;124mcla\u001b[39m\u001b[38;5;124m\"\u001b[39m],\n\u001b[1;32m     95\u001b[0m         loss\u001b[38;5;241m=\u001b[39mparams[\u001b[38;5;124m\"\u001b[39m\u001b[38;5;124mloss\u001b[39m\u001b[38;5;124m\"\u001b[39m],\n\u001b[1;32m     96\u001b[0m         node_count\u001b[38;5;241m=\u001b[39mparams[\u001b[38;5;124m\"\u001b[39m\u001b[38;5;124mnode_count\u001b[39m\u001b[38;5;124m\"\u001b[39m],\n\u001b[1;32m     97\u001b[0m         num_payloads\u001b[38;5;241m=\u001b[39mparams[\u001b[38;5;124m\"\u001b[39m\u001b[38;5;124mnum_payloads\u001b[39m\u001b[38;5;124m\"\u001b[39m],\n\u001b[1;32m     98\u001b[0m         payload_size\u001b[38;5;241m=\u001b[39mparams[\u001b[38;5;124m\"\u001b[39m\u001b[38;5;124mpayload_size\u001b[39m\u001b[38;5;124m\"\u001b[39m],\n\u001b[1;32m     99\u001b[0m         sim_instance_id\u001b[38;5;241m=\u001b[39mparams[\u001b[38;5;124m\"\u001b[39m\u001b[38;5;124msimInstanceId\u001b[39m\u001b[38;5;124m\"\u001b[39m],\n\u001b[1;32m    100\u001b[0m     )\n\u001b[1;32m    101\u001b[0m     \u001b[38;5;28;01mfor\u001b[39;00m p \u001b[38;5;129;01min\u001b[39;00m node_paths\n\u001b[1;32m    102\u001b[0m ]\n\u001b[1;32m    103\u001b[0m \u001b[38;5;28;01mreturn\u001b[39;00m parsed_nodes\n",
      "File \u001b[0;32m~/maci-docker-compose/maci_data/eval/data_handlers/softwares/dtn7ng.py:95\u001b[0m, in \u001b[0;36m<listcomp>\u001b[0;34m(.0)\u001b[0m\n\u001b[1;32m     87\u001b[0m \u001b[38;5;28mprint\u001b[39m(\u001b[38;5;124mf\u001b[39m\u001b[38;5;124m\"\u001b[39m\u001b[38;5;124mParsing \u001b[39m\u001b[38;5;132;01m{\u001b[39;00minstance_path\u001b[38;5;132;01m}\u001b[39;00m\u001b[38;5;124m\"\u001b[39m, flush\u001b[38;5;241m=\u001b[39m\u001b[38;5;28;01mTrue\u001b[39;00m)\n\u001b[1;32m     88\u001b[0m node_paths \u001b[38;5;241m=\u001b[39m glob\u001b[38;5;241m.\u001b[39mglob(os\u001b[38;5;241m.\u001b[39mpath\u001b[38;5;241m.\u001b[39mjoin(instance_path, \u001b[38;5;124m\"\u001b[39m\u001b[38;5;124m*.conf_dtngod.log*\u001b[39m\u001b[38;5;124m\"\u001b[39m))\n\u001b[1;32m     90\u001b[0m parsed_nodes \u001b[38;5;241m=\u001b[39m [\n\u001b[1;32m     91\u001b[0m     parse_node(\n\u001b[1;32m     92\u001b[0m         node_path\u001b[38;5;241m=\u001b[39mp,\n\u001b[1;32m     93\u001b[0m         software\u001b[38;5;241m=\u001b[39mparams[\u001b[38;5;124m\"\u001b[39m\u001b[38;5;124msoftware\u001b[39m\u001b[38;5;124m\"\u001b[39m],\n\u001b[1;32m     94\u001b[0m         cla\u001b[38;5;241m=\u001b[39mparams[\u001b[38;5;124m\"\u001b[39m\u001b[38;5;124mcla\u001b[39m\u001b[38;5;124m\"\u001b[39m],\n\u001b[0;32m---> 95\u001b[0m         loss\u001b[38;5;241m=\u001b[39m\u001b[43mparams\u001b[49m\u001b[43m[\u001b[49m\u001b[38;5;124;43m\"\u001b[39;49m\u001b[38;5;124;43mloss\u001b[39;49m\u001b[38;5;124;43m\"\u001b[39;49m\u001b[43m]\u001b[49m,\n\u001b[1;32m     96\u001b[0m         node_count\u001b[38;5;241m=\u001b[39mparams[\u001b[38;5;124m\"\u001b[39m\u001b[38;5;124mnode_count\u001b[39m\u001b[38;5;124m\"\u001b[39m],\n\u001b[1;32m     97\u001b[0m         num_payloads\u001b[38;5;241m=\u001b[39mparams[\u001b[38;5;124m\"\u001b[39m\u001b[38;5;124mnum_payloads\u001b[39m\u001b[38;5;124m\"\u001b[39m],\n\u001b[1;32m     98\u001b[0m         payload_size\u001b[38;5;241m=\u001b[39mparams[\u001b[38;5;124m\"\u001b[39m\u001b[38;5;124mpayload_size\u001b[39m\u001b[38;5;124m\"\u001b[39m],\n\u001b[1;32m     99\u001b[0m         sim_instance_id\u001b[38;5;241m=\u001b[39mparams[\u001b[38;5;124m\"\u001b[39m\u001b[38;5;124msimInstanceId\u001b[39m\u001b[38;5;124m\"\u001b[39m],\n\u001b[1;32m    100\u001b[0m     )\n\u001b[1;32m    101\u001b[0m     \u001b[38;5;28;01mfor\u001b[39;00m p \u001b[38;5;129;01min\u001b[39;00m node_paths\n\u001b[1;32m    102\u001b[0m ]\n\u001b[1;32m    103\u001b[0m \u001b[38;5;28;01mreturn\u001b[39;00m parsed_nodes\n",
      "\u001b[0;31mKeyError\u001b[0m: 'loss'"
     ]
    }
   ],
   "source": [
    "orig_event_frame = parse_bundle_events(experiment_path, experiment_ids, False)"
   ]
  },
  {
   "cell_type": "code",
   "execution_count": 5,
   "metadata": {},
   "outputs": [],
   "source": [
    "event_frame = orig_event_frame.copy()"
   ]
  },
  {
   "cell_type": "code",
   "execution_count": 6,
   "metadata": {},
   "outputs": [],
   "source": [
    "event_frame = event_frame.replace(\"IBRDTN\", \"IBR-DTN\")\n",
    "event_frame = event_frame.replace(\"DTN7NG\", \"DTN7-ng\")\n",
    "event_frame = event_frame.replace(\"DTN7Rs\", \"DTN7-rs\")\n",
    "\n",
    "\n",
    "event_frame = event_frame.replace(\"mtcp\", \"MTCP\")\n",
    "event_frame = event_frame.replace(\"http\", \"HTTP\")\n",
    "event_frame = event_frame.replace(\"tcp\", \"TCPCL\")\n",
    "event_frame = event_frame.replace(\"quicl\", \"QUICL\")\n",
    "\n",
    "event_frame = event_frame.rename(columns={\"Payload Size\": \"Bundle Size\"})\n",
    "event_frame = event_frame.rename(columns={\"# Payloads\": \"# Bundles\"})\n",
    "\n",
    "event_frame[\"Software/CLP\"] = event_frame['Software'] + \"/\" + event_frame['CLA']\n",
    "\n",
    "event_frame = event_frame.replace(\"Serval/default\", \"Serval\")\n",
    "\n",
    "event_frame[\"Bundle Size\"] = event_frame[\"Bundle Size\"].replace(1000, \"1 kB\")\n",
    "event_frame[\"Bundle Size\"] = event_frame[\"Bundle Size\"].replace(100000, \"100 kB\")\n",
    "event_frame[\"Bundle Size\"] = event_frame[\"Bundle Size\"].replace(1000000, \"1 MB\")"
   ]
  },
  {
   "cell_type": "code",
   "execution_count": 7,
   "metadata": {},
   "outputs": [],
   "source": [
    "creation_instances = event_frame[event_frame.Event == \"creation\"].groupby(\"Simulation ID\")\n",
    "delivery_instances = event_frame[event_frame.Event == \"delivery\"]"
   ]
  },
  {
   "cell_type": "code",
   "execution_count": 8,
   "metadata": {},
   "outputs": [
    {
     "name": "stderr",
     "output_type": "stream",
     "text": [
      "0it [00:00, ?it/s]\n"
     ]
    }
   ],
   "source": [
    "delivered_list = []\n",
    "runtime_list = []\n",
    "for sim_instance_id, creations in tqdm(creation_instances):\n",
    "    deliveries_sid = delivery_instances[delivery_instances[\"Simulation ID\"] == sim_instance_id]\n",
    "    \n",
    "    for _, row in creations.iterrows():\n",
    "        # Compute deliverys\n",
    "        bundle = row.Bundle\n",
    "        deliveries = deliveries_sid[deliveries_sid.Bundle == bundle]\n",
    "\n",
    "        was_delivered = not deliveries.empty\n",
    "\n",
    "        row_dict = {\n",
    "            \"Simulation ID\": sim_instance_id,\n",
    "            \"Bundle\": bundle,\n",
    "            \"Delivered\": was_delivered,\n",
    "            \"CLA\": row.CLA,\n",
    "            \"Software/CLP\": row[\"Software/CLP\"],\n",
    "            \"Loss\": row.Loss,\n",
    "            \"Bundle Size\": row[\"Bundle Size\"],\n",
    "            \"Software\": row.Software,\n",
    "            \"# Nodes\": row[\"# Nodes\"],\n",
    "            \"# Bundles\": row[\"# Bundles\"],\n",
    "        }\n",
    "        delivered_list.append(row_dict)        \n",
    "        \n",
    "        # Compute runtimes\n",
    "        if was_delivered:\n",
    "            delivery_time = deliveries[\"Timestamp\"].min()\n",
    "            creation_time = row[\"Timestamp\"]\n",
    "            runtime = delivery_time - creation_time\n",
    "            \n",
    "            runtime_dict = {\n",
    "                \"Simulation ID\": sim_instance_id,\n",
    "                \"Bundle\": bundle,\n",
    "                \"Runtime\": (runtime.to_pytimedelta() / timedelta(milliseconds=1)) / 1000,\n",
    "                \"CLA\": row.CLA,\n",
    "                \"Software/CLP\": row[\"Software/CLP\"],\n",
    "                \"Loss\": row.Loss,\n",
    "                \"Software\": row.Software,\n",
    "                \"# Nodes\": row[\"# Nodes\"],\n",
    "                \"Bundle Size\": row[\"Bundle Size\"],\n",
    "                \"# Bundles\": row[\"# Bundles\"],\n",
    "            }\n",
    "            runtime_list.append(runtime_dict)\n",
    "        \n",
    "delivered_df = pd.DataFrame(delivered_list)\n",
    "runtime_df = pd.DataFrame(runtime_list)"
   ]
  },
  {
   "cell_type": "code",
   "execution_count": 9,
   "metadata": {},
   "outputs": [
    {
     "ename": "KeyError",
     "evalue": "'Simulation ID'",
     "output_type": "error",
     "traceback": [
      "\u001b[0;31m---------------------------------------------------------------------------\u001b[0m",
      "\u001b[0;31mKeyError\u001b[0m                                  Traceback (most recent call last)",
      "Cell \u001b[0;32mIn[9], line 3\u001b[0m\n\u001b[1;32m      1\u001b[0m row_dicts \u001b[38;5;241m=\u001b[39m []\n\u001b[0;32m----> 3\u001b[0m \u001b[38;5;28;01mfor\u001b[39;00m sim_instance_id, bundles \u001b[38;5;129;01min\u001b[39;00m \u001b[43mdelivered_df\u001b[49m\u001b[38;5;241;43m.\u001b[39;49m\u001b[43mgroupby\u001b[49m\u001b[43m(\u001b[49m\u001b[38;5;124;43m\"\u001b[39;49m\u001b[38;5;124;43mSimulation ID\u001b[39;49m\u001b[38;5;124;43m\"\u001b[39;49m\u001b[43m)\u001b[49m:\n\u001b[1;32m      4\u001b[0m     cla \u001b[38;5;241m=\u001b[39m bundles[\u001b[38;5;124m\"\u001b[39m\u001b[38;5;124mCLA\u001b[39m\u001b[38;5;124m\"\u001b[39m]\u001b[38;5;241m.\u001b[39mvalues[\u001b[38;5;241m0\u001b[39m]\n\u001b[1;32m      5\u001b[0m     software_clp \u001b[38;5;241m=\u001b[39m bundles[\u001b[38;5;124m\"\u001b[39m\u001b[38;5;124mSoftware/CLP\u001b[39m\u001b[38;5;124m\"\u001b[39m]\u001b[38;5;241m.\u001b[39mvalues[\u001b[38;5;241m0\u001b[39m]\n",
      "File \u001b[0;32m~/maci-docker-compose/maci_data/venv/lib/python3.8/site-packages/pandas/core/frame.py:8402\u001b[0m, in \u001b[0;36mDataFrame.groupby\u001b[0;34m(self, by, axis, level, as_index, sort, group_keys, squeeze, observed, dropna)\u001b[0m\n\u001b[1;32m   8399\u001b[0m     \u001b[38;5;28;01mraise\u001b[39;00m \u001b[38;5;167;01mTypeError\u001b[39;00m(\u001b[38;5;124m\"\u001b[39m\u001b[38;5;124mYou have to supply one of \u001b[39m\u001b[38;5;124m'\u001b[39m\u001b[38;5;124mby\u001b[39m\u001b[38;5;124m'\u001b[39m\u001b[38;5;124m and \u001b[39m\u001b[38;5;124m'\u001b[39m\u001b[38;5;124mlevel\u001b[39m\u001b[38;5;124m'\u001b[39m\u001b[38;5;124m\"\u001b[39m)\n\u001b[1;32m   8400\u001b[0m axis \u001b[38;5;241m=\u001b[39m \u001b[38;5;28mself\u001b[39m\u001b[38;5;241m.\u001b[39m_get_axis_number(axis)\n\u001b[0;32m-> 8402\u001b[0m \u001b[38;5;28;01mreturn\u001b[39;00m \u001b[43mDataFrameGroupBy\u001b[49m\u001b[43m(\u001b[49m\n\u001b[1;32m   8403\u001b[0m \u001b[43m    \u001b[49m\u001b[43mobj\u001b[49m\u001b[38;5;241;43m=\u001b[39;49m\u001b[38;5;28;43mself\u001b[39;49m\u001b[43m,\u001b[49m\n\u001b[1;32m   8404\u001b[0m \u001b[43m    \u001b[49m\u001b[43mkeys\u001b[49m\u001b[38;5;241;43m=\u001b[39;49m\u001b[43mby\u001b[49m\u001b[43m,\u001b[49m\n\u001b[1;32m   8405\u001b[0m \u001b[43m    \u001b[49m\u001b[43maxis\u001b[49m\u001b[38;5;241;43m=\u001b[39;49m\u001b[43maxis\u001b[49m\u001b[43m,\u001b[49m\n\u001b[1;32m   8406\u001b[0m \u001b[43m    \u001b[49m\u001b[43mlevel\u001b[49m\u001b[38;5;241;43m=\u001b[39;49m\u001b[43mlevel\u001b[49m\u001b[43m,\u001b[49m\n\u001b[1;32m   8407\u001b[0m \u001b[43m    \u001b[49m\u001b[43mas_index\u001b[49m\u001b[38;5;241;43m=\u001b[39;49m\u001b[43mas_index\u001b[49m\u001b[43m,\u001b[49m\n\u001b[1;32m   8408\u001b[0m \u001b[43m    \u001b[49m\u001b[43msort\u001b[49m\u001b[38;5;241;43m=\u001b[39;49m\u001b[43msort\u001b[49m\u001b[43m,\u001b[49m\n\u001b[1;32m   8409\u001b[0m \u001b[43m    \u001b[49m\u001b[43mgroup_keys\u001b[49m\u001b[38;5;241;43m=\u001b[39;49m\u001b[43mgroup_keys\u001b[49m\u001b[43m,\u001b[49m\n\u001b[1;32m   8410\u001b[0m \u001b[43m    \u001b[49m\u001b[43msqueeze\u001b[49m\u001b[38;5;241;43m=\u001b[39;49m\u001b[43msqueeze\u001b[49m\u001b[43m,\u001b[49m\n\u001b[1;32m   8411\u001b[0m \u001b[43m    \u001b[49m\u001b[43mobserved\u001b[49m\u001b[38;5;241;43m=\u001b[39;49m\u001b[43mobserved\u001b[49m\u001b[43m,\u001b[49m\n\u001b[1;32m   8412\u001b[0m \u001b[43m    \u001b[49m\u001b[43mdropna\u001b[49m\u001b[38;5;241;43m=\u001b[39;49m\u001b[43mdropna\u001b[49m\u001b[43m,\u001b[49m\n\u001b[1;32m   8413\u001b[0m \u001b[43m\u001b[49m\u001b[43m)\u001b[49m\n",
      "File \u001b[0;32m~/maci-docker-compose/maci_data/venv/lib/python3.8/site-packages/pandas/core/groupby/groupby.py:965\u001b[0m, in \u001b[0;36mGroupBy.__init__\u001b[0;34m(self, obj, keys, axis, level, grouper, exclusions, selection, as_index, sort, group_keys, squeeze, observed, mutated, dropna)\u001b[0m\n\u001b[1;32m    962\u001b[0m \u001b[38;5;28;01mif\u001b[39;00m grouper \u001b[38;5;129;01mis\u001b[39;00m \u001b[38;5;28;01mNone\u001b[39;00m:\n\u001b[1;32m    963\u001b[0m     \u001b[38;5;28;01mfrom\u001b[39;00m \u001b[38;5;21;01mpandas\u001b[39;00m\u001b[38;5;21;01m.\u001b[39;00m\u001b[38;5;21;01mcore\u001b[39;00m\u001b[38;5;21;01m.\u001b[39;00m\u001b[38;5;21;01mgroupby\u001b[39;00m\u001b[38;5;21;01m.\u001b[39;00m\u001b[38;5;21;01mgrouper\u001b[39;00m \u001b[38;5;28;01mimport\u001b[39;00m get_grouper\n\u001b[0;32m--> 965\u001b[0m     grouper, exclusions, obj \u001b[38;5;241m=\u001b[39m \u001b[43mget_grouper\u001b[49m\u001b[43m(\u001b[49m\n\u001b[1;32m    966\u001b[0m \u001b[43m        \u001b[49m\u001b[43mobj\u001b[49m\u001b[43m,\u001b[49m\n\u001b[1;32m    967\u001b[0m \u001b[43m        \u001b[49m\u001b[43mkeys\u001b[49m\u001b[43m,\u001b[49m\n\u001b[1;32m    968\u001b[0m \u001b[43m        \u001b[49m\u001b[43maxis\u001b[49m\u001b[38;5;241;43m=\u001b[39;49m\u001b[43maxis\u001b[49m\u001b[43m,\u001b[49m\n\u001b[1;32m    969\u001b[0m \u001b[43m        \u001b[49m\u001b[43mlevel\u001b[49m\u001b[38;5;241;43m=\u001b[39;49m\u001b[43mlevel\u001b[49m\u001b[43m,\u001b[49m\n\u001b[1;32m    970\u001b[0m \u001b[43m        \u001b[49m\u001b[43msort\u001b[49m\u001b[38;5;241;43m=\u001b[39;49m\u001b[43msort\u001b[49m\u001b[43m,\u001b[49m\n\u001b[1;32m    971\u001b[0m \u001b[43m        \u001b[49m\u001b[43mobserved\u001b[49m\u001b[38;5;241;43m=\u001b[39;49m\u001b[43mobserved\u001b[49m\u001b[43m,\u001b[49m\n\u001b[1;32m    972\u001b[0m \u001b[43m        \u001b[49m\u001b[43mmutated\u001b[49m\u001b[38;5;241;43m=\u001b[39;49m\u001b[38;5;28;43mself\u001b[39;49m\u001b[38;5;241;43m.\u001b[39;49m\u001b[43mmutated\u001b[49m\u001b[43m,\u001b[49m\n\u001b[1;32m    973\u001b[0m \u001b[43m        \u001b[49m\u001b[43mdropna\u001b[49m\u001b[38;5;241;43m=\u001b[39;49m\u001b[38;5;28;43mself\u001b[39;49m\u001b[38;5;241;43m.\u001b[39;49m\u001b[43mdropna\u001b[49m\u001b[43m,\u001b[49m\n\u001b[1;32m    974\u001b[0m \u001b[43m    \u001b[49m\u001b[43m)\u001b[49m\n\u001b[1;32m    976\u001b[0m \u001b[38;5;28mself\u001b[39m\u001b[38;5;241m.\u001b[39mobj \u001b[38;5;241m=\u001b[39m obj\n\u001b[1;32m    977\u001b[0m \u001b[38;5;28mself\u001b[39m\u001b[38;5;241m.\u001b[39maxis \u001b[38;5;241m=\u001b[39m obj\u001b[38;5;241m.\u001b[39m_get_axis_number(axis)\n",
      "File \u001b[0;32m~/maci-docker-compose/maci_data/venv/lib/python3.8/site-packages/pandas/core/groupby/grouper.py:888\u001b[0m, in \u001b[0;36mget_grouper\u001b[0;34m(obj, key, axis, level, sort, observed, mutated, validate, dropna)\u001b[0m\n\u001b[1;32m    886\u001b[0m         in_axis, level, gpr \u001b[38;5;241m=\u001b[39m \u001b[38;5;28;01mFalse\u001b[39;00m, gpr, \u001b[38;5;28;01mNone\u001b[39;00m\n\u001b[1;32m    887\u001b[0m     \u001b[38;5;28;01melse\u001b[39;00m:\n\u001b[0;32m--> 888\u001b[0m         \u001b[38;5;28;01mraise\u001b[39;00m \u001b[38;5;167;01mKeyError\u001b[39;00m(gpr)\n\u001b[1;32m    889\u001b[0m \u001b[38;5;28;01melif\u001b[39;00m \u001b[38;5;28misinstance\u001b[39m(gpr, Grouper) \u001b[38;5;129;01mand\u001b[39;00m gpr\u001b[38;5;241m.\u001b[39mkey \u001b[38;5;129;01mis\u001b[39;00m \u001b[38;5;129;01mnot\u001b[39;00m \u001b[38;5;28;01mNone\u001b[39;00m:\n\u001b[1;32m    890\u001b[0m     \u001b[38;5;66;03m# Add key to exclusions\u001b[39;00m\n\u001b[1;32m    891\u001b[0m     exclusions\u001b[38;5;241m.\u001b[39madd(gpr\u001b[38;5;241m.\u001b[39mkey)\n",
      "\u001b[0;31mKeyError\u001b[0m: 'Simulation ID'"
     ]
    }
   ],
   "source": [
    "row_dicts = []\n",
    "\n",
    "for sim_instance_id, bundles in delivered_df.groupby(\"Simulation ID\"):\n",
    "    cla = bundles[\"CLA\"].values[0]\n",
    "    software_clp = bundles[\"Software/CLP\"].values[0]\n",
    "    loss = bundles[\"Loss\"].values[0]\n",
    "    software = bundles[\"Software\"].values[0]\n",
    "    nodes = bundles[\"# Nodes\"].values[0]\n",
    "    payload_size = bundles[\"Bundle Size\"].values[0]\n",
    "    payloads = bundles[\"# Bundles\"].values[0]\n",
    "    \n",
    "    total_bundles =  payloads\n",
    "    delivered_bundles = len(bundles[bundles.Delivered == True].index)\n",
    "    \n",
    "    row_dict = {\n",
    "        \"Simulation ID\": sim_instance_id,\n",
    "        \"Delivered (%)\": (float(delivered_bundles) / float(total_bundles)) * 100,\n",
    "        \"CLA\": cla,\n",
    "        \"Software/CLP\": software_clp,\n",
    "        \"Loss\": loss,\n",
    "        \"Software\": software,\n",
    "        \"# Nodes\": nodes,\n",
    "        \"Bundle Size\": payload_size,\n",
    "        \"# Bundles\": payloads,\n",
    "    }\n",
    "    \n",
    "    row_dicts.append(row_dict)\n",
    "\n",
    "ratio_df = pd.DataFrame.from_dict(row_dicts)"
   ]
  },
  {
   "cell_type": "code",
   "execution_count": 10,
   "metadata": {},
   "outputs": [
    {
     "ename": "KeyError",
     "evalue": "'# Nodes'",
     "output_type": "error",
     "traceback": [
      "\u001b[0;31m---------------------------------------------------------------------------\u001b[0m",
      "\u001b[0;31mKeyError\u001b[0m                                  Traceback (most recent call last)",
      "File \u001b[0;32m~/maci-docker-compose/maci_data/venv/lib/python3.8/site-packages/pandas/core/indexes/base.py:3802\u001b[0m, in \u001b[0;36mIndex.get_loc\u001b[0;34m(self, key, method, tolerance)\u001b[0m\n\u001b[1;32m   3801\u001b[0m \u001b[38;5;28;01mtry\u001b[39;00m:\n\u001b[0;32m-> 3802\u001b[0m     \u001b[38;5;28;01mreturn\u001b[39;00m \u001b[38;5;28;43mself\u001b[39;49m\u001b[38;5;241;43m.\u001b[39;49m\u001b[43m_engine\u001b[49m\u001b[38;5;241;43m.\u001b[39;49m\u001b[43mget_loc\u001b[49m\u001b[43m(\u001b[49m\u001b[43mcasted_key\u001b[49m\u001b[43m)\u001b[49m\n\u001b[1;32m   3803\u001b[0m \u001b[38;5;28;01mexcept\u001b[39;00m \u001b[38;5;167;01mKeyError\u001b[39;00m \u001b[38;5;28;01mas\u001b[39;00m err:\n",
      "File \u001b[0;32m~/maci-docker-compose/maci_data/venv/lib/python3.8/site-packages/pandas/_libs/index.pyx:138\u001b[0m, in \u001b[0;36mpandas._libs.index.IndexEngine.get_loc\u001b[0;34m()\u001b[0m\n",
      "File \u001b[0;32m~/maci-docker-compose/maci_data/venv/lib/python3.8/site-packages/pandas/_libs/index.pyx:165\u001b[0m, in \u001b[0;36mpandas._libs.index.IndexEngine.get_loc\u001b[0;34m()\u001b[0m\n",
      "File \u001b[0;32mpandas/_libs/hashtable_class_helper.pxi:5745\u001b[0m, in \u001b[0;36mpandas._libs.hashtable.PyObjectHashTable.get_item\u001b[0;34m()\u001b[0m\n",
      "File \u001b[0;32mpandas/_libs/hashtable_class_helper.pxi:5753\u001b[0m, in \u001b[0;36mpandas._libs.hashtable.PyObjectHashTable.get_item\u001b[0;34m()\u001b[0m\n",
      "\u001b[0;31mKeyError\u001b[0m: '# Nodes'",
      "\nThe above exception was the direct cause of the following exception:\n",
      "\u001b[0;31mKeyError\u001b[0m                                  Traceback (most recent call last)",
      "Cell \u001b[0;32mIn[10], line 2\u001b[0m\n\u001b[1;32m      1\u001b[0m fig \u001b[38;5;241m=\u001b[39m px\u001b[38;5;241m.\u001b[39mbox(\n\u001b[0;32m----> 2\u001b[0m     runtime_df[\u001b[43mruntime_df\u001b[49m\u001b[43m[\u001b[49m\u001b[38;5;124;43m\"\u001b[39;49m\u001b[38;5;124;43m# Nodes\u001b[39;49m\u001b[38;5;124;43m\"\u001b[39;49m\u001b[43m]\u001b[49m \u001b[38;5;241m==\u001b[39m \u001b[38;5;241m2\u001b[39m],\n\u001b[1;32m      3\u001b[0m     x\u001b[38;5;241m=\u001b[39m\u001b[38;5;124m\"\u001b[39m\u001b[38;5;124mSoftware/CLP\u001b[39m\u001b[38;5;124m\"\u001b[39m, \n\u001b[1;32m      4\u001b[0m     y\u001b[38;5;241m=\u001b[39m\u001b[38;5;124m\"\u001b[39m\u001b[38;5;124mRuntime\u001b[39m\u001b[38;5;124m\"\u001b[39m,\n\u001b[1;32m      5\u001b[0m     color\u001b[38;5;241m=\u001b[39m\u001b[38;5;124m\"\u001b[39m\u001b[38;5;124mLoss\u001b[39m\u001b[38;5;124m\"\u001b[39m,\n\u001b[1;32m      6\u001b[0m     facet_col\u001b[38;5;241m=\u001b[39m\u001b[38;5;124m\"\u001b[39m\u001b[38;5;124m# Bundles\u001b[39m\u001b[38;5;124m\"\u001b[39m,\n\u001b[1;32m      7\u001b[0m     facet_row\u001b[38;5;241m=\u001b[39m\u001b[38;5;124m\"\u001b[39m\u001b[38;5;124mBundle Size\u001b[39m\u001b[38;5;124m\"\u001b[39m,\n\u001b[1;32m      8\u001b[0m     labels\u001b[38;5;241m=\u001b[39m{\n\u001b[1;32m      9\u001b[0m         \u001b[38;5;124m\"\u001b[39m\u001b[38;5;124mRuntime\u001b[39m\u001b[38;5;124m\"\u001b[39m: \u001b[38;5;124m\"\u001b[39m\u001b[38;5;124m\"\u001b[39m,\n\u001b[1;32m     10\u001b[0m         \u001b[38;5;124m\"\u001b[39m\u001b[38;5;124mLoss\u001b[39m\u001b[38;5;124m\"\u001b[39m: \u001b[38;5;124m\"\u001b[39m\u001b[38;5;124mLoss (\u001b[39m\u001b[38;5;124m%\u001b[39m\u001b[38;5;124m)\u001b[39m\u001b[38;5;124m\"\u001b[39m,\n\u001b[1;32m     11\u001b[0m         \u001b[38;5;124m\"\u001b[39m\u001b[38;5;124m# Bundles\u001b[39m\u001b[38;5;124m\"\u001b[39m: \u001b[38;5;124m\"\u001b[39m\u001b[38;5;124mBundles\u001b[39m\u001b[38;5;124m\"\u001b[39m\n\u001b[1;32m     12\u001b[0m     },\n\u001b[1;32m     13\u001b[0m     category_orders\u001b[38;5;241m=\u001b[39m{\n\u001b[1;32m     14\u001b[0m         \u001b[38;5;124m\"\u001b[39m\u001b[38;5;124mLoss\u001b[39m\u001b[38;5;124m\"\u001b[39m: [\u001b[38;5;241m0\u001b[39m, \u001b[38;5;241m10\u001b[39m, \u001b[38;5;241m30\u001b[39m],\n\u001b[1;32m     15\u001b[0m         \u001b[38;5;124m\"\u001b[39m\u001b[38;5;124mBundle Size\u001b[39m\u001b[38;5;124m\"\u001b[39m: [\u001b[38;5;124m\"\u001b[39m\u001b[38;5;124m1 kB\u001b[39m\u001b[38;5;124m\"\u001b[39m, \u001b[38;5;124m\"\u001b[39m\u001b[38;5;124m100 kB\u001b[39m\u001b[38;5;124m\"\u001b[39m, \u001b[38;5;124m\"\u001b[39m\u001b[38;5;124m1 MB\u001b[39m\u001b[38;5;124m\"\u001b[39m],\n\u001b[1;32m     16\u001b[0m         \u001b[38;5;124m\"\u001b[39m\u001b[38;5;124mSoftware/CLP\u001b[39m\u001b[38;5;124m\"\u001b[39m: [\u001b[38;5;124m\"\u001b[39m\u001b[38;5;124mServal\u001b[39m\u001b[38;5;124m\"\u001b[39m, \u001b[38;5;124m\"\u001b[39m\u001b[38;5;124mIBR-DTN/TCPCL\u001b[39m\u001b[38;5;124m\"\u001b[39m, \u001b[38;5;124m\"\u001b[39m\u001b[38;5;124mDTN7-rs/MTCP\u001b[39m\u001b[38;5;124m\"\u001b[39m, \u001b[38;5;124m\"\u001b[39m\u001b[38;5;124mDTN7-rs/TCPCL\u001b[39m\u001b[38;5;124m\"\u001b[39m, \u001b[38;5;124m\"\u001b[39m\u001b[38;5;124mDTN7-rs/HTTP\u001b[39m\u001b[38;5;124m\"\u001b[39m, \u001b[38;5;124m\"\u001b[39m\u001b[38;5;124mDTN7-ng/MTCP\u001b[39m\u001b[38;5;124m\"\u001b[39m, \u001b[38;5;124m\"\u001b[39m\u001b[38;5;124mDTN7-ng/QUICL\u001b[39m\u001b[38;5;124m\"\u001b[39m],\n\u001b[1;32m     17\u001b[0m         \u001b[38;5;124m\"\u001b[39m\u001b[38;5;124m# Bundles\u001b[39m\u001b[38;5;124m\"\u001b[39m: [\u001b[38;5;241m10\u001b[39m, \u001b[38;5;241m100\u001b[39m]\n\u001b[1;32m     18\u001b[0m     },\n\u001b[1;32m     19\u001b[0m )\n\u001b[1;32m     21\u001b[0m fig\u001b[38;5;241m.\u001b[39mfor_each_annotation(\u001b[38;5;28;01mlambda\u001b[39;00m a: a\u001b[38;5;241m.\u001b[39mupdate(text\u001b[38;5;241m=\u001b[39ma\u001b[38;5;241m.\u001b[39mtext\u001b[38;5;241m.\u001b[39mreplace(\u001b[38;5;124m\"\u001b[39m\u001b[38;5;124m=\u001b[39m\u001b[38;5;124m\"\u001b[39m, \u001b[38;5;124m\"\u001b[39m\u001b[38;5;124m: \u001b[39m\u001b[38;5;124m\"\u001b[39m)))\n\u001b[1;32m     22\u001b[0m fig\u001b[38;5;241m.\u001b[39mfor_each_annotation(\u001b[38;5;28;01mlambda\u001b[39;00m a: a\u001b[38;5;241m.\u001b[39mupdate(text\u001b[38;5;241m=\u001b[39ma\u001b[38;5;241m.\u001b[39mtext\u001b[38;5;241m.\u001b[39mreplace(\u001b[38;5;124m\"\u001b[39m\u001b[38;5;124mBundle Size: \u001b[39m\u001b[38;5;124m\"\u001b[39m, \u001b[38;5;124m\"\u001b[39m\u001b[38;5;124m\"\u001b[39m)))\n",
      "File \u001b[0;32m~/maci-docker-compose/maci_data/venv/lib/python3.8/site-packages/pandas/core/frame.py:3807\u001b[0m, in \u001b[0;36mDataFrame.__getitem__\u001b[0;34m(self, key)\u001b[0m\n\u001b[1;32m   3805\u001b[0m \u001b[38;5;28;01mif\u001b[39;00m \u001b[38;5;28mself\u001b[39m\u001b[38;5;241m.\u001b[39mcolumns\u001b[38;5;241m.\u001b[39mnlevels \u001b[38;5;241m>\u001b[39m \u001b[38;5;241m1\u001b[39m:\n\u001b[1;32m   3806\u001b[0m     \u001b[38;5;28;01mreturn\u001b[39;00m \u001b[38;5;28mself\u001b[39m\u001b[38;5;241m.\u001b[39m_getitem_multilevel(key)\n\u001b[0;32m-> 3807\u001b[0m indexer \u001b[38;5;241m=\u001b[39m \u001b[38;5;28;43mself\u001b[39;49m\u001b[38;5;241;43m.\u001b[39;49m\u001b[43mcolumns\u001b[49m\u001b[38;5;241;43m.\u001b[39;49m\u001b[43mget_loc\u001b[49m\u001b[43m(\u001b[49m\u001b[43mkey\u001b[49m\u001b[43m)\u001b[49m\n\u001b[1;32m   3808\u001b[0m \u001b[38;5;28;01mif\u001b[39;00m is_integer(indexer):\n\u001b[1;32m   3809\u001b[0m     indexer \u001b[38;5;241m=\u001b[39m [indexer]\n",
      "File \u001b[0;32m~/maci-docker-compose/maci_data/venv/lib/python3.8/site-packages/pandas/core/indexes/base.py:3804\u001b[0m, in \u001b[0;36mIndex.get_loc\u001b[0;34m(self, key, method, tolerance)\u001b[0m\n\u001b[1;32m   3802\u001b[0m     \u001b[38;5;28;01mreturn\u001b[39;00m \u001b[38;5;28mself\u001b[39m\u001b[38;5;241m.\u001b[39m_engine\u001b[38;5;241m.\u001b[39mget_loc(casted_key)\n\u001b[1;32m   3803\u001b[0m \u001b[38;5;28;01mexcept\u001b[39;00m \u001b[38;5;167;01mKeyError\u001b[39;00m \u001b[38;5;28;01mas\u001b[39;00m err:\n\u001b[0;32m-> 3804\u001b[0m     \u001b[38;5;28;01mraise\u001b[39;00m \u001b[38;5;167;01mKeyError\u001b[39;00m(key) \u001b[38;5;28;01mfrom\u001b[39;00m \u001b[38;5;21;01merr\u001b[39;00m\n\u001b[1;32m   3805\u001b[0m \u001b[38;5;28;01mexcept\u001b[39;00m \u001b[38;5;167;01mTypeError\u001b[39;00m:\n\u001b[1;32m   3806\u001b[0m     \u001b[38;5;66;03m# If we have a listlike key, _check_indexing_error will raise\u001b[39;00m\n\u001b[1;32m   3807\u001b[0m     \u001b[38;5;66;03m#  InvalidIndexError. Otherwise we fall through and re-raise\u001b[39;00m\n\u001b[1;32m   3808\u001b[0m     \u001b[38;5;66;03m#  the TypeError.\u001b[39;00m\n\u001b[1;32m   3809\u001b[0m     \u001b[38;5;28mself\u001b[39m\u001b[38;5;241m.\u001b[39m_check_indexing_error(key)\n",
      "\u001b[0;31mKeyError\u001b[0m: '# Nodes'"
     ]
    }
   ],
   "source": [
    "fig = px.box(\n",
    "    runtime_df[runtime_df[\"# Nodes\"] == 2],\n",
    "    x=\"Software/CLP\", \n",
    "    y=\"Runtime\",\n",
    "    color=\"Loss\",\n",
    "    facet_col=\"# Bundles\",\n",
    "    facet_row=\"Bundle Size\",\n",
    "    labels={\n",
    "        \"Runtime\": \"\",\n",
    "        \"Loss\": \"Loss (%)\",\n",
    "        \"# Bundles\": \"Bundles\"\n",
    "    },\n",
    "    category_orders={\n",
    "        \"Loss\": [0, 10, 30],\n",
    "        \"Bundle Size\": [\"1 kB\", \"100 kB\", \"1 MB\"],\n",
    "        \"Software/CLP\": [\"Serval\", \"IBR-DTN/TCPCL\", \"DTN7-rs/MTCP\", \"DTN7-rs/TCPCL\", \"DTN7-rs/HTTP\", \"DTN7-ng/MTCP\", \"DTN7-ng/QUICL\"],\n",
    "        \"# Bundles\": [10, 100]\n",
    "    },\n",
    ")\n",
    "\n",
    "fig.for_each_annotation(lambda a: a.update(text=a.text.replace(\"=\", \": \")))\n",
    "fig.for_each_annotation(lambda a: a.update(text=a.text.replace(\"Bundle Size: \", \"\")))\n",
    "\n",
    "fig.add_annotation(x=-0.05, y=0.35,\n",
    "                   text=\"Runtime (s)\",\n",
    "                   textangle=-90,\n",
    "                   xref=\"paper\",\n",
    "                   yref=\"paper\",\n",
    "                   font=dict(size=14)\n",
    "                   )\n",
    "\n",
    "fig.update_layout(\n",
    "    margin=dict(l=0, r=0, t=20, b=0),\n",
    ")\n",
    "\n",
    "fig.write_image(\"runtime_2.pdf\", width=700, height=300)\n",
    "fig"
   ]
  },
  {
   "cell_type": "code",
   "execution_count": 10,
   "metadata": {},
   "outputs": [
    {
     "data": {
      "application/vnd.plotly.v1+json": {
       "config": {
        "plotlyServerURL": "https://plot.ly"
       },
       "data": [
        {
         "alignmentgroup": "True",
         "hovertemplate": "Loss (%)=0<br>Bundle Size=1 kB<br>Bundles=10<br>Software/CLP=%{x}<br>=%{y}<extra></extra>",
         "legendgroup": "0",
         "marker": {
          "color": "#636efa"
         },
         "name": "0",
         "notched": false,
         "offsetgroup": "0",
         "orientation": "v",
         "showlegend": true,
         "type": "box",
         "x": [
          "DTN7-ng/MTCP",
          "DTN7-ng/MTCP",
          "DTN7-ng/MTCP",
          "DTN7-ng/MTCP",
          "DTN7-ng/MTCP",
          "DTN7-ng/MTCP",
          "DTN7-ng/MTCP",
          "DTN7-ng/MTCP",
          "DTN7-ng/MTCP",
          "DTN7-ng/MTCP",
          "DTN7-ng/MTCP",
          "DTN7-ng/MTCP",
          "DTN7-ng/MTCP",
          "DTN7-ng/MTCP",
          "DTN7-ng/MTCP",
          "DTN7-ng/MTCP",
          "DTN7-ng/MTCP",
          "DTN7-ng/MTCP",
          "DTN7-ng/MTCP",
          "DTN7-ng/MTCP",
          "DTN7-ng/MTCP",
          "DTN7-ng/MTCP",
          "DTN7-ng/MTCP",
          "DTN7-ng/MTCP",
          "DTN7-ng/MTCP",
          "DTN7-ng/MTCP",
          "DTN7-ng/MTCP",
          "DTN7-ng/MTCP",
          "DTN7-ng/QUICL",
          "DTN7-ng/QUICL",
          "DTN7-ng/QUICL",
          "DTN7-ng/QUICL",
          "DTN7-ng/QUICL",
          "DTN7-ng/QUICL",
          "DTN7-ng/QUICL",
          "DTN7-ng/QUICL",
          "DTN7-ng/QUICL",
          "DTN7-ng/QUICL",
          "DTN7-ng/QUICL",
          "DTN7-ng/QUICL",
          "DTN7-ng/QUICL",
          "DTN7-ng/QUICL",
          "DTN7-ng/QUICL",
          "DTN7-ng/QUICL",
          "DTN7-ng/QUICL",
          "DTN7-ng/QUICL",
          "DTN7-ng/QUICL",
          "DTN7-ng/QUICL",
          "DTN7-ng/QUICL",
          "DTN7-ng/QUICL",
          "DTN7-ng/QUICL",
          "DTN7-ng/QUICL",
          "DTN7-ng/QUICL",
          "DTN7-ng/QUICL",
          "DTN7-ng/QUICL",
          "DTN7-ng/QUICL",
          "DTN7-ng/QUICL",
          "DTN7-ng/QUICL"
         ],
         "x0": " ",
         "xaxis": "x5",
         "y": [
          28.149,
          28.145,
          28.141,
          28.14,
          28.139,
          28.138,
          28.138,
          28.132,
          28.131,
          28.122,
          27.155,
          27.151,
          27.144,
          27.143,
          27.141,
          27.137,
          27.13,
          27.137,
          27.131,
          27.127,
          24.14,
          24.136,
          24.118,
          25.128,
          25.111,
          25.12,
          26.106,
          26.114,
          18.363,
          18.355,
          18.351,
          18.347,
          18.35,
          18.344,
          18.342,
          18.339,
          18.336,
          18.331,
          16.436,
          16.436,
          16.432,
          17.435,
          17.428,
          17.432,
          17.422,
          17.426,
          17.417,
          17.412,
          17.427,
          17.417,
          17.42,
          17.416,
          17.407,
          17.409,
          17.4,
          17.41,
          17.395,
          17.396
         ],
         "y0": " ",
         "yaxis": "y5"
        },
        {
         "alignmentgroup": "True",
         "hovertemplate": "Loss (%)=0<br>Bundle Size=1 kB<br>Bundles=100<br>Software/CLP=%{x}<br>=%{y}<extra></extra>",
         "legendgroup": "0",
         "marker": {
          "color": "#636efa"
         },
         "name": "0",
         "notched": false,
         "offsetgroup": "0",
         "orientation": "v",
         "showlegend": false,
         "type": "box",
         "x": [
          "DTN7-ng/QUICL",
          "DTN7-ng/QUICL",
          "DTN7-ng/QUICL",
          "DTN7-ng/QUICL",
          "DTN7-ng/QUICL",
          "DTN7-ng/QUICL",
          "DTN7-ng/QUICL",
          "DTN7-ng/QUICL",
          "DTN7-ng/QUICL",
          "DTN7-ng/QUICL",
          "DTN7-ng/QUICL",
          "DTN7-ng/QUICL",
          "DTN7-ng/QUICL",
          "DTN7-ng/QUICL",
          "DTN7-ng/QUICL",
          "DTN7-ng/QUICL",
          "DTN7-ng/QUICL",
          "DTN7-ng/QUICL",
          "DTN7-ng/QUICL",
          "DTN7-ng/QUICL",
          "DTN7-ng/QUICL",
          "DTN7-ng/QUICL",
          "DTN7-ng/QUICL",
          "DTN7-ng/QUICL",
          "DTN7-ng/QUICL",
          "DTN7-ng/QUICL",
          "DTN7-ng/QUICL",
          "DTN7-ng/QUICL",
          "DTN7-ng/QUICL",
          "DTN7-ng/QUICL",
          "DTN7-ng/QUICL",
          "DTN7-ng/QUICL",
          "DTN7-ng/MTCP",
          "DTN7-ng/MTCP",
          "DTN7-ng/MTCP",
          "DTN7-ng/MTCP",
          "DTN7-ng/MTCP",
          "DTN7-ng/MTCP",
          "DTN7-ng/MTCP",
          "DTN7-ng/MTCP",
          "DTN7-ng/MTCP",
          "DTN7-ng/MTCP",
          "DTN7-ng/MTCP",
          "DTN7-ng/MTCP",
          "DTN7-ng/MTCP",
          "DTN7-ng/MTCP",
          "DTN7-ng/MTCP",
          "DTN7-ng/MTCP",
          "DTN7-ng/MTCP",
          "DTN7-ng/MTCP",
          "DTN7-ng/MTCP",
          "DTN7-ng/MTCP",
          "DTN7-ng/MTCP",
          "DTN7-ng/MTCP",
          "DTN7-ng/MTCP",
          "DTN7-ng/MTCP",
          "DTN7-ng/MTCP",
          "DTN7-ng/MTCP",
          "DTN7-ng/MTCP",
          "DTN7-ng/MTCP",
          "DTN7-ng/MTCP",
          "DTN7-ng/MTCP",
          "DTN7-ng/MTCP"
         ],
         "x0": " ",
         "xaxis": "x6",
         "y": [
          13.577,
          14.655,
          14.626,
          14.602,
          14.575,
          14.654,
          14.628,
          14.605,
          14.578,
          15.166,
          13.185,
          13.16,
          13.143,
          13.115,
          13.152,
          13.172,
          13.142,
          13.119,
          13.206,
          13.184,
          13.251,
          16.58,
          16.548,
          16.522,
          16.6,
          16.57,
          16.546,
          16.62,
          16.596,
          16.57,
          16.54,
          16.628,
          25.446,
          25.419,
          25.466,
          25.443,
          25.422,
          25.393,
          25.476,
          25.45,
          25.429,
          25.4,
          25.995,
          26.444,
          26.416,
          26.391,
          26.374,
          26.454,
          26.427,
          26.408,
          26.386,
          26.454,
          26.438,
          27.029,
          26.509,
          26.454,
          27.417,
          27.504,
          27.47,
          27.442,
          27.417,
          27.494,
          27.979
         ],
         "y0": " ",
         "yaxis": "y6"
        },
        {
         "alignmentgroup": "True",
         "hovertemplate": "Loss (%)=0<br>Bundle Size=100 kB<br>Bundles=10<br>Software/CLP=%{x}<br>=%{y}<extra></extra>",
         "legendgroup": "0",
         "marker": {
          "color": "#636efa"
         },
         "name": "0",
         "notched": false,
         "offsetgroup": "0",
         "orientation": "v",
         "showlegend": false,
         "type": "box",
         "x": [
          "DTN7-ng/MTCP",
          "DTN7-ng/MTCP",
          "DTN7-ng/MTCP",
          "DTN7-ng/MTCP",
          "DTN7-ng/MTCP",
          "DTN7-ng/MTCP",
          "DTN7-ng/MTCP",
          "DTN7-ng/MTCP",
          "DTN7-ng/MTCP",
          "DTN7-ng/MTCP",
          "DTN7-ng/MTCP",
          "DTN7-ng/MTCP",
          "DTN7-ng/MTCP",
          "DTN7-ng/MTCP",
          "DTN7-ng/MTCP",
          "DTN7-ng/MTCP",
          "DTN7-ng/MTCP",
          "DTN7-ng/MTCP",
          "DTN7-ng/MTCP",
          "DTN7-ng/MTCP",
          "DTN7-ng/MTCP",
          "DTN7-ng/MTCP",
          "DTN7-ng/MTCP",
          "DTN7-ng/MTCP",
          "DTN7-ng/MTCP",
          "DTN7-ng/MTCP",
          "DTN7-ng/MTCP",
          "DTN7-ng/MTCP",
          "DTN7-ng/QUICL",
          "DTN7-ng/QUICL",
          "DTN7-ng/QUICL",
          "DTN7-ng/QUICL",
          "DTN7-ng/QUICL",
          "DTN7-ng/QUICL",
          "DTN7-ng/QUICL",
          "DTN7-ng/QUICL",
          "DTN7-ng/QUICL",
          "DTN7-ng/QUICL",
          "DTN7-ng/QUICL",
          "DTN7-ng/QUICL",
          "DTN7-ng/QUICL",
          "DTN7-ng/QUICL",
          "DTN7-ng/QUICL",
          "DTN7-ng/QUICL",
          "DTN7-ng/QUICL",
          "DTN7-ng/QUICL",
          "DTN7-ng/QUICL",
          "DTN7-ng/QUICL",
          "DTN7-ng/QUICL",
          "DTN7-ng/QUICL",
          "DTN7-ng/QUICL",
          "DTN7-ng/QUICL",
          "DTN7-ng/QUICL",
          "DTN7-ng/QUICL",
          "DTN7-ng/QUICL",
          "DTN7-ng/QUICL",
          "DTN7-ng/QUICL"
         ],
         "x0": " ",
         "xaxis": "x3",
         "y": [
          29.161,
          29.169,
          29.164,
          29.162,
          29.17,
          29.174,
          28.142,
          29.133,
          29.137,
          26.166,
          26.168,
          27.161,
          27.387,
          27.396,
          27.16,
          27.183,
          27.162,
          27.158,
          29.168,
          29.166,
          29.174,
          29.171,
          29.168,
          29.18,
          29.159,
          29.147,
          29.145,
          29.186,
          17.552,
          17.555,
          17.554,
          17.547,
          17.543,
          17.538,
          17.534,
          17.535,
          17.536,
          17.526,
          18.37,
          18.359,
          18.361,
          18.354,
          18.356,
          18.358,
          18.345,
          18.344,
          18.342,
          19.363,
          19.357,
          19.363,
          19.356,
          19.359,
          19.359,
          19.351,
          19.351,
          19.353,
          19.354
         ],
         "y0": " ",
         "yaxis": "y3"
        },
        {
         "alignmentgroup": "True",
         "hovertemplate": "Loss (%)=0<br>Bundle Size=100 kB<br>Bundles=100<br>Software/CLP=%{x}<br>=%{y}<extra></extra>",
         "legendgroup": "0",
         "marker": {
          "color": "#636efa"
         },
         "name": "0",
         "notched": false,
         "offsetgroup": "0",
         "orientation": "v",
         "showlegend": false,
         "type": "box",
         "x": [
          "DTN7-ng/QUICL",
          "DTN7-ng/QUICL",
          "DTN7-ng/QUICL",
          "DTN7-ng/QUICL",
          "DTN7-ng/QUICL",
          "DTN7-ng/QUICL",
          "DTN7-ng/QUICL",
          "DTN7-ng/QUICL",
          "DTN7-ng/QUICL",
          "DTN7-ng/QUICL",
          "DTN7-ng/QUICL",
          "DTN7-ng/QUICL",
          "DTN7-ng/QUICL",
          "DTN7-ng/QUICL",
          "DTN7-ng/QUICL",
          "DTN7-ng/QUICL",
          "DTN7-ng/QUICL",
          "DTN7-ng/QUICL",
          "DTN7-ng/QUICL",
          "DTN7-ng/QUICL",
          "DTN7-ng/QUICL",
          "DTN7-ng/MTCP",
          "DTN7-ng/MTCP",
          "DTN7-ng/MTCP",
          "DTN7-ng/MTCP",
          "DTN7-ng/MTCP",
          "DTN7-ng/MTCP",
          "DTN7-ng/MTCP",
          "DTN7-ng/MTCP",
          "DTN7-ng/MTCP",
          "DTN7-ng/MTCP",
          "DTN7-ng/MTCP",
          "DTN7-ng/MTCP",
          "DTN7-ng/MTCP",
          "DTN7-ng/MTCP",
          "DTN7-ng/MTCP",
          "DTN7-ng/MTCP",
          "DTN7-ng/MTCP",
          "DTN7-ng/MTCP",
          "DTN7-ng/MTCP",
          "DTN7-ng/MTCP",
          "DTN7-ng/MTCP",
          "DTN7-ng/MTCP",
          "DTN7-ng/MTCP",
          "DTN7-ng/MTCP",
          "DTN7-ng/MTCP",
          "DTN7-ng/MTCP",
          "DTN7-ng/MTCP",
          "DTN7-ng/MTCP",
          "DTN7-ng/MTCP",
          "DTN7-ng/MTCP",
          "DTN7-ng/MTCP",
          "DTN7-ng/MTCP",
          "DTN7-ng/QUICL",
          "DTN7-ng/QUICL",
          "DTN7-ng/QUICL",
          "DTN7-ng/QUICL",
          "DTN7-ng/QUICL",
          "DTN7-ng/QUICL",
          "DTN7-ng/QUICL",
          "DTN7-ng/QUICL",
          "DTN7-ng/QUICL",
          "DTN7-ng/QUICL",
          "DTN7-ng/QUICL"
         ],
         "x0": " ",
         "xaxis": "x4",
         "y": [
          20.246,
          20.211,
          20.293,
          20.272,
          20.249,
          20.219,
          20.304,
          20.277,
          20.255,
          20.227,
          20.291,
          19.48,
          19.468,
          19.442,
          19.511,
          19.496,
          19.467,
          19.438,
          19.46,
          19.489,
          19.558,
          28.429,
          28.405,
          28.473,
          28.467,
          28.434,
          28.414,
          28.491,
          28.462,
          28.445,
          28.416,
          29.006,
          27.439,
          27.423,
          27.481,
          27.459,
          28.444,
          28.435,
          28.505,
          28.482,
          28.463,
          28.436,
          29.026,
          27.446,
          27.411,
          27.396,
          28.47,
          27.444,
          28.397,
          28.499,
          28.466,
          28.429,
          29.018,
          18.208,
          18.181,
          18.257,
          18.233,
          18.216,
          18.19,
          18.262,
          18.24,
          18.216,
          18.18,
          18.374
         ],
         "y0": " ",
         "yaxis": "y4"
        },
        {
         "alignmentgroup": "True",
         "hovertemplate": "Loss (%)=0<br>Bundle Size=1 MB<br>Bundles=10<br>Software/CLP=%{x}<br>=%{y}<extra></extra>",
         "legendgroup": "0",
         "marker": {
          "color": "#636efa"
         },
         "name": "0",
         "notched": false,
         "offsetgroup": "0",
         "orientation": "v",
         "showlegend": false,
         "type": "box",
         "x": [
          "DTN7-ng/QUICL",
          "DTN7-ng/QUICL",
          "DTN7-ng/QUICL",
          "DTN7-ng/QUICL",
          "DTN7-ng/QUICL",
          "DTN7-ng/QUICL",
          "DTN7-ng/QUICL",
          "DTN7-ng/QUICL",
          "DTN7-ng/QUICL",
          "DTN7-ng/QUICL",
          "DTN7-ng/QUICL",
          "DTN7-ng/QUICL",
          "DTN7-ng/QUICL",
          "DTN7-ng/MTCP",
          "DTN7-ng/MTCP",
          "DTN7-ng/MTCP",
          "DTN7-ng/MTCP",
          "DTN7-ng/MTCP",
          "DTN7-ng/MTCP",
          "DTN7-ng/MTCP",
          "DTN7-ng/MTCP",
          "DTN7-ng/MTCP",
          "DTN7-ng/MTCP",
          "DTN7-ng/MTCP",
          "DTN7-ng/MTCP",
          "DTN7-ng/MTCP",
          "DTN7-ng/MTCP",
          "DTN7-ng/MTCP",
          "DTN7-ng/MTCP",
          "DTN7-ng/MTCP",
          "DTN7-ng/MTCP",
          "DTN7-ng/MTCP",
          "DTN7-ng/MTCP",
          "DTN7-ng/MTCP",
          "DTN7-ng/MTCP",
          "DTN7-ng/MTCP",
          "DTN7-ng/MTCP",
          "DTN7-ng/MTCP",
          "DTN7-ng/MTCP",
          "DTN7-ng/MTCP",
          "DTN7-ng/MTCP",
          "DTN7-ng/MTCP",
          "DTN7-ng/MTCP",
          "DTN7-ng/QUICL",
          "DTN7-ng/QUICL",
          "DTN7-ng/QUICL",
          "DTN7-ng/QUICL",
          "DTN7-ng/QUICL",
          "DTN7-ng/QUICL",
          "DTN7-ng/QUICL",
          "DTN7-ng/QUICL",
          "DTN7-ng/QUICL",
          "DTN7-ng/QUICL"
         ],
         "x0": " ",
         "xaxis": "x",
         "y": [
          26.942,
          28.916,
          27.921,
          27.906,
          29.929,
          26.809,
          27.813,
          27.823,
          27.812,
          26.827,
          27.778,
          27.835,
          26.791,
          31.293,
          31.676,
          31.402,
          31.35,
          31.304,
          31.315,
          31.348,
          31.341,
          31.314,
          31.318,
          31.27,
          31.276,
          31.424,
          31.308,
          31.292,
          31.328,
          31.321,
          31.297,
          31.271,
          31.291,
          31.272,
          31.593,
          31.522,
          31.316,
          31.322,
          31.327,
          31.296,
          31.319,
          31.288,
          31.337,
          28.895,
          28.907,
          28.872,
          28.849,
          28.844,
          28.859,
          28.91,
          28.848,
          28.853,
          28.851
         ],
         "y0": " ",
         "yaxis": "y"
        },
        {
         "alignmentgroup": "True",
         "hovertemplate": "Loss (%)=0<br>Bundle Size=1 MB<br>Bundles=100<br>Software/CLP=%{x}<br>=%{y}<extra></extra>",
         "legendgroup": "0",
         "marker": {
          "color": "#636efa"
         },
         "name": "0",
         "notched": false,
         "offsetgroup": "0",
         "orientation": "v",
         "showlegend": false,
         "type": "box",
         "x": [
          "DTN7-ng/MTCP",
          "DTN7-ng/MTCP",
          "DTN7-ng/MTCP",
          "DTN7-ng/MTCP",
          "DTN7-ng/MTCP",
          "DTN7-ng/MTCP",
          "DTN7-ng/MTCP",
          "DTN7-ng/MTCP",
          "DTN7-ng/MTCP",
          "DTN7-ng/MTCP",
          "DTN7-ng/MTCP",
          "DTN7-ng/MTCP",
          "DTN7-ng/MTCP",
          "DTN7-ng/MTCP",
          "DTN7-ng/MTCP",
          "DTN7-ng/MTCP",
          "DTN7-ng/MTCP",
          "DTN7-ng/MTCP",
          "DTN7-ng/MTCP",
          "DTN7-ng/MTCP",
          "DTN7-ng/MTCP",
          "DTN7-ng/MTCP",
          "DTN7-ng/MTCP",
          "DTN7-ng/MTCP",
          "DTN7-ng/MTCP",
          "DTN7-ng/MTCP",
          "DTN7-ng/MTCP",
          "DTN7-ng/MTCP",
          "DTN7-ng/MTCP",
          "DTN7-ng/MTCP",
          "DTN7-ng/MTCP",
          "DTN7-ng/MTCP",
          "DTN7-ng/MTCP",
          "DTN7-ng/QUICL",
          "DTN7-ng/QUICL",
          "DTN7-ng/QUICL",
          "DTN7-ng/QUICL",
          "DTN7-ng/QUICL",
          "DTN7-ng/QUICL",
          "DTN7-ng/QUICL",
          "DTN7-ng/QUICL",
          "DTN7-ng/QUICL",
          "DTN7-ng/QUICL",
          "DTN7-ng/QUICL",
          "DTN7-ng/QUICL",
          "DTN7-ng/QUICL",
          "DTN7-ng/QUICL",
          "DTN7-ng/QUICL",
          "DTN7-ng/QUICL",
          "DTN7-ng/QUICL",
          "DTN7-ng/QUICL",
          "DTN7-ng/QUICL",
          "DTN7-ng/QUICL",
          "DTN7-ng/QUICL",
          "DTN7-ng/QUICL",
          "DTN7-ng/QUICL",
          "DTN7-ng/QUICL",
          "DTN7-ng/QUICL",
          "DTN7-ng/QUICL",
          "DTN7-ng/QUICL",
          "DTN7-ng/QUICL",
          "DTN7-ng/QUICL"
         ],
         "x0": " ",
         "xaxis": "x2",
         "y": [
          30.639,
          30.721,
          30.894,
          30.705,
          30.715,
          30.753,
          30.747,
          30.718,
          30.692,
          30.755,
          31.129,
          30.633,
          31.13,
          30.905,
          30.751,
          30.797,
          30.76,
          30.76,
          30.711,
          30.755,
          30.792,
          31.143,
          30.634,
          30.728,
          30.793,
          30.757,
          30.795,
          30.789,
          30.731,
          30.694,
          30.785,
          30.781,
          31.149,
          27.62,
          28.679,
          28.707,
          28.654,
          28.741,
          28.738,
          28.653,
          28.651,
          28.632,
          29.391,
          28.807,
          28.852,
          29.842,
          29.98,
          29.953,
          29.89,
          29.99,
          29.411,
          26.674,
          26.834,
          26.81,
          26.808,
          26.9,
          26.855,
          26.837,
          26.887,
          26.892,
          26.796,
          27.46
         ],
         "y0": " ",
         "yaxis": "y2"
        },
        {
         "alignmentgroup": "True",
         "hovertemplate": "Loss (%)=10<br>Bundle Size=1 kB<br>Bundles=10<br>Software/CLP=%{x}<br>=%{y}<extra></extra>",
         "legendgroup": "10",
         "marker": {
          "color": "#EF553B"
         },
         "name": "10",
         "notched": false,
         "offsetgroup": "10",
         "orientation": "v",
         "showlegend": true,
         "type": "box",
         "x": [
          "DTN7-ng/MTCP",
          "DTN7-ng/MTCP",
          "DTN7-ng/MTCP",
          "DTN7-ng/MTCP",
          "DTN7-ng/MTCP",
          "DTN7-ng/MTCP",
          "DTN7-ng/MTCP",
          "DTN7-ng/MTCP",
          "DTN7-ng/MTCP",
          "DTN7-ng/MTCP",
          "DTN7-ng/MTCP",
          "DTN7-ng/MTCP",
          "DTN7-ng/MTCP",
          "DTN7-ng/MTCP",
          "DTN7-ng/MTCP",
          "DTN7-ng/MTCP",
          "DTN7-ng/MTCP",
          "DTN7-ng/MTCP",
          "DTN7-ng/MTCP",
          "DTN7-ng/MTCP",
          "DTN7-ng/MTCP",
          "DTN7-ng/MTCP",
          "DTN7-ng/MTCP",
          "DTN7-ng/QUICL",
          "DTN7-ng/QUICL",
          "DTN7-ng/QUICL",
          "DTN7-ng/QUICL",
          "DTN7-ng/QUICL",
          "DTN7-ng/QUICL",
          "DTN7-ng/QUICL",
          "DTN7-ng/QUICL",
          "DTN7-ng/QUICL",
          "DTN7-ng/QUICL",
          "DTN7-ng/QUICL",
          "DTN7-ng/QUICL",
          "DTN7-ng/QUICL",
          "DTN7-ng/QUICL",
          "DTN7-ng/QUICL",
          "DTN7-ng/QUICL",
          "DTN7-ng/QUICL"
         ],
         "x0": " ",
         "xaxis": "x5",
         "y": [
          25.135,
          25.129,
          25.125,
          25.128,
          25.117,
          25.114,
          26.132,
          27.111,
          27.182,
          27.173,
          27.174,
          27.164,
          27.183,
          28.151,
          28.153,
          28.15,
          28.152,
          28.141,
          28.143,
          29.747,
          28.746,
          28.131,
          28.128,
          18.427,
          18.417,
          18.411,
          19.503,
          19.403,
          19.4,
          19.405,
          17.502,
          18.435,
          17.427,
          17.42,
          16.33,
          16.319,
          16.311,
          17.31,
          16.301,
          17.3
         ],
         "y0": " ",
         "yaxis": "y5"
        },
        {
         "alignmentgroup": "True",
         "hovertemplate": "Loss (%)=10<br>Bundle Size=1 kB<br>Bundles=100<br>Software/CLP=%{x}<br>=%{y}<extra></extra>",
         "legendgroup": "10",
         "marker": {
          "color": "#EF553B"
         },
         "name": "10",
         "notched": false,
         "offsetgroup": "10",
         "orientation": "v",
         "showlegend": false,
         "type": "box",
         "x": [
          "DTN7-ng/QUICL",
          "DTN7-ng/QUICL",
          "DTN7-ng/QUICL",
          "DTN7-ng/QUICL",
          "DTN7-ng/QUICL",
          "DTN7-ng/QUICL",
          "DTN7-ng/QUICL",
          "DTN7-ng/QUICL",
          "DTN7-ng/QUICL",
          "DTN7-ng/QUICL",
          "DTN7-ng/QUICL",
          "DTN7-ng/QUICL",
          "DTN7-ng/QUICL",
          "DTN7-ng/QUICL",
          "DTN7-ng/MTCP",
          "DTN7-ng/MTCP",
          "DTN7-ng/MTCP",
          "DTN7-ng/MTCP",
          "DTN7-ng/MTCP",
          "DTN7-ng/MTCP",
          "DTN7-ng/MTCP",
          "DTN7-ng/MTCP",
          "DTN7-ng/MTCP",
          "DTN7-ng/MTCP",
          "DTN7-ng/MTCP",
          "DTN7-ng/MTCP",
          "DTN7-ng/MTCP",
          "DTN7-ng/MTCP",
          "DTN7-ng/MTCP",
          "DTN7-ng/MTCP",
          "DTN7-ng/MTCP",
          "DTN7-ng/MTCP",
          "DTN7-ng/MTCP",
          "DTN7-ng/MTCP",
          "DTN7-ng/MTCP",
          "DTN7-ng/MTCP",
          "DTN7-ng/MTCP",
          "DTN7-ng/MTCP",
          "DTN7-ng/MTCP",
          "DTN7-ng/MTCP",
          "DTN7-ng/QUICL",
          "DTN7-ng/QUICL",
          "DTN7-ng/QUICL",
          "DTN7-ng/QUICL",
          "DTN7-ng/QUICL",
          "DTN7-ng/QUICL",
          "DTN7-ng/QUICL"
         ],
         "x0": " ",
         "xaxis": "x6",
         "y": [
          19.878,
          19.848,
          19.729,
          19.801,
          19.771,
          19.745,
          19.821,
          19.789,
          19.736,
          21.636,
          14.231,
          14.25,
          15.287,
          15.307,
          26.447,
          27.498,
          26.439,
          27.408,
          27.489,
          27.44,
          27.41,
          27.488,
          27.976,
          23.453,
          26.417,
          26.405,
          27.423,
          27.397,
          27.991,
          25.438,
          25.41,
          25.395,
          25.371,
          25.35,
          25.43,
          25.413,
          25.389,
          25.36,
          26.437,
          27.038,
          18.58,
          19.653,
          18.578,
          19.56,
          19.531,
          19.59,
          21.546
         ],
         "y0": " ",
         "yaxis": "y6"
        },
        {
         "alignmentgroup": "True",
         "hovertemplate": "Loss (%)=10<br>Bundle Size=100 kB<br>Bundles=10<br>Software/CLP=%{x}<br>=%{y}<extra></extra>",
         "legendgroup": "10",
         "marker": {
          "color": "#EF553B"
         },
         "name": "10",
         "notched": false,
         "offsetgroup": "10",
         "orientation": "v",
         "showlegend": false,
         "type": "box",
         "x": [
          "DTN7-ng/QUICL",
          "DTN7-ng/QUICL",
          "DTN7-ng/QUICL",
          "DTN7-ng/QUICL",
          "DTN7-ng/QUICL",
          "DTN7-ng/QUICL",
          "DTN7-ng/QUICL",
          "DTN7-ng/QUICL",
          "DTN7-ng/QUICL",
          "DTN7-ng/QUICL",
          "DTN7-ng/QUICL",
          "DTN7-ng/MTCP",
          "DTN7-ng/MTCP",
          "DTN7-ng/MTCP",
          "DTN7-ng/MTCP",
          "DTN7-ng/MTCP",
          "DTN7-ng/MTCP",
          "DTN7-ng/MTCP",
          "DTN7-ng/MTCP",
          "DTN7-ng/MTCP",
          "DTN7-ng/MTCP",
          "DTN7-ng/MTCP",
          "DTN7-ng/QUICL",
          "DTN7-ng/QUICL",
          "DTN7-ng/QUICL",
          "DTN7-ng/QUICL",
          "DTN7-ng/QUICL"
         ],
         "x0": " ",
         "xaxis": "x3",
         "y": [
          17.487,
          17.5,
          21.509,
          19.505,
          19.53,
          20.542,
          21.719,
          21.397,
          23.437,
          23.342,
          22.323,
          33.168,
          32.388,
          33.392,
          37.075,
          30.15,
          31.606,
          36.215,
          38.375,
          39.186,
          34.146,
          35.14,
          19.465,
          20.486,
          21.528,
          24.46,
          21.468
         ],
         "y0": " ",
         "yaxis": "y3"
        },
        {
         "alignmentgroup": "True",
         "hovertemplate": "Loss (%)=10<br>Bundle Size=100 kB<br>Bundles=100<br>Software/CLP=%{x}<br>=%{y}<extra></extra>",
         "legendgroup": "10",
         "marker": {
          "color": "#EF553B"
         },
         "name": "10",
         "notched": false,
         "offsetgroup": "10",
         "orientation": "v",
         "showlegend": false,
         "type": "box",
         "x": [
          "DTN7-ng/QUICL",
          "DTN7-ng/QUICL",
          "DTN7-ng/QUICL",
          "DTN7-ng/QUICL",
          "DTN7-ng/QUICL",
          "DTN7-ng/QUICL",
          "DTN7-ng/QUICL",
          "DTN7-ng/QUICL",
          "DTN7-ng/QUICL",
          "DTN7-ng/QUICL",
          "DTN7-ng/QUICL",
          "DTN7-ng/QUICL",
          "DTN7-ng/QUICL",
          "DTN7-ng/QUICL",
          "DTN7-ng/QUICL",
          "DTN7-ng/QUICL",
          "DTN7-ng/QUICL",
          "DTN7-ng/MTCP",
          "DTN7-ng/MTCP",
          "DTN7-ng/MTCP",
          "DTN7-ng/MTCP",
          "DTN7-ng/MTCP",
          "DTN7-ng/MTCP",
          "DTN7-ng/MTCP",
          "DTN7-ng/MTCP",
          "DTN7-ng/MTCP",
          "DTN7-ng/MTCP",
          "DTN7-ng/QUICL",
          "DTN7-ng/QUICL",
          "DTN7-ng/QUICL",
          "DTN7-ng/QUICL",
          "DTN7-ng/QUICL",
          "DTN7-ng/QUICL",
          "DTN7-ng/QUICL",
          "DTN7-ng/QUICL"
         ],
         "x0": " ",
         "xaxis": "x4",
         "y": [
          19.273,
          20.328,
          20.336,
          20.298,
          20.369,
          20.35,
          20.282,
          20.274,
          21.152,
          20.295,
          20.3,
          20.287,
          21.255,
          21.343,
          19.33,
          21.347,
          21.384,
          29.429,
          41.444,
          42.419,
          29.696,
          31.509,
          40.467,
          47.271,
          31.413,
          38.526,
          39.288,
          20.477,
          20.583,
          20.581,
          20.659,
          20.619,
          20.562,
          20.581,
          21.358
         ],
         "y0": " ",
         "yaxis": "y4"
        },
        {
         "alignmentgroup": "True",
         "hovertemplate": "Loss (%)=10<br>Bundle Size=1 MB<br>Bundles=10<br>Software/CLP=%{x}<br>=%{y}<extra></extra>",
         "legendgroup": "10",
         "marker": {
          "color": "#EF553B"
         },
         "name": "10",
         "notched": false,
         "offsetgroup": "10",
         "orientation": "v",
         "showlegend": false,
         "type": "box",
         "x": [
          "DTN7-ng/QUICL",
          "DTN7-ng/QUICL",
          "DTN7-ng/QUICL",
          "DTN7-ng/QUICL",
          "DTN7-ng/QUICL",
          "DTN7-ng/QUICL",
          "DTN7-ng/QUICL",
          "DTN7-ng/QUICL",
          "DTN7-ng/QUICL",
          "DTN7-ng/QUICL",
          "DTN7-ng/QUICL",
          "DTN7-ng/MTCP",
          "DTN7-ng/MTCP",
          "DTN7-ng/MTCP",
          "DTN7-ng/MTCP",
          "DTN7-ng/MTCP",
          "DTN7-ng/MTCP",
          "DTN7-ng/MTCP",
          "DTN7-ng/MTCP"
         ],
         "x0": " ",
         "xaxis": "x",
         "y": [
          43.295,
          43.126,
          41.503,
          42.666,
          43.843,
          45.985,
          45.051,
          45.039,
          38.707,
          41.778,
          40.68,
          244.581,
          181.244,
          270.505,
          277.858,
          328.319,
          251.581,
          262.671,
          313.655
         ],
         "y0": " ",
         "yaxis": "y"
        },
        {
         "alignmentgroup": "True",
         "hovertemplate": "Loss (%)=10<br>Bundle Size=1 MB<br>Bundles=100<br>Software/CLP=%{x}<br>=%{y}<extra></extra>",
         "legendgroup": "10",
         "marker": {
          "color": "#EF553B"
         },
         "name": "10",
         "notched": false,
         "offsetgroup": "10",
         "orientation": "v",
         "showlegend": false,
         "type": "box",
         "x": [
          "DTN7-ng/QUICL",
          "DTN7-ng/QUICL",
          "DTN7-ng/QUICL",
          "DTN7-ng/QUICL",
          "DTN7-ng/QUICL",
          "DTN7-ng/QUICL",
          "DTN7-ng/QUICL",
          "DTN7-ng/QUICL",
          "DTN7-ng/QUICL",
          "DTN7-ng/MTCP",
          "DTN7-ng/MTCP",
          "DTN7-ng/MTCP",
          "DTN7-ng/MTCP",
          "DTN7-ng/MTCP",
          "DTN7-ng/QUICL",
          "DTN7-ng/QUICL",
          "DTN7-ng/QUICL",
          "DTN7-ng/QUICL"
         ],
         "x0": " ",
         "xaxis": "x2",
         "y": [
          41.222,
          46.428,
          45.057,
          37.406,
          41.669,
          42.672,
          43.785,
          44.524,
          45.238,
          234.027,
          230.456,
          179.789,
          227.733,
          200.656,
          38.39,
          41.623,
          40.345,
          41.142
         ],
         "y0": " ",
         "yaxis": "y2"
        },
        {
         "alignmentgroup": "True",
         "hovertemplate": "Loss (%)=30<br>Bundle Size=1 kB<br>Bundles=10<br>Software/CLP=%{x}<br>=%{y}<extra></extra>",
         "legendgroup": "30",
         "marker": {
          "color": "#00cc96"
         },
         "name": "30",
         "notched": false,
         "offsetgroup": "30",
         "orientation": "v",
         "showlegend": true,
         "type": "box",
         "x": [
          "DTN7-ng/MTCP",
          "DTN7-ng/MTCP",
          "DTN7-ng/MTCP",
          "DTN7-ng/QUICL",
          "DTN7-ng/QUICL",
          "DTN7-ng/QUICL",
          "DTN7-ng/QUICL",
          "DTN7-ng/QUICL",
          "DTN7-ng/QUICL",
          "DTN7-ng/QUICL"
         ],
         "x0": " ",
         "xaxis": "x5",
         "y": [
          35.341,
          32.146,
          29.112,
          22.808,
          19.524,
          21.433,
          24.492,
          20.554,
          36.629,
          36.601
         ],
         "y0": " ",
         "yaxis": "y5"
        },
        {
         "alignmentgroup": "True",
         "hovertemplate": "Loss (%)=30<br>Bundle Size=1 kB<br>Bundles=100<br>Software/CLP=%{x}<br>=%{y}<extra></extra>",
         "legendgroup": "30",
         "marker": {
          "color": "#00cc96"
         },
         "name": "30",
         "notched": false,
         "offsetgroup": "30",
         "orientation": "v",
         "showlegend": false,
         "type": "box",
         "x": [
          "DTN7-ng/MTCP",
          "DTN7-ng/MTCP",
          "DTN7-ng/MTCP",
          "DTN7-ng/MTCP",
          "DTN7-ng/MTCP",
          "DTN7-ng/QUICL",
          "DTN7-ng/QUICL",
          "DTN7-ng/QUICL",
          "DTN7-ng/QUICL",
          "DTN7-ng/QUICL",
          "DTN7-ng/QUICL",
          "DTN7-ng/QUICL",
          "DTN7-ng/QUICL",
          "DTN7-ng/QUICL",
          "DTN7-ng/QUICL",
          "DTN7-ng/QUICL",
          "DTN7-ng/QUICL",
          "DTN7-ng/QUICL",
          "DTN7-ng/QUICL"
         ],
         "x0": " ",
         "xaxis": "x6",
         "y": [
          32.017,
          28.418,
          28.948,
          36.051,
          182.749,
          17.512,
          17.491,
          19.463,
          18.458,
          20.288,
          17.439,
          16.465,
          16.467,
          19.523,
          21.567,
          19.482,
          19.537,
          19.484,
          20.605
         ],
         "y0": " ",
         "yaxis": "y6"
        },
        {
         "alignmentgroup": "True",
         "hovertemplate": "Loss (%)=30<br>Bundle Size=100 kB<br>Bundles=10<br>Software/CLP=%{x}<br>=%{y}<extra></extra>",
         "legendgroup": "30",
         "marker": {
          "color": "#00cc96"
         },
         "name": "30",
         "notched": false,
         "offsetgroup": "30",
         "orientation": "v",
         "showlegend": false,
         "type": "box",
         "x": [
          "DTN7-ng/QUICL",
          "DTN7-ng/QUICL",
          "DTN7-ng/QUICL",
          "DTN7-ng/QUICL",
          "DTN7-ng/QUICL",
          "DTN7-ng/QUICL",
          "DTN7-ng/QUICL",
          "DTN7-ng/QUICL",
          "DTN7-ng/QUICL",
          "DTN7-ng/QUICL",
          "DTN7-ng/QUICL"
         ],
         "x0": " ",
         "xaxis": "x3",
         "y": [
          40.066,
          63.597,
          70.034,
          77.504,
          40.817,
          53.171,
          55.56,
          44.594,
          59.462,
          60.731,
          64.301
         ],
         "y0": " ",
         "yaxis": "y3"
        },
        {
         "alignmentgroup": "True",
         "hovertemplate": "Loss (%)=30<br>Bundle Size=100 kB<br>Bundles=100<br>Software/CLP=%{x}<br>=%{y}<extra></extra>",
         "legendgroup": "30",
         "marker": {
          "color": "#00cc96"
         },
         "name": "30",
         "notched": false,
         "offsetgroup": "30",
         "orientation": "v",
         "showlegend": false,
         "type": "box",
         "x": [
          "DTN7-ng/QUICL",
          "DTN7-ng/QUICL",
          "DTN7-ng/QUICL",
          "DTN7-ng/QUICL",
          "DTN7-ng/QUICL",
          "DTN7-ng/QUICL",
          "DTN7-ng/QUICL",
          "DTN7-ng/QUICL",
          "DTN7-ng/QUICL",
          "DTN7-ng/QUICL",
          "DTN7-ng/QUICL"
         ],
         "x0": " ",
         "xaxis": "x4",
         "y": [
          50.092,
          63.811,
          71.589,
          59.165,
          79.055,
          37.768,
          51.139,
          56.169,
          57.465,
          59.296,
          65.261
         ],
         "y0": " ",
         "yaxis": "y4"
        },
        {
         "alignmentgroup": "True",
         "hovertemplate": "Loss (%)=30<br>Bundle Size=1 MB<br>Bundles=10<br>Software/CLP=%{x}<br>=%{y}<extra></extra>",
         "legendgroup": "30",
         "marker": {
          "color": "#00cc96"
         },
         "name": "30",
         "notched": false,
         "offsetgroup": "30",
         "orientation": "v",
         "showlegend": false,
         "type": "box",
         "x": [
          "DTN7-ng/QUICL",
          "DTN7-ng/QUICL",
          "DTN7-ng/QUICL",
          "DTN7-ng/QUICL",
          "DTN7-ng/QUICL",
          "DTN7-ng/QUICL",
          "DTN7-ng/QUICL",
          "DTN7-ng/QUICL",
          "DTN7-ng/QUICL",
          "DTN7-ng/QUICL",
          "DTN7-ng/QUICL",
          "DTN7-ng/QUICL",
          "DTN7-ng/QUICL",
          "DTN7-ng/QUICL",
          "DTN7-ng/QUICL"
         ],
         "x0": " ",
         "xaxis": "x",
         "y": [
          526.104,
          666.174,
          710.479,
          751.689,
          755.705,
          783.251,
          452.491,
          503.216,
          573.228,
          610.603,
          638.458,
          520.19,
          523.181,
          594.189,
          712.684
         ],
         "y0": " ",
         "yaxis": "y"
        },
        {
         "alignmentgroup": "True",
         "hovertemplate": "Loss (%)=30<br>Bundle Size=1 MB<br>Bundles=100<br>Software/CLP=%{x}<br>=%{y}<extra></extra>",
         "legendgroup": "30",
         "marker": {
          "color": "#00cc96"
         },
         "name": "30",
         "notched": false,
         "offsetgroup": "30",
         "orientation": "v",
         "showlegend": false,
         "type": "box",
         "x": [
          "DTN7-ng/QUICL",
          "DTN7-ng/QUICL",
          "DTN7-ng/QUICL",
          "DTN7-ng/QUICL",
          "DTN7-ng/QUICL",
          "DTN7-ng/QUICL",
          "DTN7-ng/QUICL",
          "DTN7-ng/QUICL",
          "DTN7-ng/QUICL"
         ],
         "x0": " ",
         "xaxis": "x2",
         "y": [
          1202.869,
          1399.308,
          1415.537,
          1574.487,
          1464.926,
          1513.372,
          1537.718,
          1600.037,
          1746.983
         ],
         "y0": " ",
         "yaxis": "y2"
        },
        {
         "alignmentgroup": "True",
         "hovertemplate": "Loss (%)=50<br>Bundle Size=1 kB<br>Bundles=100<br>Software/CLP=%{x}<br>=%{y}<extra></extra>",
         "legendgroup": "50",
         "marker": {
          "color": "#ab63fa"
         },
         "name": "50",
         "notched": false,
         "offsetgroup": "50",
         "orientation": "v",
         "showlegend": true,
         "type": "box",
         "x": [
          "DTN7-ng/MTCP",
          "DTN7-ng/QUICL"
         ],
         "x0": " ",
         "xaxis": "x6",
         "y": [
          178.007,
          36.52
         ],
         "y0": " ",
         "yaxis": "y6"
        },
        {
         "alignmentgroup": "True",
         "hovertemplate": "Loss (%)=50<br>Bundle Size=100 kB<br>Bundles=10<br>Software/CLP=%{x}<br>=%{y}<extra></extra>",
         "legendgroup": "50",
         "marker": {
          "color": "#ab63fa"
         },
         "name": "50",
         "notched": false,
         "offsetgroup": "50",
         "orientation": "v",
         "showlegend": false,
         "type": "box",
         "x": [
          "DTN7-ng/QUICL"
         ],
         "x0": " ",
         "xaxis": "x3",
         "y": [
          1306.615
         ],
         "y0": " ",
         "yaxis": "y3"
        }
       ],
       "layout": {
        "annotations": [
         {
          "showarrow": false,
          "text": "Bundles: 10",
          "x": 0.24,
          "xanchor": "center",
          "xref": "paper",
          "y": 0.9999999999999998,
          "yanchor": "bottom",
          "yref": "paper"
         },
         {
          "showarrow": false,
          "text": "Bundles: 100",
          "x": 0.74,
          "xanchor": "center",
          "xref": "paper",
          "y": 0.9999999999999998,
          "yanchor": "bottom",
          "yref": "paper"
         },
         {
          "showarrow": false,
          "text": "1 MB",
          "textangle": 90,
          "x": 0.98,
          "xanchor": "left",
          "xref": "paper",
          "y": 0.15666666666666665,
          "yanchor": "middle",
          "yref": "paper"
         },
         {
          "showarrow": false,
          "text": "100 kB",
          "textangle": 90,
          "x": 0.98,
          "xanchor": "left",
          "xref": "paper",
          "y": 0.4999999999999999,
          "yanchor": "middle",
          "yref": "paper"
         },
         {
          "showarrow": false,
          "text": "1 kB",
          "textangle": 90,
          "x": 0.98,
          "xanchor": "left",
          "xref": "paper",
          "y": 0.8433333333333332,
          "yanchor": "middle",
          "yref": "paper"
         },
         {
          "font": {
           "size": 14
          },
          "text": "Runtime (s)",
          "textangle": -90,
          "x": -0.05,
          "xref": "paper",
          "y": 0.35,
          "yref": "paper"
         }
        ],
        "boxmode": "group",
        "legend": {
         "title": {
          "text": "Loss (%)"
         },
         "tracegroupgap": 0
        },
        "margin": {
         "b": 0,
         "l": 0,
         "r": 0,
         "t": 20
        },
        "template": {
         "data": {
          "bar": [
           {
            "error_x": {
             "color": "#2a3f5f"
            },
            "error_y": {
             "color": "#2a3f5f"
            },
            "marker": {
             "line": {
              "color": "#E5ECF6",
              "width": 0.5
             },
             "pattern": {
              "fillmode": "overlay",
              "size": 10,
              "solidity": 0.2
             }
            },
            "type": "bar"
           }
          ],
          "barpolar": [
           {
            "marker": {
             "line": {
              "color": "#E5ECF6",
              "width": 0.5
             },
             "pattern": {
              "fillmode": "overlay",
              "size": 10,
              "solidity": 0.2
             }
            },
            "type": "barpolar"
           }
          ],
          "carpet": [
           {
            "aaxis": {
             "endlinecolor": "#2a3f5f",
             "gridcolor": "white",
             "linecolor": "white",
             "minorgridcolor": "white",
             "startlinecolor": "#2a3f5f"
            },
            "baxis": {
             "endlinecolor": "#2a3f5f",
             "gridcolor": "white",
             "linecolor": "white",
             "minorgridcolor": "white",
             "startlinecolor": "#2a3f5f"
            },
            "type": "carpet"
           }
          ],
          "choropleth": [
           {
            "colorbar": {
             "outlinewidth": 0,
             "ticks": ""
            },
            "type": "choropleth"
           }
          ],
          "contour": [
           {
            "colorbar": {
             "outlinewidth": 0,
             "ticks": ""
            },
            "colorscale": [
             [
              0,
              "#0d0887"
             ],
             [
              0.1111111111111111,
              "#46039f"
             ],
             [
              0.2222222222222222,
              "#7201a8"
             ],
             [
              0.3333333333333333,
              "#9c179e"
             ],
             [
              0.4444444444444444,
              "#bd3786"
             ],
             [
              0.5555555555555556,
              "#d8576b"
             ],
             [
              0.6666666666666666,
              "#ed7953"
             ],
             [
              0.7777777777777778,
              "#fb9f3a"
             ],
             [
              0.8888888888888888,
              "#fdca26"
             ],
             [
              1,
              "#f0f921"
             ]
            ],
            "type": "contour"
           }
          ],
          "contourcarpet": [
           {
            "colorbar": {
             "outlinewidth": 0,
             "ticks": ""
            },
            "type": "contourcarpet"
           }
          ],
          "heatmap": [
           {
            "colorbar": {
             "outlinewidth": 0,
             "ticks": ""
            },
            "colorscale": [
             [
              0,
              "#0d0887"
             ],
             [
              0.1111111111111111,
              "#46039f"
             ],
             [
              0.2222222222222222,
              "#7201a8"
             ],
             [
              0.3333333333333333,
              "#9c179e"
             ],
             [
              0.4444444444444444,
              "#bd3786"
             ],
             [
              0.5555555555555556,
              "#d8576b"
             ],
             [
              0.6666666666666666,
              "#ed7953"
             ],
             [
              0.7777777777777778,
              "#fb9f3a"
             ],
             [
              0.8888888888888888,
              "#fdca26"
             ],
             [
              1,
              "#f0f921"
             ]
            ],
            "type": "heatmap"
           }
          ],
          "heatmapgl": [
           {
            "colorbar": {
             "outlinewidth": 0,
             "ticks": ""
            },
            "colorscale": [
             [
              0,
              "#0d0887"
             ],
             [
              0.1111111111111111,
              "#46039f"
             ],
             [
              0.2222222222222222,
              "#7201a8"
             ],
             [
              0.3333333333333333,
              "#9c179e"
             ],
             [
              0.4444444444444444,
              "#bd3786"
             ],
             [
              0.5555555555555556,
              "#d8576b"
             ],
             [
              0.6666666666666666,
              "#ed7953"
             ],
             [
              0.7777777777777778,
              "#fb9f3a"
             ],
             [
              0.8888888888888888,
              "#fdca26"
             ],
             [
              1,
              "#f0f921"
             ]
            ],
            "type": "heatmapgl"
           }
          ],
          "histogram": [
           {
            "marker": {
             "pattern": {
              "fillmode": "overlay",
              "size": 10,
              "solidity": 0.2
             }
            },
            "type": "histogram"
           }
          ],
          "histogram2d": [
           {
            "colorbar": {
             "outlinewidth": 0,
             "ticks": ""
            },
            "colorscale": [
             [
              0,
              "#0d0887"
             ],
             [
              0.1111111111111111,
              "#46039f"
             ],
             [
              0.2222222222222222,
              "#7201a8"
             ],
             [
              0.3333333333333333,
              "#9c179e"
             ],
             [
              0.4444444444444444,
              "#bd3786"
             ],
             [
              0.5555555555555556,
              "#d8576b"
             ],
             [
              0.6666666666666666,
              "#ed7953"
             ],
             [
              0.7777777777777778,
              "#fb9f3a"
             ],
             [
              0.8888888888888888,
              "#fdca26"
             ],
             [
              1,
              "#f0f921"
             ]
            ],
            "type": "histogram2d"
           }
          ],
          "histogram2dcontour": [
           {
            "colorbar": {
             "outlinewidth": 0,
             "ticks": ""
            },
            "colorscale": [
             [
              0,
              "#0d0887"
             ],
             [
              0.1111111111111111,
              "#46039f"
             ],
             [
              0.2222222222222222,
              "#7201a8"
             ],
             [
              0.3333333333333333,
              "#9c179e"
             ],
             [
              0.4444444444444444,
              "#bd3786"
             ],
             [
              0.5555555555555556,
              "#d8576b"
             ],
             [
              0.6666666666666666,
              "#ed7953"
             ],
             [
              0.7777777777777778,
              "#fb9f3a"
             ],
             [
              0.8888888888888888,
              "#fdca26"
             ],
             [
              1,
              "#f0f921"
             ]
            ],
            "type": "histogram2dcontour"
           }
          ],
          "mesh3d": [
           {
            "colorbar": {
             "outlinewidth": 0,
             "ticks": ""
            },
            "type": "mesh3d"
           }
          ],
          "parcoords": [
           {
            "line": {
             "colorbar": {
              "outlinewidth": 0,
              "ticks": ""
             }
            },
            "type": "parcoords"
           }
          ],
          "pie": [
           {
            "automargin": true,
            "type": "pie"
           }
          ],
          "scatter": [
           {
            "fillpattern": {
             "fillmode": "overlay",
             "size": 10,
             "solidity": 0.2
            },
            "type": "scatter"
           }
          ],
          "scatter3d": [
           {
            "line": {
             "colorbar": {
              "outlinewidth": 0,
              "ticks": ""
             }
            },
            "marker": {
             "colorbar": {
              "outlinewidth": 0,
              "ticks": ""
             }
            },
            "type": "scatter3d"
           }
          ],
          "scattercarpet": [
           {
            "marker": {
             "colorbar": {
              "outlinewidth": 0,
              "ticks": ""
             }
            },
            "type": "scattercarpet"
           }
          ],
          "scattergeo": [
           {
            "marker": {
             "colorbar": {
              "outlinewidth": 0,
              "ticks": ""
             }
            },
            "type": "scattergeo"
           }
          ],
          "scattergl": [
           {
            "marker": {
             "colorbar": {
              "outlinewidth": 0,
              "ticks": ""
             }
            },
            "type": "scattergl"
           }
          ],
          "scattermapbox": [
           {
            "marker": {
             "colorbar": {
              "outlinewidth": 0,
              "ticks": ""
             }
            },
            "type": "scattermapbox"
           }
          ],
          "scatterpolar": [
           {
            "marker": {
             "colorbar": {
              "outlinewidth": 0,
              "ticks": ""
             }
            },
            "type": "scatterpolar"
           }
          ],
          "scatterpolargl": [
           {
            "marker": {
             "colorbar": {
              "outlinewidth": 0,
              "ticks": ""
             }
            },
            "type": "scatterpolargl"
           }
          ],
          "scatterternary": [
           {
            "marker": {
             "colorbar": {
              "outlinewidth": 0,
              "ticks": ""
             }
            },
            "type": "scatterternary"
           }
          ],
          "surface": [
           {
            "colorbar": {
             "outlinewidth": 0,
             "ticks": ""
            },
            "colorscale": [
             [
              0,
              "#0d0887"
             ],
             [
              0.1111111111111111,
              "#46039f"
             ],
             [
              0.2222222222222222,
              "#7201a8"
             ],
             [
              0.3333333333333333,
              "#9c179e"
             ],
             [
              0.4444444444444444,
              "#bd3786"
             ],
             [
              0.5555555555555556,
              "#d8576b"
             ],
             [
              0.6666666666666666,
              "#ed7953"
             ],
             [
              0.7777777777777778,
              "#fb9f3a"
             ],
             [
              0.8888888888888888,
              "#fdca26"
             ],
             [
              1,
              "#f0f921"
             ]
            ],
            "type": "surface"
           }
          ],
          "table": [
           {
            "cells": {
             "fill": {
              "color": "#EBF0F8"
             },
             "line": {
              "color": "white"
             }
            },
            "header": {
             "fill": {
              "color": "#C8D4E3"
             },
             "line": {
              "color": "white"
             }
            },
            "type": "table"
           }
          ]
         },
         "layout": {
          "annotationdefaults": {
           "arrowcolor": "#2a3f5f",
           "arrowhead": 0,
           "arrowwidth": 1
          },
          "autotypenumbers": "strict",
          "coloraxis": {
           "colorbar": {
            "outlinewidth": 0,
            "ticks": ""
           }
          },
          "colorscale": {
           "diverging": [
            [
             0,
             "#8e0152"
            ],
            [
             0.1,
             "#c51b7d"
            ],
            [
             0.2,
             "#de77ae"
            ],
            [
             0.3,
             "#f1b6da"
            ],
            [
             0.4,
             "#fde0ef"
            ],
            [
             0.5,
             "#f7f7f7"
            ],
            [
             0.6,
             "#e6f5d0"
            ],
            [
             0.7,
             "#b8e186"
            ],
            [
             0.8,
             "#7fbc41"
            ],
            [
             0.9,
             "#4d9221"
            ],
            [
             1,
             "#276419"
            ]
           ],
           "sequential": [
            [
             0,
             "#0d0887"
            ],
            [
             0.1111111111111111,
             "#46039f"
            ],
            [
             0.2222222222222222,
             "#7201a8"
            ],
            [
             0.3333333333333333,
             "#9c179e"
            ],
            [
             0.4444444444444444,
             "#bd3786"
            ],
            [
             0.5555555555555556,
             "#d8576b"
            ],
            [
             0.6666666666666666,
             "#ed7953"
            ],
            [
             0.7777777777777778,
             "#fb9f3a"
            ],
            [
             0.8888888888888888,
             "#fdca26"
            ],
            [
             1,
             "#f0f921"
            ]
           ],
           "sequentialminus": [
            [
             0,
             "#0d0887"
            ],
            [
             0.1111111111111111,
             "#46039f"
            ],
            [
             0.2222222222222222,
             "#7201a8"
            ],
            [
             0.3333333333333333,
             "#9c179e"
            ],
            [
             0.4444444444444444,
             "#bd3786"
            ],
            [
             0.5555555555555556,
             "#d8576b"
            ],
            [
             0.6666666666666666,
             "#ed7953"
            ],
            [
             0.7777777777777778,
             "#fb9f3a"
            ],
            [
             0.8888888888888888,
             "#fdca26"
            ],
            [
             1,
             "#f0f921"
            ]
           ]
          },
          "colorway": [
           "#636efa",
           "#EF553B",
           "#00cc96",
           "#ab63fa",
           "#FFA15A",
           "#19d3f3",
           "#FF6692",
           "#B6E880",
           "#FF97FF",
           "#FECB52"
          ],
          "font": {
           "color": "#2a3f5f"
          },
          "geo": {
           "bgcolor": "white",
           "lakecolor": "white",
           "landcolor": "#E5ECF6",
           "showlakes": true,
           "showland": true,
           "subunitcolor": "white"
          },
          "hoverlabel": {
           "align": "left"
          },
          "hovermode": "closest",
          "mapbox": {
           "style": "light"
          },
          "paper_bgcolor": "white",
          "plot_bgcolor": "#E5ECF6",
          "polar": {
           "angularaxis": {
            "gridcolor": "white",
            "linecolor": "white",
            "ticks": ""
           },
           "bgcolor": "#E5ECF6",
           "radialaxis": {
            "gridcolor": "white",
            "linecolor": "white",
            "ticks": ""
           }
          },
          "scene": {
           "xaxis": {
            "backgroundcolor": "#E5ECF6",
            "gridcolor": "white",
            "gridwidth": 2,
            "linecolor": "white",
            "showbackground": true,
            "ticks": "",
            "zerolinecolor": "white"
           },
           "yaxis": {
            "backgroundcolor": "#E5ECF6",
            "gridcolor": "white",
            "gridwidth": 2,
            "linecolor": "white",
            "showbackground": true,
            "ticks": "",
            "zerolinecolor": "white"
           },
           "zaxis": {
            "backgroundcolor": "#E5ECF6",
            "gridcolor": "white",
            "gridwidth": 2,
            "linecolor": "white",
            "showbackground": true,
            "ticks": "",
            "zerolinecolor": "white"
           }
          },
          "shapedefaults": {
           "line": {
            "color": "#2a3f5f"
           }
          },
          "ternary": {
           "aaxis": {
            "gridcolor": "white",
            "linecolor": "white",
            "ticks": ""
           },
           "baxis": {
            "gridcolor": "white",
            "linecolor": "white",
            "ticks": ""
           },
           "bgcolor": "#E5ECF6",
           "caxis": {
            "gridcolor": "white",
            "linecolor": "white",
            "ticks": ""
           }
          },
          "title": {
           "x": 0.05
          },
          "xaxis": {
           "automargin": true,
           "gridcolor": "white",
           "linecolor": "white",
           "ticks": "",
           "title": {
            "standoff": 15
           },
           "zerolinecolor": "white",
           "zerolinewidth": 2
          },
          "yaxis": {
           "automargin": true,
           "gridcolor": "white",
           "linecolor": "white",
           "ticks": "",
           "title": {
            "standoff": 15
           },
           "zerolinecolor": "white",
           "zerolinewidth": 2
          }
         }
        },
        "xaxis": {
         "anchor": "y",
         "categoryarray": [
          "Serval",
          "IBR-DTN/TCPCL",
          "DTN7-rs/MTCP",
          "DTN7-rs/TCPCL",
          "DTN7-rs/HTTP",
          "DTN7-ng/MTCP",
          "DTN7-ng/QUICL"
         ],
         "categoryorder": "array",
         "domain": [
          0,
          0.48
         ],
         "title": {
          "text": "Software/CLP"
         }
        },
        "xaxis2": {
         "anchor": "y2",
         "categoryarray": [
          "Serval",
          "IBR-DTN/TCPCL",
          "DTN7-rs/MTCP",
          "DTN7-rs/TCPCL",
          "DTN7-rs/HTTP",
          "DTN7-ng/MTCP",
          "DTN7-ng/QUICL"
         ],
         "categoryorder": "array",
         "domain": [
          0.5,
          0.98
         ],
         "matches": "x",
         "title": {
          "text": "Software/CLP"
         }
        },
        "xaxis3": {
         "anchor": "y3",
         "domain": [
          0,
          0.48
         ],
         "matches": "x",
         "showticklabels": false
        },
        "xaxis4": {
         "anchor": "y4",
         "domain": [
          0.5,
          0.98
         ],
         "matches": "x",
         "showticklabels": false
        },
        "xaxis5": {
         "anchor": "y5",
         "domain": [
          0,
          0.48
         ],
         "matches": "x",
         "showticklabels": false
        },
        "xaxis6": {
         "anchor": "y6",
         "domain": [
          0.5,
          0.98
         ],
         "matches": "x",
         "showticklabels": false
        },
        "yaxis": {
         "anchor": "x",
         "domain": [
          0,
          0.3133333333333333
         ],
         "title": {
          "text": ""
         }
        },
        "yaxis2": {
         "anchor": "x2",
         "domain": [
          0,
          0.3133333333333333
         ],
         "matches": "y",
         "showticklabels": false
        },
        "yaxis3": {
         "anchor": "x3",
         "domain": [
          0.34333333333333327,
          0.6566666666666665
         ],
         "matches": "y",
         "title": {
          "text": ""
         }
        },
        "yaxis4": {
         "anchor": "x4",
         "domain": [
          0.34333333333333327,
          0.6566666666666665
         ],
         "matches": "y",
         "showticklabels": false
        },
        "yaxis5": {
         "anchor": "x5",
         "domain": [
          0.6866666666666665,
          0.9999999999999998
         ],
         "matches": "y",
         "title": {
          "text": ""
         }
        },
        "yaxis6": {
         "anchor": "x6",
         "domain": [
          0.6866666666666665,
          0.9999999999999998
         ],
         "matches": "y",
         "showticklabels": false
        }
       }
      },
      "text/html": [
       "<div>                            <div id=\"09f57c01-85eb-4254-872d-44fae3727c63\" class=\"plotly-graph-div\" style=\"height:525px; width:100%;\"></div>            <script type=\"text/javascript\">                require([\"plotly\"], function(Plotly) {                    window.PLOTLYENV=window.PLOTLYENV || {};                                    if (document.getElementById(\"09f57c01-85eb-4254-872d-44fae3727c63\")) {                    Plotly.newPlot(                        \"09f57c01-85eb-4254-872d-44fae3727c63\",                        [{\"alignmentgroup\":\"True\",\"hovertemplate\":\"Loss (%)=0<br>Bundle Size=1 kB<br>Bundles=10<br>Software/CLP=%{x}<br>=%{y}<extra></extra>\",\"legendgroup\":\"0\",\"marker\":{\"color\":\"#636efa\"},\"name\":\"0\",\"notched\":false,\"offsetgroup\":\"0\",\"orientation\":\"v\",\"showlegend\":true,\"x\":[\"DTN7-ng/MTCP\",\"DTN7-ng/MTCP\",\"DTN7-ng/MTCP\",\"DTN7-ng/MTCP\",\"DTN7-ng/MTCP\",\"DTN7-ng/MTCP\",\"DTN7-ng/MTCP\",\"DTN7-ng/MTCP\",\"DTN7-ng/MTCP\",\"DTN7-ng/MTCP\",\"DTN7-ng/MTCP\",\"DTN7-ng/MTCP\",\"DTN7-ng/MTCP\",\"DTN7-ng/MTCP\",\"DTN7-ng/MTCP\",\"DTN7-ng/MTCP\",\"DTN7-ng/MTCP\",\"DTN7-ng/MTCP\",\"DTN7-ng/MTCP\",\"DTN7-ng/MTCP\",\"DTN7-ng/MTCP\",\"DTN7-ng/MTCP\",\"DTN7-ng/MTCP\",\"DTN7-ng/MTCP\",\"DTN7-ng/MTCP\",\"DTN7-ng/MTCP\",\"DTN7-ng/MTCP\",\"DTN7-ng/MTCP\",\"DTN7-ng/QUICL\",\"DTN7-ng/QUICL\",\"DTN7-ng/QUICL\",\"DTN7-ng/QUICL\",\"DTN7-ng/QUICL\",\"DTN7-ng/QUICL\",\"DTN7-ng/QUICL\",\"DTN7-ng/QUICL\",\"DTN7-ng/QUICL\",\"DTN7-ng/QUICL\",\"DTN7-ng/QUICL\",\"DTN7-ng/QUICL\",\"DTN7-ng/QUICL\",\"DTN7-ng/QUICL\",\"DTN7-ng/QUICL\",\"DTN7-ng/QUICL\",\"DTN7-ng/QUICL\",\"DTN7-ng/QUICL\",\"DTN7-ng/QUICL\",\"DTN7-ng/QUICL\",\"DTN7-ng/QUICL\",\"DTN7-ng/QUICL\",\"DTN7-ng/QUICL\",\"DTN7-ng/QUICL\",\"DTN7-ng/QUICL\",\"DTN7-ng/QUICL\",\"DTN7-ng/QUICL\",\"DTN7-ng/QUICL\",\"DTN7-ng/QUICL\",\"DTN7-ng/QUICL\"],\"x0\":\" \",\"xaxis\":\"x5\",\"y\":[28.149,28.145,28.141,28.14,28.139,28.138,28.138,28.132,28.131,28.122,27.155,27.151,27.144,27.143,27.141,27.137,27.13,27.137,27.131,27.127,24.14,24.136,24.118,25.128,25.111,25.12,26.106,26.114,18.363,18.355,18.351,18.347,18.35,18.344,18.342,18.339,18.336,18.331,16.436,16.436,16.432,17.435,17.428,17.432,17.422,17.426,17.417,17.412,17.427,17.417,17.42,17.416,17.407,17.409,17.4,17.41,17.395,17.396],\"y0\":\" \",\"yaxis\":\"y5\",\"type\":\"box\"},{\"alignmentgroup\":\"True\",\"hovertemplate\":\"Loss (%)=0<br>Bundle Size=1 kB<br>Bundles=100<br>Software/CLP=%{x}<br>=%{y}<extra></extra>\",\"legendgroup\":\"0\",\"marker\":{\"color\":\"#636efa\"},\"name\":\"0\",\"notched\":false,\"offsetgroup\":\"0\",\"orientation\":\"v\",\"showlegend\":false,\"x\":[\"DTN7-ng/QUICL\",\"DTN7-ng/QUICL\",\"DTN7-ng/QUICL\",\"DTN7-ng/QUICL\",\"DTN7-ng/QUICL\",\"DTN7-ng/QUICL\",\"DTN7-ng/QUICL\",\"DTN7-ng/QUICL\",\"DTN7-ng/QUICL\",\"DTN7-ng/QUICL\",\"DTN7-ng/QUICL\",\"DTN7-ng/QUICL\",\"DTN7-ng/QUICL\",\"DTN7-ng/QUICL\",\"DTN7-ng/QUICL\",\"DTN7-ng/QUICL\",\"DTN7-ng/QUICL\",\"DTN7-ng/QUICL\",\"DTN7-ng/QUICL\",\"DTN7-ng/QUICL\",\"DTN7-ng/QUICL\",\"DTN7-ng/QUICL\",\"DTN7-ng/QUICL\",\"DTN7-ng/QUICL\",\"DTN7-ng/QUICL\",\"DTN7-ng/QUICL\",\"DTN7-ng/QUICL\",\"DTN7-ng/QUICL\",\"DTN7-ng/QUICL\",\"DTN7-ng/QUICL\",\"DTN7-ng/QUICL\",\"DTN7-ng/QUICL\",\"DTN7-ng/MTCP\",\"DTN7-ng/MTCP\",\"DTN7-ng/MTCP\",\"DTN7-ng/MTCP\",\"DTN7-ng/MTCP\",\"DTN7-ng/MTCP\",\"DTN7-ng/MTCP\",\"DTN7-ng/MTCP\",\"DTN7-ng/MTCP\",\"DTN7-ng/MTCP\",\"DTN7-ng/MTCP\",\"DTN7-ng/MTCP\",\"DTN7-ng/MTCP\",\"DTN7-ng/MTCP\",\"DTN7-ng/MTCP\",\"DTN7-ng/MTCP\",\"DTN7-ng/MTCP\",\"DTN7-ng/MTCP\",\"DTN7-ng/MTCP\",\"DTN7-ng/MTCP\",\"DTN7-ng/MTCP\",\"DTN7-ng/MTCP\",\"DTN7-ng/MTCP\",\"DTN7-ng/MTCP\",\"DTN7-ng/MTCP\",\"DTN7-ng/MTCP\",\"DTN7-ng/MTCP\",\"DTN7-ng/MTCP\",\"DTN7-ng/MTCP\",\"DTN7-ng/MTCP\",\"DTN7-ng/MTCP\"],\"x0\":\" \",\"xaxis\":\"x6\",\"y\":[13.577,14.655,14.626,14.602,14.575,14.654,14.628,14.605,14.578,15.166,13.185,13.16,13.143,13.115,13.152,13.172,13.142,13.119,13.206,13.184,13.251,16.58,16.548,16.522,16.6,16.57,16.546,16.62,16.596,16.57,16.54,16.628,25.446,25.419,25.466,25.443,25.422,25.393,25.476,25.45,25.429,25.4,25.995,26.444,26.416,26.391,26.374,26.454,26.427,26.408,26.386,26.454,26.438,27.029,26.509,26.454,27.417,27.504,27.47,27.442,27.417,27.494,27.979],\"y0\":\" \",\"yaxis\":\"y6\",\"type\":\"box\"},{\"alignmentgroup\":\"True\",\"hovertemplate\":\"Loss (%)=0<br>Bundle Size=100 kB<br>Bundles=10<br>Software/CLP=%{x}<br>=%{y}<extra></extra>\",\"legendgroup\":\"0\",\"marker\":{\"color\":\"#636efa\"},\"name\":\"0\",\"notched\":false,\"offsetgroup\":\"0\",\"orientation\":\"v\",\"showlegend\":false,\"x\":[\"DTN7-ng/MTCP\",\"DTN7-ng/MTCP\",\"DTN7-ng/MTCP\",\"DTN7-ng/MTCP\",\"DTN7-ng/MTCP\",\"DTN7-ng/MTCP\",\"DTN7-ng/MTCP\",\"DTN7-ng/MTCP\",\"DTN7-ng/MTCP\",\"DTN7-ng/MTCP\",\"DTN7-ng/MTCP\",\"DTN7-ng/MTCP\",\"DTN7-ng/MTCP\",\"DTN7-ng/MTCP\",\"DTN7-ng/MTCP\",\"DTN7-ng/MTCP\",\"DTN7-ng/MTCP\",\"DTN7-ng/MTCP\",\"DTN7-ng/MTCP\",\"DTN7-ng/MTCP\",\"DTN7-ng/MTCP\",\"DTN7-ng/MTCP\",\"DTN7-ng/MTCP\",\"DTN7-ng/MTCP\",\"DTN7-ng/MTCP\",\"DTN7-ng/MTCP\",\"DTN7-ng/MTCP\",\"DTN7-ng/MTCP\",\"DTN7-ng/QUICL\",\"DTN7-ng/QUICL\",\"DTN7-ng/QUICL\",\"DTN7-ng/QUICL\",\"DTN7-ng/QUICL\",\"DTN7-ng/QUICL\",\"DTN7-ng/QUICL\",\"DTN7-ng/QUICL\",\"DTN7-ng/QUICL\",\"DTN7-ng/QUICL\",\"DTN7-ng/QUICL\",\"DTN7-ng/QUICL\",\"DTN7-ng/QUICL\",\"DTN7-ng/QUICL\",\"DTN7-ng/QUICL\",\"DTN7-ng/QUICL\",\"DTN7-ng/QUICL\",\"DTN7-ng/QUICL\",\"DTN7-ng/QUICL\",\"DTN7-ng/QUICL\",\"DTN7-ng/QUICL\",\"DTN7-ng/QUICL\",\"DTN7-ng/QUICL\",\"DTN7-ng/QUICL\",\"DTN7-ng/QUICL\",\"DTN7-ng/QUICL\",\"DTN7-ng/QUICL\",\"DTN7-ng/QUICL\",\"DTN7-ng/QUICL\"],\"x0\":\" \",\"xaxis\":\"x3\",\"y\":[29.161,29.169,29.164,29.162,29.17,29.174,28.142,29.133,29.137,26.166,26.168,27.161,27.387,27.396,27.16,27.183,27.162,27.158,29.168,29.166,29.174,29.171,29.168,29.18,29.159,29.147,29.145,29.186,17.552,17.555,17.554,17.547,17.543,17.538,17.534,17.535,17.536,17.526,18.37,18.359,18.361,18.354,18.356,18.358,18.345,18.344,18.342,19.363,19.357,19.363,19.356,19.359,19.359,19.351,19.351,19.353,19.354],\"y0\":\" \",\"yaxis\":\"y3\",\"type\":\"box\"},{\"alignmentgroup\":\"True\",\"hovertemplate\":\"Loss (%)=0<br>Bundle Size=100 kB<br>Bundles=100<br>Software/CLP=%{x}<br>=%{y}<extra></extra>\",\"legendgroup\":\"0\",\"marker\":{\"color\":\"#636efa\"},\"name\":\"0\",\"notched\":false,\"offsetgroup\":\"0\",\"orientation\":\"v\",\"showlegend\":false,\"x\":[\"DTN7-ng/QUICL\",\"DTN7-ng/QUICL\",\"DTN7-ng/QUICL\",\"DTN7-ng/QUICL\",\"DTN7-ng/QUICL\",\"DTN7-ng/QUICL\",\"DTN7-ng/QUICL\",\"DTN7-ng/QUICL\",\"DTN7-ng/QUICL\",\"DTN7-ng/QUICL\",\"DTN7-ng/QUICL\",\"DTN7-ng/QUICL\",\"DTN7-ng/QUICL\",\"DTN7-ng/QUICL\",\"DTN7-ng/QUICL\",\"DTN7-ng/QUICL\",\"DTN7-ng/QUICL\",\"DTN7-ng/QUICL\",\"DTN7-ng/QUICL\",\"DTN7-ng/QUICL\",\"DTN7-ng/QUICL\",\"DTN7-ng/MTCP\",\"DTN7-ng/MTCP\",\"DTN7-ng/MTCP\",\"DTN7-ng/MTCP\",\"DTN7-ng/MTCP\",\"DTN7-ng/MTCP\",\"DTN7-ng/MTCP\",\"DTN7-ng/MTCP\",\"DTN7-ng/MTCP\",\"DTN7-ng/MTCP\",\"DTN7-ng/MTCP\",\"DTN7-ng/MTCP\",\"DTN7-ng/MTCP\",\"DTN7-ng/MTCP\",\"DTN7-ng/MTCP\",\"DTN7-ng/MTCP\",\"DTN7-ng/MTCP\",\"DTN7-ng/MTCP\",\"DTN7-ng/MTCP\",\"DTN7-ng/MTCP\",\"DTN7-ng/MTCP\",\"DTN7-ng/MTCP\",\"DTN7-ng/MTCP\",\"DTN7-ng/MTCP\",\"DTN7-ng/MTCP\",\"DTN7-ng/MTCP\",\"DTN7-ng/MTCP\",\"DTN7-ng/MTCP\",\"DTN7-ng/MTCP\",\"DTN7-ng/MTCP\",\"DTN7-ng/MTCP\",\"DTN7-ng/MTCP\",\"DTN7-ng/QUICL\",\"DTN7-ng/QUICL\",\"DTN7-ng/QUICL\",\"DTN7-ng/QUICL\",\"DTN7-ng/QUICL\",\"DTN7-ng/QUICL\",\"DTN7-ng/QUICL\",\"DTN7-ng/QUICL\",\"DTN7-ng/QUICL\",\"DTN7-ng/QUICL\",\"DTN7-ng/QUICL\"],\"x0\":\" \",\"xaxis\":\"x4\",\"y\":[20.246,20.211,20.293,20.272,20.249,20.219,20.304,20.277,20.255,20.227,20.291,19.48,19.468,19.442,19.511,19.496,19.467,19.438,19.46,19.489,19.558,28.429,28.405,28.473,28.467,28.434,28.414,28.491,28.462,28.445,28.416,29.006,27.439,27.423,27.481,27.459,28.444,28.435,28.505,28.482,28.463,28.436,29.026,27.446,27.411,27.396,28.47,27.444,28.397,28.499,28.466,28.429,29.018,18.208,18.181,18.257,18.233,18.216,18.19,18.262,18.24,18.216,18.18,18.374],\"y0\":\" \",\"yaxis\":\"y4\",\"type\":\"box\"},{\"alignmentgroup\":\"True\",\"hovertemplate\":\"Loss (%)=0<br>Bundle Size=1 MB<br>Bundles=10<br>Software/CLP=%{x}<br>=%{y}<extra></extra>\",\"legendgroup\":\"0\",\"marker\":{\"color\":\"#636efa\"},\"name\":\"0\",\"notched\":false,\"offsetgroup\":\"0\",\"orientation\":\"v\",\"showlegend\":false,\"x\":[\"DTN7-ng/QUICL\",\"DTN7-ng/QUICL\",\"DTN7-ng/QUICL\",\"DTN7-ng/QUICL\",\"DTN7-ng/QUICL\",\"DTN7-ng/QUICL\",\"DTN7-ng/QUICL\",\"DTN7-ng/QUICL\",\"DTN7-ng/QUICL\",\"DTN7-ng/QUICL\",\"DTN7-ng/QUICL\",\"DTN7-ng/QUICL\",\"DTN7-ng/QUICL\",\"DTN7-ng/MTCP\",\"DTN7-ng/MTCP\",\"DTN7-ng/MTCP\",\"DTN7-ng/MTCP\",\"DTN7-ng/MTCP\",\"DTN7-ng/MTCP\",\"DTN7-ng/MTCP\",\"DTN7-ng/MTCP\",\"DTN7-ng/MTCP\",\"DTN7-ng/MTCP\",\"DTN7-ng/MTCP\",\"DTN7-ng/MTCP\",\"DTN7-ng/MTCP\",\"DTN7-ng/MTCP\",\"DTN7-ng/MTCP\",\"DTN7-ng/MTCP\",\"DTN7-ng/MTCP\",\"DTN7-ng/MTCP\",\"DTN7-ng/MTCP\",\"DTN7-ng/MTCP\",\"DTN7-ng/MTCP\",\"DTN7-ng/MTCP\",\"DTN7-ng/MTCP\",\"DTN7-ng/MTCP\",\"DTN7-ng/MTCP\",\"DTN7-ng/MTCP\",\"DTN7-ng/MTCP\",\"DTN7-ng/MTCP\",\"DTN7-ng/MTCP\",\"DTN7-ng/MTCP\",\"DTN7-ng/QUICL\",\"DTN7-ng/QUICL\",\"DTN7-ng/QUICL\",\"DTN7-ng/QUICL\",\"DTN7-ng/QUICL\",\"DTN7-ng/QUICL\",\"DTN7-ng/QUICL\",\"DTN7-ng/QUICL\",\"DTN7-ng/QUICL\",\"DTN7-ng/QUICL\"],\"x0\":\" \",\"xaxis\":\"x\",\"y\":[26.942,28.916,27.921,27.906,29.929,26.809,27.813,27.823,27.812,26.827,27.778,27.835,26.791,31.293,31.676,31.402,31.35,31.304,31.315,31.348,31.341,31.314,31.318,31.27,31.276,31.424,31.308,31.292,31.328,31.321,31.297,31.271,31.291,31.272,31.593,31.522,31.316,31.322,31.327,31.296,31.319,31.288,31.337,28.895,28.907,28.872,28.849,28.844,28.859,28.91,28.848,28.853,28.851],\"y0\":\" \",\"yaxis\":\"y\",\"type\":\"box\"},{\"alignmentgroup\":\"True\",\"hovertemplate\":\"Loss (%)=0<br>Bundle Size=1 MB<br>Bundles=100<br>Software/CLP=%{x}<br>=%{y}<extra></extra>\",\"legendgroup\":\"0\",\"marker\":{\"color\":\"#636efa\"},\"name\":\"0\",\"notched\":false,\"offsetgroup\":\"0\",\"orientation\":\"v\",\"showlegend\":false,\"x\":[\"DTN7-ng/MTCP\",\"DTN7-ng/MTCP\",\"DTN7-ng/MTCP\",\"DTN7-ng/MTCP\",\"DTN7-ng/MTCP\",\"DTN7-ng/MTCP\",\"DTN7-ng/MTCP\",\"DTN7-ng/MTCP\",\"DTN7-ng/MTCP\",\"DTN7-ng/MTCP\",\"DTN7-ng/MTCP\",\"DTN7-ng/MTCP\",\"DTN7-ng/MTCP\",\"DTN7-ng/MTCP\",\"DTN7-ng/MTCP\",\"DTN7-ng/MTCP\",\"DTN7-ng/MTCP\",\"DTN7-ng/MTCP\",\"DTN7-ng/MTCP\",\"DTN7-ng/MTCP\",\"DTN7-ng/MTCP\",\"DTN7-ng/MTCP\",\"DTN7-ng/MTCP\",\"DTN7-ng/MTCP\",\"DTN7-ng/MTCP\",\"DTN7-ng/MTCP\",\"DTN7-ng/MTCP\",\"DTN7-ng/MTCP\",\"DTN7-ng/MTCP\",\"DTN7-ng/MTCP\",\"DTN7-ng/MTCP\",\"DTN7-ng/MTCP\",\"DTN7-ng/MTCP\",\"DTN7-ng/QUICL\",\"DTN7-ng/QUICL\",\"DTN7-ng/QUICL\",\"DTN7-ng/QUICL\",\"DTN7-ng/QUICL\",\"DTN7-ng/QUICL\",\"DTN7-ng/QUICL\",\"DTN7-ng/QUICL\",\"DTN7-ng/QUICL\",\"DTN7-ng/QUICL\",\"DTN7-ng/QUICL\",\"DTN7-ng/QUICL\",\"DTN7-ng/QUICL\",\"DTN7-ng/QUICL\",\"DTN7-ng/QUICL\",\"DTN7-ng/QUICL\",\"DTN7-ng/QUICL\",\"DTN7-ng/QUICL\",\"DTN7-ng/QUICL\",\"DTN7-ng/QUICL\",\"DTN7-ng/QUICL\",\"DTN7-ng/QUICL\",\"DTN7-ng/QUICL\",\"DTN7-ng/QUICL\",\"DTN7-ng/QUICL\",\"DTN7-ng/QUICL\",\"DTN7-ng/QUICL\",\"DTN7-ng/QUICL\",\"DTN7-ng/QUICL\"],\"x0\":\" \",\"xaxis\":\"x2\",\"y\":[30.639,30.721,30.894,30.705,30.715,30.753,30.747,30.718,30.692,30.755,31.129,30.633,31.13,30.905,30.751,30.797,30.76,30.76,30.711,30.755,30.792,31.143,30.634,30.728,30.793,30.757,30.795,30.789,30.731,30.694,30.785,30.781,31.149,27.62,28.679,28.707,28.654,28.741,28.738,28.653,28.651,28.632,29.391,28.807,28.852,29.842,29.98,29.953,29.89,29.99,29.411,26.674,26.834,26.81,26.808,26.9,26.855,26.837,26.887,26.892,26.796,27.46],\"y0\":\" \",\"yaxis\":\"y2\",\"type\":\"box\"},{\"alignmentgroup\":\"True\",\"hovertemplate\":\"Loss (%)=10<br>Bundle Size=1 kB<br>Bundles=10<br>Software/CLP=%{x}<br>=%{y}<extra></extra>\",\"legendgroup\":\"10\",\"marker\":{\"color\":\"#EF553B\"},\"name\":\"10\",\"notched\":false,\"offsetgroup\":\"10\",\"orientation\":\"v\",\"showlegend\":true,\"x\":[\"DTN7-ng/MTCP\",\"DTN7-ng/MTCP\",\"DTN7-ng/MTCP\",\"DTN7-ng/MTCP\",\"DTN7-ng/MTCP\",\"DTN7-ng/MTCP\",\"DTN7-ng/MTCP\",\"DTN7-ng/MTCP\",\"DTN7-ng/MTCP\",\"DTN7-ng/MTCP\",\"DTN7-ng/MTCP\",\"DTN7-ng/MTCP\",\"DTN7-ng/MTCP\",\"DTN7-ng/MTCP\",\"DTN7-ng/MTCP\",\"DTN7-ng/MTCP\",\"DTN7-ng/MTCP\",\"DTN7-ng/MTCP\",\"DTN7-ng/MTCP\",\"DTN7-ng/MTCP\",\"DTN7-ng/MTCP\",\"DTN7-ng/MTCP\",\"DTN7-ng/MTCP\",\"DTN7-ng/QUICL\",\"DTN7-ng/QUICL\",\"DTN7-ng/QUICL\",\"DTN7-ng/QUICL\",\"DTN7-ng/QUICL\",\"DTN7-ng/QUICL\",\"DTN7-ng/QUICL\",\"DTN7-ng/QUICL\",\"DTN7-ng/QUICL\",\"DTN7-ng/QUICL\",\"DTN7-ng/QUICL\",\"DTN7-ng/QUICL\",\"DTN7-ng/QUICL\",\"DTN7-ng/QUICL\",\"DTN7-ng/QUICL\",\"DTN7-ng/QUICL\",\"DTN7-ng/QUICL\"],\"x0\":\" \",\"xaxis\":\"x5\",\"y\":[25.135,25.129,25.125,25.128,25.117,25.114,26.132,27.111,27.182,27.173,27.174,27.164,27.183,28.151,28.153,28.15,28.152,28.141,28.143,29.747,28.746,28.131,28.128,18.427,18.417,18.411,19.503,19.403,19.4,19.405,17.502,18.435,17.427,17.42,16.33,16.319,16.311,17.31,16.301,17.3],\"y0\":\" \",\"yaxis\":\"y5\",\"type\":\"box\"},{\"alignmentgroup\":\"True\",\"hovertemplate\":\"Loss (%)=10<br>Bundle Size=1 kB<br>Bundles=100<br>Software/CLP=%{x}<br>=%{y}<extra></extra>\",\"legendgroup\":\"10\",\"marker\":{\"color\":\"#EF553B\"},\"name\":\"10\",\"notched\":false,\"offsetgroup\":\"10\",\"orientation\":\"v\",\"showlegend\":false,\"x\":[\"DTN7-ng/QUICL\",\"DTN7-ng/QUICL\",\"DTN7-ng/QUICL\",\"DTN7-ng/QUICL\",\"DTN7-ng/QUICL\",\"DTN7-ng/QUICL\",\"DTN7-ng/QUICL\",\"DTN7-ng/QUICL\",\"DTN7-ng/QUICL\",\"DTN7-ng/QUICL\",\"DTN7-ng/QUICL\",\"DTN7-ng/QUICL\",\"DTN7-ng/QUICL\",\"DTN7-ng/QUICL\",\"DTN7-ng/MTCP\",\"DTN7-ng/MTCP\",\"DTN7-ng/MTCP\",\"DTN7-ng/MTCP\",\"DTN7-ng/MTCP\",\"DTN7-ng/MTCP\",\"DTN7-ng/MTCP\",\"DTN7-ng/MTCP\",\"DTN7-ng/MTCP\",\"DTN7-ng/MTCP\",\"DTN7-ng/MTCP\",\"DTN7-ng/MTCP\",\"DTN7-ng/MTCP\",\"DTN7-ng/MTCP\",\"DTN7-ng/MTCP\",\"DTN7-ng/MTCP\",\"DTN7-ng/MTCP\",\"DTN7-ng/MTCP\",\"DTN7-ng/MTCP\",\"DTN7-ng/MTCP\",\"DTN7-ng/MTCP\",\"DTN7-ng/MTCP\",\"DTN7-ng/MTCP\",\"DTN7-ng/MTCP\",\"DTN7-ng/MTCP\",\"DTN7-ng/MTCP\",\"DTN7-ng/QUICL\",\"DTN7-ng/QUICL\",\"DTN7-ng/QUICL\",\"DTN7-ng/QUICL\",\"DTN7-ng/QUICL\",\"DTN7-ng/QUICL\",\"DTN7-ng/QUICL\"],\"x0\":\" \",\"xaxis\":\"x6\",\"y\":[19.878,19.848,19.729,19.801,19.771,19.745,19.821,19.789,19.736,21.636,14.231,14.25,15.287,15.307,26.447,27.498,26.439,27.408,27.489,27.44,27.41,27.488,27.976,23.453,26.417,26.405,27.423,27.397,27.991,25.438,25.41,25.395,25.371,25.35,25.43,25.413,25.389,25.36,26.437,27.038,18.58,19.653,18.578,19.56,19.531,19.59,21.546],\"y0\":\" \",\"yaxis\":\"y6\",\"type\":\"box\"},{\"alignmentgroup\":\"True\",\"hovertemplate\":\"Loss (%)=10<br>Bundle Size=100 kB<br>Bundles=10<br>Software/CLP=%{x}<br>=%{y}<extra></extra>\",\"legendgroup\":\"10\",\"marker\":{\"color\":\"#EF553B\"},\"name\":\"10\",\"notched\":false,\"offsetgroup\":\"10\",\"orientation\":\"v\",\"showlegend\":false,\"x\":[\"DTN7-ng/QUICL\",\"DTN7-ng/QUICL\",\"DTN7-ng/QUICL\",\"DTN7-ng/QUICL\",\"DTN7-ng/QUICL\",\"DTN7-ng/QUICL\",\"DTN7-ng/QUICL\",\"DTN7-ng/QUICL\",\"DTN7-ng/QUICL\",\"DTN7-ng/QUICL\",\"DTN7-ng/QUICL\",\"DTN7-ng/MTCP\",\"DTN7-ng/MTCP\",\"DTN7-ng/MTCP\",\"DTN7-ng/MTCP\",\"DTN7-ng/MTCP\",\"DTN7-ng/MTCP\",\"DTN7-ng/MTCP\",\"DTN7-ng/MTCP\",\"DTN7-ng/MTCP\",\"DTN7-ng/MTCP\",\"DTN7-ng/MTCP\",\"DTN7-ng/QUICL\",\"DTN7-ng/QUICL\",\"DTN7-ng/QUICL\",\"DTN7-ng/QUICL\",\"DTN7-ng/QUICL\"],\"x0\":\" \",\"xaxis\":\"x3\",\"y\":[17.487,17.5,21.509,19.505,19.53,20.542,21.719,21.397,23.437,23.342,22.323,33.168,32.388,33.392,37.075,30.15,31.606,36.215,38.375,39.186,34.146,35.14,19.465,20.486,21.528,24.46,21.468],\"y0\":\" \",\"yaxis\":\"y3\",\"type\":\"box\"},{\"alignmentgroup\":\"True\",\"hovertemplate\":\"Loss (%)=10<br>Bundle Size=100 kB<br>Bundles=100<br>Software/CLP=%{x}<br>=%{y}<extra></extra>\",\"legendgroup\":\"10\",\"marker\":{\"color\":\"#EF553B\"},\"name\":\"10\",\"notched\":false,\"offsetgroup\":\"10\",\"orientation\":\"v\",\"showlegend\":false,\"x\":[\"DTN7-ng/QUICL\",\"DTN7-ng/QUICL\",\"DTN7-ng/QUICL\",\"DTN7-ng/QUICL\",\"DTN7-ng/QUICL\",\"DTN7-ng/QUICL\",\"DTN7-ng/QUICL\",\"DTN7-ng/QUICL\",\"DTN7-ng/QUICL\",\"DTN7-ng/QUICL\",\"DTN7-ng/QUICL\",\"DTN7-ng/QUICL\",\"DTN7-ng/QUICL\",\"DTN7-ng/QUICL\",\"DTN7-ng/QUICL\",\"DTN7-ng/QUICL\",\"DTN7-ng/QUICL\",\"DTN7-ng/MTCP\",\"DTN7-ng/MTCP\",\"DTN7-ng/MTCP\",\"DTN7-ng/MTCP\",\"DTN7-ng/MTCP\",\"DTN7-ng/MTCP\",\"DTN7-ng/MTCP\",\"DTN7-ng/MTCP\",\"DTN7-ng/MTCP\",\"DTN7-ng/MTCP\",\"DTN7-ng/QUICL\",\"DTN7-ng/QUICL\",\"DTN7-ng/QUICL\",\"DTN7-ng/QUICL\",\"DTN7-ng/QUICL\",\"DTN7-ng/QUICL\",\"DTN7-ng/QUICL\",\"DTN7-ng/QUICL\"],\"x0\":\" \",\"xaxis\":\"x4\",\"y\":[19.273,20.328,20.336,20.298,20.369,20.35,20.282,20.274,21.152,20.295,20.3,20.287,21.255,21.343,19.33,21.347,21.384,29.429,41.444,42.419,29.696,31.509,40.467,47.271,31.413,38.526,39.288,20.477,20.583,20.581,20.659,20.619,20.562,20.581,21.358],\"y0\":\" \",\"yaxis\":\"y4\",\"type\":\"box\"},{\"alignmentgroup\":\"True\",\"hovertemplate\":\"Loss (%)=10<br>Bundle Size=1 MB<br>Bundles=10<br>Software/CLP=%{x}<br>=%{y}<extra></extra>\",\"legendgroup\":\"10\",\"marker\":{\"color\":\"#EF553B\"},\"name\":\"10\",\"notched\":false,\"offsetgroup\":\"10\",\"orientation\":\"v\",\"showlegend\":false,\"x\":[\"DTN7-ng/QUICL\",\"DTN7-ng/QUICL\",\"DTN7-ng/QUICL\",\"DTN7-ng/QUICL\",\"DTN7-ng/QUICL\",\"DTN7-ng/QUICL\",\"DTN7-ng/QUICL\",\"DTN7-ng/QUICL\",\"DTN7-ng/QUICL\",\"DTN7-ng/QUICL\",\"DTN7-ng/QUICL\",\"DTN7-ng/MTCP\",\"DTN7-ng/MTCP\",\"DTN7-ng/MTCP\",\"DTN7-ng/MTCP\",\"DTN7-ng/MTCP\",\"DTN7-ng/MTCP\",\"DTN7-ng/MTCP\",\"DTN7-ng/MTCP\"],\"x0\":\" \",\"xaxis\":\"x\",\"y\":[43.295,43.126,41.503,42.666,43.843,45.985,45.051,45.039,38.707,41.778,40.68,244.581,181.244,270.505,277.858,328.319,251.581,262.671,313.655],\"y0\":\" \",\"yaxis\":\"y\",\"type\":\"box\"},{\"alignmentgroup\":\"True\",\"hovertemplate\":\"Loss (%)=10<br>Bundle Size=1 MB<br>Bundles=100<br>Software/CLP=%{x}<br>=%{y}<extra></extra>\",\"legendgroup\":\"10\",\"marker\":{\"color\":\"#EF553B\"},\"name\":\"10\",\"notched\":false,\"offsetgroup\":\"10\",\"orientation\":\"v\",\"showlegend\":false,\"x\":[\"DTN7-ng/QUICL\",\"DTN7-ng/QUICL\",\"DTN7-ng/QUICL\",\"DTN7-ng/QUICL\",\"DTN7-ng/QUICL\",\"DTN7-ng/QUICL\",\"DTN7-ng/QUICL\",\"DTN7-ng/QUICL\",\"DTN7-ng/QUICL\",\"DTN7-ng/MTCP\",\"DTN7-ng/MTCP\",\"DTN7-ng/MTCP\",\"DTN7-ng/MTCP\",\"DTN7-ng/MTCP\",\"DTN7-ng/QUICL\",\"DTN7-ng/QUICL\",\"DTN7-ng/QUICL\",\"DTN7-ng/QUICL\"],\"x0\":\" \",\"xaxis\":\"x2\",\"y\":[41.222,46.428,45.057,37.406,41.669,42.672,43.785,44.524,45.238,234.027,230.456,179.789,227.733,200.656,38.39,41.623,40.345,41.142],\"y0\":\" \",\"yaxis\":\"y2\",\"type\":\"box\"},{\"alignmentgroup\":\"True\",\"hovertemplate\":\"Loss (%)=30<br>Bundle Size=1 kB<br>Bundles=10<br>Software/CLP=%{x}<br>=%{y}<extra></extra>\",\"legendgroup\":\"30\",\"marker\":{\"color\":\"#00cc96\"},\"name\":\"30\",\"notched\":false,\"offsetgroup\":\"30\",\"orientation\":\"v\",\"showlegend\":true,\"x\":[\"DTN7-ng/MTCP\",\"DTN7-ng/MTCP\",\"DTN7-ng/MTCP\",\"DTN7-ng/QUICL\",\"DTN7-ng/QUICL\",\"DTN7-ng/QUICL\",\"DTN7-ng/QUICL\",\"DTN7-ng/QUICL\",\"DTN7-ng/QUICL\",\"DTN7-ng/QUICL\"],\"x0\":\" \",\"xaxis\":\"x5\",\"y\":[35.341,32.146,29.112,22.808,19.524,21.433,24.492,20.554,36.629,36.601],\"y0\":\" \",\"yaxis\":\"y5\",\"type\":\"box\"},{\"alignmentgroup\":\"True\",\"hovertemplate\":\"Loss (%)=30<br>Bundle Size=1 kB<br>Bundles=100<br>Software/CLP=%{x}<br>=%{y}<extra></extra>\",\"legendgroup\":\"30\",\"marker\":{\"color\":\"#00cc96\"},\"name\":\"30\",\"notched\":false,\"offsetgroup\":\"30\",\"orientation\":\"v\",\"showlegend\":false,\"x\":[\"DTN7-ng/MTCP\",\"DTN7-ng/MTCP\",\"DTN7-ng/MTCP\",\"DTN7-ng/MTCP\",\"DTN7-ng/MTCP\",\"DTN7-ng/QUICL\",\"DTN7-ng/QUICL\",\"DTN7-ng/QUICL\",\"DTN7-ng/QUICL\",\"DTN7-ng/QUICL\",\"DTN7-ng/QUICL\",\"DTN7-ng/QUICL\",\"DTN7-ng/QUICL\",\"DTN7-ng/QUICL\",\"DTN7-ng/QUICL\",\"DTN7-ng/QUICL\",\"DTN7-ng/QUICL\",\"DTN7-ng/QUICL\",\"DTN7-ng/QUICL\"],\"x0\":\" \",\"xaxis\":\"x6\",\"y\":[32.017,28.418,28.948,36.051,182.749,17.512,17.491,19.463,18.458,20.288,17.439,16.465,16.467,19.523,21.567,19.482,19.537,19.484,20.605],\"y0\":\" \",\"yaxis\":\"y6\",\"type\":\"box\"},{\"alignmentgroup\":\"True\",\"hovertemplate\":\"Loss (%)=30<br>Bundle Size=100 kB<br>Bundles=10<br>Software/CLP=%{x}<br>=%{y}<extra></extra>\",\"legendgroup\":\"30\",\"marker\":{\"color\":\"#00cc96\"},\"name\":\"30\",\"notched\":false,\"offsetgroup\":\"30\",\"orientation\":\"v\",\"showlegend\":false,\"x\":[\"DTN7-ng/QUICL\",\"DTN7-ng/QUICL\",\"DTN7-ng/QUICL\",\"DTN7-ng/QUICL\",\"DTN7-ng/QUICL\",\"DTN7-ng/QUICL\",\"DTN7-ng/QUICL\",\"DTN7-ng/QUICL\",\"DTN7-ng/QUICL\",\"DTN7-ng/QUICL\",\"DTN7-ng/QUICL\"],\"x0\":\" \",\"xaxis\":\"x3\",\"y\":[40.066,63.597,70.034,77.504,40.817,53.171,55.56,44.594,59.462,60.731,64.301],\"y0\":\" \",\"yaxis\":\"y3\",\"type\":\"box\"},{\"alignmentgroup\":\"True\",\"hovertemplate\":\"Loss (%)=30<br>Bundle Size=100 kB<br>Bundles=100<br>Software/CLP=%{x}<br>=%{y}<extra></extra>\",\"legendgroup\":\"30\",\"marker\":{\"color\":\"#00cc96\"},\"name\":\"30\",\"notched\":false,\"offsetgroup\":\"30\",\"orientation\":\"v\",\"showlegend\":false,\"x\":[\"DTN7-ng/QUICL\",\"DTN7-ng/QUICL\",\"DTN7-ng/QUICL\",\"DTN7-ng/QUICL\",\"DTN7-ng/QUICL\",\"DTN7-ng/QUICL\",\"DTN7-ng/QUICL\",\"DTN7-ng/QUICL\",\"DTN7-ng/QUICL\",\"DTN7-ng/QUICL\",\"DTN7-ng/QUICL\"],\"x0\":\" \",\"xaxis\":\"x4\",\"y\":[50.092,63.811,71.589,59.165,79.055,37.768,51.139,56.169,57.465,59.296,65.261],\"y0\":\" \",\"yaxis\":\"y4\",\"type\":\"box\"},{\"alignmentgroup\":\"True\",\"hovertemplate\":\"Loss (%)=30<br>Bundle Size=1 MB<br>Bundles=10<br>Software/CLP=%{x}<br>=%{y}<extra></extra>\",\"legendgroup\":\"30\",\"marker\":{\"color\":\"#00cc96\"},\"name\":\"30\",\"notched\":false,\"offsetgroup\":\"30\",\"orientation\":\"v\",\"showlegend\":false,\"x\":[\"DTN7-ng/QUICL\",\"DTN7-ng/QUICL\",\"DTN7-ng/QUICL\",\"DTN7-ng/QUICL\",\"DTN7-ng/QUICL\",\"DTN7-ng/QUICL\",\"DTN7-ng/QUICL\",\"DTN7-ng/QUICL\",\"DTN7-ng/QUICL\",\"DTN7-ng/QUICL\",\"DTN7-ng/QUICL\",\"DTN7-ng/QUICL\",\"DTN7-ng/QUICL\",\"DTN7-ng/QUICL\",\"DTN7-ng/QUICL\"],\"x0\":\" \",\"xaxis\":\"x\",\"y\":[526.104,666.174,710.479,751.689,755.705,783.251,452.491,503.216,573.228,610.603,638.458,520.19,523.181,594.189,712.684],\"y0\":\" \",\"yaxis\":\"y\",\"type\":\"box\"},{\"alignmentgroup\":\"True\",\"hovertemplate\":\"Loss (%)=30<br>Bundle Size=1 MB<br>Bundles=100<br>Software/CLP=%{x}<br>=%{y}<extra></extra>\",\"legendgroup\":\"30\",\"marker\":{\"color\":\"#00cc96\"},\"name\":\"30\",\"notched\":false,\"offsetgroup\":\"30\",\"orientation\":\"v\",\"showlegend\":false,\"x\":[\"DTN7-ng/QUICL\",\"DTN7-ng/QUICL\",\"DTN7-ng/QUICL\",\"DTN7-ng/QUICL\",\"DTN7-ng/QUICL\",\"DTN7-ng/QUICL\",\"DTN7-ng/QUICL\",\"DTN7-ng/QUICL\",\"DTN7-ng/QUICL\"],\"x0\":\" \",\"xaxis\":\"x2\",\"y\":[1202.869,1399.308,1415.537,1574.487,1464.926,1513.372,1537.718,1600.037,1746.983],\"y0\":\" \",\"yaxis\":\"y2\",\"type\":\"box\"},{\"alignmentgroup\":\"True\",\"hovertemplate\":\"Loss (%)=50<br>Bundle Size=1 kB<br>Bundles=100<br>Software/CLP=%{x}<br>=%{y}<extra></extra>\",\"legendgroup\":\"50\",\"marker\":{\"color\":\"#ab63fa\"},\"name\":\"50\",\"notched\":false,\"offsetgroup\":\"50\",\"orientation\":\"v\",\"showlegend\":true,\"x\":[\"DTN7-ng/MTCP\",\"DTN7-ng/QUICL\"],\"x0\":\" \",\"xaxis\":\"x6\",\"y\":[178.007,36.52],\"y0\":\" \",\"yaxis\":\"y6\",\"type\":\"box\"},{\"alignmentgroup\":\"True\",\"hovertemplate\":\"Loss (%)=50<br>Bundle Size=100 kB<br>Bundles=10<br>Software/CLP=%{x}<br>=%{y}<extra></extra>\",\"legendgroup\":\"50\",\"marker\":{\"color\":\"#ab63fa\"},\"name\":\"50\",\"notched\":false,\"offsetgroup\":\"50\",\"orientation\":\"v\",\"showlegend\":false,\"x\":[\"DTN7-ng/QUICL\"],\"x0\":\" \",\"xaxis\":\"x3\",\"y\":[1306.615],\"y0\":\" \",\"yaxis\":\"y3\",\"type\":\"box\"}],                        {\"template\":{\"data\":{\"histogram2dcontour\":[{\"type\":\"histogram2dcontour\",\"colorbar\":{\"outlinewidth\":0,\"ticks\":\"\"},\"colorscale\":[[0.0,\"#0d0887\"],[0.1111111111111111,\"#46039f\"],[0.2222222222222222,\"#7201a8\"],[0.3333333333333333,\"#9c179e\"],[0.4444444444444444,\"#bd3786\"],[0.5555555555555556,\"#d8576b\"],[0.6666666666666666,\"#ed7953\"],[0.7777777777777778,\"#fb9f3a\"],[0.8888888888888888,\"#fdca26\"],[1.0,\"#f0f921\"]]}],\"choropleth\":[{\"type\":\"choropleth\",\"colorbar\":{\"outlinewidth\":0,\"ticks\":\"\"}}],\"histogram2d\":[{\"type\":\"histogram2d\",\"colorbar\":{\"outlinewidth\":0,\"ticks\":\"\"},\"colorscale\":[[0.0,\"#0d0887\"],[0.1111111111111111,\"#46039f\"],[0.2222222222222222,\"#7201a8\"],[0.3333333333333333,\"#9c179e\"],[0.4444444444444444,\"#bd3786\"],[0.5555555555555556,\"#d8576b\"],[0.6666666666666666,\"#ed7953\"],[0.7777777777777778,\"#fb9f3a\"],[0.8888888888888888,\"#fdca26\"],[1.0,\"#f0f921\"]]}],\"heatmap\":[{\"type\":\"heatmap\",\"colorbar\":{\"outlinewidth\":0,\"ticks\":\"\"},\"colorscale\":[[0.0,\"#0d0887\"],[0.1111111111111111,\"#46039f\"],[0.2222222222222222,\"#7201a8\"],[0.3333333333333333,\"#9c179e\"],[0.4444444444444444,\"#bd3786\"],[0.5555555555555556,\"#d8576b\"],[0.6666666666666666,\"#ed7953\"],[0.7777777777777778,\"#fb9f3a\"],[0.8888888888888888,\"#fdca26\"],[1.0,\"#f0f921\"]]}],\"heatmapgl\":[{\"type\":\"heatmapgl\",\"colorbar\":{\"outlinewidth\":0,\"ticks\":\"\"},\"colorscale\":[[0.0,\"#0d0887\"],[0.1111111111111111,\"#46039f\"],[0.2222222222222222,\"#7201a8\"],[0.3333333333333333,\"#9c179e\"],[0.4444444444444444,\"#bd3786\"],[0.5555555555555556,\"#d8576b\"],[0.6666666666666666,\"#ed7953\"],[0.7777777777777778,\"#fb9f3a\"],[0.8888888888888888,\"#fdca26\"],[1.0,\"#f0f921\"]]}],\"contourcarpet\":[{\"type\":\"contourcarpet\",\"colorbar\":{\"outlinewidth\":0,\"ticks\":\"\"}}],\"contour\":[{\"type\":\"contour\",\"colorbar\":{\"outlinewidth\":0,\"ticks\":\"\"},\"colorscale\":[[0.0,\"#0d0887\"],[0.1111111111111111,\"#46039f\"],[0.2222222222222222,\"#7201a8\"],[0.3333333333333333,\"#9c179e\"],[0.4444444444444444,\"#bd3786\"],[0.5555555555555556,\"#d8576b\"],[0.6666666666666666,\"#ed7953\"],[0.7777777777777778,\"#fb9f3a\"],[0.8888888888888888,\"#fdca26\"],[1.0,\"#f0f921\"]]}],\"surface\":[{\"type\":\"surface\",\"colorbar\":{\"outlinewidth\":0,\"ticks\":\"\"},\"colorscale\":[[0.0,\"#0d0887\"],[0.1111111111111111,\"#46039f\"],[0.2222222222222222,\"#7201a8\"],[0.3333333333333333,\"#9c179e\"],[0.4444444444444444,\"#bd3786\"],[0.5555555555555556,\"#d8576b\"],[0.6666666666666666,\"#ed7953\"],[0.7777777777777778,\"#fb9f3a\"],[0.8888888888888888,\"#fdca26\"],[1.0,\"#f0f921\"]]}],\"mesh3d\":[{\"type\":\"mesh3d\",\"colorbar\":{\"outlinewidth\":0,\"ticks\":\"\"}}],\"scatter\":[{\"fillpattern\":{\"fillmode\":\"overlay\",\"size\":10,\"solidity\":0.2},\"type\":\"scatter\"}],\"parcoords\":[{\"type\":\"parcoords\",\"line\":{\"colorbar\":{\"outlinewidth\":0,\"ticks\":\"\"}}}],\"scatterpolargl\":[{\"type\":\"scatterpolargl\",\"marker\":{\"colorbar\":{\"outlinewidth\":0,\"ticks\":\"\"}}}],\"bar\":[{\"error_x\":{\"color\":\"#2a3f5f\"},\"error_y\":{\"color\":\"#2a3f5f\"},\"marker\":{\"line\":{\"color\":\"#E5ECF6\",\"width\":0.5},\"pattern\":{\"fillmode\":\"overlay\",\"size\":10,\"solidity\":0.2}},\"type\":\"bar\"}],\"scattergeo\":[{\"type\":\"scattergeo\",\"marker\":{\"colorbar\":{\"outlinewidth\":0,\"ticks\":\"\"}}}],\"scatterpolar\":[{\"type\":\"scatterpolar\",\"marker\":{\"colorbar\":{\"outlinewidth\":0,\"ticks\":\"\"}}}],\"histogram\":[{\"marker\":{\"pattern\":{\"fillmode\":\"overlay\",\"size\":10,\"solidity\":0.2}},\"type\":\"histogram\"}],\"scattergl\":[{\"type\":\"scattergl\",\"marker\":{\"colorbar\":{\"outlinewidth\":0,\"ticks\":\"\"}}}],\"scatter3d\":[{\"type\":\"scatter3d\",\"line\":{\"colorbar\":{\"outlinewidth\":0,\"ticks\":\"\"}},\"marker\":{\"colorbar\":{\"outlinewidth\":0,\"ticks\":\"\"}}}],\"scattermapbox\":[{\"type\":\"scattermapbox\",\"marker\":{\"colorbar\":{\"outlinewidth\":0,\"ticks\":\"\"}}}],\"scatterternary\":[{\"type\":\"scatterternary\",\"marker\":{\"colorbar\":{\"outlinewidth\":0,\"ticks\":\"\"}}}],\"scattercarpet\":[{\"type\":\"scattercarpet\",\"marker\":{\"colorbar\":{\"outlinewidth\":0,\"ticks\":\"\"}}}],\"carpet\":[{\"aaxis\":{\"endlinecolor\":\"#2a3f5f\",\"gridcolor\":\"white\",\"linecolor\":\"white\",\"minorgridcolor\":\"white\",\"startlinecolor\":\"#2a3f5f\"},\"baxis\":{\"endlinecolor\":\"#2a3f5f\",\"gridcolor\":\"white\",\"linecolor\":\"white\",\"minorgridcolor\":\"white\",\"startlinecolor\":\"#2a3f5f\"},\"type\":\"carpet\"}],\"table\":[{\"cells\":{\"fill\":{\"color\":\"#EBF0F8\"},\"line\":{\"color\":\"white\"}},\"header\":{\"fill\":{\"color\":\"#C8D4E3\"},\"line\":{\"color\":\"white\"}},\"type\":\"table\"}],\"barpolar\":[{\"marker\":{\"line\":{\"color\":\"#E5ECF6\",\"width\":0.5},\"pattern\":{\"fillmode\":\"overlay\",\"size\":10,\"solidity\":0.2}},\"type\":\"barpolar\"}],\"pie\":[{\"automargin\":true,\"type\":\"pie\"}]},\"layout\":{\"autotypenumbers\":\"strict\",\"colorway\":[\"#636efa\",\"#EF553B\",\"#00cc96\",\"#ab63fa\",\"#FFA15A\",\"#19d3f3\",\"#FF6692\",\"#B6E880\",\"#FF97FF\",\"#FECB52\"],\"font\":{\"color\":\"#2a3f5f\"},\"hovermode\":\"closest\",\"hoverlabel\":{\"align\":\"left\"},\"paper_bgcolor\":\"white\",\"plot_bgcolor\":\"#E5ECF6\",\"polar\":{\"bgcolor\":\"#E5ECF6\",\"angularaxis\":{\"gridcolor\":\"white\",\"linecolor\":\"white\",\"ticks\":\"\"},\"radialaxis\":{\"gridcolor\":\"white\",\"linecolor\":\"white\",\"ticks\":\"\"}},\"ternary\":{\"bgcolor\":\"#E5ECF6\",\"aaxis\":{\"gridcolor\":\"white\",\"linecolor\":\"white\",\"ticks\":\"\"},\"baxis\":{\"gridcolor\":\"white\",\"linecolor\":\"white\",\"ticks\":\"\"},\"caxis\":{\"gridcolor\":\"white\",\"linecolor\":\"white\",\"ticks\":\"\"}},\"coloraxis\":{\"colorbar\":{\"outlinewidth\":0,\"ticks\":\"\"}},\"colorscale\":{\"sequential\":[[0.0,\"#0d0887\"],[0.1111111111111111,\"#46039f\"],[0.2222222222222222,\"#7201a8\"],[0.3333333333333333,\"#9c179e\"],[0.4444444444444444,\"#bd3786\"],[0.5555555555555556,\"#d8576b\"],[0.6666666666666666,\"#ed7953\"],[0.7777777777777778,\"#fb9f3a\"],[0.8888888888888888,\"#fdca26\"],[1.0,\"#f0f921\"]],\"sequentialminus\":[[0.0,\"#0d0887\"],[0.1111111111111111,\"#46039f\"],[0.2222222222222222,\"#7201a8\"],[0.3333333333333333,\"#9c179e\"],[0.4444444444444444,\"#bd3786\"],[0.5555555555555556,\"#d8576b\"],[0.6666666666666666,\"#ed7953\"],[0.7777777777777778,\"#fb9f3a\"],[0.8888888888888888,\"#fdca26\"],[1.0,\"#f0f921\"]],\"diverging\":[[0,\"#8e0152\"],[0.1,\"#c51b7d\"],[0.2,\"#de77ae\"],[0.3,\"#f1b6da\"],[0.4,\"#fde0ef\"],[0.5,\"#f7f7f7\"],[0.6,\"#e6f5d0\"],[0.7,\"#b8e186\"],[0.8,\"#7fbc41\"],[0.9,\"#4d9221\"],[1,\"#276419\"]]},\"xaxis\":{\"gridcolor\":\"white\",\"linecolor\":\"white\",\"ticks\":\"\",\"title\":{\"standoff\":15},\"zerolinecolor\":\"white\",\"automargin\":true,\"zerolinewidth\":2},\"yaxis\":{\"gridcolor\":\"white\",\"linecolor\":\"white\",\"ticks\":\"\",\"title\":{\"standoff\":15},\"zerolinecolor\":\"white\",\"automargin\":true,\"zerolinewidth\":2},\"scene\":{\"xaxis\":{\"backgroundcolor\":\"#E5ECF6\",\"gridcolor\":\"white\",\"linecolor\":\"white\",\"showbackground\":true,\"ticks\":\"\",\"zerolinecolor\":\"white\",\"gridwidth\":2},\"yaxis\":{\"backgroundcolor\":\"#E5ECF6\",\"gridcolor\":\"white\",\"linecolor\":\"white\",\"showbackground\":true,\"ticks\":\"\",\"zerolinecolor\":\"white\",\"gridwidth\":2},\"zaxis\":{\"backgroundcolor\":\"#E5ECF6\",\"gridcolor\":\"white\",\"linecolor\":\"white\",\"showbackground\":true,\"ticks\":\"\",\"zerolinecolor\":\"white\",\"gridwidth\":2}},\"shapedefaults\":{\"line\":{\"color\":\"#2a3f5f\"}},\"annotationdefaults\":{\"arrowcolor\":\"#2a3f5f\",\"arrowhead\":0,\"arrowwidth\":1},\"geo\":{\"bgcolor\":\"white\",\"landcolor\":\"#E5ECF6\",\"subunitcolor\":\"white\",\"showland\":true,\"showlakes\":true,\"lakecolor\":\"white\"},\"title\":{\"x\":0.05},\"mapbox\":{\"style\":\"light\"}}},\"xaxis\":{\"anchor\":\"y\",\"domain\":[0.0,0.48],\"title\":{\"text\":\"Software/CLP\"},\"categoryorder\":\"array\",\"categoryarray\":[\"Serval\",\"IBR-DTN/TCPCL\",\"DTN7-rs/MTCP\",\"DTN7-rs/TCPCL\",\"DTN7-rs/HTTP\",\"DTN7-ng/MTCP\",\"DTN7-ng/QUICL\"]},\"yaxis\":{\"anchor\":\"x\",\"domain\":[0.0,0.3133333333333333],\"title\":{\"text\":\"\"}},\"xaxis2\":{\"anchor\":\"y2\",\"domain\":[0.5,0.98],\"matches\":\"x\",\"title\":{\"text\":\"Software/CLP\"},\"categoryorder\":\"array\",\"categoryarray\":[\"Serval\",\"IBR-DTN/TCPCL\",\"DTN7-rs/MTCP\",\"DTN7-rs/TCPCL\",\"DTN7-rs/HTTP\",\"DTN7-ng/MTCP\",\"DTN7-ng/QUICL\"]},\"yaxis2\":{\"anchor\":\"x2\",\"domain\":[0.0,0.3133333333333333],\"matches\":\"y\",\"showticklabels\":false},\"xaxis3\":{\"anchor\":\"y3\",\"domain\":[0.0,0.48],\"matches\":\"x\",\"showticklabels\":false},\"yaxis3\":{\"anchor\":\"x3\",\"domain\":[0.34333333333333327,0.6566666666666665],\"matches\":\"y\",\"title\":{\"text\":\"\"}},\"xaxis4\":{\"anchor\":\"y4\",\"domain\":[0.5,0.98],\"matches\":\"x\",\"showticklabels\":false},\"yaxis4\":{\"anchor\":\"x4\",\"domain\":[0.34333333333333327,0.6566666666666665],\"matches\":\"y\",\"showticklabels\":false},\"xaxis5\":{\"anchor\":\"y5\",\"domain\":[0.0,0.48],\"matches\":\"x\",\"showticklabels\":false},\"yaxis5\":{\"anchor\":\"x5\",\"domain\":[0.6866666666666665,0.9999999999999998],\"matches\":\"y\",\"title\":{\"text\":\"\"}},\"xaxis6\":{\"anchor\":\"y6\",\"domain\":[0.5,0.98],\"matches\":\"x\",\"showticklabels\":false},\"yaxis6\":{\"anchor\":\"x6\",\"domain\":[0.6866666666666665,0.9999999999999998],\"matches\":\"y\",\"showticklabels\":false},\"annotations\":[{\"showarrow\":false,\"text\":\"Bundles: 10\",\"x\":0.24,\"xanchor\":\"center\",\"xref\":\"paper\",\"y\":0.9999999999999998,\"yanchor\":\"bottom\",\"yref\":\"paper\"},{\"showarrow\":false,\"text\":\"Bundles: 100\",\"x\":0.74,\"xanchor\":\"center\",\"xref\":\"paper\",\"y\":0.9999999999999998,\"yanchor\":\"bottom\",\"yref\":\"paper\"},{\"showarrow\":false,\"text\":\"1 MB\",\"textangle\":90,\"x\":0.98,\"xanchor\":\"left\",\"xref\":\"paper\",\"y\":0.15666666666666665,\"yanchor\":\"middle\",\"yref\":\"paper\"},{\"showarrow\":false,\"text\":\"100 kB\",\"textangle\":90,\"x\":0.98,\"xanchor\":\"left\",\"xref\":\"paper\",\"y\":0.4999999999999999,\"yanchor\":\"middle\",\"yref\":\"paper\"},{\"showarrow\":false,\"text\":\"1 kB\",\"textangle\":90,\"x\":0.98,\"xanchor\":\"left\",\"xref\":\"paper\",\"y\":0.8433333333333332,\"yanchor\":\"middle\",\"yref\":\"paper\"},{\"font\":{\"size\":14},\"text\":\"Runtime (s)\",\"textangle\":-90,\"x\":-0.05,\"xref\":\"paper\",\"y\":0.35,\"yref\":\"paper\"}],\"legend\":{\"title\":{\"text\":\"Loss (%)\"},\"tracegroupgap\":0},\"margin\":{\"t\":20,\"l\":0,\"r\":0,\"b\":0},\"boxmode\":\"group\"},                        {\"responsive\": true}                    ).then(function(){\n",
       "                            \n",
       "var gd = document.getElementById('09f57c01-85eb-4254-872d-44fae3727c63');\n",
       "var x = new MutationObserver(function (mutations, observer) {{\n",
       "        var display = window.getComputedStyle(gd).display;\n",
       "        if (!display || display === 'none') {{\n",
       "            console.log([gd, 'removed!']);\n",
       "            Plotly.purge(gd);\n",
       "            observer.disconnect();\n",
       "        }}\n",
       "}});\n",
       "\n",
       "// Listen for the removal of the full notebook cells\n",
       "var notebookContainer = gd.closest('#notebook-container');\n",
       "if (notebookContainer) {{\n",
       "    x.observe(notebookContainer, {childList: true});\n",
       "}}\n",
       "\n",
       "// Listen for the clearing of the current output cell\n",
       "var outputEl = gd.closest('.output');\n",
       "if (outputEl) {{\n",
       "    x.observe(outputEl, {childList: true});\n",
       "}}\n",
       "\n",
       "                        })                };                });            </script>        </div>"
      ]
     },
     "metadata": {},
     "output_type": "display_data"
    }
   ],
   "source": [
    "fig = px.box(\n",
    "    runtime_df[runtime_df[\"# Nodes\"] == 32],\n",
    "    x=\"Software/CLP\", \n",
    "    y=\"Runtime\",\n",
    "    color=\"Loss\",\n",
    "    facet_col=\"# Bundles\",\n",
    "    facet_row=\"Bundle Size\",\n",
    "    labels={\n",
    "        \"Runtime\": \"\",\n",
    "        \"Loss\": \"Loss (%)\",\n",
    "        \"# Bundles\": \"Bundles\",\n",
    "    },\n",
    "    category_orders={\n",
    "        \"Loss\": [0, 10, 30],\n",
    "        \"Bundle Size\": [\"1 kB\", \"100 kB\", \"1 MB\"],\n",
    "        \"Software/CLP\": [\"Serval\", \"IBR-DTN/TCPCL\", \"DTN7-rs/MTCP\", \"DTN7-rs/TCPCL\", \"DTN7-rs/HTTP\", \"DTN7-ng/MTCP\", \"DTN7-ng/QUICL\"],\n",
    "        \"# Bundles\": [10, 100]\n",
    "    },\n",
    ")\n",
    "\n",
    "fig.for_each_annotation(lambda a: a.update(text=a.text.replace(\"=\", \": \")))\n",
    "fig.for_each_annotation(lambda a: a.update(text=a.text.replace(\"Bundle Size: \", \"\")))\n",
    "\n",
    "fig.add_annotation(x=-0.05, y=0.35,\n",
    "                   text=\"Runtime (s)\",\n",
    "                   textangle=-90,\n",
    "                   xref=\"paper\",\n",
    "                   yref=\"paper\",\n",
    "                   font=dict(size=14)\n",
    "                   )\n",
    "\n",
    "fig.update_layout(\n",
    "    margin=dict(l=0, r=0, t=20, b=0),\n",
    ")\n",
    "\n",
    "fig.write_image(\"runtime_32.pdf\", width=700, height=300)\n",
    "fig"
   ]
  },
  {
   "cell_type": "code",
   "execution_count": 11,
   "metadata": {},
   "outputs": [
    {
     "data": {
      "application/vnd.plotly.v1+json": {
       "config": {
        "plotlyServerURL": "https://plot.ly"
       },
       "data": [
        {
         "alignmentgroup": "True",
         "hovertemplate": "Loss (%)=0<br>Bundle Size=1 kB<br>Bundles=10<br>Software/CLP=%{x}<br>=%{y}<extra></extra>",
         "legendgroup": "0",
         "marker": {
          "color": "#636efa"
         },
         "name": "0",
         "notched": false,
         "offsetgroup": "0",
         "orientation": "v",
         "showlegend": true,
         "type": "box",
         "x": [
          "DTN7-ng/QUICL",
          "DTN7-ng/QUICL",
          "DTN7-ng/MTCP",
          "DTN7-ng/MTCP",
          "DTN7-ng/MTCP",
          "DTN7-ng/QUICL"
         ],
         "x0": " ",
         "xaxis": "x5",
         "y": [
          100,
          100,
          100,
          100,
          100,
          100
         ],
         "y0": " ",
         "yaxis": "y5"
        },
        {
         "alignmentgroup": "True",
         "hovertemplate": "Loss (%)=0<br>Bundle Size=1 kB<br>Bundles=100<br>Software/CLP=%{x}<br>=%{y}<extra></extra>",
         "legendgroup": "0",
         "marker": {
          "color": "#636efa"
         },
         "name": "0",
         "notched": false,
         "offsetgroup": "0",
         "orientation": "v",
         "showlegend": false,
         "type": "box",
         "x": [
          "DTN7-ng/QUICL",
          "DTN7-ng/QUICL",
          "DTN7-ng/QUICL",
          "DTN7-ng/MTCP",
          "DTN7-ng/MTCP",
          "DTN7-ng/MTCP"
         ],
         "x0": " ",
         "xaxis": "x6",
         "y": [
          13,
          13,
          12,
          13,
          13,
          12
         ],
         "y0": " ",
         "yaxis": "y6"
        },
        {
         "alignmentgroup": "True",
         "hovertemplate": "Loss (%)=0<br>Bundle Size=100 kB<br>Bundles=10<br>Software/CLP=%{x}<br>=%{y}<extra></extra>",
         "legendgroup": "0",
         "marker": {
          "color": "#636efa"
         },
         "name": "0",
         "notched": false,
         "offsetgroup": "0",
         "orientation": "v",
         "showlegend": false,
         "type": "box",
         "x": [
          "DTN7-ng/MTCP",
          "DTN7-ng/MTCP",
          "DTN7-ng/MTCP",
          "DTN7-ng/QUICL",
          "DTN7-ng/QUICL",
          "DTN7-ng/QUICL"
         ],
         "x0": " ",
         "xaxis": "x3",
         "y": [
          100,
          100,
          100,
          100,
          100,
          100
         ],
         "y0": " ",
         "yaxis": "y3"
        },
        {
         "alignmentgroup": "True",
         "hovertemplate": "Loss (%)=0<br>Bundle Size=100 kB<br>Bundles=100<br>Software/CLP=%{x}<br>=%{y}<extra></extra>",
         "legendgroup": "0",
         "marker": {
          "color": "#636efa"
         },
         "name": "0",
         "notched": false,
         "offsetgroup": "0",
         "orientation": "v",
         "showlegend": false,
         "type": "box",
         "x": [
          "DTN7-ng/QUICL",
          "DTN7-ng/QUICL",
          "DTN7-ng/QUICL",
          "DTN7-ng/MTCP",
          "DTN7-ng/MTCP",
          "DTN7-ng/MTCP"
         ],
         "x0": " ",
         "xaxis": "x4",
         "y": [
          12,
          13,
          13,
          13,
          13,
          13
         ],
         "y0": " ",
         "yaxis": "y4"
        },
        {
         "alignmentgroup": "True",
         "hovertemplate": "Loss (%)=0<br>Bundle Size=1 MB<br>Bundles=10<br>Software/CLP=%{x}<br>=%{y}<extra></extra>",
         "legendgroup": "0",
         "marker": {
          "color": "#636efa"
         },
         "name": "0",
         "notched": false,
         "offsetgroup": "0",
         "orientation": "v",
         "showlegend": false,
         "type": "box",
         "x": [
          "DTN7-ng/QUICL",
          "DTN7-ng/QUICL",
          "DTN7-ng/QUICL",
          "DTN7-ng/MTCP",
          "DTN7-ng/MTCP",
          "DTN7-ng/MTCP"
         ],
         "x0": " ",
         "xaxis": "x",
         "y": [
          100,
          100,
          100,
          100,
          100,
          100
         ],
         "y0": " ",
         "yaxis": "y"
        },
        {
         "alignmentgroup": "True",
         "hovertemplate": "Loss (%)=0<br>Bundle Size=1 MB<br>Bundles=100<br>Software/CLP=%{x}<br>=%{y}<extra></extra>",
         "legendgroup": "0",
         "marker": {
          "color": "#636efa"
         },
         "name": "0",
         "notched": false,
         "offsetgroup": "0",
         "orientation": "v",
         "showlegend": false,
         "type": "box",
         "x": [
          "DTN7-ng/MTCP",
          "DTN7-ng/MTCP",
          "DTN7-ng/MTCP",
          "DTN7-ng/QUICL",
          "DTN7-ng/QUICL",
          "DTN7-ng/QUICL"
         ],
         "x0": " ",
         "xaxis": "x2",
         "y": [
          13,
          13,
          13,
          12,
          13,
          13
         ],
         "y0": " ",
         "yaxis": "y2"
        },
        {
         "alignmentgroup": "True",
         "hovertemplate": "Loss (%)=10<br>Bundle Size=1 kB<br>Bundles=10<br>Software/CLP=%{x}<br>=%{y}<extra></extra>",
         "legendgroup": "10",
         "marker": {
          "color": "#EF553B"
         },
         "name": "10",
         "notched": false,
         "offsetgroup": "10",
         "orientation": "v",
         "showlegend": true,
         "type": "box",
         "x": [
          "DTN7-ng/QUICL",
          "DTN7-ng/QUICL",
          "DTN7-ng/QUICL",
          "DTN7-ng/MTCP",
          "DTN7-ng/MTCP",
          "DTN7-ng/MTCP"
         ],
         "x0": " ",
         "xaxis": "x5",
         "y": [
          100,
          90,
          100,
          100,
          100,
          100
         ],
         "y0": " ",
         "yaxis": "y5"
        },
        {
         "alignmentgroup": "True",
         "hovertemplate": "Loss (%)=10<br>Bundle Size=1 kB<br>Bundles=100<br>Software/CLP=%{x}<br>=%{y}<extra></extra>",
         "legendgroup": "10",
         "marker": {
          "color": "#EF553B"
         },
         "name": "10",
         "notched": false,
         "offsetgroup": "10",
         "orientation": "v",
         "showlegend": false,
         "type": "box",
         "x": [
          "DTN7-ng/QUICL",
          "DTN7-ng/QUICL",
          "DTN7-ng/QUICL",
          "DTN7-ng/MTCP",
          "DTN7-ng/MTCP",
          "DTN7-ng/MTCP"
         ],
         "x0": " ",
         "xaxis": "x6",
         "y": [
          12,
          12,
          13,
          13,
          13,
          13
         ],
         "y0": " ",
         "yaxis": "y6"
        },
        {
         "alignmentgroup": "True",
         "hovertemplate": "Loss (%)=10<br>Bundle Size=100 kB<br>Bundles=10<br>Software/CLP=%{x}<br>=%{y}<extra></extra>",
         "legendgroup": "10",
         "marker": {
          "color": "#EF553B"
         },
         "name": "10",
         "notched": false,
         "offsetgroup": "10",
         "orientation": "v",
         "showlegend": false,
         "type": "box",
         "x": [
          "DTN7-ng/QUICL",
          "DTN7-ng/QUICL",
          "DTN7-ng/QUICL",
          "DTN7-ng/MTCP",
          "DTN7-ng/MTCP",
          "DTN7-ng/MTCP"
         ],
         "x0": " ",
         "xaxis": "x3",
         "y": [
          100,
          100,
          100,
          100,
          100,
          100
         ],
         "y0": " ",
         "yaxis": "y3"
        },
        {
         "alignmentgroup": "True",
         "hovertemplate": "Loss (%)=10<br>Bundle Size=100 kB<br>Bundles=100<br>Software/CLP=%{x}<br>=%{y}<extra></extra>",
         "legendgroup": "10",
         "marker": {
          "color": "#EF553B"
         },
         "name": "10",
         "notched": false,
         "offsetgroup": "10",
         "orientation": "v",
         "showlegend": false,
         "type": "box",
         "x": [
          "DTN7-ng/QUICL",
          "DTN7-ng/QUICL",
          "DTN7-ng/QUICL",
          "DTN7-ng/MTCP",
          "DTN7-ng/MTCP",
          "DTN7-ng/MTCP"
         ],
         "x0": " ",
         "xaxis": "x4",
         "y": [
          13,
          12,
          13,
          12,
          13,
          12
         ],
         "y0": " ",
         "yaxis": "y4"
        },
        {
         "alignmentgroup": "True",
         "hovertemplate": "Loss (%)=10<br>Bundle Size=1 MB<br>Bundles=10<br>Software/CLP=%{x}<br>=%{y}<extra></extra>",
         "legendgroup": "10",
         "marker": {
          "color": "#EF553B"
         },
         "name": "10",
         "notched": false,
         "offsetgroup": "10",
         "orientation": "v",
         "showlegend": false,
         "type": "box",
         "x": [
          "DTN7-ng/QUICL",
          "DTN7-ng/QUICL",
          "DTN7-ng/MTCP",
          "DTN7-ng/MTCP",
          "DTN7-ng/MTCP",
          "DTN7-ng/QUICL"
         ],
         "x0": " ",
         "xaxis": "x",
         "y": [
          100,
          100,
          100,
          100,
          60,
          100
         ],
         "y0": " ",
         "yaxis": "y"
        },
        {
         "alignmentgroup": "True",
         "hovertemplate": "Loss (%)=10<br>Bundle Size=1 MB<br>Bundles=100<br>Software/CLP=%{x}<br>=%{y}<extra></extra>",
         "legendgroup": "10",
         "marker": {
          "color": "#EF553B"
         },
         "name": "10",
         "notched": false,
         "offsetgroup": "10",
         "orientation": "v",
         "showlegend": false,
         "type": "box",
         "x": [
          "DTN7-ng/MTCP",
          "DTN7-ng/QUICL",
          "DTN7-ng/QUICL",
          "DTN7-ng/QUICL",
          "DTN7-ng/MTCP",
          "DTN7-ng/MTCP"
         ],
         "x0": " ",
         "xaxis": "x2",
         "y": [
          31,
          13,
          13,
          12,
          8,
          12
         ],
         "y0": " ",
         "yaxis": "y2"
        },
        {
         "alignmentgroup": "True",
         "hovertemplate": "Loss (%)=30<br>Bundle Size=1 kB<br>Bundles=10<br>Software/CLP=%{x}<br>=%{y}<extra></extra>",
         "legendgroup": "30",
         "marker": {
          "color": "#00cc96"
         },
         "name": "30",
         "notched": false,
         "offsetgroup": "30",
         "orientation": "v",
         "showlegend": true,
         "type": "box",
         "x": [
          "DTN7-ng/MTCP",
          "DTN7-ng/MTCP",
          "DTN7-ng/MTCP",
          "DTN7-ng/QUICL",
          "DTN7-ng/QUICL",
          "DTN7-ng/QUICL"
         ],
         "x0": " ",
         "xaxis": "x5",
         "y": [
          100,
          70,
          80,
          100,
          100,
          100
         ],
         "y0": " ",
         "yaxis": "y5"
        },
        {
         "alignmentgroup": "True",
         "hovertemplate": "Loss (%)=30<br>Bundle Size=1 kB<br>Bundles=100<br>Software/CLP=%{x}<br>=%{y}<extra></extra>",
         "legendgroup": "30",
         "marker": {
          "color": "#00cc96"
         },
         "name": "30",
         "notched": false,
         "offsetgroup": "30",
         "orientation": "v",
         "showlegend": false,
         "type": "box",
         "x": [
          "DTN7-ng/QUICL",
          "DTN7-ng/QUICL",
          "DTN7-ng/MTCP",
          "DTN7-ng/MTCP",
          "DTN7-ng/MTCP",
          "DTN7-ng/QUICL"
         ],
         "x0": " ",
         "xaxis": "x6",
         "y": [
          13,
          13,
          12,
          7.000000000000001,
          10,
          13
         ],
         "y0": " ",
         "yaxis": "y6"
        },
        {
         "alignmentgroup": "True",
         "hovertemplate": "Loss (%)=30<br>Bundle Size=100 kB<br>Bundles=10<br>Software/CLP=%{x}<br>=%{y}<extra></extra>",
         "legendgroup": "30",
         "marker": {
          "color": "#00cc96"
         },
         "name": "30",
         "notched": false,
         "offsetgroup": "30",
         "orientation": "v",
         "showlegend": false,
         "type": "box",
         "x": [
          "DTN7-ng/QUICL",
          "DTN7-ng/QUICL",
          "DTN7-ng/QUICL",
          "DTN7-ng/MTCP",
          "DTN7-ng/MTCP",
          "DTN7-ng/MTCP"
         ],
         "x0": " ",
         "xaxis": "x3",
         "y": [
          100,
          100,
          100,
          0,
          0,
          0
         ],
         "y0": " ",
         "yaxis": "y3"
        },
        {
         "alignmentgroup": "True",
         "hovertemplate": "Loss (%)=30<br>Bundle Size=100 kB<br>Bundles=100<br>Software/CLP=%{x}<br>=%{y}<extra></extra>",
         "legendgroup": "30",
         "marker": {
          "color": "#00cc96"
         },
         "name": "30",
         "notched": false,
         "offsetgroup": "30",
         "orientation": "v",
         "showlegend": false,
         "type": "box",
         "x": [
          "DTN7-ng/MTCP",
          "DTN7-ng/MTCP",
          "DTN7-ng/MTCP",
          "DTN7-ng/QUICL",
          "DTN7-ng/QUICL",
          "DTN7-ng/QUICL"
         ],
         "x0": " ",
         "xaxis": "x4",
         "y": [
          1,
          1,
          1,
          22,
          14.000000000000002,
          15
         ],
         "y0": " ",
         "yaxis": "y4"
        },
        {
         "alignmentgroup": "True",
         "hovertemplate": "Loss (%)=30<br>Bundle Size=1 MB<br>Bundles=10<br>Software/CLP=%{x}<br>=%{y}<extra></extra>",
         "legendgroup": "30",
         "marker": {
          "color": "#00cc96"
         },
         "name": "30",
         "notched": false,
         "offsetgroup": "30",
         "orientation": "v",
         "showlegend": false,
         "type": "box",
         "x": [
          "DTN7-ng/QUICL",
          "DTN7-ng/QUICL",
          "DTN7-ng/QUICL",
          "DTN7-ng/MTCP",
          "DTN7-ng/MTCP",
          "DTN7-ng/MTCP"
         ],
         "x0": " ",
         "xaxis": "x",
         "y": [
          100,
          100,
          100,
          0,
          0,
          0
         ],
         "y0": " ",
         "yaxis": "y"
        },
        {
         "alignmentgroup": "True",
         "hovertemplate": "Loss (%)=30<br>Bundle Size=1 MB<br>Bundles=100<br>Software/CLP=%{x}<br>=%{y}<extra></extra>",
         "legendgroup": "30",
         "marker": {
          "color": "#00cc96"
         },
         "name": "30",
         "notched": false,
         "offsetgroup": "30",
         "orientation": "v",
         "showlegend": false,
         "type": "box",
         "x": [
          "DTN7-ng/QUICL",
          "DTN7-ng/QUICL",
          "DTN7-ng/QUICL",
          "DTN7-ng/MTCP",
          "DTN7-ng/MTCP",
          "DTN7-ng/MTCP"
         ],
         "x0": " ",
         "xaxis": "x2",
         "y": [
          100,
          100,
          100,
          0,
          0,
          0
         ],
         "y0": " ",
         "yaxis": "y2"
        },
        {
         "alignmentgroup": "True",
         "hovertemplate": "Loss (%)=50<br>Bundle Size=1 kB<br>Bundles=10<br>Software/CLP=%{x}<br>=%{y}<extra></extra>",
         "legendgroup": "50",
         "marker": {
          "color": "#ab63fa"
         },
         "name": "50",
         "notched": false,
         "offsetgroup": "50",
         "orientation": "v",
         "showlegend": true,
         "type": "box",
         "x": [
          "DTN7-ng/QUICL",
          "DTN7-ng/QUICL",
          "DTN7-ng/QUICL",
          "DTN7-ng/MTCP",
          "DTN7-ng/MTCP",
          "DTN7-ng/MTCP"
         ],
         "x0": " ",
         "xaxis": "x5",
         "y": [
          100,
          100,
          100,
          20,
          20,
          80
         ],
         "y0": " ",
         "yaxis": "y5"
        },
        {
         "alignmentgroup": "True",
         "hovertemplate": "Loss (%)=50<br>Bundle Size=1 kB<br>Bundles=100<br>Software/CLP=%{x}<br>=%{y}<extra></extra>",
         "legendgroup": "50",
         "marker": {
          "color": "#ab63fa"
         },
         "name": "50",
         "notched": false,
         "offsetgroup": "50",
         "orientation": "v",
         "showlegend": false,
         "type": "box",
         "x": [
          "DTN7-ng/QUICL",
          "DTN7-ng/QUICL",
          "DTN7-ng/QUICL",
          "DTN7-ng/MTCP",
          "DTN7-ng/MTCP",
          "DTN7-ng/MTCP"
         ],
         "x0": " ",
         "xaxis": "x6",
         "y": [
          11,
          12,
          3,
          7.000000000000001,
          5,
          2
         ],
         "y0": " ",
         "yaxis": "y6"
        },
        {
         "alignmentgroup": "True",
         "hovertemplate": "Loss (%)=50<br>Bundle Size=100 kB<br>Bundles=10<br>Software/CLP=%{x}<br>=%{y}<extra></extra>",
         "legendgroup": "50",
         "marker": {
          "color": "#ab63fa"
         },
         "name": "50",
         "notched": false,
         "offsetgroup": "50",
         "orientation": "v",
         "showlegend": false,
         "type": "box",
         "x": [
          "DTN7-ng/MTCP",
          "DTN7-ng/MTCP",
          "DTN7-ng/MTCP",
          "DTN7-ng/QUICL",
          "DTN7-ng/QUICL",
          "DTN7-ng/QUICL"
         ],
         "x0": " ",
         "xaxis": "x3",
         "y": [
          0,
          0,
          0,
          10,
          10,
          10
         ],
         "y0": " ",
         "yaxis": "y3"
        },
        {
         "alignmentgroup": "True",
         "hovertemplate": "Loss (%)=50<br>Bundle Size=100 kB<br>Bundles=100<br>Software/CLP=%{x}<br>=%{y}<extra></extra>",
         "legendgroup": "50",
         "marker": {
          "color": "#ab63fa"
         },
         "name": "50",
         "notched": false,
         "offsetgroup": "50",
         "orientation": "v",
         "showlegend": false,
         "type": "box",
         "x": [
          "DTN7-ng/QUICL",
          "DTN7-ng/QUICL",
          "DTN7-ng/QUICL",
          "DTN7-ng/MTCP",
          "DTN7-ng/MTCP",
          "DTN7-ng/MTCP"
         ],
         "x0": " ",
         "xaxis": "x4",
         "y": [
          0,
          0,
          0,
          0,
          0,
          0
         ],
         "y0": " ",
         "yaxis": "y4"
        },
        {
         "alignmentgroup": "True",
         "hovertemplate": "Loss (%)=50<br>Bundle Size=1 MB<br>Bundles=10<br>Software/CLP=%{x}<br>=%{y}<extra></extra>",
         "legendgroup": "50",
         "marker": {
          "color": "#ab63fa"
         },
         "name": "50",
         "notched": false,
         "offsetgroup": "50",
         "orientation": "v",
         "showlegend": false,
         "type": "box",
         "x": [
          "DTN7-ng/QUICL",
          "DTN7-ng/QUICL",
          "DTN7-ng/QUICL",
          "DTN7-ng/MTCP",
          "DTN7-ng/MTCP",
          "DTN7-ng/MTCP"
         ],
         "x0": " ",
         "xaxis": "x",
         "y": [
          0,
          0,
          0,
          0,
          0,
          0
         ],
         "y0": " ",
         "yaxis": "y"
        },
        {
         "alignmentgroup": "True",
         "hovertemplate": "Loss (%)=50<br>Bundle Size=1 MB<br>Bundles=100<br>Software/CLP=%{x}<br>=%{y}<extra></extra>",
         "legendgroup": "50",
         "marker": {
          "color": "#ab63fa"
         },
         "name": "50",
         "notched": false,
         "offsetgroup": "50",
         "orientation": "v",
         "showlegend": false,
         "type": "box",
         "x": [
          "DTN7-ng/QUICL",
          "DTN7-ng/MTCP",
          "DTN7-ng/MTCP",
          "DTN7-ng/MTCP",
          "DTN7-ng/QUICL",
          "DTN7-ng/QUICL"
         ],
         "x0": " ",
         "xaxis": "x2",
         "y": [
          0,
          0,
          0,
          0,
          0,
          0
         ],
         "y0": " ",
         "yaxis": "y2"
        }
       ],
       "layout": {
        "annotations": [
         {
          "showarrow": false,
          "text": "Bundles: 10",
          "x": 0.24,
          "xanchor": "center",
          "xref": "paper",
          "y": 0.9999999999999998,
          "yanchor": "bottom",
          "yref": "paper"
         },
         {
          "showarrow": false,
          "text": "Bundles: 100",
          "x": 0.74,
          "xanchor": "center",
          "xref": "paper",
          "y": 0.9999999999999998,
          "yanchor": "bottom",
          "yref": "paper"
         },
         {
          "showarrow": false,
          "text": "1 MB",
          "textangle": 90,
          "x": 0.98,
          "xanchor": "left",
          "xref": "paper",
          "y": 0.15666666666666665,
          "yanchor": "middle",
          "yref": "paper"
         },
         {
          "showarrow": false,
          "text": "100 kB",
          "textangle": 90,
          "x": 0.98,
          "xanchor": "left",
          "xref": "paper",
          "y": 0.4999999999999999,
          "yanchor": "middle",
          "yref": "paper"
         },
         {
          "showarrow": false,
          "text": "1 kB",
          "textangle": 90,
          "x": 0.98,
          "xanchor": "left",
          "xref": "paper",
          "y": 0.8433333333333332,
          "yanchor": "middle",
          "yref": "paper"
         },
         {
          "font": {
           "size": 14
          },
          "text": "Successful Receptions (%)",
          "textangle": -90,
          "x": -0.04,
          "xref": "paper",
          "y": 0.35,
          "yref": "paper"
         }
        ],
        "boxmode": "group",
        "legend": {
         "title": {
          "text": "Loss (%)"
         },
         "tracegroupgap": 0
        },
        "margin": {
         "b": 0,
         "l": 0,
         "r": 0,
         "t": 20
        },
        "template": {
         "data": {
          "bar": [
           {
            "error_x": {
             "color": "#2a3f5f"
            },
            "error_y": {
             "color": "#2a3f5f"
            },
            "marker": {
             "line": {
              "color": "#E5ECF6",
              "width": 0.5
             },
             "pattern": {
              "fillmode": "overlay",
              "size": 10,
              "solidity": 0.2
             }
            },
            "type": "bar"
           }
          ],
          "barpolar": [
           {
            "marker": {
             "line": {
              "color": "#E5ECF6",
              "width": 0.5
             },
             "pattern": {
              "fillmode": "overlay",
              "size": 10,
              "solidity": 0.2
             }
            },
            "type": "barpolar"
           }
          ],
          "carpet": [
           {
            "aaxis": {
             "endlinecolor": "#2a3f5f",
             "gridcolor": "white",
             "linecolor": "white",
             "minorgridcolor": "white",
             "startlinecolor": "#2a3f5f"
            },
            "baxis": {
             "endlinecolor": "#2a3f5f",
             "gridcolor": "white",
             "linecolor": "white",
             "minorgridcolor": "white",
             "startlinecolor": "#2a3f5f"
            },
            "type": "carpet"
           }
          ],
          "choropleth": [
           {
            "colorbar": {
             "outlinewidth": 0,
             "ticks": ""
            },
            "type": "choropleth"
           }
          ],
          "contour": [
           {
            "colorbar": {
             "outlinewidth": 0,
             "ticks": ""
            },
            "colorscale": [
             [
              0,
              "#0d0887"
             ],
             [
              0.1111111111111111,
              "#46039f"
             ],
             [
              0.2222222222222222,
              "#7201a8"
             ],
             [
              0.3333333333333333,
              "#9c179e"
             ],
             [
              0.4444444444444444,
              "#bd3786"
             ],
             [
              0.5555555555555556,
              "#d8576b"
             ],
             [
              0.6666666666666666,
              "#ed7953"
             ],
             [
              0.7777777777777778,
              "#fb9f3a"
             ],
             [
              0.8888888888888888,
              "#fdca26"
             ],
             [
              1,
              "#f0f921"
             ]
            ],
            "type": "contour"
           }
          ],
          "contourcarpet": [
           {
            "colorbar": {
             "outlinewidth": 0,
             "ticks": ""
            },
            "type": "contourcarpet"
           }
          ],
          "heatmap": [
           {
            "colorbar": {
             "outlinewidth": 0,
             "ticks": ""
            },
            "colorscale": [
             [
              0,
              "#0d0887"
             ],
             [
              0.1111111111111111,
              "#46039f"
             ],
             [
              0.2222222222222222,
              "#7201a8"
             ],
             [
              0.3333333333333333,
              "#9c179e"
             ],
             [
              0.4444444444444444,
              "#bd3786"
             ],
             [
              0.5555555555555556,
              "#d8576b"
             ],
             [
              0.6666666666666666,
              "#ed7953"
             ],
             [
              0.7777777777777778,
              "#fb9f3a"
             ],
             [
              0.8888888888888888,
              "#fdca26"
             ],
             [
              1,
              "#f0f921"
             ]
            ],
            "type": "heatmap"
           }
          ],
          "heatmapgl": [
           {
            "colorbar": {
             "outlinewidth": 0,
             "ticks": ""
            },
            "colorscale": [
             [
              0,
              "#0d0887"
             ],
             [
              0.1111111111111111,
              "#46039f"
             ],
             [
              0.2222222222222222,
              "#7201a8"
             ],
             [
              0.3333333333333333,
              "#9c179e"
             ],
             [
              0.4444444444444444,
              "#bd3786"
             ],
             [
              0.5555555555555556,
              "#d8576b"
             ],
             [
              0.6666666666666666,
              "#ed7953"
             ],
             [
              0.7777777777777778,
              "#fb9f3a"
             ],
             [
              0.8888888888888888,
              "#fdca26"
             ],
             [
              1,
              "#f0f921"
             ]
            ],
            "type": "heatmapgl"
           }
          ],
          "histogram": [
           {
            "marker": {
             "pattern": {
              "fillmode": "overlay",
              "size": 10,
              "solidity": 0.2
             }
            },
            "type": "histogram"
           }
          ],
          "histogram2d": [
           {
            "colorbar": {
             "outlinewidth": 0,
             "ticks": ""
            },
            "colorscale": [
             [
              0,
              "#0d0887"
             ],
             [
              0.1111111111111111,
              "#46039f"
             ],
             [
              0.2222222222222222,
              "#7201a8"
             ],
             [
              0.3333333333333333,
              "#9c179e"
             ],
             [
              0.4444444444444444,
              "#bd3786"
             ],
             [
              0.5555555555555556,
              "#d8576b"
             ],
             [
              0.6666666666666666,
              "#ed7953"
             ],
             [
              0.7777777777777778,
              "#fb9f3a"
             ],
             [
              0.8888888888888888,
              "#fdca26"
             ],
             [
              1,
              "#f0f921"
             ]
            ],
            "type": "histogram2d"
           }
          ],
          "histogram2dcontour": [
           {
            "colorbar": {
             "outlinewidth": 0,
             "ticks": ""
            },
            "colorscale": [
             [
              0,
              "#0d0887"
             ],
             [
              0.1111111111111111,
              "#46039f"
             ],
             [
              0.2222222222222222,
              "#7201a8"
             ],
             [
              0.3333333333333333,
              "#9c179e"
             ],
             [
              0.4444444444444444,
              "#bd3786"
             ],
             [
              0.5555555555555556,
              "#d8576b"
             ],
             [
              0.6666666666666666,
              "#ed7953"
             ],
             [
              0.7777777777777778,
              "#fb9f3a"
             ],
             [
              0.8888888888888888,
              "#fdca26"
             ],
             [
              1,
              "#f0f921"
             ]
            ],
            "type": "histogram2dcontour"
           }
          ],
          "mesh3d": [
           {
            "colorbar": {
             "outlinewidth": 0,
             "ticks": ""
            },
            "type": "mesh3d"
           }
          ],
          "parcoords": [
           {
            "line": {
             "colorbar": {
              "outlinewidth": 0,
              "ticks": ""
             }
            },
            "type": "parcoords"
           }
          ],
          "pie": [
           {
            "automargin": true,
            "type": "pie"
           }
          ],
          "scatter": [
           {
            "fillpattern": {
             "fillmode": "overlay",
             "size": 10,
             "solidity": 0.2
            },
            "type": "scatter"
           }
          ],
          "scatter3d": [
           {
            "line": {
             "colorbar": {
              "outlinewidth": 0,
              "ticks": ""
             }
            },
            "marker": {
             "colorbar": {
              "outlinewidth": 0,
              "ticks": ""
             }
            },
            "type": "scatter3d"
           }
          ],
          "scattercarpet": [
           {
            "marker": {
             "colorbar": {
              "outlinewidth": 0,
              "ticks": ""
             }
            },
            "type": "scattercarpet"
           }
          ],
          "scattergeo": [
           {
            "marker": {
             "colorbar": {
              "outlinewidth": 0,
              "ticks": ""
             }
            },
            "type": "scattergeo"
           }
          ],
          "scattergl": [
           {
            "marker": {
             "colorbar": {
              "outlinewidth": 0,
              "ticks": ""
             }
            },
            "type": "scattergl"
           }
          ],
          "scattermapbox": [
           {
            "marker": {
             "colorbar": {
              "outlinewidth": 0,
              "ticks": ""
             }
            },
            "type": "scattermapbox"
           }
          ],
          "scatterpolar": [
           {
            "marker": {
             "colorbar": {
              "outlinewidth": 0,
              "ticks": ""
             }
            },
            "type": "scatterpolar"
           }
          ],
          "scatterpolargl": [
           {
            "marker": {
             "colorbar": {
              "outlinewidth": 0,
              "ticks": ""
             }
            },
            "type": "scatterpolargl"
           }
          ],
          "scatterternary": [
           {
            "marker": {
             "colorbar": {
              "outlinewidth": 0,
              "ticks": ""
             }
            },
            "type": "scatterternary"
           }
          ],
          "surface": [
           {
            "colorbar": {
             "outlinewidth": 0,
             "ticks": ""
            },
            "colorscale": [
             [
              0,
              "#0d0887"
             ],
             [
              0.1111111111111111,
              "#46039f"
             ],
             [
              0.2222222222222222,
              "#7201a8"
             ],
             [
              0.3333333333333333,
              "#9c179e"
             ],
             [
              0.4444444444444444,
              "#bd3786"
             ],
             [
              0.5555555555555556,
              "#d8576b"
             ],
             [
              0.6666666666666666,
              "#ed7953"
             ],
             [
              0.7777777777777778,
              "#fb9f3a"
             ],
             [
              0.8888888888888888,
              "#fdca26"
             ],
             [
              1,
              "#f0f921"
             ]
            ],
            "type": "surface"
           }
          ],
          "table": [
           {
            "cells": {
             "fill": {
              "color": "#EBF0F8"
             },
             "line": {
              "color": "white"
             }
            },
            "header": {
             "fill": {
              "color": "#C8D4E3"
             },
             "line": {
              "color": "white"
             }
            },
            "type": "table"
           }
          ]
         },
         "layout": {
          "annotationdefaults": {
           "arrowcolor": "#2a3f5f",
           "arrowhead": 0,
           "arrowwidth": 1
          },
          "autotypenumbers": "strict",
          "coloraxis": {
           "colorbar": {
            "outlinewidth": 0,
            "ticks": ""
           }
          },
          "colorscale": {
           "diverging": [
            [
             0,
             "#8e0152"
            ],
            [
             0.1,
             "#c51b7d"
            ],
            [
             0.2,
             "#de77ae"
            ],
            [
             0.3,
             "#f1b6da"
            ],
            [
             0.4,
             "#fde0ef"
            ],
            [
             0.5,
             "#f7f7f7"
            ],
            [
             0.6,
             "#e6f5d0"
            ],
            [
             0.7,
             "#b8e186"
            ],
            [
             0.8,
             "#7fbc41"
            ],
            [
             0.9,
             "#4d9221"
            ],
            [
             1,
             "#276419"
            ]
           ],
           "sequential": [
            [
             0,
             "#0d0887"
            ],
            [
             0.1111111111111111,
             "#46039f"
            ],
            [
             0.2222222222222222,
             "#7201a8"
            ],
            [
             0.3333333333333333,
             "#9c179e"
            ],
            [
             0.4444444444444444,
             "#bd3786"
            ],
            [
             0.5555555555555556,
             "#d8576b"
            ],
            [
             0.6666666666666666,
             "#ed7953"
            ],
            [
             0.7777777777777778,
             "#fb9f3a"
            ],
            [
             0.8888888888888888,
             "#fdca26"
            ],
            [
             1,
             "#f0f921"
            ]
           ],
           "sequentialminus": [
            [
             0,
             "#0d0887"
            ],
            [
             0.1111111111111111,
             "#46039f"
            ],
            [
             0.2222222222222222,
             "#7201a8"
            ],
            [
             0.3333333333333333,
             "#9c179e"
            ],
            [
             0.4444444444444444,
             "#bd3786"
            ],
            [
             0.5555555555555556,
             "#d8576b"
            ],
            [
             0.6666666666666666,
             "#ed7953"
            ],
            [
             0.7777777777777778,
             "#fb9f3a"
            ],
            [
             0.8888888888888888,
             "#fdca26"
            ],
            [
             1,
             "#f0f921"
            ]
           ]
          },
          "colorway": [
           "#636efa",
           "#EF553B",
           "#00cc96",
           "#ab63fa",
           "#FFA15A",
           "#19d3f3",
           "#FF6692",
           "#B6E880",
           "#FF97FF",
           "#FECB52"
          ],
          "font": {
           "color": "#2a3f5f"
          },
          "geo": {
           "bgcolor": "white",
           "lakecolor": "white",
           "landcolor": "#E5ECF6",
           "showlakes": true,
           "showland": true,
           "subunitcolor": "white"
          },
          "hoverlabel": {
           "align": "left"
          },
          "hovermode": "closest",
          "mapbox": {
           "style": "light"
          },
          "paper_bgcolor": "white",
          "plot_bgcolor": "#E5ECF6",
          "polar": {
           "angularaxis": {
            "gridcolor": "white",
            "linecolor": "white",
            "ticks": ""
           },
           "bgcolor": "#E5ECF6",
           "radialaxis": {
            "gridcolor": "white",
            "linecolor": "white",
            "ticks": ""
           }
          },
          "scene": {
           "xaxis": {
            "backgroundcolor": "#E5ECF6",
            "gridcolor": "white",
            "gridwidth": 2,
            "linecolor": "white",
            "showbackground": true,
            "ticks": "",
            "zerolinecolor": "white"
           },
           "yaxis": {
            "backgroundcolor": "#E5ECF6",
            "gridcolor": "white",
            "gridwidth": 2,
            "linecolor": "white",
            "showbackground": true,
            "ticks": "",
            "zerolinecolor": "white"
           },
           "zaxis": {
            "backgroundcolor": "#E5ECF6",
            "gridcolor": "white",
            "gridwidth": 2,
            "linecolor": "white",
            "showbackground": true,
            "ticks": "",
            "zerolinecolor": "white"
           }
          },
          "shapedefaults": {
           "line": {
            "color": "#2a3f5f"
           }
          },
          "ternary": {
           "aaxis": {
            "gridcolor": "white",
            "linecolor": "white",
            "ticks": ""
           },
           "baxis": {
            "gridcolor": "white",
            "linecolor": "white",
            "ticks": ""
           },
           "bgcolor": "#E5ECF6",
           "caxis": {
            "gridcolor": "white",
            "linecolor": "white",
            "ticks": ""
           }
          },
          "title": {
           "x": 0.05
          },
          "xaxis": {
           "automargin": true,
           "gridcolor": "white",
           "linecolor": "white",
           "ticks": "",
           "title": {
            "standoff": 15
           },
           "zerolinecolor": "white",
           "zerolinewidth": 2
          },
          "yaxis": {
           "automargin": true,
           "gridcolor": "white",
           "linecolor": "white",
           "ticks": "",
           "title": {
            "standoff": 15
           },
           "zerolinecolor": "white",
           "zerolinewidth": 2
          }
         }
        },
        "xaxis": {
         "anchor": "y",
         "categoryarray": [
          "Serval",
          "IBR-DTN/TCPCL",
          "DTN7-rs/MTCP",
          "DTN7-rs/TCPCL",
          "DTN7-rs/HTTP",
          "DTN7-ng/MTCP",
          "DTN7-ng/QUICL"
         ],
         "categoryorder": "array",
         "domain": [
          0,
          0.48
         ],
         "title": {
          "text": "Software/CLP"
         }
        },
        "xaxis2": {
         "anchor": "y2",
         "categoryarray": [
          "Serval",
          "IBR-DTN/TCPCL",
          "DTN7-rs/MTCP",
          "DTN7-rs/TCPCL",
          "DTN7-rs/HTTP",
          "DTN7-ng/MTCP",
          "DTN7-ng/QUICL"
         ],
         "categoryorder": "array",
         "domain": [
          0.5,
          0.98
         ],
         "matches": "x",
         "title": {
          "text": "Software/CLP"
         }
        },
        "xaxis3": {
         "anchor": "y3",
         "domain": [
          0,
          0.48
         ],
         "matches": "x",
         "showticklabels": false
        },
        "xaxis4": {
         "anchor": "y4",
         "domain": [
          0.5,
          0.98
         ],
         "matches": "x",
         "showticklabels": false
        },
        "xaxis5": {
         "anchor": "y5",
         "domain": [
          0,
          0.48
         ],
         "matches": "x",
         "showticklabels": false
        },
        "xaxis6": {
         "anchor": "y6",
         "domain": [
          0.5,
          0.98
         ],
         "matches": "x",
         "showticklabels": false
        },
        "yaxis": {
         "anchor": "x",
         "domain": [
          0,
          0.3133333333333333
         ],
         "title": {
          "text": ""
         }
        },
        "yaxis2": {
         "anchor": "x2",
         "domain": [
          0,
          0.3133333333333333
         ],
         "matches": "y",
         "showticklabels": false
        },
        "yaxis3": {
         "anchor": "x3",
         "domain": [
          0.34333333333333327,
          0.6566666666666665
         ],
         "matches": "y",
         "title": {
          "text": ""
         }
        },
        "yaxis4": {
         "anchor": "x4",
         "domain": [
          0.34333333333333327,
          0.6566666666666665
         ],
         "matches": "y",
         "showticklabels": false
        },
        "yaxis5": {
         "anchor": "x5",
         "domain": [
          0.6866666666666665,
          0.9999999999999998
         ],
         "matches": "y",
         "title": {
          "text": ""
         }
        },
        "yaxis6": {
         "anchor": "x6",
         "domain": [
          0.6866666666666665,
          0.9999999999999998
         ],
         "matches": "y",
         "showticklabels": false
        }
       }
      },
      "text/html": [
       "<div>                            <div id=\"72219451-933a-4fc5-860d-ca2091dfc616\" class=\"plotly-graph-div\" style=\"height:525px; width:100%;\"></div>            <script type=\"text/javascript\">                require([\"plotly\"], function(Plotly) {                    window.PLOTLYENV=window.PLOTLYENV || {};                                    if (document.getElementById(\"72219451-933a-4fc5-860d-ca2091dfc616\")) {                    Plotly.newPlot(                        \"72219451-933a-4fc5-860d-ca2091dfc616\",                        [{\"alignmentgroup\":\"True\",\"hovertemplate\":\"Loss (%)=0<br>Bundle Size=1 kB<br>Bundles=10<br>Software/CLP=%{x}<br>=%{y}<extra></extra>\",\"legendgroup\":\"0\",\"marker\":{\"color\":\"#636efa\"},\"name\":\"0\",\"notched\":false,\"offsetgroup\":\"0\",\"orientation\":\"v\",\"showlegend\":true,\"x\":[\"DTN7-ng/QUICL\",\"DTN7-ng/QUICL\",\"DTN7-ng/MTCP\",\"DTN7-ng/MTCP\",\"DTN7-ng/MTCP\",\"DTN7-ng/QUICL\"],\"x0\":\" \",\"xaxis\":\"x5\",\"y\":[100.0,100.0,100.0,100.0,100.0,100.0],\"y0\":\" \",\"yaxis\":\"y5\",\"type\":\"box\"},{\"alignmentgroup\":\"True\",\"hovertemplate\":\"Loss (%)=0<br>Bundle Size=1 kB<br>Bundles=100<br>Software/CLP=%{x}<br>=%{y}<extra></extra>\",\"legendgroup\":\"0\",\"marker\":{\"color\":\"#636efa\"},\"name\":\"0\",\"notched\":false,\"offsetgroup\":\"0\",\"orientation\":\"v\",\"showlegend\":false,\"x\":[\"DTN7-ng/QUICL\",\"DTN7-ng/QUICL\",\"DTN7-ng/QUICL\",\"DTN7-ng/MTCP\",\"DTN7-ng/MTCP\",\"DTN7-ng/MTCP\"],\"x0\":\" \",\"xaxis\":\"x6\",\"y\":[13.0,13.0,12.0,13.0,13.0,12.0],\"y0\":\" \",\"yaxis\":\"y6\",\"type\":\"box\"},{\"alignmentgroup\":\"True\",\"hovertemplate\":\"Loss (%)=0<br>Bundle Size=100 kB<br>Bundles=10<br>Software/CLP=%{x}<br>=%{y}<extra></extra>\",\"legendgroup\":\"0\",\"marker\":{\"color\":\"#636efa\"},\"name\":\"0\",\"notched\":false,\"offsetgroup\":\"0\",\"orientation\":\"v\",\"showlegend\":false,\"x\":[\"DTN7-ng/MTCP\",\"DTN7-ng/MTCP\",\"DTN7-ng/MTCP\",\"DTN7-ng/QUICL\",\"DTN7-ng/QUICL\",\"DTN7-ng/QUICL\"],\"x0\":\" \",\"xaxis\":\"x3\",\"y\":[100.0,100.0,100.0,100.0,100.0,100.0],\"y0\":\" \",\"yaxis\":\"y3\",\"type\":\"box\"},{\"alignmentgroup\":\"True\",\"hovertemplate\":\"Loss (%)=0<br>Bundle Size=100 kB<br>Bundles=100<br>Software/CLP=%{x}<br>=%{y}<extra></extra>\",\"legendgroup\":\"0\",\"marker\":{\"color\":\"#636efa\"},\"name\":\"0\",\"notched\":false,\"offsetgroup\":\"0\",\"orientation\":\"v\",\"showlegend\":false,\"x\":[\"DTN7-ng/QUICL\",\"DTN7-ng/QUICL\",\"DTN7-ng/QUICL\",\"DTN7-ng/MTCP\",\"DTN7-ng/MTCP\",\"DTN7-ng/MTCP\"],\"x0\":\" \",\"xaxis\":\"x4\",\"y\":[12.0,13.0,13.0,13.0,13.0,13.0],\"y0\":\" \",\"yaxis\":\"y4\",\"type\":\"box\"},{\"alignmentgroup\":\"True\",\"hovertemplate\":\"Loss (%)=0<br>Bundle Size=1 MB<br>Bundles=10<br>Software/CLP=%{x}<br>=%{y}<extra></extra>\",\"legendgroup\":\"0\",\"marker\":{\"color\":\"#636efa\"},\"name\":\"0\",\"notched\":false,\"offsetgroup\":\"0\",\"orientation\":\"v\",\"showlegend\":false,\"x\":[\"DTN7-ng/QUICL\",\"DTN7-ng/QUICL\",\"DTN7-ng/QUICL\",\"DTN7-ng/MTCP\",\"DTN7-ng/MTCP\",\"DTN7-ng/MTCP\"],\"x0\":\" \",\"xaxis\":\"x\",\"y\":[100.0,100.0,100.0,100.0,100.0,100.0],\"y0\":\" \",\"yaxis\":\"y\",\"type\":\"box\"},{\"alignmentgroup\":\"True\",\"hovertemplate\":\"Loss (%)=0<br>Bundle Size=1 MB<br>Bundles=100<br>Software/CLP=%{x}<br>=%{y}<extra></extra>\",\"legendgroup\":\"0\",\"marker\":{\"color\":\"#636efa\"},\"name\":\"0\",\"notched\":false,\"offsetgroup\":\"0\",\"orientation\":\"v\",\"showlegend\":false,\"x\":[\"DTN7-ng/MTCP\",\"DTN7-ng/MTCP\",\"DTN7-ng/MTCP\",\"DTN7-ng/QUICL\",\"DTN7-ng/QUICL\",\"DTN7-ng/QUICL\"],\"x0\":\" \",\"xaxis\":\"x2\",\"y\":[13.0,13.0,13.0,12.0,13.0,13.0],\"y0\":\" \",\"yaxis\":\"y2\",\"type\":\"box\"},{\"alignmentgroup\":\"True\",\"hovertemplate\":\"Loss (%)=10<br>Bundle Size=1 kB<br>Bundles=10<br>Software/CLP=%{x}<br>=%{y}<extra></extra>\",\"legendgroup\":\"10\",\"marker\":{\"color\":\"#EF553B\"},\"name\":\"10\",\"notched\":false,\"offsetgroup\":\"10\",\"orientation\":\"v\",\"showlegend\":true,\"x\":[\"DTN7-ng/QUICL\",\"DTN7-ng/QUICL\",\"DTN7-ng/QUICL\",\"DTN7-ng/MTCP\",\"DTN7-ng/MTCP\",\"DTN7-ng/MTCP\"],\"x0\":\" \",\"xaxis\":\"x5\",\"y\":[100.0,90.0,100.0,100.0,100.0,100.0],\"y0\":\" \",\"yaxis\":\"y5\",\"type\":\"box\"},{\"alignmentgroup\":\"True\",\"hovertemplate\":\"Loss (%)=10<br>Bundle Size=1 kB<br>Bundles=100<br>Software/CLP=%{x}<br>=%{y}<extra></extra>\",\"legendgroup\":\"10\",\"marker\":{\"color\":\"#EF553B\"},\"name\":\"10\",\"notched\":false,\"offsetgroup\":\"10\",\"orientation\":\"v\",\"showlegend\":false,\"x\":[\"DTN7-ng/QUICL\",\"DTN7-ng/QUICL\",\"DTN7-ng/QUICL\",\"DTN7-ng/MTCP\",\"DTN7-ng/MTCP\",\"DTN7-ng/MTCP\"],\"x0\":\" \",\"xaxis\":\"x6\",\"y\":[12.0,12.0,13.0,13.0,13.0,13.0],\"y0\":\" \",\"yaxis\":\"y6\",\"type\":\"box\"},{\"alignmentgroup\":\"True\",\"hovertemplate\":\"Loss (%)=10<br>Bundle Size=100 kB<br>Bundles=10<br>Software/CLP=%{x}<br>=%{y}<extra></extra>\",\"legendgroup\":\"10\",\"marker\":{\"color\":\"#EF553B\"},\"name\":\"10\",\"notched\":false,\"offsetgroup\":\"10\",\"orientation\":\"v\",\"showlegend\":false,\"x\":[\"DTN7-ng/QUICL\",\"DTN7-ng/QUICL\",\"DTN7-ng/QUICL\",\"DTN7-ng/MTCP\",\"DTN7-ng/MTCP\",\"DTN7-ng/MTCP\"],\"x0\":\" \",\"xaxis\":\"x3\",\"y\":[100.0,100.0,100.0,100.0,100.0,100.0],\"y0\":\" \",\"yaxis\":\"y3\",\"type\":\"box\"},{\"alignmentgroup\":\"True\",\"hovertemplate\":\"Loss (%)=10<br>Bundle Size=100 kB<br>Bundles=100<br>Software/CLP=%{x}<br>=%{y}<extra></extra>\",\"legendgroup\":\"10\",\"marker\":{\"color\":\"#EF553B\"},\"name\":\"10\",\"notched\":false,\"offsetgroup\":\"10\",\"orientation\":\"v\",\"showlegend\":false,\"x\":[\"DTN7-ng/QUICL\",\"DTN7-ng/QUICL\",\"DTN7-ng/QUICL\",\"DTN7-ng/MTCP\",\"DTN7-ng/MTCP\",\"DTN7-ng/MTCP\"],\"x0\":\" \",\"xaxis\":\"x4\",\"y\":[13.0,12.0,13.0,12.0,13.0,12.0],\"y0\":\" \",\"yaxis\":\"y4\",\"type\":\"box\"},{\"alignmentgroup\":\"True\",\"hovertemplate\":\"Loss (%)=10<br>Bundle Size=1 MB<br>Bundles=10<br>Software/CLP=%{x}<br>=%{y}<extra></extra>\",\"legendgroup\":\"10\",\"marker\":{\"color\":\"#EF553B\"},\"name\":\"10\",\"notched\":false,\"offsetgroup\":\"10\",\"orientation\":\"v\",\"showlegend\":false,\"x\":[\"DTN7-ng/QUICL\",\"DTN7-ng/QUICL\",\"DTN7-ng/MTCP\",\"DTN7-ng/MTCP\",\"DTN7-ng/MTCP\",\"DTN7-ng/QUICL\"],\"x0\":\" \",\"xaxis\":\"x\",\"y\":[100.0,100.0,100.0,100.0,60.0,100.0],\"y0\":\" \",\"yaxis\":\"y\",\"type\":\"box\"},{\"alignmentgroup\":\"True\",\"hovertemplate\":\"Loss (%)=10<br>Bundle Size=1 MB<br>Bundles=100<br>Software/CLP=%{x}<br>=%{y}<extra></extra>\",\"legendgroup\":\"10\",\"marker\":{\"color\":\"#EF553B\"},\"name\":\"10\",\"notched\":false,\"offsetgroup\":\"10\",\"orientation\":\"v\",\"showlegend\":false,\"x\":[\"DTN7-ng/MTCP\",\"DTN7-ng/QUICL\",\"DTN7-ng/QUICL\",\"DTN7-ng/QUICL\",\"DTN7-ng/MTCP\",\"DTN7-ng/MTCP\"],\"x0\":\" \",\"xaxis\":\"x2\",\"y\":[31.0,13.0,13.0,12.0,8.0,12.0],\"y0\":\" \",\"yaxis\":\"y2\",\"type\":\"box\"},{\"alignmentgroup\":\"True\",\"hovertemplate\":\"Loss (%)=30<br>Bundle Size=1 kB<br>Bundles=10<br>Software/CLP=%{x}<br>=%{y}<extra></extra>\",\"legendgroup\":\"30\",\"marker\":{\"color\":\"#00cc96\"},\"name\":\"30\",\"notched\":false,\"offsetgroup\":\"30\",\"orientation\":\"v\",\"showlegend\":true,\"x\":[\"DTN7-ng/MTCP\",\"DTN7-ng/MTCP\",\"DTN7-ng/MTCP\",\"DTN7-ng/QUICL\",\"DTN7-ng/QUICL\",\"DTN7-ng/QUICL\"],\"x0\":\" \",\"xaxis\":\"x5\",\"y\":[100.0,70.0,80.0,100.0,100.0,100.0],\"y0\":\" \",\"yaxis\":\"y5\",\"type\":\"box\"},{\"alignmentgroup\":\"True\",\"hovertemplate\":\"Loss (%)=30<br>Bundle Size=1 kB<br>Bundles=100<br>Software/CLP=%{x}<br>=%{y}<extra></extra>\",\"legendgroup\":\"30\",\"marker\":{\"color\":\"#00cc96\"},\"name\":\"30\",\"notched\":false,\"offsetgroup\":\"30\",\"orientation\":\"v\",\"showlegend\":false,\"x\":[\"DTN7-ng/QUICL\",\"DTN7-ng/QUICL\",\"DTN7-ng/MTCP\",\"DTN7-ng/MTCP\",\"DTN7-ng/MTCP\",\"DTN7-ng/QUICL\"],\"x0\":\" \",\"xaxis\":\"x6\",\"y\":[13.0,13.0,12.0,7.000000000000001,10.0,13.0],\"y0\":\" \",\"yaxis\":\"y6\",\"type\":\"box\"},{\"alignmentgroup\":\"True\",\"hovertemplate\":\"Loss (%)=30<br>Bundle Size=100 kB<br>Bundles=10<br>Software/CLP=%{x}<br>=%{y}<extra></extra>\",\"legendgroup\":\"30\",\"marker\":{\"color\":\"#00cc96\"},\"name\":\"30\",\"notched\":false,\"offsetgroup\":\"30\",\"orientation\":\"v\",\"showlegend\":false,\"x\":[\"DTN7-ng/QUICL\",\"DTN7-ng/QUICL\",\"DTN7-ng/QUICL\",\"DTN7-ng/MTCP\",\"DTN7-ng/MTCP\",\"DTN7-ng/MTCP\"],\"x0\":\" \",\"xaxis\":\"x3\",\"y\":[100.0,100.0,100.0,0.0,0.0,0.0],\"y0\":\" \",\"yaxis\":\"y3\",\"type\":\"box\"},{\"alignmentgroup\":\"True\",\"hovertemplate\":\"Loss (%)=30<br>Bundle Size=100 kB<br>Bundles=100<br>Software/CLP=%{x}<br>=%{y}<extra></extra>\",\"legendgroup\":\"30\",\"marker\":{\"color\":\"#00cc96\"},\"name\":\"30\",\"notched\":false,\"offsetgroup\":\"30\",\"orientation\":\"v\",\"showlegend\":false,\"x\":[\"DTN7-ng/MTCP\",\"DTN7-ng/MTCP\",\"DTN7-ng/MTCP\",\"DTN7-ng/QUICL\",\"DTN7-ng/QUICL\",\"DTN7-ng/QUICL\"],\"x0\":\" \",\"xaxis\":\"x4\",\"y\":[1.0,1.0,1.0,22.0,14.000000000000002,15.0],\"y0\":\" \",\"yaxis\":\"y4\",\"type\":\"box\"},{\"alignmentgroup\":\"True\",\"hovertemplate\":\"Loss (%)=30<br>Bundle Size=1 MB<br>Bundles=10<br>Software/CLP=%{x}<br>=%{y}<extra></extra>\",\"legendgroup\":\"30\",\"marker\":{\"color\":\"#00cc96\"},\"name\":\"30\",\"notched\":false,\"offsetgroup\":\"30\",\"orientation\":\"v\",\"showlegend\":false,\"x\":[\"DTN7-ng/QUICL\",\"DTN7-ng/QUICL\",\"DTN7-ng/QUICL\",\"DTN7-ng/MTCP\",\"DTN7-ng/MTCP\",\"DTN7-ng/MTCP\"],\"x0\":\" \",\"xaxis\":\"x\",\"y\":[100.0,100.0,100.0,0.0,0.0,0.0],\"y0\":\" \",\"yaxis\":\"y\",\"type\":\"box\"},{\"alignmentgroup\":\"True\",\"hovertemplate\":\"Loss (%)=30<br>Bundle Size=1 MB<br>Bundles=100<br>Software/CLP=%{x}<br>=%{y}<extra></extra>\",\"legendgroup\":\"30\",\"marker\":{\"color\":\"#00cc96\"},\"name\":\"30\",\"notched\":false,\"offsetgroup\":\"30\",\"orientation\":\"v\",\"showlegend\":false,\"x\":[\"DTN7-ng/QUICL\",\"DTN7-ng/QUICL\",\"DTN7-ng/QUICL\",\"DTN7-ng/MTCP\",\"DTN7-ng/MTCP\",\"DTN7-ng/MTCP\"],\"x0\":\" \",\"xaxis\":\"x2\",\"y\":[100.0,100.0,100.0,0.0,0.0,0.0],\"y0\":\" \",\"yaxis\":\"y2\",\"type\":\"box\"},{\"alignmentgroup\":\"True\",\"hovertemplate\":\"Loss (%)=50<br>Bundle Size=1 kB<br>Bundles=10<br>Software/CLP=%{x}<br>=%{y}<extra></extra>\",\"legendgroup\":\"50\",\"marker\":{\"color\":\"#ab63fa\"},\"name\":\"50\",\"notched\":false,\"offsetgroup\":\"50\",\"orientation\":\"v\",\"showlegend\":true,\"x\":[\"DTN7-ng/QUICL\",\"DTN7-ng/QUICL\",\"DTN7-ng/QUICL\",\"DTN7-ng/MTCP\",\"DTN7-ng/MTCP\",\"DTN7-ng/MTCP\"],\"x0\":\" \",\"xaxis\":\"x5\",\"y\":[100.0,100.0,100.0,20.0,20.0,80.0],\"y0\":\" \",\"yaxis\":\"y5\",\"type\":\"box\"},{\"alignmentgroup\":\"True\",\"hovertemplate\":\"Loss (%)=50<br>Bundle Size=1 kB<br>Bundles=100<br>Software/CLP=%{x}<br>=%{y}<extra></extra>\",\"legendgroup\":\"50\",\"marker\":{\"color\":\"#ab63fa\"},\"name\":\"50\",\"notched\":false,\"offsetgroup\":\"50\",\"orientation\":\"v\",\"showlegend\":false,\"x\":[\"DTN7-ng/QUICL\",\"DTN7-ng/QUICL\",\"DTN7-ng/QUICL\",\"DTN7-ng/MTCP\",\"DTN7-ng/MTCP\",\"DTN7-ng/MTCP\"],\"x0\":\" \",\"xaxis\":\"x6\",\"y\":[11.0,12.0,3.0,7.000000000000001,5.0,2.0],\"y0\":\" \",\"yaxis\":\"y6\",\"type\":\"box\"},{\"alignmentgroup\":\"True\",\"hovertemplate\":\"Loss (%)=50<br>Bundle Size=100 kB<br>Bundles=10<br>Software/CLP=%{x}<br>=%{y}<extra></extra>\",\"legendgroup\":\"50\",\"marker\":{\"color\":\"#ab63fa\"},\"name\":\"50\",\"notched\":false,\"offsetgroup\":\"50\",\"orientation\":\"v\",\"showlegend\":false,\"x\":[\"DTN7-ng/MTCP\",\"DTN7-ng/MTCP\",\"DTN7-ng/MTCP\",\"DTN7-ng/QUICL\",\"DTN7-ng/QUICL\",\"DTN7-ng/QUICL\"],\"x0\":\" \",\"xaxis\":\"x3\",\"y\":[0.0,0.0,0.0,10.0,10.0,10.0],\"y0\":\" \",\"yaxis\":\"y3\",\"type\":\"box\"},{\"alignmentgroup\":\"True\",\"hovertemplate\":\"Loss (%)=50<br>Bundle Size=100 kB<br>Bundles=100<br>Software/CLP=%{x}<br>=%{y}<extra></extra>\",\"legendgroup\":\"50\",\"marker\":{\"color\":\"#ab63fa\"},\"name\":\"50\",\"notched\":false,\"offsetgroup\":\"50\",\"orientation\":\"v\",\"showlegend\":false,\"x\":[\"DTN7-ng/QUICL\",\"DTN7-ng/QUICL\",\"DTN7-ng/QUICL\",\"DTN7-ng/MTCP\",\"DTN7-ng/MTCP\",\"DTN7-ng/MTCP\"],\"x0\":\" \",\"xaxis\":\"x4\",\"y\":[0.0,0.0,0.0,0.0,0.0,0.0],\"y0\":\" \",\"yaxis\":\"y4\",\"type\":\"box\"},{\"alignmentgroup\":\"True\",\"hovertemplate\":\"Loss (%)=50<br>Bundle Size=1 MB<br>Bundles=10<br>Software/CLP=%{x}<br>=%{y}<extra></extra>\",\"legendgroup\":\"50\",\"marker\":{\"color\":\"#ab63fa\"},\"name\":\"50\",\"notched\":false,\"offsetgroup\":\"50\",\"orientation\":\"v\",\"showlegend\":false,\"x\":[\"DTN7-ng/QUICL\",\"DTN7-ng/QUICL\",\"DTN7-ng/QUICL\",\"DTN7-ng/MTCP\",\"DTN7-ng/MTCP\",\"DTN7-ng/MTCP\"],\"x0\":\" \",\"xaxis\":\"x\",\"y\":[0.0,0.0,0.0,0.0,0.0,0.0],\"y0\":\" \",\"yaxis\":\"y\",\"type\":\"box\"},{\"alignmentgroup\":\"True\",\"hovertemplate\":\"Loss (%)=50<br>Bundle Size=1 MB<br>Bundles=100<br>Software/CLP=%{x}<br>=%{y}<extra></extra>\",\"legendgroup\":\"50\",\"marker\":{\"color\":\"#ab63fa\"},\"name\":\"50\",\"notched\":false,\"offsetgroup\":\"50\",\"orientation\":\"v\",\"showlegend\":false,\"x\":[\"DTN7-ng/QUICL\",\"DTN7-ng/MTCP\",\"DTN7-ng/MTCP\",\"DTN7-ng/MTCP\",\"DTN7-ng/QUICL\",\"DTN7-ng/QUICL\"],\"x0\":\" \",\"xaxis\":\"x2\",\"y\":[0.0,0.0,0.0,0.0,0.0,0.0],\"y0\":\" \",\"yaxis\":\"y2\",\"type\":\"box\"}],                        {\"template\":{\"data\":{\"histogram2dcontour\":[{\"type\":\"histogram2dcontour\",\"colorbar\":{\"outlinewidth\":0,\"ticks\":\"\"},\"colorscale\":[[0.0,\"#0d0887\"],[0.1111111111111111,\"#46039f\"],[0.2222222222222222,\"#7201a8\"],[0.3333333333333333,\"#9c179e\"],[0.4444444444444444,\"#bd3786\"],[0.5555555555555556,\"#d8576b\"],[0.6666666666666666,\"#ed7953\"],[0.7777777777777778,\"#fb9f3a\"],[0.8888888888888888,\"#fdca26\"],[1.0,\"#f0f921\"]]}],\"choropleth\":[{\"type\":\"choropleth\",\"colorbar\":{\"outlinewidth\":0,\"ticks\":\"\"}}],\"histogram2d\":[{\"type\":\"histogram2d\",\"colorbar\":{\"outlinewidth\":0,\"ticks\":\"\"},\"colorscale\":[[0.0,\"#0d0887\"],[0.1111111111111111,\"#46039f\"],[0.2222222222222222,\"#7201a8\"],[0.3333333333333333,\"#9c179e\"],[0.4444444444444444,\"#bd3786\"],[0.5555555555555556,\"#d8576b\"],[0.6666666666666666,\"#ed7953\"],[0.7777777777777778,\"#fb9f3a\"],[0.8888888888888888,\"#fdca26\"],[1.0,\"#f0f921\"]]}],\"heatmap\":[{\"type\":\"heatmap\",\"colorbar\":{\"outlinewidth\":0,\"ticks\":\"\"},\"colorscale\":[[0.0,\"#0d0887\"],[0.1111111111111111,\"#46039f\"],[0.2222222222222222,\"#7201a8\"],[0.3333333333333333,\"#9c179e\"],[0.4444444444444444,\"#bd3786\"],[0.5555555555555556,\"#d8576b\"],[0.6666666666666666,\"#ed7953\"],[0.7777777777777778,\"#fb9f3a\"],[0.8888888888888888,\"#fdca26\"],[1.0,\"#f0f921\"]]}],\"heatmapgl\":[{\"type\":\"heatmapgl\",\"colorbar\":{\"outlinewidth\":0,\"ticks\":\"\"},\"colorscale\":[[0.0,\"#0d0887\"],[0.1111111111111111,\"#46039f\"],[0.2222222222222222,\"#7201a8\"],[0.3333333333333333,\"#9c179e\"],[0.4444444444444444,\"#bd3786\"],[0.5555555555555556,\"#d8576b\"],[0.6666666666666666,\"#ed7953\"],[0.7777777777777778,\"#fb9f3a\"],[0.8888888888888888,\"#fdca26\"],[1.0,\"#f0f921\"]]}],\"contourcarpet\":[{\"type\":\"contourcarpet\",\"colorbar\":{\"outlinewidth\":0,\"ticks\":\"\"}}],\"contour\":[{\"type\":\"contour\",\"colorbar\":{\"outlinewidth\":0,\"ticks\":\"\"},\"colorscale\":[[0.0,\"#0d0887\"],[0.1111111111111111,\"#46039f\"],[0.2222222222222222,\"#7201a8\"],[0.3333333333333333,\"#9c179e\"],[0.4444444444444444,\"#bd3786\"],[0.5555555555555556,\"#d8576b\"],[0.6666666666666666,\"#ed7953\"],[0.7777777777777778,\"#fb9f3a\"],[0.8888888888888888,\"#fdca26\"],[1.0,\"#f0f921\"]]}],\"surface\":[{\"type\":\"surface\",\"colorbar\":{\"outlinewidth\":0,\"ticks\":\"\"},\"colorscale\":[[0.0,\"#0d0887\"],[0.1111111111111111,\"#46039f\"],[0.2222222222222222,\"#7201a8\"],[0.3333333333333333,\"#9c179e\"],[0.4444444444444444,\"#bd3786\"],[0.5555555555555556,\"#d8576b\"],[0.6666666666666666,\"#ed7953\"],[0.7777777777777778,\"#fb9f3a\"],[0.8888888888888888,\"#fdca26\"],[1.0,\"#f0f921\"]]}],\"mesh3d\":[{\"type\":\"mesh3d\",\"colorbar\":{\"outlinewidth\":0,\"ticks\":\"\"}}],\"scatter\":[{\"fillpattern\":{\"fillmode\":\"overlay\",\"size\":10,\"solidity\":0.2},\"type\":\"scatter\"}],\"parcoords\":[{\"type\":\"parcoords\",\"line\":{\"colorbar\":{\"outlinewidth\":0,\"ticks\":\"\"}}}],\"scatterpolargl\":[{\"type\":\"scatterpolargl\",\"marker\":{\"colorbar\":{\"outlinewidth\":0,\"ticks\":\"\"}}}],\"bar\":[{\"error_x\":{\"color\":\"#2a3f5f\"},\"error_y\":{\"color\":\"#2a3f5f\"},\"marker\":{\"line\":{\"color\":\"#E5ECF6\",\"width\":0.5},\"pattern\":{\"fillmode\":\"overlay\",\"size\":10,\"solidity\":0.2}},\"type\":\"bar\"}],\"scattergeo\":[{\"type\":\"scattergeo\",\"marker\":{\"colorbar\":{\"outlinewidth\":0,\"ticks\":\"\"}}}],\"scatterpolar\":[{\"type\":\"scatterpolar\",\"marker\":{\"colorbar\":{\"outlinewidth\":0,\"ticks\":\"\"}}}],\"histogram\":[{\"marker\":{\"pattern\":{\"fillmode\":\"overlay\",\"size\":10,\"solidity\":0.2}},\"type\":\"histogram\"}],\"scattergl\":[{\"type\":\"scattergl\",\"marker\":{\"colorbar\":{\"outlinewidth\":0,\"ticks\":\"\"}}}],\"scatter3d\":[{\"type\":\"scatter3d\",\"line\":{\"colorbar\":{\"outlinewidth\":0,\"ticks\":\"\"}},\"marker\":{\"colorbar\":{\"outlinewidth\":0,\"ticks\":\"\"}}}],\"scattermapbox\":[{\"type\":\"scattermapbox\",\"marker\":{\"colorbar\":{\"outlinewidth\":0,\"ticks\":\"\"}}}],\"scatterternary\":[{\"type\":\"scatterternary\",\"marker\":{\"colorbar\":{\"outlinewidth\":0,\"ticks\":\"\"}}}],\"scattercarpet\":[{\"type\":\"scattercarpet\",\"marker\":{\"colorbar\":{\"outlinewidth\":0,\"ticks\":\"\"}}}],\"carpet\":[{\"aaxis\":{\"endlinecolor\":\"#2a3f5f\",\"gridcolor\":\"white\",\"linecolor\":\"white\",\"minorgridcolor\":\"white\",\"startlinecolor\":\"#2a3f5f\"},\"baxis\":{\"endlinecolor\":\"#2a3f5f\",\"gridcolor\":\"white\",\"linecolor\":\"white\",\"minorgridcolor\":\"white\",\"startlinecolor\":\"#2a3f5f\"},\"type\":\"carpet\"}],\"table\":[{\"cells\":{\"fill\":{\"color\":\"#EBF0F8\"},\"line\":{\"color\":\"white\"}},\"header\":{\"fill\":{\"color\":\"#C8D4E3\"},\"line\":{\"color\":\"white\"}},\"type\":\"table\"}],\"barpolar\":[{\"marker\":{\"line\":{\"color\":\"#E5ECF6\",\"width\":0.5},\"pattern\":{\"fillmode\":\"overlay\",\"size\":10,\"solidity\":0.2}},\"type\":\"barpolar\"}],\"pie\":[{\"automargin\":true,\"type\":\"pie\"}]},\"layout\":{\"autotypenumbers\":\"strict\",\"colorway\":[\"#636efa\",\"#EF553B\",\"#00cc96\",\"#ab63fa\",\"#FFA15A\",\"#19d3f3\",\"#FF6692\",\"#B6E880\",\"#FF97FF\",\"#FECB52\"],\"font\":{\"color\":\"#2a3f5f\"},\"hovermode\":\"closest\",\"hoverlabel\":{\"align\":\"left\"},\"paper_bgcolor\":\"white\",\"plot_bgcolor\":\"#E5ECF6\",\"polar\":{\"bgcolor\":\"#E5ECF6\",\"angularaxis\":{\"gridcolor\":\"white\",\"linecolor\":\"white\",\"ticks\":\"\"},\"radialaxis\":{\"gridcolor\":\"white\",\"linecolor\":\"white\",\"ticks\":\"\"}},\"ternary\":{\"bgcolor\":\"#E5ECF6\",\"aaxis\":{\"gridcolor\":\"white\",\"linecolor\":\"white\",\"ticks\":\"\"},\"baxis\":{\"gridcolor\":\"white\",\"linecolor\":\"white\",\"ticks\":\"\"},\"caxis\":{\"gridcolor\":\"white\",\"linecolor\":\"white\",\"ticks\":\"\"}},\"coloraxis\":{\"colorbar\":{\"outlinewidth\":0,\"ticks\":\"\"}},\"colorscale\":{\"sequential\":[[0.0,\"#0d0887\"],[0.1111111111111111,\"#46039f\"],[0.2222222222222222,\"#7201a8\"],[0.3333333333333333,\"#9c179e\"],[0.4444444444444444,\"#bd3786\"],[0.5555555555555556,\"#d8576b\"],[0.6666666666666666,\"#ed7953\"],[0.7777777777777778,\"#fb9f3a\"],[0.8888888888888888,\"#fdca26\"],[1.0,\"#f0f921\"]],\"sequentialminus\":[[0.0,\"#0d0887\"],[0.1111111111111111,\"#46039f\"],[0.2222222222222222,\"#7201a8\"],[0.3333333333333333,\"#9c179e\"],[0.4444444444444444,\"#bd3786\"],[0.5555555555555556,\"#d8576b\"],[0.6666666666666666,\"#ed7953\"],[0.7777777777777778,\"#fb9f3a\"],[0.8888888888888888,\"#fdca26\"],[1.0,\"#f0f921\"]],\"diverging\":[[0,\"#8e0152\"],[0.1,\"#c51b7d\"],[0.2,\"#de77ae\"],[0.3,\"#f1b6da\"],[0.4,\"#fde0ef\"],[0.5,\"#f7f7f7\"],[0.6,\"#e6f5d0\"],[0.7,\"#b8e186\"],[0.8,\"#7fbc41\"],[0.9,\"#4d9221\"],[1,\"#276419\"]]},\"xaxis\":{\"gridcolor\":\"white\",\"linecolor\":\"white\",\"ticks\":\"\",\"title\":{\"standoff\":15},\"zerolinecolor\":\"white\",\"automargin\":true,\"zerolinewidth\":2},\"yaxis\":{\"gridcolor\":\"white\",\"linecolor\":\"white\",\"ticks\":\"\",\"title\":{\"standoff\":15},\"zerolinecolor\":\"white\",\"automargin\":true,\"zerolinewidth\":2},\"scene\":{\"xaxis\":{\"backgroundcolor\":\"#E5ECF6\",\"gridcolor\":\"white\",\"linecolor\":\"white\",\"showbackground\":true,\"ticks\":\"\",\"zerolinecolor\":\"white\",\"gridwidth\":2},\"yaxis\":{\"backgroundcolor\":\"#E5ECF6\",\"gridcolor\":\"white\",\"linecolor\":\"white\",\"showbackground\":true,\"ticks\":\"\",\"zerolinecolor\":\"white\",\"gridwidth\":2},\"zaxis\":{\"backgroundcolor\":\"#E5ECF6\",\"gridcolor\":\"white\",\"linecolor\":\"white\",\"showbackground\":true,\"ticks\":\"\",\"zerolinecolor\":\"white\",\"gridwidth\":2}},\"shapedefaults\":{\"line\":{\"color\":\"#2a3f5f\"}},\"annotationdefaults\":{\"arrowcolor\":\"#2a3f5f\",\"arrowhead\":0,\"arrowwidth\":1},\"geo\":{\"bgcolor\":\"white\",\"landcolor\":\"#E5ECF6\",\"subunitcolor\":\"white\",\"showland\":true,\"showlakes\":true,\"lakecolor\":\"white\"},\"title\":{\"x\":0.05},\"mapbox\":{\"style\":\"light\"}}},\"xaxis\":{\"anchor\":\"y\",\"domain\":[0.0,0.48],\"title\":{\"text\":\"Software/CLP\"},\"categoryorder\":\"array\",\"categoryarray\":[\"Serval\",\"IBR-DTN/TCPCL\",\"DTN7-rs/MTCP\",\"DTN7-rs/TCPCL\",\"DTN7-rs/HTTP\",\"DTN7-ng/MTCP\",\"DTN7-ng/QUICL\"]},\"yaxis\":{\"anchor\":\"x\",\"domain\":[0.0,0.3133333333333333],\"title\":{\"text\":\"\"}},\"xaxis2\":{\"anchor\":\"y2\",\"domain\":[0.5,0.98],\"matches\":\"x\",\"title\":{\"text\":\"Software/CLP\"},\"categoryorder\":\"array\",\"categoryarray\":[\"Serval\",\"IBR-DTN/TCPCL\",\"DTN7-rs/MTCP\",\"DTN7-rs/TCPCL\",\"DTN7-rs/HTTP\",\"DTN7-ng/MTCP\",\"DTN7-ng/QUICL\"]},\"yaxis2\":{\"anchor\":\"x2\",\"domain\":[0.0,0.3133333333333333],\"matches\":\"y\",\"showticklabels\":false},\"xaxis3\":{\"anchor\":\"y3\",\"domain\":[0.0,0.48],\"matches\":\"x\",\"showticklabels\":false},\"yaxis3\":{\"anchor\":\"x3\",\"domain\":[0.34333333333333327,0.6566666666666665],\"matches\":\"y\",\"title\":{\"text\":\"\"}},\"xaxis4\":{\"anchor\":\"y4\",\"domain\":[0.5,0.98],\"matches\":\"x\",\"showticklabels\":false},\"yaxis4\":{\"anchor\":\"x4\",\"domain\":[0.34333333333333327,0.6566666666666665],\"matches\":\"y\",\"showticklabels\":false},\"xaxis5\":{\"anchor\":\"y5\",\"domain\":[0.0,0.48],\"matches\":\"x\",\"showticklabels\":false},\"yaxis5\":{\"anchor\":\"x5\",\"domain\":[0.6866666666666665,0.9999999999999998],\"matches\":\"y\",\"title\":{\"text\":\"\"}},\"xaxis6\":{\"anchor\":\"y6\",\"domain\":[0.5,0.98],\"matches\":\"x\",\"showticklabels\":false},\"yaxis6\":{\"anchor\":\"x6\",\"domain\":[0.6866666666666665,0.9999999999999998],\"matches\":\"y\",\"showticklabels\":false},\"annotations\":[{\"showarrow\":false,\"text\":\"Bundles: 10\",\"x\":0.24,\"xanchor\":\"center\",\"xref\":\"paper\",\"y\":0.9999999999999998,\"yanchor\":\"bottom\",\"yref\":\"paper\"},{\"showarrow\":false,\"text\":\"Bundles: 100\",\"x\":0.74,\"xanchor\":\"center\",\"xref\":\"paper\",\"y\":0.9999999999999998,\"yanchor\":\"bottom\",\"yref\":\"paper\"},{\"showarrow\":false,\"text\":\"1 MB\",\"textangle\":90,\"x\":0.98,\"xanchor\":\"left\",\"xref\":\"paper\",\"y\":0.15666666666666665,\"yanchor\":\"middle\",\"yref\":\"paper\"},{\"showarrow\":false,\"text\":\"100 kB\",\"textangle\":90,\"x\":0.98,\"xanchor\":\"left\",\"xref\":\"paper\",\"y\":0.4999999999999999,\"yanchor\":\"middle\",\"yref\":\"paper\"},{\"showarrow\":false,\"text\":\"1 kB\",\"textangle\":90,\"x\":0.98,\"xanchor\":\"left\",\"xref\":\"paper\",\"y\":0.8433333333333332,\"yanchor\":\"middle\",\"yref\":\"paper\"},{\"font\":{\"size\":14},\"text\":\"Successful Receptions (%)\",\"textangle\":-90,\"x\":-0.04,\"xref\":\"paper\",\"y\":0.35,\"yref\":\"paper\"}],\"legend\":{\"title\":{\"text\":\"Loss (%)\"},\"tracegroupgap\":0},\"margin\":{\"t\":20,\"l\":0,\"r\":0,\"b\":0},\"boxmode\":\"group\"},                        {\"responsive\": true}                    ).then(function(){\n",
       "                            \n",
       "var gd = document.getElementById('72219451-933a-4fc5-860d-ca2091dfc616');\n",
       "var x = new MutationObserver(function (mutations, observer) {{\n",
       "        var display = window.getComputedStyle(gd).display;\n",
       "        if (!display || display === 'none') {{\n",
       "            console.log([gd, 'removed!']);\n",
       "            Plotly.purge(gd);\n",
       "            observer.disconnect();\n",
       "        }}\n",
       "}});\n",
       "\n",
       "// Listen for the removal of the full notebook cells\n",
       "var notebookContainer = gd.closest('#notebook-container');\n",
       "if (notebookContainer) {{\n",
       "    x.observe(notebookContainer, {childList: true});\n",
       "}}\n",
       "\n",
       "// Listen for the clearing of the current output cell\n",
       "var outputEl = gd.closest('.output');\n",
       "if (outputEl) {{\n",
       "    x.observe(outputEl, {childList: true});\n",
       "}}\n",
       "\n",
       "                        })                };                });            </script>        </div>"
      ]
     },
     "metadata": {},
     "output_type": "display_data"
    }
   ],
   "source": [
    "fig = px.box(\n",
    "    ratio_df[ratio_df[\"# Nodes\"] == 2],\n",
    "    x=\"Software/CLP\", \n",
    "    y=\"Delivered (%)\",\n",
    "    color=\"Loss\",\n",
    "    facet_col=\"# Bundles\",\n",
    "    facet_row=\"Bundle Size\",\n",
    "    labels={\n",
    "        \"Runtime\": \"Runtime (s)\",\n",
    "        \"Loss\": \"Loss (%)\",\n",
    "        \"# Bundles\": \"Bundles\",\n",
    "        \"Delivered (%)\": \"\"\n",
    "    },\n",
    "    category_orders={\n",
    "        \"Loss\": [0, 10, 30],\n",
    "        \"Bundle Size\": [\"1 kB\", \"100 kB\", \"1 MB\"],\n",
    "        \"Software/CLP\": [\"Serval\", \"IBR-DTN/TCPCL\", \"DTN7-rs/MTCP\", \"DTN7-rs/TCPCL\", \"DTN7-rs/HTTP\", \"DTN7-ng/MTCP\", \"DTN7-ng/QUICL\"],\n",
    "        \"# Bundles\": [10, 100]\n",
    "    },\n",
    ")\n",
    "\n",
    "fig.for_each_annotation(lambda a: a.update(text=a.text.replace(\"=\", \": \")))\n",
    "fig.for_each_annotation(lambda a: a.update(text=a.text.replace(\"Bundle Size: \", \"\")))\n",
    "\n",
    "fig.add_annotation(x=-0.04, y=0.35,\n",
    "                   text=\"Successful Receptions (%)\",\n",
    "                   textangle=-90,\n",
    "                   xref=\"paper\",\n",
    "                   yref=\"paper\",\n",
    "                   font=dict(size=14)\n",
    "                   )\n",
    "\n",
    "fig.update_layout(\n",
    "    margin=dict(l=0, r=0, t=20, b=0),\n",
    ")\n",
    "\n",
    "fig.write_image(\"delivered_2.pdf\", width=700, height=300)\n",
    "fig"
   ]
  },
  {
   "cell_type": "code",
   "execution_count": 12,
   "metadata": {},
   "outputs": [
    {
     "data": {
      "application/vnd.plotly.v1+json": {
       "config": {
        "plotlyServerURL": "https://plot.ly"
       },
       "data": [
        {
         "alignmentgroup": "True",
         "hovertemplate": "Loss (%)=0<br>Bundle Size=1 kB<br>Bundles=10<br>Software/CLP=%{x}<br>=%{y}<extra></extra>",
         "legendgroup": "0",
         "marker": {
          "color": "#636efa"
         },
         "name": "0",
         "notched": false,
         "offsetgroup": "0",
         "orientation": "v",
         "showlegend": true,
         "type": "box",
         "x": [
          "DTN7-ng/MTCP",
          "DTN7-ng/MTCP",
          "DTN7-ng/MTCP",
          "DTN7-ng/QUICL",
          "DTN7-ng/QUICL",
          "DTN7-ng/QUICL"
         ],
         "x0": " ",
         "xaxis": "x5",
         "y": [
          100,
          100,
          80,
          100,
          100,
          100
         ],
         "y0": " ",
         "yaxis": "y5"
        },
        {
         "alignmentgroup": "True",
         "hovertemplate": "Loss (%)=0<br>Bundle Size=1 kB<br>Bundles=100<br>Software/CLP=%{x}<br>=%{y}<extra></extra>",
         "legendgroup": "0",
         "marker": {
          "color": "#636efa"
         },
         "name": "0",
         "notched": false,
         "offsetgroup": "0",
         "orientation": "v",
         "showlegend": false,
         "type": "box",
         "x": [
          "DTN7-ng/QUICL",
          "DTN7-ng/QUICL",
          "DTN7-ng/QUICL",
          "DTN7-ng/MTCP",
          "DTN7-ng/MTCP",
          "DTN7-ng/MTCP"
         ],
         "x0": " ",
         "xaxis": "x6",
         "y": [
          10,
          11,
          11,
          11,
          11,
          9
         ],
         "y0": " ",
         "yaxis": "y6"
        },
        {
         "alignmentgroup": "True",
         "hovertemplate": "Loss (%)=0<br>Bundle Size=100 kB<br>Bundles=10<br>Software/CLP=%{x}<br>=%{y}<extra></extra>",
         "legendgroup": "0",
         "marker": {
          "color": "#636efa"
         },
         "name": "0",
         "notched": false,
         "offsetgroup": "0",
         "orientation": "v",
         "showlegend": false,
         "type": "box",
         "x": [
          "DTN7-ng/MTCP",
          "DTN7-ng/MTCP",
          "DTN7-ng/MTCP",
          "DTN7-ng/QUICL",
          "DTN7-ng/QUICL",
          "DTN7-ng/QUICL"
         ],
         "x0": " ",
         "xaxis": "x3",
         "y": [
          90,
          90,
          100,
          100,
          90,
          100
         ],
         "y0": " ",
         "yaxis": "y3"
        },
        {
         "alignmentgroup": "True",
         "hovertemplate": "Loss (%)=0<br>Bundle Size=100 kB<br>Bundles=100<br>Software/CLP=%{x}<br>=%{y}<extra></extra>",
         "legendgroup": "0",
         "marker": {
          "color": "#636efa"
         },
         "name": "0",
         "notched": false,
         "offsetgroup": "0",
         "orientation": "v",
         "showlegend": false,
         "type": "box",
         "x": [
          "DTN7-ng/QUICL",
          "DTN7-ng/QUICL",
          "DTN7-ng/MTCP",
          "DTN7-ng/MTCP",
          "DTN7-ng/MTCP",
          "DTN7-ng/QUICL"
         ],
         "x0": " ",
         "xaxis": "x4",
         "y": [
          11,
          10,
          11,
          11,
          10,
          11
         ],
         "y0": " ",
         "yaxis": "y4"
        },
        {
         "alignmentgroup": "True",
         "hovertemplate": "Loss (%)=0<br>Bundle Size=1 MB<br>Bundles=10<br>Software/CLP=%{x}<br>=%{y}<extra></extra>",
         "legendgroup": "0",
         "marker": {
          "color": "#636efa"
         },
         "name": "0",
         "notched": false,
         "offsetgroup": "0",
         "orientation": "v",
         "showlegend": false,
         "type": "box",
         "x": [
          "DTN7-ng/QUICL",
          "DTN7-ng/QUICL",
          "DTN7-ng/MTCP",
          "DTN7-ng/MTCP",
          "DTN7-ng/MTCP",
          "DTN7-ng/QUICL"
         ],
         "x0": " ",
         "xaxis": "x",
         "y": [
          50,
          80,
          100,
          100,
          100,
          100
         ],
         "y0": " ",
         "yaxis": "y"
        },
        {
         "alignmentgroup": "True",
         "hovertemplate": "Loss (%)=0<br>Bundle Size=1 MB<br>Bundles=100<br>Software/CLP=%{x}<br>=%{y}<extra></extra>",
         "legendgroup": "0",
         "marker": {
          "color": "#636efa"
         },
         "name": "0",
         "notched": false,
         "offsetgroup": "0",
         "orientation": "v",
         "showlegend": false,
         "type": "box",
         "x": [
          "DTN7-ng/MTCP",
          "DTN7-ng/MTCP",
          "DTN7-ng/MTCP",
          "DTN7-ng/QUICL",
          "DTN7-ng/QUICL",
          "DTN7-ng/QUICL"
         ],
         "x0": " ",
         "xaxis": "x2",
         "y": [
          11,
          11,
          11,
          10,
          8,
          11
         ],
         "y0": " ",
         "yaxis": "y2"
        },
        {
         "alignmentgroup": "True",
         "hovertemplate": "Loss (%)=10<br>Bundle Size=1 kB<br>Bundles=10<br>Software/CLP=%{x}<br>=%{y}<extra></extra>",
         "legendgroup": "10",
         "marker": {
          "color": "#EF553B"
         },
         "name": "10",
         "notched": false,
         "offsetgroup": "10",
         "orientation": "v",
         "showlegend": true,
         "type": "box",
         "x": [
          "DTN7-ng/MTCP",
          "DTN7-ng/MTCP",
          "DTN7-ng/MTCP",
          "DTN7-ng/QUICL",
          "DTN7-ng/QUICL",
          "DTN7-ng/QUICL"
         ],
         "x0": " ",
         "xaxis": "x5",
         "y": [
          80,
          60,
          90,
          70,
          40,
          60
         ],
         "y0": " ",
         "yaxis": "y5"
        },
        {
         "alignmentgroup": "True",
         "hovertemplate": "Loss (%)=10<br>Bundle Size=1 kB<br>Bundles=100<br>Software/CLP=%{x}<br>=%{y}<extra></extra>",
         "legendgroup": "10",
         "marker": {
          "color": "#EF553B"
         },
         "name": "10",
         "notched": false,
         "offsetgroup": "10",
         "orientation": "v",
         "showlegend": false,
         "type": "box",
         "x": [
          "DTN7-ng/QUICL",
          "DTN7-ng/QUICL",
          "DTN7-ng/MTCP",
          "DTN7-ng/MTCP",
          "DTN7-ng/MTCP",
          "DTN7-ng/QUICL"
         ],
         "x0": " ",
         "xaxis": "x6",
         "y": [
          10,
          4,
          9,
          6,
          11,
          7.000000000000001
         ],
         "y0": " ",
         "yaxis": "y6"
        },
        {
         "alignmentgroup": "True",
         "hovertemplate": "Loss (%)=10<br>Bundle Size=100 kB<br>Bundles=10<br>Software/CLP=%{x}<br>=%{y}<extra></extra>",
         "legendgroup": "10",
         "marker": {
          "color": "#EF553B"
         },
         "name": "10",
         "notched": false,
         "offsetgroup": "10",
         "orientation": "v",
         "showlegend": false,
         "type": "box",
         "x": [
          "DTN7-ng/QUICL",
          "DTN7-ng/QUICL",
          "DTN7-ng/MTCP",
          "DTN7-ng/MTCP",
          "DTN7-ng/MTCP",
          "DTN7-ng/QUICL"
         ],
         "x0": " ",
         "xaxis": "x3",
         "y": [
          60,
          50,
          40,
          50,
          20,
          50
         ],
         "y0": " ",
         "yaxis": "y3"
        },
        {
         "alignmentgroup": "True",
         "hovertemplate": "Loss (%)=10<br>Bundle Size=100 kB<br>Bundles=100<br>Software/CLP=%{x}<br>=%{y}<extra></extra>",
         "legendgroup": "10",
         "marker": {
          "color": "#EF553B"
         },
         "name": "10",
         "notched": false,
         "offsetgroup": "10",
         "orientation": "v",
         "showlegend": false,
         "type": "box",
         "x": [
          "DTN7-ng/QUICL",
          "DTN7-ng/QUICL",
          "DTN7-ng/MTCP",
          "DTN7-ng/MTCP",
          "DTN7-ng/MTCP",
          "DTN7-ng/QUICL"
         ],
         "x0": " ",
         "xaxis": "x4",
         "y": [
          9,
          8,
          3,
          4,
          3,
          8
         ],
         "y0": " ",
         "yaxis": "y4"
        },
        {
         "alignmentgroup": "True",
         "hovertemplate": "Loss (%)=10<br>Bundle Size=1 MB<br>Bundles=10<br>Software/CLP=%{x}<br>=%{y}<extra></extra>",
         "legendgroup": "10",
         "marker": {
          "color": "#EF553B"
         },
         "name": "10",
         "notched": false,
         "offsetgroup": "10",
         "orientation": "v",
         "showlegend": false,
         "type": "box",
         "x": [
          "DTN7-ng/QUICL",
          "DTN7-ng/QUICL",
          "DTN7-ng/QUICL",
          "DTN7-ng/MTCP",
          "DTN7-ng/MTCP",
          "DTN7-ng/MTCP"
         ],
         "x0": " ",
         "xaxis": "x",
         "y": [
          30,
          50,
          30,
          10,
          40,
          30
         ],
         "y0": " ",
         "yaxis": "y"
        },
        {
         "alignmentgroup": "True",
         "hovertemplate": "Loss (%)=10<br>Bundle Size=1 MB<br>Bundles=100<br>Software/CLP=%{x}<br>=%{y}<extra></extra>",
         "legendgroup": "10",
         "marker": {
          "color": "#EF553B"
         },
         "name": "10",
         "notched": false,
         "offsetgroup": "10",
         "orientation": "v",
         "showlegend": false,
         "type": "box",
         "x": [
          "DTN7-ng/QUICL",
          "DTN7-ng/QUICL",
          "DTN7-ng/MTCP",
          "DTN7-ng/MTCP",
          "DTN7-ng/MTCP",
          "DTN7-ng/QUICL"
         ],
         "x0": " ",
         "xaxis": "x2",
         "y": [
          3,
          6,
          2,
          2,
          1,
          4
         ],
         "y0": " ",
         "yaxis": "y2"
        },
        {
         "alignmentgroup": "True",
         "hovertemplate": "Loss (%)=30<br>Bundle Size=1 kB<br>Bundles=10<br>Software/CLP=%{x}<br>=%{y}<extra></extra>",
         "legendgroup": "30",
         "marker": {
          "color": "#00cc96"
         },
         "name": "30",
         "notched": false,
         "offsetgroup": "30",
         "orientation": "v",
         "showlegend": true,
         "type": "box",
         "x": [
          "DTN7-ng/MTCP",
          "DTN7-ng/MTCP",
          "DTN7-ng/MTCP",
          "DTN7-ng/QUICL",
          "DTN7-ng/QUICL",
          "DTN7-ng/QUICL"
         ],
         "x0": " ",
         "xaxis": "x5",
         "y": [
          10,
          10,
          10,
          10,
          30,
          30
         ],
         "y0": " ",
         "yaxis": "y5"
        },
        {
         "alignmentgroup": "True",
         "hovertemplate": "Loss (%)=30<br>Bundle Size=1 kB<br>Bundles=100<br>Software/CLP=%{x}<br>=%{y}<extra></extra>",
         "legendgroup": "30",
         "marker": {
          "color": "#00cc96"
         },
         "name": "30",
         "notched": false,
         "offsetgroup": "30",
         "orientation": "v",
         "showlegend": false,
         "type": "box",
         "x": [
          "DTN7-ng/MTCP",
          "DTN7-ng/MTCP",
          "DTN7-ng/MTCP",
          "DTN7-ng/QUICL",
          "DTN7-ng/QUICL",
          "DTN7-ng/QUICL"
         ],
         "x0": " ",
         "xaxis": "x6",
         "y": [
          1,
          2,
          2,
          5,
          4,
          5
         ],
         "y0": " ",
         "yaxis": "y6"
        },
        {
         "alignmentgroup": "True",
         "hovertemplate": "Loss (%)=30<br>Bundle Size=100 kB<br>Bundles=10<br>Software/CLP=%{x}<br>=%{y}<extra></extra>",
         "legendgroup": "30",
         "marker": {
          "color": "#00cc96"
         },
         "name": "30",
         "notched": false,
         "offsetgroup": "30",
         "orientation": "v",
         "showlegend": false,
         "type": "box",
         "x": [
          "DTN7-ng/QUICL",
          "DTN7-ng/QUICL",
          "DTN7-ng/MTCP",
          "DTN7-ng/MTCP",
          "DTN7-ng/MTCP",
          "DTN7-ng/QUICL"
         ],
         "x0": " ",
         "xaxis": "x3",
         "y": [
          40,
          30,
          0,
          0,
          0,
          40
         ],
         "y0": " ",
         "yaxis": "y3"
        },
        {
         "alignmentgroup": "True",
         "hovertemplate": "Loss (%)=30<br>Bundle Size=100 kB<br>Bundles=100<br>Software/CLP=%{x}<br>=%{y}<extra></extra>",
         "legendgroup": "30",
         "marker": {
          "color": "#00cc96"
         },
         "name": "30",
         "notched": false,
         "offsetgroup": "30",
         "orientation": "v",
         "showlegend": false,
         "type": "box",
         "x": [
          "DTN7-ng/MTCP",
          "DTN7-ng/MTCP",
          "DTN7-ng/MTCP",
          "DTN7-ng/QUICL",
          "DTN7-ng/QUICL",
          "DTN7-ng/QUICL"
         ],
         "x0": " ",
         "xaxis": "x4",
         "y": [
          0,
          0,
          0,
          3,
          2,
          6
         ],
         "y0": " ",
         "yaxis": "y4"
        },
        {
         "alignmentgroup": "True",
         "hovertemplate": "Loss (%)=30<br>Bundle Size=1 MB<br>Bundles=10<br>Software/CLP=%{x}<br>=%{y}<extra></extra>",
         "legendgroup": "30",
         "marker": {
          "color": "#00cc96"
         },
         "name": "30",
         "notched": false,
         "offsetgroup": "30",
         "orientation": "v",
         "showlegend": false,
         "type": "box",
         "x": [
          "DTN7-ng/MTCP",
          "DTN7-ng/MTCP",
          "DTN7-ng/QUICL",
          "DTN7-ng/QUICL",
          "DTN7-ng/QUICL",
          "DTN7-ng/MTCP"
         ],
         "x0": " ",
         "xaxis": "x",
         "y": [
          0,
          0,
          60,
          50,
          40,
          0
         ],
         "y0": " ",
         "yaxis": "y"
        },
        {
         "alignmentgroup": "True",
         "hovertemplate": "Loss (%)=30<br>Bundle Size=1 MB<br>Bundles=100<br>Software/CLP=%{x}<br>=%{y}<extra></extra>",
         "legendgroup": "30",
         "marker": {
          "color": "#00cc96"
         },
         "name": "30",
         "notched": false,
         "offsetgroup": "30",
         "orientation": "v",
         "showlegend": false,
         "type": "box",
         "x": [
          "DTN7-ng/QUICL",
          "DTN7-ng/QUICL",
          "DTN7-ng/QUICL",
          "DTN7-ng/MTCP",
          "DTN7-ng/MTCP",
          "DTN7-ng/MTCP"
         ],
         "x0": " ",
         "xaxis": "x2",
         "y": [
          4,
          5,
          0,
          0,
          0,
          0
         ],
         "y0": " ",
         "yaxis": "y2"
        },
        {
         "alignmentgroup": "True",
         "hovertemplate": "Loss (%)=50<br>Bundle Size=1 kB<br>Bundles=10<br>Software/CLP=%{x}<br>=%{y}<extra></extra>",
         "legendgroup": "50",
         "marker": {
          "color": "#ab63fa"
         },
         "name": "50",
         "notched": false,
         "offsetgroup": "50",
         "orientation": "v",
         "showlegend": true,
         "type": "box",
         "x": [
          "DTN7-ng/QUICL",
          "DTN7-ng/QUICL",
          "DTN7-ng/QUICL",
          "DTN7-ng/MTCP",
          "DTN7-ng/MTCP",
          "DTN7-ng/MTCP"
         ],
         "x0": " ",
         "xaxis": "x5",
         "y": [
          0,
          0,
          0,
          0,
          0,
          0
         ],
         "y0": " ",
         "yaxis": "y5"
        },
        {
         "alignmentgroup": "True",
         "hovertemplate": "Loss (%)=50<br>Bundle Size=1 kB<br>Bundles=100<br>Software/CLP=%{x}<br>=%{y}<extra></extra>",
         "legendgroup": "50",
         "marker": {
          "color": "#ab63fa"
         },
         "name": "50",
         "notched": false,
         "offsetgroup": "50",
         "orientation": "v",
         "showlegend": false,
         "type": "box",
         "x": [
          "DTN7-ng/MTCP",
          "DTN7-ng/MTCP",
          "DTN7-ng/MTCP",
          "DTN7-ng/QUICL",
          "DTN7-ng/QUICL",
          "DTN7-ng/QUICL"
         ],
         "x0": " ",
         "xaxis": "x6",
         "y": [
          0,
          1,
          0,
          0,
          0,
          1
         ],
         "y0": " ",
         "yaxis": "y6"
        },
        {
         "alignmentgroup": "True",
         "hovertemplate": "Loss (%)=50<br>Bundle Size=100 kB<br>Bundles=10<br>Software/CLP=%{x}<br>=%{y}<extra></extra>",
         "legendgroup": "50",
         "marker": {
          "color": "#ab63fa"
         },
         "name": "50",
         "notched": false,
         "offsetgroup": "50",
         "orientation": "v",
         "showlegend": false,
         "type": "box",
         "x": [
          "DTN7-ng/MTCP",
          "DTN7-ng/MTCP",
          "DTN7-ng/MTCP",
          "DTN7-ng/QUICL",
          "DTN7-ng/QUICL",
          "DTN7-ng/QUICL"
         ],
         "x0": " ",
         "xaxis": "x3",
         "y": [
          0,
          0,
          0,
          10,
          0,
          0
         ],
         "y0": " ",
         "yaxis": "y3"
        },
        {
         "alignmentgroup": "True",
         "hovertemplate": "Loss (%)=50<br>Bundle Size=100 kB<br>Bundles=100<br>Software/CLP=%{x}<br>=%{y}<extra></extra>",
         "legendgroup": "50",
         "marker": {
          "color": "#ab63fa"
         },
         "name": "50",
         "notched": false,
         "offsetgroup": "50",
         "orientation": "v",
         "showlegend": false,
         "type": "box",
         "x": [
          "DTN7-ng/QUICL",
          "DTN7-ng/QUICL",
          "DTN7-ng/MTCP",
          "DTN7-ng/MTCP",
          "DTN7-ng/MTCP",
          "DTN7-ng/QUICL"
         ],
         "x0": " ",
         "xaxis": "x4",
         "y": [
          0,
          0,
          0,
          0,
          0,
          0
         ],
         "y0": " ",
         "yaxis": "y4"
        },
        {
         "alignmentgroup": "True",
         "hovertemplate": "Loss (%)=50<br>Bundle Size=1 MB<br>Bundles=10<br>Software/CLP=%{x}<br>=%{y}<extra></extra>",
         "legendgroup": "50",
         "marker": {
          "color": "#ab63fa"
         },
         "name": "50",
         "notched": false,
         "offsetgroup": "50",
         "orientation": "v",
         "showlegend": false,
         "type": "box",
         "x": [
          "DTN7-ng/MTCP",
          "DTN7-ng/MTCP",
          "DTN7-ng/MTCP",
          "DTN7-ng/QUICL",
          "DTN7-ng/QUICL",
          "DTN7-ng/QUICL"
         ],
         "x0": " ",
         "xaxis": "x",
         "y": [
          0,
          0,
          0,
          0,
          0,
          0
         ],
         "y0": " ",
         "yaxis": "y"
        },
        {
         "alignmentgroup": "True",
         "hovertemplate": "Loss (%)=50<br>Bundle Size=1 MB<br>Bundles=100<br>Software/CLP=%{x}<br>=%{y}<extra></extra>",
         "legendgroup": "50",
         "marker": {
          "color": "#ab63fa"
         },
         "name": "50",
         "notched": false,
         "offsetgroup": "50",
         "orientation": "v",
         "showlegend": false,
         "type": "box",
         "x": [
          "DTN7-ng/QUICL",
          "DTN7-ng/QUICL",
          "DTN7-ng/QUICL",
          "DTN7-ng/MTCP",
          "DTN7-ng/MTCP",
          "DTN7-ng/MTCP"
         ],
         "x0": " ",
         "xaxis": "x2",
         "y": [
          0,
          0,
          0,
          0,
          0,
          0
         ],
         "y0": " ",
         "yaxis": "y2"
        }
       ],
       "layout": {
        "annotations": [
         {
          "showarrow": false,
          "text": "Bundles: 10",
          "x": 0.24,
          "xanchor": "center",
          "xref": "paper",
          "y": 0.9999999999999998,
          "yanchor": "bottom",
          "yref": "paper"
         },
         {
          "showarrow": false,
          "text": "Bundles: 100",
          "x": 0.74,
          "xanchor": "center",
          "xref": "paper",
          "y": 0.9999999999999998,
          "yanchor": "bottom",
          "yref": "paper"
         },
         {
          "showarrow": false,
          "text": "1 MB",
          "textangle": 90,
          "x": 0.98,
          "xanchor": "left",
          "xref": "paper",
          "y": 0.15666666666666665,
          "yanchor": "middle",
          "yref": "paper"
         },
         {
          "showarrow": false,
          "text": "100 kB",
          "textangle": 90,
          "x": 0.98,
          "xanchor": "left",
          "xref": "paper",
          "y": 0.4999999999999999,
          "yanchor": "middle",
          "yref": "paper"
         },
         {
          "showarrow": false,
          "text": "1 kB",
          "textangle": 90,
          "x": 0.98,
          "xanchor": "left",
          "xref": "paper",
          "y": 0.8433333333333332,
          "yanchor": "middle",
          "yref": "paper"
         },
         {
          "font": {
           "size": 14
          },
          "text": "Successful Receptions (%)",
          "textangle": -90,
          "x": -0.04,
          "xref": "paper",
          "y": 0.35,
          "yref": "paper"
         }
        ],
        "boxmode": "group",
        "legend": {
         "title": {
          "text": "Loss (%)"
         },
         "tracegroupgap": 0
        },
        "margin": {
         "b": 0,
         "l": 0,
         "r": 0,
         "t": 20
        },
        "template": {
         "data": {
          "bar": [
           {
            "error_x": {
             "color": "#2a3f5f"
            },
            "error_y": {
             "color": "#2a3f5f"
            },
            "marker": {
             "line": {
              "color": "#E5ECF6",
              "width": 0.5
             },
             "pattern": {
              "fillmode": "overlay",
              "size": 10,
              "solidity": 0.2
             }
            },
            "type": "bar"
           }
          ],
          "barpolar": [
           {
            "marker": {
             "line": {
              "color": "#E5ECF6",
              "width": 0.5
             },
             "pattern": {
              "fillmode": "overlay",
              "size": 10,
              "solidity": 0.2
             }
            },
            "type": "barpolar"
           }
          ],
          "carpet": [
           {
            "aaxis": {
             "endlinecolor": "#2a3f5f",
             "gridcolor": "white",
             "linecolor": "white",
             "minorgridcolor": "white",
             "startlinecolor": "#2a3f5f"
            },
            "baxis": {
             "endlinecolor": "#2a3f5f",
             "gridcolor": "white",
             "linecolor": "white",
             "minorgridcolor": "white",
             "startlinecolor": "#2a3f5f"
            },
            "type": "carpet"
           }
          ],
          "choropleth": [
           {
            "colorbar": {
             "outlinewidth": 0,
             "ticks": ""
            },
            "type": "choropleth"
           }
          ],
          "contour": [
           {
            "colorbar": {
             "outlinewidth": 0,
             "ticks": ""
            },
            "colorscale": [
             [
              0,
              "#0d0887"
             ],
             [
              0.1111111111111111,
              "#46039f"
             ],
             [
              0.2222222222222222,
              "#7201a8"
             ],
             [
              0.3333333333333333,
              "#9c179e"
             ],
             [
              0.4444444444444444,
              "#bd3786"
             ],
             [
              0.5555555555555556,
              "#d8576b"
             ],
             [
              0.6666666666666666,
              "#ed7953"
             ],
             [
              0.7777777777777778,
              "#fb9f3a"
             ],
             [
              0.8888888888888888,
              "#fdca26"
             ],
             [
              1,
              "#f0f921"
             ]
            ],
            "type": "contour"
           }
          ],
          "contourcarpet": [
           {
            "colorbar": {
             "outlinewidth": 0,
             "ticks": ""
            },
            "type": "contourcarpet"
           }
          ],
          "heatmap": [
           {
            "colorbar": {
             "outlinewidth": 0,
             "ticks": ""
            },
            "colorscale": [
             [
              0,
              "#0d0887"
             ],
             [
              0.1111111111111111,
              "#46039f"
             ],
             [
              0.2222222222222222,
              "#7201a8"
             ],
             [
              0.3333333333333333,
              "#9c179e"
             ],
             [
              0.4444444444444444,
              "#bd3786"
             ],
             [
              0.5555555555555556,
              "#d8576b"
             ],
             [
              0.6666666666666666,
              "#ed7953"
             ],
             [
              0.7777777777777778,
              "#fb9f3a"
             ],
             [
              0.8888888888888888,
              "#fdca26"
             ],
             [
              1,
              "#f0f921"
             ]
            ],
            "type": "heatmap"
           }
          ],
          "heatmapgl": [
           {
            "colorbar": {
             "outlinewidth": 0,
             "ticks": ""
            },
            "colorscale": [
             [
              0,
              "#0d0887"
             ],
             [
              0.1111111111111111,
              "#46039f"
             ],
             [
              0.2222222222222222,
              "#7201a8"
             ],
             [
              0.3333333333333333,
              "#9c179e"
             ],
             [
              0.4444444444444444,
              "#bd3786"
             ],
             [
              0.5555555555555556,
              "#d8576b"
             ],
             [
              0.6666666666666666,
              "#ed7953"
             ],
             [
              0.7777777777777778,
              "#fb9f3a"
             ],
             [
              0.8888888888888888,
              "#fdca26"
             ],
             [
              1,
              "#f0f921"
             ]
            ],
            "type": "heatmapgl"
           }
          ],
          "histogram": [
           {
            "marker": {
             "pattern": {
              "fillmode": "overlay",
              "size": 10,
              "solidity": 0.2
             }
            },
            "type": "histogram"
           }
          ],
          "histogram2d": [
           {
            "colorbar": {
             "outlinewidth": 0,
             "ticks": ""
            },
            "colorscale": [
             [
              0,
              "#0d0887"
             ],
             [
              0.1111111111111111,
              "#46039f"
             ],
             [
              0.2222222222222222,
              "#7201a8"
             ],
             [
              0.3333333333333333,
              "#9c179e"
             ],
             [
              0.4444444444444444,
              "#bd3786"
             ],
             [
              0.5555555555555556,
              "#d8576b"
             ],
             [
              0.6666666666666666,
              "#ed7953"
             ],
             [
              0.7777777777777778,
              "#fb9f3a"
             ],
             [
              0.8888888888888888,
              "#fdca26"
             ],
             [
              1,
              "#f0f921"
             ]
            ],
            "type": "histogram2d"
           }
          ],
          "histogram2dcontour": [
           {
            "colorbar": {
             "outlinewidth": 0,
             "ticks": ""
            },
            "colorscale": [
             [
              0,
              "#0d0887"
             ],
             [
              0.1111111111111111,
              "#46039f"
             ],
             [
              0.2222222222222222,
              "#7201a8"
             ],
             [
              0.3333333333333333,
              "#9c179e"
             ],
             [
              0.4444444444444444,
              "#bd3786"
             ],
             [
              0.5555555555555556,
              "#d8576b"
             ],
             [
              0.6666666666666666,
              "#ed7953"
             ],
             [
              0.7777777777777778,
              "#fb9f3a"
             ],
             [
              0.8888888888888888,
              "#fdca26"
             ],
             [
              1,
              "#f0f921"
             ]
            ],
            "type": "histogram2dcontour"
           }
          ],
          "mesh3d": [
           {
            "colorbar": {
             "outlinewidth": 0,
             "ticks": ""
            },
            "type": "mesh3d"
           }
          ],
          "parcoords": [
           {
            "line": {
             "colorbar": {
              "outlinewidth": 0,
              "ticks": ""
             }
            },
            "type": "parcoords"
           }
          ],
          "pie": [
           {
            "automargin": true,
            "type": "pie"
           }
          ],
          "scatter": [
           {
            "fillpattern": {
             "fillmode": "overlay",
             "size": 10,
             "solidity": 0.2
            },
            "type": "scatter"
           }
          ],
          "scatter3d": [
           {
            "line": {
             "colorbar": {
              "outlinewidth": 0,
              "ticks": ""
             }
            },
            "marker": {
             "colorbar": {
              "outlinewidth": 0,
              "ticks": ""
             }
            },
            "type": "scatter3d"
           }
          ],
          "scattercarpet": [
           {
            "marker": {
             "colorbar": {
              "outlinewidth": 0,
              "ticks": ""
             }
            },
            "type": "scattercarpet"
           }
          ],
          "scattergeo": [
           {
            "marker": {
             "colorbar": {
              "outlinewidth": 0,
              "ticks": ""
             }
            },
            "type": "scattergeo"
           }
          ],
          "scattergl": [
           {
            "marker": {
             "colorbar": {
              "outlinewidth": 0,
              "ticks": ""
             }
            },
            "type": "scattergl"
           }
          ],
          "scattermapbox": [
           {
            "marker": {
             "colorbar": {
              "outlinewidth": 0,
              "ticks": ""
             }
            },
            "type": "scattermapbox"
           }
          ],
          "scatterpolar": [
           {
            "marker": {
             "colorbar": {
              "outlinewidth": 0,
              "ticks": ""
             }
            },
            "type": "scatterpolar"
           }
          ],
          "scatterpolargl": [
           {
            "marker": {
             "colorbar": {
              "outlinewidth": 0,
              "ticks": ""
             }
            },
            "type": "scatterpolargl"
           }
          ],
          "scatterternary": [
           {
            "marker": {
             "colorbar": {
              "outlinewidth": 0,
              "ticks": ""
             }
            },
            "type": "scatterternary"
           }
          ],
          "surface": [
           {
            "colorbar": {
             "outlinewidth": 0,
             "ticks": ""
            },
            "colorscale": [
             [
              0,
              "#0d0887"
             ],
             [
              0.1111111111111111,
              "#46039f"
             ],
             [
              0.2222222222222222,
              "#7201a8"
             ],
             [
              0.3333333333333333,
              "#9c179e"
             ],
             [
              0.4444444444444444,
              "#bd3786"
             ],
             [
              0.5555555555555556,
              "#d8576b"
             ],
             [
              0.6666666666666666,
              "#ed7953"
             ],
             [
              0.7777777777777778,
              "#fb9f3a"
             ],
             [
              0.8888888888888888,
              "#fdca26"
             ],
             [
              1,
              "#f0f921"
             ]
            ],
            "type": "surface"
           }
          ],
          "table": [
           {
            "cells": {
             "fill": {
              "color": "#EBF0F8"
             },
             "line": {
              "color": "white"
             }
            },
            "header": {
             "fill": {
              "color": "#C8D4E3"
             },
             "line": {
              "color": "white"
             }
            },
            "type": "table"
           }
          ]
         },
         "layout": {
          "annotationdefaults": {
           "arrowcolor": "#2a3f5f",
           "arrowhead": 0,
           "arrowwidth": 1
          },
          "autotypenumbers": "strict",
          "coloraxis": {
           "colorbar": {
            "outlinewidth": 0,
            "ticks": ""
           }
          },
          "colorscale": {
           "diverging": [
            [
             0,
             "#8e0152"
            ],
            [
             0.1,
             "#c51b7d"
            ],
            [
             0.2,
             "#de77ae"
            ],
            [
             0.3,
             "#f1b6da"
            ],
            [
             0.4,
             "#fde0ef"
            ],
            [
             0.5,
             "#f7f7f7"
            ],
            [
             0.6,
             "#e6f5d0"
            ],
            [
             0.7,
             "#b8e186"
            ],
            [
             0.8,
             "#7fbc41"
            ],
            [
             0.9,
             "#4d9221"
            ],
            [
             1,
             "#276419"
            ]
           ],
           "sequential": [
            [
             0,
             "#0d0887"
            ],
            [
             0.1111111111111111,
             "#46039f"
            ],
            [
             0.2222222222222222,
             "#7201a8"
            ],
            [
             0.3333333333333333,
             "#9c179e"
            ],
            [
             0.4444444444444444,
             "#bd3786"
            ],
            [
             0.5555555555555556,
             "#d8576b"
            ],
            [
             0.6666666666666666,
             "#ed7953"
            ],
            [
             0.7777777777777778,
             "#fb9f3a"
            ],
            [
             0.8888888888888888,
             "#fdca26"
            ],
            [
             1,
             "#f0f921"
            ]
           ],
           "sequentialminus": [
            [
             0,
             "#0d0887"
            ],
            [
             0.1111111111111111,
             "#46039f"
            ],
            [
             0.2222222222222222,
             "#7201a8"
            ],
            [
             0.3333333333333333,
             "#9c179e"
            ],
            [
             0.4444444444444444,
             "#bd3786"
            ],
            [
             0.5555555555555556,
             "#d8576b"
            ],
            [
             0.6666666666666666,
             "#ed7953"
            ],
            [
             0.7777777777777778,
             "#fb9f3a"
            ],
            [
             0.8888888888888888,
             "#fdca26"
            ],
            [
             1,
             "#f0f921"
            ]
           ]
          },
          "colorway": [
           "#636efa",
           "#EF553B",
           "#00cc96",
           "#ab63fa",
           "#FFA15A",
           "#19d3f3",
           "#FF6692",
           "#B6E880",
           "#FF97FF",
           "#FECB52"
          ],
          "font": {
           "color": "#2a3f5f"
          },
          "geo": {
           "bgcolor": "white",
           "lakecolor": "white",
           "landcolor": "#E5ECF6",
           "showlakes": true,
           "showland": true,
           "subunitcolor": "white"
          },
          "hoverlabel": {
           "align": "left"
          },
          "hovermode": "closest",
          "mapbox": {
           "style": "light"
          },
          "paper_bgcolor": "white",
          "plot_bgcolor": "#E5ECF6",
          "polar": {
           "angularaxis": {
            "gridcolor": "white",
            "linecolor": "white",
            "ticks": ""
           },
           "bgcolor": "#E5ECF6",
           "radialaxis": {
            "gridcolor": "white",
            "linecolor": "white",
            "ticks": ""
           }
          },
          "scene": {
           "xaxis": {
            "backgroundcolor": "#E5ECF6",
            "gridcolor": "white",
            "gridwidth": 2,
            "linecolor": "white",
            "showbackground": true,
            "ticks": "",
            "zerolinecolor": "white"
           },
           "yaxis": {
            "backgroundcolor": "#E5ECF6",
            "gridcolor": "white",
            "gridwidth": 2,
            "linecolor": "white",
            "showbackground": true,
            "ticks": "",
            "zerolinecolor": "white"
           },
           "zaxis": {
            "backgroundcolor": "#E5ECF6",
            "gridcolor": "white",
            "gridwidth": 2,
            "linecolor": "white",
            "showbackground": true,
            "ticks": "",
            "zerolinecolor": "white"
           }
          },
          "shapedefaults": {
           "line": {
            "color": "#2a3f5f"
           }
          },
          "ternary": {
           "aaxis": {
            "gridcolor": "white",
            "linecolor": "white",
            "ticks": ""
           },
           "baxis": {
            "gridcolor": "white",
            "linecolor": "white",
            "ticks": ""
           },
           "bgcolor": "#E5ECF6",
           "caxis": {
            "gridcolor": "white",
            "linecolor": "white",
            "ticks": ""
           }
          },
          "title": {
           "x": 0.05
          },
          "xaxis": {
           "automargin": true,
           "gridcolor": "white",
           "linecolor": "white",
           "ticks": "",
           "title": {
            "standoff": 15
           },
           "zerolinecolor": "white",
           "zerolinewidth": 2
          },
          "yaxis": {
           "automargin": true,
           "gridcolor": "white",
           "linecolor": "white",
           "ticks": "",
           "title": {
            "standoff": 15
           },
           "zerolinecolor": "white",
           "zerolinewidth": 2
          }
         }
        },
        "xaxis": {
         "anchor": "y",
         "categoryarray": [
          "Serval",
          "IBR-DTN/TCPCL",
          "DTN7-rs/MTCP",
          "DTN7-rs/TCPCL",
          "DTN7-rs/HTTP",
          "DTN7-ng/MTCP",
          "DTN7-ng/QUICL"
         ],
         "categoryorder": "array",
         "domain": [
          0,
          0.48
         ],
         "title": {
          "text": "Software/CLP"
         }
        },
        "xaxis2": {
         "anchor": "y2",
         "categoryarray": [
          "Serval",
          "IBR-DTN/TCPCL",
          "DTN7-rs/MTCP",
          "DTN7-rs/TCPCL",
          "DTN7-rs/HTTP",
          "DTN7-ng/MTCP",
          "DTN7-ng/QUICL"
         ],
         "categoryorder": "array",
         "domain": [
          0.5,
          0.98
         ],
         "matches": "x",
         "title": {
          "text": "Software/CLP"
         }
        },
        "xaxis3": {
         "anchor": "y3",
         "domain": [
          0,
          0.48
         ],
         "matches": "x",
         "showticklabels": false
        },
        "xaxis4": {
         "anchor": "y4",
         "domain": [
          0.5,
          0.98
         ],
         "matches": "x",
         "showticklabels": false
        },
        "xaxis5": {
         "anchor": "y5",
         "domain": [
          0,
          0.48
         ],
         "matches": "x",
         "showticklabels": false
        },
        "xaxis6": {
         "anchor": "y6",
         "domain": [
          0.5,
          0.98
         ],
         "matches": "x",
         "showticklabels": false
        },
        "yaxis": {
         "anchor": "x",
         "domain": [
          0,
          0.3133333333333333
         ],
         "title": {
          "text": ""
         }
        },
        "yaxis2": {
         "anchor": "x2",
         "domain": [
          0,
          0.3133333333333333
         ],
         "matches": "y",
         "showticklabels": false
        },
        "yaxis3": {
         "anchor": "x3",
         "domain": [
          0.34333333333333327,
          0.6566666666666665
         ],
         "matches": "y",
         "title": {
          "text": ""
         }
        },
        "yaxis4": {
         "anchor": "x4",
         "domain": [
          0.34333333333333327,
          0.6566666666666665
         ],
         "matches": "y",
         "showticklabels": false
        },
        "yaxis5": {
         "anchor": "x5",
         "domain": [
          0.6866666666666665,
          0.9999999999999998
         ],
         "matches": "y",
         "title": {
          "text": ""
         }
        },
        "yaxis6": {
         "anchor": "x6",
         "domain": [
          0.6866666666666665,
          0.9999999999999998
         ],
         "matches": "y",
         "showticklabels": false
        }
       }
      },
      "text/html": [
       "<div>                            <div id=\"72cb095b-0219-4138-9d82-2e9b419cf9a0\" class=\"plotly-graph-div\" style=\"height:525px; width:100%;\"></div>            <script type=\"text/javascript\">                require([\"plotly\"], function(Plotly) {                    window.PLOTLYENV=window.PLOTLYENV || {};                                    if (document.getElementById(\"72cb095b-0219-4138-9d82-2e9b419cf9a0\")) {                    Plotly.newPlot(                        \"72cb095b-0219-4138-9d82-2e9b419cf9a0\",                        [{\"alignmentgroup\":\"True\",\"hovertemplate\":\"Loss (%)=0<br>Bundle Size=1 kB<br>Bundles=10<br>Software/CLP=%{x}<br>=%{y}<extra></extra>\",\"legendgroup\":\"0\",\"marker\":{\"color\":\"#636efa\"},\"name\":\"0\",\"notched\":false,\"offsetgroup\":\"0\",\"orientation\":\"v\",\"showlegend\":true,\"x\":[\"DTN7-ng/MTCP\",\"DTN7-ng/MTCP\",\"DTN7-ng/MTCP\",\"DTN7-ng/QUICL\",\"DTN7-ng/QUICL\",\"DTN7-ng/QUICL\"],\"x0\":\" \",\"xaxis\":\"x5\",\"y\":[100.0,100.0,80.0,100.0,100.0,100.0],\"y0\":\" \",\"yaxis\":\"y5\",\"type\":\"box\"},{\"alignmentgroup\":\"True\",\"hovertemplate\":\"Loss (%)=0<br>Bundle Size=1 kB<br>Bundles=100<br>Software/CLP=%{x}<br>=%{y}<extra></extra>\",\"legendgroup\":\"0\",\"marker\":{\"color\":\"#636efa\"},\"name\":\"0\",\"notched\":false,\"offsetgroup\":\"0\",\"orientation\":\"v\",\"showlegend\":false,\"x\":[\"DTN7-ng/QUICL\",\"DTN7-ng/QUICL\",\"DTN7-ng/QUICL\",\"DTN7-ng/MTCP\",\"DTN7-ng/MTCP\",\"DTN7-ng/MTCP\"],\"x0\":\" \",\"xaxis\":\"x6\",\"y\":[10.0,11.0,11.0,11.0,11.0,9.0],\"y0\":\" \",\"yaxis\":\"y6\",\"type\":\"box\"},{\"alignmentgroup\":\"True\",\"hovertemplate\":\"Loss (%)=0<br>Bundle Size=100 kB<br>Bundles=10<br>Software/CLP=%{x}<br>=%{y}<extra></extra>\",\"legendgroup\":\"0\",\"marker\":{\"color\":\"#636efa\"},\"name\":\"0\",\"notched\":false,\"offsetgroup\":\"0\",\"orientation\":\"v\",\"showlegend\":false,\"x\":[\"DTN7-ng/MTCP\",\"DTN7-ng/MTCP\",\"DTN7-ng/MTCP\",\"DTN7-ng/QUICL\",\"DTN7-ng/QUICL\",\"DTN7-ng/QUICL\"],\"x0\":\" \",\"xaxis\":\"x3\",\"y\":[90.0,90.0,100.0,100.0,90.0,100.0],\"y0\":\" \",\"yaxis\":\"y3\",\"type\":\"box\"},{\"alignmentgroup\":\"True\",\"hovertemplate\":\"Loss (%)=0<br>Bundle Size=100 kB<br>Bundles=100<br>Software/CLP=%{x}<br>=%{y}<extra></extra>\",\"legendgroup\":\"0\",\"marker\":{\"color\":\"#636efa\"},\"name\":\"0\",\"notched\":false,\"offsetgroup\":\"0\",\"orientation\":\"v\",\"showlegend\":false,\"x\":[\"DTN7-ng/QUICL\",\"DTN7-ng/QUICL\",\"DTN7-ng/MTCP\",\"DTN7-ng/MTCP\",\"DTN7-ng/MTCP\",\"DTN7-ng/QUICL\"],\"x0\":\" \",\"xaxis\":\"x4\",\"y\":[11.0,10.0,11.0,11.0,10.0,11.0],\"y0\":\" \",\"yaxis\":\"y4\",\"type\":\"box\"},{\"alignmentgroup\":\"True\",\"hovertemplate\":\"Loss (%)=0<br>Bundle Size=1 MB<br>Bundles=10<br>Software/CLP=%{x}<br>=%{y}<extra></extra>\",\"legendgroup\":\"0\",\"marker\":{\"color\":\"#636efa\"},\"name\":\"0\",\"notched\":false,\"offsetgroup\":\"0\",\"orientation\":\"v\",\"showlegend\":false,\"x\":[\"DTN7-ng/QUICL\",\"DTN7-ng/QUICL\",\"DTN7-ng/MTCP\",\"DTN7-ng/MTCP\",\"DTN7-ng/MTCP\",\"DTN7-ng/QUICL\"],\"x0\":\" \",\"xaxis\":\"x\",\"y\":[50.0,80.0,100.0,100.0,100.0,100.0],\"y0\":\" \",\"yaxis\":\"y\",\"type\":\"box\"},{\"alignmentgroup\":\"True\",\"hovertemplate\":\"Loss (%)=0<br>Bundle Size=1 MB<br>Bundles=100<br>Software/CLP=%{x}<br>=%{y}<extra></extra>\",\"legendgroup\":\"0\",\"marker\":{\"color\":\"#636efa\"},\"name\":\"0\",\"notched\":false,\"offsetgroup\":\"0\",\"orientation\":\"v\",\"showlegend\":false,\"x\":[\"DTN7-ng/MTCP\",\"DTN7-ng/MTCP\",\"DTN7-ng/MTCP\",\"DTN7-ng/QUICL\",\"DTN7-ng/QUICL\",\"DTN7-ng/QUICL\"],\"x0\":\" \",\"xaxis\":\"x2\",\"y\":[11.0,11.0,11.0,10.0,8.0,11.0],\"y0\":\" \",\"yaxis\":\"y2\",\"type\":\"box\"},{\"alignmentgroup\":\"True\",\"hovertemplate\":\"Loss (%)=10<br>Bundle Size=1 kB<br>Bundles=10<br>Software/CLP=%{x}<br>=%{y}<extra></extra>\",\"legendgroup\":\"10\",\"marker\":{\"color\":\"#EF553B\"},\"name\":\"10\",\"notched\":false,\"offsetgroup\":\"10\",\"orientation\":\"v\",\"showlegend\":true,\"x\":[\"DTN7-ng/MTCP\",\"DTN7-ng/MTCP\",\"DTN7-ng/MTCP\",\"DTN7-ng/QUICL\",\"DTN7-ng/QUICL\",\"DTN7-ng/QUICL\"],\"x0\":\" \",\"xaxis\":\"x5\",\"y\":[80.0,60.0,90.0,70.0,40.0,60.0],\"y0\":\" \",\"yaxis\":\"y5\",\"type\":\"box\"},{\"alignmentgroup\":\"True\",\"hovertemplate\":\"Loss (%)=10<br>Bundle Size=1 kB<br>Bundles=100<br>Software/CLP=%{x}<br>=%{y}<extra></extra>\",\"legendgroup\":\"10\",\"marker\":{\"color\":\"#EF553B\"},\"name\":\"10\",\"notched\":false,\"offsetgroup\":\"10\",\"orientation\":\"v\",\"showlegend\":false,\"x\":[\"DTN7-ng/QUICL\",\"DTN7-ng/QUICL\",\"DTN7-ng/MTCP\",\"DTN7-ng/MTCP\",\"DTN7-ng/MTCP\",\"DTN7-ng/QUICL\"],\"x0\":\" \",\"xaxis\":\"x6\",\"y\":[10.0,4.0,9.0,6.0,11.0,7.000000000000001],\"y0\":\" \",\"yaxis\":\"y6\",\"type\":\"box\"},{\"alignmentgroup\":\"True\",\"hovertemplate\":\"Loss (%)=10<br>Bundle Size=100 kB<br>Bundles=10<br>Software/CLP=%{x}<br>=%{y}<extra></extra>\",\"legendgroup\":\"10\",\"marker\":{\"color\":\"#EF553B\"},\"name\":\"10\",\"notched\":false,\"offsetgroup\":\"10\",\"orientation\":\"v\",\"showlegend\":false,\"x\":[\"DTN7-ng/QUICL\",\"DTN7-ng/QUICL\",\"DTN7-ng/MTCP\",\"DTN7-ng/MTCP\",\"DTN7-ng/MTCP\",\"DTN7-ng/QUICL\"],\"x0\":\" \",\"xaxis\":\"x3\",\"y\":[60.0,50.0,40.0,50.0,20.0,50.0],\"y0\":\" \",\"yaxis\":\"y3\",\"type\":\"box\"},{\"alignmentgroup\":\"True\",\"hovertemplate\":\"Loss (%)=10<br>Bundle Size=100 kB<br>Bundles=100<br>Software/CLP=%{x}<br>=%{y}<extra></extra>\",\"legendgroup\":\"10\",\"marker\":{\"color\":\"#EF553B\"},\"name\":\"10\",\"notched\":false,\"offsetgroup\":\"10\",\"orientation\":\"v\",\"showlegend\":false,\"x\":[\"DTN7-ng/QUICL\",\"DTN7-ng/QUICL\",\"DTN7-ng/MTCP\",\"DTN7-ng/MTCP\",\"DTN7-ng/MTCP\",\"DTN7-ng/QUICL\"],\"x0\":\" \",\"xaxis\":\"x4\",\"y\":[9.0,8.0,3.0,4.0,3.0,8.0],\"y0\":\" \",\"yaxis\":\"y4\",\"type\":\"box\"},{\"alignmentgroup\":\"True\",\"hovertemplate\":\"Loss (%)=10<br>Bundle Size=1 MB<br>Bundles=10<br>Software/CLP=%{x}<br>=%{y}<extra></extra>\",\"legendgroup\":\"10\",\"marker\":{\"color\":\"#EF553B\"},\"name\":\"10\",\"notched\":false,\"offsetgroup\":\"10\",\"orientation\":\"v\",\"showlegend\":false,\"x\":[\"DTN7-ng/QUICL\",\"DTN7-ng/QUICL\",\"DTN7-ng/QUICL\",\"DTN7-ng/MTCP\",\"DTN7-ng/MTCP\",\"DTN7-ng/MTCP\"],\"x0\":\" \",\"xaxis\":\"x\",\"y\":[30.0,50.0,30.0,10.0,40.0,30.0],\"y0\":\" \",\"yaxis\":\"y\",\"type\":\"box\"},{\"alignmentgroup\":\"True\",\"hovertemplate\":\"Loss (%)=10<br>Bundle Size=1 MB<br>Bundles=100<br>Software/CLP=%{x}<br>=%{y}<extra></extra>\",\"legendgroup\":\"10\",\"marker\":{\"color\":\"#EF553B\"},\"name\":\"10\",\"notched\":false,\"offsetgroup\":\"10\",\"orientation\":\"v\",\"showlegend\":false,\"x\":[\"DTN7-ng/QUICL\",\"DTN7-ng/QUICL\",\"DTN7-ng/MTCP\",\"DTN7-ng/MTCP\",\"DTN7-ng/MTCP\",\"DTN7-ng/QUICL\"],\"x0\":\" \",\"xaxis\":\"x2\",\"y\":[3.0,6.0,2.0,2.0,1.0,4.0],\"y0\":\" \",\"yaxis\":\"y2\",\"type\":\"box\"},{\"alignmentgroup\":\"True\",\"hovertemplate\":\"Loss (%)=30<br>Bundle Size=1 kB<br>Bundles=10<br>Software/CLP=%{x}<br>=%{y}<extra></extra>\",\"legendgroup\":\"30\",\"marker\":{\"color\":\"#00cc96\"},\"name\":\"30\",\"notched\":false,\"offsetgroup\":\"30\",\"orientation\":\"v\",\"showlegend\":true,\"x\":[\"DTN7-ng/MTCP\",\"DTN7-ng/MTCP\",\"DTN7-ng/MTCP\",\"DTN7-ng/QUICL\",\"DTN7-ng/QUICL\",\"DTN7-ng/QUICL\"],\"x0\":\" \",\"xaxis\":\"x5\",\"y\":[10.0,10.0,10.0,10.0,30.0,30.0],\"y0\":\" \",\"yaxis\":\"y5\",\"type\":\"box\"},{\"alignmentgroup\":\"True\",\"hovertemplate\":\"Loss (%)=30<br>Bundle Size=1 kB<br>Bundles=100<br>Software/CLP=%{x}<br>=%{y}<extra></extra>\",\"legendgroup\":\"30\",\"marker\":{\"color\":\"#00cc96\"},\"name\":\"30\",\"notched\":false,\"offsetgroup\":\"30\",\"orientation\":\"v\",\"showlegend\":false,\"x\":[\"DTN7-ng/MTCP\",\"DTN7-ng/MTCP\",\"DTN7-ng/MTCP\",\"DTN7-ng/QUICL\",\"DTN7-ng/QUICL\",\"DTN7-ng/QUICL\"],\"x0\":\" \",\"xaxis\":\"x6\",\"y\":[1.0,2.0,2.0,5.0,4.0,5.0],\"y0\":\" \",\"yaxis\":\"y6\",\"type\":\"box\"},{\"alignmentgroup\":\"True\",\"hovertemplate\":\"Loss (%)=30<br>Bundle Size=100 kB<br>Bundles=10<br>Software/CLP=%{x}<br>=%{y}<extra></extra>\",\"legendgroup\":\"30\",\"marker\":{\"color\":\"#00cc96\"},\"name\":\"30\",\"notched\":false,\"offsetgroup\":\"30\",\"orientation\":\"v\",\"showlegend\":false,\"x\":[\"DTN7-ng/QUICL\",\"DTN7-ng/QUICL\",\"DTN7-ng/MTCP\",\"DTN7-ng/MTCP\",\"DTN7-ng/MTCP\",\"DTN7-ng/QUICL\"],\"x0\":\" \",\"xaxis\":\"x3\",\"y\":[40.0,30.0,0.0,0.0,0.0,40.0],\"y0\":\" \",\"yaxis\":\"y3\",\"type\":\"box\"},{\"alignmentgroup\":\"True\",\"hovertemplate\":\"Loss (%)=30<br>Bundle Size=100 kB<br>Bundles=100<br>Software/CLP=%{x}<br>=%{y}<extra></extra>\",\"legendgroup\":\"30\",\"marker\":{\"color\":\"#00cc96\"},\"name\":\"30\",\"notched\":false,\"offsetgroup\":\"30\",\"orientation\":\"v\",\"showlegend\":false,\"x\":[\"DTN7-ng/MTCP\",\"DTN7-ng/MTCP\",\"DTN7-ng/MTCP\",\"DTN7-ng/QUICL\",\"DTN7-ng/QUICL\",\"DTN7-ng/QUICL\"],\"x0\":\" \",\"xaxis\":\"x4\",\"y\":[0.0,0.0,0.0,3.0,2.0,6.0],\"y0\":\" \",\"yaxis\":\"y4\",\"type\":\"box\"},{\"alignmentgroup\":\"True\",\"hovertemplate\":\"Loss (%)=30<br>Bundle Size=1 MB<br>Bundles=10<br>Software/CLP=%{x}<br>=%{y}<extra></extra>\",\"legendgroup\":\"30\",\"marker\":{\"color\":\"#00cc96\"},\"name\":\"30\",\"notched\":false,\"offsetgroup\":\"30\",\"orientation\":\"v\",\"showlegend\":false,\"x\":[\"DTN7-ng/MTCP\",\"DTN7-ng/MTCP\",\"DTN7-ng/QUICL\",\"DTN7-ng/QUICL\",\"DTN7-ng/QUICL\",\"DTN7-ng/MTCP\"],\"x0\":\" \",\"xaxis\":\"x\",\"y\":[0.0,0.0,60.0,50.0,40.0,0.0],\"y0\":\" \",\"yaxis\":\"y\",\"type\":\"box\"},{\"alignmentgroup\":\"True\",\"hovertemplate\":\"Loss (%)=30<br>Bundle Size=1 MB<br>Bundles=100<br>Software/CLP=%{x}<br>=%{y}<extra></extra>\",\"legendgroup\":\"30\",\"marker\":{\"color\":\"#00cc96\"},\"name\":\"30\",\"notched\":false,\"offsetgroup\":\"30\",\"orientation\":\"v\",\"showlegend\":false,\"x\":[\"DTN7-ng/QUICL\",\"DTN7-ng/QUICL\",\"DTN7-ng/QUICL\",\"DTN7-ng/MTCP\",\"DTN7-ng/MTCP\",\"DTN7-ng/MTCP\"],\"x0\":\" \",\"xaxis\":\"x2\",\"y\":[4.0,5.0,0.0,0.0,0.0,0.0],\"y0\":\" \",\"yaxis\":\"y2\",\"type\":\"box\"},{\"alignmentgroup\":\"True\",\"hovertemplate\":\"Loss (%)=50<br>Bundle Size=1 kB<br>Bundles=10<br>Software/CLP=%{x}<br>=%{y}<extra></extra>\",\"legendgroup\":\"50\",\"marker\":{\"color\":\"#ab63fa\"},\"name\":\"50\",\"notched\":false,\"offsetgroup\":\"50\",\"orientation\":\"v\",\"showlegend\":true,\"x\":[\"DTN7-ng/QUICL\",\"DTN7-ng/QUICL\",\"DTN7-ng/QUICL\",\"DTN7-ng/MTCP\",\"DTN7-ng/MTCP\",\"DTN7-ng/MTCP\"],\"x0\":\" \",\"xaxis\":\"x5\",\"y\":[0.0,0.0,0.0,0.0,0.0,0.0],\"y0\":\" \",\"yaxis\":\"y5\",\"type\":\"box\"},{\"alignmentgroup\":\"True\",\"hovertemplate\":\"Loss (%)=50<br>Bundle Size=1 kB<br>Bundles=100<br>Software/CLP=%{x}<br>=%{y}<extra></extra>\",\"legendgroup\":\"50\",\"marker\":{\"color\":\"#ab63fa\"},\"name\":\"50\",\"notched\":false,\"offsetgroup\":\"50\",\"orientation\":\"v\",\"showlegend\":false,\"x\":[\"DTN7-ng/MTCP\",\"DTN7-ng/MTCP\",\"DTN7-ng/MTCP\",\"DTN7-ng/QUICL\",\"DTN7-ng/QUICL\",\"DTN7-ng/QUICL\"],\"x0\":\" \",\"xaxis\":\"x6\",\"y\":[0.0,1.0,0.0,0.0,0.0,1.0],\"y0\":\" \",\"yaxis\":\"y6\",\"type\":\"box\"},{\"alignmentgroup\":\"True\",\"hovertemplate\":\"Loss (%)=50<br>Bundle Size=100 kB<br>Bundles=10<br>Software/CLP=%{x}<br>=%{y}<extra></extra>\",\"legendgroup\":\"50\",\"marker\":{\"color\":\"#ab63fa\"},\"name\":\"50\",\"notched\":false,\"offsetgroup\":\"50\",\"orientation\":\"v\",\"showlegend\":false,\"x\":[\"DTN7-ng/MTCP\",\"DTN7-ng/MTCP\",\"DTN7-ng/MTCP\",\"DTN7-ng/QUICL\",\"DTN7-ng/QUICL\",\"DTN7-ng/QUICL\"],\"x0\":\" \",\"xaxis\":\"x3\",\"y\":[0.0,0.0,0.0,10.0,0.0,0.0],\"y0\":\" \",\"yaxis\":\"y3\",\"type\":\"box\"},{\"alignmentgroup\":\"True\",\"hovertemplate\":\"Loss (%)=50<br>Bundle Size=100 kB<br>Bundles=100<br>Software/CLP=%{x}<br>=%{y}<extra></extra>\",\"legendgroup\":\"50\",\"marker\":{\"color\":\"#ab63fa\"},\"name\":\"50\",\"notched\":false,\"offsetgroup\":\"50\",\"orientation\":\"v\",\"showlegend\":false,\"x\":[\"DTN7-ng/QUICL\",\"DTN7-ng/QUICL\",\"DTN7-ng/MTCP\",\"DTN7-ng/MTCP\",\"DTN7-ng/MTCP\",\"DTN7-ng/QUICL\"],\"x0\":\" \",\"xaxis\":\"x4\",\"y\":[0.0,0.0,0.0,0.0,0.0,0.0],\"y0\":\" \",\"yaxis\":\"y4\",\"type\":\"box\"},{\"alignmentgroup\":\"True\",\"hovertemplate\":\"Loss (%)=50<br>Bundle Size=1 MB<br>Bundles=10<br>Software/CLP=%{x}<br>=%{y}<extra></extra>\",\"legendgroup\":\"50\",\"marker\":{\"color\":\"#ab63fa\"},\"name\":\"50\",\"notched\":false,\"offsetgroup\":\"50\",\"orientation\":\"v\",\"showlegend\":false,\"x\":[\"DTN7-ng/MTCP\",\"DTN7-ng/MTCP\",\"DTN7-ng/MTCP\",\"DTN7-ng/QUICL\",\"DTN7-ng/QUICL\",\"DTN7-ng/QUICL\"],\"x0\":\" \",\"xaxis\":\"x\",\"y\":[0.0,0.0,0.0,0.0,0.0,0.0],\"y0\":\" \",\"yaxis\":\"y\",\"type\":\"box\"},{\"alignmentgroup\":\"True\",\"hovertemplate\":\"Loss (%)=50<br>Bundle Size=1 MB<br>Bundles=100<br>Software/CLP=%{x}<br>=%{y}<extra></extra>\",\"legendgroup\":\"50\",\"marker\":{\"color\":\"#ab63fa\"},\"name\":\"50\",\"notched\":false,\"offsetgroup\":\"50\",\"orientation\":\"v\",\"showlegend\":false,\"x\":[\"DTN7-ng/QUICL\",\"DTN7-ng/QUICL\",\"DTN7-ng/QUICL\",\"DTN7-ng/MTCP\",\"DTN7-ng/MTCP\",\"DTN7-ng/MTCP\"],\"x0\":\" \",\"xaxis\":\"x2\",\"y\":[0.0,0.0,0.0,0.0,0.0,0.0],\"y0\":\" \",\"yaxis\":\"y2\",\"type\":\"box\"}],                        {\"template\":{\"data\":{\"histogram2dcontour\":[{\"type\":\"histogram2dcontour\",\"colorbar\":{\"outlinewidth\":0,\"ticks\":\"\"},\"colorscale\":[[0.0,\"#0d0887\"],[0.1111111111111111,\"#46039f\"],[0.2222222222222222,\"#7201a8\"],[0.3333333333333333,\"#9c179e\"],[0.4444444444444444,\"#bd3786\"],[0.5555555555555556,\"#d8576b\"],[0.6666666666666666,\"#ed7953\"],[0.7777777777777778,\"#fb9f3a\"],[0.8888888888888888,\"#fdca26\"],[1.0,\"#f0f921\"]]}],\"choropleth\":[{\"type\":\"choropleth\",\"colorbar\":{\"outlinewidth\":0,\"ticks\":\"\"}}],\"histogram2d\":[{\"type\":\"histogram2d\",\"colorbar\":{\"outlinewidth\":0,\"ticks\":\"\"},\"colorscale\":[[0.0,\"#0d0887\"],[0.1111111111111111,\"#46039f\"],[0.2222222222222222,\"#7201a8\"],[0.3333333333333333,\"#9c179e\"],[0.4444444444444444,\"#bd3786\"],[0.5555555555555556,\"#d8576b\"],[0.6666666666666666,\"#ed7953\"],[0.7777777777777778,\"#fb9f3a\"],[0.8888888888888888,\"#fdca26\"],[1.0,\"#f0f921\"]]}],\"heatmap\":[{\"type\":\"heatmap\",\"colorbar\":{\"outlinewidth\":0,\"ticks\":\"\"},\"colorscale\":[[0.0,\"#0d0887\"],[0.1111111111111111,\"#46039f\"],[0.2222222222222222,\"#7201a8\"],[0.3333333333333333,\"#9c179e\"],[0.4444444444444444,\"#bd3786\"],[0.5555555555555556,\"#d8576b\"],[0.6666666666666666,\"#ed7953\"],[0.7777777777777778,\"#fb9f3a\"],[0.8888888888888888,\"#fdca26\"],[1.0,\"#f0f921\"]]}],\"heatmapgl\":[{\"type\":\"heatmapgl\",\"colorbar\":{\"outlinewidth\":0,\"ticks\":\"\"},\"colorscale\":[[0.0,\"#0d0887\"],[0.1111111111111111,\"#46039f\"],[0.2222222222222222,\"#7201a8\"],[0.3333333333333333,\"#9c179e\"],[0.4444444444444444,\"#bd3786\"],[0.5555555555555556,\"#d8576b\"],[0.6666666666666666,\"#ed7953\"],[0.7777777777777778,\"#fb9f3a\"],[0.8888888888888888,\"#fdca26\"],[1.0,\"#f0f921\"]]}],\"contourcarpet\":[{\"type\":\"contourcarpet\",\"colorbar\":{\"outlinewidth\":0,\"ticks\":\"\"}}],\"contour\":[{\"type\":\"contour\",\"colorbar\":{\"outlinewidth\":0,\"ticks\":\"\"},\"colorscale\":[[0.0,\"#0d0887\"],[0.1111111111111111,\"#46039f\"],[0.2222222222222222,\"#7201a8\"],[0.3333333333333333,\"#9c179e\"],[0.4444444444444444,\"#bd3786\"],[0.5555555555555556,\"#d8576b\"],[0.6666666666666666,\"#ed7953\"],[0.7777777777777778,\"#fb9f3a\"],[0.8888888888888888,\"#fdca26\"],[1.0,\"#f0f921\"]]}],\"surface\":[{\"type\":\"surface\",\"colorbar\":{\"outlinewidth\":0,\"ticks\":\"\"},\"colorscale\":[[0.0,\"#0d0887\"],[0.1111111111111111,\"#46039f\"],[0.2222222222222222,\"#7201a8\"],[0.3333333333333333,\"#9c179e\"],[0.4444444444444444,\"#bd3786\"],[0.5555555555555556,\"#d8576b\"],[0.6666666666666666,\"#ed7953\"],[0.7777777777777778,\"#fb9f3a\"],[0.8888888888888888,\"#fdca26\"],[1.0,\"#f0f921\"]]}],\"mesh3d\":[{\"type\":\"mesh3d\",\"colorbar\":{\"outlinewidth\":0,\"ticks\":\"\"}}],\"scatter\":[{\"fillpattern\":{\"fillmode\":\"overlay\",\"size\":10,\"solidity\":0.2},\"type\":\"scatter\"}],\"parcoords\":[{\"type\":\"parcoords\",\"line\":{\"colorbar\":{\"outlinewidth\":0,\"ticks\":\"\"}}}],\"scatterpolargl\":[{\"type\":\"scatterpolargl\",\"marker\":{\"colorbar\":{\"outlinewidth\":0,\"ticks\":\"\"}}}],\"bar\":[{\"error_x\":{\"color\":\"#2a3f5f\"},\"error_y\":{\"color\":\"#2a3f5f\"},\"marker\":{\"line\":{\"color\":\"#E5ECF6\",\"width\":0.5},\"pattern\":{\"fillmode\":\"overlay\",\"size\":10,\"solidity\":0.2}},\"type\":\"bar\"}],\"scattergeo\":[{\"type\":\"scattergeo\",\"marker\":{\"colorbar\":{\"outlinewidth\":0,\"ticks\":\"\"}}}],\"scatterpolar\":[{\"type\":\"scatterpolar\",\"marker\":{\"colorbar\":{\"outlinewidth\":0,\"ticks\":\"\"}}}],\"histogram\":[{\"marker\":{\"pattern\":{\"fillmode\":\"overlay\",\"size\":10,\"solidity\":0.2}},\"type\":\"histogram\"}],\"scattergl\":[{\"type\":\"scattergl\",\"marker\":{\"colorbar\":{\"outlinewidth\":0,\"ticks\":\"\"}}}],\"scatter3d\":[{\"type\":\"scatter3d\",\"line\":{\"colorbar\":{\"outlinewidth\":0,\"ticks\":\"\"}},\"marker\":{\"colorbar\":{\"outlinewidth\":0,\"ticks\":\"\"}}}],\"scattermapbox\":[{\"type\":\"scattermapbox\",\"marker\":{\"colorbar\":{\"outlinewidth\":0,\"ticks\":\"\"}}}],\"scatterternary\":[{\"type\":\"scatterternary\",\"marker\":{\"colorbar\":{\"outlinewidth\":0,\"ticks\":\"\"}}}],\"scattercarpet\":[{\"type\":\"scattercarpet\",\"marker\":{\"colorbar\":{\"outlinewidth\":0,\"ticks\":\"\"}}}],\"carpet\":[{\"aaxis\":{\"endlinecolor\":\"#2a3f5f\",\"gridcolor\":\"white\",\"linecolor\":\"white\",\"minorgridcolor\":\"white\",\"startlinecolor\":\"#2a3f5f\"},\"baxis\":{\"endlinecolor\":\"#2a3f5f\",\"gridcolor\":\"white\",\"linecolor\":\"white\",\"minorgridcolor\":\"white\",\"startlinecolor\":\"#2a3f5f\"},\"type\":\"carpet\"}],\"table\":[{\"cells\":{\"fill\":{\"color\":\"#EBF0F8\"},\"line\":{\"color\":\"white\"}},\"header\":{\"fill\":{\"color\":\"#C8D4E3\"},\"line\":{\"color\":\"white\"}},\"type\":\"table\"}],\"barpolar\":[{\"marker\":{\"line\":{\"color\":\"#E5ECF6\",\"width\":0.5},\"pattern\":{\"fillmode\":\"overlay\",\"size\":10,\"solidity\":0.2}},\"type\":\"barpolar\"}],\"pie\":[{\"automargin\":true,\"type\":\"pie\"}]},\"layout\":{\"autotypenumbers\":\"strict\",\"colorway\":[\"#636efa\",\"#EF553B\",\"#00cc96\",\"#ab63fa\",\"#FFA15A\",\"#19d3f3\",\"#FF6692\",\"#B6E880\",\"#FF97FF\",\"#FECB52\"],\"font\":{\"color\":\"#2a3f5f\"},\"hovermode\":\"closest\",\"hoverlabel\":{\"align\":\"left\"},\"paper_bgcolor\":\"white\",\"plot_bgcolor\":\"#E5ECF6\",\"polar\":{\"bgcolor\":\"#E5ECF6\",\"angularaxis\":{\"gridcolor\":\"white\",\"linecolor\":\"white\",\"ticks\":\"\"},\"radialaxis\":{\"gridcolor\":\"white\",\"linecolor\":\"white\",\"ticks\":\"\"}},\"ternary\":{\"bgcolor\":\"#E5ECF6\",\"aaxis\":{\"gridcolor\":\"white\",\"linecolor\":\"white\",\"ticks\":\"\"},\"baxis\":{\"gridcolor\":\"white\",\"linecolor\":\"white\",\"ticks\":\"\"},\"caxis\":{\"gridcolor\":\"white\",\"linecolor\":\"white\",\"ticks\":\"\"}},\"coloraxis\":{\"colorbar\":{\"outlinewidth\":0,\"ticks\":\"\"}},\"colorscale\":{\"sequential\":[[0.0,\"#0d0887\"],[0.1111111111111111,\"#46039f\"],[0.2222222222222222,\"#7201a8\"],[0.3333333333333333,\"#9c179e\"],[0.4444444444444444,\"#bd3786\"],[0.5555555555555556,\"#d8576b\"],[0.6666666666666666,\"#ed7953\"],[0.7777777777777778,\"#fb9f3a\"],[0.8888888888888888,\"#fdca26\"],[1.0,\"#f0f921\"]],\"sequentialminus\":[[0.0,\"#0d0887\"],[0.1111111111111111,\"#46039f\"],[0.2222222222222222,\"#7201a8\"],[0.3333333333333333,\"#9c179e\"],[0.4444444444444444,\"#bd3786\"],[0.5555555555555556,\"#d8576b\"],[0.6666666666666666,\"#ed7953\"],[0.7777777777777778,\"#fb9f3a\"],[0.8888888888888888,\"#fdca26\"],[1.0,\"#f0f921\"]],\"diverging\":[[0,\"#8e0152\"],[0.1,\"#c51b7d\"],[0.2,\"#de77ae\"],[0.3,\"#f1b6da\"],[0.4,\"#fde0ef\"],[0.5,\"#f7f7f7\"],[0.6,\"#e6f5d0\"],[0.7,\"#b8e186\"],[0.8,\"#7fbc41\"],[0.9,\"#4d9221\"],[1,\"#276419\"]]},\"xaxis\":{\"gridcolor\":\"white\",\"linecolor\":\"white\",\"ticks\":\"\",\"title\":{\"standoff\":15},\"zerolinecolor\":\"white\",\"automargin\":true,\"zerolinewidth\":2},\"yaxis\":{\"gridcolor\":\"white\",\"linecolor\":\"white\",\"ticks\":\"\",\"title\":{\"standoff\":15},\"zerolinecolor\":\"white\",\"automargin\":true,\"zerolinewidth\":2},\"scene\":{\"xaxis\":{\"backgroundcolor\":\"#E5ECF6\",\"gridcolor\":\"white\",\"linecolor\":\"white\",\"showbackground\":true,\"ticks\":\"\",\"zerolinecolor\":\"white\",\"gridwidth\":2},\"yaxis\":{\"backgroundcolor\":\"#E5ECF6\",\"gridcolor\":\"white\",\"linecolor\":\"white\",\"showbackground\":true,\"ticks\":\"\",\"zerolinecolor\":\"white\",\"gridwidth\":2},\"zaxis\":{\"backgroundcolor\":\"#E5ECF6\",\"gridcolor\":\"white\",\"linecolor\":\"white\",\"showbackground\":true,\"ticks\":\"\",\"zerolinecolor\":\"white\",\"gridwidth\":2}},\"shapedefaults\":{\"line\":{\"color\":\"#2a3f5f\"}},\"annotationdefaults\":{\"arrowcolor\":\"#2a3f5f\",\"arrowhead\":0,\"arrowwidth\":1},\"geo\":{\"bgcolor\":\"white\",\"landcolor\":\"#E5ECF6\",\"subunitcolor\":\"white\",\"showland\":true,\"showlakes\":true,\"lakecolor\":\"white\"},\"title\":{\"x\":0.05},\"mapbox\":{\"style\":\"light\"}}},\"xaxis\":{\"anchor\":\"y\",\"domain\":[0.0,0.48],\"title\":{\"text\":\"Software/CLP\"},\"categoryorder\":\"array\",\"categoryarray\":[\"Serval\",\"IBR-DTN/TCPCL\",\"DTN7-rs/MTCP\",\"DTN7-rs/TCPCL\",\"DTN7-rs/HTTP\",\"DTN7-ng/MTCP\",\"DTN7-ng/QUICL\"]},\"yaxis\":{\"anchor\":\"x\",\"domain\":[0.0,0.3133333333333333],\"title\":{\"text\":\"\"}},\"xaxis2\":{\"anchor\":\"y2\",\"domain\":[0.5,0.98],\"matches\":\"x\",\"title\":{\"text\":\"Software/CLP\"},\"categoryorder\":\"array\",\"categoryarray\":[\"Serval\",\"IBR-DTN/TCPCL\",\"DTN7-rs/MTCP\",\"DTN7-rs/TCPCL\",\"DTN7-rs/HTTP\",\"DTN7-ng/MTCP\",\"DTN7-ng/QUICL\"]},\"yaxis2\":{\"anchor\":\"x2\",\"domain\":[0.0,0.3133333333333333],\"matches\":\"y\",\"showticklabels\":false},\"xaxis3\":{\"anchor\":\"y3\",\"domain\":[0.0,0.48],\"matches\":\"x\",\"showticklabels\":false},\"yaxis3\":{\"anchor\":\"x3\",\"domain\":[0.34333333333333327,0.6566666666666665],\"matches\":\"y\",\"title\":{\"text\":\"\"}},\"xaxis4\":{\"anchor\":\"y4\",\"domain\":[0.5,0.98],\"matches\":\"x\",\"showticklabels\":false},\"yaxis4\":{\"anchor\":\"x4\",\"domain\":[0.34333333333333327,0.6566666666666665],\"matches\":\"y\",\"showticklabels\":false},\"xaxis5\":{\"anchor\":\"y5\",\"domain\":[0.0,0.48],\"matches\":\"x\",\"showticklabels\":false},\"yaxis5\":{\"anchor\":\"x5\",\"domain\":[0.6866666666666665,0.9999999999999998],\"matches\":\"y\",\"title\":{\"text\":\"\"}},\"xaxis6\":{\"anchor\":\"y6\",\"domain\":[0.5,0.98],\"matches\":\"x\",\"showticklabels\":false},\"yaxis6\":{\"anchor\":\"x6\",\"domain\":[0.6866666666666665,0.9999999999999998],\"matches\":\"y\",\"showticklabels\":false},\"annotations\":[{\"showarrow\":false,\"text\":\"Bundles: 10\",\"x\":0.24,\"xanchor\":\"center\",\"xref\":\"paper\",\"y\":0.9999999999999998,\"yanchor\":\"bottom\",\"yref\":\"paper\"},{\"showarrow\":false,\"text\":\"Bundles: 100\",\"x\":0.74,\"xanchor\":\"center\",\"xref\":\"paper\",\"y\":0.9999999999999998,\"yanchor\":\"bottom\",\"yref\":\"paper\"},{\"showarrow\":false,\"text\":\"1 MB\",\"textangle\":90,\"x\":0.98,\"xanchor\":\"left\",\"xref\":\"paper\",\"y\":0.15666666666666665,\"yanchor\":\"middle\",\"yref\":\"paper\"},{\"showarrow\":false,\"text\":\"100 kB\",\"textangle\":90,\"x\":0.98,\"xanchor\":\"left\",\"xref\":\"paper\",\"y\":0.4999999999999999,\"yanchor\":\"middle\",\"yref\":\"paper\"},{\"showarrow\":false,\"text\":\"1 kB\",\"textangle\":90,\"x\":0.98,\"xanchor\":\"left\",\"xref\":\"paper\",\"y\":0.8433333333333332,\"yanchor\":\"middle\",\"yref\":\"paper\"},{\"font\":{\"size\":14},\"text\":\"Successful Receptions (%)\",\"textangle\":-90,\"x\":-0.04,\"xref\":\"paper\",\"y\":0.35,\"yref\":\"paper\"}],\"legend\":{\"title\":{\"text\":\"Loss (%)\"},\"tracegroupgap\":0},\"margin\":{\"t\":20,\"l\":0,\"r\":0,\"b\":0},\"boxmode\":\"group\"},                        {\"responsive\": true}                    ).then(function(){\n",
       "                            \n",
       "var gd = document.getElementById('72cb095b-0219-4138-9d82-2e9b419cf9a0');\n",
       "var x = new MutationObserver(function (mutations, observer) {{\n",
       "        var display = window.getComputedStyle(gd).display;\n",
       "        if (!display || display === 'none') {{\n",
       "            console.log([gd, 'removed!']);\n",
       "            Plotly.purge(gd);\n",
       "            observer.disconnect();\n",
       "        }}\n",
       "}});\n",
       "\n",
       "// Listen for the removal of the full notebook cells\n",
       "var notebookContainer = gd.closest('#notebook-container');\n",
       "if (notebookContainer) {{\n",
       "    x.observe(notebookContainer, {childList: true});\n",
       "}}\n",
       "\n",
       "// Listen for the clearing of the current output cell\n",
       "var outputEl = gd.closest('.output');\n",
       "if (outputEl) {{\n",
       "    x.observe(outputEl, {childList: true});\n",
       "}}\n",
       "\n",
       "                        })                };                });            </script>        </div>"
      ]
     },
     "metadata": {},
     "output_type": "display_data"
    }
   ],
   "source": [
    "fig = px.box(\n",
    "    ratio_df[ratio_df[\"# Nodes\"] == 32],\n",
    "    x=\"Software/CLP\", \n",
    "    y=\"Delivered (%)\",\n",
    "    color=\"Loss\",\n",
    "    facet_col=\"# Bundles\",\n",
    "    facet_row=\"Bundle Size\",\n",
    "    labels={\n",
    "        \"Runtime\": \"Runtime (s)\",\n",
    "        \"Loss\": \"Loss (%)\",\n",
    "        \"# Bundles\": \"Bundles\",\n",
    "        \"Delivered (%)\": \"\"\n",
    "    },\n",
    "    category_orders={\n",
    "        \"Loss\": [0, 10, 30],\n",
    "        \"Bundle Size\": [\"1 kB\", \"100 kB\", \"1 MB\"],\n",
    "        \"Software/CLP\": [\"Serval\", \"IBR-DTN/TCPCL\", \"DTN7-rs/MTCP\", \"DTN7-rs/TCPCL\", \"DTN7-rs/HTTP\", \"DTN7-ng/MTCP\", \"DTN7-ng/QUICL\"],\n",
    "        \"# Bundles\": [10, 100]\n",
    "    },\n",
    ")\n",
    "\n",
    "fig.for_each_annotation(lambda a: a.update(text=a.text.replace(\"=\", \": \")))\n",
    "fig.for_each_annotation(lambda a: a.update(text=a.text.replace(\"Bundle Size: \", \"\")))\n",
    "\n",
    "fig.add_annotation(x=-0.04, y=0.35,\n",
    "                   text=\"Successful Receptions (%)\",\n",
    "                   textangle=-90,\n",
    "                   xref=\"paper\",\n",
    "                   yref=\"paper\",\n",
    "                   font=dict(size=14)\n",
    "                   )\n",
    "\n",
    "fig.update_layout(\n",
    "    margin=dict(l=0, r=0, t=20, b=0),\n",
    ")\n",
    "\n",
    "fig.write_image(\"delivered_32.pdf\", width=700, height=300)\n",
    "fig"
   ]
  }
 ],
 "metadata": {
  "kernelspec": {
   "display_name": "venv",
   "language": "python",
   "name": "python3"
  },
  "language_info": {
   "codemirror_mode": {
    "name": "ipython",
    "version": 3
   },
   "file_extension": ".py",
   "mimetype": "text/x-python",
   "name": "python",
   "nbconvert_exporter": "python",
   "pygments_lexer": "ipython3",
   "version": "3.8.10"
  },
  "orig_nbformat": 4,
  "vscode": {
   "interpreter": {
    "hash": "641d5286c24ce6c921edfe19b055ac39c0f930e75576e15c3d25ad0550bc35a7"
   }
  }
 },
 "nbformat": 4,
 "nbformat_minor": 2
}
