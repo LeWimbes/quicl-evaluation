{
 "cells": [
  {
   "cell_type": "code",
   "execution_count": 1,
   "metadata": {},
   "outputs": [],
   "source": [
    "%load_ext autoreload\n",
    "%autoreload 2\n",
    "\n",
    "import pathlib\n",
    "from datetime import timedelta\n",
    "\n",
    "import pandas as pd\n",
    "pd.set_option('display.max_rows', 200)\n",
    "import plotly.express as px\n",
    "\n",
    "from tqdm import tqdm\n",
    "\n",
    "from data_handlers.runtimes import *"
   ]
  },
  {
   "cell_type": "code",
   "execution_count": 2,
   "metadata": {},
   "outputs": [],
   "source": [
    "experiment_path = pathlib.Path(f\"/home/sterz/maci-docker-compose/maci_data/binary_files\")\n",
    "experiment_ids = [4]\n",
    "# experiment_ids = [\"dtn7ng\", \"dtn7rs\", \"ibrdtn\", \"serval\"]"
   ]
  },
  {
   "cell_type": "code",
   "execution_count": 3,
   "metadata": {},
   "outputs": [
    {
     "name": "stdout",
     "output_type": "stream",
     "text": [
      "Parsing /home/sterz/maci-docker-compose/maci_data/binary_files/4/35\n",
      "Parsing /home/sterz/maci-docker-compose/maci_data/binary_files/4/42\n",
      "Parsing /home/sterz/maci-docker-compose/maci_data/binary_files/4/48\n"
     ]
    },
    {
     "name": "stdout",
     "output_type": "stream",
     "text": [
      "Parsing /home/sterz/maci-docker-compose/maci_data/binary_files/4/70\n",
      "Parsing /home/sterz/maci-docker-compose/maci_data/binary_files/4/94\n",
      "Parsing /home/sterz/maci-docker-compose/maci_data/binary_files/4/26\n",
      "Parsing /home/sterz/maci-docker-compose/maci_data/binary_files/4/51\n",
      "Parsing /home/sterz/maci-docker-compose/maci_data/binary_files/4/87\n",
      "Parsing /home/sterz/maci-docker-compose/maci_data/binary_files/4/69\n",
      "Parsing /home/sterz/maci-docker-compose/maci_data/binary_files/4/63\n",
      "Parsing /home/sterz/maci-docker-compose/maci_data/binary_files/4/14\n",
      "Parsing /home/sterz/maci-docker-compose/maci_data/binary_files/4/7\n",
      "Parsing /home/sterz/maci-docker-compose/maci_data/binary_files/4/19\n",
      "Parsing /home/sterz/maci-docker-compose/maci_data/binary_files/4/80\n",
      "Parsing /home/sterz/maci-docker-compose/maci_data/binary_files/4/13\n",
      "Parsing /home/sterz/maci-docker-compose/maci_data/binary_files/4/64\n",
      "Parsing /home/sterz/maci-docker-compose/maci_data/binary_files/4/56\n",
      "Parsing /home/sterz/maci-docker-compose/maci_data/binary_files/4/21\n",
      "Parsing /home/sterz/maci-docker-compose/maci_data/binary_files/4/99\n",
      "Parsing /home/sterz/maci-docker-compose/maci_data/binary_files/4/77\n",
      "Parsing /home/sterz/maci-docker-compose/maci_data/binary_files/4/93\n",
      "Parsing /home/sterz/maci-docker-compose/maci_data/binary_files/4/45\n",
      "Parsing /home/sterz/maci-docker-compose/maci_data/binary_files/4/32\n",
      "Parsing /home/sterz/maci-docker-compose/maci_data/binary_files/4/38\n",
      "Parsing /home/sterz/maci-docker-compose/maci_data/binary_files/4/41\n",
      "Parsing /home/sterz/maci-docker-compose/maci_data/binary_files/4/36\n",
      "Parsing /home/sterz/maci-docker-compose/maci_data/binary_files/4/79\n",
      "Parsing /home/sterz/maci-docker-compose/maci_data/binary_files/4/97\n",
      "Parsing /home/sterz/maci-docker-compose/maci_data/binary_files/4/73\n",
      "Parsing /home/sterz/maci-docker-compose/maci_data/binary_files/4/52\n",
      "Parsing /home/sterz/maci-docker-compose/maci_data/binary_files/4/25\n",
      "Parsing /home/sterz/maci-docker-compose/maci_data/binary_files/4/58\n",
      "Parsing /home/sterz/maci-docker-compose/maci_data/binary_files/4/100\n",
      "Parsing /home/sterz/maci-docker-compose/maci_data/binary_files/4/17\n",
      "Parsing /home/sterz/maci-docker-compose/maci_data/binary_files/4/60\n",
      "Parsing /home/sterz/maci-docker-compose/maci_data/binary_files/4/84\n",
      "Parsing /home/sterz/maci-docker-compose/maci_data/binary_files/4/67\n",
      "Parsing /home/sterz/maci-docker-compose/maci_data/binary_files/4/10\n",
      "Parsing /home/sterz/maci-docker-compose/maci_data/binary_files/4/89\n",
      "Parsing /home/sterz/maci-docker-compose/maci_data/binary_files/4/83\n",
      "Parsing /home/sterz/maci-docker-compose/maci_data/binary_files/4/9\n",
      "Parsing /home/sterz/maci-docker-compose/maci_data/binary_files/4/22\n",
      "Parsing /home/sterz/maci-docker-compose/maci_data/binary_files/4/55\n",
      "Parsing /home/sterz/maci-docker-compose/maci_data/binary_files/4/28\n",
      "Parsing /home/sterz/maci-docker-compose/maci_data/binary_files/4/90\n",
      "Parsing /home/sterz/maci-docker-compose/maci_data/binary_files/4/74\n",
      "Parsing /home/sterz/maci-docker-compose/maci_data/binary_files/4/31\n",
      "Parsing /home/sterz/maci-docker-compose/maci_data/binary_files/4/46\n",
      "Parsing /home/sterz/maci-docker-compose/maci_data/binary_files/4/92\n",
      "Parsing /home/sterz/maci-docker-compose/maci_data/binary_files/4/98\n",
      "Parsing /home/sterz/maci-docker-compose/maci_data/binary_files/4/76\n",
      "Parsing /home/sterz/maci-docker-compose/maci_data/binary_files/4/39\n",
      "Parsing /home/sterz/maci-docker-compose/maci_data/binary_files/4/33\n",
      "Parsing /home/sterz/maci-docker-compose/maci_data/binary_files/4/44\n",
      "Parsing /home/sterz/maci-docker-compose/maci_data/binary_files/4/65\n",
      "Parsing /home/sterz/maci-docker-compose/maci_data/binary_files/4/12\n",
      "Parsing /home/sterz/maci-docker-compose/maci_data/binary_files/4/18\n",
      "Parsing /home/sterz/maci-docker-compose/maci_data/binary_files/4/81\n",
      "Parsing /home/sterz/maci-docker-compose/maci_data/binary_files/4/20\n",
      "Parsing /home/sterz/maci-docker-compose/maci_data/binary_files/4/57\n",
      "Parsing /home/sterz/maci-docker-compose/maci_data/binary_files/4/50\n",
      "Parsing /home/sterz/maci-docker-compose/maci_data/binary_files/4/27\n",
      "Parsing /home/sterz/maci-docker-compose/maci_data/binary_files/4/6\n",
      "Parsing /home/sterz/maci-docker-compose/maci_data/binary_files/4/15\n",
      "Parsing /home/sterz/maci-docker-compose/maci_data/binary_files/4/62\n",
      "Parsing /home/sterz/maci-docker-compose/maci_data/binary_files/4/86\n",
      "Parsing /home/sterz/maci-docker-compose/maci_data/binary_files/4/68\n",
      "Parsing /home/sterz/maci-docker-compose/maci_data/binary_files/4/49\n",
      "Parsing /home/sterz/maci-docker-compose/maci_data/binary_files/4/43\n",
      "Parsing /home/sterz/maci-docker-compose/maci_data/binary_files/4/34\n",
      "Parsing /home/sterz/maci-docker-compose/maci_data/binary_files/4/95\n",
      "Parsing /home/sterz/maci-docker-compose/maci_data/binary_files/4/71\n",
      "Parsing /home/sterz/maci-docker-compose/maci_data/binary_files/4/75\n",
      "Parsing /home/sterz/maci-docker-compose/maci_data/binary_files/4/91\n",
      "Parsing /home/sterz/maci-docker-compose/maci_data/binary_files/4/47\n",
      "Parsing /home/sterz/maci-docker-compose/maci_data/binary_files/4/30\n",
      "Parsing /home/sterz/maci-docker-compose/maci_data/binary_files/4/8\n",
      "Parsing /home/sterz/maci-docker-compose/maci_data/binary_files/4/82\n",
      "Parsing /home/sterz/maci-docker-compose/maci_data/binary_files/4/11\n",
      "Parsing /home/sterz/maci-docker-compose/maci_data/binary_files/4/66\n",
      "Parsing /home/sterz/maci-docker-compose/maci_data/binary_files/4/88\n",
      "Parsing /home/sterz/maci-docker-compose/maci_data/binary_files/4/29\n",
      "Parsing /home/sterz/maci-docker-compose/maci_data/binary_files/4/54\n",
      "Parsing /home/sterz/maci-docker-compose/maci_data/binary_files/4/23\n",
      "Parsing /home/sterz/maci-docker-compose/maci_data/binary_files/4/59\n",
      "Parsing /home/sterz/maci-docker-compose/maci_data/binary_files/4/24\n",
      "Parsing /home/sterz/maci-docker-compose/maci_data/binary_files/4/53\n",
      "Parsing /home/sterz/maci-docker-compose/maci_data/binary_files/4/85\n",
      "Parsing /home/sterz/maci-docker-compose/maci_data/binary_files/4/61\n",
      "Parsing /home/sterz/maci-docker-compose/maci_data/binary_files/4/16\n",
      "Parsing /home/sterz/maci-docker-compose/maci_data/binary_files/4/5\n",
      "Parsing /home/sterz/maci-docker-compose/maci_data/binary_files/4/37\n",
      "Parsing /home/sterz/maci-docker-compose/maci_data/binary_files/4/40\n",
      "Parsing /home/sterz/maci-docker-compose/maci_data/binary_files/4/72\n",
      "Parsing /home/sterz/maci-docker-compose/maci_data/binary_files/4/78\n",
      "Parsing /home/sterz/maci-docker-compose/maci_data/binary_files/4/96\n",
      "Computing time delta\n",
      "Parsing done\n"
     ]
    }
   ],
   "source": [
    "orig_event_frame = parse_bundle_events(experiment_path, experiment_ids)"
   ]
  },
  {
   "cell_type": "code",
   "execution_count": 4,
   "metadata": {},
   "outputs": [],
   "source": [
    "event_frame = orig_event_frame.copy()"
   ]
  },
  {
   "cell_type": "code",
   "execution_count": 5,
   "metadata": {},
   "outputs": [],
   "source": [
    "event_frame = event_frame.replace(\"IBRDTN\", \"IBR-DTN\")\n",
    "event_frame = event_frame.replace(\"DTN7NG\", \"DTN7-ng\")\n",
    "event_frame = event_frame.replace(\"DTN7Rs\", \"DTN7-rs\")\n",
    "\n",
    "\n",
    "event_frame = event_frame.replace(\"mtcp\", \"MTCP\")\n",
    "event_frame = event_frame.replace(\"http\", \"HTTP\")\n",
    "event_frame = event_frame.replace(\"tcp\", \"TCPCL\")\n",
    "event_frame = event_frame.replace(\"quicl\", \"QUICL\")\n",
    "\n",
    "event_frame = event_frame.rename(columns={\"Payload Size\": \"Bundle Size\"})\n",
    "event_frame = event_frame.rename(columns={\"# Payloads\": \"# Bundles\"})\n",
    "\n",
    "event_frame[\"Software/CLP\"] = event_frame['Software'] + \"/\" + event_frame['CLA']\n",
    "\n",
    "event_frame = event_frame.replace(\"Serval/default\", \"Serval\")\n",
    "\n",
    "event_frame[\"Bundle Size\"] = event_frame[\"Bundle Size\"].replace(1000, \"1 kB\")\n",
    "event_frame[\"Bundle Size\"] = event_frame[\"Bundle Size\"].replace(100000, \"100 kB\")\n",
    "event_frame[\"Bundle Size\"] = event_frame[\"Bundle Size\"].replace(1000000, \"1 MB\")"
   ]
  },
  {
   "cell_type": "code",
   "execution_count": 6,
   "metadata": {},
   "outputs": [],
   "source": [
    "creation_instances = event_frame[event_frame.Event == \"creation\"].groupby(\"Simulation ID\")\n",
    "delivery_instances = event_frame[event_frame.Event == \"delivery\"]"
   ]
  },
  {
   "cell_type": "code",
   "execution_count": 7,
   "metadata": {},
   "outputs": [
    {
     "name": "stderr",
     "output_type": "stream",
     "text": [
      "  0%|          | 0/96 [00:00<?, ?it/s]"
     ]
    },
    {
     "name": "stderr",
     "output_type": "stream",
     "text": [
      "100%|██████████| 96/96 [00:11<00:00,  8.43it/s]\n"
     ]
    }
   ],
   "source": [
    "delivered_list = []\n",
    "runtime_list = []\n",
    "for sim_instance_id, creations in tqdm(creation_instances):\n",
    "    deliveries_sid = delivery_instances[delivery_instances[\"Simulation ID\"] == sim_instance_id]\n",
    "    \n",
    "    for _, row in creations.iterrows():\n",
    "        # Compute deliverys\n",
    "        bundle = row.Bundle\n",
    "        deliveries = deliveries_sid[deliveries_sid.Bundle == bundle]\n",
    "\n",
    "        was_delivered = not deliveries.empty\n",
    "\n",
    "        row_dict = {\n",
    "            \"Simulation ID\": sim_instance_id,\n",
    "            \"Bundle\": bundle,\n",
    "            \"Delivered\": was_delivered,\n",
    "            \"CLA\": row.CLA,\n",
    "            \"Software/CLP\": row[\"Software/CLP\"],\n",
    "            \"Loss\": row.Loss,\n",
    "            \"Bundle Size\": row[\"Bundle Size\"],\n",
    "            \"Software\": row.Software,\n",
    "            \"# Nodes\": row[\"# Nodes\"],\n",
    "            \"# Bundles\": row[\"# Bundles\"],\n",
    "        }\n",
    "        delivered_list.append(row_dict)        \n",
    "        \n",
    "        # Compute runtimes\n",
    "        if was_delivered:\n",
    "            delivery_time = deliveries[\"Timestamp\"].min()\n",
    "            creation_time = row[\"Timestamp\"]\n",
    "            runtime = delivery_time - creation_time\n",
    "            \n",
    "            runtime_dict = {\n",
    "                \"Simulation ID\": sim_instance_id,\n",
    "                \"Bundle\": bundle,\n",
    "                \"Runtime\": (runtime.to_pytimedelta() / timedelta(milliseconds=1)) / 1000,\n",
    "                \"CLA\": row.CLA,\n",
    "                \"Software/CLP\": row[\"Software/CLP\"],\n",
    "                \"Loss\": row.Loss,\n",
    "                \"Software\": row.Software,\n",
    "                \"# Nodes\": row[\"# Nodes\"],\n",
    "                \"Bundle Size\": row[\"Bundle Size\"],\n",
    "                \"# Bundles\": row[\"# Bundles\"],\n",
    "            }\n",
    "            runtime_list.append(runtime_dict)\n",
    "        \n",
    "delivered_df = pd.DataFrame(delivered_list)\n",
    "runtime_df = pd.DataFrame(runtime_list)"
   ]
  },
  {
   "cell_type": "code",
   "execution_count": 8,
   "metadata": {},
   "outputs": [],
   "source": [
    "row_dicts = []\n",
    "\n",
    "for sim_instance_id, bundles in delivered_df.groupby(\"Simulation ID\"):\n",
    "    cla = bundles[\"CLA\"].values[0]\n",
    "    software_clp = bundles[\"Software/CLP\"].values[0]\n",
    "    loss = bundles[\"Loss\"].values[0]\n",
    "    software = bundles[\"Software\"].values[0]\n",
    "    nodes = bundles[\"# Nodes\"].values[0]\n",
    "    payload_size = bundles[\"Bundle Size\"].values[0]\n",
    "    payloads = bundles[\"# Bundles\"].values[0]\n",
    "    \n",
    "    total_bundles =  payloads\n",
    "    delivered_bundles = len(bundles[bundles.Delivered == True].index)\n",
    "    \n",
    "    row_dict = {\n",
    "        \"Simulation ID\": sim_instance_id,\n",
    "        \"Delivered (%)\": (float(delivered_bundles) / float(total_bundles)) * 100,\n",
    "        \"CLA\": cla,\n",
    "        \"Software/CLP\": software_clp,\n",
    "        \"Loss\": loss,\n",
    "        \"Software\": software,\n",
    "        \"# Nodes\": nodes,\n",
    "        \"Bundle Size\": payload_size,\n",
    "        \"# Bundles\": payloads,\n",
    "    }\n",
    "    \n",
    "    row_dicts.append(row_dict)\n",
    "\n",
    "ratio_df = pd.DataFrame.from_dict(row_dicts)"
   ]
  },
  {
   "cell_type": "code",
   "execution_count": 15,
   "metadata": {},
   "outputs": [
    {
     "data": {
      "application/vnd.plotly.v1+json": {
       "config": {
        "plotlyServerURL": "https://plot.ly"
       },
       "data": [
        {
         "alignmentgroup": "True",
         "hovertemplate": "Loss (%)=0<br>Bundle Size=1 kB<br>Bundles=10<br>Software/CLP=%{x}<br>=%{y}<extra></extra>",
         "legendgroup": "0",
         "marker": {
          "color": "#636efa"
         },
         "name": "0",
         "notched": false,
         "offsetgroup": "0",
         "orientation": "v",
         "showlegend": true,
         "type": "box",
         "x": [
          "DTN7-ng/QUICL",
          "DTN7-ng/QUICL",
          "DTN7-ng/QUICL",
          "DTN7-ng/QUICL",
          "DTN7-ng/QUICL",
          "DTN7-ng/QUICL",
          "DTN7-ng/QUICL",
          "DTN7-ng/QUICL",
          "DTN7-ng/QUICL",
          "DTN7-ng/QUICL",
          "DTN7-ng/MTCP",
          "DTN7-ng/MTCP",
          "DTN7-ng/MTCP",
          "DTN7-ng/MTCP",
          "DTN7-ng/MTCP",
          "DTN7-ng/MTCP",
          "DTN7-ng/MTCP",
          "DTN7-ng/MTCP",
          "DTN7-ng/MTCP",
          "DTN7-ng/MTCP"
         ],
         "x0": " ",
         "xaxis": "x5",
         "y": [
          0.681,
          0.678,
          0.674,
          0.674,
          0.672,
          0.67,
          0.666,
          0.665,
          0.658,
          0.664,
          0.184,
          0.182,
          0.182,
          0.179,
          0.179,
          0.174,
          0.17,
          0.166,
          0.168,
          0.16
         ],
         "y0": " ",
         "yaxis": "y5"
        },
        {
         "alignmentgroup": "True",
         "hovertemplate": "Loss (%)=0<br>Bundle Size=1 kB<br>Bundles=100<br>Software/CLP=%{x}<br>=%{y}<extra></extra>",
         "legendgroup": "0",
         "marker": {
          "color": "#636efa"
         },
         "name": "0",
         "notched": false,
         "offsetgroup": "0",
         "orientation": "v",
         "showlegend": false,
         "type": "box",
         "x": [
          "DTN7-ng/QUICL",
          "DTN7-ng/QUICL",
          "DTN7-ng/QUICL",
          "DTN7-ng/QUICL",
          "DTN7-ng/QUICL",
          "DTN7-ng/QUICL",
          "DTN7-ng/QUICL",
          "DTN7-ng/QUICL",
          "DTN7-ng/QUICL",
          "DTN7-ng/QUICL",
          "DTN7-ng/QUICL",
          "DTN7-ng/QUICL",
          "DTN7-ng/QUICL",
          "DTN7-ng/QUICL",
          "DTN7-ng/QUICL",
          "DTN7-ng/QUICL",
          "DTN7-ng/QUICL",
          "DTN7-ng/QUICL",
          "DTN7-ng/QUICL",
          "DTN7-ng/QUICL",
          "DTN7-ng/QUICL",
          "DTN7-ng/QUICL",
          "DTN7-ng/QUICL",
          "DTN7-ng/QUICL",
          "DTN7-ng/QUICL",
          "DTN7-ng/QUICL",
          "DTN7-ng/QUICL",
          "DTN7-ng/QUICL",
          "DTN7-ng/QUICL",
          "DTN7-ng/QUICL",
          "DTN7-ng/QUICL",
          "DTN7-ng/QUICL",
          "DTN7-ng/QUICL",
          "DTN7-ng/QUICL",
          "DTN7-ng/QUICL",
          "DTN7-ng/QUICL",
          "DTN7-ng/QUICL",
          "DTN7-ng/QUICL",
          "DTN7-ng/QUICL",
          "DTN7-ng/QUICL",
          "DTN7-ng/QUICL",
          "DTN7-ng/QUICL",
          "DTN7-ng/QUICL",
          "DTN7-ng/QUICL",
          "DTN7-ng/QUICL",
          "DTN7-ng/QUICL",
          "DTN7-ng/QUICL",
          "DTN7-ng/QUICL",
          "DTN7-ng/QUICL",
          "DTN7-ng/QUICL",
          "DTN7-ng/QUICL",
          "DTN7-ng/QUICL",
          "DTN7-ng/QUICL",
          "DTN7-ng/QUICL",
          "DTN7-ng/QUICL",
          "DTN7-ng/QUICL",
          "DTN7-ng/QUICL",
          "DTN7-ng/QUICL",
          "DTN7-ng/QUICL",
          "DTN7-ng/QUICL",
          "DTN7-ng/QUICL",
          "DTN7-ng/QUICL",
          "DTN7-ng/QUICL",
          "DTN7-ng/QUICL",
          "DTN7-ng/QUICL",
          "DTN7-ng/QUICL",
          "DTN7-ng/QUICL",
          "DTN7-ng/QUICL",
          "DTN7-ng/QUICL",
          "DTN7-ng/QUICL",
          "DTN7-ng/QUICL",
          "DTN7-ng/QUICL",
          "DTN7-ng/QUICL",
          "DTN7-ng/QUICL",
          "DTN7-ng/QUICL",
          "DTN7-ng/QUICL",
          "DTN7-ng/QUICL",
          "DTN7-ng/QUICL",
          "DTN7-ng/QUICL",
          "DTN7-ng/QUICL",
          "DTN7-ng/QUICL",
          "DTN7-ng/QUICL",
          "DTN7-ng/QUICL",
          "DTN7-ng/QUICL",
          "DTN7-ng/QUICL",
          "DTN7-ng/QUICL",
          "DTN7-ng/QUICL",
          "DTN7-ng/QUICL",
          "DTN7-ng/QUICL",
          "DTN7-ng/QUICL",
          "DTN7-ng/QUICL",
          "DTN7-ng/QUICL",
          "DTN7-ng/QUICL",
          "DTN7-ng/QUICL",
          "DTN7-ng/QUICL",
          "DTN7-ng/QUICL",
          "DTN7-ng/QUICL",
          "DTN7-ng/QUICL",
          "DTN7-ng/QUICL",
          "DTN7-ng/QUICL",
          "DTN7-ng/MTCP",
          "DTN7-ng/MTCP",
          "DTN7-ng/MTCP",
          "DTN7-ng/MTCP",
          "DTN7-ng/MTCP",
          "DTN7-ng/MTCP",
          "DTN7-ng/MTCP",
          "DTN7-ng/MTCP",
          "DTN7-ng/MTCP",
          "DTN7-ng/MTCP",
          "DTN7-ng/MTCP",
          "DTN7-ng/MTCP",
          "DTN7-ng/MTCP",
          "DTN7-ng/MTCP",
          "DTN7-ng/MTCP",
          "DTN7-ng/MTCP",
          "DTN7-ng/MTCP",
          "DTN7-ng/MTCP",
          "DTN7-ng/MTCP",
          "DTN7-ng/MTCP",
          "DTN7-ng/MTCP",
          "DTN7-ng/MTCP",
          "DTN7-ng/MTCP",
          "DTN7-ng/MTCP",
          "DTN7-ng/MTCP",
          "DTN7-ng/MTCP",
          "DTN7-ng/MTCP",
          "DTN7-ng/MTCP",
          "DTN7-ng/MTCP",
          "DTN7-ng/MTCP",
          "DTN7-ng/MTCP",
          "DTN7-ng/MTCP",
          "DTN7-ng/MTCP",
          "DTN7-ng/MTCP",
          "DTN7-ng/MTCP",
          "DTN7-ng/MTCP",
          "DTN7-ng/MTCP",
          "DTN7-ng/MTCP",
          "DTN7-ng/MTCP",
          "DTN7-ng/MTCP",
          "DTN7-ng/MTCP",
          "DTN7-ng/MTCP",
          "DTN7-ng/MTCP",
          "DTN7-ng/MTCP",
          "DTN7-ng/MTCP",
          "DTN7-ng/MTCP",
          "DTN7-ng/MTCP",
          "DTN7-ng/MTCP",
          "DTN7-ng/MTCP",
          "DTN7-ng/MTCP",
          "DTN7-ng/MTCP",
          "DTN7-ng/MTCP",
          "DTN7-ng/MTCP",
          "DTN7-ng/MTCP",
          "DTN7-ng/MTCP",
          "DTN7-ng/MTCP",
          "DTN7-ng/MTCP",
          "DTN7-ng/MTCP",
          "DTN7-ng/MTCP",
          "DTN7-ng/MTCP",
          "DTN7-ng/MTCP",
          "DTN7-ng/MTCP",
          "DTN7-ng/MTCP",
          "DTN7-ng/MTCP",
          "DTN7-ng/MTCP",
          "DTN7-ng/MTCP",
          "DTN7-ng/MTCP",
          "DTN7-ng/MTCP",
          "DTN7-ng/MTCP",
          "DTN7-ng/MTCP",
          "DTN7-ng/MTCP",
          "DTN7-ng/MTCP",
          "DTN7-ng/MTCP",
          "DTN7-ng/MTCP",
          "DTN7-ng/MTCP",
          "DTN7-ng/MTCP",
          "DTN7-ng/MTCP",
          "DTN7-ng/MTCP",
          "DTN7-ng/MTCP",
          "DTN7-ng/MTCP",
          "DTN7-ng/MTCP",
          "DTN7-ng/MTCP",
          "DTN7-ng/MTCP",
          "DTN7-ng/MTCP",
          "DTN7-ng/MTCP",
          "DTN7-ng/MTCP",
          "DTN7-ng/MTCP",
          "DTN7-ng/MTCP",
          "DTN7-ng/MTCP",
          "DTN7-ng/MTCP",
          "DTN7-ng/MTCP",
          "DTN7-ng/MTCP",
          "DTN7-ng/MTCP",
          "DTN7-ng/MTCP",
          "DTN7-ng/MTCP",
          "DTN7-ng/MTCP",
          "DTN7-ng/MTCP",
          "DTN7-ng/MTCP",
          "DTN7-ng/MTCP",
          "DTN7-ng/MTCP"
         ],
         "x0": " ",
         "xaxis": "x6",
         "y": [
          99.402,
          98.292,
          97.19,
          0.034,
          95.991,
          94.887,
          93.787,
          92.685,
          91.581,
          90.49,
          89.372,
          88.274,
          0.12,
          87.07,
          85.969,
          84.87,
          83.762,
          82.656,
          81.559,
          80.456,
          79.356,
          78.258,
          0.102,
          77.051,
          75.944,
          74.848,
          73.754,
          72.642,
          71.536,
          70.435,
          69.337,
          68.231,
          0.083,
          67.029,
          65.932,
          64.817,
          63.72,
          62.613,
          61.526,
          60.415,
          59.315,
          58.207,
          0.07,
          57.005,
          55.901,
          54.797,
          53.702,
          52.597,
          51.487,
          50.391,
          49.287,
          48.2,
          0.052,
          46.989,
          45.88,
          44.779,
          43.674,
          42.577,
          41.479,
          40.366,
          39.261,
          0.135,
          38.061,
          36.958,
          35.856,
          34.755,
          33.653,
          32.552,
          31.45,
          30.344,
          29.239,
          0.112,
          28.042,
          26.934,
          25.831,
          24.736,
          23.628,
          22.534,
          21.426,
          20.314,
          19.215,
          0.103,
          18.022,
          16.913,
          15.814,
          14.708,
          13.601,
          12.486,
          11.409,
          10.301,
          9.195,
          0.086,
          7.996,
          6.889,
          5.794,
          4.695,
          3.592,
          2.483,
          1.373,
          0.273,
          99.24,
          0.074,
          98.034,
          96.926,
          95.831,
          94.717,
          93.634,
          92.531,
          91.429,
          90.331,
          89.22,
          0.05,
          88.012,
          86.905,
          85.803,
          84.701,
          83.607,
          82.499,
          81.393,
          80.297,
          79.193,
          0.03,
          77.99,
          76.888,
          75.784,
          74.684,
          73.579,
          72.476,
          71.369,
          70.276,
          0.128,
          69.069,
          67.967,
          66.867,
          65.758,
          64.654,
          63.554,
          62.451,
          61.346,
          60.251,
          0.111,
          59.043,
          57.944,
          56.834,
          55.732,
          54.628,
          53.529,
          52.423,
          51.327,
          50.225,
          0.089,
          49.017,
          47.914,
          46.812,
          45.719,
          44.608,
          43.504,
          42.408,
          41.302,
          40.198,
          0.069,
          38.997,
          37.894,
          36.778,
          35.681,
          34.578,
          33.474,
          32.374,
          31.275,
          0.152,
          30.066,
          28.963,
          27.87,
          26.762,
          25.666,
          24.559,
          23.461,
          22.351,
          21.255,
          0.141,
          20.056,
          18.943,
          17.862,
          16.746,
          15.64,
          14.539,
          13.435,
          12.327,
          11.236,
          0.119,
          10.029,
          8.93,
          7.823,
          6.716,
          5.605,
          4.528,
          3.399,
          2.303,
          1.204,
          0.093
         ],
         "y0": " ",
         "yaxis": "y6"
        },
        {
         "alignmentgroup": "True",
         "hovertemplate": "Loss (%)=0<br>Bundle Size=100 kB<br>Bundles=10<br>Software/CLP=%{x}<br>=%{y}<extra></extra>",
         "legendgroup": "0",
         "marker": {
          "color": "#636efa"
         },
         "name": "0",
         "notched": false,
         "offsetgroup": "0",
         "orientation": "v",
         "showlegend": false,
         "type": "box",
         "x": [
          "DTN7-ng/QUICL",
          "DTN7-ng/QUICL",
          "DTN7-ng/QUICL",
          "DTN7-ng/QUICL",
          "DTN7-ng/QUICL",
          "DTN7-ng/QUICL",
          "DTN7-ng/QUICL",
          "DTN7-ng/QUICL",
          "DTN7-ng/QUICL",
          "DTN7-ng/QUICL",
          "DTN7-ng/MTCP",
          "DTN7-ng/MTCP",
          "DTN7-ng/MTCP",
          "DTN7-ng/MTCP",
          "DTN7-ng/MTCP",
          "DTN7-ng/MTCP",
          "DTN7-ng/MTCP",
          "DTN7-ng/MTCP",
          "DTN7-ng/MTCP",
          "DTN7-ng/MTCP"
         ],
         "x0": " ",
         "xaxis": "x3",
         "y": [
          0.573,
          0.558,
          0.561,
          0.567,
          0.563,
          0.551,
          0.561,
          0.551,
          0.556,
          0.546,
          0.192,
          0.214,
          0.206,
          0.208,
          0.207,
          0.202,
          0.203,
          0.226,
          0.253,
          0.175
         ],
         "y0": " ",
         "yaxis": "y3"
        },
        {
         "alignmentgroup": "True",
         "hovertemplate": "Loss (%)=0<br>Bundle Size=100 kB<br>Bundles=100<br>Software/CLP=%{x}<br>=%{y}<extra></extra>",
         "legendgroup": "0",
         "marker": {
          "color": "#636efa"
         },
         "name": "0",
         "notched": false,
         "offsetgroup": "0",
         "orientation": "v",
         "showlegend": false,
         "type": "box",
         "x": [
          "DTN7-ng/QUICL",
          "DTN7-ng/QUICL",
          "DTN7-ng/QUICL",
          "DTN7-ng/QUICL",
          "DTN7-ng/QUICL",
          "DTN7-ng/QUICL",
          "DTN7-ng/QUICL",
          "DTN7-ng/QUICL",
          "DTN7-ng/QUICL",
          "DTN7-ng/QUICL",
          "DTN7-ng/QUICL",
          "DTN7-ng/QUICL",
          "DTN7-ng/QUICL",
          "DTN7-ng/QUICL",
          "DTN7-ng/QUICL",
          "DTN7-ng/QUICL",
          "DTN7-ng/QUICL",
          "DTN7-ng/QUICL",
          "DTN7-ng/QUICL",
          "DTN7-ng/QUICL",
          "DTN7-ng/QUICL",
          "DTN7-ng/QUICL",
          "DTN7-ng/QUICL",
          "DTN7-ng/QUICL",
          "DTN7-ng/QUICL",
          "DTN7-ng/QUICL",
          "DTN7-ng/QUICL",
          "DTN7-ng/QUICL",
          "DTN7-ng/QUICL",
          "DTN7-ng/QUICL",
          "DTN7-ng/QUICL",
          "DTN7-ng/QUICL",
          "DTN7-ng/QUICL",
          "DTN7-ng/QUICL",
          "DTN7-ng/QUICL",
          "DTN7-ng/QUICL",
          "DTN7-ng/QUICL",
          "DTN7-ng/QUICL",
          "DTN7-ng/QUICL",
          "DTN7-ng/QUICL",
          "DTN7-ng/QUICL",
          "DTN7-ng/QUICL",
          "DTN7-ng/QUICL",
          "DTN7-ng/QUICL",
          "DTN7-ng/QUICL",
          "DTN7-ng/QUICL",
          "DTN7-ng/QUICL",
          "DTN7-ng/QUICL",
          "DTN7-ng/QUICL",
          "DTN7-ng/QUICL",
          "DTN7-ng/QUICL",
          "DTN7-ng/QUICL",
          "DTN7-ng/QUICL",
          "DTN7-ng/QUICL",
          "DTN7-ng/QUICL",
          "DTN7-ng/QUICL",
          "DTN7-ng/QUICL",
          "DTN7-ng/QUICL",
          "DTN7-ng/QUICL",
          "DTN7-ng/QUICL",
          "DTN7-ng/QUICL",
          "DTN7-ng/QUICL",
          "DTN7-ng/QUICL",
          "DTN7-ng/QUICL",
          "DTN7-ng/QUICL",
          "DTN7-ng/QUICL",
          "DTN7-ng/QUICL",
          "DTN7-ng/QUICL",
          "DTN7-ng/QUICL",
          "DTN7-ng/QUICL",
          "DTN7-ng/QUICL",
          "DTN7-ng/QUICL",
          "DTN7-ng/QUICL",
          "DTN7-ng/QUICL",
          "DTN7-ng/QUICL",
          "DTN7-ng/QUICL",
          "DTN7-ng/QUICL",
          "DTN7-ng/QUICL",
          "DTN7-ng/QUICL",
          "DTN7-ng/QUICL",
          "DTN7-ng/QUICL",
          "DTN7-ng/QUICL",
          "DTN7-ng/QUICL",
          "DTN7-ng/QUICL",
          "DTN7-ng/QUICL",
          "DTN7-ng/QUICL",
          "DTN7-ng/QUICL",
          "DTN7-ng/QUICL",
          "DTN7-ng/QUICL",
          "DTN7-ng/QUICL",
          "DTN7-ng/QUICL",
          "DTN7-ng/QUICL",
          "DTN7-ng/QUICL",
          "DTN7-ng/QUICL",
          "DTN7-ng/QUICL",
          "DTN7-ng/QUICL",
          "DTN7-ng/QUICL",
          "DTN7-ng/QUICL",
          "DTN7-ng/QUICL",
          "DTN7-ng/QUICL",
          "DTN7-ng/MTCP",
          "DTN7-ng/MTCP",
          "DTN7-ng/MTCP",
          "DTN7-ng/MTCP",
          "DTN7-ng/MTCP",
          "DTN7-ng/MTCP",
          "DTN7-ng/MTCP",
          "DTN7-ng/MTCP",
          "DTN7-ng/MTCP",
          "DTN7-ng/MTCP",
          "DTN7-ng/MTCP",
          "DTN7-ng/MTCP",
          "DTN7-ng/MTCP",
          "DTN7-ng/MTCP",
          "DTN7-ng/MTCP",
          "DTN7-ng/MTCP",
          "DTN7-ng/MTCP",
          "DTN7-ng/MTCP",
          "DTN7-ng/MTCP",
          "DTN7-ng/MTCP",
          "DTN7-ng/MTCP",
          "DTN7-ng/MTCP",
          "DTN7-ng/MTCP",
          "DTN7-ng/MTCP",
          "DTN7-ng/MTCP",
          "DTN7-ng/MTCP",
          "DTN7-ng/MTCP",
          "DTN7-ng/MTCP",
          "DTN7-ng/MTCP",
          "DTN7-ng/MTCP",
          "DTN7-ng/MTCP",
          "DTN7-ng/MTCP",
          "DTN7-ng/MTCP",
          "DTN7-ng/MTCP",
          "DTN7-ng/MTCP",
          "DTN7-ng/MTCP",
          "DTN7-ng/MTCP",
          "DTN7-ng/MTCP",
          "DTN7-ng/MTCP",
          "DTN7-ng/MTCP",
          "DTN7-ng/MTCP",
          "DTN7-ng/MTCP",
          "DTN7-ng/MTCP",
          "DTN7-ng/MTCP",
          "DTN7-ng/MTCP",
          "DTN7-ng/MTCP",
          "DTN7-ng/MTCP",
          "DTN7-ng/MTCP",
          "DTN7-ng/MTCP",
          "DTN7-ng/MTCP",
          "DTN7-ng/MTCP",
          "DTN7-ng/MTCP",
          "DTN7-ng/MTCP",
          "DTN7-ng/MTCP",
          "DTN7-ng/MTCP",
          "DTN7-ng/MTCP",
          "DTN7-ng/MTCP",
          "DTN7-ng/MTCP",
          "DTN7-ng/MTCP",
          "DTN7-ng/MTCP",
          "DTN7-ng/MTCP",
          "DTN7-ng/MTCP",
          "DTN7-ng/MTCP",
          "DTN7-ng/MTCP",
          "DTN7-ng/MTCP",
          "DTN7-ng/MTCP",
          "DTN7-ng/MTCP",
          "DTN7-ng/MTCP",
          "DTN7-ng/MTCP",
          "DTN7-ng/MTCP",
          "DTN7-ng/MTCP",
          "DTN7-ng/MTCP",
          "DTN7-ng/MTCP",
          "DTN7-ng/MTCP",
          "DTN7-ng/MTCP",
          "DTN7-ng/MTCP",
          "DTN7-ng/MTCP",
          "DTN7-ng/MTCP",
          "DTN7-ng/MTCP",
          "DTN7-ng/MTCP",
          "DTN7-ng/MTCP",
          "DTN7-ng/MTCP",
          "DTN7-ng/MTCP",
          "DTN7-ng/MTCP",
          "DTN7-ng/MTCP",
          "DTN7-ng/MTCP",
          "DTN7-ng/MTCP",
          "DTN7-ng/MTCP",
          "DTN7-ng/MTCP",
          "DTN7-ng/MTCP",
          "DTN7-ng/MTCP",
          "DTN7-ng/MTCP",
          "DTN7-ng/MTCP",
          "DTN7-ng/MTCP",
          "DTN7-ng/MTCP",
          "DTN7-ng/MTCP",
          "DTN7-ng/MTCP",
          "DTN7-ng/MTCP",
          "DTN7-ng/MTCP",
          "DTN7-ng/MTCP"
         ],
         "x0": " ",
         "xaxis": "x4",
         "y": [
          99.492,
          98.381,
          97.28,
          0.115,
          96.079,
          94.972,
          93.863,
          92.766,
          91.67,
          90.562,
          89.466,
          88.361,
          87.247,
          0.098,
          86.056,
          84.954,
          83.85,
          82.754,
          81.652,
          80.542,
          79.45,
          78.342,
          77.237,
          0.091,
          76.036,
          74.935,
          73.829,
          72.72,
          71.623,
          70.523,
          69.418,
          68.324,
          67.219,
          0.069,
          66.016,
          64.915,
          63.819,
          62.698,
          61.601,
          60.495,
          59.418,
          58.296,
          0.145,
          57.084,
          55.982,
          54.883,
          53.783,
          52.672,
          51.573,
          50.475,
          49.379,
          48.268,
          0.14,
          47.065,
          45.965,
          44.862,
          43.761,
          42.66,
          41.569,
          40.459,
          39.353,
          38.258,
          0.119,
          37.044,
          35.947,
          34.829,
          33.734,
          32.632,
          31.538,
          30.432,
          29.333,
          28.221,
          0.11,
          26.999,
          25.927,
          24.818,
          23.717,
          22.603,
          21.507,
          20.407,
          19.325,
          0.192,
          18.105,
          17.005,
          15.892,
          14.79,
          13.686,
          12.599,
          11.49,
          10.386,
          9.277,
          0.179,
          8.078,
          6.965,
          5.876,
          4.775,
          3.665,
          2.563,
          1.461,
          0.357,
          99.253,
          0.089,
          98.046,
          96.942,
          95.848,
          94.744,
          93.643,
          92.545,
          91.429,
          90.332,
          89.233,
          0.074,
          88.023,
          86.926,
          85.82,
          84.719,
          83.625,
          82.515,
          81.423,
          80.319,
          0.167,
          79.106,
          78.004,
          76.904,
          75.8,
          74.697,
          73.607,
          72.496,
          71.398,
          70.289,
          0.145,
          69.085,
          67.979,
          66.883,
          65.78,
          64.681,
          63.58,
          62.476,
          61.369,
          60.264,
          0.151,
          59.064,
          57.961,
          56.861,
          55.769,
          54.659,
          53.557,
          52.454,
          51.355,
          50.251,
          0.119,
          49.045,
          47.953,
          46.841,
          45.748,
          44.635,
          43.539,
          42.441,
          41.332,
          40.223,
          0.102,
          39.012,
          37.927,
          36.809,
          35.713,
          34.641,
          33.513,
          32.419,
          31.298,
          0.183,
          30.099,
          29.006,
          27.893,
          26.789,
          25.692,
          24.591,
          23.488,
          22.379,
          21.281,
          0.164,
          20.071,
          18.973,
          17.876,
          16.771,
          15.666,
          14.567,
          13.468,
          12.369,
          11.26,
          0.145,
          10.058,
          8.952,
          7.849,
          6.754,
          5.645,
          4.544,
          3.439,
          2.343,
          1.237,
          0.133
         ],
         "y0": " ",
         "yaxis": "y4"
        },
        {
         "alignmentgroup": "True",
         "hovertemplate": "Loss (%)=0<br>Bundle Size=1 MB<br>Bundles=10<br>Software/CLP=%{x}<br>=%{y}<extra></extra>",
         "legendgroup": "0",
         "marker": {
          "color": "#636efa"
         },
         "name": "0",
         "notched": false,
         "offsetgroup": "0",
         "orientation": "v",
         "showlegend": false,
         "type": "box",
         "x": [
          "DTN7-ng/QUICL",
          "DTN7-ng/QUICL",
          "DTN7-ng/QUICL",
          "DTN7-ng/QUICL",
          "DTN7-ng/QUICL",
          "DTN7-ng/QUICL",
          "DTN7-ng/QUICL",
          "DTN7-ng/QUICL",
          "DTN7-ng/QUICL",
          "DTN7-ng/QUICL",
          "DTN7-ng/MTCP",
          "DTN7-ng/MTCP",
          "DTN7-ng/MTCP",
          "DTN7-ng/MTCP",
          "DTN7-ng/MTCP",
          "DTN7-ng/MTCP",
          "DTN7-ng/MTCP",
          "DTN7-ng/MTCP",
          "DTN7-ng/MTCP",
          "DTN7-ng/MTCP"
         ],
         "x0": " ",
         "xaxis": "x",
         "y": [
          0.656,
          0.712,
          0.732,
          0.723,
          0.711,
          0.727,
          0.716,
          0.729,
          0.706,
          0.714,
          0.288,
          0.546,
          0.463,
          0.353,
          0.343,
          0.336,
          0.333,
          0.324,
          0.361,
          1.272
         ],
         "y0": " ",
         "yaxis": "y"
        },
        {
         "alignmentgroup": "True",
         "hovertemplate": "Loss (%)=0<br>Bundle Size=1 MB<br>Bundles=100<br>Software/CLP=%{x}<br>=%{y}<extra></extra>",
         "legendgroup": "0",
         "marker": {
          "color": "#636efa"
         },
         "name": "0",
         "notched": false,
         "offsetgroup": "0",
         "orientation": "v",
         "showlegend": false,
         "type": "box",
         "x": [
          "DTN7-ng/QUICL",
          "DTN7-ng/QUICL",
          "DTN7-ng/QUICL",
          "DTN7-ng/QUICL",
          "DTN7-ng/QUICL",
          "DTN7-ng/QUICL",
          "DTN7-ng/QUICL",
          "DTN7-ng/QUICL",
          "DTN7-ng/QUICL",
          "DTN7-ng/QUICL",
          "DTN7-ng/QUICL",
          "DTN7-ng/QUICL",
          "DTN7-ng/QUICL",
          "DTN7-ng/QUICL",
          "DTN7-ng/QUICL",
          "DTN7-ng/QUICL",
          "DTN7-ng/QUICL",
          "DTN7-ng/QUICL",
          "DTN7-ng/QUICL",
          "DTN7-ng/QUICL",
          "DTN7-ng/QUICL",
          "DTN7-ng/QUICL",
          "DTN7-ng/QUICL",
          "DTN7-ng/QUICL",
          "DTN7-ng/QUICL",
          "DTN7-ng/QUICL",
          "DTN7-ng/QUICL",
          "DTN7-ng/QUICL",
          "DTN7-ng/QUICL",
          "DTN7-ng/QUICL",
          "DTN7-ng/QUICL",
          "DTN7-ng/QUICL",
          "DTN7-ng/QUICL",
          "DTN7-ng/QUICL",
          "DTN7-ng/QUICL",
          "DTN7-ng/QUICL",
          "DTN7-ng/QUICL",
          "DTN7-ng/QUICL",
          "DTN7-ng/QUICL",
          "DTN7-ng/QUICL",
          "DTN7-ng/QUICL",
          "DTN7-ng/QUICL",
          "DTN7-ng/QUICL",
          "DTN7-ng/QUICL",
          "DTN7-ng/QUICL",
          "DTN7-ng/QUICL",
          "DTN7-ng/QUICL",
          "DTN7-ng/QUICL",
          "DTN7-ng/QUICL",
          "DTN7-ng/QUICL",
          "DTN7-ng/QUICL",
          "DTN7-ng/QUICL",
          "DTN7-ng/QUICL",
          "DTN7-ng/QUICL",
          "DTN7-ng/QUICL",
          "DTN7-ng/QUICL",
          "DTN7-ng/QUICL",
          "DTN7-ng/QUICL",
          "DTN7-ng/QUICL",
          "DTN7-ng/QUICL",
          "DTN7-ng/QUICL",
          "DTN7-ng/QUICL",
          "DTN7-ng/QUICL",
          "DTN7-ng/QUICL",
          "DTN7-ng/QUICL",
          "DTN7-ng/QUICL",
          "DTN7-ng/QUICL",
          "DTN7-ng/QUICL",
          "DTN7-ng/QUICL",
          "DTN7-ng/QUICL",
          "DTN7-ng/QUICL",
          "DTN7-ng/QUICL",
          "DTN7-ng/QUICL",
          "DTN7-ng/QUICL",
          "DTN7-ng/QUICL",
          "DTN7-ng/QUICL",
          "DTN7-ng/QUICL",
          "DTN7-ng/QUICL",
          "DTN7-ng/QUICL",
          "DTN7-ng/QUICL",
          "DTN7-ng/QUICL",
          "DTN7-ng/QUICL",
          "DTN7-ng/QUICL",
          "DTN7-ng/QUICL",
          "DTN7-ng/QUICL",
          "DTN7-ng/QUICL",
          "DTN7-ng/QUICL",
          "DTN7-ng/QUICL",
          "DTN7-ng/QUICL",
          "DTN7-ng/QUICL",
          "DTN7-ng/QUICL",
          "DTN7-ng/QUICL",
          "DTN7-ng/QUICL",
          "DTN7-ng/QUICL",
          "DTN7-ng/QUICL",
          "DTN7-ng/QUICL",
          "DTN7-ng/QUICL",
          "DTN7-ng/QUICL",
          "DTN7-ng/QUICL",
          "DTN7-ng/QUICL",
          "DTN7-ng/MTCP",
          "DTN7-ng/MTCP",
          "DTN7-ng/MTCP",
          "DTN7-ng/MTCP",
          "DTN7-ng/MTCP",
          "DTN7-ng/MTCP",
          "DTN7-ng/MTCP",
          "DTN7-ng/MTCP",
          "DTN7-ng/MTCP",
          "DTN7-ng/MTCP",
          "DTN7-ng/MTCP",
          "DTN7-ng/MTCP",
          "DTN7-ng/MTCP",
          "DTN7-ng/MTCP",
          "DTN7-ng/MTCP",
          "DTN7-ng/MTCP",
          "DTN7-ng/MTCP",
          "DTN7-ng/MTCP",
          "DTN7-ng/MTCP",
          "DTN7-ng/MTCP",
          "DTN7-ng/MTCP",
          "DTN7-ng/MTCP",
          "DTN7-ng/MTCP",
          "DTN7-ng/MTCP",
          "DTN7-ng/MTCP",
          "DTN7-ng/MTCP",
          "DTN7-ng/MTCP",
          "DTN7-ng/MTCP",
          "DTN7-ng/MTCP",
          "DTN7-ng/MTCP",
          "DTN7-ng/MTCP",
          "DTN7-ng/MTCP",
          "DTN7-ng/MTCP",
          "DTN7-ng/MTCP",
          "DTN7-ng/MTCP",
          "DTN7-ng/MTCP",
          "DTN7-ng/MTCP",
          "DTN7-ng/MTCP",
          "DTN7-ng/MTCP",
          "DTN7-ng/MTCP",
          "DTN7-ng/MTCP",
          "DTN7-ng/MTCP",
          "DTN7-ng/MTCP",
          "DTN7-ng/MTCP",
          "DTN7-ng/MTCP",
          "DTN7-ng/MTCP",
          "DTN7-ng/MTCP",
          "DTN7-ng/MTCP",
          "DTN7-ng/MTCP",
          "DTN7-ng/MTCP",
          "DTN7-ng/MTCP",
          "DTN7-ng/MTCP",
          "DTN7-ng/MTCP",
          "DTN7-ng/MTCP",
          "DTN7-ng/MTCP",
          "DTN7-ng/MTCP",
          "DTN7-ng/MTCP",
          "DTN7-ng/MTCP",
          "DTN7-ng/MTCP",
          "DTN7-ng/MTCP",
          "DTN7-ng/MTCP",
          "DTN7-ng/MTCP",
          "DTN7-ng/MTCP",
          "DTN7-ng/MTCP",
          "DTN7-ng/MTCP",
          "DTN7-ng/MTCP",
          "DTN7-ng/MTCP",
          "DTN7-ng/MTCP",
          "DTN7-ng/MTCP",
          "DTN7-ng/MTCP",
          "DTN7-ng/MTCP",
          "DTN7-ng/MTCP",
          "DTN7-ng/MTCP",
          "DTN7-ng/MTCP",
          "DTN7-ng/MTCP",
          "DTN7-ng/MTCP",
          "DTN7-ng/MTCP",
          "DTN7-ng/MTCP",
          "DTN7-ng/MTCP",
          "DTN7-ng/MTCP",
          "DTN7-ng/MTCP",
          "DTN7-ng/MTCP",
          "DTN7-ng/MTCP",
          "DTN7-ng/MTCP",
          "DTN7-ng/MTCP",
          "DTN7-ng/MTCP",
          "DTN7-ng/MTCP",
          "DTN7-ng/MTCP",
          "DTN7-ng/MTCP",
          "DTN7-ng/MTCP",
          "DTN7-ng/MTCP",
          "DTN7-ng/MTCP",
          "DTN7-ng/MTCP",
          "DTN7-ng/MTCP",
          "DTN7-ng/MTCP",
          "DTN7-ng/MTCP",
          "DTN7-ng/MTCP",
          "DTN7-ng/MTCP",
          "DTN7-ng/MTCP",
          "DTN7-ng/MTCP"
         ],
         "x0": " ",
         "xaxis": "x2",
         "y": [
          99.598,
          98.582,
          0.354,
          97.335,
          96.208,
          95.114,
          94.038,
          92.979,
          91.888,
          90.741,
          89.642,
          88.53,
          0.43,
          87.308,
          86.239,
          85.106,
          84.013,
          82.904,
          81.83,
          80.737,
          79.633,
          0.523,
          78.414,
          77.3,
          76.187,
          75.092,
          73.964,
          72.911,
          71.79,
          70.66,
          69.579,
          0.516,
          68.383,
          67.259,
          66.205,
          65.095,
          63.98,
          62.87,
          61.745,
          60.678,
          59.584,
          0.47,
          58.346,
          57.24,
          56.137,
          55.039,
          53.943,
          52.82,
          51.754,
          50.665,
          49.539,
          0.433,
          48.355,
          47.238,
          46.131,
          45.032,
          43.902,
          42.836,
          41.717,
          40.661,
          0.526,
          39.408,
          38.319,
          37.203,
          36.096,
          34.995,
          33.866,
          32.809,
          31.68,
          30.62,
          0.524,
          29.405,
          28.298,
          27.193,
          26.085,
          24.971,
          23.862,
          22.748,
          21.661,
          20.566,
          0.475,
          19.355,
          18.293,
          17.14,
          16.035,
          14.897,
          13.822,
          12.727,
          11.633,
          0.566,
          10.421,
          9.318,
          8.209,
          7.151,
          6.017,
          4.917,
          3.804,
          2.683,
          1.602,
          0.493,
          0.299,
          99.281,
          98.201,
          97.094,
          96.017,
          94.885,
          93.777,
          92.672,
          91.587,
          0.74,
          90.383,
          89.276,
          88.142,
          87.028,
          85.97,
          84.867,
          83.78,
          82.661,
          81.542,
          0.624,
          80.369,
          79.233,
          78.132,
          77.015,
          75.938,
          74.853,
          73.72,
          72.658,
          71.568,
          0.428,
          70.303,
          69.184,
          68.105,
          67.037,
          65.882,
          64.799,
          63.707,
          62.61,
          61.52,
          0.389,
          60.322,
          59.179,
          58.1,
          56.986,
          55.887,
          54.806,
          53.694,
          52.571,
          51.498,
          0.392,
          50.269,
          49.156,
          48.064,
          46.977,
          45.87,
          44.765,
          43.661,
          42.55,
          0.515,
          41.341,
          40.23,
          39.172,
          38.012,
          36.907,
          35.806,
          34.713,
          33.611,
          32.538,
          0.429,
          31.327,
          30.227,
          29.139,
          28.01,
          26.916,
          25.814,
          24.73,
          23.619,
          22.498,
          0.425,
          21.289,
          20.192,
          19.099,
          17.957,
          16.881,
          15.782,
          14.678,
          13.604,
          12.489,
          0.426,
          11.255,
          10.167,
          9.093,
          7.976,
          6.881,
          5.772,
          4.692,
          3.564,
          0.497,
          2.336,
          1.28
         ],
         "y0": " ",
         "yaxis": "y2"
        },
        {
         "alignmentgroup": "True",
         "hovertemplate": "Loss (%)=10<br>Bundle Size=1 kB<br>Bundles=10<br>Software/CLP=%{x}<br>=%{y}<extra></extra>",
         "legendgroup": "10",
         "marker": {
          "color": "#EF553B"
         },
         "name": "10",
         "notched": false,
         "offsetgroup": "10",
         "orientation": "v",
         "showlegend": true,
         "type": "box",
         "x": [
          "DTN7-ng/QUICL",
          "DTN7-ng/QUICL",
          "DTN7-ng/QUICL",
          "DTN7-ng/QUICL",
          "DTN7-ng/QUICL",
          "DTN7-ng/QUICL",
          "DTN7-ng/QUICL",
          "DTN7-ng/QUICL",
          "DTN7-ng/QUICL",
          "DTN7-ng/QUICL"
         ],
         "x0": " ",
         "xaxis": "x5",
         "y": [
          0.79,
          0.791,
          0.783,
          0.782,
          0.778,
          0.776,
          0.775,
          0.784,
          0.769,
          0.771
         ],
         "y0": " ",
         "yaxis": "y5"
        },
        {
         "alignmentgroup": "True",
         "hovertemplate": "Loss (%)=10<br>Bundle Size=1 kB<br>Bundles=100<br>Software/CLP=%{x}<br>=%{y}<extra></extra>",
         "legendgroup": "10",
         "marker": {
          "color": "#EF553B"
         },
         "name": "10",
         "notched": false,
         "offsetgroup": "10",
         "orientation": "v",
         "showlegend": false,
         "type": "box",
         "x": [
          "DTN7-ng/QUICL",
          "DTN7-ng/QUICL",
          "DTN7-ng/QUICL",
          "DTN7-ng/QUICL",
          "DTN7-ng/QUICL",
          "DTN7-ng/QUICL",
          "DTN7-ng/QUICL",
          "DTN7-ng/QUICL",
          "DTN7-ng/QUICL",
          "DTN7-ng/QUICL",
          "DTN7-ng/QUICL",
          "DTN7-ng/QUICL",
          "DTN7-ng/QUICL",
          "DTN7-ng/QUICL",
          "DTN7-ng/QUICL",
          "DTN7-ng/QUICL",
          "DTN7-ng/QUICL",
          "DTN7-ng/QUICL",
          "DTN7-ng/QUICL",
          "DTN7-ng/QUICL",
          "DTN7-ng/QUICL",
          "DTN7-ng/QUICL",
          "DTN7-ng/QUICL",
          "DTN7-ng/QUICL",
          "DTN7-ng/QUICL",
          "DTN7-ng/QUICL",
          "DTN7-ng/QUICL",
          "DTN7-ng/QUICL",
          "DTN7-ng/QUICL",
          "DTN7-ng/QUICL",
          "DTN7-ng/QUICL",
          "DTN7-ng/QUICL",
          "DTN7-ng/QUICL",
          "DTN7-ng/QUICL",
          "DTN7-ng/QUICL",
          "DTN7-ng/QUICL",
          "DTN7-ng/QUICL",
          "DTN7-ng/QUICL",
          "DTN7-ng/QUICL",
          "DTN7-ng/QUICL",
          "DTN7-ng/QUICL",
          "DTN7-ng/QUICL",
          "DTN7-ng/QUICL",
          "DTN7-ng/QUICL",
          "DTN7-ng/QUICL",
          "DTN7-ng/QUICL",
          "DTN7-ng/QUICL",
          "DTN7-ng/QUICL",
          "DTN7-ng/QUICL",
          "DTN7-ng/QUICL",
          "DTN7-ng/QUICL",
          "DTN7-ng/QUICL",
          "DTN7-ng/QUICL",
          "DTN7-ng/QUICL",
          "DTN7-ng/QUICL",
          "DTN7-ng/QUICL",
          "DTN7-ng/QUICL",
          "DTN7-ng/QUICL",
          "DTN7-ng/QUICL",
          "DTN7-ng/QUICL",
          "DTN7-ng/QUICL",
          "DTN7-ng/QUICL",
          "DTN7-ng/QUICL",
          "DTN7-ng/QUICL",
          "DTN7-ng/QUICL",
          "DTN7-ng/QUICL",
          "DTN7-ng/QUICL",
          "DTN7-ng/QUICL",
          "DTN7-ng/QUICL",
          "DTN7-ng/QUICL",
          "DTN7-ng/QUICL",
          "DTN7-ng/QUICL",
          "DTN7-ng/QUICL",
          "DTN7-ng/QUICL",
          "DTN7-ng/QUICL",
          "DTN7-ng/QUICL",
          "DTN7-ng/QUICL",
          "DTN7-ng/QUICL",
          "DTN7-ng/QUICL",
          "DTN7-ng/QUICL",
          "DTN7-ng/QUICL",
          "DTN7-ng/QUICL",
          "DTN7-ng/QUICL",
          "DTN7-ng/QUICL",
          "DTN7-ng/QUICL",
          "DTN7-ng/QUICL",
          "DTN7-ng/QUICL",
          "DTN7-ng/QUICL",
          "DTN7-ng/QUICL",
          "DTN7-ng/QUICL",
          "DTN7-ng/QUICL",
          "DTN7-ng/QUICL",
          "DTN7-ng/QUICL",
          "DTN7-ng/QUICL",
          "DTN7-ng/QUICL",
          "DTN7-ng/QUICL",
          "DTN7-ng/QUICL",
          "DTN7-ng/QUICL",
          "DTN7-ng/QUICL",
          "DTN7-ng/QUICL",
          "DTN7-ng/MTCP",
          "DTN7-ng/MTCP",
          "DTN7-ng/MTCP",
          "DTN7-ng/MTCP",
          "DTN7-ng/MTCP",
          "DTN7-ng/MTCP",
          "DTN7-ng/MTCP",
          "DTN7-ng/MTCP",
          "DTN7-ng/MTCP",
          "DTN7-ng/MTCP",
          "DTN7-ng/MTCP",
          "DTN7-ng/MTCP",
          "DTN7-ng/MTCP",
          "DTN7-ng/MTCP",
          "DTN7-ng/MTCP",
          "DTN7-ng/MTCP",
          "DTN7-ng/MTCP",
          "DTN7-ng/MTCP",
          "DTN7-ng/MTCP",
          "DTN7-ng/MTCP",
          "DTN7-ng/MTCP",
          "DTN7-ng/MTCP",
          "DTN7-ng/MTCP",
          "DTN7-ng/MTCP",
          "DTN7-ng/MTCP",
          "DTN7-ng/MTCP",
          "DTN7-ng/MTCP",
          "DTN7-ng/MTCP",
          "DTN7-ng/MTCP",
          "DTN7-ng/MTCP",
          "DTN7-ng/MTCP",
          "DTN7-ng/MTCP",
          "DTN7-ng/MTCP",
          "DTN7-ng/MTCP",
          "DTN7-ng/MTCP",
          "DTN7-ng/MTCP",
          "DTN7-ng/MTCP",
          "DTN7-ng/MTCP",
          "DTN7-ng/MTCP",
          "DTN7-ng/MTCP",
          "DTN7-ng/MTCP",
          "DTN7-ng/MTCP",
          "DTN7-ng/MTCP",
          "DTN7-ng/MTCP",
          "DTN7-ng/MTCP",
          "DTN7-ng/MTCP",
          "DTN7-ng/MTCP",
          "DTN7-ng/MTCP",
          "DTN7-ng/MTCP",
          "DTN7-ng/MTCP",
          "DTN7-ng/MTCP",
          "DTN7-ng/MTCP",
          "DTN7-ng/MTCP",
          "DTN7-ng/MTCP",
          "DTN7-ng/MTCP",
          "DTN7-ng/MTCP",
          "DTN7-ng/MTCP",
          "DTN7-ng/MTCP",
          "DTN7-ng/MTCP",
          "DTN7-ng/MTCP",
          "DTN7-ng/MTCP",
          "DTN7-ng/MTCP",
          "DTN7-ng/MTCP",
          "DTN7-ng/MTCP",
          "DTN7-ng/MTCP",
          "DTN7-ng/MTCP",
          "DTN7-ng/MTCP",
          "DTN7-ng/MTCP",
          "DTN7-ng/MTCP",
          "DTN7-ng/MTCP",
          "DTN7-ng/MTCP",
          "DTN7-ng/MTCP",
          "DTN7-ng/MTCP",
          "DTN7-ng/MTCP",
          "DTN7-ng/MTCP",
          "DTN7-ng/MTCP",
          "DTN7-ng/MTCP",
          "DTN7-ng/MTCP",
          "DTN7-ng/MTCP",
          "DTN7-ng/MTCP",
          "DTN7-ng/MTCP",
          "DTN7-ng/MTCP",
          "DTN7-ng/MTCP",
          "DTN7-ng/MTCP",
          "DTN7-ng/MTCP",
          "DTN7-ng/MTCP",
          "DTN7-ng/MTCP",
          "DTN7-ng/MTCP",
          "DTN7-ng/MTCP",
          "DTN7-ng/MTCP",
          "DTN7-ng/MTCP",
          "DTN7-ng/MTCP",
          "DTN7-ng/MTCP",
          "DTN7-ng/MTCP",
          "DTN7-ng/MTCP",
          "DTN7-ng/MTCP",
          "DTN7-ng/MTCP",
          "DTN7-ng/MTCP",
          "DTN7-ng/MTCP",
          "DTN7-ng/MTCP"
         ],
         "x0": " ",
         "xaxis": "x6",
         "y": [
          99.718,
          98.616,
          97.52,
          96.406,
          95.308,
          94.202,
          0.05,
          93,
          91.893,
          90.831,
          89.692,
          88.596,
          87.494,
          86.396,
          85.287,
          0.233,
          84.082,
          82.987,
          81.879,
          80.774,
          79.675,
          78.574,
          77.463,
          76.372,
          75.267,
          0.117,
          74.091,
          72.964,
          71.861,
          70.759,
          69.655,
          68.549,
          67.45,
          66.375,
          65.241,
          0.101,
          64.038,
          62.943,
          61.844,
          60.751,
          59.625,
          58.529,
          57.429,
          56.318,
          55.225,
          0.085,
          54.026,
          52.92,
          51.826,
          50.712,
          49.641,
          48.515,
          47.406,
          46.305,
          45.202,
          0.066,
          43.999,
          42.893,
          41.79,
          40.692,
          39.585,
          38.484,
          37.392,
          36.28,
          0.153,
          35.07,
          33.973,
          32.874,
          31.77,
          30.667,
          29.568,
          28.492,
          27.371,
          26.258,
          0.141,
          25.052,
          23.953,
          22.855,
          21.743,
          20.641,
          19.54,
          18.443,
          17.334,
          16.24,
          0.121,
          15.033,
          13.927,
          12.847,
          11.719,
          10.633,
          9.519,
          8.425,
          7.311,
          6.269,
          0.101,
          5.006,
          3.902,
          2.802,
          1.698,
          0.595,
          99.241,
          0.079,
          98.037,
          96.926,
          95.832,
          94.729,
          93.626,
          92.535,
          91.428,
          90.33,
          89.215,
          0.065,
          88.009,
          86.908,
          85.801,
          84.704,
          83.601,
          82.498,
          81.403,
          80.309,
          79.197,
          0.044,
          77.986,
          76.888,
          75.795,
          74.695,
          73.583,
          72.475,
          71.376,
          70.274,
          0.126,
          69.07,
          67.972,
          66.868,
          65.763,
          64.662,
          63.561,
          62.455,
          61.363,
          60.244,
          0.112,
          59.04,
          57.947,
          56.842,
          55.74,
          54.64,
          53.537,
          52.43,
          51.349,
          50.231,
          0.1,
          49.028,
          47.93,
          46.822,
          45.719,
          44.616,
          43.518,
          42.411,
          41.311,
          40.206,
          0.08,
          39.006,
          37.902,
          36.8,
          35.692,
          34.817,
          33.492,
          32.39,
          31.286,
          30.184,
          0.066,
          28.987,
          27.89,
          26.781,
          25.679,
          24.578,
          23.482,
          22.364,
          21.27,
          0.16,
          20.065,
          18.967,
          17.865,
          16.763,
          15.87,
          14.555,
          13.457,
          12.356,
          11.254,
          0.163,
          10.049,
          8.947,
          7.844,
          6.984,
          5.639,
          4.561,
          3.43,
          2.327,
          1.226,
          0.127
         ],
         "y0": " ",
         "yaxis": "y6"
        },
        {
         "alignmentgroup": "True",
         "hovertemplate": "Loss (%)=10<br>Bundle Size=100 kB<br>Bundles=10<br>Software/CLP=%{x}<br>=%{y}<extra></extra>",
         "legendgroup": "10",
         "marker": {
          "color": "#EF553B"
         },
         "name": "10",
         "notched": false,
         "offsetgroup": "10",
         "orientation": "v",
         "showlegend": false,
         "type": "box",
         "x": [
          "DTN7-ng/QUICL",
          "DTN7-ng/QUICL",
          "DTN7-ng/QUICL",
          "DTN7-ng/QUICL",
          "DTN7-ng/QUICL",
          "DTN7-ng/QUICL",
          "DTN7-ng/QUICL",
          "DTN7-ng/QUICL",
          "DTN7-ng/QUICL",
          "DTN7-ng/QUICL",
          "DTN7-ng/MTCP",
          "DTN7-ng/MTCP",
          "DTN7-ng/MTCP",
          "DTN7-ng/MTCP",
          "DTN7-ng/MTCP",
          "DTN7-ng/MTCP",
          "DTN7-ng/MTCP"
         ],
         "x0": " ",
         "xaxis": "x3",
         "y": [
          1.049,
          1.11,
          1.091,
          1.097,
          1.113,
          1.086,
          1.146,
          1.069,
          1.071,
          1.222,
          0.487,
          0.284,
          0.216,
          0.258,
          1.371,
          0.752,
          0.677
         ],
         "y0": " ",
         "yaxis": "y3"
        },
        {
         "alignmentgroup": "True",
         "hovertemplate": "Loss (%)=10<br>Bundle Size=100 kB<br>Bundles=100<br>Software/CLP=%{x}<br>=%{y}<extra></extra>",
         "legendgroup": "10",
         "marker": {
          "color": "#EF553B"
         },
         "name": "10",
         "notched": false,
         "offsetgroup": "10",
         "orientation": "v",
         "showlegend": false,
         "type": "box",
         "x": [
          "DTN7-ng/QUICL",
          "DTN7-ng/QUICL",
          "DTN7-ng/QUICL",
          "DTN7-ng/QUICL",
          "DTN7-ng/QUICL",
          "DTN7-ng/QUICL",
          "DTN7-ng/QUICL",
          "DTN7-ng/QUICL",
          "DTN7-ng/QUICL",
          "DTN7-ng/QUICL",
          "DTN7-ng/QUICL",
          "DTN7-ng/QUICL",
          "DTN7-ng/QUICL",
          "DTN7-ng/QUICL",
          "DTN7-ng/QUICL",
          "DTN7-ng/QUICL",
          "DTN7-ng/QUICL",
          "DTN7-ng/QUICL",
          "DTN7-ng/QUICL",
          "DTN7-ng/QUICL",
          "DTN7-ng/QUICL",
          "DTN7-ng/QUICL",
          "DTN7-ng/QUICL",
          "DTN7-ng/QUICL",
          "DTN7-ng/QUICL",
          "DTN7-ng/QUICL",
          "DTN7-ng/QUICL",
          "DTN7-ng/QUICL",
          "DTN7-ng/QUICL",
          "DTN7-ng/QUICL",
          "DTN7-ng/QUICL",
          "DTN7-ng/QUICL",
          "DTN7-ng/QUICL",
          "DTN7-ng/QUICL",
          "DTN7-ng/QUICL",
          "DTN7-ng/QUICL",
          "DTN7-ng/QUICL",
          "DTN7-ng/QUICL",
          "DTN7-ng/QUICL",
          "DTN7-ng/QUICL",
          "DTN7-ng/QUICL",
          "DTN7-ng/QUICL",
          "DTN7-ng/QUICL",
          "DTN7-ng/QUICL",
          "DTN7-ng/QUICL",
          "DTN7-ng/QUICL",
          "DTN7-ng/QUICL",
          "DTN7-ng/QUICL",
          "DTN7-ng/QUICL",
          "DTN7-ng/QUICL",
          "DTN7-ng/QUICL",
          "DTN7-ng/QUICL",
          "DTN7-ng/QUICL",
          "DTN7-ng/QUICL",
          "DTN7-ng/QUICL",
          "DTN7-ng/QUICL",
          "DTN7-ng/QUICL",
          "DTN7-ng/QUICL",
          "DTN7-ng/QUICL",
          "DTN7-ng/QUICL",
          "DTN7-ng/QUICL",
          "DTN7-ng/QUICL",
          "DTN7-ng/QUICL",
          "DTN7-ng/QUICL",
          "DTN7-ng/QUICL",
          "DTN7-ng/QUICL",
          "DTN7-ng/QUICL",
          "DTN7-ng/QUICL",
          "DTN7-ng/QUICL",
          "DTN7-ng/QUICL",
          "DTN7-ng/QUICL",
          "DTN7-ng/QUICL",
          "DTN7-ng/QUICL",
          "DTN7-ng/QUICL",
          "DTN7-ng/QUICL",
          "DTN7-ng/QUICL",
          "DTN7-ng/QUICL",
          "DTN7-ng/QUICL",
          "DTN7-ng/QUICL",
          "DTN7-ng/QUICL",
          "DTN7-ng/QUICL",
          "DTN7-ng/QUICL",
          "DTN7-ng/QUICL",
          "DTN7-ng/QUICL",
          "DTN7-ng/QUICL",
          "DTN7-ng/QUICL",
          "DTN7-ng/QUICL",
          "DTN7-ng/QUICL",
          "DTN7-ng/QUICL",
          "DTN7-ng/QUICL",
          "DTN7-ng/QUICL",
          "DTN7-ng/QUICL",
          "DTN7-ng/QUICL",
          "DTN7-ng/QUICL",
          "DTN7-ng/QUICL",
          "DTN7-ng/QUICL",
          "DTN7-ng/QUICL",
          "DTN7-ng/QUICL",
          "DTN7-ng/QUICL",
          "DTN7-ng/QUICL",
          "DTN7-ng/MTCP",
          "DTN7-ng/MTCP",
          "DTN7-ng/MTCP",
          "DTN7-ng/MTCP",
          "DTN7-ng/MTCP",
          "DTN7-ng/MTCP",
          "DTN7-ng/MTCP",
          "DTN7-ng/MTCP",
          "DTN7-ng/MTCP",
          "DTN7-ng/MTCP",
          "DTN7-ng/MTCP",
          "DTN7-ng/MTCP",
          "DTN7-ng/MTCP",
          "DTN7-ng/MTCP",
          "DTN7-ng/MTCP",
          "DTN7-ng/MTCP",
          "DTN7-ng/MTCP",
          "DTN7-ng/MTCP",
          "DTN7-ng/MTCP",
          "DTN7-ng/MTCP",
          "DTN7-ng/MTCP",
          "DTN7-ng/MTCP",
          "DTN7-ng/MTCP",
          "DTN7-ng/MTCP",
          "DTN7-ng/MTCP",
          "DTN7-ng/MTCP",
          "DTN7-ng/MTCP",
          "DTN7-ng/MTCP"
         ],
         "x0": " ",
         "xaxis": "x4",
         "y": [
          99.657,
          98.575,
          97.465,
          96.341,
          0.151,
          95.129,
          94.039,
          92.924,
          91.956,
          90.74,
          89.63,
          88.575,
          87.512,
          86.314,
          0.147,
          85.13,
          83.986,
          82.944,
          81.841,
          80.711,
          79.617,
          78.501,
          77.384,
          76.4,
          0.133,
          75.078,
          74.008,
          72.865,
          71.765,
          70.665,
          69.577,
          68.564,
          67.361,
          66.303,
          0.168,
          65.085,
          64.106,
          62.969,
          61.783,
          60.681,
          59.551,
          58.463,
          57.338,
          0.235,
          56.123,
          55.057,
          53.919,
          52.907,
          51.722,
          50.706,
          49.523,
          48.413,
          47.324,
          0.217,
          46.242,
          45.194,
          43.917,
          42.824,
          41.778,
          40.654,
          39.513,
          38.527,
          37.335,
          0.163,
          36.211,
          34.982,
          33.949,
          32.776,
          31.708,
          30.593,
          29.482,
          28.402,
          27.302,
          0.138,
          26.204,
          24.956,
          23.864,
          22.749,
          21.638,
          20.549,
          19.46,
          18.499,
          17.25,
          0.278,
          16.081,
          14.949,
          13.853,
          12.766,
          11.676,
          10.549,
          9.433,
          8.316,
          0.202,
          7.218,
          6.041,
          4.993,
          3.848,
          2.755,
          1.617,
          0.513,
          0.103,
          0.199,
          1.864,
          1.163,
          0.762,
          0.832,
          0.168,
          0.444,
          0.428,
          21.031,
          18.326,
          16.92,
          16.293,
          14.762,
          13.929,
          12.614,
          11.806,
          0.624,
          10.374,
          9.238,
          8.199,
          7.571,
          5.803,
          5.394,
          3.979,
          2.647,
          1.331,
          1.192
         ],
         "y0": " ",
         "yaxis": "y4"
        },
        {
         "alignmentgroup": "True",
         "hovertemplate": "Loss (%)=10<br>Bundle Size=1 MB<br>Bundles=10<br>Software/CLP=%{x}<br>=%{y}<extra></extra>",
         "legendgroup": "10",
         "marker": {
          "color": "#EF553B"
         },
         "name": "10",
         "notched": false,
         "offsetgroup": "10",
         "orientation": "v",
         "showlegend": false,
         "type": "box",
         "x": [
          "DTN7-ng/QUICL",
          "DTN7-ng/QUICL",
          "DTN7-ng/QUICL",
          "DTN7-ng/QUICL",
          "DTN7-ng/QUICL",
          "DTN7-ng/QUICL",
          "DTN7-ng/QUICL",
          "DTN7-ng/QUICL",
          "DTN7-ng/QUICL",
          "DTN7-ng/QUICL",
          "DTN7-ng/MTCP",
          "DTN7-ng/MTCP",
          "DTN7-ng/MTCP",
          "DTN7-ng/MTCP",
          "DTN7-ng/MTCP",
          "DTN7-ng/MTCP"
         ],
         "x0": " ",
         "xaxis": "x",
         "y": [
          1.301,
          1.403,
          1.547,
          1.489,
          1.298,
          1.443,
          1.53,
          1.16,
          1.573,
          1.475,
          2.684,
          12.534,
          16.782,
          22.486,
          27.46,
          29.107
         ],
         "y0": " ",
         "yaxis": "y"
        },
        {
         "alignmentgroup": "True",
         "hovertemplate": "Loss (%)=10<br>Bundle Size=1 MB<br>Bundles=100<br>Software/CLP=%{x}<br>=%{y}<extra></extra>",
         "legendgroup": "10",
         "marker": {
          "color": "#EF553B"
         },
         "name": "10",
         "notched": false,
         "offsetgroup": "10",
         "orientation": "v",
         "showlegend": false,
         "type": "box",
         "x": [
          "DTN7-ng/QUICL",
          "DTN7-ng/QUICL",
          "DTN7-ng/QUICL",
          "DTN7-ng/QUICL",
          "DTN7-ng/QUICL",
          "DTN7-ng/QUICL",
          "DTN7-ng/QUICL",
          "DTN7-ng/QUICL",
          "DTN7-ng/QUICL",
          "DTN7-ng/QUICL",
          "DTN7-ng/QUICL",
          "DTN7-ng/QUICL",
          "DTN7-ng/QUICL",
          "DTN7-ng/QUICL",
          "DTN7-ng/QUICL",
          "DTN7-ng/QUICL",
          "DTN7-ng/QUICL",
          "DTN7-ng/QUICL",
          "DTN7-ng/QUICL",
          "DTN7-ng/QUICL",
          "DTN7-ng/QUICL",
          "DTN7-ng/QUICL",
          "DTN7-ng/QUICL",
          "DTN7-ng/QUICL",
          "DTN7-ng/QUICL",
          "DTN7-ng/QUICL",
          "DTN7-ng/QUICL",
          "DTN7-ng/QUICL",
          "DTN7-ng/QUICL",
          "DTN7-ng/QUICL",
          "DTN7-ng/QUICL",
          "DTN7-ng/QUICL",
          "DTN7-ng/QUICL",
          "DTN7-ng/QUICL",
          "DTN7-ng/QUICL",
          "DTN7-ng/QUICL",
          "DTN7-ng/QUICL",
          "DTN7-ng/QUICL",
          "DTN7-ng/QUICL",
          "DTN7-ng/QUICL",
          "DTN7-ng/QUICL",
          "DTN7-ng/QUICL",
          "DTN7-ng/QUICL",
          "DTN7-ng/QUICL",
          "DTN7-ng/QUICL",
          "DTN7-ng/QUICL",
          "DTN7-ng/QUICL",
          "DTN7-ng/QUICL",
          "DTN7-ng/QUICL",
          "DTN7-ng/QUICL",
          "DTN7-ng/QUICL",
          "DTN7-ng/QUICL",
          "DTN7-ng/QUICL",
          "DTN7-ng/QUICL",
          "DTN7-ng/QUICL",
          "DTN7-ng/QUICL",
          "DTN7-ng/QUICL",
          "DTN7-ng/QUICL",
          "DTN7-ng/QUICL",
          "DTN7-ng/QUICL",
          "DTN7-ng/QUICL",
          "DTN7-ng/QUICL",
          "DTN7-ng/QUICL",
          "DTN7-ng/QUICL",
          "DTN7-ng/QUICL",
          "DTN7-ng/QUICL",
          "DTN7-ng/QUICL",
          "DTN7-ng/QUICL",
          "DTN7-ng/QUICL",
          "DTN7-ng/QUICL",
          "DTN7-ng/QUICL",
          "DTN7-ng/QUICL",
          "DTN7-ng/QUICL",
          "DTN7-ng/QUICL",
          "DTN7-ng/QUICL",
          "DTN7-ng/QUICL",
          "DTN7-ng/QUICL",
          "DTN7-ng/QUICL",
          "DTN7-ng/QUICL",
          "DTN7-ng/QUICL",
          "DTN7-ng/QUICL",
          "DTN7-ng/QUICL",
          "DTN7-ng/QUICL",
          "DTN7-ng/QUICL",
          "DTN7-ng/QUICL",
          "DTN7-ng/QUICL",
          "DTN7-ng/QUICL",
          "DTN7-ng/QUICL",
          "DTN7-ng/QUICL",
          "DTN7-ng/QUICL",
          "DTN7-ng/QUICL",
          "DTN7-ng/QUICL",
          "DTN7-ng/QUICL",
          "DTN7-ng/QUICL",
          "DTN7-ng/QUICL",
          "DTN7-ng/QUICL",
          "DTN7-ng/QUICL",
          "DTN7-ng/QUICL",
          "DTN7-ng/QUICL",
          "DTN7-ng/QUICL",
          "DTN7-ng/MTCP"
         ],
         "x0": " ",
         "xaxis": "x2",
         "y": [
          101.29,
          100.327,
          1.261,
          99.102,
          97.745,
          96.796,
          95.66,
          94.56,
          93.595,
          92.436,
          91.059,
          90.163,
          1.246,
          87.96,
          86.715,
          85.759,
          84.627,
          83.401,
          82.475,
          81.239,
          80.322,
          79.077,
          1.171,
          77.931,
          76.891,
          75.549,
          74.649,
          73.39,
          72.327,
          71.296,
          70.491,
          69.005,
          0.954,
          67.641,
          66.675,
          65.549,
          64.624,
          63.616,
          62.687,
          61.31,
          60.161,
          1.309,
          58.953,
          57.729,
          56.826,
          55.439,
          54.38,
          53.577,
          52.547,
          51.198,
          50.025,
          1.005,
          48.728,
          47.712,
          46.85,
          45.456,
          44.495,
          43.475,
          42.722,
          41.658,
          40.217,
          1.023,
          38.79,
          37.714,
          36.578,
          35.83,
          34.54,
          33.433,
          32.682,
          31.254,
          30.061,
          0.983,
          28.756,
          28.067,
          26.664,
          25.682,
          24.488,
          23.429,
          22.125,
          20.995,
          1.164,
          20.064,
          19.062,
          17.703,
          16.833,
          16.099,
          15.048,
          13.46,
          12.277,
          11.108,
          1.019,
          10.049,
          8.823,
          7.752,
          6.749,
          5.746,
          4.843,
          3.482,
          2.261,
          1.233,
          3.186
         ],
         "y0": " ",
         "yaxis": "y2"
        },
        {
         "alignmentgroup": "True",
         "hovertemplate": "Loss (%)=30<br>Bundle Size=1 kB<br>Bundles=10<br>Software/CLP=%{x}<br>=%{y}<extra></extra>",
         "legendgroup": "30",
         "marker": {
          "color": "#00cc96"
         },
         "name": "30",
         "notched": false,
         "offsetgroup": "30",
         "orientation": "v",
         "showlegend": true,
         "type": "box",
         "x": [
          "DTN7-ng/QUICL",
          "DTN7-ng/QUICL",
          "DTN7-ng/QUICL",
          "DTN7-ng/QUICL",
          "DTN7-ng/QUICL",
          "DTN7-ng/QUICL",
          "DTN7-ng/QUICL"
         ],
         "x0": " ",
         "xaxis": "x5",
         "y": [
          0.566,
          0.508,
          0.572,
          0.496,
          0.587,
          0.499,
          0.579
         ],
         "y0": " ",
         "yaxis": "y5"
        },
        {
         "alignmentgroup": "True",
         "hovertemplate": "Loss (%)=30<br>Bundle Size=1 kB<br>Bundles=100<br>Software/CLP=%{x}<br>=%{y}<extra></extra>",
         "legendgroup": "30",
         "marker": {
          "color": "#00cc96"
         },
         "name": "30",
         "notched": false,
         "offsetgroup": "30",
         "orientation": "v",
         "showlegend": false,
         "type": "box",
         "x": [
          "DTN7-ng/QUICL",
          "DTN7-ng/QUICL",
          "DTN7-ng/QUICL",
          "DTN7-ng/QUICL",
          "DTN7-ng/QUICL",
          "DTN7-ng/QUICL",
          "DTN7-ng/QUICL",
          "DTN7-ng/QUICL",
          "DTN7-ng/QUICL",
          "DTN7-ng/QUICL",
          "DTN7-ng/QUICL",
          "DTN7-ng/QUICL",
          "DTN7-ng/QUICL",
          "DTN7-ng/QUICL",
          "DTN7-ng/QUICL",
          "DTN7-ng/QUICL",
          "DTN7-ng/QUICL",
          "DTN7-ng/QUICL",
          "DTN7-ng/QUICL",
          "DTN7-ng/QUICL",
          "DTN7-ng/QUICL",
          "DTN7-ng/QUICL",
          "DTN7-ng/QUICL",
          "DTN7-ng/QUICL",
          "DTN7-ng/QUICL",
          "DTN7-ng/QUICL",
          "DTN7-ng/QUICL",
          "DTN7-ng/QUICL",
          "DTN7-ng/QUICL",
          "DTN7-ng/QUICL",
          "DTN7-ng/QUICL",
          "DTN7-ng/QUICL",
          "DTN7-ng/QUICL",
          "DTN7-ng/QUICL",
          "DTN7-ng/QUICL",
          "DTN7-ng/QUICL",
          "DTN7-ng/QUICL",
          "DTN7-ng/QUICL",
          "DTN7-ng/QUICL",
          "DTN7-ng/QUICL",
          "DTN7-ng/QUICL",
          "DTN7-ng/QUICL",
          "DTN7-ng/QUICL",
          "DTN7-ng/QUICL",
          "DTN7-ng/QUICL",
          "DTN7-ng/QUICL",
          "DTN7-ng/QUICL",
          "DTN7-ng/QUICL",
          "DTN7-ng/QUICL",
          "DTN7-ng/QUICL",
          "DTN7-ng/QUICL",
          "DTN7-ng/QUICL",
          "DTN7-ng/QUICL",
          "DTN7-ng/QUICL",
          "DTN7-ng/QUICL",
          "DTN7-ng/QUICL",
          "DTN7-ng/QUICL",
          "DTN7-ng/QUICL",
          "DTN7-ng/QUICL",
          "DTN7-ng/QUICL",
          "DTN7-ng/QUICL",
          "DTN7-ng/QUICL",
          "DTN7-ng/QUICL",
          "DTN7-ng/QUICL",
          "DTN7-ng/QUICL",
          "DTN7-ng/QUICL",
          "DTN7-ng/QUICL",
          "DTN7-ng/QUICL",
          "DTN7-ng/QUICL",
          "DTN7-ng/QUICL",
          "DTN7-ng/QUICL",
          "DTN7-ng/QUICL",
          "DTN7-ng/QUICL",
          "DTN7-ng/QUICL",
          "DTN7-ng/QUICL",
          "DTN7-ng/QUICL",
          "DTN7-ng/QUICL",
          "DTN7-ng/QUICL",
          "DTN7-ng/QUICL",
          "DTN7-ng/QUICL",
          "DTN7-ng/QUICL",
          "DTN7-ng/QUICL",
          "DTN7-ng/QUICL",
          "DTN7-ng/QUICL",
          "DTN7-ng/QUICL",
          "DTN7-ng/QUICL",
          "DTN7-ng/QUICL",
          "DTN7-ng/QUICL",
          "DTN7-ng/QUICL",
          "DTN7-ng/QUICL",
          "DTN7-ng/QUICL",
          "DTN7-ng/QUICL",
          "DTN7-ng/QUICL",
          "DTN7-ng/QUICL",
          "DTN7-ng/QUICL",
          "DTN7-ng/QUICL",
          "DTN7-ng/QUICL",
          "DTN7-ng/QUICL",
          "DTN7-ng/QUICL",
          "DTN7-ng/QUICL"
         ],
         "x0": " ",
         "xaxis": "x6",
         "y": [
          99.47,
          98.429,
          97.235,
          0.095,
          96.028,
          94.991,
          93.822,
          92.731,
          91.627,
          90.533,
          89.414,
          88.345,
          87.253,
          0.147,
          86.019,
          84.921,
          83.843,
          82.727,
          81.608,
          80.498,
          79.429,
          78.3,
          77.203,
          0.123,
          76.024,
          74.925,
          73.818,
          72.69,
          71.654,
          70.485,
          69.412,
          68.276,
          0.202,
          67.103,
          65.979,
          64.912,
          63.771,
          62.81,
          61.573,
          60.517,
          59.533,
          58.253,
          0.171,
          57.059,
          55.954,
          54.886,
          53.775,
          52.673,
          51.572,
          50.467,
          49.334,
          48.237,
          0.104,
          47.03,
          46.016,
          44.842,
          43.814,
          42.647,
          41.532,
          40.448,
          39.316,
          38.237,
          0.228,
          37.005,
          35.905,
          34.83,
          33.706,
          32.599,
          31.499,
          30.431,
          29.291,
          0.166,
          28.067,
          26.986,
          25.88,
          24.814,
          23.684,
          22.579,
          21.504,
          20.366,
          19.272,
          0.151,
          18.092,
          16.988,
          15.861,
          14.753,
          13.656,
          12.579,
          11.449,
          10.438,
          9.249,
          0.178,
          8.07,
          6.944,
          5.842,
          4.742,
          3.665,
          2.587,
          1.464,
          0.365
         ],
         "y0": " ",
         "yaxis": "y6"
        },
        {
         "alignmentgroup": "True",
         "hovertemplate": "Loss (%)=30<br>Bundle Size=100 kB<br>Bundles=10<br>Software/CLP=%{x}<br>=%{y}<extra></extra>",
         "legendgroup": "30",
         "marker": {
          "color": "#00cc96"
         },
         "name": "30",
         "notched": false,
         "offsetgroup": "30",
         "orientation": "v",
         "showlegend": false,
         "type": "box",
         "x": [
          "DTN7-ng/QUICL",
          "DTN7-ng/QUICL",
          "DTN7-ng/QUICL",
          "DTN7-ng/QUICL",
          "DTN7-ng/QUICL",
          "DTN7-ng/QUICL",
          "DTN7-ng/QUICL",
          "DTN7-ng/QUICL",
          "DTN7-ng/QUICL",
          "DTN7-ng/QUICL"
         ],
         "x0": " ",
         "xaxis": "x3",
         "y": [
          2.599,
          2.483,
          4.547,
          6.814,
          5.711,
          5.217,
          5.792,
          6.589,
          11.405,
          10.409
         ],
         "y0": " ",
         "yaxis": "y3"
        },
        {
         "alignmentgroup": "True",
         "hovertemplate": "Loss (%)=30<br>Bundle Size=100 kB<br>Bundles=100<br>Software/CLP=%{x}<br>=%{y}<extra></extra>",
         "legendgroup": "30",
         "marker": {
          "color": "#00cc96"
         },
         "name": "30",
         "notched": false,
         "offsetgroup": "30",
         "orientation": "v",
         "showlegend": false,
         "type": "box",
         "x": [
          "DTN7-ng/QUICL",
          "DTN7-ng/QUICL",
          "DTN7-ng/QUICL",
          "DTN7-ng/QUICL",
          "DTN7-ng/QUICL",
          "DTN7-ng/QUICL",
          "DTN7-ng/QUICL",
          "DTN7-ng/QUICL",
          "DTN7-ng/QUICL",
          "DTN7-ng/QUICL",
          "DTN7-ng/QUICL",
          "DTN7-ng/QUICL",
          "DTN7-ng/QUICL",
          "DTN7-ng/QUICL",
          "DTN7-ng/QUICL",
          "DTN7-ng/QUICL",
          "DTN7-ng/QUICL",
          "DTN7-ng/QUICL",
          "DTN7-ng/QUICL",
          "DTN7-ng/QUICL",
          "DTN7-ng/QUICL",
          "DTN7-ng/QUICL",
          "DTN7-ng/QUICL",
          "DTN7-ng/QUICL",
          "DTN7-ng/QUICL",
          "DTN7-ng/QUICL",
          "DTN7-ng/QUICL",
          "DTN7-ng/QUICL",
          "DTN7-ng/QUICL",
          "DTN7-ng/QUICL",
          "DTN7-ng/QUICL",
          "DTN7-ng/QUICL",
          "DTN7-ng/QUICL",
          "DTN7-ng/QUICL",
          "DTN7-ng/QUICL",
          "DTN7-ng/QUICL",
          "DTN7-ng/QUICL",
          "DTN7-ng/QUICL",
          "DTN7-ng/QUICL",
          "DTN7-ng/QUICL",
          "DTN7-ng/QUICL",
          "DTN7-ng/QUICL",
          "DTN7-ng/QUICL",
          "DTN7-ng/QUICL",
          "DTN7-ng/QUICL",
          "DTN7-ng/QUICL",
          "DTN7-ng/QUICL",
          "DTN7-ng/QUICL",
          "DTN7-ng/QUICL",
          "DTN7-ng/QUICL",
          "DTN7-ng/QUICL",
          "DTN7-ng/QUICL",
          "DTN7-ng/QUICL",
          "DTN7-ng/QUICL",
          "DTN7-ng/QUICL",
          "DTN7-ng/QUICL",
          "DTN7-ng/QUICL",
          "DTN7-ng/QUICL",
          "DTN7-ng/QUICL",
          "DTN7-ng/QUICL",
          "DTN7-ng/QUICL",
          "DTN7-ng/QUICL",
          "DTN7-ng/QUICL",
          "DTN7-ng/QUICL",
          "DTN7-ng/QUICL",
          "DTN7-ng/QUICL",
          "DTN7-ng/QUICL",
          "DTN7-ng/QUICL",
          "DTN7-ng/QUICL",
          "DTN7-ng/QUICL",
          "DTN7-ng/QUICL",
          "DTN7-ng/QUICL",
          "DTN7-ng/QUICL",
          "DTN7-ng/QUICL",
          "DTN7-ng/QUICL",
          "DTN7-ng/QUICL",
          "DTN7-ng/QUICL",
          "DTN7-ng/QUICL",
          "DTN7-ng/QUICL",
          "DTN7-ng/QUICL",
          "DTN7-ng/QUICL",
          "DTN7-ng/QUICL",
          "DTN7-ng/QUICL",
          "DTN7-ng/QUICL",
          "DTN7-ng/QUICL",
          "DTN7-ng/QUICL",
          "DTN7-ng/QUICL",
          "DTN7-ng/QUICL",
          "DTN7-ng/QUICL",
          "DTN7-ng/QUICL",
          "DTN7-ng/QUICL",
          "DTN7-ng/QUICL",
          "DTN7-ng/QUICL",
          "DTN7-ng/QUICL",
          "DTN7-ng/QUICL",
          "DTN7-ng/QUICL",
          "DTN7-ng/QUICL",
          "DTN7-ng/QUICL",
          "DTN7-ng/QUICL",
          "DTN7-ng/QUICL"
         ],
         "x0": " ",
         "xaxis": "x4",
         "y": [
          120.179,
          120.044,
          119.419,
          0.416,
          119.695,
          119.468,
          118.695,
          119.318,
          118.799,
          117.497,
          117.297,
          116.762,
          117.12,
          1.633,
          115.732,
          113.348,
          111.877,
          112.266,
          111.162,
          109.7,
          110.865,
          108.562,
          104.863,
          2.602,
          107.936,
          103.714,
          102.8,
          99.809,
          101.451,
          94.4,
          96.501,
          93.892,
          97.037,
          1.879,
          88.176,
          91.867,
          89.423,
          92.601,
          85.57,
          86.446,
          84.309,
          85.936,
          2.139,
          87.467,
          75.938,
          74.939,
          75.736,
          72.117,
          70.978,
          70.812,
          74.748,
          68.707,
          2.513,
          68.805,
          68.338,
          64.266,
          62.828,
          68.114,
          61.526,
          56.177,
          56.362,
          53.313,
          1.93,
          53.857,
          55.085,
          51.746,
          49.779,
          47.848,
          46.312,
          46.142,
          45.914,
          47.23,
          2.833,
          41.001,
          38.243,
          36.795,
          37.403,
          34.503,
          32.801,
          33.59,
          32.745,
          30.535,
          3.818,
          31.259,
          29.777,
          29.215,
          24.991,
          25.547,
          23.982,
          18.914,
          15.953,
          3.744,
          13.093,
          11.421,
          10.44,
          8.812,
          8.269,
          5.914,
          4.698,
          3.897
         ],
         "y0": " ",
         "yaxis": "y4"
        },
        {
         "alignmentgroup": "True",
         "hovertemplate": "Loss (%)=30<br>Bundle Size=1 MB<br>Bundles=100<br>Software/CLP=%{x}<br>=%{y}<extra></extra>",
         "legendgroup": "30",
         "marker": {
          "color": "#00cc96"
         },
         "name": "30",
         "notched": false,
         "offsetgroup": "30",
         "orientation": "v",
         "showlegend": false,
         "type": "box",
         "x": [
          "DTN7-ng/QUICL",
          "DTN7-ng/QUICL",
          "DTN7-ng/QUICL",
          "DTN7-ng/QUICL",
          "DTN7-ng/QUICL",
          "DTN7-ng/QUICL",
          "DTN7-ng/QUICL",
          "DTN7-ng/QUICL",
          "DTN7-ng/QUICL",
          "DTN7-ng/QUICL",
          "DTN7-ng/QUICL",
          "DTN7-ng/QUICL",
          "DTN7-ng/QUICL",
          "DTN7-ng/QUICL",
          "DTN7-ng/QUICL",
          "DTN7-ng/QUICL",
          "DTN7-ng/QUICL",
          "DTN7-ng/QUICL",
          "DTN7-ng/QUICL",
          "DTN7-ng/QUICL",
          "DTN7-ng/QUICL",
          "DTN7-ng/QUICL",
          "DTN7-ng/QUICL",
          "DTN7-ng/QUICL",
          "DTN7-ng/QUICL",
          "DTN7-ng/QUICL",
          "DTN7-ng/QUICL",
          "DTN7-ng/QUICL",
          "DTN7-ng/QUICL",
          "DTN7-ng/QUICL",
          "DTN7-ng/QUICL",
          "DTN7-ng/QUICL",
          "DTN7-ng/QUICL",
          "DTN7-ng/QUICL",
          "DTN7-ng/QUICL",
          "DTN7-ng/QUICL",
          "DTN7-ng/QUICL",
          "DTN7-ng/QUICL",
          "DTN7-ng/QUICL",
          "DTN7-ng/QUICL",
          "DTN7-ng/QUICL",
          "DTN7-ng/QUICL",
          "DTN7-ng/QUICL",
          "DTN7-ng/QUICL",
          "DTN7-ng/QUICL",
          "DTN7-ng/QUICL",
          "DTN7-ng/QUICL",
          "DTN7-ng/QUICL",
          "DTN7-ng/QUICL",
          "DTN7-ng/QUICL",
          "DTN7-ng/QUICL",
          "DTN7-ng/QUICL",
          "DTN7-ng/QUICL",
          "DTN7-ng/QUICL",
          "DTN7-ng/QUICL",
          "DTN7-ng/QUICL",
          "DTN7-ng/QUICL",
          "DTN7-ng/QUICL",
          "DTN7-ng/QUICL",
          "DTN7-ng/QUICL",
          "DTN7-ng/QUICL",
          "DTN7-ng/QUICL",
          "DTN7-ng/QUICL",
          "DTN7-ng/QUICL",
          "DTN7-ng/QUICL",
          "DTN7-ng/QUICL",
          "DTN7-ng/QUICL",
          "DTN7-ng/QUICL",
          "DTN7-ng/QUICL",
          "DTN7-ng/QUICL",
          "DTN7-ng/QUICL",
          "DTN7-ng/QUICL",
          "DTN7-ng/QUICL",
          "DTN7-ng/QUICL",
          "DTN7-ng/QUICL",
          "DTN7-ng/QUICL",
          "DTN7-ng/QUICL",
          "DTN7-ng/QUICL",
          "DTN7-ng/QUICL",
          "DTN7-ng/QUICL",
          "DTN7-ng/QUICL",
          "DTN7-ng/QUICL",
          "DTN7-ng/QUICL",
          "DTN7-ng/QUICL",
          "DTN7-ng/QUICL",
          "DTN7-ng/QUICL",
          "DTN7-ng/QUICL",
          "DTN7-ng/QUICL",
          "DTN7-ng/QUICL",
          "DTN7-ng/QUICL",
          "DTN7-ng/QUICL",
          "DTN7-ng/QUICL",
          "DTN7-ng/QUICL",
          "DTN7-ng/QUICL",
          "DTN7-ng/QUICL",
          "DTN7-ng/QUICL",
          "DTN7-ng/QUICL",
          "DTN7-ng/QUICL",
          "DTN7-ng/QUICL",
          "DTN7-ng/QUICL"
         ],
         "x0": " ",
         "xaxis": "x2",
         "y": [
          1176.737,
          1176.491,
          1179.391,
          1178.161,
          1175.33,
          1175.732,
          1175.112,
          836.105,
          1174.323,
          1150.986,
          1173.414,
          1175.898,
          1150.704,
          1178.362,
          1175.083,
          1176.127,
          1147.81,
          922.543,
          1145.059,
          1149.101,
          1177.648,
          1173.349,
          1171.324,
          1174.58,
          1173.578,
          1175.026,
          910.336,
          1172.923,
          1170.685,
          1148.102,
          1172.652,
          1171.699,
          1146.463,
          1173.166,
          1172.459,
          1148.248,
          977.665,
          1174.126,
          1147.492,
          1147.133,
          1169.877,
          1146.745,
          1168.852,
          1173.308,
          1145.821,
          1136.855,
          1057.443,
          1146.119,
          1136.508,
          1142.792,
          1126.601,
          1142.74,
          1129.362,
          1122.367,
          1146.349,
          1144.145,
          1015.515,
          1135.955,
          1136.189,
          1121.326,
          1134.829,
          1124.665,
          1123.626,
          1130.378,
          1090.92,
          1123.909,
          1047.915,
          1144.146,
          1095.498,
          1138.518,
          1110.815,
          1116.486,
          1097.677,
          1121.059,
          1117.226,
          975.024,
          1083.632,
          1117.446,
          1092.355,
          1122.407,
          1063.514,
          1084.458,
          1094.435,
          1065.478,
          1104.295,
          1025.948,
          1065.17,
          1067.693,
          1092.492,
          1089.5,
          1092.072,
          1110.997,
          1046.961,
          989.396,
          1027.655,
          1053.195,
          1057.139,
          1029.504,
          982.64,
          1040.326
         ],
         "y0": " ",
         "yaxis": "y2"
        },
        {
         "alignmentgroup": "True",
         "hovertemplate": "Loss (%)=50<br>Bundle Size=1 kB<br>Bundles=100<br>Software/CLP=%{x}<br>=%{y}<extra></extra>",
         "legendgroup": "50",
         "marker": {
          "color": "#ab63fa"
         },
         "name": "50",
         "notched": false,
         "offsetgroup": "50",
         "orientation": "v",
         "showlegend": true,
         "type": "box",
         "x": [
          "DTN7-ng/QUICL",
          "DTN7-ng/QUICL",
          "DTN7-ng/QUICL",
          "DTN7-ng/QUICL",
          "DTN7-ng/QUICL",
          "DTN7-ng/QUICL",
          "DTN7-ng/QUICL",
          "DTN7-ng/QUICL",
          "DTN7-ng/QUICL",
          "DTN7-ng/QUICL",
          "DTN7-ng/QUICL",
          "DTN7-ng/QUICL",
          "DTN7-ng/QUICL",
          "DTN7-ng/QUICL",
          "DTN7-ng/QUICL",
          "DTN7-ng/QUICL",
          "DTN7-ng/QUICL",
          "DTN7-ng/QUICL",
          "DTN7-ng/QUICL",
          "DTN7-ng/QUICL",
          "DTN7-ng/QUICL",
          "DTN7-ng/QUICL",
          "DTN7-ng/QUICL",
          "DTN7-ng/QUICL",
          "DTN7-ng/QUICL",
          "DTN7-ng/QUICL",
          "DTN7-ng/QUICL",
          "DTN7-ng/QUICL",
          "DTN7-ng/QUICL",
          "DTN7-ng/QUICL",
          "DTN7-ng/QUICL",
          "DTN7-ng/QUICL",
          "DTN7-ng/QUICL",
          "DTN7-ng/QUICL",
          "DTN7-ng/QUICL",
          "DTN7-ng/QUICL",
          "DTN7-ng/QUICL",
          "DTN7-ng/QUICL",
          "DTN7-ng/QUICL",
          "DTN7-ng/QUICL",
          "DTN7-ng/QUICL",
          "DTN7-ng/QUICL"
         ],
         "x0": " ",
         "xaxis": "x6",
         "y": [
          0.433,
          0.896,
          0.192,
          0.673,
          0.06,
          0.147,
          1.161,
          36.046,
          34.949,
          32.753,
          31.64,
          30.586,
          29.403,
          28.385,
          27.284,
          0.11,
          26.09,
          25.111,
          23.827,
          22.722,
          21.84,
          20.517,
          19.414,
          18.312,
          17.273,
          0.188,
          16.221,
          14.978,
          13.804,
          13.251,
          11.679,
          10.493,
          9.396,
          8.297,
          7.272,
          0.092,
          6.069,
          5.263,
          3.778,
          3.43,
          1.667,
          0.471
         ],
         "y0": " ",
         "yaxis": "y6"
        }
       ],
       "layout": {
        "annotations": [
         {
          "showarrow": false,
          "text": "Bundles: 10",
          "x": 0.24,
          "xanchor": "center",
          "xref": "paper",
          "y": 0.9999999999999998,
          "yanchor": "bottom",
          "yref": "paper"
         },
         {
          "showarrow": false,
          "text": "Bundles: 100",
          "x": 0.74,
          "xanchor": "center",
          "xref": "paper",
          "y": 0.9999999999999998,
          "yanchor": "bottom",
          "yref": "paper"
         },
         {
          "showarrow": false,
          "text": "1 MB",
          "textangle": 90,
          "x": 0.98,
          "xanchor": "left",
          "xref": "paper",
          "y": 0.15666666666666665,
          "yanchor": "middle",
          "yref": "paper"
         },
         {
          "showarrow": false,
          "text": "100 kB",
          "textangle": 90,
          "x": 0.98,
          "xanchor": "left",
          "xref": "paper",
          "y": 0.4999999999999999,
          "yanchor": "middle",
          "yref": "paper"
         },
         {
          "showarrow": false,
          "text": "1 kB",
          "textangle": 90,
          "x": 0.98,
          "xanchor": "left",
          "xref": "paper",
          "y": 0.8433333333333332,
          "yanchor": "middle",
          "yref": "paper"
         },
         {
          "font": {
           "size": 14
          },
          "text": "Runtime (s)",
          "textangle": -90,
          "x": -0.05,
          "xref": "paper",
          "y": 0.35,
          "yref": "paper"
         }
        ],
        "boxmode": "group",
        "legend": {
         "title": {
          "text": "Loss (%)"
         },
         "tracegroupgap": 0
        },
        "margin": {
         "b": 0,
         "l": 0,
         "r": 0,
         "t": 20
        },
        "template": {
         "data": {
          "bar": [
           {
            "error_x": {
             "color": "#2a3f5f"
            },
            "error_y": {
             "color": "#2a3f5f"
            },
            "marker": {
             "line": {
              "color": "#E5ECF6",
              "width": 0.5
             },
             "pattern": {
              "fillmode": "overlay",
              "size": 10,
              "solidity": 0.2
             }
            },
            "type": "bar"
           }
          ],
          "barpolar": [
           {
            "marker": {
             "line": {
              "color": "#E5ECF6",
              "width": 0.5
             },
             "pattern": {
              "fillmode": "overlay",
              "size": 10,
              "solidity": 0.2
             }
            },
            "type": "barpolar"
           }
          ],
          "carpet": [
           {
            "aaxis": {
             "endlinecolor": "#2a3f5f",
             "gridcolor": "white",
             "linecolor": "white",
             "minorgridcolor": "white",
             "startlinecolor": "#2a3f5f"
            },
            "baxis": {
             "endlinecolor": "#2a3f5f",
             "gridcolor": "white",
             "linecolor": "white",
             "minorgridcolor": "white",
             "startlinecolor": "#2a3f5f"
            },
            "type": "carpet"
           }
          ],
          "choropleth": [
           {
            "colorbar": {
             "outlinewidth": 0,
             "ticks": ""
            },
            "type": "choropleth"
           }
          ],
          "contour": [
           {
            "colorbar": {
             "outlinewidth": 0,
             "ticks": ""
            },
            "colorscale": [
             [
              0,
              "#0d0887"
             ],
             [
              0.1111111111111111,
              "#46039f"
             ],
             [
              0.2222222222222222,
              "#7201a8"
             ],
             [
              0.3333333333333333,
              "#9c179e"
             ],
             [
              0.4444444444444444,
              "#bd3786"
             ],
             [
              0.5555555555555556,
              "#d8576b"
             ],
             [
              0.6666666666666666,
              "#ed7953"
             ],
             [
              0.7777777777777778,
              "#fb9f3a"
             ],
             [
              0.8888888888888888,
              "#fdca26"
             ],
             [
              1,
              "#f0f921"
             ]
            ],
            "type": "contour"
           }
          ],
          "contourcarpet": [
           {
            "colorbar": {
             "outlinewidth": 0,
             "ticks": ""
            },
            "type": "contourcarpet"
           }
          ],
          "heatmap": [
           {
            "colorbar": {
             "outlinewidth": 0,
             "ticks": ""
            },
            "colorscale": [
             [
              0,
              "#0d0887"
             ],
             [
              0.1111111111111111,
              "#46039f"
             ],
             [
              0.2222222222222222,
              "#7201a8"
             ],
             [
              0.3333333333333333,
              "#9c179e"
             ],
             [
              0.4444444444444444,
              "#bd3786"
             ],
             [
              0.5555555555555556,
              "#d8576b"
             ],
             [
              0.6666666666666666,
              "#ed7953"
             ],
             [
              0.7777777777777778,
              "#fb9f3a"
             ],
             [
              0.8888888888888888,
              "#fdca26"
             ],
             [
              1,
              "#f0f921"
             ]
            ],
            "type": "heatmap"
           }
          ],
          "heatmapgl": [
           {
            "colorbar": {
             "outlinewidth": 0,
             "ticks": ""
            },
            "colorscale": [
             [
              0,
              "#0d0887"
             ],
             [
              0.1111111111111111,
              "#46039f"
             ],
             [
              0.2222222222222222,
              "#7201a8"
             ],
             [
              0.3333333333333333,
              "#9c179e"
             ],
             [
              0.4444444444444444,
              "#bd3786"
             ],
             [
              0.5555555555555556,
              "#d8576b"
             ],
             [
              0.6666666666666666,
              "#ed7953"
             ],
             [
              0.7777777777777778,
              "#fb9f3a"
             ],
             [
              0.8888888888888888,
              "#fdca26"
             ],
             [
              1,
              "#f0f921"
             ]
            ],
            "type": "heatmapgl"
           }
          ],
          "histogram": [
           {
            "marker": {
             "pattern": {
              "fillmode": "overlay",
              "size": 10,
              "solidity": 0.2
             }
            },
            "type": "histogram"
           }
          ],
          "histogram2d": [
           {
            "colorbar": {
             "outlinewidth": 0,
             "ticks": ""
            },
            "colorscale": [
             [
              0,
              "#0d0887"
             ],
             [
              0.1111111111111111,
              "#46039f"
             ],
             [
              0.2222222222222222,
              "#7201a8"
             ],
             [
              0.3333333333333333,
              "#9c179e"
             ],
             [
              0.4444444444444444,
              "#bd3786"
             ],
             [
              0.5555555555555556,
              "#d8576b"
             ],
             [
              0.6666666666666666,
              "#ed7953"
             ],
             [
              0.7777777777777778,
              "#fb9f3a"
             ],
             [
              0.8888888888888888,
              "#fdca26"
             ],
             [
              1,
              "#f0f921"
             ]
            ],
            "type": "histogram2d"
           }
          ],
          "histogram2dcontour": [
           {
            "colorbar": {
             "outlinewidth": 0,
             "ticks": ""
            },
            "colorscale": [
             [
              0,
              "#0d0887"
             ],
             [
              0.1111111111111111,
              "#46039f"
             ],
             [
              0.2222222222222222,
              "#7201a8"
             ],
             [
              0.3333333333333333,
              "#9c179e"
             ],
             [
              0.4444444444444444,
              "#bd3786"
             ],
             [
              0.5555555555555556,
              "#d8576b"
             ],
             [
              0.6666666666666666,
              "#ed7953"
             ],
             [
              0.7777777777777778,
              "#fb9f3a"
             ],
             [
              0.8888888888888888,
              "#fdca26"
             ],
             [
              1,
              "#f0f921"
             ]
            ],
            "type": "histogram2dcontour"
           }
          ],
          "mesh3d": [
           {
            "colorbar": {
             "outlinewidth": 0,
             "ticks": ""
            },
            "type": "mesh3d"
           }
          ],
          "parcoords": [
           {
            "line": {
             "colorbar": {
              "outlinewidth": 0,
              "ticks": ""
             }
            },
            "type": "parcoords"
           }
          ],
          "pie": [
           {
            "automargin": true,
            "type": "pie"
           }
          ],
          "scatter": [
           {
            "fillpattern": {
             "fillmode": "overlay",
             "size": 10,
             "solidity": 0.2
            },
            "type": "scatter"
           }
          ],
          "scatter3d": [
           {
            "line": {
             "colorbar": {
              "outlinewidth": 0,
              "ticks": ""
             }
            },
            "marker": {
             "colorbar": {
              "outlinewidth": 0,
              "ticks": ""
             }
            },
            "type": "scatter3d"
           }
          ],
          "scattercarpet": [
           {
            "marker": {
             "colorbar": {
              "outlinewidth": 0,
              "ticks": ""
             }
            },
            "type": "scattercarpet"
           }
          ],
          "scattergeo": [
           {
            "marker": {
             "colorbar": {
              "outlinewidth": 0,
              "ticks": ""
             }
            },
            "type": "scattergeo"
           }
          ],
          "scattergl": [
           {
            "marker": {
             "colorbar": {
              "outlinewidth": 0,
              "ticks": ""
             }
            },
            "type": "scattergl"
           }
          ],
          "scattermapbox": [
           {
            "marker": {
             "colorbar": {
              "outlinewidth": 0,
              "ticks": ""
             }
            },
            "type": "scattermapbox"
           }
          ],
          "scatterpolar": [
           {
            "marker": {
             "colorbar": {
              "outlinewidth": 0,
              "ticks": ""
             }
            },
            "type": "scatterpolar"
           }
          ],
          "scatterpolargl": [
           {
            "marker": {
             "colorbar": {
              "outlinewidth": 0,
              "ticks": ""
             }
            },
            "type": "scatterpolargl"
           }
          ],
          "scatterternary": [
           {
            "marker": {
             "colorbar": {
              "outlinewidth": 0,
              "ticks": ""
             }
            },
            "type": "scatterternary"
           }
          ],
          "surface": [
           {
            "colorbar": {
             "outlinewidth": 0,
             "ticks": ""
            },
            "colorscale": [
             [
              0,
              "#0d0887"
             ],
             [
              0.1111111111111111,
              "#46039f"
             ],
             [
              0.2222222222222222,
              "#7201a8"
             ],
             [
              0.3333333333333333,
              "#9c179e"
             ],
             [
              0.4444444444444444,
              "#bd3786"
             ],
             [
              0.5555555555555556,
              "#d8576b"
             ],
             [
              0.6666666666666666,
              "#ed7953"
             ],
             [
              0.7777777777777778,
              "#fb9f3a"
             ],
             [
              0.8888888888888888,
              "#fdca26"
             ],
             [
              1,
              "#f0f921"
             ]
            ],
            "type": "surface"
           }
          ],
          "table": [
           {
            "cells": {
             "fill": {
              "color": "#EBF0F8"
             },
             "line": {
              "color": "white"
             }
            },
            "header": {
             "fill": {
              "color": "#C8D4E3"
             },
             "line": {
              "color": "white"
             }
            },
            "type": "table"
           }
          ]
         },
         "layout": {
          "annotationdefaults": {
           "arrowcolor": "#2a3f5f",
           "arrowhead": 0,
           "arrowwidth": 1
          },
          "autotypenumbers": "strict",
          "coloraxis": {
           "colorbar": {
            "outlinewidth": 0,
            "ticks": ""
           }
          },
          "colorscale": {
           "diverging": [
            [
             0,
             "#8e0152"
            ],
            [
             0.1,
             "#c51b7d"
            ],
            [
             0.2,
             "#de77ae"
            ],
            [
             0.3,
             "#f1b6da"
            ],
            [
             0.4,
             "#fde0ef"
            ],
            [
             0.5,
             "#f7f7f7"
            ],
            [
             0.6,
             "#e6f5d0"
            ],
            [
             0.7,
             "#b8e186"
            ],
            [
             0.8,
             "#7fbc41"
            ],
            [
             0.9,
             "#4d9221"
            ],
            [
             1,
             "#276419"
            ]
           ],
           "sequential": [
            [
             0,
             "#0d0887"
            ],
            [
             0.1111111111111111,
             "#46039f"
            ],
            [
             0.2222222222222222,
             "#7201a8"
            ],
            [
             0.3333333333333333,
             "#9c179e"
            ],
            [
             0.4444444444444444,
             "#bd3786"
            ],
            [
             0.5555555555555556,
             "#d8576b"
            ],
            [
             0.6666666666666666,
             "#ed7953"
            ],
            [
             0.7777777777777778,
             "#fb9f3a"
            ],
            [
             0.8888888888888888,
             "#fdca26"
            ],
            [
             1,
             "#f0f921"
            ]
           ],
           "sequentialminus": [
            [
             0,
             "#0d0887"
            ],
            [
             0.1111111111111111,
             "#46039f"
            ],
            [
             0.2222222222222222,
             "#7201a8"
            ],
            [
             0.3333333333333333,
             "#9c179e"
            ],
            [
             0.4444444444444444,
             "#bd3786"
            ],
            [
             0.5555555555555556,
             "#d8576b"
            ],
            [
             0.6666666666666666,
             "#ed7953"
            ],
            [
             0.7777777777777778,
             "#fb9f3a"
            ],
            [
             0.8888888888888888,
             "#fdca26"
            ],
            [
             1,
             "#f0f921"
            ]
           ]
          },
          "colorway": [
           "#636efa",
           "#EF553B",
           "#00cc96",
           "#ab63fa",
           "#FFA15A",
           "#19d3f3",
           "#FF6692",
           "#B6E880",
           "#FF97FF",
           "#FECB52"
          ],
          "font": {
           "color": "#2a3f5f"
          },
          "geo": {
           "bgcolor": "white",
           "lakecolor": "white",
           "landcolor": "#E5ECF6",
           "showlakes": true,
           "showland": true,
           "subunitcolor": "white"
          },
          "hoverlabel": {
           "align": "left"
          },
          "hovermode": "closest",
          "mapbox": {
           "style": "light"
          },
          "paper_bgcolor": "white",
          "plot_bgcolor": "#E5ECF6",
          "polar": {
           "angularaxis": {
            "gridcolor": "white",
            "linecolor": "white",
            "ticks": ""
           },
           "bgcolor": "#E5ECF6",
           "radialaxis": {
            "gridcolor": "white",
            "linecolor": "white",
            "ticks": ""
           }
          },
          "scene": {
           "xaxis": {
            "backgroundcolor": "#E5ECF6",
            "gridcolor": "white",
            "gridwidth": 2,
            "linecolor": "white",
            "showbackground": true,
            "ticks": "",
            "zerolinecolor": "white"
           },
           "yaxis": {
            "backgroundcolor": "#E5ECF6",
            "gridcolor": "white",
            "gridwidth": 2,
            "linecolor": "white",
            "showbackground": true,
            "ticks": "",
            "zerolinecolor": "white"
           },
           "zaxis": {
            "backgroundcolor": "#E5ECF6",
            "gridcolor": "white",
            "gridwidth": 2,
            "linecolor": "white",
            "showbackground": true,
            "ticks": "",
            "zerolinecolor": "white"
           }
          },
          "shapedefaults": {
           "line": {
            "color": "#2a3f5f"
           }
          },
          "ternary": {
           "aaxis": {
            "gridcolor": "white",
            "linecolor": "white",
            "ticks": ""
           },
           "baxis": {
            "gridcolor": "white",
            "linecolor": "white",
            "ticks": ""
           },
           "bgcolor": "#E5ECF6",
           "caxis": {
            "gridcolor": "white",
            "linecolor": "white",
            "ticks": ""
           }
          },
          "title": {
           "x": 0.05
          },
          "xaxis": {
           "automargin": true,
           "gridcolor": "white",
           "linecolor": "white",
           "ticks": "",
           "title": {
            "standoff": 15
           },
           "zerolinecolor": "white",
           "zerolinewidth": 2
          },
          "yaxis": {
           "automargin": true,
           "gridcolor": "white",
           "linecolor": "white",
           "ticks": "",
           "title": {
            "standoff": 15
           },
           "zerolinecolor": "white",
           "zerolinewidth": 2
          }
         }
        },
        "xaxis": {
         "anchor": "y",
         "categoryarray": [
          "Serval",
          "IBR-DTN/TCPCL",
          "DTN7-rs/MTCP",
          "DTN7-rs/TCPCL",
          "DTN7-rs/HTTP",
          "DTN7-ng/MTCP",
          "DTN7-ng/QUICL"
         ],
         "categoryorder": "array",
         "domain": [
          0,
          0.48
         ],
         "title": {
          "text": "Software/CLP"
         }
        },
        "xaxis2": {
         "anchor": "y2",
         "categoryarray": [
          "Serval",
          "IBR-DTN/TCPCL",
          "DTN7-rs/MTCP",
          "DTN7-rs/TCPCL",
          "DTN7-rs/HTTP",
          "DTN7-ng/MTCP",
          "DTN7-ng/QUICL"
         ],
         "categoryorder": "array",
         "domain": [
          0.5,
          0.98
         ],
         "matches": "x",
         "title": {
          "text": "Software/CLP"
         }
        },
        "xaxis3": {
         "anchor": "y3",
         "domain": [
          0,
          0.48
         ],
         "matches": "x",
         "showticklabels": false
        },
        "xaxis4": {
         "anchor": "y4",
         "domain": [
          0.5,
          0.98
         ],
         "matches": "x",
         "showticklabels": false
        },
        "xaxis5": {
         "anchor": "y5",
         "domain": [
          0,
          0.48
         ],
         "matches": "x",
         "showticklabels": false
        },
        "xaxis6": {
         "anchor": "y6",
         "domain": [
          0.5,
          0.98
         ],
         "matches": "x",
         "showticklabels": false
        },
        "yaxis": {
         "anchor": "x",
         "domain": [
          0,
          0.3133333333333333
         ],
         "title": {
          "text": ""
         }
        },
        "yaxis2": {
         "anchor": "x2",
         "domain": [
          0,
          0.3133333333333333
         ],
         "matches": "y",
         "showticklabels": false
        },
        "yaxis3": {
         "anchor": "x3",
         "domain": [
          0.34333333333333327,
          0.6566666666666665
         ],
         "matches": "y",
         "title": {
          "text": ""
         }
        },
        "yaxis4": {
         "anchor": "x4",
         "domain": [
          0.34333333333333327,
          0.6566666666666665
         ],
         "matches": "y",
         "showticklabels": false
        },
        "yaxis5": {
         "anchor": "x5",
         "domain": [
          0.6866666666666665,
          0.9999999999999998
         ],
         "matches": "y",
         "title": {
          "text": ""
         }
        },
        "yaxis6": {
         "anchor": "x6",
         "domain": [
          0.6866666666666665,
          0.9999999999999998
         ],
         "matches": "y",
         "showticklabels": false
        }
       }
      },
      "text/html": [
       "<div>                            <div id=\"e4154ae0-03da-455d-b3be-6524475bd038\" class=\"plotly-graph-div\" style=\"height:525px; width:100%;\"></div>            <script type=\"text/javascript\">                require([\"plotly\"], function(Plotly) {                    window.PLOTLYENV=window.PLOTLYENV || {};                                    if (document.getElementById(\"e4154ae0-03da-455d-b3be-6524475bd038\")) {                    Plotly.newPlot(                        \"e4154ae0-03da-455d-b3be-6524475bd038\",                        [{\"alignmentgroup\":\"True\",\"hovertemplate\":\"Loss (%)=0<br>Bundle Size=1 kB<br>Bundles=10<br>Software/CLP=%{x}<br>=%{y}<extra></extra>\",\"legendgroup\":\"0\",\"marker\":{\"color\":\"#636efa\"},\"name\":\"0\",\"notched\":false,\"offsetgroup\":\"0\",\"orientation\":\"v\",\"showlegend\":true,\"x\":[\"DTN7-ng/QUICL\",\"DTN7-ng/QUICL\",\"DTN7-ng/QUICL\",\"DTN7-ng/QUICL\",\"DTN7-ng/QUICL\",\"DTN7-ng/QUICL\",\"DTN7-ng/QUICL\",\"DTN7-ng/QUICL\",\"DTN7-ng/QUICL\",\"DTN7-ng/QUICL\",\"DTN7-ng/MTCP\",\"DTN7-ng/MTCP\",\"DTN7-ng/MTCP\",\"DTN7-ng/MTCP\",\"DTN7-ng/MTCP\",\"DTN7-ng/MTCP\",\"DTN7-ng/MTCP\",\"DTN7-ng/MTCP\",\"DTN7-ng/MTCP\",\"DTN7-ng/MTCP\"],\"x0\":\" \",\"xaxis\":\"x5\",\"y\":[0.681,0.678,0.674,0.674,0.672,0.67,0.666,0.665,0.658,0.664,0.184,0.182,0.182,0.179,0.179,0.174,0.17,0.166,0.168,0.16],\"y0\":\" \",\"yaxis\":\"y5\",\"type\":\"box\"},{\"alignmentgroup\":\"True\",\"hovertemplate\":\"Loss (%)=0<br>Bundle Size=1 kB<br>Bundles=100<br>Software/CLP=%{x}<br>=%{y}<extra></extra>\",\"legendgroup\":\"0\",\"marker\":{\"color\":\"#636efa\"},\"name\":\"0\",\"notched\":false,\"offsetgroup\":\"0\",\"orientation\":\"v\",\"showlegend\":false,\"x\":[\"DTN7-ng/QUICL\",\"DTN7-ng/QUICL\",\"DTN7-ng/QUICL\",\"DTN7-ng/QUICL\",\"DTN7-ng/QUICL\",\"DTN7-ng/QUICL\",\"DTN7-ng/QUICL\",\"DTN7-ng/QUICL\",\"DTN7-ng/QUICL\",\"DTN7-ng/QUICL\",\"DTN7-ng/QUICL\",\"DTN7-ng/QUICL\",\"DTN7-ng/QUICL\",\"DTN7-ng/QUICL\",\"DTN7-ng/QUICL\",\"DTN7-ng/QUICL\",\"DTN7-ng/QUICL\",\"DTN7-ng/QUICL\",\"DTN7-ng/QUICL\",\"DTN7-ng/QUICL\",\"DTN7-ng/QUICL\",\"DTN7-ng/QUICL\",\"DTN7-ng/QUICL\",\"DTN7-ng/QUICL\",\"DTN7-ng/QUICL\",\"DTN7-ng/QUICL\",\"DTN7-ng/QUICL\",\"DTN7-ng/QUICL\",\"DTN7-ng/QUICL\",\"DTN7-ng/QUICL\",\"DTN7-ng/QUICL\",\"DTN7-ng/QUICL\",\"DTN7-ng/QUICL\",\"DTN7-ng/QUICL\",\"DTN7-ng/QUICL\",\"DTN7-ng/QUICL\",\"DTN7-ng/QUICL\",\"DTN7-ng/QUICL\",\"DTN7-ng/QUICL\",\"DTN7-ng/QUICL\",\"DTN7-ng/QUICL\",\"DTN7-ng/QUICL\",\"DTN7-ng/QUICL\",\"DTN7-ng/QUICL\",\"DTN7-ng/QUICL\",\"DTN7-ng/QUICL\",\"DTN7-ng/QUICL\",\"DTN7-ng/QUICL\",\"DTN7-ng/QUICL\",\"DTN7-ng/QUICL\",\"DTN7-ng/QUICL\",\"DTN7-ng/QUICL\",\"DTN7-ng/QUICL\",\"DTN7-ng/QUICL\",\"DTN7-ng/QUICL\",\"DTN7-ng/QUICL\",\"DTN7-ng/QUICL\",\"DTN7-ng/QUICL\",\"DTN7-ng/QUICL\",\"DTN7-ng/QUICL\",\"DTN7-ng/QUICL\",\"DTN7-ng/QUICL\",\"DTN7-ng/QUICL\",\"DTN7-ng/QUICL\",\"DTN7-ng/QUICL\",\"DTN7-ng/QUICL\",\"DTN7-ng/QUICL\",\"DTN7-ng/QUICL\",\"DTN7-ng/QUICL\",\"DTN7-ng/QUICL\",\"DTN7-ng/QUICL\",\"DTN7-ng/QUICL\",\"DTN7-ng/QUICL\",\"DTN7-ng/QUICL\",\"DTN7-ng/QUICL\",\"DTN7-ng/QUICL\",\"DTN7-ng/QUICL\",\"DTN7-ng/QUICL\",\"DTN7-ng/QUICL\",\"DTN7-ng/QUICL\",\"DTN7-ng/QUICL\",\"DTN7-ng/QUICL\",\"DTN7-ng/QUICL\",\"DTN7-ng/QUICL\",\"DTN7-ng/QUICL\",\"DTN7-ng/QUICL\",\"DTN7-ng/QUICL\",\"DTN7-ng/QUICL\",\"DTN7-ng/QUICL\",\"DTN7-ng/QUICL\",\"DTN7-ng/QUICL\",\"DTN7-ng/QUICL\",\"DTN7-ng/QUICL\",\"DTN7-ng/QUICL\",\"DTN7-ng/QUICL\",\"DTN7-ng/QUICL\",\"DTN7-ng/QUICL\",\"DTN7-ng/QUICL\",\"DTN7-ng/QUICL\",\"DTN7-ng/QUICL\",\"DTN7-ng/MTCP\",\"DTN7-ng/MTCP\",\"DTN7-ng/MTCP\",\"DTN7-ng/MTCP\",\"DTN7-ng/MTCP\",\"DTN7-ng/MTCP\",\"DTN7-ng/MTCP\",\"DTN7-ng/MTCP\",\"DTN7-ng/MTCP\",\"DTN7-ng/MTCP\",\"DTN7-ng/MTCP\",\"DTN7-ng/MTCP\",\"DTN7-ng/MTCP\",\"DTN7-ng/MTCP\",\"DTN7-ng/MTCP\",\"DTN7-ng/MTCP\",\"DTN7-ng/MTCP\",\"DTN7-ng/MTCP\",\"DTN7-ng/MTCP\",\"DTN7-ng/MTCP\",\"DTN7-ng/MTCP\",\"DTN7-ng/MTCP\",\"DTN7-ng/MTCP\",\"DTN7-ng/MTCP\",\"DTN7-ng/MTCP\",\"DTN7-ng/MTCP\",\"DTN7-ng/MTCP\",\"DTN7-ng/MTCP\",\"DTN7-ng/MTCP\",\"DTN7-ng/MTCP\",\"DTN7-ng/MTCP\",\"DTN7-ng/MTCP\",\"DTN7-ng/MTCP\",\"DTN7-ng/MTCP\",\"DTN7-ng/MTCP\",\"DTN7-ng/MTCP\",\"DTN7-ng/MTCP\",\"DTN7-ng/MTCP\",\"DTN7-ng/MTCP\",\"DTN7-ng/MTCP\",\"DTN7-ng/MTCP\",\"DTN7-ng/MTCP\",\"DTN7-ng/MTCP\",\"DTN7-ng/MTCP\",\"DTN7-ng/MTCP\",\"DTN7-ng/MTCP\",\"DTN7-ng/MTCP\",\"DTN7-ng/MTCP\",\"DTN7-ng/MTCP\",\"DTN7-ng/MTCP\",\"DTN7-ng/MTCP\",\"DTN7-ng/MTCP\",\"DTN7-ng/MTCP\",\"DTN7-ng/MTCP\",\"DTN7-ng/MTCP\",\"DTN7-ng/MTCP\",\"DTN7-ng/MTCP\",\"DTN7-ng/MTCP\",\"DTN7-ng/MTCP\",\"DTN7-ng/MTCP\",\"DTN7-ng/MTCP\",\"DTN7-ng/MTCP\",\"DTN7-ng/MTCP\",\"DTN7-ng/MTCP\",\"DTN7-ng/MTCP\",\"DTN7-ng/MTCP\",\"DTN7-ng/MTCP\",\"DTN7-ng/MTCP\",\"DTN7-ng/MTCP\",\"DTN7-ng/MTCP\",\"DTN7-ng/MTCP\",\"DTN7-ng/MTCP\",\"DTN7-ng/MTCP\",\"DTN7-ng/MTCP\",\"DTN7-ng/MTCP\",\"DTN7-ng/MTCP\",\"DTN7-ng/MTCP\",\"DTN7-ng/MTCP\",\"DTN7-ng/MTCP\",\"DTN7-ng/MTCP\",\"DTN7-ng/MTCP\",\"DTN7-ng/MTCP\",\"DTN7-ng/MTCP\",\"DTN7-ng/MTCP\",\"DTN7-ng/MTCP\",\"DTN7-ng/MTCP\",\"DTN7-ng/MTCP\",\"DTN7-ng/MTCP\",\"DTN7-ng/MTCP\",\"DTN7-ng/MTCP\",\"DTN7-ng/MTCP\",\"DTN7-ng/MTCP\",\"DTN7-ng/MTCP\",\"DTN7-ng/MTCP\",\"DTN7-ng/MTCP\",\"DTN7-ng/MTCP\",\"DTN7-ng/MTCP\",\"DTN7-ng/MTCP\",\"DTN7-ng/MTCP\",\"DTN7-ng/MTCP\"],\"x0\":\" \",\"xaxis\":\"x6\",\"y\":[99.402,98.292,97.19,0.034,95.991,94.887,93.787,92.685,91.581,90.49,89.372,88.274,0.12,87.07,85.969,84.87,83.762,82.656,81.559,80.456,79.356,78.258,0.102,77.051,75.944,74.848,73.754,72.642,71.536,70.435,69.337,68.231,0.083,67.029,65.932,64.817,63.72,62.613,61.526,60.415,59.315,58.207,0.07,57.005,55.901,54.797,53.702,52.597,51.487,50.391,49.287,48.2,0.052,46.989,45.88,44.779,43.674,42.577,41.479,40.366,39.261,0.135,38.061,36.958,35.856,34.755,33.653,32.552,31.45,30.344,29.239,0.112,28.042,26.934,25.831,24.736,23.628,22.534,21.426,20.314,19.215,0.103,18.022,16.913,15.814,14.708,13.601,12.486,11.409,10.301,9.195,0.086,7.996,6.889,5.794,4.695,3.592,2.483,1.373,0.273,99.24,0.074,98.034,96.926,95.831,94.717,93.634,92.531,91.429,90.331,89.22,0.05,88.012,86.905,85.803,84.701,83.607,82.499,81.393,80.297,79.193,0.03,77.99,76.888,75.784,74.684,73.579,72.476,71.369,70.276,0.128,69.069,67.967,66.867,65.758,64.654,63.554,62.451,61.346,60.251,0.111,59.043,57.944,56.834,55.732,54.628,53.529,52.423,51.327,50.225,0.089,49.017,47.914,46.812,45.719,44.608,43.504,42.408,41.302,40.198,0.069,38.997,37.894,36.778,35.681,34.578,33.474,32.374,31.275,0.152,30.066,28.963,27.87,26.762,25.666,24.559,23.461,22.351,21.255,0.141,20.056,18.943,17.862,16.746,15.64,14.539,13.435,12.327,11.236,0.119,10.029,8.93,7.823,6.716,5.605,4.528,3.399,2.303,1.204,0.093],\"y0\":\" \",\"yaxis\":\"y6\",\"type\":\"box\"},{\"alignmentgroup\":\"True\",\"hovertemplate\":\"Loss (%)=0<br>Bundle Size=100 kB<br>Bundles=10<br>Software/CLP=%{x}<br>=%{y}<extra></extra>\",\"legendgroup\":\"0\",\"marker\":{\"color\":\"#636efa\"},\"name\":\"0\",\"notched\":false,\"offsetgroup\":\"0\",\"orientation\":\"v\",\"showlegend\":false,\"x\":[\"DTN7-ng/QUICL\",\"DTN7-ng/QUICL\",\"DTN7-ng/QUICL\",\"DTN7-ng/QUICL\",\"DTN7-ng/QUICL\",\"DTN7-ng/QUICL\",\"DTN7-ng/QUICL\",\"DTN7-ng/QUICL\",\"DTN7-ng/QUICL\",\"DTN7-ng/QUICL\",\"DTN7-ng/MTCP\",\"DTN7-ng/MTCP\",\"DTN7-ng/MTCP\",\"DTN7-ng/MTCP\",\"DTN7-ng/MTCP\",\"DTN7-ng/MTCP\",\"DTN7-ng/MTCP\",\"DTN7-ng/MTCP\",\"DTN7-ng/MTCP\",\"DTN7-ng/MTCP\"],\"x0\":\" \",\"xaxis\":\"x3\",\"y\":[0.573,0.558,0.561,0.567,0.563,0.551,0.561,0.551,0.556,0.546,0.192,0.214,0.206,0.208,0.207,0.202,0.203,0.226,0.253,0.175],\"y0\":\" \",\"yaxis\":\"y3\",\"type\":\"box\"},{\"alignmentgroup\":\"True\",\"hovertemplate\":\"Loss (%)=0<br>Bundle Size=100 kB<br>Bundles=100<br>Software/CLP=%{x}<br>=%{y}<extra></extra>\",\"legendgroup\":\"0\",\"marker\":{\"color\":\"#636efa\"},\"name\":\"0\",\"notched\":false,\"offsetgroup\":\"0\",\"orientation\":\"v\",\"showlegend\":false,\"x\":[\"DTN7-ng/QUICL\",\"DTN7-ng/QUICL\",\"DTN7-ng/QUICL\",\"DTN7-ng/QUICL\",\"DTN7-ng/QUICL\",\"DTN7-ng/QUICL\",\"DTN7-ng/QUICL\",\"DTN7-ng/QUICL\",\"DTN7-ng/QUICL\",\"DTN7-ng/QUICL\",\"DTN7-ng/QUICL\",\"DTN7-ng/QUICL\",\"DTN7-ng/QUICL\",\"DTN7-ng/QUICL\",\"DTN7-ng/QUICL\",\"DTN7-ng/QUICL\",\"DTN7-ng/QUICL\",\"DTN7-ng/QUICL\",\"DTN7-ng/QUICL\",\"DTN7-ng/QUICL\",\"DTN7-ng/QUICL\",\"DTN7-ng/QUICL\",\"DTN7-ng/QUICL\",\"DTN7-ng/QUICL\",\"DTN7-ng/QUICL\",\"DTN7-ng/QUICL\",\"DTN7-ng/QUICL\",\"DTN7-ng/QUICL\",\"DTN7-ng/QUICL\",\"DTN7-ng/QUICL\",\"DTN7-ng/QUICL\",\"DTN7-ng/QUICL\",\"DTN7-ng/QUICL\",\"DTN7-ng/QUICL\",\"DTN7-ng/QUICL\",\"DTN7-ng/QUICL\",\"DTN7-ng/QUICL\",\"DTN7-ng/QUICL\",\"DTN7-ng/QUICL\",\"DTN7-ng/QUICL\",\"DTN7-ng/QUICL\",\"DTN7-ng/QUICL\",\"DTN7-ng/QUICL\",\"DTN7-ng/QUICL\",\"DTN7-ng/QUICL\",\"DTN7-ng/QUICL\",\"DTN7-ng/QUICL\",\"DTN7-ng/QUICL\",\"DTN7-ng/QUICL\",\"DTN7-ng/QUICL\",\"DTN7-ng/QUICL\",\"DTN7-ng/QUICL\",\"DTN7-ng/QUICL\",\"DTN7-ng/QUICL\",\"DTN7-ng/QUICL\",\"DTN7-ng/QUICL\",\"DTN7-ng/QUICL\",\"DTN7-ng/QUICL\",\"DTN7-ng/QUICL\",\"DTN7-ng/QUICL\",\"DTN7-ng/QUICL\",\"DTN7-ng/QUICL\",\"DTN7-ng/QUICL\",\"DTN7-ng/QUICL\",\"DTN7-ng/QUICL\",\"DTN7-ng/QUICL\",\"DTN7-ng/QUICL\",\"DTN7-ng/QUICL\",\"DTN7-ng/QUICL\",\"DTN7-ng/QUICL\",\"DTN7-ng/QUICL\",\"DTN7-ng/QUICL\",\"DTN7-ng/QUICL\",\"DTN7-ng/QUICL\",\"DTN7-ng/QUICL\",\"DTN7-ng/QUICL\",\"DTN7-ng/QUICL\",\"DTN7-ng/QUICL\",\"DTN7-ng/QUICL\",\"DTN7-ng/QUICL\",\"DTN7-ng/QUICL\",\"DTN7-ng/QUICL\",\"DTN7-ng/QUICL\",\"DTN7-ng/QUICL\",\"DTN7-ng/QUICL\",\"DTN7-ng/QUICL\",\"DTN7-ng/QUICL\",\"DTN7-ng/QUICL\",\"DTN7-ng/QUICL\",\"DTN7-ng/QUICL\",\"DTN7-ng/QUICL\",\"DTN7-ng/QUICL\",\"DTN7-ng/QUICL\",\"DTN7-ng/QUICL\",\"DTN7-ng/QUICL\",\"DTN7-ng/QUICL\",\"DTN7-ng/QUICL\",\"DTN7-ng/QUICL\",\"DTN7-ng/QUICL\",\"DTN7-ng/QUICL\",\"DTN7-ng/MTCP\",\"DTN7-ng/MTCP\",\"DTN7-ng/MTCP\",\"DTN7-ng/MTCP\",\"DTN7-ng/MTCP\",\"DTN7-ng/MTCP\",\"DTN7-ng/MTCP\",\"DTN7-ng/MTCP\",\"DTN7-ng/MTCP\",\"DTN7-ng/MTCP\",\"DTN7-ng/MTCP\",\"DTN7-ng/MTCP\",\"DTN7-ng/MTCP\",\"DTN7-ng/MTCP\",\"DTN7-ng/MTCP\",\"DTN7-ng/MTCP\",\"DTN7-ng/MTCP\",\"DTN7-ng/MTCP\",\"DTN7-ng/MTCP\",\"DTN7-ng/MTCP\",\"DTN7-ng/MTCP\",\"DTN7-ng/MTCP\",\"DTN7-ng/MTCP\",\"DTN7-ng/MTCP\",\"DTN7-ng/MTCP\",\"DTN7-ng/MTCP\",\"DTN7-ng/MTCP\",\"DTN7-ng/MTCP\",\"DTN7-ng/MTCP\",\"DTN7-ng/MTCP\",\"DTN7-ng/MTCP\",\"DTN7-ng/MTCP\",\"DTN7-ng/MTCP\",\"DTN7-ng/MTCP\",\"DTN7-ng/MTCP\",\"DTN7-ng/MTCP\",\"DTN7-ng/MTCP\",\"DTN7-ng/MTCP\",\"DTN7-ng/MTCP\",\"DTN7-ng/MTCP\",\"DTN7-ng/MTCP\",\"DTN7-ng/MTCP\",\"DTN7-ng/MTCP\",\"DTN7-ng/MTCP\",\"DTN7-ng/MTCP\",\"DTN7-ng/MTCP\",\"DTN7-ng/MTCP\",\"DTN7-ng/MTCP\",\"DTN7-ng/MTCP\",\"DTN7-ng/MTCP\",\"DTN7-ng/MTCP\",\"DTN7-ng/MTCP\",\"DTN7-ng/MTCP\",\"DTN7-ng/MTCP\",\"DTN7-ng/MTCP\",\"DTN7-ng/MTCP\",\"DTN7-ng/MTCP\",\"DTN7-ng/MTCP\",\"DTN7-ng/MTCP\",\"DTN7-ng/MTCP\",\"DTN7-ng/MTCP\",\"DTN7-ng/MTCP\",\"DTN7-ng/MTCP\",\"DTN7-ng/MTCP\",\"DTN7-ng/MTCP\",\"DTN7-ng/MTCP\",\"DTN7-ng/MTCP\",\"DTN7-ng/MTCP\",\"DTN7-ng/MTCP\",\"DTN7-ng/MTCP\",\"DTN7-ng/MTCP\",\"DTN7-ng/MTCP\",\"DTN7-ng/MTCP\",\"DTN7-ng/MTCP\",\"DTN7-ng/MTCP\",\"DTN7-ng/MTCP\",\"DTN7-ng/MTCP\",\"DTN7-ng/MTCP\",\"DTN7-ng/MTCP\",\"DTN7-ng/MTCP\",\"DTN7-ng/MTCP\",\"DTN7-ng/MTCP\",\"DTN7-ng/MTCP\",\"DTN7-ng/MTCP\",\"DTN7-ng/MTCP\",\"DTN7-ng/MTCP\",\"DTN7-ng/MTCP\",\"DTN7-ng/MTCP\",\"DTN7-ng/MTCP\",\"DTN7-ng/MTCP\",\"DTN7-ng/MTCP\",\"DTN7-ng/MTCP\",\"DTN7-ng/MTCP\",\"DTN7-ng/MTCP\",\"DTN7-ng/MTCP\",\"DTN7-ng/MTCP\",\"DTN7-ng/MTCP\",\"DTN7-ng/MTCP\",\"DTN7-ng/MTCP\",\"DTN7-ng/MTCP\"],\"x0\":\" \",\"xaxis\":\"x4\",\"y\":[99.492,98.381,97.28,0.115,96.079,94.972,93.863,92.766,91.67,90.562,89.466,88.361,87.247,0.098,86.056,84.954,83.85,82.754,81.652,80.542,79.45,78.342,77.237,0.091,76.036,74.935,73.829,72.72,71.623,70.523,69.418,68.324,67.219,0.069,66.016,64.915,63.819,62.698,61.601,60.495,59.418,58.296,0.145,57.084,55.982,54.883,53.783,52.672,51.573,50.475,49.379,48.268,0.14,47.065,45.965,44.862,43.761,42.66,41.569,40.459,39.353,38.258,0.119,37.044,35.947,34.829,33.734,32.632,31.538,30.432,29.333,28.221,0.11,26.999,25.927,24.818,23.717,22.603,21.507,20.407,19.325,0.192,18.105,17.005,15.892,14.79,13.686,12.599,11.49,10.386,9.277,0.179,8.078,6.965,5.876,4.775,3.665,2.563,1.461,0.357,99.253,0.089,98.046,96.942,95.848,94.744,93.643,92.545,91.429,90.332,89.233,0.074,88.023,86.926,85.82,84.719,83.625,82.515,81.423,80.319,0.167,79.106,78.004,76.904,75.8,74.697,73.607,72.496,71.398,70.289,0.145,69.085,67.979,66.883,65.78,64.681,63.58,62.476,61.369,60.264,0.151,59.064,57.961,56.861,55.769,54.659,53.557,52.454,51.355,50.251,0.119,49.045,47.953,46.841,45.748,44.635,43.539,42.441,41.332,40.223,0.102,39.012,37.927,36.809,35.713,34.641,33.513,32.419,31.298,0.183,30.099,29.006,27.893,26.789,25.692,24.591,23.488,22.379,21.281,0.164,20.071,18.973,17.876,16.771,15.666,14.567,13.468,12.369,11.26,0.145,10.058,8.952,7.849,6.754,5.645,4.544,3.439,2.343,1.237,0.133],\"y0\":\" \",\"yaxis\":\"y4\",\"type\":\"box\"},{\"alignmentgroup\":\"True\",\"hovertemplate\":\"Loss (%)=0<br>Bundle Size=1 MB<br>Bundles=10<br>Software/CLP=%{x}<br>=%{y}<extra></extra>\",\"legendgroup\":\"0\",\"marker\":{\"color\":\"#636efa\"},\"name\":\"0\",\"notched\":false,\"offsetgroup\":\"0\",\"orientation\":\"v\",\"showlegend\":false,\"x\":[\"DTN7-ng/QUICL\",\"DTN7-ng/QUICL\",\"DTN7-ng/QUICL\",\"DTN7-ng/QUICL\",\"DTN7-ng/QUICL\",\"DTN7-ng/QUICL\",\"DTN7-ng/QUICL\",\"DTN7-ng/QUICL\",\"DTN7-ng/QUICL\",\"DTN7-ng/QUICL\",\"DTN7-ng/MTCP\",\"DTN7-ng/MTCP\",\"DTN7-ng/MTCP\",\"DTN7-ng/MTCP\",\"DTN7-ng/MTCP\",\"DTN7-ng/MTCP\",\"DTN7-ng/MTCP\",\"DTN7-ng/MTCP\",\"DTN7-ng/MTCP\",\"DTN7-ng/MTCP\"],\"x0\":\" \",\"xaxis\":\"x\",\"y\":[0.656,0.712,0.732,0.723,0.711,0.727,0.716,0.729,0.706,0.714,0.288,0.546,0.463,0.353,0.343,0.336,0.333,0.324,0.361,1.272],\"y0\":\" \",\"yaxis\":\"y\",\"type\":\"box\"},{\"alignmentgroup\":\"True\",\"hovertemplate\":\"Loss (%)=0<br>Bundle Size=1 MB<br>Bundles=100<br>Software/CLP=%{x}<br>=%{y}<extra></extra>\",\"legendgroup\":\"0\",\"marker\":{\"color\":\"#636efa\"},\"name\":\"0\",\"notched\":false,\"offsetgroup\":\"0\",\"orientation\":\"v\",\"showlegend\":false,\"x\":[\"DTN7-ng/QUICL\",\"DTN7-ng/QUICL\",\"DTN7-ng/QUICL\",\"DTN7-ng/QUICL\",\"DTN7-ng/QUICL\",\"DTN7-ng/QUICL\",\"DTN7-ng/QUICL\",\"DTN7-ng/QUICL\",\"DTN7-ng/QUICL\",\"DTN7-ng/QUICL\",\"DTN7-ng/QUICL\",\"DTN7-ng/QUICL\",\"DTN7-ng/QUICL\",\"DTN7-ng/QUICL\",\"DTN7-ng/QUICL\",\"DTN7-ng/QUICL\",\"DTN7-ng/QUICL\",\"DTN7-ng/QUICL\",\"DTN7-ng/QUICL\",\"DTN7-ng/QUICL\",\"DTN7-ng/QUICL\",\"DTN7-ng/QUICL\",\"DTN7-ng/QUICL\",\"DTN7-ng/QUICL\",\"DTN7-ng/QUICL\",\"DTN7-ng/QUICL\",\"DTN7-ng/QUICL\",\"DTN7-ng/QUICL\",\"DTN7-ng/QUICL\",\"DTN7-ng/QUICL\",\"DTN7-ng/QUICL\",\"DTN7-ng/QUICL\",\"DTN7-ng/QUICL\",\"DTN7-ng/QUICL\",\"DTN7-ng/QUICL\",\"DTN7-ng/QUICL\",\"DTN7-ng/QUICL\",\"DTN7-ng/QUICL\",\"DTN7-ng/QUICL\",\"DTN7-ng/QUICL\",\"DTN7-ng/QUICL\",\"DTN7-ng/QUICL\",\"DTN7-ng/QUICL\",\"DTN7-ng/QUICL\",\"DTN7-ng/QUICL\",\"DTN7-ng/QUICL\",\"DTN7-ng/QUICL\",\"DTN7-ng/QUICL\",\"DTN7-ng/QUICL\",\"DTN7-ng/QUICL\",\"DTN7-ng/QUICL\",\"DTN7-ng/QUICL\",\"DTN7-ng/QUICL\",\"DTN7-ng/QUICL\",\"DTN7-ng/QUICL\",\"DTN7-ng/QUICL\",\"DTN7-ng/QUICL\",\"DTN7-ng/QUICL\",\"DTN7-ng/QUICL\",\"DTN7-ng/QUICL\",\"DTN7-ng/QUICL\",\"DTN7-ng/QUICL\",\"DTN7-ng/QUICL\",\"DTN7-ng/QUICL\",\"DTN7-ng/QUICL\",\"DTN7-ng/QUICL\",\"DTN7-ng/QUICL\",\"DTN7-ng/QUICL\",\"DTN7-ng/QUICL\",\"DTN7-ng/QUICL\",\"DTN7-ng/QUICL\",\"DTN7-ng/QUICL\",\"DTN7-ng/QUICL\",\"DTN7-ng/QUICL\",\"DTN7-ng/QUICL\",\"DTN7-ng/QUICL\",\"DTN7-ng/QUICL\",\"DTN7-ng/QUICL\",\"DTN7-ng/QUICL\",\"DTN7-ng/QUICL\",\"DTN7-ng/QUICL\",\"DTN7-ng/QUICL\",\"DTN7-ng/QUICL\",\"DTN7-ng/QUICL\",\"DTN7-ng/QUICL\",\"DTN7-ng/QUICL\",\"DTN7-ng/QUICL\",\"DTN7-ng/QUICL\",\"DTN7-ng/QUICL\",\"DTN7-ng/QUICL\",\"DTN7-ng/QUICL\",\"DTN7-ng/QUICL\",\"DTN7-ng/QUICL\",\"DTN7-ng/QUICL\",\"DTN7-ng/QUICL\",\"DTN7-ng/QUICL\",\"DTN7-ng/QUICL\",\"DTN7-ng/QUICL\",\"DTN7-ng/QUICL\",\"DTN7-ng/QUICL\",\"DTN7-ng/MTCP\",\"DTN7-ng/MTCP\",\"DTN7-ng/MTCP\",\"DTN7-ng/MTCP\",\"DTN7-ng/MTCP\",\"DTN7-ng/MTCP\",\"DTN7-ng/MTCP\",\"DTN7-ng/MTCP\",\"DTN7-ng/MTCP\",\"DTN7-ng/MTCP\",\"DTN7-ng/MTCP\",\"DTN7-ng/MTCP\",\"DTN7-ng/MTCP\",\"DTN7-ng/MTCP\",\"DTN7-ng/MTCP\",\"DTN7-ng/MTCP\",\"DTN7-ng/MTCP\",\"DTN7-ng/MTCP\",\"DTN7-ng/MTCP\",\"DTN7-ng/MTCP\",\"DTN7-ng/MTCP\",\"DTN7-ng/MTCP\",\"DTN7-ng/MTCP\",\"DTN7-ng/MTCP\",\"DTN7-ng/MTCP\",\"DTN7-ng/MTCP\",\"DTN7-ng/MTCP\",\"DTN7-ng/MTCP\",\"DTN7-ng/MTCP\",\"DTN7-ng/MTCP\",\"DTN7-ng/MTCP\",\"DTN7-ng/MTCP\",\"DTN7-ng/MTCP\",\"DTN7-ng/MTCP\",\"DTN7-ng/MTCP\",\"DTN7-ng/MTCP\",\"DTN7-ng/MTCP\",\"DTN7-ng/MTCP\",\"DTN7-ng/MTCP\",\"DTN7-ng/MTCP\",\"DTN7-ng/MTCP\",\"DTN7-ng/MTCP\",\"DTN7-ng/MTCP\",\"DTN7-ng/MTCP\",\"DTN7-ng/MTCP\",\"DTN7-ng/MTCP\",\"DTN7-ng/MTCP\",\"DTN7-ng/MTCP\",\"DTN7-ng/MTCP\",\"DTN7-ng/MTCP\",\"DTN7-ng/MTCP\",\"DTN7-ng/MTCP\",\"DTN7-ng/MTCP\",\"DTN7-ng/MTCP\",\"DTN7-ng/MTCP\",\"DTN7-ng/MTCP\",\"DTN7-ng/MTCP\",\"DTN7-ng/MTCP\",\"DTN7-ng/MTCP\",\"DTN7-ng/MTCP\",\"DTN7-ng/MTCP\",\"DTN7-ng/MTCP\",\"DTN7-ng/MTCP\",\"DTN7-ng/MTCP\",\"DTN7-ng/MTCP\",\"DTN7-ng/MTCP\",\"DTN7-ng/MTCP\",\"DTN7-ng/MTCP\",\"DTN7-ng/MTCP\",\"DTN7-ng/MTCP\",\"DTN7-ng/MTCP\",\"DTN7-ng/MTCP\",\"DTN7-ng/MTCP\",\"DTN7-ng/MTCP\",\"DTN7-ng/MTCP\",\"DTN7-ng/MTCP\",\"DTN7-ng/MTCP\",\"DTN7-ng/MTCP\",\"DTN7-ng/MTCP\",\"DTN7-ng/MTCP\",\"DTN7-ng/MTCP\",\"DTN7-ng/MTCP\",\"DTN7-ng/MTCP\",\"DTN7-ng/MTCP\",\"DTN7-ng/MTCP\",\"DTN7-ng/MTCP\",\"DTN7-ng/MTCP\",\"DTN7-ng/MTCP\",\"DTN7-ng/MTCP\",\"DTN7-ng/MTCP\",\"DTN7-ng/MTCP\",\"DTN7-ng/MTCP\",\"DTN7-ng/MTCP\",\"DTN7-ng/MTCP\",\"DTN7-ng/MTCP\",\"DTN7-ng/MTCP\",\"DTN7-ng/MTCP\",\"DTN7-ng/MTCP\",\"DTN7-ng/MTCP\",\"DTN7-ng/MTCP\"],\"x0\":\" \",\"xaxis\":\"x2\",\"y\":[99.598,98.582,0.354,97.335,96.208,95.114,94.038,92.979,91.888,90.741,89.642,88.53,0.43,87.308,86.239,85.106,84.013,82.904,81.83,80.737,79.633,0.523,78.414,77.3,76.187,75.092,73.964,72.911,71.79,70.66,69.579,0.516,68.383,67.259,66.205,65.095,63.98,62.87,61.745,60.678,59.584,0.47,58.346,57.24,56.137,55.039,53.943,52.82,51.754,50.665,49.539,0.433,48.355,47.238,46.131,45.032,43.902,42.836,41.717,40.661,0.526,39.408,38.319,37.203,36.096,34.995,33.866,32.809,31.68,30.62,0.524,29.405,28.298,27.193,26.085,24.971,23.862,22.748,21.661,20.566,0.475,19.355,18.293,17.14,16.035,14.897,13.822,12.727,11.633,0.566,10.421,9.318,8.209,7.151,6.017,4.917,3.804,2.683,1.602,0.493,0.299,99.281,98.201,97.094,96.017,94.885,93.777,92.672,91.587,0.74,90.383,89.276,88.142,87.028,85.97,84.867,83.78,82.661,81.542,0.624,80.369,79.233,78.132,77.015,75.938,74.853,73.72,72.658,71.568,0.428,70.303,69.184,68.105,67.037,65.882,64.799,63.707,62.61,61.52,0.389,60.322,59.179,58.1,56.986,55.887,54.806,53.694,52.571,51.498,0.392,50.269,49.156,48.064,46.977,45.87,44.765,43.661,42.55,0.515,41.341,40.23,39.172,38.012,36.907,35.806,34.713,33.611,32.538,0.429,31.327,30.227,29.139,28.01,26.916,25.814,24.73,23.619,22.498,0.425,21.289,20.192,19.099,17.957,16.881,15.782,14.678,13.604,12.489,0.426,11.255,10.167,9.093,7.976,6.881,5.772,4.692,3.564,0.497,2.336,1.28],\"y0\":\" \",\"yaxis\":\"y2\",\"type\":\"box\"},{\"alignmentgroup\":\"True\",\"hovertemplate\":\"Loss (%)=10<br>Bundle Size=1 kB<br>Bundles=10<br>Software/CLP=%{x}<br>=%{y}<extra></extra>\",\"legendgroup\":\"10\",\"marker\":{\"color\":\"#EF553B\"},\"name\":\"10\",\"notched\":false,\"offsetgroup\":\"10\",\"orientation\":\"v\",\"showlegend\":true,\"x\":[\"DTN7-ng/QUICL\",\"DTN7-ng/QUICL\",\"DTN7-ng/QUICL\",\"DTN7-ng/QUICL\",\"DTN7-ng/QUICL\",\"DTN7-ng/QUICL\",\"DTN7-ng/QUICL\",\"DTN7-ng/QUICL\",\"DTN7-ng/QUICL\",\"DTN7-ng/QUICL\"],\"x0\":\" \",\"xaxis\":\"x5\",\"y\":[0.79,0.791,0.783,0.782,0.778,0.776,0.775,0.784,0.769,0.771],\"y0\":\" \",\"yaxis\":\"y5\",\"type\":\"box\"},{\"alignmentgroup\":\"True\",\"hovertemplate\":\"Loss (%)=10<br>Bundle Size=1 kB<br>Bundles=100<br>Software/CLP=%{x}<br>=%{y}<extra></extra>\",\"legendgroup\":\"10\",\"marker\":{\"color\":\"#EF553B\"},\"name\":\"10\",\"notched\":false,\"offsetgroup\":\"10\",\"orientation\":\"v\",\"showlegend\":false,\"x\":[\"DTN7-ng/QUICL\",\"DTN7-ng/QUICL\",\"DTN7-ng/QUICL\",\"DTN7-ng/QUICL\",\"DTN7-ng/QUICL\",\"DTN7-ng/QUICL\",\"DTN7-ng/QUICL\",\"DTN7-ng/QUICL\",\"DTN7-ng/QUICL\",\"DTN7-ng/QUICL\",\"DTN7-ng/QUICL\",\"DTN7-ng/QUICL\",\"DTN7-ng/QUICL\",\"DTN7-ng/QUICL\",\"DTN7-ng/QUICL\",\"DTN7-ng/QUICL\",\"DTN7-ng/QUICL\",\"DTN7-ng/QUICL\",\"DTN7-ng/QUICL\",\"DTN7-ng/QUICL\",\"DTN7-ng/QUICL\",\"DTN7-ng/QUICL\",\"DTN7-ng/QUICL\",\"DTN7-ng/QUICL\",\"DTN7-ng/QUICL\",\"DTN7-ng/QUICL\",\"DTN7-ng/QUICL\",\"DTN7-ng/QUICL\",\"DTN7-ng/QUICL\",\"DTN7-ng/QUICL\",\"DTN7-ng/QUICL\",\"DTN7-ng/QUICL\",\"DTN7-ng/QUICL\",\"DTN7-ng/QUICL\",\"DTN7-ng/QUICL\",\"DTN7-ng/QUICL\",\"DTN7-ng/QUICL\",\"DTN7-ng/QUICL\",\"DTN7-ng/QUICL\",\"DTN7-ng/QUICL\",\"DTN7-ng/QUICL\",\"DTN7-ng/QUICL\",\"DTN7-ng/QUICL\",\"DTN7-ng/QUICL\",\"DTN7-ng/QUICL\",\"DTN7-ng/QUICL\",\"DTN7-ng/QUICL\",\"DTN7-ng/QUICL\",\"DTN7-ng/QUICL\",\"DTN7-ng/QUICL\",\"DTN7-ng/QUICL\",\"DTN7-ng/QUICL\",\"DTN7-ng/QUICL\",\"DTN7-ng/QUICL\",\"DTN7-ng/QUICL\",\"DTN7-ng/QUICL\",\"DTN7-ng/QUICL\",\"DTN7-ng/QUICL\",\"DTN7-ng/QUICL\",\"DTN7-ng/QUICL\",\"DTN7-ng/QUICL\",\"DTN7-ng/QUICL\",\"DTN7-ng/QUICL\",\"DTN7-ng/QUICL\",\"DTN7-ng/QUICL\",\"DTN7-ng/QUICL\",\"DTN7-ng/QUICL\",\"DTN7-ng/QUICL\",\"DTN7-ng/QUICL\",\"DTN7-ng/QUICL\",\"DTN7-ng/QUICL\",\"DTN7-ng/QUICL\",\"DTN7-ng/QUICL\",\"DTN7-ng/QUICL\",\"DTN7-ng/QUICL\",\"DTN7-ng/QUICL\",\"DTN7-ng/QUICL\",\"DTN7-ng/QUICL\",\"DTN7-ng/QUICL\",\"DTN7-ng/QUICL\",\"DTN7-ng/QUICL\",\"DTN7-ng/QUICL\",\"DTN7-ng/QUICL\",\"DTN7-ng/QUICL\",\"DTN7-ng/QUICL\",\"DTN7-ng/QUICL\",\"DTN7-ng/QUICL\",\"DTN7-ng/QUICL\",\"DTN7-ng/QUICL\",\"DTN7-ng/QUICL\",\"DTN7-ng/QUICL\",\"DTN7-ng/QUICL\",\"DTN7-ng/QUICL\",\"DTN7-ng/QUICL\",\"DTN7-ng/QUICL\",\"DTN7-ng/QUICL\",\"DTN7-ng/QUICL\",\"DTN7-ng/QUICL\",\"DTN7-ng/QUICL\",\"DTN7-ng/QUICL\",\"DTN7-ng/MTCP\",\"DTN7-ng/MTCP\",\"DTN7-ng/MTCP\",\"DTN7-ng/MTCP\",\"DTN7-ng/MTCP\",\"DTN7-ng/MTCP\",\"DTN7-ng/MTCP\",\"DTN7-ng/MTCP\",\"DTN7-ng/MTCP\",\"DTN7-ng/MTCP\",\"DTN7-ng/MTCP\",\"DTN7-ng/MTCP\",\"DTN7-ng/MTCP\",\"DTN7-ng/MTCP\",\"DTN7-ng/MTCP\",\"DTN7-ng/MTCP\",\"DTN7-ng/MTCP\",\"DTN7-ng/MTCP\",\"DTN7-ng/MTCP\",\"DTN7-ng/MTCP\",\"DTN7-ng/MTCP\",\"DTN7-ng/MTCP\",\"DTN7-ng/MTCP\",\"DTN7-ng/MTCP\",\"DTN7-ng/MTCP\",\"DTN7-ng/MTCP\",\"DTN7-ng/MTCP\",\"DTN7-ng/MTCP\",\"DTN7-ng/MTCP\",\"DTN7-ng/MTCP\",\"DTN7-ng/MTCP\",\"DTN7-ng/MTCP\",\"DTN7-ng/MTCP\",\"DTN7-ng/MTCP\",\"DTN7-ng/MTCP\",\"DTN7-ng/MTCP\",\"DTN7-ng/MTCP\",\"DTN7-ng/MTCP\",\"DTN7-ng/MTCP\",\"DTN7-ng/MTCP\",\"DTN7-ng/MTCP\",\"DTN7-ng/MTCP\",\"DTN7-ng/MTCP\",\"DTN7-ng/MTCP\",\"DTN7-ng/MTCP\",\"DTN7-ng/MTCP\",\"DTN7-ng/MTCP\",\"DTN7-ng/MTCP\",\"DTN7-ng/MTCP\",\"DTN7-ng/MTCP\",\"DTN7-ng/MTCP\",\"DTN7-ng/MTCP\",\"DTN7-ng/MTCP\",\"DTN7-ng/MTCP\",\"DTN7-ng/MTCP\",\"DTN7-ng/MTCP\",\"DTN7-ng/MTCP\",\"DTN7-ng/MTCP\",\"DTN7-ng/MTCP\",\"DTN7-ng/MTCP\",\"DTN7-ng/MTCP\",\"DTN7-ng/MTCP\",\"DTN7-ng/MTCP\",\"DTN7-ng/MTCP\",\"DTN7-ng/MTCP\",\"DTN7-ng/MTCP\",\"DTN7-ng/MTCP\",\"DTN7-ng/MTCP\",\"DTN7-ng/MTCP\",\"DTN7-ng/MTCP\",\"DTN7-ng/MTCP\",\"DTN7-ng/MTCP\",\"DTN7-ng/MTCP\",\"DTN7-ng/MTCP\",\"DTN7-ng/MTCP\",\"DTN7-ng/MTCP\",\"DTN7-ng/MTCP\",\"DTN7-ng/MTCP\",\"DTN7-ng/MTCP\",\"DTN7-ng/MTCP\",\"DTN7-ng/MTCP\",\"DTN7-ng/MTCP\",\"DTN7-ng/MTCP\",\"DTN7-ng/MTCP\",\"DTN7-ng/MTCP\",\"DTN7-ng/MTCP\",\"DTN7-ng/MTCP\",\"DTN7-ng/MTCP\",\"DTN7-ng/MTCP\",\"DTN7-ng/MTCP\",\"DTN7-ng/MTCP\",\"DTN7-ng/MTCP\",\"DTN7-ng/MTCP\",\"DTN7-ng/MTCP\",\"DTN7-ng/MTCP\",\"DTN7-ng/MTCP\",\"DTN7-ng/MTCP\",\"DTN7-ng/MTCP\",\"DTN7-ng/MTCP\",\"DTN7-ng/MTCP\"],\"x0\":\" \",\"xaxis\":\"x6\",\"y\":[99.718,98.616,97.52,96.406,95.308,94.202,0.05,93.0,91.893,90.831,89.692,88.596,87.494,86.396,85.287,0.233,84.082,82.987,81.879,80.774,79.675,78.574,77.463,76.372,75.267,0.117,74.091,72.964,71.861,70.759,69.655,68.549,67.45,66.375,65.241,0.101,64.038,62.943,61.844,60.751,59.625,58.529,57.429,56.318,55.225,0.085,54.026,52.92,51.826,50.712,49.641,48.515,47.406,46.305,45.202,0.066,43.999,42.893,41.79,40.692,39.585,38.484,37.392,36.28,0.153,35.07,33.973,32.874,31.77,30.667,29.568,28.492,27.371,26.258,0.141,25.052,23.953,22.855,21.743,20.641,19.54,18.443,17.334,16.24,0.121,15.033,13.927,12.847,11.719,10.633,9.519,8.425,7.311,6.269,0.101,5.006,3.902,2.802,1.698,0.595,99.241,0.079,98.037,96.926,95.832,94.729,93.626,92.535,91.428,90.33,89.215,0.065,88.009,86.908,85.801,84.704,83.601,82.498,81.403,80.309,79.197,0.044,77.986,76.888,75.795,74.695,73.583,72.475,71.376,70.274,0.126,69.07,67.972,66.868,65.763,64.662,63.561,62.455,61.363,60.244,0.112,59.04,57.947,56.842,55.74,54.64,53.537,52.43,51.349,50.231,0.1,49.028,47.93,46.822,45.719,44.616,43.518,42.411,41.311,40.206,0.08,39.006,37.902,36.8,35.692,34.817,33.492,32.39,31.286,30.184,0.066,28.987,27.89,26.781,25.679,24.578,23.482,22.364,21.27,0.16,20.065,18.967,17.865,16.763,15.87,14.555,13.457,12.356,11.254,0.163,10.049,8.947,7.844,6.984,5.639,4.561,3.43,2.327,1.226,0.127],\"y0\":\" \",\"yaxis\":\"y6\",\"type\":\"box\"},{\"alignmentgroup\":\"True\",\"hovertemplate\":\"Loss (%)=10<br>Bundle Size=100 kB<br>Bundles=10<br>Software/CLP=%{x}<br>=%{y}<extra></extra>\",\"legendgroup\":\"10\",\"marker\":{\"color\":\"#EF553B\"},\"name\":\"10\",\"notched\":false,\"offsetgroup\":\"10\",\"orientation\":\"v\",\"showlegend\":false,\"x\":[\"DTN7-ng/QUICL\",\"DTN7-ng/QUICL\",\"DTN7-ng/QUICL\",\"DTN7-ng/QUICL\",\"DTN7-ng/QUICL\",\"DTN7-ng/QUICL\",\"DTN7-ng/QUICL\",\"DTN7-ng/QUICL\",\"DTN7-ng/QUICL\",\"DTN7-ng/QUICL\",\"DTN7-ng/MTCP\",\"DTN7-ng/MTCP\",\"DTN7-ng/MTCP\",\"DTN7-ng/MTCP\",\"DTN7-ng/MTCP\",\"DTN7-ng/MTCP\",\"DTN7-ng/MTCP\"],\"x0\":\" \",\"xaxis\":\"x3\",\"y\":[1.049,1.11,1.091,1.097,1.113,1.086,1.146,1.069,1.071,1.222,0.487,0.284,0.216,0.258,1.371,0.752,0.677],\"y0\":\" \",\"yaxis\":\"y3\",\"type\":\"box\"},{\"alignmentgroup\":\"True\",\"hovertemplate\":\"Loss (%)=10<br>Bundle Size=100 kB<br>Bundles=100<br>Software/CLP=%{x}<br>=%{y}<extra></extra>\",\"legendgroup\":\"10\",\"marker\":{\"color\":\"#EF553B\"},\"name\":\"10\",\"notched\":false,\"offsetgroup\":\"10\",\"orientation\":\"v\",\"showlegend\":false,\"x\":[\"DTN7-ng/QUICL\",\"DTN7-ng/QUICL\",\"DTN7-ng/QUICL\",\"DTN7-ng/QUICL\",\"DTN7-ng/QUICL\",\"DTN7-ng/QUICL\",\"DTN7-ng/QUICL\",\"DTN7-ng/QUICL\",\"DTN7-ng/QUICL\",\"DTN7-ng/QUICL\",\"DTN7-ng/QUICL\",\"DTN7-ng/QUICL\",\"DTN7-ng/QUICL\",\"DTN7-ng/QUICL\",\"DTN7-ng/QUICL\",\"DTN7-ng/QUICL\",\"DTN7-ng/QUICL\",\"DTN7-ng/QUICL\",\"DTN7-ng/QUICL\",\"DTN7-ng/QUICL\",\"DTN7-ng/QUICL\",\"DTN7-ng/QUICL\",\"DTN7-ng/QUICL\",\"DTN7-ng/QUICL\",\"DTN7-ng/QUICL\",\"DTN7-ng/QUICL\",\"DTN7-ng/QUICL\",\"DTN7-ng/QUICL\",\"DTN7-ng/QUICL\",\"DTN7-ng/QUICL\",\"DTN7-ng/QUICL\",\"DTN7-ng/QUICL\",\"DTN7-ng/QUICL\",\"DTN7-ng/QUICL\",\"DTN7-ng/QUICL\",\"DTN7-ng/QUICL\",\"DTN7-ng/QUICL\",\"DTN7-ng/QUICL\",\"DTN7-ng/QUICL\",\"DTN7-ng/QUICL\",\"DTN7-ng/QUICL\",\"DTN7-ng/QUICL\",\"DTN7-ng/QUICL\",\"DTN7-ng/QUICL\",\"DTN7-ng/QUICL\",\"DTN7-ng/QUICL\",\"DTN7-ng/QUICL\",\"DTN7-ng/QUICL\",\"DTN7-ng/QUICL\",\"DTN7-ng/QUICL\",\"DTN7-ng/QUICL\",\"DTN7-ng/QUICL\",\"DTN7-ng/QUICL\",\"DTN7-ng/QUICL\",\"DTN7-ng/QUICL\",\"DTN7-ng/QUICL\",\"DTN7-ng/QUICL\",\"DTN7-ng/QUICL\",\"DTN7-ng/QUICL\",\"DTN7-ng/QUICL\",\"DTN7-ng/QUICL\",\"DTN7-ng/QUICL\",\"DTN7-ng/QUICL\",\"DTN7-ng/QUICL\",\"DTN7-ng/QUICL\",\"DTN7-ng/QUICL\",\"DTN7-ng/QUICL\",\"DTN7-ng/QUICL\",\"DTN7-ng/QUICL\",\"DTN7-ng/QUICL\",\"DTN7-ng/QUICL\",\"DTN7-ng/QUICL\",\"DTN7-ng/QUICL\",\"DTN7-ng/QUICL\",\"DTN7-ng/QUICL\",\"DTN7-ng/QUICL\",\"DTN7-ng/QUICL\",\"DTN7-ng/QUICL\",\"DTN7-ng/QUICL\",\"DTN7-ng/QUICL\",\"DTN7-ng/QUICL\",\"DTN7-ng/QUICL\",\"DTN7-ng/QUICL\",\"DTN7-ng/QUICL\",\"DTN7-ng/QUICL\",\"DTN7-ng/QUICL\",\"DTN7-ng/QUICL\",\"DTN7-ng/QUICL\",\"DTN7-ng/QUICL\",\"DTN7-ng/QUICL\",\"DTN7-ng/QUICL\",\"DTN7-ng/QUICL\",\"DTN7-ng/QUICL\",\"DTN7-ng/QUICL\",\"DTN7-ng/QUICL\",\"DTN7-ng/QUICL\",\"DTN7-ng/QUICL\",\"DTN7-ng/QUICL\",\"DTN7-ng/QUICL\",\"DTN7-ng/QUICL\",\"DTN7-ng/MTCP\",\"DTN7-ng/MTCP\",\"DTN7-ng/MTCP\",\"DTN7-ng/MTCP\",\"DTN7-ng/MTCP\",\"DTN7-ng/MTCP\",\"DTN7-ng/MTCP\",\"DTN7-ng/MTCP\",\"DTN7-ng/MTCP\",\"DTN7-ng/MTCP\",\"DTN7-ng/MTCP\",\"DTN7-ng/MTCP\",\"DTN7-ng/MTCP\",\"DTN7-ng/MTCP\",\"DTN7-ng/MTCP\",\"DTN7-ng/MTCP\",\"DTN7-ng/MTCP\",\"DTN7-ng/MTCP\",\"DTN7-ng/MTCP\",\"DTN7-ng/MTCP\",\"DTN7-ng/MTCP\",\"DTN7-ng/MTCP\",\"DTN7-ng/MTCP\",\"DTN7-ng/MTCP\",\"DTN7-ng/MTCP\",\"DTN7-ng/MTCP\",\"DTN7-ng/MTCP\",\"DTN7-ng/MTCP\"],\"x0\":\" \",\"xaxis\":\"x4\",\"y\":[99.657,98.575,97.465,96.341,0.151,95.129,94.039,92.924,91.956,90.74,89.63,88.575,87.512,86.314,0.147,85.13,83.986,82.944,81.841,80.711,79.617,78.501,77.384,76.4,0.133,75.078,74.008,72.865,71.765,70.665,69.577,68.564,67.361,66.303,0.168,65.085,64.106,62.969,61.783,60.681,59.551,58.463,57.338,0.235,56.123,55.057,53.919,52.907,51.722,50.706,49.523,48.413,47.324,0.217,46.242,45.194,43.917,42.824,41.778,40.654,39.513,38.527,37.335,0.163,36.211,34.982,33.949,32.776,31.708,30.593,29.482,28.402,27.302,0.138,26.204,24.956,23.864,22.749,21.638,20.549,19.46,18.499,17.25,0.278,16.081,14.949,13.853,12.766,11.676,10.549,9.433,8.316,0.202,7.218,6.041,4.993,3.848,2.755,1.617,0.513,0.103,0.199,1.864,1.163,0.762,0.832,0.168,0.444,0.428,21.031,18.326,16.92,16.293,14.762,13.929,12.614,11.806,0.624,10.374,9.238,8.199,7.571,5.803,5.394,3.979,2.647,1.331,1.192],\"y0\":\" \",\"yaxis\":\"y4\",\"type\":\"box\"},{\"alignmentgroup\":\"True\",\"hovertemplate\":\"Loss (%)=10<br>Bundle Size=1 MB<br>Bundles=10<br>Software/CLP=%{x}<br>=%{y}<extra></extra>\",\"legendgroup\":\"10\",\"marker\":{\"color\":\"#EF553B\"},\"name\":\"10\",\"notched\":false,\"offsetgroup\":\"10\",\"orientation\":\"v\",\"showlegend\":false,\"x\":[\"DTN7-ng/QUICL\",\"DTN7-ng/QUICL\",\"DTN7-ng/QUICL\",\"DTN7-ng/QUICL\",\"DTN7-ng/QUICL\",\"DTN7-ng/QUICL\",\"DTN7-ng/QUICL\",\"DTN7-ng/QUICL\",\"DTN7-ng/QUICL\",\"DTN7-ng/QUICL\",\"DTN7-ng/MTCP\",\"DTN7-ng/MTCP\",\"DTN7-ng/MTCP\",\"DTN7-ng/MTCP\",\"DTN7-ng/MTCP\",\"DTN7-ng/MTCP\"],\"x0\":\" \",\"xaxis\":\"x\",\"y\":[1.301,1.403,1.547,1.489,1.298,1.443,1.53,1.16,1.573,1.475,2.684,12.534,16.782,22.486,27.46,29.107],\"y0\":\" \",\"yaxis\":\"y\",\"type\":\"box\"},{\"alignmentgroup\":\"True\",\"hovertemplate\":\"Loss (%)=10<br>Bundle Size=1 MB<br>Bundles=100<br>Software/CLP=%{x}<br>=%{y}<extra></extra>\",\"legendgroup\":\"10\",\"marker\":{\"color\":\"#EF553B\"},\"name\":\"10\",\"notched\":false,\"offsetgroup\":\"10\",\"orientation\":\"v\",\"showlegend\":false,\"x\":[\"DTN7-ng/QUICL\",\"DTN7-ng/QUICL\",\"DTN7-ng/QUICL\",\"DTN7-ng/QUICL\",\"DTN7-ng/QUICL\",\"DTN7-ng/QUICL\",\"DTN7-ng/QUICL\",\"DTN7-ng/QUICL\",\"DTN7-ng/QUICL\",\"DTN7-ng/QUICL\",\"DTN7-ng/QUICL\",\"DTN7-ng/QUICL\",\"DTN7-ng/QUICL\",\"DTN7-ng/QUICL\",\"DTN7-ng/QUICL\",\"DTN7-ng/QUICL\",\"DTN7-ng/QUICL\",\"DTN7-ng/QUICL\",\"DTN7-ng/QUICL\",\"DTN7-ng/QUICL\",\"DTN7-ng/QUICL\",\"DTN7-ng/QUICL\",\"DTN7-ng/QUICL\",\"DTN7-ng/QUICL\",\"DTN7-ng/QUICL\",\"DTN7-ng/QUICL\",\"DTN7-ng/QUICL\",\"DTN7-ng/QUICL\",\"DTN7-ng/QUICL\",\"DTN7-ng/QUICL\",\"DTN7-ng/QUICL\",\"DTN7-ng/QUICL\",\"DTN7-ng/QUICL\",\"DTN7-ng/QUICL\",\"DTN7-ng/QUICL\",\"DTN7-ng/QUICL\",\"DTN7-ng/QUICL\",\"DTN7-ng/QUICL\",\"DTN7-ng/QUICL\",\"DTN7-ng/QUICL\",\"DTN7-ng/QUICL\",\"DTN7-ng/QUICL\",\"DTN7-ng/QUICL\",\"DTN7-ng/QUICL\",\"DTN7-ng/QUICL\",\"DTN7-ng/QUICL\",\"DTN7-ng/QUICL\",\"DTN7-ng/QUICL\",\"DTN7-ng/QUICL\",\"DTN7-ng/QUICL\",\"DTN7-ng/QUICL\",\"DTN7-ng/QUICL\",\"DTN7-ng/QUICL\",\"DTN7-ng/QUICL\",\"DTN7-ng/QUICL\",\"DTN7-ng/QUICL\",\"DTN7-ng/QUICL\",\"DTN7-ng/QUICL\",\"DTN7-ng/QUICL\",\"DTN7-ng/QUICL\",\"DTN7-ng/QUICL\",\"DTN7-ng/QUICL\",\"DTN7-ng/QUICL\",\"DTN7-ng/QUICL\",\"DTN7-ng/QUICL\",\"DTN7-ng/QUICL\",\"DTN7-ng/QUICL\",\"DTN7-ng/QUICL\",\"DTN7-ng/QUICL\",\"DTN7-ng/QUICL\",\"DTN7-ng/QUICL\",\"DTN7-ng/QUICL\",\"DTN7-ng/QUICL\",\"DTN7-ng/QUICL\",\"DTN7-ng/QUICL\",\"DTN7-ng/QUICL\",\"DTN7-ng/QUICL\",\"DTN7-ng/QUICL\",\"DTN7-ng/QUICL\",\"DTN7-ng/QUICL\",\"DTN7-ng/QUICL\",\"DTN7-ng/QUICL\",\"DTN7-ng/QUICL\",\"DTN7-ng/QUICL\",\"DTN7-ng/QUICL\",\"DTN7-ng/QUICL\",\"DTN7-ng/QUICL\",\"DTN7-ng/QUICL\",\"DTN7-ng/QUICL\",\"DTN7-ng/QUICL\",\"DTN7-ng/QUICL\",\"DTN7-ng/QUICL\",\"DTN7-ng/QUICL\",\"DTN7-ng/QUICL\",\"DTN7-ng/QUICL\",\"DTN7-ng/QUICL\",\"DTN7-ng/QUICL\",\"DTN7-ng/QUICL\",\"DTN7-ng/QUICL\",\"DTN7-ng/QUICL\",\"DTN7-ng/MTCP\"],\"x0\":\" \",\"xaxis\":\"x2\",\"y\":[101.29,100.327,1.261,99.102,97.745,96.796,95.66,94.56,93.595,92.436,91.059,90.163,1.246,87.96,86.715,85.759,84.627,83.401,82.475,81.239,80.322,79.077,1.171,77.931,76.891,75.549,74.649,73.39,72.327,71.296,70.491,69.005,0.954,67.641,66.675,65.549,64.624,63.616,62.687,61.31,60.161,1.309,58.953,57.729,56.826,55.439,54.38,53.577,52.547,51.198,50.025,1.005,48.728,47.712,46.85,45.456,44.495,43.475,42.722,41.658,40.217,1.023,38.79,37.714,36.578,35.83,34.54,33.433,32.682,31.254,30.061,0.983,28.756,28.067,26.664,25.682,24.488,23.429,22.125,20.995,1.164,20.064,19.062,17.703,16.833,16.099,15.048,13.46,12.277,11.108,1.019,10.049,8.823,7.752,6.749,5.746,4.843,3.482,2.261,1.233,3.186],\"y0\":\" \",\"yaxis\":\"y2\",\"type\":\"box\"},{\"alignmentgroup\":\"True\",\"hovertemplate\":\"Loss (%)=30<br>Bundle Size=1 kB<br>Bundles=10<br>Software/CLP=%{x}<br>=%{y}<extra></extra>\",\"legendgroup\":\"30\",\"marker\":{\"color\":\"#00cc96\"},\"name\":\"30\",\"notched\":false,\"offsetgroup\":\"30\",\"orientation\":\"v\",\"showlegend\":true,\"x\":[\"DTN7-ng/QUICL\",\"DTN7-ng/QUICL\",\"DTN7-ng/QUICL\",\"DTN7-ng/QUICL\",\"DTN7-ng/QUICL\",\"DTN7-ng/QUICL\",\"DTN7-ng/QUICL\"],\"x0\":\" \",\"xaxis\":\"x5\",\"y\":[0.566,0.508,0.572,0.496,0.587,0.499,0.579],\"y0\":\" \",\"yaxis\":\"y5\",\"type\":\"box\"},{\"alignmentgroup\":\"True\",\"hovertemplate\":\"Loss (%)=30<br>Bundle Size=1 kB<br>Bundles=100<br>Software/CLP=%{x}<br>=%{y}<extra></extra>\",\"legendgroup\":\"30\",\"marker\":{\"color\":\"#00cc96\"},\"name\":\"30\",\"notched\":false,\"offsetgroup\":\"30\",\"orientation\":\"v\",\"showlegend\":false,\"x\":[\"DTN7-ng/QUICL\",\"DTN7-ng/QUICL\",\"DTN7-ng/QUICL\",\"DTN7-ng/QUICL\",\"DTN7-ng/QUICL\",\"DTN7-ng/QUICL\",\"DTN7-ng/QUICL\",\"DTN7-ng/QUICL\",\"DTN7-ng/QUICL\",\"DTN7-ng/QUICL\",\"DTN7-ng/QUICL\",\"DTN7-ng/QUICL\",\"DTN7-ng/QUICL\",\"DTN7-ng/QUICL\",\"DTN7-ng/QUICL\",\"DTN7-ng/QUICL\",\"DTN7-ng/QUICL\",\"DTN7-ng/QUICL\",\"DTN7-ng/QUICL\",\"DTN7-ng/QUICL\",\"DTN7-ng/QUICL\",\"DTN7-ng/QUICL\",\"DTN7-ng/QUICL\",\"DTN7-ng/QUICL\",\"DTN7-ng/QUICL\",\"DTN7-ng/QUICL\",\"DTN7-ng/QUICL\",\"DTN7-ng/QUICL\",\"DTN7-ng/QUICL\",\"DTN7-ng/QUICL\",\"DTN7-ng/QUICL\",\"DTN7-ng/QUICL\",\"DTN7-ng/QUICL\",\"DTN7-ng/QUICL\",\"DTN7-ng/QUICL\",\"DTN7-ng/QUICL\",\"DTN7-ng/QUICL\",\"DTN7-ng/QUICL\",\"DTN7-ng/QUICL\",\"DTN7-ng/QUICL\",\"DTN7-ng/QUICL\",\"DTN7-ng/QUICL\",\"DTN7-ng/QUICL\",\"DTN7-ng/QUICL\",\"DTN7-ng/QUICL\",\"DTN7-ng/QUICL\",\"DTN7-ng/QUICL\",\"DTN7-ng/QUICL\",\"DTN7-ng/QUICL\",\"DTN7-ng/QUICL\",\"DTN7-ng/QUICL\",\"DTN7-ng/QUICL\",\"DTN7-ng/QUICL\",\"DTN7-ng/QUICL\",\"DTN7-ng/QUICL\",\"DTN7-ng/QUICL\",\"DTN7-ng/QUICL\",\"DTN7-ng/QUICL\",\"DTN7-ng/QUICL\",\"DTN7-ng/QUICL\",\"DTN7-ng/QUICL\",\"DTN7-ng/QUICL\",\"DTN7-ng/QUICL\",\"DTN7-ng/QUICL\",\"DTN7-ng/QUICL\",\"DTN7-ng/QUICL\",\"DTN7-ng/QUICL\",\"DTN7-ng/QUICL\",\"DTN7-ng/QUICL\",\"DTN7-ng/QUICL\",\"DTN7-ng/QUICL\",\"DTN7-ng/QUICL\",\"DTN7-ng/QUICL\",\"DTN7-ng/QUICL\",\"DTN7-ng/QUICL\",\"DTN7-ng/QUICL\",\"DTN7-ng/QUICL\",\"DTN7-ng/QUICL\",\"DTN7-ng/QUICL\",\"DTN7-ng/QUICL\",\"DTN7-ng/QUICL\",\"DTN7-ng/QUICL\",\"DTN7-ng/QUICL\",\"DTN7-ng/QUICL\",\"DTN7-ng/QUICL\",\"DTN7-ng/QUICL\",\"DTN7-ng/QUICL\",\"DTN7-ng/QUICL\",\"DTN7-ng/QUICL\",\"DTN7-ng/QUICL\",\"DTN7-ng/QUICL\",\"DTN7-ng/QUICL\",\"DTN7-ng/QUICL\",\"DTN7-ng/QUICL\",\"DTN7-ng/QUICL\",\"DTN7-ng/QUICL\",\"DTN7-ng/QUICL\",\"DTN7-ng/QUICL\",\"DTN7-ng/QUICL\",\"DTN7-ng/QUICL\"],\"x0\":\" \",\"xaxis\":\"x6\",\"y\":[99.47,98.429,97.235,0.095,96.028,94.991,93.822,92.731,91.627,90.533,89.414,88.345,87.253,0.147,86.019,84.921,83.843,82.727,81.608,80.498,79.429,78.3,77.203,0.123,76.024,74.925,73.818,72.69,71.654,70.485,69.412,68.276,0.202,67.103,65.979,64.912,63.771,62.81,61.573,60.517,59.533,58.253,0.171,57.059,55.954,54.886,53.775,52.673,51.572,50.467,49.334,48.237,0.104,47.03,46.016,44.842,43.814,42.647,41.532,40.448,39.316,38.237,0.228,37.005,35.905,34.83,33.706,32.599,31.499,30.431,29.291,0.166,28.067,26.986,25.88,24.814,23.684,22.579,21.504,20.366,19.272,0.151,18.092,16.988,15.861,14.753,13.656,12.579,11.449,10.438,9.249,0.178,8.07,6.944,5.842,4.742,3.665,2.587,1.464,0.365],\"y0\":\" \",\"yaxis\":\"y6\",\"type\":\"box\"},{\"alignmentgroup\":\"True\",\"hovertemplate\":\"Loss (%)=30<br>Bundle Size=100 kB<br>Bundles=10<br>Software/CLP=%{x}<br>=%{y}<extra></extra>\",\"legendgroup\":\"30\",\"marker\":{\"color\":\"#00cc96\"},\"name\":\"30\",\"notched\":false,\"offsetgroup\":\"30\",\"orientation\":\"v\",\"showlegend\":false,\"x\":[\"DTN7-ng/QUICL\",\"DTN7-ng/QUICL\",\"DTN7-ng/QUICL\",\"DTN7-ng/QUICL\",\"DTN7-ng/QUICL\",\"DTN7-ng/QUICL\",\"DTN7-ng/QUICL\",\"DTN7-ng/QUICL\",\"DTN7-ng/QUICL\",\"DTN7-ng/QUICL\"],\"x0\":\" \",\"xaxis\":\"x3\",\"y\":[2.599,2.483,4.547,6.814,5.711,5.217,5.792,6.589,11.405,10.409],\"y0\":\" \",\"yaxis\":\"y3\",\"type\":\"box\"},{\"alignmentgroup\":\"True\",\"hovertemplate\":\"Loss (%)=30<br>Bundle Size=100 kB<br>Bundles=100<br>Software/CLP=%{x}<br>=%{y}<extra></extra>\",\"legendgroup\":\"30\",\"marker\":{\"color\":\"#00cc96\"},\"name\":\"30\",\"notched\":false,\"offsetgroup\":\"30\",\"orientation\":\"v\",\"showlegend\":false,\"x\":[\"DTN7-ng/QUICL\",\"DTN7-ng/QUICL\",\"DTN7-ng/QUICL\",\"DTN7-ng/QUICL\",\"DTN7-ng/QUICL\",\"DTN7-ng/QUICL\",\"DTN7-ng/QUICL\",\"DTN7-ng/QUICL\",\"DTN7-ng/QUICL\",\"DTN7-ng/QUICL\",\"DTN7-ng/QUICL\",\"DTN7-ng/QUICL\",\"DTN7-ng/QUICL\",\"DTN7-ng/QUICL\",\"DTN7-ng/QUICL\",\"DTN7-ng/QUICL\",\"DTN7-ng/QUICL\",\"DTN7-ng/QUICL\",\"DTN7-ng/QUICL\",\"DTN7-ng/QUICL\",\"DTN7-ng/QUICL\",\"DTN7-ng/QUICL\",\"DTN7-ng/QUICL\",\"DTN7-ng/QUICL\",\"DTN7-ng/QUICL\",\"DTN7-ng/QUICL\",\"DTN7-ng/QUICL\",\"DTN7-ng/QUICL\",\"DTN7-ng/QUICL\",\"DTN7-ng/QUICL\",\"DTN7-ng/QUICL\",\"DTN7-ng/QUICL\",\"DTN7-ng/QUICL\",\"DTN7-ng/QUICL\",\"DTN7-ng/QUICL\",\"DTN7-ng/QUICL\",\"DTN7-ng/QUICL\",\"DTN7-ng/QUICL\",\"DTN7-ng/QUICL\",\"DTN7-ng/QUICL\",\"DTN7-ng/QUICL\",\"DTN7-ng/QUICL\",\"DTN7-ng/QUICL\",\"DTN7-ng/QUICL\",\"DTN7-ng/QUICL\",\"DTN7-ng/QUICL\",\"DTN7-ng/QUICL\",\"DTN7-ng/QUICL\",\"DTN7-ng/QUICL\",\"DTN7-ng/QUICL\",\"DTN7-ng/QUICL\",\"DTN7-ng/QUICL\",\"DTN7-ng/QUICL\",\"DTN7-ng/QUICL\",\"DTN7-ng/QUICL\",\"DTN7-ng/QUICL\",\"DTN7-ng/QUICL\",\"DTN7-ng/QUICL\",\"DTN7-ng/QUICL\",\"DTN7-ng/QUICL\",\"DTN7-ng/QUICL\",\"DTN7-ng/QUICL\",\"DTN7-ng/QUICL\",\"DTN7-ng/QUICL\",\"DTN7-ng/QUICL\",\"DTN7-ng/QUICL\",\"DTN7-ng/QUICL\",\"DTN7-ng/QUICL\",\"DTN7-ng/QUICL\",\"DTN7-ng/QUICL\",\"DTN7-ng/QUICL\",\"DTN7-ng/QUICL\",\"DTN7-ng/QUICL\",\"DTN7-ng/QUICL\",\"DTN7-ng/QUICL\",\"DTN7-ng/QUICL\",\"DTN7-ng/QUICL\",\"DTN7-ng/QUICL\",\"DTN7-ng/QUICL\",\"DTN7-ng/QUICL\",\"DTN7-ng/QUICL\",\"DTN7-ng/QUICL\",\"DTN7-ng/QUICL\",\"DTN7-ng/QUICL\",\"DTN7-ng/QUICL\",\"DTN7-ng/QUICL\",\"DTN7-ng/QUICL\",\"DTN7-ng/QUICL\",\"DTN7-ng/QUICL\",\"DTN7-ng/QUICL\",\"DTN7-ng/QUICL\",\"DTN7-ng/QUICL\",\"DTN7-ng/QUICL\",\"DTN7-ng/QUICL\",\"DTN7-ng/QUICL\",\"DTN7-ng/QUICL\",\"DTN7-ng/QUICL\",\"DTN7-ng/QUICL\",\"DTN7-ng/QUICL\",\"DTN7-ng/QUICL\"],\"x0\":\" \",\"xaxis\":\"x4\",\"y\":[120.179,120.044,119.419,0.416,119.695,119.468,118.695,119.318,118.799,117.497,117.297,116.762,117.12,1.633,115.732,113.348,111.877,112.266,111.162,109.7,110.865,108.562,104.863,2.602,107.936,103.714,102.8,99.809,101.451,94.4,96.501,93.892,97.037,1.879,88.176,91.867,89.423,92.601,85.57,86.446,84.309,85.936,2.139,87.467,75.938,74.939,75.736,72.117,70.978,70.812,74.748,68.707,2.513,68.805,68.338,64.266,62.828,68.114,61.526,56.177,56.362,53.313,1.93,53.857,55.085,51.746,49.779,47.848,46.312,46.142,45.914,47.23,2.833,41.001,38.243,36.795,37.403,34.503,32.801,33.59,32.745,30.535,3.818,31.259,29.777,29.215,24.991,25.547,23.982,18.914,15.953,3.744,13.093,11.421,10.44,8.812,8.269,5.914,4.698,3.897],\"y0\":\" \",\"yaxis\":\"y4\",\"type\":\"box\"},{\"alignmentgroup\":\"True\",\"hovertemplate\":\"Loss (%)=30<br>Bundle Size=1 MB<br>Bundles=100<br>Software/CLP=%{x}<br>=%{y}<extra></extra>\",\"legendgroup\":\"30\",\"marker\":{\"color\":\"#00cc96\"},\"name\":\"30\",\"notched\":false,\"offsetgroup\":\"30\",\"orientation\":\"v\",\"showlegend\":false,\"x\":[\"DTN7-ng/QUICL\",\"DTN7-ng/QUICL\",\"DTN7-ng/QUICL\",\"DTN7-ng/QUICL\",\"DTN7-ng/QUICL\",\"DTN7-ng/QUICL\",\"DTN7-ng/QUICL\",\"DTN7-ng/QUICL\",\"DTN7-ng/QUICL\",\"DTN7-ng/QUICL\",\"DTN7-ng/QUICL\",\"DTN7-ng/QUICL\",\"DTN7-ng/QUICL\",\"DTN7-ng/QUICL\",\"DTN7-ng/QUICL\",\"DTN7-ng/QUICL\",\"DTN7-ng/QUICL\",\"DTN7-ng/QUICL\",\"DTN7-ng/QUICL\",\"DTN7-ng/QUICL\",\"DTN7-ng/QUICL\",\"DTN7-ng/QUICL\",\"DTN7-ng/QUICL\",\"DTN7-ng/QUICL\",\"DTN7-ng/QUICL\",\"DTN7-ng/QUICL\",\"DTN7-ng/QUICL\",\"DTN7-ng/QUICL\",\"DTN7-ng/QUICL\",\"DTN7-ng/QUICL\",\"DTN7-ng/QUICL\",\"DTN7-ng/QUICL\",\"DTN7-ng/QUICL\",\"DTN7-ng/QUICL\",\"DTN7-ng/QUICL\",\"DTN7-ng/QUICL\",\"DTN7-ng/QUICL\",\"DTN7-ng/QUICL\",\"DTN7-ng/QUICL\",\"DTN7-ng/QUICL\",\"DTN7-ng/QUICL\",\"DTN7-ng/QUICL\",\"DTN7-ng/QUICL\",\"DTN7-ng/QUICL\",\"DTN7-ng/QUICL\",\"DTN7-ng/QUICL\",\"DTN7-ng/QUICL\",\"DTN7-ng/QUICL\",\"DTN7-ng/QUICL\",\"DTN7-ng/QUICL\",\"DTN7-ng/QUICL\",\"DTN7-ng/QUICL\",\"DTN7-ng/QUICL\",\"DTN7-ng/QUICL\",\"DTN7-ng/QUICL\",\"DTN7-ng/QUICL\",\"DTN7-ng/QUICL\",\"DTN7-ng/QUICL\",\"DTN7-ng/QUICL\",\"DTN7-ng/QUICL\",\"DTN7-ng/QUICL\",\"DTN7-ng/QUICL\",\"DTN7-ng/QUICL\",\"DTN7-ng/QUICL\",\"DTN7-ng/QUICL\",\"DTN7-ng/QUICL\",\"DTN7-ng/QUICL\",\"DTN7-ng/QUICL\",\"DTN7-ng/QUICL\",\"DTN7-ng/QUICL\",\"DTN7-ng/QUICL\",\"DTN7-ng/QUICL\",\"DTN7-ng/QUICL\",\"DTN7-ng/QUICL\",\"DTN7-ng/QUICL\",\"DTN7-ng/QUICL\",\"DTN7-ng/QUICL\",\"DTN7-ng/QUICL\",\"DTN7-ng/QUICL\",\"DTN7-ng/QUICL\",\"DTN7-ng/QUICL\",\"DTN7-ng/QUICL\",\"DTN7-ng/QUICL\",\"DTN7-ng/QUICL\",\"DTN7-ng/QUICL\",\"DTN7-ng/QUICL\",\"DTN7-ng/QUICL\",\"DTN7-ng/QUICL\",\"DTN7-ng/QUICL\",\"DTN7-ng/QUICL\",\"DTN7-ng/QUICL\",\"DTN7-ng/QUICL\",\"DTN7-ng/QUICL\",\"DTN7-ng/QUICL\",\"DTN7-ng/QUICL\",\"DTN7-ng/QUICL\",\"DTN7-ng/QUICL\",\"DTN7-ng/QUICL\",\"DTN7-ng/QUICL\",\"DTN7-ng/QUICL\"],\"x0\":\" \",\"xaxis\":\"x2\",\"y\":[1176.737,1176.491,1179.391,1178.161,1175.33,1175.732,1175.112,836.105,1174.323,1150.986,1173.414,1175.898,1150.704,1178.362,1175.083,1176.127,1147.81,922.543,1145.059,1149.101,1177.648,1173.349,1171.324,1174.58,1173.578,1175.026,910.336,1172.923,1170.685,1148.102,1172.652,1171.699,1146.463,1173.166,1172.459,1148.248,977.665,1174.126,1147.492,1147.133,1169.877,1146.745,1168.852,1173.308,1145.821,1136.855,1057.443,1146.119,1136.508,1142.792,1126.601,1142.74,1129.362,1122.367,1146.349,1144.145,1015.515,1135.955,1136.189,1121.326,1134.829,1124.665,1123.626,1130.378,1090.92,1123.909,1047.915,1144.146,1095.498,1138.518,1110.815,1116.486,1097.677,1121.059,1117.226,975.024,1083.632,1117.446,1092.355,1122.407,1063.514,1084.458,1094.435,1065.478,1104.295,1025.948,1065.17,1067.693,1092.492,1089.5,1092.072,1110.997,1046.961,989.396,1027.655,1053.195,1057.139,1029.504,982.64,1040.326],\"y0\":\" \",\"yaxis\":\"y2\",\"type\":\"box\"},{\"alignmentgroup\":\"True\",\"hovertemplate\":\"Loss (%)=50<br>Bundle Size=1 kB<br>Bundles=100<br>Software/CLP=%{x}<br>=%{y}<extra></extra>\",\"legendgroup\":\"50\",\"marker\":{\"color\":\"#ab63fa\"},\"name\":\"50\",\"notched\":false,\"offsetgroup\":\"50\",\"orientation\":\"v\",\"showlegend\":true,\"x\":[\"DTN7-ng/QUICL\",\"DTN7-ng/QUICL\",\"DTN7-ng/QUICL\",\"DTN7-ng/QUICL\",\"DTN7-ng/QUICL\",\"DTN7-ng/QUICL\",\"DTN7-ng/QUICL\",\"DTN7-ng/QUICL\",\"DTN7-ng/QUICL\",\"DTN7-ng/QUICL\",\"DTN7-ng/QUICL\",\"DTN7-ng/QUICL\",\"DTN7-ng/QUICL\",\"DTN7-ng/QUICL\",\"DTN7-ng/QUICL\",\"DTN7-ng/QUICL\",\"DTN7-ng/QUICL\",\"DTN7-ng/QUICL\",\"DTN7-ng/QUICL\",\"DTN7-ng/QUICL\",\"DTN7-ng/QUICL\",\"DTN7-ng/QUICL\",\"DTN7-ng/QUICL\",\"DTN7-ng/QUICL\",\"DTN7-ng/QUICL\",\"DTN7-ng/QUICL\",\"DTN7-ng/QUICL\",\"DTN7-ng/QUICL\",\"DTN7-ng/QUICL\",\"DTN7-ng/QUICL\",\"DTN7-ng/QUICL\",\"DTN7-ng/QUICL\",\"DTN7-ng/QUICL\",\"DTN7-ng/QUICL\",\"DTN7-ng/QUICL\",\"DTN7-ng/QUICL\",\"DTN7-ng/QUICL\",\"DTN7-ng/QUICL\",\"DTN7-ng/QUICL\",\"DTN7-ng/QUICL\",\"DTN7-ng/QUICL\",\"DTN7-ng/QUICL\"],\"x0\":\" \",\"xaxis\":\"x6\",\"y\":[0.433,0.896,0.192,0.673,0.06,0.147,1.161,36.046,34.949,32.753,31.64,30.586,29.403,28.385,27.284,0.11,26.09,25.111,23.827,22.722,21.84,20.517,19.414,18.312,17.273,0.188,16.221,14.978,13.804,13.251,11.679,10.493,9.396,8.297,7.272,0.092,6.069,5.263,3.778,3.43,1.667,0.471],\"y0\":\" \",\"yaxis\":\"y6\",\"type\":\"box\"}],                        {\"template\":{\"data\":{\"histogram2dcontour\":[{\"type\":\"histogram2dcontour\",\"colorbar\":{\"outlinewidth\":0,\"ticks\":\"\"},\"colorscale\":[[0.0,\"#0d0887\"],[0.1111111111111111,\"#46039f\"],[0.2222222222222222,\"#7201a8\"],[0.3333333333333333,\"#9c179e\"],[0.4444444444444444,\"#bd3786\"],[0.5555555555555556,\"#d8576b\"],[0.6666666666666666,\"#ed7953\"],[0.7777777777777778,\"#fb9f3a\"],[0.8888888888888888,\"#fdca26\"],[1.0,\"#f0f921\"]]}],\"choropleth\":[{\"type\":\"choropleth\",\"colorbar\":{\"outlinewidth\":0,\"ticks\":\"\"}}],\"histogram2d\":[{\"type\":\"histogram2d\",\"colorbar\":{\"outlinewidth\":0,\"ticks\":\"\"},\"colorscale\":[[0.0,\"#0d0887\"],[0.1111111111111111,\"#46039f\"],[0.2222222222222222,\"#7201a8\"],[0.3333333333333333,\"#9c179e\"],[0.4444444444444444,\"#bd3786\"],[0.5555555555555556,\"#d8576b\"],[0.6666666666666666,\"#ed7953\"],[0.7777777777777778,\"#fb9f3a\"],[0.8888888888888888,\"#fdca26\"],[1.0,\"#f0f921\"]]}],\"heatmap\":[{\"type\":\"heatmap\",\"colorbar\":{\"outlinewidth\":0,\"ticks\":\"\"},\"colorscale\":[[0.0,\"#0d0887\"],[0.1111111111111111,\"#46039f\"],[0.2222222222222222,\"#7201a8\"],[0.3333333333333333,\"#9c179e\"],[0.4444444444444444,\"#bd3786\"],[0.5555555555555556,\"#d8576b\"],[0.6666666666666666,\"#ed7953\"],[0.7777777777777778,\"#fb9f3a\"],[0.8888888888888888,\"#fdca26\"],[1.0,\"#f0f921\"]]}],\"heatmapgl\":[{\"type\":\"heatmapgl\",\"colorbar\":{\"outlinewidth\":0,\"ticks\":\"\"},\"colorscale\":[[0.0,\"#0d0887\"],[0.1111111111111111,\"#46039f\"],[0.2222222222222222,\"#7201a8\"],[0.3333333333333333,\"#9c179e\"],[0.4444444444444444,\"#bd3786\"],[0.5555555555555556,\"#d8576b\"],[0.6666666666666666,\"#ed7953\"],[0.7777777777777778,\"#fb9f3a\"],[0.8888888888888888,\"#fdca26\"],[1.0,\"#f0f921\"]]}],\"contourcarpet\":[{\"type\":\"contourcarpet\",\"colorbar\":{\"outlinewidth\":0,\"ticks\":\"\"}}],\"contour\":[{\"type\":\"contour\",\"colorbar\":{\"outlinewidth\":0,\"ticks\":\"\"},\"colorscale\":[[0.0,\"#0d0887\"],[0.1111111111111111,\"#46039f\"],[0.2222222222222222,\"#7201a8\"],[0.3333333333333333,\"#9c179e\"],[0.4444444444444444,\"#bd3786\"],[0.5555555555555556,\"#d8576b\"],[0.6666666666666666,\"#ed7953\"],[0.7777777777777778,\"#fb9f3a\"],[0.8888888888888888,\"#fdca26\"],[1.0,\"#f0f921\"]]}],\"surface\":[{\"type\":\"surface\",\"colorbar\":{\"outlinewidth\":0,\"ticks\":\"\"},\"colorscale\":[[0.0,\"#0d0887\"],[0.1111111111111111,\"#46039f\"],[0.2222222222222222,\"#7201a8\"],[0.3333333333333333,\"#9c179e\"],[0.4444444444444444,\"#bd3786\"],[0.5555555555555556,\"#d8576b\"],[0.6666666666666666,\"#ed7953\"],[0.7777777777777778,\"#fb9f3a\"],[0.8888888888888888,\"#fdca26\"],[1.0,\"#f0f921\"]]}],\"mesh3d\":[{\"type\":\"mesh3d\",\"colorbar\":{\"outlinewidth\":0,\"ticks\":\"\"}}],\"scatter\":[{\"fillpattern\":{\"fillmode\":\"overlay\",\"size\":10,\"solidity\":0.2},\"type\":\"scatter\"}],\"parcoords\":[{\"type\":\"parcoords\",\"line\":{\"colorbar\":{\"outlinewidth\":0,\"ticks\":\"\"}}}],\"scatterpolargl\":[{\"type\":\"scatterpolargl\",\"marker\":{\"colorbar\":{\"outlinewidth\":0,\"ticks\":\"\"}}}],\"bar\":[{\"error_x\":{\"color\":\"#2a3f5f\"},\"error_y\":{\"color\":\"#2a3f5f\"},\"marker\":{\"line\":{\"color\":\"#E5ECF6\",\"width\":0.5},\"pattern\":{\"fillmode\":\"overlay\",\"size\":10,\"solidity\":0.2}},\"type\":\"bar\"}],\"scattergeo\":[{\"type\":\"scattergeo\",\"marker\":{\"colorbar\":{\"outlinewidth\":0,\"ticks\":\"\"}}}],\"scatterpolar\":[{\"type\":\"scatterpolar\",\"marker\":{\"colorbar\":{\"outlinewidth\":0,\"ticks\":\"\"}}}],\"histogram\":[{\"marker\":{\"pattern\":{\"fillmode\":\"overlay\",\"size\":10,\"solidity\":0.2}},\"type\":\"histogram\"}],\"scattergl\":[{\"type\":\"scattergl\",\"marker\":{\"colorbar\":{\"outlinewidth\":0,\"ticks\":\"\"}}}],\"scatter3d\":[{\"type\":\"scatter3d\",\"line\":{\"colorbar\":{\"outlinewidth\":0,\"ticks\":\"\"}},\"marker\":{\"colorbar\":{\"outlinewidth\":0,\"ticks\":\"\"}}}],\"scattermapbox\":[{\"type\":\"scattermapbox\",\"marker\":{\"colorbar\":{\"outlinewidth\":0,\"ticks\":\"\"}}}],\"scatterternary\":[{\"type\":\"scatterternary\",\"marker\":{\"colorbar\":{\"outlinewidth\":0,\"ticks\":\"\"}}}],\"scattercarpet\":[{\"type\":\"scattercarpet\",\"marker\":{\"colorbar\":{\"outlinewidth\":0,\"ticks\":\"\"}}}],\"carpet\":[{\"aaxis\":{\"endlinecolor\":\"#2a3f5f\",\"gridcolor\":\"white\",\"linecolor\":\"white\",\"minorgridcolor\":\"white\",\"startlinecolor\":\"#2a3f5f\"},\"baxis\":{\"endlinecolor\":\"#2a3f5f\",\"gridcolor\":\"white\",\"linecolor\":\"white\",\"minorgridcolor\":\"white\",\"startlinecolor\":\"#2a3f5f\"},\"type\":\"carpet\"}],\"table\":[{\"cells\":{\"fill\":{\"color\":\"#EBF0F8\"},\"line\":{\"color\":\"white\"}},\"header\":{\"fill\":{\"color\":\"#C8D4E3\"},\"line\":{\"color\":\"white\"}},\"type\":\"table\"}],\"barpolar\":[{\"marker\":{\"line\":{\"color\":\"#E5ECF6\",\"width\":0.5},\"pattern\":{\"fillmode\":\"overlay\",\"size\":10,\"solidity\":0.2}},\"type\":\"barpolar\"}],\"pie\":[{\"automargin\":true,\"type\":\"pie\"}]},\"layout\":{\"autotypenumbers\":\"strict\",\"colorway\":[\"#636efa\",\"#EF553B\",\"#00cc96\",\"#ab63fa\",\"#FFA15A\",\"#19d3f3\",\"#FF6692\",\"#B6E880\",\"#FF97FF\",\"#FECB52\"],\"font\":{\"color\":\"#2a3f5f\"},\"hovermode\":\"closest\",\"hoverlabel\":{\"align\":\"left\"},\"paper_bgcolor\":\"white\",\"plot_bgcolor\":\"#E5ECF6\",\"polar\":{\"bgcolor\":\"#E5ECF6\",\"angularaxis\":{\"gridcolor\":\"white\",\"linecolor\":\"white\",\"ticks\":\"\"},\"radialaxis\":{\"gridcolor\":\"white\",\"linecolor\":\"white\",\"ticks\":\"\"}},\"ternary\":{\"bgcolor\":\"#E5ECF6\",\"aaxis\":{\"gridcolor\":\"white\",\"linecolor\":\"white\",\"ticks\":\"\"},\"baxis\":{\"gridcolor\":\"white\",\"linecolor\":\"white\",\"ticks\":\"\"},\"caxis\":{\"gridcolor\":\"white\",\"linecolor\":\"white\",\"ticks\":\"\"}},\"coloraxis\":{\"colorbar\":{\"outlinewidth\":0,\"ticks\":\"\"}},\"colorscale\":{\"sequential\":[[0.0,\"#0d0887\"],[0.1111111111111111,\"#46039f\"],[0.2222222222222222,\"#7201a8\"],[0.3333333333333333,\"#9c179e\"],[0.4444444444444444,\"#bd3786\"],[0.5555555555555556,\"#d8576b\"],[0.6666666666666666,\"#ed7953\"],[0.7777777777777778,\"#fb9f3a\"],[0.8888888888888888,\"#fdca26\"],[1.0,\"#f0f921\"]],\"sequentialminus\":[[0.0,\"#0d0887\"],[0.1111111111111111,\"#46039f\"],[0.2222222222222222,\"#7201a8\"],[0.3333333333333333,\"#9c179e\"],[0.4444444444444444,\"#bd3786\"],[0.5555555555555556,\"#d8576b\"],[0.6666666666666666,\"#ed7953\"],[0.7777777777777778,\"#fb9f3a\"],[0.8888888888888888,\"#fdca26\"],[1.0,\"#f0f921\"]],\"diverging\":[[0,\"#8e0152\"],[0.1,\"#c51b7d\"],[0.2,\"#de77ae\"],[0.3,\"#f1b6da\"],[0.4,\"#fde0ef\"],[0.5,\"#f7f7f7\"],[0.6,\"#e6f5d0\"],[0.7,\"#b8e186\"],[0.8,\"#7fbc41\"],[0.9,\"#4d9221\"],[1,\"#276419\"]]},\"xaxis\":{\"gridcolor\":\"white\",\"linecolor\":\"white\",\"ticks\":\"\",\"title\":{\"standoff\":15},\"zerolinecolor\":\"white\",\"automargin\":true,\"zerolinewidth\":2},\"yaxis\":{\"gridcolor\":\"white\",\"linecolor\":\"white\",\"ticks\":\"\",\"title\":{\"standoff\":15},\"zerolinecolor\":\"white\",\"automargin\":true,\"zerolinewidth\":2},\"scene\":{\"xaxis\":{\"backgroundcolor\":\"#E5ECF6\",\"gridcolor\":\"white\",\"linecolor\":\"white\",\"showbackground\":true,\"ticks\":\"\",\"zerolinecolor\":\"white\",\"gridwidth\":2},\"yaxis\":{\"backgroundcolor\":\"#E5ECF6\",\"gridcolor\":\"white\",\"linecolor\":\"white\",\"showbackground\":true,\"ticks\":\"\",\"zerolinecolor\":\"white\",\"gridwidth\":2},\"zaxis\":{\"backgroundcolor\":\"#E5ECF6\",\"gridcolor\":\"white\",\"linecolor\":\"white\",\"showbackground\":true,\"ticks\":\"\",\"zerolinecolor\":\"white\",\"gridwidth\":2}},\"shapedefaults\":{\"line\":{\"color\":\"#2a3f5f\"}},\"annotationdefaults\":{\"arrowcolor\":\"#2a3f5f\",\"arrowhead\":0,\"arrowwidth\":1},\"geo\":{\"bgcolor\":\"white\",\"landcolor\":\"#E5ECF6\",\"subunitcolor\":\"white\",\"showland\":true,\"showlakes\":true,\"lakecolor\":\"white\"},\"title\":{\"x\":0.05},\"mapbox\":{\"style\":\"light\"}}},\"xaxis\":{\"anchor\":\"y\",\"domain\":[0.0,0.48],\"title\":{\"text\":\"Software/CLP\"},\"categoryorder\":\"array\",\"categoryarray\":[\"Serval\",\"IBR-DTN/TCPCL\",\"DTN7-rs/MTCP\",\"DTN7-rs/TCPCL\",\"DTN7-rs/HTTP\",\"DTN7-ng/MTCP\",\"DTN7-ng/QUICL\"]},\"yaxis\":{\"anchor\":\"x\",\"domain\":[0.0,0.3133333333333333],\"title\":{\"text\":\"\"}},\"xaxis2\":{\"anchor\":\"y2\",\"domain\":[0.5,0.98],\"matches\":\"x\",\"title\":{\"text\":\"Software/CLP\"},\"categoryorder\":\"array\",\"categoryarray\":[\"Serval\",\"IBR-DTN/TCPCL\",\"DTN7-rs/MTCP\",\"DTN7-rs/TCPCL\",\"DTN7-rs/HTTP\",\"DTN7-ng/MTCP\",\"DTN7-ng/QUICL\"]},\"yaxis2\":{\"anchor\":\"x2\",\"domain\":[0.0,0.3133333333333333],\"matches\":\"y\",\"showticklabels\":false},\"xaxis3\":{\"anchor\":\"y3\",\"domain\":[0.0,0.48],\"matches\":\"x\",\"showticklabels\":false},\"yaxis3\":{\"anchor\":\"x3\",\"domain\":[0.34333333333333327,0.6566666666666665],\"matches\":\"y\",\"title\":{\"text\":\"\"}},\"xaxis4\":{\"anchor\":\"y4\",\"domain\":[0.5,0.98],\"matches\":\"x\",\"showticklabels\":false},\"yaxis4\":{\"anchor\":\"x4\",\"domain\":[0.34333333333333327,0.6566666666666665],\"matches\":\"y\",\"showticklabels\":false},\"xaxis5\":{\"anchor\":\"y5\",\"domain\":[0.0,0.48],\"matches\":\"x\",\"showticklabels\":false},\"yaxis5\":{\"anchor\":\"x5\",\"domain\":[0.6866666666666665,0.9999999999999998],\"matches\":\"y\",\"title\":{\"text\":\"\"}},\"xaxis6\":{\"anchor\":\"y6\",\"domain\":[0.5,0.98],\"matches\":\"x\",\"showticklabels\":false},\"yaxis6\":{\"anchor\":\"x6\",\"domain\":[0.6866666666666665,0.9999999999999998],\"matches\":\"y\",\"showticklabels\":false},\"annotations\":[{\"showarrow\":false,\"text\":\"Bundles: 10\",\"x\":0.24,\"xanchor\":\"center\",\"xref\":\"paper\",\"y\":0.9999999999999998,\"yanchor\":\"bottom\",\"yref\":\"paper\"},{\"showarrow\":false,\"text\":\"Bundles: 100\",\"x\":0.74,\"xanchor\":\"center\",\"xref\":\"paper\",\"y\":0.9999999999999998,\"yanchor\":\"bottom\",\"yref\":\"paper\"},{\"showarrow\":false,\"text\":\"1 MB\",\"textangle\":90,\"x\":0.98,\"xanchor\":\"left\",\"xref\":\"paper\",\"y\":0.15666666666666665,\"yanchor\":\"middle\",\"yref\":\"paper\"},{\"showarrow\":false,\"text\":\"100 kB\",\"textangle\":90,\"x\":0.98,\"xanchor\":\"left\",\"xref\":\"paper\",\"y\":0.4999999999999999,\"yanchor\":\"middle\",\"yref\":\"paper\"},{\"showarrow\":false,\"text\":\"1 kB\",\"textangle\":90,\"x\":0.98,\"xanchor\":\"left\",\"xref\":\"paper\",\"y\":0.8433333333333332,\"yanchor\":\"middle\",\"yref\":\"paper\"},{\"font\":{\"size\":14},\"text\":\"Runtime (s)\",\"textangle\":-90,\"x\":-0.05,\"xref\":\"paper\",\"y\":0.35,\"yref\":\"paper\"}],\"legend\":{\"title\":{\"text\":\"Loss (%)\"},\"tracegroupgap\":0},\"margin\":{\"t\":20,\"l\":0,\"r\":0,\"b\":0},\"boxmode\":\"group\"},                        {\"responsive\": true}                    ).then(function(){\n",
       "                            \n",
       "var gd = document.getElementById('e4154ae0-03da-455d-b3be-6524475bd038');\n",
       "var x = new MutationObserver(function (mutations, observer) {{\n",
       "        var display = window.getComputedStyle(gd).display;\n",
       "        if (!display || display === 'none') {{\n",
       "            console.log([gd, 'removed!']);\n",
       "            Plotly.purge(gd);\n",
       "            observer.disconnect();\n",
       "        }}\n",
       "}});\n",
       "\n",
       "// Listen for the removal of the full notebook cells\n",
       "var notebookContainer = gd.closest('#notebook-container');\n",
       "if (notebookContainer) {{\n",
       "    x.observe(notebookContainer, {childList: true});\n",
       "}}\n",
       "\n",
       "// Listen for the clearing of the current output cell\n",
       "var outputEl = gd.closest('.output');\n",
       "if (outputEl) {{\n",
       "    x.observe(outputEl, {childList: true});\n",
       "}}\n",
       "\n",
       "                        })                };                });            </script>        </div>"
      ]
     },
     "metadata": {},
     "output_type": "display_data"
    }
   ],
   "source": [
    "fig = px.box(\n",
    "    runtime_df[runtime_df[\"# Nodes\"] == 2],\n",
    "    x=\"Software/CLP\", \n",
    "    y=\"Runtime\",\n",
    "    color=\"Loss\",\n",
    "    facet_col=\"# Bundles\",\n",
    "    facet_row=\"Bundle Size\",\n",
    "    labels={\n",
    "        \"Runtime\": \"\",\n",
    "        \"Loss\": \"Loss (%)\",\n",
    "        \"# Bundles\": \"Bundles\"\n",
    "    },\n",
    "    category_orders={\n",
    "        \"Loss\": [0, 10, 30],\n",
    "        \"Bundle Size\": [\"1 kB\", \"100 kB\", \"1 MB\"],\n",
    "        \"Software/CLP\": [\"Serval\", \"IBR-DTN/TCPCL\", \"DTN7-rs/MTCP\", \"DTN7-rs/TCPCL\", \"DTN7-rs/HTTP\", \"DTN7-ng/MTCP\", \"DTN7-ng/QUICL\"],\n",
    "        \"# Bundles\": [10, 100]\n",
    "    },\n",
    ")\n",
    "\n",
    "fig.for_each_annotation(lambda a: a.update(text=a.text.replace(\"=\", \": \")))\n",
    "fig.for_each_annotation(lambda a: a.update(text=a.text.replace(\"Bundle Size: \", \"\")))\n",
    "\n",
    "fig.add_annotation(x=-0.05, y=0.35,\n",
    "                   text=\"Runtime (s)\",\n",
    "                   textangle=-90,\n",
    "                   xref=\"paper\",\n",
    "                   yref=\"paper\",\n",
    "                   font=dict(size=14)\n",
    "                   )\n",
    "\n",
    "fig.update_layout(\n",
    "    margin=dict(l=0, r=0, t=20, b=0),\n",
    ")\n",
    "\n",
    "fig.write_image(\"runtime_2.pdf\", width=700, height=300)\n",
    "fig"
   ]
  },
  {
   "cell_type": "code",
   "execution_count": 16,
   "metadata": {},
   "outputs": [
    {
     "data": {
      "application/vnd.plotly.v1+json": {
       "config": {
        "plotlyServerURL": "https://plot.ly"
       },
       "data": [
        {
         "alignmentgroup": "True",
         "hovertemplate": "Loss (%)=0<br>Bundle Size=1 kB<br>Bundles=10<br>Software/CLP=%{x}<br>=%{y}<extra></extra>",
         "legendgroup": "0",
         "marker": {
          "color": "#636efa"
         },
         "name": "0",
         "notched": false,
         "offsetgroup": "0",
         "orientation": "v",
         "showlegend": true,
         "type": "box",
         "x": [
          "DTN7-ng/MTCP",
          "DTN7-ng/MTCP",
          "DTN7-ng/MTCP",
          "DTN7-ng/MTCP",
          "DTN7-ng/MTCP",
          "DTN7-ng/MTCP",
          "DTN7-ng/MTCP",
          "DTN7-ng/MTCP",
          "DTN7-ng/MTCP",
          "DTN7-ng/MTCP",
          "DTN7-ng/QUICL",
          "DTN7-ng/QUICL",
          "DTN7-ng/QUICL",
          "DTN7-ng/QUICL",
          "DTN7-ng/QUICL",
          "DTN7-ng/QUICL",
          "DTN7-ng/QUICL",
          "DTN7-ng/QUICL",
          "DTN7-ng/QUICL",
          "DTN7-ng/QUICL"
         ],
         "x0": " ",
         "xaxis": "x5",
         "y": [
          27.144,
          38.15,
          27.142,
          28.135,
          28.137,
          28.135,
          28.135,
          28.131,
          28.127,
          28.125,
          17.353,
          17.347,
          17.348,
          17.34,
          17.337,
          17.336,
          17.335,
          17.332,
          17.328,
          17.32
         ],
         "y0": " ",
         "yaxis": "y5"
        },
        {
         "alignmentgroup": "True",
         "hovertemplate": "Loss (%)=0<br>Bundle Size=1 kB<br>Bundles=100<br>Software/CLP=%{x}<br>=%{y}<extra></extra>",
         "legendgroup": "0",
         "marker": {
          "color": "#636efa"
         },
         "name": "0",
         "notched": false,
         "offsetgroup": "0",
         "orientation": "v",
         "showlegend": false,
         "type": "box",
         "x": [
          "DTN7-ng/MTCP",
          "DTN7-ng/MTCP",
          "DTN7-ng/MTCP",
          "DTN7-ng/MTCP",
          "DTN7-ng/MTCP",
          "DTN7-ng/MTCP",
          "DTN7-ng/MTCP",
          "DTN7-ng/MTCP",
          "DTN7-ng/MTCP",
          "DTN7-ng/MTCP",
          "DTN7-ng/MTCP",
          "DTN7-ng/MTCP",
          "DTN7-ng/MTCP",
          "DTN7-ng/MTCP",
          "DTN7-ng/MTCP",
          "DTN7-ng/MTCP",
          "DTN7-ng/MTCP",
          "DTN7-ng/MTCP",
          "DTN7-ng/MTCP",
          "DTN7-ng/MTCP",
          "DTN7-ng/MTCP",
          "DTN7-ng/MTCP",
          "DTN7-ng/MTCP",
          "DTN7-ng/MTCP",
          "DTN7-ng/MTCP",
          "DTN7-ng/MTCP",
          "DTN7-ng/MTCP",
          "DTN7-ng/MTCP",
          "DTN7-ng/MTCP",
          "DTN7-ng/MTCP",
          "DTN7-ng/MTCP",
          "DTN7-ng/MTCP",
          "DTN7-ng/MTCP",
          "DTN7-ng/MTCP",
          "DTN7-ng/MTCP",
          "DTN7-ng/MTCP",
          "DTN7-ng/MTCP",
          "DTN7-ng/MTCP",
          "DTN7-ng/MTCP",
          "DTN7-ng/MTCP",
          "DTN7-ng/MTCP",
          "DTN7-ng/MTCP",
          "DTN7-ng/MTCP",
          "DTN7-ng/MTCP",
          "DTN7-ng/MTCP",
          "DTN7-ng/MTCP",
          "DTN7-ng/MTCP",
          "DTN7-ng/MTCP",
          "DTN7-ng/MTCP",
          "DTN7-ng/MTCP",
          "DTN7-ng/MTCP",
          "DTN7-ng/MTCP",
          "DTN7-ng/MTCP",
          "DTN7-ng/MTCP",
          "DTN7-ng/MTCP",
          "DTN7-ng/MTCP",
          "DTN7-ng/MTCP",
          "DTN7-ng/MTCP",
          "DTN7-ng/MTCP",
          "DTN7-ng/MTCP",
          "DTN7-ng/MTCP",
          "DTN7-ng/MTCP",
          "DTN7-ng/MTCP",
          "DTN7-ng/MTCP",
          "DTN7-ng/MTCP",
          "DTN7-ng/MTCP",
          "DTN7-ng/MTCP",
          "DTN7-ng/MTCP",
          "DTN7-ng/MTCP",
          "DTN7-ng/MTCP",
          "DTN7-ng/MTCP",
          "DTN7-ng/MTCP",
          "DTN7-ng/MTCP",
          "DTN7-ng/MTCP",
          "DTN7-ng/MTCP",
          "DTN7-ng/MTCP",
          "DTN7-ng/MTCP",
          "DTN7-ng/MTCP",
          "DTN7-ng/MTCP",
          "DTN7-ng/MTCP",
          "DTN7-ng/MTCP",
          "DTN7-ng/MTCP",
          "DTN7-ng/MTCP",
          "DTN7-ng/MTCP",
          "DTN7-ng/MTCP",
          "DTN7-ng/MTCP",
          "DTN7-ng/MTCP",
          "DTN7-ng/MTCP",
          "DTN7-ng/MTCP",
          "DTN7-ng/MTCP",
          "DTN7-ng/MTCP",
          "DTN7-ng/MTCP",
          "DTN7-ng/MTCP",
          "DTN7-ng/MTCP",
          "DTN7-ng/MTCP",
          "DTN7-ng/MTCP",
          "DTN7-ng/MTCP",
          "DTN7-ng/MTCP",
          "DTN7-ng/MTCP",
          "DTN7-ng/MTCP",
          "DTN7-ng/QUICL",
          "DTN7-ng/QUICL",
          "DTN7-ng/QUICL",
          "DTN7-ng/QUICL",
          "DTN7-ng/QUICL",
          "DTN7-ng/QUICL",
          "DTN7-ng/QUICL",
          "DTN7-ng/QUICL",
          "DTN7-ng/QUICL",
          "DTN7-ng/QUICL",
          "DTN7-ng/QUICL",
          "DTN7-ng/QUICL",
          "DTN7-ng/QUICL",
          "DTN7-ng/QUICL",
          "DTN7-ng/QUICL",
          "DTN7-ng/QUICL",
          "DTN7-ng/QUICL",
          "DTN7-ng/QUICL",
          "DTN7-ng/QUICL",
          "DTN7-ng/QUICL",
          "DTN7-ng/QUICL",
          "DTN7-ng/QUICL",
          "DTN7-ng/QUICL",
          "DTN7-ng/QUICL",
          "DTN7-ng/QUICL",
          "DTN7-ng/QUICL",
          "DTN7-ng/QUICL",
          "DTN7-ng/QUICL",
          "DTN7-ng/QUICL",
          "DTN7-ng/QUICL",
          "DTN7-ng/QUICL",
          "DTN7-ng/QUICL",
          "DTN7-ng/QUICL",
          "DTN7-ng/QUICL",
          "DTN7-ng/QUICL",
          "DTN7-ng/QUICL",
          "DTN7-ng/QUICL",
          "DTN7-ng/QUICL",
          "DTN7-ng/QUICL",
          "DTN7-ng/QUICL",
          "DTN7-ng/QUICL",
          "DTN7-ng/QUICL",
          "DTN7-ng/QUICL",
          "DTN7-ng/QUICL",
          "DTN7-ng/QUICL",
          "DTN7-ng/QUICL",
          "DTN7-ng/QUICL",
          "DTN7-ng/QUICL",
          "DTN7-ng/QUICL",
          "DTN7-ng/QUICL",
          "DTN7-ng/QUICL",
          "DTN7-ng/QUICL",
          "DTN7-ng/QUICL",
          "DTN7-ng/QUICL",
          "DTN7-ng/QUICL",
          "DTN7-ng/QUICL",
          "DTN7-ng/QUICL",
          "DTN7-ng/QUICL",
          "DTN7-ng/QUICL",
          "DTN7-ng/QUICL",
          "DTN7-ng/QUICL",
          "DTN7-ng/QUICL",
          "DTN7-ng/QUICL",
          "DTN7-ng/QUICL",
          "DTN7-ng/QUICL",
          "DTN7-ng/QUICL",
          "DTN7-ng/QUICL",
          "DTN7-ng/QUICL",
          "DTN7-ng/QUICL",
          "DTN7-ng/QUICL",
          "DTN7-ng/QUICL",
          "DTN7-ng/QUICL",
          "DTN7-ng/QUICL",
          "DTN7-ng/QUICL",
          "DTN7-ng/QUICL",
          "DTN7-ng/QUICL",
          "DTN7-ng/QUICL",
          "DTN7-ng/QUICL",
          "DTN7-ng/QUICL",
          "DTN7-ng/QUICL",
          "DTN7-ng/QUICL",
          "DTN7-ng/QUICL",
          "DTN7-ng/QUICL",
          "DTN7-ng/QUICL",
          "DTN7-ng/QUICL",
          "DTN7-ng/QUICL",
          "DTN7-ng/QUICL",
          "DTN7-ng/QUICL",
          "DTN7-ng/QUICL",
          "DTN7-ng/QUICL",
          "DTN7-ng/QUICL",
          "DTN7-ng/QUICL",
          "DTN7-ng/QUICL",
          "DTN7-ng/QUICL",
          "DTN7-ng/QUICL",
          "DTN7-ng/QUICL",
          "DTN7-ng/QUICL",
          "DTN7-ng/QUICL",
          "DTN7-ng/QUICL",
          "DTN7-ng/QUICL"
         ],
         "x0": " ",
         "xaxis": "x6",
         "y": [
          158.206,
          157.102,
          155.003,
          152.907,
          150.797,
          148.688,
          146.586,
          144.492,
          143.384,
          142.283,
          141.173,
          140.074,
          138.971,
          137.871,
          136.781,
          135.666,
          134.558,
          25.411,
          133.351,
          132.25,
          131.151,
          130.046,
          128.952,
          127.853,
          126.744,
          125.634,
          124.532,
          25.379,
          123.318,
          122.234,
          120.112,
          118.009,
          115.91,
          113.802,
          111.701,
          109.601,
          107.497,
          26.361,
          105.285,
          104.189,
          103.085,
          101.987,
          100.879,
          99.774,
          98.669,
          97.569,
          26.438,
          96.368,
          95.254,
          94.153,
          93.068,
          91.96,
          90.844,
          89.749,
          88.637,
          87.534,
          26.411,
          86.336,
          85.233,
          84.126,
          83.025,
          80.92,
          78.816,
          76.715,
          74.613,
          72.507,
          26.386,
          70.307,
          68.2,
          66.093,
          63.992,
          61.889,
          59.786,
          57.682,
          55.58,
          26.466,
          53.372,
          51.252,
          50.164,
          49.069,
          47.959,
          46.859,
          45.755,
          44.65,
          43.539,
          26.441,
          42.337,
          41.243,
          40.14,
          39.031,
          37.934,
          36.832,
          35.726,
          33.625,
          31.522,
          26.412,
          30.315,
          29.212,
          28.109,
          27.004,
          148.959,
          147.848,
          14.696,
          146.639,
          145.534,
          144.423,
          143.331,
          142.231,
          141.119,
          140.025,
          138.921,
          137.813,
          14.67,
          136.608,
          135.51,
          134.405,
          133.302,
          132.199,
          131.1,
          129.996,
          128.896,
          127.795,
          14.643,
          126.583,
          125.479,
          124.377,
          123.284,
          122.176,
          120.072,
          118.969,
          117.857,
          116.754,
          14.622,
          115.555,
          114.451,
          113.344,
          112.259,
          111.138,
          110.043,
          108.945,
          107.836,
          14.694,
          106.628,
          104.522,
          102.417,
          101.321,
          100.214,
          99.096,
          98.01,
          96.889,
          95.802,
          14.676,
          94.6,
          93.489,
          92.388,
          91.289,
          90.187,
          89.088,
          87.981,
          86.873,
          85.769,
          14.646,
          84.565,
          83.455,
          82.353,
          81.255,
          80.156,
          79.058,
          76.947,
          74.846,
          72.737,
          15.622,
          70.54,
          68.438,
          66.334,
          64.235,
          62.125,
          60.023,
          57.925,
          55.815,
          53.715,
          51.597,
          49.511,
          47.406,
          45.3,
          43.194,
          41.097,
          38.989,
          36.893,
          34.785,
          15.668,
          32.578,
          30.478,
          28.378,
          26.271,
          24.166,
          22.062,
          19.958,
          17.86,
          15.756
         ],
         "y0": " ",
         "yaxis": "y6"
        },
        {
         "alignmentgroup": "True",
         "hovertemplate": "Loss (%)=0<br>Bundle Size=100 kB<br>Bundles=10<br>Software/CLP=%{x}<br>=%{y}<extra></extra>",
         "legendgroup": "0",
         "marker": {
          "color": "#636efa"
         },
         "name": "0",
         "notched": false,
         "offsetgroup": "0",
         "orientation": "v",
         "showlegend": false,
         "type": "box",
         "x": [
          "DTN7-ng/MTCP",
          "DTN7-ng/MTCP",
          "DTN7-ng/MTCP",
          "DTN7-ng/MTCP",
          "DTN7-ng/MTCP",
          "DTN7-ng/MTCP",
          "DTN7-ng/MTCP",
          "DTN7-ng/MTCP",
          "DTN7-ng/MTCP",
          "DTN7-ng/MTCP",
          "DTN7-ng/QUICL",
          "DTN7-ng/QUICL",
          "DTN7-ng/QUICL",
          "DTN7-ng/QUICL",
          "DTN7-ng/QUICL",
          "DTN7-ng/QUICL",
          "DTN7-ng/QUICL",
          "DTN7-ng/QUICL",
          "DTN7-ng/QUICL",
          "DTN7-ng/QUICL"
         ],
         "x0": " ",
         "xaxis": "x3",
         "y": [
          29.157,
          29.165,
          29.162,
          29.16,
          29.16,
          29.173,
          29.142,
          29.146,
          29.135,
          29.126,
          16.42,
          16.414,
          16.411,
          16.408,
          16.402,
          23.41,
          16.399,
          16.394,
          16.395,
          17.386
         ],
         "y0": " ",
         "yaxis": "y3"
        },
        {
         "alignmentgroup": "True",
         "hovertemplate": "Loss (%)=0<br>Bundle Size=100 kB<br>Bundles=100<br>Software/CLP=%{x}<br>=%{y}<extra></extra>",
         "legendgroup": "0",
         "marker": {
          "color": "#636efa"
         },
         "name": "0",
         "notched": false,
         "offsetgroup": "0",
         "orientation": "v",
         "showlegend": false,
         "type": "box",
         "x": [
          "DTN7-ng/MTCP",
          "DTN7-ng/MTCP",
          "DTN7-ng/MTCP",
          "DTN7-ng/MTCP",
          "DTN7-ng/MTCP",
          "DTN7-ng/MTCP",
          "DTN7-ng/MTCP",
          "DTN7-ng/MTCP",
          "DTN7-ng/MTCP",
          "DTN7-ng/MTCP",
          "DTN7-ng/MTCP",
          "DTN7-ng/MTCP",
          "DTN7-ng/MTCP",
          "DTN7-ng/MTCP",
          "DTN7-ng/MTCP",
          "DTN7-ng/MTCP",
          "DTN7-ng/MTCP",
          "DTN7-ng/MTCP",
          "DTN7-ng/MTCP",
          "DTN7-ng/MTCP",
          "DTN7-ng/MTCP",
          "DTN7-ng/MTCP",
          "DTN7-ng/MTCP",
          "DTN7-ng/MTCP",
          "DTN7-ng/MTCP",
          "DTN7-ng/MTCP",
          "DTN7-ng/MTCP",
          "DTN7-ng/MTCP",
          "DTN7-ng/MTCP",
          "DTN7-ng/MTCP",
          "DTN7-ng/MTCP",
          "DTN7-ng/MTCP",
          "DTN7-ng/MTCP",
          "DTN7-ng/MTCP",
          "DTN7-ng/MTCP",
          "DTN7-ng/MTCP",
          "DTN7-ng/MTCP",
          "DTN7-ng/MTCP",
          "DTN7-ng/MTCP",
          "DTN7-ng/MTCP",
          "DTN7-ng/MTCP",
          "DTN7-ng/MTCP",
          "DTN7-ng/MTCP",
          "DTN7-ng/MTCP",
          "DTN7-ng/MTCP",
          "DTN7-ng/MTCP",
          "DTN7-ng/MTCP",
          "DTN7-ng/MTCP",
          "DTN7-ng/MTCP",
          "DTN7-ng/MTCP",
          "DTN7-ng/MTCP",
          "DTN7-ng/MTCP",
          "DTN7-ng/MTCP",
          "DTN7-ng/MTCP",
          "DTN7-ng/MTCP",
          "DTN7-ng/MTCP",
          "DTN7-ng/MTCP",
          "DTN7-ng/MTCP",
          "DTN7-ng/MTCP",
          "DTN7-ng/MTCP",
          "DTN7-ng/MTCP",
          "DTN7-ng/MTCP",
          "DTN7-ng/MTCP",
          "DTN7-ng/MTCP",
          "DTN7-ng/MTCP",
          "DTN7-ng/MTCP",
          "DTN7-ng/MTCP",
          "DTN7-ng/MTCP",
          "DTN7-ng/MTCP",
          "DTN7-ng/MTCP",
          "DTN7-ng/MTCP",
          "DTN7-ng/MTCP",
          "DTN7-ng/MTCP",
          "DTN7-ng/MTCP",
          "DTN7-ng/MTCP",
          "DTN7-ng/MTCP",
          "DTN7-ng/MTCP",
          "DTN7-ng/MTCP",
          "DTN7-ng/MTCP",
          "DTN7-ng/MTCP",
          "DTN7-ng/MTCP",
          "DTN7-ng/MTCP",
          "DTN7-ng/MTCP",
          "DTN7-ng/MTCP",
          "DTN7-ng/MTCP",
          "DTN7-ng/MTCP",
          "DTN7-ng/MTCP",
          "DTN7-ng/MTCP",
          "DTN7-ng/MTCP",
          "DTN7-ng/MTCP",
          "DTN7-ng/MTCP",
          "DTN7-ng/MTCP",
          "DTN7-ng/MTCP",
          "DTN7-ng/MTCP",
          "DTN7-ng/MTCP",
          "DTN7-ng/MTCP",
          "DTN7-ng/MTCP",
          "DTN7-ng/MTCP",
          "DTN7-ng/MTCP",
          "DTN7-ng/MTCP",
          "DTN7-ng/QUICL",
          "DTN7-ng/QUICL",
          "DTN7-ng/QUICL",
          "DTN7-ng/QUICL",
          "DTN7-ng/QUICL",
          "DTN7-ng/QUICL",
          "DTN7-ng/QUICL",
          "DTN7-ng/QUICL",
          "DTN7-ng/QUICL",
          "DTN7-ng/QUICL",
          "DTN7-ng/QUICL",
          "DTN7-ng/QUICL",
          "DTN7-ng/QUICL",
          "DTN7-ng/QUICL",
          "DTN7-ng/QUICL",
          "DTN7-ng/QUICL",
          "DTN7-ng/QUICL",
          "DTN7-ng/QUICL",
          "DTN7-ng/QUICL",
          "DTN7-ng/QUICL",
          "DTN7-ng/QUICL",
          "DTN7-ng/QUICL",
          "DTN7-ng/QUICL",
          "DTN7-ng/QUICL",
          "DTN7-ng/QUICL",
          "DTN7-ng/QUICL",
          "DTN7-ng/QUICL",
          "DTN7-ng/QUICL",
          "DTN7-ng/QUICL",
          "DTN7-ng/QUICL",
          "DTN7-ng/QUICL",
          "DTN7-ng/QUICL",
          "DTN7-ng/QUICL",
          "DTN7-ng/QUICL",
          "DTN7-ng/QUICL",
          "DTN7-ng/QUICL",
          "DTN7-ng/QUICL",
          "DTN7-ng/QUICL",
          "DTN7-ng/QUICL",
          "DTN7-ng/QUICL",
          "DTN7-ng/QUICL",
          "DTN7-ng/QUICL",
          "DTN7-ng/QUICL",
          "DTN7-ng/QUICL",
          "DTN7-ng/QUICL",
          "DTN7-ng/QUICL",
          "DTN7-ng/QUICL",
          "DTN7-ng/QUICL",
          "DTN7-ng/QUICL",
          "DTN7-ng/QUICL",
          "DTN7-ng/QUICL",
          "DTN7-ng/QUICL",
          "DTN7-ng/QUICL",
          "DTN7-ng/QUICL",
          "DTN7-ng/QUICL",
          "DTN7-ng/QUICL",
          "DTN7-ng/QUICL",
          "DTN7-ng/QUICL",
          "DTN7-ng/QUICL",
          "DTN7-ng/QUICL",
          "DTN7-ng/QUICL",
          "DTN7-ng/QUICL",
          "DTN7-ng/QUICL",
          "DTN7-ng/QUICL",
          "DTN7-ng/QUICL",
          "DTN7-ng/QUICL",
          "DTN7-ng/QUICL",
          "DTN7-ng/QUICL",
          "DTN7-ng/QUICL",
          "DTN7-ng/QUICL",
          "DTN7-ng/QUICL",
          "DTN7-ng/QUICL",
          "DTN7-ng/QUICL",
          "DTN7-ng/QUICL",
          "DTN7-ng/QUICL",
          "DTN7-ng/QUICL",
          "DTN7-ng/QUICL",
          "DTN7-ng/QUICL",
          "DTN7-ng/QUICL",
          "DTN7-ng/QUICL",
          "DTN7-ng/QUICL",
          "DTN7-ng/QUICL",
          "DTN7-ng/QUICL",
          "DTN7-ng/QUICL",
          "DTN7-ng/QUICL",
          "DTN7-ng/QUICL",
          "DTN7-ng/QUICL",
          "DTN7-ng/QUICL",
          "DTN7-ng/QUICL",
          "DTN7-ng/QUICL",
          "DTN7-ng/QUICL",
          "DTN7-ng/QUICL",
          "DTN7-ng/QUICL",
          "DTN7-ng/QUICL",
          "DTN7-ng/QUICL",
          "DTN7-ng/QUICL",
          "DTN7-ng/QUICL",
          "DTN7-ng/QUICL",
          "DTN7-ng/QUICL",
          "DTN7-ng/QUICL"
         ],
         "x0": " ",
         "xaxis": "x4",
         "y": [
          135.206,
          133.115,
          130.986,
          128.917,
          126.806,
          124.701,
          122.591,
          28.44,
          120.391,
          119.285,
          118.188,
          117.086,
          115.972,
          114.871,
          113.772,
          112.665,
          111.556,
          28.421,
          110.374,
          109.258,
          108.146,
          107.047,
          105.933,
          104.838,
          103.733,
          102.636,
          28.495,
          101.43,
          100.327,
          99.223,
          98.125,
          97.006,
          95.908,
          94.811,
          93.71,
          92.606,
          28.472,
          91.409,
          90.297,
          89.2,
          88.089,
          86.988,
          85.887,
          84.78,
          83.686,
          82.588,
          28.459,
          81.373,
          80.275,
          79.174,
          78.055,
          76.966,
          75.867,
          74.758,
          73.67,
          72.551,
          28.45,
          71.351,
          70.251,
          69.153,
          68.051,
          66.939,
          65.845,
          64.736,
          63.632,
          62.534,
          28.413,
          61.326,
          60.232,
          59.121,
          58.005,
          56.912,
          55.808,
          54.72,
          53.603,
          28.487,
          52.407,
          51.292,
          50.191,
          49.084,
          47.992,
          46.886,
          45.781,
          44.692,
          43.584,
          28.477,
          42.381,
          41.276,
          40.167,
          39.07,
          37.973,
          36.87,
          35.759,
          34.65,
          33.549,
          28.438,
          32.362,
          31.267,
          30.145,
          29.042,
          147.541,
          145.434,
          143.348,
          141.247,
          139.128,
          137.035,
          134.931,
          132.822,
          130.719,
          16.566,
          129.501,
          128.435,
          127.307,
          126.2,
          125.105,
          124.003,
          122.898,
          121.792,
          16.643,
          120.619,
          119.482,
          118.387,
          117.28,
          116.187,
          115.073,
          113.965,
          112.867,
          110.763,
          16.616,
          109.555,
          108.462,
          107.346,
          106.247,
          105.137,
          104.038,
          102.953,
          101.836,
          100.734,
          16.589,
          99.524,
          98.458,
          97.325,
          96.22,
          95.112,
          94.015,
          92.909,
          91.798,
          90.707,
          16.574,
          89.492,
          88.393,
          87.288,
          86.185,
          85.084,
          84.006,
          82.886,
          80.789,
          16.645,
          79.575,
          78.47,
          76.369,
          74.262,
          72.176,
          70.08,
          67.957,
          65.842,
          63.753,
          16.619,
          61.545,
          59.435,
          57.357,
          55.229,
          53.13,
          51.044,
          49.928,
          48.832,
          47.729,
          16.592,
          46.518,
          45.416,
          44.313,
          43.212,
          42.096,
          40.993,
          39.884,
          38.801,
          37.674,
          16.571,
          36.474,
          35.371,
          34.273,
          32.16,
          30.068,
          27.967,
          25.858,
          23.749,
          16.644,
          21.54,
          19.459,
          17.345
         ],
         "y0": " ",
         "yaxis": "y4"
        },
        {
         "alignmentgroup": "True",
         "hovertemplate": "Loss (%)=0<br>Bundle Size=1 MB<br>Bundles=10<br>Software/CLP=%{x}<br>=%{y}<extra></extra>",
         "legendgroup": "0",
         "marker": {
          "color": "#636efa"
         },
         "name": "0",
         "notched": false,
         "offsetgroup": "0",
         "orientation": "v",
         "showlegend": false,
         "type": "box",
         "x": [
          "DTN7-ng/QUICL",
          "DTN7-ng/QUICL",
          "DTN7-ng/QUICL",
          "DTN7-ng/QUICL",
          "DTN7-ng/QUICL",
          "DTN7-ng/QUICL",
          "DTN7-ng/QUICL",
          "DTN7-ng/QUICL",
          "DTN7-ng/QUICL",
          "DTN7-ng/QUICL",
          "DTN7-ng/MTCP",
          "DTN7-ng/MTCP",
          "DTN7-ng/MTCP",
          "DTN7-ng/MTCP",
          "DTN7-ng/MTCP",
          "DTN7-ng/MTCP",
          "DTN7-ng/MTCP",
          "DTN7-ng/MTCP",
          "DTN7-ng/MTCP",
          "DTN7-ng/MTCP"
         ],
         "x0": " ",
         "xaxis": "x",
         "y": [
          27.99,
          27.962,
          27.974,
          27.946,
          36.956,
          27.948,
          33.928,
          27.959,
          30.952,
          27.941,
          31.261,
          31.262,
          31.43,
          31.306,
          31.328,
          31.306,
          31.297,
          31.281,
          31.275,
          31.312
         ],
         "y0": " ",
         "yaxis": "y"
        },
        {
         "alignmentgroup": "True",
         "hovertemplate": "Loss (%)=0<br>Bundle Size=1 MB<br>Bundles=100<br>Software/CLP=%{x}<br>=%{y}<extra></extra>",
         "legendgroup": "0",
         "marker": {
          "color": "#636efa"
         },
         "name": "0",
         "notched": false,
         "offsetgroup": "0",
         "orientation": "v",
         "showlegend": false,
         "type": "box",
         "x": [
          "DTN7-ng/QUICL",
          "DTN7-ng/QUICL",
          "DTN7-ng/QUICL",
          "DTN7-ng/QUICL",
          "DTN7-ng/QUICL",
          "DTN7-ng/QUICL",
          "DTN7-ng/QUICL",
          "DTN7-ng/QUICL",
          "DTN7-ng/QUICL",
          "DTN7-ng/QUICL",
          "DTN7-ng/QUICL",
          "DTN7-ng/QUICL",
          "DTN7-ng/QUICL",
          "DTN7-ng/QUICL",
          "DTN7-ng/QUICL",
          "DTN7-ng/QUICL",
          "DTN7-ng/QUICL",
          "DTN7-ng/QUICL",
          "DTN7-ng/QUICL",
          "DTN7-ng/QUICL",
          "DTN7-ng/QUICL",
          "DTN7-ng/QUICL",
          "DTN7-ng/QUICL",
          "DTN7-ng/QUICL",
          "DTN7-ng/QUICL",
          "DTN7-ng/QUICL",
          "DTN7-ng/QUICL",
          "DTN7-ng/QUICL",
          "DTN7-ng/QUICL",
          "DTN7-ng/QUICL",
          "DTN7-ng/QUICL",
          "DTN7-ng/QUICL",
          "DTN7-ng/QUICL",
          "DTN7-ng/QUICL",
          "DTN7-ng/QUICL",
          "DTN7-ng/QUICL",
          "DTN7-ng/QUICL",
          "DTN7-ng/QUICL",
          "DTN7-ng/QUICL",
          "DTN7-ng/QUICL",
          "DTN7-ng/QUICL",
          "DTN7-ng/QUICL",
          "DTN7-ng/QUICL",
          "DTN7-ng/QUICL",
          "DTN7-ng/QUICL",
          "DTN7-ng/QUICL",
          "DTN7-ng/QUICL",
          "DTN7-ng/QUICL",
          "DTN7-ng/QUICL",
          "DTN7-ng/QUICL",
          "DTN7-ng/QUICL",
          "DTN7-ng/QUICL",
          "DTN7-ng/QUICL",
          "DTN7-ng/QUICL",
          "DTN7-ng/QUICL",
          "DTN7-ng/QUICL",
          "DTN7-ng/QUICL",
          "DTN7-ng/QUICL",
          "DTN7-ng/QUICL",
          "DTN7-ng/QUICL",
          "DTN7-ng/QUICL",
          "DTN7-ng/QUICL",
          "DTN7-ng/QUICL",
          "DTN7-ng/QUICL",
          "DTN7-ng/QUICL",
          "DTN7-ng/QUICL",
          "DTN7-ng/QUICL",
          "DTN7-ng/QUICL",
          "DTN7-ng/QUICL",
          "DTN7-ng/QUICL",
          "DTN7-ng/QUICL",
          "DTN7-ng/QUICL",
          "DTN7-ng/QUICL",
          "DTN7-ng/QUICL",
          "DTN7-ng/QUICL",
          "DTN7-ng/QUICL",
          "DTN7-ng/QUICL",
          "DTN7-ng/QUICL",
          "DTN7-ng/QUICL",
          "DTN7-ng/QUICL",
          "DTN7-ng/QUICL",
          "DTN7-ng/QUICL",
          "DTN7-ng/QUICL",
          "DTN7-ng/QUICL",
          "DTN7-ng/QUICL",
          "DTN7-ng/QUICL",
          "DTN7-ng/QUICL",
          "DTN7-ng/QUICL",
          "DTN7-ng/QUICL",
          "DTN7-ng/QUICL",
          "DTN7-ng/QUICL",
          "DTN7-ng/QUICL",
          "DTN7-ng/QUICL",
          "DTN7-ng/QUICL",
          "DTN7-ng/QUICL",
          "DTN7-ng/QUICL",
          "DTN7-ng/QUICL",
          "DTN7-ng/QUICL",
          "DTN7-ng/QUICL",
          "DTN7-ng/QUICL",
          "DTN7-ng/MTCP",
          "DTN7-ng/MTCP",
          "DTN7-ng/MTCP",
          "DTN7-ng/MTCP",
          "DTN7-ng/MTCP",
          "DTN7-ng/MTCP",
          "DTN7-ng/MTCP",
          "DTN7-ng/MTCP",
          "DTN7-ng/MTCP",
          "DTN7-ng/MTCP",
          "DTN7-ng/MTCP",
          "DTN7-ng/MTCP",
          "DTN7-ng/MTCP",
          "DTN7-ng/MTCP",
          "DTN7-ng/MTCP",
          "DTN7-ng/MTCP",
          "DTN7-ng/MTCP",
          "DTN7-ng/MTCP",
          "DTN7-ng/MTCP",
          "DTN7-ng/MTCP",
          "DTN7-ng/MTCP",
          "DTN7-ng/MTCP",
          "DTN7-ng/MTCP",
          "DTN7-ng/MTCP",
          "DTN7-ng/MTCP",
          "DTN7-ng/MTCP",
          "DTN7-ng/MTCP",
          "DTN7-ng/MTCP",
          "DTN7-ng/MTCP",
          "DTN7-ng/MTCP",
          "DTN7-ng/MTCP",
          "DTN7-ng/MTCP",
          "DTN7-ng/MTCP",
          "DTN7-ng/MTCP",
          "DTN7-ng/MTCP",
          "DTN7-ng/MTCP",
          "DTN7-ng/MTCP",
          "DTN7-ng/MTCP",
          "DTN7-ng/MTCP",
          "DTN7-ng/MTCP",
          "DTN7-ng/MTCP",
          "DTN7-ng/MTCP",
          "DTN7-ng/MTCP",
          "DTN7-ng/MTCP",
          "DTN7-ng/MTCP",
          "DTN7-ng/MTCP",
          "DTN7-ng/MTCP",
          "DTN7-ng/MTCP",
          "DTN7-ng/MTCP",
          "DTN7-ng/MTCP",
          "DTN7-ng/MTCP",
          "DTN7-ng/MTCP",
          "DTN7-ng/MTCP",
          "DTN7-ng/MTCP",
          "DTN7-ng/MTCP",
          "DTN7-ng/MTCP",
          "DTN7-ng/MTCP",
          "DTN7-ng/MTCP",
          "DTN7-ng/MTCP",
          "DTN7-ng/MTCP",
          "DTN7-ng/MTCP",
          "DTN7-ng/MTCP",
          "DTN7-ng/MTCP",
          "DTN7-ng/MTCP",
          "DTN7-ng/MTCP",
          "DTN7-ng/MTCP",
          "DTN7-ng/MTCP",
          "DTN7-ng/MTCP",
          "DTN7-ng/MTCP",
          "DTN7-ng/MTCP",
          "DTN7-ng/MTCP",
          "DTN7-ng/MTCP",
          "DTN7-ng/MTCP",
          "DTN7-ng/MTCP",
          "DTN7-ng/MTCP",
          "DTN7-ng/MTCP",
          "DTN7-ng/MTCP",
          "DTN7-ng/MTCP",
          "DTN7-ng/MTCP",
          "DTN7-ng/MTCP",
          "DTN7-ng/MTCP",
          "DTN7-ng/MTCP",
          "DTN7-ng/MTCP",
          "DTN7-ng/MTCP",
          "DTN7-ng/MTCP",
          "DTN7-ng/MTCP",
          "DTN7-ng/MTCP",
          "DTN7-ng/MTCP",
          "DTN7-ng/MTCP",
          "DTN7-ng/MTCP",
          "DTN7-ng/MTCP",
          "DTN7-ng/MTCP",
          "DTN7-ng/MTCP",
          "DTN7-ng/MTCP",
          "DTN7-ng/MTCP",
          "DTN7-ng/MTCP",
          "DTN7-ng/MTCP",
          "DTN7-ng/MTCP",
          "DTN7-ng/MTCP",
          "DTN7-ng/MTCP"
         ],
         "x0": " ",
         "xaxis": "x2",
         "y": [
          157.804,
          156.704,
          155.595,
          154.517,
          153.38,
          152.32,
          151.201,
          150.017,
          149.052,
          26.757,
          146.746,
          145.657,
          144.573,
          143.378,
          142.36,
          140.3,
          138.158,
          136.068,
          56.927,
          133.863,
          131.739,
          129.648,
          127.55,
          125.437,
          123.322,
          121.195,
          119.12,
          117.005,
          26.818,
          114.839,
          112.711,
          110.573,
          108.516,
          106.402,
          104.277,
          103.186,
          102.102,
          101.013,
          27.8,
          99.85,
          98.689,
          97.548,
          96.479,
          95.378,
          94.319,
          93.164,
          92.065,
          90.975,
          27.834,
          89.765,
          88.669,
          87.562,
          86.413,
          85.32,
          84.23,
          83.11,
          82.024,
          27.921,
          80.903,
          79.777,
          78.592,
          77.467,
          76.407,
          75.37,
          74.166,
          73.076,
          71.998,
          27.89,
          70.793,
          69.686,
          68.608,
          67.489,
          66.358,
          65.247,
          64.082,
          63.066,
          61.864,
          59.791,
          57.685,
          55.562,
          53.545,
          51.353,
          49.246,
          47.151,
          45.043,
          42.966,
          27.853,
          40.878,
          39.864,
          38.614,
          37.498,
          36.423,
          35.31,
          34.247,
          33.089,
          31.99,
          27.983,
          30.774,
          29.675,
          28.598,
          135.321,
          133.21,
          131.105,
          129.014,
          126.902,
          30.732,
          124.763,
          123.623,
          122.563,
          121.428,
          120.345,
          119.24,
          118.131,
          117.018,
          115.882,
          30.988,
          114.683,
          113.566,
          112.496,
          111.409,
          110.328,
          109.231,
          108.108,
          107.039,
          106.004,
          30.946,
          104.679,
          103.569,
          102.456,
          101.375,
          100.266,
          99.162,
          98.088,
          96.999,
          30.829,
          95.757,
          94.637,
          93.551,
          92.41,
          91.283,
          90.205,
          89.114,
          88.076,
          86.914,
          30.761,
          85.721,
          84.622,
          83.474,
          82.44,
          81.302,
          80.201,
          79.059,
          77.953,
          76.903,
          30.758,
          75.639,
          74.538,
          73.481,
          72.362,
          71.264,
          70.163,
          69.061,
          67.955,
          66.838,
          30.709,
          65.626,
          64.5,
          63.442,
          62.332,
          61.231,
          60.135,
          59.05,
          57.91,
          30.777,
          56.689,
          55.596,
          54.5,
          53.367,
          52.294,
          51.206,
          50.089,
          48.978,
          47.838,
          30.762,
          46.632,
          45.567,
          44.46,
          43.338,
          42.274,
          41.144,
          40.048,
          38.972,
          37.831,
          30.741,
          36.623,
          35.534,
          34.432,
          33.304,
          32.205,
          31.125
         ],
         "y0": " ",
         "yaxis": "y2"
        },
        {
         "alignmentgroup": "True",
         "hovertemplate": "Loss (%)=10<br>Bundle Size=1 kB<br>Bundles=10<br>Software/CLP=%{x}<br>=%{y}<extra></extra>",
         "legendgroup": "10",
         "marker": {
          "color": "#EF553B"
         },
         "name": "10",
         "notched": false,
         "offsetgroup": "10",
         "orientation": "v",
         "showlegend": true,
         "type": "box",
         "x": [
          "DTN7-ng/QUICL",
          "DTN7-ng/QUICL",
          "DTN7-ng/QUICL",
          "DTN7-ng/QUICL",
          "DTN7-ng/QUICL",
          "DTN7-ng/QUICL",
          "DTN7-ng/QUICL",
          "DTN7-ng/QUICL",
          "DTN7-ng/QUICL",
          "DTN7-ng/QUICL"
         ],
         "x0": " ",
         "xaxis": "x5",
         "y": [
          18.457,
          18.452,
          18.45,
          18.441,
          18.442,
          18.443,
          18.44,
          18.434,
          18.428,
          18.43
         ],
         "y0": " ",
         "yaxis": "y5"
        },
        {
         "alignmentgroup": "True",
         "hovertemplate": "Loss (%)=10<br>Bundle Size=1 kB<br>Bundles=100<br>Software/CLP=%{x}<br>=%{y}<extra></extra>",
         "legendgroup": "10",
         "marker": {
          "color": "#EF553B"
         },
         "name": "10",
         "notched": false,
         "offsetgroup": "10",
         "orientation": "v",
         "showlegend": false,
         "type": "box",
         "x": [
          "DTN7-ng/QUICL",
          "DTN7-ng/QUICL",
          "DTN7-ng/QUICL",
          "DTN7-ng/QUICL",
          "DTN7-ng/QUICL",
          "DTN7-ng/QUICL",
          "DTN7-ng/QUICL",
          "DTN7-ng/QUICL",
          "DTN7-ng/QUICL",
          "DTN7-ng/QUICL",
          "DTN7-ng/QUICL",
          "DTN7-ng/QUICL",
          "DTN7-ng/QUICL",
          "DTN7-ng/QUICL",
          "DTN7-ng/QUICL",
          "DTN7-ng/QUICL",
          "DTN7-ng/QUICL",
          "DTN7-ng/QUICL",
          "DTN7-ng/QUICL",
          "DTN7-ng/QUICL",
          "DTN7-ng/QUICL",
          "DTN7-ng/QUICL",
          "DTN7-ng/QUICL",
          "DTN7-ng/QUICL",
          "DTN7-ng/QUICL",
          "DTN7-ng/QUICL",
          "DTN7-ng/QUICL",
          "DTN7-ng/QUICL",
          "DTN7-ng/QUICL",
          "DTN7-ng/QUICL",
          "DTN7-ng/QUICL",
          "DTN7-ng/QUICL",
          "DTN7-ng/QUICL",
          "DTN7-ng/QUICL",
          "DTN7-ng/QUICL",
          "DTN7-ng/QUICL",
          "DTN7-ng/QUICL",
          "DTN7-ng/QUICL",
          "DTN7-ng/QUICL",
          "DTN7-ng/QUICL",
          "DTN7-ng/QUICL",
          "DTN7-ng/QUICL",
          "DTN7-ng/QUICL",
          "DTN7-ng/QUICL",
          "DTN7-ng/QUICL",
          "DTN7-ng/QUICL",
          "DTN7-ng/QUICL",
          "DTN7-ng/QUICL",
          "DTN7-ng/QUICL",
          "DTN7-ng/QUICL",
          "DTN7-ng/QUICL",
          "DTN7-ng/QUICL",
          "DTN7-ng/QUICL",
          "DTN7-ng/QUICL",
          "DTN7-ng/QUICL",
          "DTN7-ng/QUICL",
          "DTN7-ng/QUICL",
          "DTN7-ng/QUICL",
          "DTN7-ng/QUICL",
          "DTN7-ng/QUICL",
          "DTN7-ng/QUICL",
          "DTN7-ng/QUICL",
          "DTN7-ng/QUICL",
          "DTN7-ng/QUICL",
          "DTN7-ng/QUICL",
          "DTN7-ng/QUICL",
          "DTN7-ng/QUICL",
          "DTN7-ng/QUICL",
          "DTN7-ng/QUICL",
          "DTN7-ng/QUICL",
          "DTN7-ng/QUICL",
          "DTN7-ng/QUICL",
          "DTN7-ng/QUICL",
          "DTN7-ng/QUICL",
          "DTN7-ng/QUICL",
          "DTN7-ng/QUICL",
          "DTN7-ng/QUICL",
          "DTN7-ng/QUICL",
          "DTN7-ng/QUICL",
          "DTN7-ng/QUICL",
          "DTN7-ng/QUICL",
          "DTN7-ng/QUICL",
          "DTN7-ng/QUICL",
          "DTN7-ng/QUICL",
          "DTN7-ng/QUICL",
          "DTN7-ng/QUICL",
          "DTN7-ng/QUICL",
          "DTN7-ng/QUICL",
          "DTN7-ng/QUICL",
          "DTN7-ng/QUICL",
          "DTN7-ng/QUICL",
          "DTN7-ng/QUICL",
          "DTN7-ng/QUICL",
          "DTN7-ng/QUICL",
          "DTN7-ng/QUICL",
          "DTN7-ng/QUICL",
          "DTN7-ng/QUICL",
          "DTN7-ng/QUICL",
          "DTN7-ng/QUICL",
          "DTN7-ng/QUICL"
         ],
         "x0": " ",
         "xaxis": "x6",
         "y": [
          152.43,
          151.316,
          149.225,
          148.121,
          147.02,
          145.915,
          144.812,
          142.71,
          141.645,
          140.515,
          139.39,
          138.295,
          137.198,
          136.089,
          134.99,
          133.92,
          132.791,
          131.687,
          130.578,
          19.434,
          129.38,
          128.256,
          127.177,
          126.064,
          123.973,
          122.857,
          121.754,
          120.651,
          66.523,
          119.45,
          118.345,
          117.263,
          116.137,
          115.034,
          113.929,
          112.83,
          111.729,
          110.637,
          19.477,
          109.414,
          108.312,
          107.216,
          106.096,
          104.998,
          103.9,
          102.787,
          101.694,
          100.585,
          20.448,
          99.382,
          98.278,
          97.231,
          96.084,
          94.962,
          93.92,
          92.751,
          91.715,
          90.552,
          23.427,
          89.349,
          88.241,
          86.138,
          85.029,
          83.93,
          82.833,
          80.723,
          79.624,
          19.498,
          77.416,
          75.3,
          73.202,
          71.146,
          69.002,
          66.951,
          64.794,
          62.691,
          60.651,
          19.466,
          59.379,
          58.274,
          57.175,
          56.063,
          54.969,
          52.865,
          50.763,
          48.653,
          46.544,
          19.435,
          44.348,
          42.243,
          40.137,
          38.082,
          35.926,
          33.831,
          31.779,
          29.614,
          27.521,
          25.415,
          22.394,
          20.208
         ],
         "y0": " ",
         "yaxis": "y6"
        },
        {
         "alignmentgroup": "True",
         "hovertemplate": "Loss (%)=10<br>Bundle Size=100 kB<br>Bundles=10<br>Software/CLP=%{x}<br>=%{y}<extra></extra>",
         "legendgroup": "10",
         "marker": {
          "color": "#EF553B"
         },
         "name": "10",
         "notched": false,
         "offsetgroup": "10",
         "orientation": "v",
         "showlegend": false,
         "type": "box",
         "x": [
          "DTN7-ng/QUICL",
          "DTN7-ng/QUICL",
          "DTN7-ng/QUICL",
          "DTN7-ng/QUICL",
          "DTN7-ng/QUICL",
          "DTN7-ng/QUICL",
          "DTN7-ng/QUICL",
          "DTN7-ng/QUICL",
          "DTN7-ng/QUICL",
          "DTN7-ng/QUICL"
         ],
         "x0": " ",
         "xaxis": "x3",
         "y": [
          19.516,
          38.566,
          22.601,
          18.551,
          33.547,
          30.57,
          20.517,
          26.552,
          22.514,
          19.524
         ],
         "y0": " ",
         "yaxis": "y3"
        },
        {
         "alignmentgroup": "True",
         "hovertemplate": "Loss (%)=10<br>Bundle Size=100 kB<br>Bundles=100<br>Software/CLP=%{x}<br>=%{y}<extra></extra>",
         "legendgroup": "10",
         "marker": {
          "color": "#EF553B"
         },
         "name": "10",
         "notched": false,
         "offsetgroup": "10",
         "orientation": "v",
         "showlegend": false,
         "type": "box",
         "x": [
          "DTN7-ng/QUICL",
          "DTN7-ng/QUICL",
          "DTN7-ng/QUICL",
          "DTN7-ng/QUICL",
          "DTN7-ng/QUICL",
          "DTN7-ng/QUICL",
          "DTN7-ng/QUICL",
          "DTN7-ng/QUICL",
          "DTN7-ng/QUICL",
          "DTN7-ng/QUICL",
          "DTN7-ng/QUICL",
          "DTN7-ng/QUICL",
          "DTN7-ng/QUICL",
          "DTN7-ng/QUICL",
          "DTN7-ng/QUICL",
          "DTN7-ng/QUICL",
          "DTN7-ng/QUICL",
          "DTN7-ng/QUICL",
          "DTN7-ng/QUICL",
          "DTN7-ng/QUICL",
          "DTN7-ng/QUICL",
          "DTN7-ng/QUICL",
          "DTN7-ng/QUICL",
          "DTN7-ng/QUICL",
          "DTN7-ng/QUICL",
          "DTN7-ng/QUICL",
          "DTN7-ng/QUICL",
          "DTN7-ng/QUICL",
          "DTN7-ng/QUICL",
          "DTN7-ng/QUICL",
          "DTN7-ng/QUICL",
          "DTN7-ng/QUICL",
          "DTN7-ng/QUICL",
          "DTN7-ng/QUICL",
          "DTN7-ng/QUICL",
          "DTN7-ng/QUICL",
          "DTN7-ng/QUICL",
          "DTN7-ng/QUICL",
          "DTN7-ng/QUICL",
          "DTN7-ng/QUICL",
          "DTN7-ng/QUICL",
          "DTN7-ng/QUICL",
          "DTN7-ng/QUICL",
          "DTN7-ng/QUICL",
          "DTN7-ng/QUICL",
          "DTN7-ng/QUICL",
          "DTN7-ng/QUICL",
          "DTN7-ng/QUICL",
          "DTN7-ng/QUICL",
          "DTN7-ng/QUICL",
          "DTN7-ng/QUICL",
          "DTN7-ng/QUICL",
          "DTN7-ng/QUICL",
          "DTN7-ng/QUICL",
          "DTN7-ng/QUICL",
          "DTN7-ng/QUICL",
          "DTN7-ng/QUICL",
          "DTN7-ng/QUICL",
          "DTN7-ng/QUICL",
          "DTN7-ng/QUICL",
          "DTN7-ng/QUICL",
          "DTN7-ng/QUICL",
          "DTN7-ng/QUICL",
          "DTN7-ng/QUICL",
          "DTN7-ng/QUICL",
          "DTN7-ng/QUICL",
          "DTN7-ng/QUICL",
          "DTN7-ng/QUICL",
          "DTN7-ng/QUICL",
          "DTN7-ng/QUICL",
          "DTN7-ng/QUICL",
          "DTN7-ng/QUICL",
          "DTN7-ng/QUICL",
          "DTN7-ng/QUICL",
          "DTN7-ng/QUICL",
          "DTN7-ng/QUICL",
          "DTN7-ng/QUICL",
          "DTN7-ng/QUICL",
          "DTN7-ng/QUICL",
          "DTN7-ng/QUICL",
          "DTN7-ng/QUICL",
          "DTN7-ng/QUICL",
          "DTN7-ng/QUICL",
          "DTN7-ng/QUICL",
          "DTN7-ng/QUICL",
          "DTN7-ng/QUICL",
          "DTN7-ng/QUICL",
          "DTN7-ng/QUICL",
          "DTN7-ng/QUICL",
          "DTN7-ng/QUICL",
          "DTN7-ng/QUICL",
          "DTN7-ng/QUICL",
          "DTN7-ng/QUICL",
          "DTN7-ng/QUICL",
          "DTN7-ng/QUICL",
          "DTN7-ng/QUICL",
          "DTN7-ng/QUICL",
          "DTN7-ng/QUICL",
          "DTN7-ng/QUICL",
          "DTN7-ng/QUICL"
         ],
         "x0": " ",
         "xaxis": "x4",
         "y": [
          152.606,
          151.478,
          150.433,
          149.345,
          148.219,
          147.095,
          145.991,
          144.908,
          143.791,
          142.648,
          141.609,
          140.474,
          139.349,
          19.184,
          138.15,
          137.092,
          135.04,
          133.986,
          132.794,
          131.645,
          130.566,
          129.406,
          128.373,
          47.175,
          127.099,
          126.133,
          124.953,
          123.814,
          122.702,
          121.623,
          120.524,
          119.413,
          118.343,
          19.211,
          117.149,
          116.022,
          115.026,
          113.754,
          112.703,
          111.623,
          110.55,
          109.38,
          108.247,
          43.188,
          107.12,
          105.975,
          103.845,
          101.753,
          100.69,
          99.552,
          98.446,
          97.362,
          20.233,
          96.203,
          95.021,
          93.921,
          91.857,
          89.725,
          87.702,
          85.582,
          83.502,
          81.312,
          79.208,
          77.087,
          75.013,
          72.95,
          70.804,
          68.788,
          66.638,
          64.566,
          62.362,
          60.265,
          20.2,
          59.12,
          56.955,
          55.9,
          54.768,
          53.653,
          52.534,
          50.533,
          48.417,
          46.242,
          20.232,
          44.042,
          42.023,
          39.82,
          37.796,
          36.611,
          35.609,
          34.411,
          33.326,
          20.231,
          32.18,
          30.996,
          29.9,
          28.814,
          26.669,
          24.587,
          22.613,
          20.393
         ],
         "y0": " ",
         "yaxis": "y4"
        },
        {
         "alignmentgroup": "True",
         "hovertemplate": "Loss (%)=10<br>Bundle Size=1 MB<br>Bundles=10<br>Software/CLP=%{x}<br>=%{y}<extra></extra>",
         "legendgroup": "10",
         "marker": {
          "color": "#EF553B"
         },
         "name": "10",
         "notched": false,
         "offsetgroup": "10",
         "orientation": "v",
         "showlegend": false,
         "type": "box",
         "x": [
          "DTN7-ng/QUICL",
          "DTN7-ng/QUICL",
          "DTN7-ng/QUICL",
          "DTN7-ng/QUICL",
          "DTN7-ng/QUICL",
          "DTN7-ng/QUICL",
          "DTN7-ng/QUICL",
          "DTN7-ng/QUICL",
          "DTN7-ng/QUICL",
          "DTN7-ng/QUICL"
         ],
         "x0": " ",
         "xaxis": "x",
         "y": [
          40.202,
          66.332,
          62.357,
          42.23,
          57.508,
          42.168,
          52.31,
          50.511,
          45.996,
          42.551
         ],
         "y0": " ",
         "yaxis": "y"
        },
        {
         "alignmentgroup": "True",
         "hovertemplate": "Loss (%)=10<br>Bundle Size=1 MB<br>Bundles=100<br>Software/CLP=%{x}<br>=%{y}<extra></extra>",
         "legendgroup": "10",
         "marker": {
          "color": "#EF553B"
         },
         "name": "10",
         "notched": false,
         "offsetgroup": "10",
         "orientation": "v",
         "showlegend": false,
         "type": "box",
         "x": [
          "DTN7-ng/QUICL",
          "DTN7-ng/QUICL",
          "DTN7-ng/QUICL",
          "DTN7-ng/QUICL",
          "DTN7-ng/QUICL",
          "DTN7-ng/QUICL",
          "DTN7-ng/QUICL",
          "DTN7-ng/QUICL",
          "DTN7-ng/QUICL",
          "DTN7-ng/QUICL",
          "DTN7-ng/QUICL",
          "DTN7-ng/QUICL",
          "DTN7-ng/QUICL",
          "DTN7-ng/QUICL",
          "DTN7-ng/QUICL",
          "DTN7-ng/QUICL",
          "DTN7-ng/QUICL",
          "DTN7-ng/QUICL",
          "DTN7-ng/QUICL",
          "DTN7-ng/QUICL",
          "DTN7-ng/QUICL",
          "DTN7-ng/QUICL",
          "DTN7-ng/QUICL",
          "DTN7-ng/QUICL",
          "DTN7-ng/QUICL",
          "DTN7-ng/QUICL",
          "DTN7-ng/QUICL",
          "DTN7-ng/QUICL",
          "DTN7-ng/QUICL",
          "DTN7-ng/QUICL",
          "DTN7-ng/QUICL",
          "DTN7-ng/QUICL",
          "DTN7-ng/QUICL",
          "DTN7-ng/QUICL",
          "DTN7-ng/QUICL",
          "DTN7-ng/QUICL",
          "DTN7-ng/QUICL",
          "DTN7-ng/QUICL",
          "DTN7-ng/QUICL",
          "DTN7-ng/QUICL",
          "DTN7-ng/QUICL",
          "DTN7-ng/QUICL",
          "DTN7-ng/QUICL",
          "DTN7-ng/QUICL",
          "DTN7-ng/QUICL",
          "DTN7-ng/QUICL",
          "DTN7-ng/QUICL",
          "DTN7-ng/QUICL",
          "DTN7-ng/QUICL",
          "DTN7-ng/QUICL",
          "DTN7-ng/QUICL",
          "DTN7-ng/QUICL",
          "DTN7-ng/QUICL",
          "DTN7-ng/QUICL",
          "DTN7-ng/QUICL",
          "DTN7-ng/QUICL",
          "DTN7-ng/QUICL",
          "DTN7-ng/QUICL",
          "DTN7-ng/QUICL",
          "DTN7-ng/QUICL",
          "DTN7-ng/QUICL",
          "DTN7-ng/QUICL",
          "DTN7-ng/QUICL",
          "DTN7-ng/QUICL",
          "DTN7-ng/QUICL",
          "DTN7-ng/QUICL",
          "DTN7-ng/QUICL",
          "DTN7-ng/QUICL",
          "DTN7-ng/QUICL",
          "DTN7-ng/QUICL",
          "DTN7-ng/QUICL",
          "DTN7-ng/QUICL",
          "DTN7-ng/QUICL",
          "DTN7-ng/QUICL",
          "DTN7-ng/QUICL",
          "DTN7-ng/QUICL",
          "DTN7-ng/QUICL",
          "DTN7-ng/QUICL",
          "DTN7-ng/QUICL",
          "DTN7-ng/QUICL",
          "DTN7-ng/QUICL",
          "DTN7-ng/QUICL",
          "DTN7-ng/QUICL",
          "DTN7-ng/QUICL",
          "DTN7-ng/QUICL",
          "DTN7-ng/QUICL",
          "DTN7-ng/QUICL",
          "DTN7-ng/QUICL",
          "DTN7-ng/QUICL",
          "DTN7-ng/QUICL",
          "DTN7-ng/QUICL",
          "DTN7-ng/QUICL",
          "DTN7-ng/QUICL",
          "DTN7-ng/QUICL",
          "DTN7-ng/QUICL",
          "DTN7-ng/QUICL",
          "DTN7-ng/QUICL",
          "DTN7-ng/QUICL",
          "DTN7-ng/QUICL",
          "DTN7-ng/QUICL"
         ],
         "x0": " ",
         "xaxis": "x2",
         "y": [
          203.601,
          202.608,
          201.562,
          200.395,
          199.101,
          198.251,
          194.745,
          193.883,
          36.619,
          192.688,
          189.702,
          187.462,
          186.316,
          185.073,
          184.132,
          181.065,
          180.274,
          179.091,
          171.877,
          177.491,
          176.379,
          175.523,
          173.363,
          170.407,
          169.115,
          168.113,
          166.928,
          165.804,
          164.942,
          163.506,
          161.574,
          160.3,
          157.349,
          156.107,
          154.951,
          154.104,
          152.857,
          41.727,
          151.795,
          150.677,
          149.511,
          146.45,
          145.621,
          144.423,
          143.108,
          141.829,
          140.88,
          41.787,
          139.753,
          137.477,
          136.369,
          135.171,
          134.081,
          133.049,
          132.14,
          130.841,
          129.696,
          126.82,
          126.036,
          124.314,
          123.263,
          122.148,
          120.201,
          119.077,
          117.936,
          116.836,
          72.774,
          115.61,
          114.454,
          113.37,
          110.475,
          109.437,
          108.069,
          106.79,
          106.046,
          104.74,
          43.507,
          101.744,
          100.762,
          98.195,
          95.335,
          93.203,
          90.167,
          89.319,
          85.973,
          83.735,
          44.677,
          80.55,
          77.473,
          74.142,
          71.078,
          68.149,
          65.375,
          64.418,
          61.126,
          51.658,
          57.64,
          53.682,
          48.296,
          45.576
         ],
         "y0": " ",
         "yaxis": "y2"
        }
       ],
       "layout": {
        "annotations": [
         {
          "showarrow": false,
          "text": "Bundles: 10",
          "x": 0.24,
          "xanchor": "center",
          "xref": "paper",
          "y": 0.9999999999999998,
          "yanchor": "bottom",
          "yref": "paper"
         },
         {
          "showarrow": false,
          "text": "Bundles: 100",
          "x": 0.74,
          "xanchor": "center",
          "xref": "paper",
          "y": 0.9999999999999998,
          "yanchor": "bottom",
          "yref": "paper"
         },
         {
          "showarrow": false,
          "text": "1 MB",
          "textangle": 90,
          "x": 0.98,
          "xanchor": "left",
          "xref": "paper",
          "y": 0.15666666666666665,
          "yanchor": "middle",
          "yref": "paper"
         },
         {
          "showarrow": false,
          "text": "100 kB",
          "textangle": 90,
          "x": 0.98,
          "xanchor": "left",
          "xref": "paper",
          "y": 0.4999999999999999,
          "yanchor": "middle",
          "yref": "paper"
         },
         {
          "showarrow": false,
          "text": "1 kB",
          "textangle": 90,
          "x": 0.98,
          "xanchor": "left",
          "xref": "paper",
          "y": 0.8433333333333332,
          "yanchor": "middle",
          "yref": "paper"
         },
         {
          "font": {
           "size": 14
          },
          "text": "Runtime (s)",
          "textangle": -90,
          "x": -0.05,
          "xref": "paper",
          "y": 0.35,
          "yref": "paper"
         }
        ],
        "boxmode": "group",
        "legend": {
         "title": {
          "text": "Loss (%)"
         },
         "tracegroupgap": 0
        },
        "margin": {
         "b": 0,
         "l": 0,
         "r": 0,
         "t": 20
        },
        "template": {
         "data": {
          "bar": [
           {
            "error_x": {
             "color": "#2a3f5f"
            },
            "error_y": {
             "color": "#2a3f5f"
            },
            "marker": {
             "line": {
              "color": "#E5ECF6",
              "width": 0.5
             },
             "pattern": {
              "fillmode": "overlay",
              "size": 10,
              "solidity": 0.2
             }
            },
            "type": "bar"
           }
          ],
          "barpolar": [
           {
            "marker": {
             "line": {
              "color": "#E5ECF6",
              "width": 0.5
             },
             "pattern": {
              "fillmode": "overlay",
              "size": 10,
              "solidity": 0.2
             }
            },
            "type": "barpolar"
           }
          ],
          "carpet": [
           {
            "aaxis": {
             "endlinecolor": "#2a3f5f",
             "gridcolor": "white",
             "linecolor": "white",
             "minorgridcolor": "white",
             "startlinecolor": "#2a3f5f"
            },
            "baxis": {
             "endlinecolor": "#2a3f5f",
             "gridcolor": "white",
             "linecolor": "white",
             "minorgridcolor": "white",
             "startlinecolor": "#2a3f5f"
            },
            "type": "carpet"
           }
          ],
          "choropleth": [
           {
            "colorbar": {
             "outlinewidth": 0,
             "ticks": ""
            },
            "type": "choropleth"
           }
          ],
          "contour": [
           {
            "colorbar": {
             "outlinewidth": 0,
             "ticks": ""
            },
            "colorscale": [
             [
              0,
              "#0d0887"
             ],
             [
              0.1111111111111111,
              "#46039f"
             ],
             [
              0.2222222222222222,
              "#7201a8"
             ],
             [
              0.3333333333333333,
              "#9c179e"
             ],
             [
              0.4444444444444444,
              "#bd3786"
             ],
             [
              0.5555555555555556,
              "#d8576b"
             ],
             [
              0.6666666666666666,
              "#ed7953"
             ],
             [
              0.7777777777777778,
              "#fb9f3a"
             ],
             [
              0.8888888888888888,
              "#fdca26"
             ],
             [
              1,
              "#f0f921"
             ]
            ],
            "type": "contour"
           }
          ],
          "contourcarpet": [
           {
            "colorbar": {
             "outlinewidth": 0,
             "ticks": ""
            },
            "type": "contourcarpet"
           }
          ],
          "heatmap": [
           {
            "colorbar": {
             "outlinewidth": 0,
             "ticks": ""
            },
            "colorscale": [
             [
              0,
              "#0d0887"
             ],
             [
              0.1111111111111111,
              "#46039f"
             ],
             [
              0.2222222222222222,
              "#7201a8"
             ],
             [
              0.3333333333333333,
              "#9c179e"
             ],
             [
              0.4444444444444444,
              "#bd3786"
             ],
             [
              0.5555555555555556,
              "#d8576b"
             ],
             [
              0.6666666666666666,
              "#ed7953"
             ],
             [
              0.7777777777777778,
              "#fb9f3a"
             ],
             [
              0.8888888888888888,
              "#fdca26"
             ],
             [
              1,
              "#f0f921"
             ]
            ],
            "type": "heatmap"
           }
          ],
          "heatmapgl": [
           {
            "colorbar": {
             "outlinewidth": 0,
             "ticks": ""
            },
            "colorscale": [
             [
              0,
              "#0d0887"
             ],
             [
              0.1111111111111111,
              "#46039f"
             ],
             [
              0.2222222222222222,
              "#7201a8"
             ],
             [
              0.3333333333333333,
              "#9c179e"
             ],
             [
              0.4444444444444444,
              "#bd3786"
             ],
             [
              0.5555555555555556,
              "#d8576b"
             ],
             [
              0.6666666666666666,
              "#ed7953"
             ],
             [
              0.7777777777777778,
              "#fb9f3a"
             ],
             [
              0.8888888888888888,
              "#fdca26"
             ],
             [
              1,
              "#f0f921"
             ]
            ],
            "type": "heatmapgl"
           }
          ],
          "histogram": [
           {
            "marker": {
             "pattern": {
              "fillmode": "overlay",
              "size": 10,
              "solidity": 0.2
             }
            },
            "type": "histogram"
           }
          ],
          "histogram2d": [
           {
            "colorbar": {
             "outlinewidth": 0,
             "ticks": ""
            },
            "colorscale": [
             [
              0,
              "#0d0887"
             ],
             [
              0.1111111111111111,
              "#46039f"
             ],
             [
              0.2222222222222222,
              "#7201a8"
             ],
             [
              0.3333333333333333,
              "#9c179e"
             ],
             [
              0.4444444444444444,
              "#bd3786"
             ],
             [
              0.5555555555555556,
              "#d8576b"
             ],
             [
              0.6666666666666666,
              "#ed7953"
             ],
             [
              0.7777777777777778,
              "#fb9f3a"
             ],
             [
              0.8888888888888888,
              "#fdca26"
             ],
             [
              1,
              "#f0f921"
             ]
            ],
            "type": "histogram2d"
           }
          ],
          "histogram2dcontour": [
           {
            "colorbar": {
             "outlinewidth": 0,
             "ticks": ""
            },
            "colorscale": [
             [
              0,
              "#0d0887"
             ],
             [
              0.1111111111111111,
              "#46039f"
             ],
             [
              0.2222222222222222,
              "#7201a8"
             ],
             [
              0.3333333333333333,
              "#9c179e"
             ],
             [
              0.4444444444444444,
              "#bd3786"
             ],
             [
              0.5555555555555556,
              "#d8576b"
             ],
             [
              0.6666666666666666,
              "#ed7953"
             ],
             [
              0.7777777777777778,
              "#fb9f3a"
             ],
             [
              0.8888888888888888,
              "#fdca26"
             ],
             [
              1,
              "#f0f921"
             ]
            ],
            "type": "histogram2dcontour"
           }
          ],
          "mesh3d": [
           {
            "colorbar": {
             "outlinewidth": 0,
             "ticks": ""
            },
            "type": "mesh3d"
           }
          ],
          "parcoords": [
           {
            "line": {
             "colorbar": {
              "outlinewidth": 0,
              "ticks": ""
             }
            },
            "type": "parcoords"
           }
          ],
          "pie": [
           {
            "automargin": true,
            "type": "pie"
           }
          ],
          "scatter": [
           {
            "fillpattern": {
             "fillmode": "overlay",
             "size": 10,
             "solidity": 0.2
            },
            "type": "scatter"
           }
          ],
          "scatter3d": [
           {
            "line": {
             "colorbar": {
              "outlinewidth": 0,
              "ticks": ""
             }
            },
            "marker": {
             "colorbar": {
              "outlinewidth": 0,
              "ticks": ""
             }
            },
            "type": "scatter3d"
           }
          ],
          "scattercarpet": [
           {
            "marker": {
             "colorbar": {
              "outlinewidth": 0,
              "ticks": ""
             }
            },
            "type": "scattercarpet"
           }
          ],
          "scattergeo": [
           {
            "marker": {
             "colorbar": {
              "outlinewidth": 0,
              "ticks": ""
             }
            },
            "type": "scattergeo"
           }
          ],
          "scattergl": [
           {
            "marker": {
             "colorbar": {
              "outlinewidth": 0,
              "ticks": ""
             }
            },
            "type": "scattergl"
           }
          ],
          "scattermapbox": [
           {
            "marker": {
             "colorbar": {
              "outlinewidth": 0,
              "ticks": ""
             }
            },
            "type": "scattermapbox"
           }
          ],
          "scatterpolar": [
           {
            "marker": {
             "colorbar": {
              "outlinewidth": 0,
              "ticks": ""
             }
            },
            "type": "scatterpolar"
           }
          ],
          "scatterpolargl": [
           {
            "marker": {
             "colorbar": {
              "outlinewidth": 0,
              "ticks": ""
             }
            },
            "type": "scatterpolargl"
           }
          ],
          "scatterternary": [
           {
            "marker": {
             "colorbar": {
              "outlinewidth": 0,
              "ticks": ""
             }
            },
            "type": "scatterternary"
           }
          ],
          "surface": [
           {
            "colorbar": {
             "outlinewidth": 0,
             "ticks": ""
            },
            "colorscale": [
             [
              0,
              "#0d0887"
             ],
             [
              0.1111111111111111,
              "#46039f"
             ],
             [
              0.2222222222222222,
              "#7201a8"
             ],
             [
              0.3333333333333333,
              "#9c179e"
             ],
             [
              0.4444444444444444,
              "#bd3786"
             ],
             [
              0.5555555555555556,
              "#d8576b"
             ],
             [
              0.6666666666666666,
              "#ed7953"
             ],
             [
              0.7777777777777778,
              "#fb9f3a"
             ],
             [
              0.8888888888888888,
              "#fdca26"
             ],
             [
              1,
              "#f0f921"
             ]
            ],
            "type": "surface"
           }
          ],
          "table": [
           {
            "cells": {
             "fill": {
              "color": "#EBF0F8"
             },
             "line": {
              "color": "white"
             }
            },
            "header": {
             "fill": {
              "color": "#C8D4E3"
             },
             "line": {
              "color": "white"
             }
            },
            "type": "table"
           }
          ]
         },
         "layout": {
          "annotationdefaults": {
           "arrowcolor": "#2a3f5f",
           "arrowhead": 0,
           "arrowwidth": 1
          },
          "autotypenumbers": "strict",
          "coloraxis": {
           "colorbar": {
            "outlinewidth": 0,
            "ticks": ""
           }
          },
          "colorscale": {
           "diverging": [
            [
             0,
             "#8e0152"
            ],
            [
             0.1,
             "#c51b7d"
            ],
            [
             0.2,
             "#de77ae"
            ],
            [
             0.3,
             "#f1b6da"
            ],
            [
             0.4,
             "#fde0ef"
            ],
            [
             0.5,
             "#f7f7f7"
            ],
            [
             0.6,
             "#e6f5d0"
            ],
            [
             0.7,
             "#b8e186"
            ],
            [
             0.8,
             "#7fbc41"
            ],
            [
             0.9,
             "#4d9221"
            ],
            [
             1,
             "#276419"
            ]
           ],
           "sequential": [
            [
             0,
             "#0d0887"
            ],
            [
             0.1111111111111111,
             "#46039f"
            ],
            [
             0.2222222222222222,
             "#7201a8"
            ],
            [
             0.3333333333333333,
             "#9c179e"
            ],
            [
             0.4444444444444444,
             "#bd3786"
            ],
            [
             0.5555555555555556,
             "#d8576b"
            ],
            [
             0.6666666666666666,
             "#ed7953"
            ],
            [
             0.7777777777777778,
             "#fb9f3a"
            ],
            [
             0.8888888888888888,
             "#fdca26"
            ],
            [
             1,
             "#f0f921"
            ]
           ],
           "sequentialminus": [
            [
             0,
             "#0d0887"
            ],
            [
             0.1111111111111111,
             "#46039f"
            ],
            [
             0.2222222222222222,
             "#7201a8"
            ],
            [
             0.3333333333333333,
             "#9c179e"
            ],
            [
             0.4444444444444444,
             "#bd3786"
            ],
            [
             0.5555555555555556,
             "#d8576b"
            ],
            [
             0.6666666666666666,
             "#ed7953"
            ],
            [
             0.7777777777777778,
             "#fb9f3a"
            ],
            [
             0.8888888888888888,
             "#fdca26"
            ],
            [
             1,
             "#f0f921"
            ]
           ]
          },
          "colorway": [
           "#636efa",
           "#EF553B",
           "#00cc96",
           "#ab63fa",
           "#FFA15A",
           "#19d3f3",
           "#FF6692",
           "#B6E880",
           "#FF97FF",
           "#FECB52"
          ],
          "font": {
           "color": "#2a3f5f"
          },
          "geo": {
           "bgcolor": "white",
           "lakecolor": "white",
           "landcolor": "#E5ECF6",
           "showlakes": true,
           "showland": true,
           "subunitcolor": "white"
          },
          "hoverlabel": {
           "align": "left"
          },
          "hovermode": "closest",
          "mapbox": {
           "style": "light"
          },
          "paper_bgcolor": "white",
          "plot_bgcolor": "#E5ECF6",
          "polar": {
           "angularaxis": {
            "gridcolor": "white",
            "linecolor": "white",
            "ticks": ""
           },
           "bgcolor": "#E5ECF6",
           "radialaxis": {
            "gridcolor": "white",
            "linecolor": "white",
            "ticks": ""
           }
          },
          "scene": {
           "xaxis": {
            "backgroundcolor": "#E5ECF6",
            "gridcolor": "white",
            "gridwidth": 2,
            "linecolor": "white",
            "showbackground": true,
            "ticks": "",
            "zerolinecolor": "white"
           },
           "yaxis": {
            "backgroundcolor": "#E5ECF6",
            "gridcolor": "white",
            "gridwidth": 2,
            "linecolor": "white",
            "showbackground": true,
            "ticks": "",
            "zerolinecolor": "white"
           },
           "zaxis": {
            "backgroundcolor": "#E5ECF6",
            "gridcolor": "white",
            "gridwidth": 2,
            "linecolor": "white",
            "showbackground": true,
            "ticks": "",
            "zerolinecolor": "white"
           }
          },
          "shapedefaults": {
           "line": {
            "color": "#2a3f5f"
           }
          },
          "ternary": {
           "aaxis": {
            "gridcolor": "white",
            "linecolor": "white",
            "ticks": ""
           },
           "baxis": {
            "gridcolor": "white",
            "linecolor": "white",
            "ticks": ""
           },
           "bgcolor": "#E5ECF6",
           "caxis": {
            "gridcolor": "white",
            "linecolor": "white",
            "ticks": ""
           }
          },
          "title": {
           "x": 0.05
          },
          "xaxis": {
           "automargin": true,
           "gridcolor": "white",
           "linecolor": "white",
           "ticks": "",
           "title": {
            "standoff": 15
           },
           "zerolinecolor": "white",
           "zerolinewidth": 2
          },
          "yaxis": {
           "automargin": true,
           "gridcolor": "white",
           "linecolor": "white",
           "ticks": "",
           "title": {
            "standoff": 15
           },
           "zerolinecolor": "white",
           "zerolinewidth": 2
          }
         }
        },
        "xaxis": {
         "anchor": "y",
         "categoryarray": [
          "Serval",
          "IBR-DTN/TCPCL",
          "DTN7-rs/MTCP",
          "DTN7-rs/TCPCL",
          "DTN7-rs/HTTP",
          "DTN7-ng/MTCP",
          "DTN7-ng/QUICL"
         ],
         "categoryorder": "array",
         "domain": [
          0,
          0.48
         ],
         "title": {
          "text": "Software/CLP"
         }
        },
        "xaxis2": {
         "anchor": "y2",
         "categoryarray": [
          "Serval",
          "IBR-DTN/TCPCL",
          "DTN7-rs/MTCP",
          "DTN7-rs/TCPCL",
          "DTN7-rs/HTTP",
          "DTN7-ng/MTCP",
          "DTN7-ng/QUICL"
         ],
         "categoryorder": "array",
         "domain": [
          0.5,
          0.98
         ],
         "matches": "x",
         "title": {
          "text": "Software/CLP"
         }
        },
        "xaxis3": {
         "anchor": "y3",
         "domain": [
          0,
          0.48
         ],
         "matches": "x",
         "showticklabels": false
        },
        "xaxis4": {
         "anchor": "y4",
         "domain": [
          0.5,
          0.98
         ],
         "matches": "x",
         "showticklabels": false
        },
        "xaxis5": {
         "anchor": "y5",
         "domain": [
          0,
          0.48
         ],
         "matches": "x",
         "showticklabels": false
        },
        "xaxis6": {
         "anchor": "y6",
         "domain": [
          0.5,
          0.98
         ],
         "matches": "x",
         "showticklabels": false
        },
        "yaxis": {
         "anchor": "x",
         "domain": [
          0,
          0.3133333333333333
         ],
         "title": {
          "text": ""
         }
        },
        "yaxis2": {
         "anchor": "x2",
         "domain": [
          0,
          0.3133333333333333
         ],
         "matches": "y",
         "showticklabels": false
        },
        "yaxis3": {
         "anchor": "x3",
         "domain": [
          0.34333333333333327,
          0.6566666666666665
         ],
         "matches": "y",
         "title": {
          "text": ""
         }
        },
        "yaxis4": {
         "anchor": "x4",
         "domain": [
          0.34333333333333327,
          0.6566666666666665
         ],
         "matches": "y",
         "showticklabels": false
        },
        "yaxis5": {
         "anchor": "x5",
         "domain": [
          0.6866666666666665,
          0.9999999999999998
         ],
         "matches": "y",
         "title": {
          "text": ""
         }
        },
        "yaxis6": {
         "anchor": "x6",
         "domain": [
          0.6866666666666665,
          0.9999999999999998
         ],
         "matches": "y",
         "showticklabels": false
        }
       }
      },
      "text/html": [
       "<div>                            <div id=\"c1c7e220-c386-4d8f-acc5-5cb85f0fa537\" class=\"plotly-graph-div\" style=\"height:525px; width:100%;\"></div>            <script type=\"text/javascript\">                require([\"plotly\"], function(Plotly) {                    window.PLOTLYENV=window.PLOTLYENV || {};                                    if (document.getElementById(\"c1c7e220-c386-4d8f-acc5-5cb85f0fa537\")) {                    Plotly.newPlot(                        \"c1c7e220-c386-4d8f-acc5-5cb85f0fa537\",                        [{\"alignmentgroup\":\"True\",\"hovertemplate\":\"Loss (%)=0<br>Bundle Size=1 kB<br>Bundles=10<br>Software/CLP=%{x}<br>=%{y}<extra></extra>\",\"legendgroup\":\"0\",\"marker\":{\"color\":\"#636efa\"},\"name\":\"0\",\"notched\":false,\"offsetgroup\":\"0\",\"orientation\":\"v\",\"showlegend\":true,\"x\":[\"DTN7-ng/MTCP\",\"DTN7-ng/MTCP\",\"DTN7-ng/MTCP\",\"DTN7-ng/MTCP\",\"DTN7-ng/MTCP\",\"DTN7-ng/MTCP\",\"DTN7-ng/MTCP\",\"DTN7-ng/MTCP\",\"DTN7-ng/MTCP\",\"DTN7-ng/MTCP\",\"DTN7-ng/QUICL\",\"DTN7-ng/QUICL\",\"DTN7-ng/QUICL\",\"DTN7-ng/QUICL\",\"DTN7-ng/QUICL\",\"DTN7-ng/QUICL\",\"DTN7-ng/QUICL\",\"DTN7-ng/QUICL\",\"DTN7-ng/QUICL\",\"DTN7-ng/QUICL\"],\"x0\":\" \",\"xaxis\":\"x5\",\"y\":[27.144,38.15,27.142,28.135,28.137,28.135,28.135,28.131,28.127,28.125,17.353,17.347,17.348,17.34,17.337,17.336,17.335,17.332,17.328,17.32],\"y0\":\" \",\"yaxis\":\"y5\",\"type\":\"box\"},{\"alignmentgroup\":\"True\",\"hovertemplate\":\"Loss (%)=0<br>Bundle Size=1 kB<br>Bundles=100<br>Software/CLP=%{x}<br>=%{y}<extra></extra>\",\"legendgroup\":\"0\",\"marker\":{\"color\":\"#636efa\"},\"name\":\"0\",\"notched\":false,\"offsetgroup\":\"0\",\"orientation\":\"v\",\"showlegend\":false,\"x\":[\"DTN7-ng/MTCP\",\"DTN7-ng/MTCP\",\"DTN7-ng/MTCP\",\"DTN7-ng/MTCP\",\"DTN7-ng/MTCP\",\"DTN7-ng/MTCP\",\"DTN7-ng/MTCP\",\"DTN7-ng/MTCP\",\"DTN7-ng/MTCP\",\"DTN7-ng/MTCP\",\"DTN7-ng/MTCP\",\"DTN7-ng/MTCP\",\"DTN7-ng/MTCP\",\"DTN7-ng/MTCP\",\"DTN7-ng/MTCP\",\"DTN7-ng/MTCP\",\"DTN7-ng/MTCP\",\"DTN7-ng/MTCP\",\"DTN7-ng/MTCP\",\"DTN7-ng/MTCP\",\"DTN7-ng/MTCP\",\"DTN7-ng/MTCP\",\"DTN7-ng/MTCP\",\"DTN7-ng/MTCP\",\"DTN7-ng/MTCP\",\"DTN7-ng/MTCP\",\"DTN7-ng/MTCP\",\"DTN7-ng/MTCP\",\"DTN7-ng/MTCP\",\"DTN7-ng/MTCP\",\"DTN7-ng/MTCP\",\"DTN7-ng/MTCP\",\"DTN7-ng/MTCP\",\"DTN7-ng/MTCP\",\"DTN7-ng/MTCP\",\"DTN7-ng/MTCP\",\"DTN7-ng/MTCP\",\"DTN7-ng/MTCP\",\"DTN7-ng/MTCP\",\"DTN7-ng/MTCP\",\"DTN7-ng/MTCP\",\"DTN7-ng/MTCP\",\"DTN7-ng/MTCP\",\"DTN7-ng/MTCP\",\"DTN7-ng/MTCP\",\"DTN7-ng/MTCP\",\"DTN7-ng/MTCP\",\"DTN7-ng/MTCP\",\"DTN7-ng/MTCP\",\"DTN7-ng/MTCP\",\"DTN7-ng/MTCP\",\"DTN7-ng/MTCP\",\"DTN7-ng/MTCP\",\"DTN7-ng/MTCP\",\"DTN7-ng/MTCP\",\"DTN7-ng/MTCP\",\"DTN7-ng/MTCP\",\"DTN7-ng/MTCP\",\"DTN7-ng/MTCP\",\"DTN7-ng/MTCP\",\"DTN7-ng/MTCP\",\"DTN7-ng/MTCP\",\"DTN7-ng/MTCP\",\"DTN7-ng/MTCP\",\"DTN7-ng/MTCP\",\"DTN7-ng/MTCP\",\"DTN7-ng/MTCP\",\"DTN7-ng/MTCP\",\"DTN7-ng/MTCP\",\"DTN7-ng/MTCP\",\"DTN7-ng/MTCP\",\"DTN7-ng/MTCP\",\"DTN7-ng/MTCP\",\"DTN7-ng/MTCP\",\"DTN7-ng/MTCP\",\"DTN7-ng/MTCP\",\"DTN7-ng/MTCP\",\"DTN7-ng/MTCP\",\"DTN7-ng/MTCP\",\"DTN7-ng/MTCP\",\"DTN7-ng/MTCP\",\"DTN7-ng/MTCP\",\"DTN7-ng/MTCP\",\"DTN7-ng/MTCP\",\"DTN7-ng/MTCP\",\"DTN7-ng/MTCP\",\"DTN7-ng/MTCP\",\"DTN7-ng/MTCP\",\"DTN7-ng/MTCP\",\"DTN7-ng/MTCP\",\"DTN7-ng/MTCP\",\"DTN7-ng/MTCP\",\"DTN7-ng/MTCP\",\"DTN7-ng/MTCP\",\"DTN7-ng/MTCP\",\"DTN7-ng/MTCP\",\"DTN7-ng/MTCP\",\"DTN7-ng/MTCP\",\"DTN7-ng/MTCP\",\"DTN7-ng/MTCP\",\"DTN7-ng/QUICL\",\"DTN7-ng/QUICL\",\"DTN7-ng/QUICL\",\"DTN7-ng/QUICL\",\"DTN7-ng/QUICL\",\"DTN7-ng/QUICL\",\"DTN7-ng/QUICL\",\"DTN7-ng/QUICL\",\"DTN7-ng/QUICL\",\"DTN7-ng/QUICL\",\"DTN7-ng/QUICL\",\"DTN7-ng/QUICL\",\"DTN7-ng/QUICL\",\"DTN7-ng/QUICL\",\"DTN7-ng/QUICL\",\"DTN7-ng/QUICL\",\"DTN7-ng/QUICL\",\"DTN7-ng/QUICL\",\"DTN7-ng/QUICL\",\"DTN7-ng/QUICL\",\"DTN7-ng/QUICL\",\"DTN7-ng/QUICL\",\"DTN7-ng/QUICL\",\"DTN7-ng/QUICL\",\"DTN7-ng/QUICL\",\"DTN7-ng/QUICL\",\"DTN7-ng/QUICL\",\"DTN7-ng/QUICL\",\"DTN7-ng/QUICL\",\"DTN7-ng/QUICL\",\"DTN7-ng/QUICL\",\"DTN7-ng/QUICL\",\"DTN7-ng/QUICL\",\"DTN7-ng/QUICL\",\"DTN7-ng/QUICL\",\"DTN7-ng/QUICL\",\"DTN7-ng/QUICL\",\"DTN7-ng/QUICL\",\"DTN7-ng/QUICL\",\"DTN7-ng/QUICL\",\"DTN7-ng/QUICL\",\"DTN7-ng/QUICL\",\"DTN7-ng/QUICL\",\"DTN7-ng/QUICL\",\"DTN7-ng/QUICL\",\"DTN7-ng/QUICL\",\"DTN7-ng/QUICL\",\"DTN7-ng/QUICL\",\"DTN7-ng/QUICL\",\"DTN7-ng/QUICL\",\"DTN7-ng/QUICL\",\"DTN7-ng/QUICL\",\"DTN7-ng/QUICL\",\"DTN7-ng/QUICL\",\"DTN7-ng/QUICL\",\"DTN7-ng/QUICL\",\"DTN7-ng/QUICL\",\"DTN7-ng/QUICL\",\"DTN7-ng/QUICL\",\"DTN7-ng/QUICL\",\"DTN7-ng/QUICL\",\"DTN7-ng/QUICL\",\"DTN7-ng/QUICL\",\"DTN7-ng/QUICL\",\"DTN7-ng/QUICL\",\"DTN7-ng/QUICL\",\"DTN7-ng/QUICL\",\"DTN7-ng/QUICL\",\"DTN7-ng/QUICL\",\"DTN7-ng/QUICL\",\"DTN7-ng/QUICL\",\"DTN7-ng/QUICL\",\"DTN7-ng/QUICL\",\"DTN7-ng/QUICL\",\"DTN7-ng/QUICL\",\"DTN7-ng/QUICL\",\"DTN7-ng/QUICL\",\"DTN7-ng/QUICL\",\"DTN7-ng/QUICL\",\"DTN7-ng/QUICL\",\"DTN7-ng/QUICL\",\"DTN7-ng/QUICL\",\"DTN7-ng/QUICL\",\"DTN7-ng/QUICL\",\"DTN7-ng/QUICL\",\"DTN7-ng/QUICL\",\"DTN7-ng/QUICL\",\"DTN7-ng/QUICL\",\"DTN7-ng/QUICL\",\"DTN7-ng/QUICL\",\"DTN7-ng/QUICL\",\"DTN7-ng/QUICL\",\"DTN7-ng/QUICL\",\"DTN7-ng/QUICL\",\"DTN7-ng/QUICL\",\"DTN7-ng/QUICL\",\"DTN7-ng/QUICL\",\"DTN7-ng/QUICL\",\"DTN7-ng/QUICL\",\"DTN7-ng/QUICL\"],\"x0\":\" \",\"xaxis\":\"x6\",\"y\":[158.206,157.102,155.003,152.907,150.797,148.688,146.586,144.492,143.384,142.283,141.173,140.074,138.971,137.871,136.781,135.666,134.558,25.411,133.351,132.25,131.151,130.046,128.952,127.853,126.744,125.634,124.532,25.379,123.318,122.234,120.112,118.009,115.91,113.802,111.701,109.601,107.497,26.361,105.285,104.189,103.085,101.987,100.879,99.774,98.669,97.569,26.438,96.368,95.254,94.153,93.068,91.96,90.844,89.749,88.637,87.534,26.411,86.336,85.233,84.126,83.025,80.92,78.816,76.715,74.613,72.507,26.386,70.307,68.2,66.093,63.992,61.889,59.786,57.682,55.58,26.466,53.372,51.252,50.164,49.069,47.959,46.859,45.755,44.65,43.539,26.441,42.337,41.243,40.14,39.031,37.934,36.832,35.726,33.625,31.522,26.412,30.315,29.212,28.109,27.004,148.959,147.848,14.696,146.639,145.534,144.423,143.331,142.231,141.119,140.025,138.921,137.813,14.67,136.608,135.51,134.405,133.302,132.199,131.1,129.996,128.896,127.795,14.643,126.583,125.479,124.377,123.284,122.176,120.072,118.969,117.857,116.754,14.622,115.555,114.451,113.344,112.259,111.138,110.043,108.945,107.836,14.694,106.628,104.522,102.417,101.321,100.214,99.096,98.01,96.889,95.802,14.676,94.6,93.489,92.388,91.289,90.187,89.088,87.981,86.873,85.769,14.646,84.565,83.455,82.353,81.255,80.156,79.058,76.947,74.846,72.737,15.622,70.54,68.438,66.334,64.235,62.125,60.023,57.925,55.815,53.715,51.597,49.511,47.406,45.3,43.194,41.097,38.989,36.893,34.785,15.668,32.578,30.478,28.378,26.271,24.166,22.062,19.958,17.86,15.756],\"y0\":\" \",\"yaxis\":\"y6\",\"type\":\"box\"},{\"alignmentgroup\":\"True\",\"hovertemplate\":\"Loss (%)=0<br>Bundle Size=100 kB<br>Bundles=10<br>Software/CLP=%{x}<br>=%{y}<extra></extra>\",\"legendgroup\":\"0\",\"marker\":{\"color\":\"#636efa\"},\"name\":\"0\",\"notched\":false,\"offsetgroup\":\"0\",\"orientation\":\"v\",\"showlegend\":false,\"x\":[\"DTN7-ng/MTCP\",\"DTN7-ng/MTCP\",\"DTN7-ng/MTCP\",\"DTN7-ng/MTCP\",\"DTN7-ng/MTCP\",\"DTN7-ng/MTCP\",\"DTN7-ng/MTCP\",\"DTN7-ng/MTCP\",\"DTN7-ng/MTCP\",\"DTN7-ng/MTCP\",\"DTN7-ng/QUICL\",\"DTN7-ng/QUICL\",\"DTN7-ng/QUICL\",\"DTN7-ng/QUICL\",\"DTN7-ng/QUICL\",\"DTN7-ng/QUICL\",\"DTN7-ng/QUICL\",\"DTN7-ng/QUICL\",\"DTN7-ng/QUICL\",\"DTN7-ng/QUICL\"],\"x0\":\" \",\"xaxis\":\"x3\",\"y\":[29.157,29.165,29.162,29.16,29.16,29.173,29.142,29.146,29.135,29.126,16.42,16.414,16.411,16.408,16.402,23.41,16.399,16.394,16.395,17.386],\"y0\":\" \",\"yaxis\":\"y3\",\"type\":\"box\"},{\"alignmentgroup\":\"True\",\"hovertemplate\":\"Loss (%)=0<br>Bundle Size=100 kB<br>Bundles=100<br>Software/CLP=%{x}<br>=%{y}<extra></extra>\",\"legendgroup\":\"0\",\"marker\":{\"color\":\"#636efa\"},\"name\":\"0\",\"notched\":false,\"offsetgroup\":\"0\",\"orientation\":\"v\",\"showlegend\":false,\"x\":[\"DTN7-ng/MTCP\",\"DTN7-ng/MTCP\",\"DTN7-ng/MTCP\",\"DTN7-ng/MTCP\",\"DTN7-ng/MTCP\",\"DTN7-ng/MTCP\",\"DTN7-ng/MTCP\",\"DTN7-ng/MTCP\",\"DTN7-ng/MTCP\",\"DTN7-ng/MTCP\",\"DTN7-ng/MTCP\",\"DTN7-ng/MTCP\",\"DTN7-ng/MTCP\",\"DTN7-ng/MTCP\",\"DTN7-ng/MTCP\",\"DTN7-ng/MTCP\",\"DTN7-ng/MTCP\",\"DTN7-ng/MTCP\",\"DTN7-ng/MTCP\",\"DTN7-ng/MTCP\",\"DTN7-ng/MTCP\",\"DTN7-ng/MTCP\",\"DTN7-ng/MTCP\",\"DTN7-ng/MTCP\",\"DTN7-ng/MTCP\",\"DTN7-ng/MTCP\",\"DTN7-ng/MTCP\",\"DTN7-ng/MTCP\",\"DTN7-ng/MTCP\",\"DTN7-ng/MTCP\",\"DTN7-ng/MTCP\",\"DTN7-ng/MTCP\",\"DTN7-ng/MTCP\",\"DTN7-ng/MTCP\",\"DTN7-ng/MTCP\",\"DTN7-ng/MTCP\",\"DTN7-ng/MTCP\",\"DTN7-ng/MTCP\",\"DTN7-ng/MTCP\",\"DTN7-ng/MTCP\",\"DTN7-ng/MTCP\",\"DTN7-ng/MTCP\",\"DTN7-ng/MTCP\",\"DTN7-ng/MTCP\",\"DTN7-ng/MTCP\",\"DTN7-ng/MTCP\",\"DTN7-ng/MTCP\",\"DTN7-ng/MTCP\",\"DTN7-ng/MTCP\",\"DTN7-ng/MTCP\",\"DTN7-ng/MTCP\",\"DTN7-ng/MTCP\",\"DTN7-ng/MTCP\",\"DTN7-ng/MTCP\",\"DTN7-ng/MTCP\",\"DTN7-ng/MTCP\",\"DTN7-ng/MTCP\",\"DTN7-ng/MTCP\",\"DTN7-ng/MTCP\",\"DTN7-ng/MTCP\",\"DTN7-ng/MTCP\",\"DTN7-ng/MTCP\",\"DTN7-ng/MTCP\",\"DTN7-ng/MTCP\",\"DTN7-ng/MTCP\",\"DTN7-ng/MTCP\",\"DTN7-ng/MTCP\",\"DTN7-ng/MTCP\",\"DTN7-ng/MTCP\",\"DTN7-ng/MTCP\",\"DTN7-ng/MTCP\",\"DTN7-ng/MTCP\",\"DTN7-ng/MTCP\",\"DTN7-ng/MTCP\",\"DTN7-ng/MTCP\",\"DTN7-ng/MTCP\",\"DTN7-ng/MTCP\",\"DTN7-ng/MTCP\",\"DTN7-ng/MTCP\",\"DTN7-ng/MTCP\",\"DTN7-ng/MTCP\",\"DTN7-ng/MTCP\",\"DTN7-ng/MTCP\",\"DTN7-ng/MTCP\",\"DTN7-ng/MTCP\",\"DTN7-ng/MTCP\",\"DTN7-ng/MTCP\",\"DTN7-ng/MTCP\",\"DTN7-ng/MTCP\",\"DTN7-ng/MTCP\",\"DTN7-ng/MTCP\",\"DTN7-ng/MTCP\",\"DTN7-ng/MTCP\",\"DTN7-ng/MTCP\",\"DTN7-ng/MTCP\",\"DTN7-ng/MTCP\",\"DTN7-ng/MTCP\",\"DTN7-ng/MTCP\",\"DTN7-ng/MTCP\",\"DTN7-ng/MTCP\",\"DTN7-ng/QUICL\",\"DTN7-ng/QUICL\",\"DTN7-ng/QUICL\",\"DTN7-ng/QUICL\",\"DTN7-ng/QUICL\",\"DTN7-ng/QUICL\",\"DTN7-ng/QUICL\",\"DTN7-ng/QUICL\",\"DTN7-ng/QUICL\",\"DTN7-ng/QUICL\",\"DTN7-ng/QUICL\",\"DTN7-ng/QUICL\",\"DTN7-ng/QUICL\",\"DTN7-ng/QUICL\",\"DTN7-ng/QUICL\",\"DTN7-ng/QUICL\",\"DTN7-ng/QUICL\",\"DTN7-ng/QUICL\",\"DTN7-ng/QUICL\",\"DTN7-ng/QUICL\",\"DTN7-ng/QUICL\",\"DTN7-ng/QUICL\",\"DTN7-ng/QUICL\",\"DTN7-ng/QUICL\",\"DTN7-ng/QUICL\",\"DTN7-ng/QUICL\",\"DTN7-ng/QUICL\",\"DTN7-ng/QUICL\",\"DTN7-ng/QUICL\",\"DTN7-ng/QUICL\",\"DTN7-ng/QUICL\",\"DTN7-ng/QUICL\",\"DTN7-ng/QUICL\",\"DTN7-ng/QUICL\",\"DTN7-ng/QUICL\",\"DTN7-ng/QUICL\",\"DTN7-ng/QUICL\",\"DTN7-ng/QUICL\",\"DTN7-ng/QUICL\",\"DTN7-ng/QUICL\",\"DTN7-ng/QUICL\",\"DTN7-ng/QUICL\",\"DTN7-ng/QUICL\",\"DTN7-ng/QUICL\",\"DTN7-ng/QUICL\",\"DTN7-ng/QUICL\",\"DTN7-ng/QUICL\",\"DTN7-ng/QUICL\",\"DTN7-ng/QUICL\",\"DTN7-ng/QUICL\",\"DTN7-ng/QUICL\",\"DTN7-ng/QUICL\",\"DTN7-ng/QUICL\",\"DTN7-ng/QUICL\",\"DTN7-ng/QUICL\",\"DTN7-ng/QUICL\",\"DTN7-ng/QUICL\",\"DTN7-ng/QUICL\",\"DTN7-ng/QUICL\",\"DTN7-ng/QUICL\",\"DTN7-ng/QUICL\",\"DTN7-ng/QUICL\",\"DTN7-ng/QUICL\",\"DTN7-ng/QUICL\",\"DTN7-ng/QUICL\",\"DTN7-ng/QUICL\",\"DTN7-ng/QUICL\",\"DTN7-ng/QUICL\",\"DTN7-ng/QUICL\",\"DTN7-ng/QUICL\",\"DTN7-ng/QUICL\",\"DTN7-ng/QUICL\",\"DTN7-ng/QUICL\",\"DTN7-ng/QUICL\",\"DTN7-ng/QUICL\",\"DTN7-ng/QUICL\",\"DTN7-ng/QUICL\",\"DTN7-ng/QUICL\",\"DTN7-ng/QUICL\",\"DTN7-ng/QUICL\",\"DTN7-ng/QUICL\",\"DTN7-ng/QUICL\",\"DTN7-ng/QUICL\",\"DTN7-ng/QUICL\",\"DTN7-ng/QUICL\",\"DTN7-ng/QUICL\",\"DTN7-ng/QUICL\",\"DTN7-ng/QUICL\",\"DTN7-ng/QUICL\",\"DTN7-ng/QUICL\",\"DTN7-ng/QUICL\",\"DTN7-ng/QUICL\",\"DTN7-ng/QUICL\",\"DTN7-ng/QUICL\",\"DTN7-ng/QUICL\",\"DTN7-ng/QUICL\",\"DTN7-ng/QUICL\",\"DTN7-ng/QUICL\",\"DTN7-ng/QUICL\",\"DTN7-ng/QUICL\"],\"x0\":\" \",\"xaxis\":\"x4\",\"y\":[135.206,133.115,130.986,128.917,126.806,124.701,122.591,28.44,120.391,119.285,118.188,117.086,115.972,114.871,113.772,112.665,111.556,28.421,110.374,109.258,108.146,107.047,105.933,104.838,103.733,102.636,28.495,101.43,100.327,99.223,98.125,97.006,95.908,94.811,93.71,92.606,28.472,91.409,90.297,89.2,88.089,86.988,85.887,84.78,83.686,82.588,28.459,81.373,80.275,79.174,78.055,76.966,75.867,74.758,73.67,72.551,28.45,71.351,70.251,69.153,68.051,66.939,65.845,64.736,63.632,62.534,28.413,61.326,60.232,59.121,58.005,56.912,55.808,54.72,53.603,28.487,52.407,51.292,50.191,49.084,47.992,46.886,45.781,44.692,43.584,28.477,42.381,41.276,40.167,39.07,37.973,36.87,35.759,34.65,33.549,28.438,32.362,31.267,30.145,29.042,147.541,145.434,143.348,141.247,139.128,137.035,134.931,132.822,130.719,16.566,129.501,128.435,127.307,126.2,125.105,124.003,122.898,121.792,16.643,120.619,119.482,118.387,117.28,116.187,115.073,113.965,112.867,110.763,16.616,109.555,108.462,107.346,106.247,105.137,104.038,102.953,101.836,100.734,16.589,99.524,98.458,97.325,96.22,95.112,94.015,92.909,91.798,90.707,16.574,89.492,88.393,87.288,86.185,85.084,84.006,82.886,80.789,16.645,79.575,78.47,76.369,74.262,72.176,70.08,67.957,65.842,63.753,16.619,61.545,59.435,57.357,55.229,53.13,51.044,49.928,48.832,47.729,16.592,46.518,45.416,44.313,43.212,42.096,40.993,39.884,38.801,37.674,16.571,36.474,35.371,34.273,32.16,30.068,27.967,25.858,23.749,16.644,21.54,19.459,17.345],\"y0\":\" \",\"yaxis\":\"y4\",\"type\":\"box\"},{\"alignmentgroup\":\"True\",\"hovertemplate\":\"Loss (%)=0<br>Bundle Size=1 MB<br>Bundles=10<br>Software/CLP=%{x}<br>=%{y}<extra></extra>\",\"legendgroup\":\"0\",\"marker\":{\"color\":\"#636efa\"},\"name\":\"0\",\"notched\":false,\"offsetgroup\":\"0\",\"orientation\":\"v\",\"showlegend\":false,\"x\":[\"DTN7-ng/QUICL\",\"DTN7-ng/QUICL\",\"DTN7-ng/QUICL\",\"DTN7-ng/QUICL\",\"DTN7-ng/QUICL\",\"DTN7-ng/QUICL\",\"DTN7-ng/QUICL\",\"DTN7-ng/QUICL\",\"DTN7-ng/QUICL\",\"DTN7-ng/QUICL\",\"DTN7-ng/MTCP\",\"DTN7-ng/MTCP\",\"DTN7-ng/MTCP\",\"DTN7-ng/MTCP\",\"DTN7-ng/MTCP\",\"DTN7-ng/MTCP\",\"DTN7-ng/MTCP\",\"DTN7-ng/MTCP\",\"DTN7-ng/MTCP\",\"DTN7-ng/MTCP\"],\"x0\":\" \",\"xaxis\":\"x\",\"y\":[27.99,27.962,27.974,27.946,36.956,27.948,33.928,27.959,30.952,27.941,31.261,31.262,31.43,31.306,31.328,31.306,31.297,31.281,31.275,31.312],\"y0\":\" \",\"yaxis\":\"y\",\"type\":\"box\"},{\"alignmentgroup\":\"True\",\"hovertemplate\":\"Loss (%)=0<br>Bundle Size=1 MB<br>Bundles=100<br>Software/CLP=%{x}<br>=%{y}<extra></extra>\",\"legendgroup\":\"0\",\"marker\":{\"color\":\"#636efa\"},\"name\":\"0\",\"notched\":false,\"offsetgroup\":\"0\",\"orientation\":\"v\",\"showlegend\":false,\"x\":[\"DTN7-ng/QUICL\",\"DTN7-ng/QUICL\",\"DTN7-ng/QUICL\",\"DTN7-ng/QUICL\",\"DTN7-ng/QUICL\",\"DTN7-ng/QUICL\",\"DTN7-ng/QUICL\",\"DTN7-ng/QUICL\",\"DTN7-ng/QUICL\",\"DTN7-ng/QUICL\",\"DTN7-ng/QUICL\",\"DTN7-ng/QUICL\",\"DTN7-ng/QUICL\",\"DTN7-ng/QUICL\",\"DTN7-ng/QUICL\",\"DTN7-ng/QUICL\",\"DTN7-ng/QUICL\",\"DTN7-ng/QUICL\",\"DTN7-ng/QUICL\",\"DTN7-ng/QUICL\",\"DTN7-ng/QUICL\",\"DTN7-ng/QUICL\",\"DTN7-ng/QUICL\",\"DTN7-ng/QUICL\",\"DTN7-ng/QUICL\",\"DTN7-ng/QUICL\",\"DTN7-ng/QUICL\",\"DTN7-ng/QUICL\",\"DTN7-ng/QUICL\",\"DTN7-ng/QUICL\",\"DTN7-ng/QUICL\",\"DTN7-ng/QUICL\",\"DTN7-ng/QUICL\",\"DTN7-ng/QUICL\",\"DTN7-ng/QUICL\",\"DTN7-ng/QUICL\",\"DTN7-ng/QUICL\",\"DTN7-ng/QUICL\",\"DTN7-ng/QUICL\",\"DTN7-ng/QUICL\",\"DTN7-ng/QUICL\",\"DTN7-ng/QUICL\",\"DTN7-ng/QUICL\",\"DTN7-ng/QUICL\",\"DTN7-ng/QUICL\",\"DTN7-ng/QUICL\",\"DTN7-ng/QUICL\",\"DTN7-ng/QUICL\",\"DTN7-ng/QUICL\",\"DTN7-ng/QUICL\",\"DTN7-ng/QUICL\",\"DTN7-ng/QUICL\",\"DTN7-ng/QUICL\",\"DTN7-ng/QUICL\",\"DTN7-ng/QUICL\",\"DTN7-ng/QUICL\",\"DTN7-ng/QUICL\",\"DTN7-ng/QUICL\",\"DTN7-ng/QUICL\",\"DTN7-ng/QUICL\",\"DTN7-ng/QUICL\",\"DTN7-ng/QUICL\",\"DTN7-ng/QUICL\",\"DTN7-ng/QUICL\",\"DTN7-ng/QUICL\",\"DTN7-ng/QUICL\",\"DTN7-ng/QUICL\",\"DTN7-ng/QUICL\",\"DTN7-ng/QUICL\",\"DTN7-ng/QUICL\",\"DTN7-ng/QUICL\",\"DTN7-ng/QUICL\",\"DTN7-ng/QUICL\",\"DTN7-ng/QUICL\",\"DTN7-ng/QUICL\",\"DTN7-ng/QUICL\",\"DTN7-ng/QUICL\",\"DTN7-ng/QUICL\",\"DTN7-ng/QUICL\",\"DTN7-ng/QUICL\",\"DTN7-ng/QUICL\",\"DTN7-ng/QUICL\",\"DTN7-ng/QUICL\",\"DTN7-ng/QUICL\",\"DTN7-ng/QUICL\",\"DTN7-ng/QUICL\",\"DTN7-ng/QUICL\",\"DTN7-ng/QUICL\",\"DTN7-ng/QUICL\",\"DTN7-ng/QUICL\",\"DTN7-ng/QUICL\",\"DTN7-ng/QUICL\",\"DTN7-ng/QUICL\",\"DTN7-ng/QUICL\",\"DTN7-ng/QUICL\",\"DTN7-ng/QUICL\",\"DTN7-ng/QUICL\",\"DTN7-ng/QUICL\",\"DTN7-ng/QUICL\",\"DTN7-ng/QUICL\",\"DTN7-ng/MTCP\",\"DTN7-ng/MTCP\",\"DTN7-ng/MTCP\",\"DTN7-ng/MTCP\",\"DTN7-ng/MTCP\",\"DTN7-ng/MTCP\",\"DTN7-ng/MTCP\",\"DTN7-ng/MTCP\",\"DTN7-ng/MTCP\",\"DTN7-ng/MTCP\",\"DTN7-ng/MTCP\",\"DTN7-ng/MTCP\",\"DTN7-ng/MTCP\",\"DTN7-ng/MTCP\",\"DTN7-ng/MTCP\",\"DTN7-ng/MTCP\",\"DTN7-ng/MTCP\",\"DTN7-ng/MTCP\",\"DTN7-ng/MTCP\",\"DTN7-ng/MTCP\",\"DTN7-ng/MTCP\",\"DTN7-ng/MTCP\",\"DTN7-ng/MTCP\",\"DTN7-ng/MTCP\",\"DTN7-ng/MTCP\",\"DTN7-ng/MTCP\",\"DTN7-ng/MTCP\",\"DTN7-ng/MTCP\",\"DTN7-ng/MTCP\",\"DTN7-ng/MTCP\",\"DTN7-ng/MTCP\",\"DTN7-ng/MTCP\",\"DTN7-ng/MTCP\",\"DTN7-ng/MTCP\",\"DTN7-ng/MTCP\",\"DTN7-ng/MTCP\",\"DTN7-ng/MTCP\",\"DTN7-ng/MTCP\",\"DTN7-ng/MTCP\",\"DTN7-ng/MTCP\",\"DTN7-ng/MTCP\",\"DTN7-ng/MTCP\",\"DTN7-ng/MTCP\",\"DTN7-ng/MTCP\",\"DTN7-ng/MTCP\",\"DTN7-ng/MTCP\",\"DTN7-ng/MTCP\",\"DTN7-ng/MTCP\",\"DTN7-ng/MTCP\",\"DTN7-ng/MTCP\",\"DTN7-ng/MTCP\",\"DTN7-ng/MTCP\",\"DTN7-ng/MTCP\",\"DTN7-ng/MTCP\",\"DTN7-ng/MTCP\",\"DTN7-ng/MTCP\",\"DTN7-ng/MTCP\",\"DTN7-ng/MTCP\",\"DTN7-ng/MTCP\",\"DTN7-ng/MTCP\",\"DTN7-ng/MTCP\",\"DTN7-ng/MTCP\",\"DTN7-ng/MTCP\",\"DTN7-ng/MTCP\",\"DTN7-ng/MTCP\",\"DTN7-ng/MTCP\",\"DTN7-ng/MTCP\",\"DTN7-ng/MTCP\",\"DTN7-ng/MTCP\",\"DTN7-ng/MTCP\",\"DTN7-ng/MTCP\",\"DTN7-ng/MTCP\",\"DTN7-ng/MTCP\",\"DTN7-ng/MTCP\",\"DTN7-ng/MTCP\",\"DTN7-ng/MTCP\",\"DTN7-ng/MTCP\",\"DTN7-ng/MTCP\",\"DTN7-ng/MTCP\",\"DTN7-ng/MTCP\",\"DTN7-ng/MTCP\",\"DTN7-ng/MTCP\",\"DTN7-ng/MTCP\",\"DTN7-ng/MTCP\",\"DTN7-ng/MTCP\",\"DTN7-ng/MTCP\",\"DTN7-ng/MTCP\",\"DTN7-ng/MTCP\",\"DTN7-ng/MTCP\",\"DTN7-ng/MTCP\",\"DTN7-ng/MTCP\",\"DTN7-ng/MTCP\",\"DTN7-ng/MTCP\",\"DTN7-ng/MTCP\",\"DTN7-ng/MTCP\",\"DTN7-ng/MTCP\",\"DTN7-ng/MTCP\",\"DTN7-ng/MTCP\",\"DTN7-ng/MTCP\",\"DTN7-ng/MTCP\"],\"x0\":\" \",\"xaxis\":\"x2\",\"y\":[157.804,156.704,155.595,154.517,153.38,152.32,151.201,150.017,149.052,26.757,146.746,145.657,144.573,143.378,142.36,140.3,138.158,136.068,56.927,133.863,131.739,129.648,127.55,125.437,123.322,121.195,119.12,117.005,26.818,114.839,112.711,110.573,108.516,106.402,104.277,103.186,102.102,101.013,27.8,99.85,98.689,97.548,96.479,95.378,94.319,93.164,92.065,90.975,27.834,89.765,88.669,87.562,86.413,85.32,84.23,83.11,82.024,27.921,80.903,79.777,78.592,77.467,76.407,75.37,74.166,73.076,71.998,27.89,70.793,69.686,68.608,67.489,66.358,65.247,64.082,63.066,61.864,59.791,57.685,55.562,53.545,51.353,49.246,47.151,45.043,42.966,27.853,40.878,39.864,38.614,37.498,36.423,35.31,34.247,33.089,31.99,27.983,30.774,29.675,28.598,135.321,133.21,131.105,129.014,126.902,30.732,124.763,123.623,122.563,121.428,120.345,119.24,118.131,117.018,115.882,30.988,114.683,113.566,112.496,111.409,110.328,109.231,108.108,107.039,106.004,30.946,104.679,103.569,102.456,101.375,100.266,99.162,98.088,96.999,30.829,95.757,94.637,93.551,92.41,91.283,90.205,89.114,88.076,86.914,30.761,85.721,84.622,83.474,82.44,81.302,80.201,79.059,77.953,76.903,30.758,75.639,74.538,73.481,72.362,71.264,70.163,69.061,67.955,66.838,30.709,65.626,64.5,63.442,62.332,61.231,60.135,59.05,57.91,30.777,56.689,55.596,54.5,53.367,52.294,51.206,50.089,48.978,47.838,30.762,46.632,45.567,44.46,43.338,42.274,41.144,40.048,38.972,37.831,30.741,36.623,35.534,34.432,33.304,32.205,31.125],\"y0\":\" \",\"yaxis\":\"y2\",\"type\":\"box\"},{\"alignmentgroup\":\"True\",\"hovertemplate\":\"Loss (%)=10<br>Bundle Size=1 kB<br>Bundles=10<br>Software/CLP=%{x}<br>=%{y}<extra></extra>\",\"legendgroup\":\"10\",\"marker\":{\"color\":\"#EF553B\"},\"name\":\"10\",\"notched\":false,\"offsetgroup\":\"10\",\"orientation\":\"v\",\"showlegend\":true,\"x\":[\"DTN7-ng/QUICL\",\"DTN7-ng/QUICL\",\"DTN7-ng/QUICL\",\"DTN7-ng/QUICL\",\"DTN7-ng/QUICL\",\"DTN7-ng/QUICL\",\"DTN7-ng/QUICL\",\"DTN7-ng/QUICL\",\"DTN7-ng/QUICL\",\"DTN7-ng/QUICL\"],\"x0\":\" \",\"xaxis\":\"x5\",\"y\":[18.457,18.452,18.45,18.441,18.442,18.443,18.44,18.434,18.428,18.43],\"y0\":\" \",\"yaxis\":\"y5\",\"type\":\"box\"},{\"alignmentgroup\":\"True\",\"hovertemplate\":\"Loss (%)=10<br>Bundle Size=1 kB<br>Bundles=100<br>Software/CLP=%{x}<br>=%{y}<extra></extra>\",\"legendgroup\":\"10\",\"marker\":{\"color\":\"#EF553B\"},\"name\":\"10\",\"notched\":false,\"offsetgroup\":\"10\",\"orientation\":\"v\",\"showlegend\":false,\"x\":[\"DTN7-ng/QUICL\",\"DTN7-ng/QUICL\",\"DTN7-ng/QUICL\",\"DTN7-ng/QUICL\",\"DTN7-ng/QUICL\",\"DTN7-ng/QUICL\",\"DTN7-ng/QUICL\",\"DTN7-ng/QUICL\",\"DTN7-ng/QUICL\",\"DTN7-ng/QUICL\",\"DTN7-ng/QUICL\",\"DTN7-ng/QUICL\",\"DTN7-ng/QUICL\",\"DTN7-ng/QUICL\",\"DTN7-ng/QUICL\",\"DTN7-ng/QUICL\",\"DTN7-ng/QUICL\",\"DTN7-ng/QUICL\",\"DTN7-ng/QUICL\",\"DTN7-ng/QUICL\",\"DTN7-ng/QUICL\",\"DTN7-ng/QUICL\",\"DTN7-ng/QUICL\",\"DTN7-ng/QUICL\",\"DTN7-ng/QUICL\",\"DTN7-ng/QUICL\",\"DTN7-ng/QUICL\",\"DTN7-ng/QUICL\",\"DTN7-ng/QUICL\",\"DTN7-ng/QUICL\",\"DTN7-ng/QUICL\",\"DTN7-ng/QUICL\",\"DTN7-ng/QUICL\",\"DTN7-ng/QUICL\",\"DTN7-ng/QUICL\",\"DTN7-ng/QUICL\",\"DTN7-ng/QUICL\",\"DTN7-ng/QUICL\",\"DTN7-ng/QUICL\",\"DTN7-ng/QUICL\",\"DTN7-ng/QUICL\",\"DTN7-ng/QUICL\",\"DTN7-ng/QUICL\",\"DTN7-ng/QUICL\",\"DTN7-ng/QUICL\",\"DTN7-ng/QUICL\",\"DTN7-ng/QUICL\",\"DTN7-ng/QUICL\",\"DTN7-ng/QUICL\",\"DTN7-ng/QUICL\",\"DTN7-ng/QUICL\",\"DTN7-ng/QUICL\",\"DTN7-ng/QUICL\",\"DTN7-ng/QUICL\",\"DTN7-ng/QUICL\",\"DTN7-ng/QUICL\",\"DTN7-ng/QUICL\",\"DTN7-ng/QUICL\",\"DTN7-ng/QUICL\",\"DTN7-ng/QUICL\",\"DTN7-ng/QUICL\",\"DTN7-ng/QUICL\",\"DTN7-ng/QUICL\",\"DTN7-ng/QUICL\",\"DTN7-ng/QUICL\",\"DTN7-ng/QUICL\",\"DTN7-ng/QUICL\",\"DTN7-ng/QUICL\",\"DTN7-ng/QUICL\",\"DTN7-ng/QUICL\",\"DTN7-ng/QUICL\",\"DTN7-ng/QUICL\",\"DTN7-ng/QUICL\",\"DTN7-ng/QUICL\",\"DTN7-ng/QUICL\",\"DTN7-ng/QUICL\",\"DTN7-ng/QUICL\",\"DTN7-ng/QUICL\",\"DTN7-ng/QUICL\",\"DTN7-ng/QUICL\",\"DTN7-ng/QUICL\",\"DTN7-ng/QUICL\",\"DTN7-ng/QUICL\",\"DTN7-ng/QUICL\",\"DTN7-ng/QUICL\",\"DTN7-ng/QUICL\",\"DTN7-ng/QUICL\",\"DTN7-ng/QUICL\",\"DTN7-ng/QUICL\",\"DTN7-ng/QUICL\",\"DTN7-ng/QUICL\",\"DTN7-ng/QUICL\",\"DTN7-ng/QUICL\",\"DTN7-ng/QUICL\",\"DTN7-ng/QUICL\",\"DTN7-ng/QUICL\",\"DTN7-ng/QUICL\",\"DTN7-ng/QUICL\",\"DTN7-ng/QUICL\",\"DTN7-ng/QUICL\"],\"x0\":\" \",\"xaxis\":\"x6\",\"y\":[152.43,151.316,149.225,148.121,147.02,145.915,144.812,142.71,141.645,140.515,139.39,138.295,137.198,136.089,134.99,133.92,132.791,131.687,130.578,19.434,129.38,128.256,127.177,126.064,123.973,122.857,121.754,120.651,66.523,119.45,118.345,117.263,116.137,115.034,113.929,112.83,111.729,110.637,19.477,109.414,108.312,107.216,106.096,104.998,103.9,102.787,101.694,100.585,20.448,99.382,98.278,97.231,96.084,94.962,93.92,92.751,91.715,90.552,23.427,89.349,88.241,86.138,85.029,83.93,82.833,80.723,79.624,19.498,77.416,75.3,73.202,71.146,69.002,66.951,64.794,62.691,60.651,19.466,59.379,58.274,57.175,56.063,54.969,52.865,50.763,48.653,46.544,19.435,44.348,42.243,40.137,38.082,35.926,33.831,31.779,29.614,27.521,25.415,22.394,20.208],\"y0\":\" \",\"yaxis\":\"y6\",\"type\":\"box\"},{\"alignmentgroup\":\"True\",\"hovertemplate\":\"Loss (%)=10<br>Bundle Size=100 kB<br>Bundles=10<br>Software/CLP=%{x}<br>=%{y}<extra></extra>\",\"legendgroup\":\"10\",\"marker\":{\"color\":\"#EF553B\"},\"name\":\"10\",\"notched\":false,\"offsetgroup\":\"10\",\"orientation\":\"v\",\"showlegend\":false,\"x\":[\"DTN7-ng/QUICL\",\"DTN7-ng/QUICL\",\"DTN7-ng/QUICL\",\"DTN7-ng/QUICL\",\"DTN7-ng/QUICL\",\"DTN7-ng/QUICL\",\"DTN7-ng/QUICL\",\"DTN7-ng/QUICL\",\"DTN7-ng/QUICL\",\"DTN7-ng/QUICL\"],\"x0\":\" \",\"xaxis\":\"x3\",\"y\":[19.516,38.566,22.601,18.551,33.547,30.57,20.517,26.552,22.514,19.524],\"y0\":\" \",\"yaxis\":\"y3\",\"type\":\"box\"},{\"alignmentgroup\":\"True\",\"hovertemplate\":\"Loss (%)=10<br>Bundle Size=100 kB<br>Bundles=100<br>Software/CLP=%{x}<br>=%{y}<extra></extra>\",\"legendgroup\":\"10\",\"marker\":{\"color\":\"#EF553B\"},\"name\":\"10\",\"notched\":false,\"offsetgroup\":\"10\",\"orientation\":\"v\",\"showlegend\":false,\"x\":[\"DTN7-ng/QUICL\",\"DTN7-ng/QUICL\",\"DTN7-ng/QUICL\",\"DTN7-ng/QUICL\",\"DTN7-ng/QUICL\",\"DTN7-ng/QUICL\",\"DTN7-ng/QUICL\",\"DTN7-ng/QUICL\",\"DTN7-ng/QUICL\",\"DTN7-ng/QUICL\",\"DTN7-ng/QUICL\",\"DTN7-ng/QUICL\",\"DTN7-ng/QUICL\",\"DTN7-ng/QUICL\",\"DTN7-ng/QUICL\",\"DTN7-ng/QUICL\",\"DTN7-ng/QUICL\",\"DTN7-ng/QUICL\",\"DTN7-ng/QUICL\",\"DTN7-ng/QUICL\",\"DTN7-ng/QUICL\",\"DTN7-ng/QUICL\",\"DTN7-ng/QUICL\",\"DTN7-ng/QUICL\",\"DTN7-ng/QUICL\",\"DTN7-ng/QUICL\",\"DTN7-ng/QUICL\",\"DTN7-ng/QUICL\",\"DTN7-ng/QUICL\",\"DTN7-ng/QUICL\",\"DTN7-ng/QUICL\",\"DTN7-ng/QUICL\",\"DTN7-ng/QUICL\",\"DTN7-ng/QUICL\",\"DTN7-ng/QUICL\",\"DTN7-ng/QUICL\",\"DTN7-ng/QUICL\",\"DTN7-ng/QUICL\",\"DTN7-ng/QUICL\",\"DTN7-ng/QUICL\",\"DTN7-ng/QUICL\",\"DTN7-ng/QUICL\",\"DTN7-ng/QUICL\",\"DTN7-ng/QUICL\",\"DTN7-ng/QUICL\",\"DTN7-ng/QUICL\",\"DTN7-ng/QUICL\",\"DTN7-ng/QUICL\",\"DTN7-ng/QUICL\",\"DTN7-ng/QUICL\",\"DTN7-ng/QUICL\",\"DTN7-ng/QUICL\",\"DTN7-ng/QUICL\",\"DTN7-ng/QUICL\",\"DTN7-ng/QUICL\",\"DTN7-ng/QUICL\",\"DTN7-ng/QUICL\",\"DTN7-ng/QUICL\",\"DTN7-ng/QUICL\",\"DTN7-ng/QUICL\",\"DTN7-ng/QUICL\",\"DTN7-ng/QUICL\",\"DTN7-ng/QUICL\",\"DTN7-ng/QUICL\",\"DTN7-ng/QUICL\",\"DTN7-ng/QUICL\",\"DTN7-ng/QUICL\",\"DTN7-ng/QUICL\",\"DTN7-ng/QUICL\",\"DTN7-ng/QUICL\",\"DTN7-ng/QUICL\",\"DTN7-ng/QUICL\",\"DTN7-ng/QUICL\",\"DTN7-ng/QUICL\",\"DTN7-ng/QUICL\",\"DTN7-ng/QUICL\",\"DTN7-ng/QUICL\",\"DTN7-ng/QUICL\",\"DTN7-ng/QUICL\",\"DTN7-ng/QUICL\",\"DTN7-ng/QUICL\",\"DTN7-ng/QUICL\",\"DTN7-ng/QUICL\",\"DTN7-ng/QUICL\",\"DTN7-ng/QUICL\",\"DTN7-ng/QUICL\",\"DTN7-ng/QUICL\",\"DTN7-ng/QUICL\",\"DTN7-ng/QUICL\",\"DTN7-ng/QUICL\",\"DTN7-ng/QUICL\",\"DTN7-ng/QUICL\",\"DTN7-ng/QUICL\",\"DTN7-ng/QUICL\",\"DTN7-ng/QUICL\",\"DTN7-ng/QUICL\",\"DTN7-ng/QUICL\",\"DTN7-ng/QUICL\",\"DTN7-ng/QUICL\",\"DTN7-ng/QUICL\"],\"x0\":\" \",\"xaxis\":\"x4\",\"y\":[152.606,151.478,150.433,149.345,148.219,147.095,145.991,144.908,143.791,142.648,141.609,140.474,139.349,19.184,138.15,137.092,135.04,133.986,132.794,131.645,130.566,129.406,128.373,47.175,127.099,126.133,124.953,123.814,122.702,121.623,120.524,119.413,118.343,19.211,117.149,116.022,115.026,113.754,112.703,111.623,110.55,109.38,108.247,43.188,107.12,105.975,103.845,101.753,100.69,99.552,98.446,97.362,20.233,96.203,95.021,93.921,91.857,89.725,87.702,85.582,83.502,81.312,79.208,77.087,75.013,72.95,70.804,68.788,66.638,64.566,62.362,60.265,20.2,59.12,56.955,55.9,54.768,53.653,52.534,50.533,48.417,46.242,20.232,44.042,42.023,39.82,37.796,36.611,35.609,34.411,33.326,20.231,32.18,30.996,29.9,28.814,26.669,24.587,22.613,20.393],\"y0\":\" \",\"yaxis\":\"y4\",\"type\":\"box\"},{\"alignmentgroup\":\"True\",\"hovertemplate\":\"Loss (%)=10<br>Bundle Size=1 MB<br>Bundles=10<br>Software/CLP=%{x}<br>=%{y}<extra></extra>\",\"legendgroup\":\"10\",\"marker\":{\"color\":\"#EF553B\"},\"name\":\"10\",\"notched\":false,\"offsetgroup\":\"10\",\"orientation\":\"v\",\"showlegend\":false,\"x\":[\"DTN7-ng/QUICL\",\"DTN7-ng/QUICL\",\"DTN7-ng/QUICL\",\"DTN7-ng/QUICL\",\"DTN7-ng/QUICL\",\"DTN7-ng/QUICL\",\"DTN7-ng/QUICL\",\"DTN7-ng/QUICL\",\"DTN7-ng/QUICL\",\"DTN7-ng/QUICL\"],\"x0\":\" \",\"xaxis\":\"x\",\"y\":[40.202,66.332,62.357,42.23,57.508,42.168,52.31,50.511,45.996,42.551],\"y0\":\" \",\"yaxis\":\"y\",\"type\":\"box\"},{\"alignmentgroup\":\"True\",\"hovertemplate\":\"Loss (%)=10<br>Bundle Size=1 MB<br>Bundles=100<br>Software/CLP=%{x}<br>=%{y}<extra></extra>\",\"legendgroup\":\"10\",\"marker\":{\"color\":\"#EF553B\"},\"name\":\"10\",\"notched\":false,\"offsetgroup\":\"10\",\"orientation\":\"v\",\"showlegend\":false,\"x\":[\"DTN7-ng/QUICL\",\"DTN7-ng/QUICL\",\"DTN7-ng/QUICL\",\"DTN7-ng/QUICL\",\"DTN7-ng/QUICL\",\"DTN7-ng/QUICL\",\"DTN7-ng/QUICL\",\"DTN7-ng/QUICL\",\"DTN7-ng/QUICL\",\"DTN7-ng/QUICL\",\"DTN7-ng/QUICL\",\"DTN7-ng/QUICL\",\"DTN7-ng/QUICL\",\"DTN7-ng/QUICL\",\"DTN7-ng/QUICL\",\"DTN7-ng/QUICL\",\"DTN7-ng/QUICL\",\"DTN7-ng/QUICL\",\"DTN7-ng/QUICL\",\"DTN7-ng/QUICL\",\"DTN7-ng/QUICL\",\"DTN7-ng/QUICL\",\"DTN7-ng/QUICL\",\"DTN7-ng/QUICL\",\"DTN7-ng/QUICL\",\"DTN7-ng/QUICL\",\"DTN7-ng/QUICL\",\"DTN7-ng/QUICL\",\"DTN7-ng/QUICL\",\"DTN7-ng/QUICL\",\"DTN7-ng/QUICL\",\"DTN7-ng/QUICL\",\"DTN7-ng/QUICL\",\"DTN7-ng/QUICL\",\"DTN7-ng/QUICL\",\"DTN7-ng/QUICL\",\"DTN7-ng/QUICL\",\"DTN7-ng/QUICL\",\"DTN7-ng/QUICL\",\"DTN7-ng/QUICL\",\"DTN7-ng/QUICL\",\"DTN7-ng/QUICL\",\"DTN7-ng/QUICL\",\"DTN7-ng/QUICL\",\"DTN7-ng/QUICL\",\"DTN7-ng/QUICL\",\"DTN7-ng/QUICL\",\"DTN7-ng/QUICL\",\"DTN7-ng/QUICL\",\"DTN7-ng/QUICL\",\"DTN7-ng/QUICL\",\"DTN7-ng/QUICL\",\"DTN7-ng/QUICL\",\"DTN7-ng/QUICL\",\"DTN7-ng/QUICL\",\"DTN7-ng/QUICL\",\"DTN7-ng/QUICL\",\"DTN7-ng/QUICL\",\"DTN7-ng/QUICL\",\"DTN7-ng/QUICL\",\"DTN7-ng/QUICL\",\"DTN7-ng/QUICL\",\"DTN7-ng/QUICL\",\"DTN7-ng/QUICL\",\"DTN7-ng/QUICL\",\"DTN7-ng/QUICL\",\"DTN7-ng/QUICL\",\"DTN7-ng/QUICL\",\"DTN7-ng/QUICL\",\"DTN7-ng/QUICL\",\"DTN7-ng/QUICL\",\"DTN7-ng/QUICL\",\"DTN7-ng/QUICL\",\"DTN7-ng/QUICL\",\"DTN7-ng/QUICL\",\"DTN7-ng/QUICL\",\"DTN7-ng/QUICL\",\"DTN7-ng/QUICL\",\"DTN7-ng/QUICL\",\"DTN7-ng/QUICL\",\"DTN7-ng/QUICL\",\"DTN7-ng/QUICL\",\"DTN7-ng/QUICL\",\"DTN7-ng/QUICL\",\"DTN7-ng/QUICL\",\"DTN7-ng/QUICL\",\"DTN7-ng/QUICL\",\"DTN7-ng/QUICL\",\"DTN7-ng/QUICL\",\"DTN7-ng/QUICL\",\"DTN7-ng/QUICL\",\"DTN7-ng/QUICL\",\"DTN7-ng/QUICL\",\"DTN7-ng/QUICL\",\"DTN7-ng/QUICL\",\"DTN7-ng/QUICL\",\"DTN7-ng/QUICL\",\"DTN7-ng/QUICL\",\"DTN7-ng/QUICL\",\"DTN7-ng/QUICL\"],\"x0\":\" \",\"xaxis\":\"x2\",\"y\":[203.601,202.608,201.562,200.395,199.101,198.251,194.745,193.883,36.619,192.688,189.702,187.462,186.316,185.073,184.132,181.065,180.274,179.091,171.877,177.491,176.379,175.523,173.363,170.407,169.115,168.113,166.928,165.804,164.942,163.506,161.574,160.3,157.349,156.107,154.951,154.104,152.857,41.727,151.795,150.677,149.511,146.45,145.621,144.423,143.108,141.829,140.88,41.787,139.753,137.477,136.369,135.171,134.081,133.049,132.14,130.841,129.696,126.82,126.036,124.314,123.263,122.148,120.201,119.077,117.936,116.836,72.774,115.61,114.454,113.37,110.475,109.437,108.069,106.79,106.046,104.74,43.507,101.744,100.762,98.195,95.335,93.203,90.167,89.319,85.973,83.735,44.677,80.55,77.473,74.142,71.078,68.149,65.375,64.418,61.126,51.658,57.64,53.682,48.296,45.576],\"y0\":\" \",\"yaxis\":\"y2\",\"type\":\"box\"}],                        {\"template\":{\"data\":{\"histogram2dcontour\":[{\"type\":\"histogram2dcontour\",\"colorbar\":{\"outlinewidth\":0,\"ticks\":\"\"},\"colorscale\":[[0.0,\"#0d0887\"],[0.1111111111111111,\"#46039f\"],[0.2222222222222222,\"#7201a8\"],[0.3333333333333333,\"#9c179e\"],[0.4444444444444444,\"#bd3786\"],[0.5555555555555556,\"#d8576b\"],[0.6666666666666666,\"#ed7953\"],[0.7777777777777778,\"#fb9f3a\"],[0.8888888888888888,\"#fdca26\"],[1.0,\"#f0f921\"]]}],\"choropleth\":[{\"type\":\"choropleth\",\"colorbar\":{\"outlinewidth\":0,\"ticks\":\"\"}}],\"histogram2d\":[{\"type\":\"histogram2d\",\"colorbar\":{\"outlinewidth\":0,\"ticks\":\"\"},\"colorscale\":[[0.0,\"#0d0887\"],[0.1111111111111111,\"#46039f\"],[0.2222222222222222,\"#7201a8\"],[0.3333333333333333,\"#9c179e\"],[0.4444444444444444,\"#bd3786\"],[0.5555555555555556,\"#d8576b\"],[0.6666666666666666,\"#ed7953\"],[0.7777777777777778,\"#fb9f3a\"],[0.8888888888888888,\"#fdca26\"],[1.0,\"#f0f921\"]]}],\"heatmap\":[{\"type\":\"heatmap\",\"colorbar\":{\"outlinewidth\":0,\"ticks\":\"\"},\"colorscale\":[[0.0,\"#0d0887\"],[0.1111111111111111,\"#46039f\"],[0.2222222222222222,\"#7201a8\"],[0.3333333333333333,\"#9c179e\"],[0.4444444444444444,\"#bd3786\"],[0.5555555555555556,\"#d8576b\"],[0.6666666666666666,\"#ed7953\"],[0.7777777777777778,\"#fb9f3a\"],[0.8888888888888888,\"#fdca26\"],[1.0,\"#f0f921\"]]}],\"heatmapgl\":[{\"type\":\"heatmapgl\",\"colorbar\":{\"outlinewidth\":0,\"ticks\":\"\"},\"colorscale\":[[0.0,\"#0d0887\"],[0.1111111111111111,\"#46039f\"],[0.2222222222222222,\"#7201a8\"],[0.3333333333333333,\"#9c179e\"],[0.4444444444444444,\"#bd3786\"],[0.5555555555555556,\"#d8576b\"],[0.6666666666666666,\"#ed7953\"],[0.7777777777777778,\"#fb9f3a\"],[0.8888888888888888,\"#fdca26\"],[1.0,\"#f0f921\"]]}],\"contourcarpet\":[{\"type\":\"contourcarpet\",\"colorbar\":{\"outlinewidth\":0,\"ticks\":\"\"}}],\"contour\":[{\"type\":\"contour\",\"colorbar\":{\"outlinewidth\":0,\"ticks\":\"\"},\"colorscale\":[[0.0,\"#0d0887\"],[0.1111111111111111,\"#46039f\"],[0.2222222222222222,\"#7201a8\"],[0.3333333333333333,\"#9c179e\"],[0.4444444444444444,\"#bd3786\"],[0.5555555555555556,\"#d8576b\"],[0.6666666666666666,\"#ed7953\"],[0.7777777777777778,\"#fb9f3a\"],[0.8888888888888888,\"#fdca26\"],[1.0,\"#f0f921\"]]}],\"surface\":[{\"type\":\"surface\",\"colorbar\":{\"outlinewidth\":0,\"ticks\":\"\"},\"colorscale\":[[0.0,\"#0d0887\"],[0.1111111111111111,\"#46039f\"],[0.2222222222222222,\"#7201a8\"],[0.3333333333333333,\"#9c179e\"],[0.4444444444444444,\"#bd3786\"],[0.5555555555555556,\"#d8576b\"],[0.6666666666666666,\"#ed7953\"],[0.7777777777777778,\"#fb9f3a\"],[0.8888888888888888,\"#fdca26\"],[1.0,\"#f0f921\"]]}],\"mesh3d\":[{\"type\":\"mesh3d\",\"colorbar\":{\"outlinewidth\":0,\"ticks\":\"\"}}],\"scatter\":[{\"fillpattern\":{\"fillmode\":\"overlay\",\"size\":10,\"solidity\":0.2},\"type\":\"scatter\"}],\"parcoords\":[{\"type\":\"parcoords\",\"line\":{\"colorbar\":{\"outlinewidth\":0,\"ticks\":\"\"}}}],\"scatterpolargl\":[{\"type\":\"scatterpolargl\",\"marker\":{\"colorbar\":{\"outlinewidth\":0,\"ticks\":\"\"}}}],\"bar\":[{\"error_x\":{\"color\":\"#2a3f5f\"},\"error_y\":{\"color\":\"#2a3f5f\"},\"marker\":{\"line\":{\"color\":\"#E5ECF6\",\"width\":0.5},\"pattern\":{\"fillmode\":\"overlay\",\"size\":10,\"solidity\":0.2}},\"type\":\"bar\"}],\"scattergeo\":[{\"type\":\"scattergeo\",\"marker\":{\"colorbar\":{\"outlinewidth\":0,\"ticks\":\"\"}}}],\"scatterpolar\":[{\"type\":\"scatterpolar\",\"marker\":{\"colorbar\":{\"outlinewidth\":0,\"ticks\":\"\"}}}],\"histogram\":[{\"marker\":{\"pattern\":{\"fillmode\":\"overlay\",\"size\":10,\"solidity\":0.2}},\"type\":\"histogram\"}],\"scattergl\":[{\"type\":\"scattergl\",\"marker\":{\"colorbar\":{\"outlinewidth\":0,\"ticks\":\"\"}}}],\"scatter3d\":[{\"type\":\"scatter3d\",\"line\":{\"colorbar\":{\"outlinewidth\":0,\"ticks\":\"\"}},\"marker\":{\"colorbar\":{\"outlinewidth\":0,\"ticks\":\"\"}}}],\"scattermapbox\":[{\"type\":\"scattermapbox\",\"marker\":{\"colorbar\":{\"outlinewidth\":0,\"ticks\":\"\"}}}],\"scatterternary\":[{\"type\":\"scatterternary\",\"marker\":{\"colorbar\":{\"outlinewidth\":0,\"ticks\":\"\"}}}],\"scattercarpet\":[{\"type\":\"scattercarpet\",\"marker\":{\"colorbar\":{\"outlinewidth\":0,\"ticks\":\"\"}}}],\"carpet\":[{\"aaxis\":{\"endlinecolor\":\"#2a3f5f\",\"gridcolor\":\"white\",\"linecolor\":\"white\",\"minorgridcolor\":\"white\",\"startlinecolor\":\"#2a3f5f\"},\"baxis\":{\"endlinecolor\":\"#2a3f5f\",\"gridcolor\":\"white\",\"linecolor\":\"white\",\"minorgridcolor\":\"white\",\"startlinecolor\":\"#2a3f5f\"},\"type\":\"carpet\"}],\"table\":[{\"cells\":{\"fill\":{\"color\":\"#EBF0F8\"},\"line\":{\"color\":\"white\"}},\"header\":{\"fill\":{\"color\":\"#C8D4E3\"},\"line\":{\"color\":\"white\"}},\"type\":\"table\"}],\"barpolar\":[{\"marker\":{\"line\":{\"color\":\"#E5ECF6\",\"width\":0.5},\"pattern\":{\"fillmode\":\"overlay\",\"size\":10,\"solidity\":0.2}},\"type\":\"barpolar\"}],\"pie\":[{\"automargin\":true,\"type\":\"pie\"}]},\"layout\":{\"autotypenumbers\":\"strict\",\"colorway\":[\"#636efa\",\"#EF553B\",\"#00cc96\",\"#ab63fa\",\"#FFA15A\",\"#19d3f3\",\"#FF6692\",\"#B6E880\",\"#FF97FF\",\"#FECB52\"],\"font\":{\"color\":\"#2a3f5f\"},\"hovermode\":\"closest\",\"hoverlabel\":{\"align\":\"left\"},\"paper_bgcolor\":\"white\",\"plot_bgcolor\":\"#E5ECF6\",\"polar\":{\"bgcolor\":\"#E5ECF6\",\"angularaxis\":{\"gridcolor\":\"white\",\"linecolor\":\"white\",\"ticks\":\"\"},\"radialaxis\":{\"gridcolor\":\"white\",\"linecolor\":\"white\",\"ticks\":\"\"}},\"ternary\":{\"bgcolor\":\"#E5ECF6\",\"aaxis\":{\"gridcolor\":\"white\",\"linecolor\":\"white\",\"ticks\":\"\"},\"baxis\":{\"gridcolor\":\"white\",\"linecolor\":\"white\",\"ticks\":\"\"},\"caxis\":{\"gridcolor\":\"white\",\"linecolor\":\"white\",\"ticks\":\"\"}},\"coloraxis\":{\"colorbar\":{\"outlinewidth\":0,\"ticks\":\"\"}},\"colorscale\":{\"sequential\":[[0.0,\"#0d0887\"],[0.1111111111111111,\"#46039f\"],[0.2222222222222222,\"#7201a8\"],[0.3333333333333333,\"#9c179e\"],[0.4444444444444444,\"#bd3786\"],[0.5555555555555556,\"#d8576b\"],[0.6666666666666666,\"#ed7953\"],[0.7777777777777778,\"#fb9f3a\"],[0.8888888888888888,\"#fdca26\"],[1.0,\"#f0f921\"]],\"sequentialminus\":[[0.0,\"#0d0887\"],[0.1111111111111111,\"#46039f\"],[0.2222222222222222,\"#7201a8\"],[0.3333333333333333,\"#9c179e\"],[0.4444444444444444,\"#bd3786\"],[0.5555555555555556,\"#d8576b\"],[0.6666666666666666,\"#ed7953\"],[0.7777777777777778,\"#fb9f3a\"],[0.8888888888888888,\"#fdca26\"],[1.0,\"#f0f921\"]],\"diverging\":[[0,\"#8e0152\"],[0.1,\"#c51b7d\"],[0.2,\"#de77ae\"],[0.3,\"#f1b6da\"],[0.4,\"#fde0ef\"],[0.5,\"#f7f7f7\"],[0.6,\"#e6f5d0\"],[0.7,\"#b8e186\"],[0.8,\"#7fbc41\"],[0.9,\"#4d9221\"],[1,\"#276419\"]]},\"xaxis\":{\"gridcolor\":\"white\",\"linecolor\":\"white\",\"ticks\":\"\",\"title\":{\"standoff\":15},\"zerolinecolor\":\"white\",\"automargin\":true,\"zerolinewidth\":2},\"yaxis\":{\"gridcolor\":\"white\",\"linecolor\":\"white\",\"ticks\":\"\",\"title\":{\"standoff\":15},\"zerolinecolor\":\"white\",\"automargin\":true,\"zerolinewidth\":2},\"scene\":{\"xaxis\":{\"backgroundcolor\":\"#E5ECF6\",\"gridcolor\":\"white\",\"linecolor\":\"white\",\"showbackground\":true,\"ticks\":\"\",\"zerolinecolor\":\"white\",\"gridwidth\":2},\"yaxis\":{\"backgroundcolor\":\"#E5ECF6\",\"gridcolor\":\"white\",\"linecolor\":\"white\",\"showbackground\":true,\"ticks\":\"\",\"zerolinecolor\":\"white\",\"gridwidth\":2},\"zaxis\":{\"backgroundcolor\":\"#E5ECF6\",\"gridcolor\":\"white\",\"linecolor\":\"white\",\"showbackground\":true,\"ticks\":\"\",\"zerolinecolor\":\"white\",\"gridwidth\":2}},\"shapedefaults\":{\"line\":{\"color\":\"#2a3f5f\"}},\"annotationdefaults\":{\"arrowcolor\":\"#2a3f5f\",\"arrowhead\":0,\"arrowwidth\":1},\"geo\":{\"bgcolor\":\"white\",\"landcolor\":\"#E5ECF6\",\"subunitcolor\":\"white\",\"showland\":true,\"showlakes\":true,\"lakecolor\":\"white\"},\"title\":{\"x\":0.05},\"mapbox\":{\"style\":\"light\"}}},\"xaxis\":{\"anchor\":\"y\",\"domain\":[0.0,0.48],\"title\":{\"text\":\"Software/CLP\"},\"categoryorder\":\"array\",\"categoryarray\":[\"Serval\",\"IBR-DTN/TCPCL\",\"DTN7-rs/MTCP\",\"DTN7-rs/TCPCL\",\"DTN7-rs/HTTP\",\"DTN7-ng/MTCP\",\"DTN7-ng/QUICL\"]},\"yaxis\":{\"anchor\":\"x\",\"domain\":[0.0,0.3133333333333333],\"title\":{\"text\":\"\"}},\"xaxis2\":{\"anchor\":\"y2\",\"domain\":[0.5,0.98],\"matches\":\"x\",\"title\":{\"text\":\"Software/CLP\"},\"categoryorder\":\"array\",\"categoryarray\":[\"Serval\",\"IBR-DTN/TCPCL\",\"DTN7-rs/MTCP\",\"DTN7-rs/TCPCL\",\"DTN7-rs/HTTP\",\"DTN7-ng/MTCP\",\"DTN7-ng/QUICL\"]},\"yaxis2\":{\"anchor\":\"x2\",\"domain\":[0.0,0.3133333333333333],\"matches\":\"y\",\"showticklabels\":false},\"xaxis3\":{\"anchor\":\"y3\",\"domain\":[0.0,0.48],\"matches\":\"x\",\"showticklabels\":false},\"yaxis3\":{\"anchor\":\"x3\",\"domain\":[0.34333333333333327,0.6566666666666665],\"matches\":\"y\",\"title\":{\"text\":\"\"}},\"xaxis4\":{\"anchor\":\"y4\",\"domain\":[0.5,0.98],\"matches\":\"x\",\"showticklabels\":false},\"yaxis4\":{\"anchor\":\"x4\",\"domain\":[0.34333333333333327,0.6566666666666665],\"matches\":\"y\",\"showticklabels\":false},\"xaxis5\":{\"anchor\":\"y5\",\"domain\":[0.0,0.48],\"matches\":\"x\",\"showticklabels\":false},\"yaxis5\":{\"anchor\":\"x5\",\"domain\":[0.6866666666666665,0.9999999999999998],\"matches\":\"y\",\"title\":{\"text\":\"\"}},\"xaxis6\":{\"anchor\":\"y6\",\"domain\":[0.5,0.98],\"matches\":\"x\",\"showticklabels\":false},\"yaxis6\":{\"anchor\":\"x6\",\"domain\":[0.6866666666666665,0.9999999999999998],\"matches\":\"y\",\"showticklabels\":false},\"annotations\":[{\"showarrow\":false,\"text\":\"Bundles: 10\",\"x\":0.24,\"xanchor\":\"center\",\"xref\":\"paper\",\"y\":0.9999999999999998,\"yanchor\":\"bottom\",\"yref\":\"paper\"},{\"showarrow\":false,\"text\":\"Bundles: 100\",\"x\":0.74,\"xanchor\":\"center\",\"xref\":\"paper\",\"y\":0.9999999999999998,\"yanchor\":\"bottom\",\"yref\":\"paper\"},{\"showarrow\":false,\"text\":\"1 MB\",\"textangle\":90,\"x\":0.98,\"xanchor\":\"left\",\"xref\":\"paper\",\"y\":0.15666666666666665,\"yanchor\":\"middle\",\"yref\":\"paper\"},{\"showarrow\":false,\"text\":\"100 kB\",\"textangle\":90,\"x\":0.98,\"xanchor\":\"left\",\"xref\":\"paper\",\"y\":0.4999999999999999,\"yanchor\":\"middle\",\"yref\":\"paper\"},{\"showarrow\":false,\"text\":\"1 kB\",\"textangle\":90,\"x\":0.98,\"xanchor\":\"left\",\"xref\":\"paper\",\"y\":0.8433333333333332,\"yanchor\":\"middle\",\"yref\":\"paper\"},{\"font\":{\"size\":14},\"text\":\"Runtime (s)\",\"textangle\":-90,\"x\":-0.05,\"xref\":\"paper\",\"y\":0.35,\"yref\":\"paper\"}],\"legend\":{\"title\":{\"text\":\"Loss (%)\"},\"tracegroupgap\":0},\"margin\":{\"t\":20,\"l\":0,\"r\":0,\"b\":0},\"boxmode\":\"group\"},                        {\"responsive\": true}                    ).then(function(){\n",
       "                            \n",
       "var gd = document.getElementById('c1c7e220-c386-4d8f-acc5-5cb85f0fa537');\n",
       "var x = new MutationObserver(function (mutations, observer) {{\n",
       "        var display = window.getComputedStyle(gd).display;\n",
       "        if (!display || display === 'none') {{\n",
       "            console.log([gd, 'removed!']);\n",
       "            Plotly.purge(gd);\n",
       "            observer.disconnect();\n",
       "        }}\n",
       "}});\n",
       "\n",
       "// Listen for the removal of the full notebook cells\n",
       "var notebookContainer = gd.closest('#notebook-container');\n",
       "if (notebookContainer) {{\n",
       "    x.observe(notebookContainer, {childList: true});\n",
       "}}\n",
       "\n",
       "// Listen for the clearing of the current output cell\n",
       "var outputEl = gd.closest('.output');\n",
       "if (outputEl) {{\n",
       "    x.observe(outputEl, {childList: true});\n",
       "}}\n",
       "\n",
       "                        })                };                });            </script>        </div>"
      ]
     },
     "metadata": {},
     "output_type": "display_data"
    }
   ],
   "source": [
    "fig = px.box(\n",
    "    runtime_df[runtime_df[\"# Nodes\"] == 32],\n",
    "    x=\"Software/CLP\", \n",
    "    y=\"Runtime\",\n",
    "    color=\"Loss\",\n",
    "    facet_col=\"# Bundles\",\n",
    "    facet_row=\"Bundle Size\",\n",
    "    labels={\n",
    "        \"Runtime\": \"\",\n",
    "        \"Loss\": \"Loss (%)\",\n",
    "        \"# Bundles\": \"Bundles\",\n",
    "    },\n",
    "    category_orders={\n",
    "        \"Loss\": [0, 10, 30],\n",
    "        \"Bundle Size\": [\"1 kB\", \"100 kB\", \"1 MB\"],\n",
    "        \"Software/CLP\": [\"Serval\", \"IBR-DTN/TCPCL\", \"DTN7-rs/MTCP\", \"DTN7-rs/TCPCL\", \"DTN7-rs/HTTP\", \"DTN7-ng/MTCP\", \"DTN7-ng/QUICL\"],\n",
    "        \"# Bundles\": [10, 100]\n",
    "    },\n",
    ")\n",
    "\n",
    "fig.for_each_annotation(lambda a: a.update(text=a.text.replace(\"=\", \": \")))\n",
    "fig.for_each_annotation(lambda a: a.update(text=a.text.replace(\"Bundle Size: \", \"\")))\n",
    "\n",
    "fig.add_annotation(x=-0.05, y=0.35,\n",
    "                   text=\"Runtime (s)\",\n",
    "                   textangle=-90,\n",
    "                   xref=\"paper\",\n",
    "                   yref=\"paper\",\n",
    "                   font=dict(size=14)\n",
    "                   )\n",
    "\n",
    "fig.update_layout(\n",
    "    margin=dict(l=0, r=0, t=20, b=0),\n",
    ")\n",
    "\n",
    "fig.write_image(\"runtime_32.pdf\", width=700, height=300)\n",
    "fig"
   ]
  },
  {
   "cell_type": "code",
   "execution_count": 17,
   "metadata": {},
   "outputs": [
    {
     "data": {
      "application/vnd.plotly.v1+json": {
       "config": {
        "plotlyServerURL": "https://plot.ly"
       },
       "data": [
        {
         "alignmentgroup": "True",
         "hovertemplate": "Loss (%)=0<br>Bundle Size=1 kB<br>Bundles=10<br>Software/CLP=%{x}<br>=%{y}<extra></extra>",
         "legendgroup": "0",
         "marker": {
          "color": "#636efa"
         },
         "name": "0",
         "notched": false,
         "offsetgroup": "0",
         "orientation": "v",
         "showlegend": true,
         "type": "box",
         "x": [
          "DTN7-ng/QUICL",
          "DTN7-ng/MTCP"
         ],
         "x0": " ",
         "xaxis": "x5",
         "y": [
          100,
          100
         ],
         "y0": " ",
         "yaxis": "y5"
        },
        {
         "alignmentgroup": "True",
         "hovertemplate": "Loss (%)=0<br>Bundle Size=1 kB<br>Bundles=100<br>Software/CLP=%{x}<br>=%{y}<extra></extra>",
         "legendgroup": "0",
         "marker": {
          "color": "#636efa"
         },
         "name": "0",
         "notched": false,
         "offsetgroup": "0",
         "orientation": "v",
         "showlegend": false,
         "type": "box",
         "x": [
          "DTN7-ng/QUICL",
          "DTN7-ng/MTCP"
         ],
         "x0": " ",
         "xaxis": "x6",
         "y": [
          100,
          100
         ],
         "y0": " ",
         "yaxis": "y6"
        },
        {
         "alignmentgroup": "True",
         "hovertemplate": "Loss (%)=0<br>Bundle Size=100 kB<br>Bundles=10<br>Software/CLP=%{x}<br>=%{y}<extra></extra>",
         "legendgroup": "0",
         "marker": {
          "color": "#636efa"
         },
         "name": "0",
         "notched": false,
         "offsetgroup": "0",
         "orientation": "v",
         "showlegend": false,
         "type": "box",
         "x": [
          "DTN7-ng/QUICL",
          "DTN7-ng/MTCP"
         ],
         "x0": " ",
         "xaxis": "x3",
         "y": [
          100,
          100
         ],
         "y0": " ",
         "yaxis": "y3"
        },
        {
         "alignmentgroup": "True",
         "hovertemplate": "Loss (%)=0<br>Bundle Size=100 kB<br>Bundles=100<br>Software/CLP=%{x}<br>=%{y}<extra></extra>",
         "legendgroup": "0",
         "marker": {
          "color": "#636efa"
         },
         "name": "0",
         "notched": false,
         "offsetgroup": "0",
         "orientation": "v",
         "showlegend": false,
         "type": "box",
         "x": [
          "DTN7-ng/QUICL",
          "DTN7-ng/MTCP"
         ],
         "x0": " ",
         "xaxis": "x4",
         "y": [
          100,
          100
         ],
         "y0": " ",
         "yaxis": "y4"
        },
        {
         "alignmentgroup": "True",
         "hovertemplate": "Loss (%)=0<br>Bundle Size=1 MB<br>Bundles=10<br>Software/CLP=%{x}<br>=%{y}<extra></extra>",
         "legendgroup": "0",
         "marker": {
          "color": "#636efa"
         },
         "name": "0",
         "notched": false,
         "offsetgroup": "0",
         "orientation": "v",
         "showlegend": false,
         "type": "box",
         "x": [
          "DTN7-ng/QUICL",
          "DTN7-ng/MTCP"
         ],
         "x0": " ",
         "xaxis": "x",
         "y": [
          100,
          100
         ],
         "y0": " ",
         "yaxis": "y"
        },
        {
         "alignmentgroup": "True",
         "hovertemplate": "Loss (%)=0<br>Bundle Size=1 MB<br>Bundles=100<br>Software/CLP=%{x}<br>=%{y}<extra></extra>",
         "legendgroup": "0",
         "marker": {
          "color": "#636efa"
         },
         "name": "0",
         "notched": false,
         "offsetgroup": "0",
         "orientation": "v",
         "showlegend": false,
         "type": "box",
         "x": [
          "DTN7-ng/QUICL",
          "DTN7-ng/MTCP"
         ],
         "x0": " ",
         "xaxis": "x2",
         "y": [
          100,
          100
         ],
         "y0": " ",
         "yaxis": "y2"
        },
        {
         "alignmentgroup": "True",
         "hovertemplate": "Loss (%)=10<br>Bundle Size=1 kB<br>Bundles=10<br>Software/CLP=%{x}<br>=%{y}<extra></extra>",
         "legendgroup": "10",
         "marker": {
          "color": "#EF553B"
         },
         "name": "10",
         "notched": false,
         "offsetgroup": "10",
         "orientation": "v",
         "showlegend": true,
         "type": "box",
         "x": [
          "DTN7-ng/QUICL",
          "DTN7-ng/MTCP"
         ],
         "x0": " ",
         "xaxis": "x5",
         "y": [
          100,
          0
         ],
         "y0": " ",
         "yaxis": "y5"
        },
        {
         "alignmentgroup": "True",
         "hovertemplate": "Loss (%)=10<br>Bundle Size=1 kB<br>Bundles=100<br>Software/CLP=%{x}<br>=%{y}<extra></extra>",
         "legendgroup": "10",
         "marker": {
          "color": "#EF553B"
         },
         "name": "10",
         "notched": false,
         "offsetgroup": "10",
         "orientation": "v",
         "showlegend": false,
         "type": "box",
         "x": [
          "DTN7-ng/QUICL",
          "DTN7-ng/MTCP"
         ],
         "x0": " ",
         "xaxis": "x6",
         "y": [
          100,
          100
         ],
         "y0": " ",
         "yaxis": "y6"
        },
        {
         "alignmentgroup": "True",
         "hovertemplate": "Loss (%)=10<br>Bundle Size=100 kB<br>Bundles=10<br>Software/CLP=%{x}<br>=%{y}<extra></extra>",
         "legendgroup": "10",
         "marker": {
          "color": "#EF553B"
         },
         "name": "10",
         "notched": false,
         "offsetgroup": "10",
         "orientation": "v",
         "showlegend": false,
         "type": "box",
         "x": [
          "DTN7-ng/QUICL",
          "DTN7-ng/MTCP"
         ],
         "x0": " ",
         "xaxis": "x3",
         "y": [
          100,
          70
         ],
         "y0": " ",
         "yaxis": "y3"
        },
        {
         "alignmentgroup": "True",
         "hovertemplate": "Loss (%)=10<br>Bundle Size=100 kB<br>Bundles=100<br>Software/CLP=%{x}<br>=%{y}<extra></extra>",
         "legendgroup": "10",
         "marker": {
          "color": "#EF553B"
         },
         "name": "10",
         "notched": false,
         "offsetgroup": "10",
         "orientation": "v",
         "showlegend": false,
         "type": "box",
         "x": [
          "DTN7-ng/QUICL",
          "DTN7-ng/MTCP"
         ],
         "x0": " ",
         "xaxis": "x4",
         "y": [
          100,
          28.000000000000004
         ],
         "y0": " ",
         "yaxis": "y4"
        },
        {
         "alignmentgroup": "True",
         "hovertemplate": "Loss (%)=10<br>Bundle Size=1 MB<br>Bundles=10<br>Software/CLP=%{x}<br>=%{y}<extra></extra>",
         "legendgroup": "10",
         "marker": {
          "color": "#EF553B"
         },
         "name": "10",
         "notched": false,
         "offsetgroup": "10",
         "orientation": "v",
         "showlegend": false,
         "type": "box",
         "x": [
          "DTN7-ng/QUICL",
          "DTN7-ng/MTCP"
         ],
         "x0": " ",
         "xaxis": "x",
         "y": [
          100,
          60
         ],
         "y0": " ",
         "yaxis": "y"
        },
        {
         "alignmentgroup": "True",
         "hovertemplate": "Loss (%)=10<br>Bundle Size=1 MB<br>Bundles=100<br>Software/CLP=%{x}<br>=%{y}<extra></extra>",
         "legendgroup": "10",
         "marker": {
          "color": "#EF553B"
         },
         "name": "10",
         "notched": false,
         "offsetgroup": "10",
         "orientation": "v",
         "showlegend": false,
         "type": "box",
         "x": [
          "DTN7-ng/QUICL",
          "DTN7-ng/MTCP"
         ],
         "x0": " ",
         "xaxis": "x2",
         "y": [
          100,
          1
         ],
         "y0": " ",
         "yaxis": "y2"
        },
        {
         "alignmentgroup": "True",
         "hovertemplate": "Loss (%)=30<br>Bundle Size=1 kB<br>Bundles=10<br>Software/CLP=%{x}<br>=%{y}<extra></extra>",
         "legendgroup": "30",
         "marker": {
          "color": "#00cc96"
         },
         "name": "30",
         "notched": false,
         "offsetgroup": "30",
         "orientation": "v",
         "showlegend": true,
         "type": "box",
         "x": [
          "DTN7-ng/QUICL",
          "DTN7-ng/MTCP"
         ],
         "x0": " ",
         "xaxis": "x5",
         "y": [
          70,
          0
         ],
         "y0": " ",
         "yaxis": "y5"
        },
        {
         "alignmentgroup": "True",
         "hovertemplate": "Loss (%)=30<br>Bundle Size=1 kB<br>Bundles=100<br>Software/CLP=%{x}<br>=%{y}<extra></extra>",
         "legendgroup": "30",
         "marker": {
          "color": "#00cc96"
         },
         "name": "30",
         "notched": false,
         "offsetgroup": "30",
         "orientation": "v",
         "showlegend": false,
         "type": "box",
         "x": [
          "DTN7-ng/QUICL",
          "DTN7-ng/MTCP"
         ],
         "x0": " ",
         "xaxis": "x6",
         "y": [
          100,
          0
         ],
         "y0": " ",
         "yaxis": "y6"
        },
        {
         "alignmentgroup": "True",
         "hovertemplate": "Loss (%)=30<br>Bundle Size=100 kB<br>Bundles=10<br>Software/CLP=%{x}<br>=%{y}<extra></extra>",
         "legendgroup": "30",
         "marker": {
          "color": "#00cc96"
         },
         "name": "30",
         "notched": false,
         "offsetgroup": "30",
         "orientation": "v",
         "showlegend": false,
         "type": "box",
         "x": [
          "DTN7-ng/MTCP",
          "DTN7-ng/QUICL"
         ],
         "x0": " ",
         "xaxis": "x3",
         "y": [
          0,
          100
         ],
         "y0": " ",
         "yaxis": "y3"
        },
        {
         "alignmentgroup": "True",
         "hovertemplate": "Loss (%)=30<br>Bundle Size=100 kB<br>Bundles=100<br>Software/CLP=%{x}<br>=%{y}<extra></extra>",
         "legendgroup": "30",
         "marker": {
          "color": "#00cc96"
         },
         "name": "30",
         "notched": false,
         "offsetgroup": "30",
         "orientation": "v",
         "showlegend": false,
         "type": "box",
         "x": [
          "DTN7-ng/QUICL",
          "DTN7-ng/MTCP"
         ],
         "x0": " ",
         "xaxis": "x4",
         "y": [
          100,
          0
         ],
         "y0": " ",
         "yaxis": "y4"
        },
        {
         "alignmentgroup": "True",
         "hovertemplate": "Loss (%)=30<br>Bundle Size=1 MB<br>Bundles=10<br>Software/CLP=%{x}<br>=%{y}<extra></extra>",
         "legendgroup": "30",
         "marker": {
          "color": "#00cc96"
         },
         "name": "30",
         "notched": false,
         "offsetgroup": "30",
         "orientation": "v",
         "showlegend": false,
         "type": "box",
         "x": [
          "DTN7-ng/QUICL",
          "DTN7-ng/MTCP"
         ],
         "x0": " ",
         "xaxis": "x",
         "y": [
          0,
          0
         ],
         "y0": " ",
         "yaxis": "y"
        },
        {
         "alignmentgroup": "True",
         "hovertemplate": "Loss (%)=30<br>Bundle Size=1 MB<br>Bundles=100<br>Software/CLP=%{x}<br>=%{y}<extra></extra>",
         "legendgroup": "30",
         "marker": {
          "color": "#00cc96"
         },
         "name": "30",
         "notched": false,
         "offsetgroup": "30",
         "orientation": "v",
         "showlegend": false,
         "type": "box",
         "x": [
          "DTN7-ng/QUICL",
          "DTN7-ng/MTCP"
         ],
         "x0": " ",
         "xaxis": "x2",
         "y": [
          100,
          0
         ],
         "y0": " ",
         "yaxis": "y2"
        },
        {
         "alignmentgroup": "True",
         "hovertemplate": "Loss (%)=50<br>Bundle Size=1 kB<br>Bundles=10<br>Software/CLP=%{x}<br>=%{y}<extra></extra>",
         "legendgroup": "50",
         "marker": {
          "color": "#ab63fa"
         },
         "name": "50",
         "notched": false,
         "offsetgroup": "50",
         "orientation": "v",
         "showlegend": true,
         "type": "box",
         "x": [
          "DTN7-ng/QUICL",
          "DTN7-ng/MTCP"
         ],
         "x0": " ",
         "xaxis": "x5",
         "y": [
          0,
          0
         ],
         "y0": " ",
         "yaxis": "y5"
        },
        {
         "alignmentgroup": "True",
         "hovertemplate": "Loss (%)=50<br>Bundle Size=1 kB<br>Bundles=100<br>Software/CLP=%{x}<br>=%{y}<extra></extra>",
         "legendgroup": "50",
         "marker": {
          "color": "#ab63fa"
         },
         "name": "50",
         "notched": false,
         "offsetgroup": "50",
         "orientation": "v",
         "showlegend": false,
         "type": "box",
         "x": [
          "DTN7-ng/QUICL",
          "DTN7-ng/MTCP"
         ],
         "x0": " ",
         "xaxis": "x6",
         "y": [
          42,
          0
         ],
         "y0": " ",
         "yaxis": "y6"
        },
        {
         "alignmentgroup": "True",
         "hovertemplate": "Loss (%)=50<br>Bundle Size=100 kB<br>Bundles=10<br>Software/CLP=%{x}<br>=%{y}<extra></extra>",
         "legendgroup": "50",
         "marker": {
          "color": "#ab63fa"
         },
         "name": "50",
         "notched": false,
         "offsetgroup": "50",
         "orientation": "v",
         "showlegend": false,
         "type": "box",
         "x": [
          "DTN7-ng/QUICL",
          "DTN7-ng/MTCP"
         ],
         "x0": " ",
         "xaxis": "x3",
         "y": [
          0,
          0
         ],
         "y0": " ",
         "yaxis": "y3"
        },
        {
         "alignmentgroup": "True",
         "hovertemplate": "Loss (%)=50<br>Bundle Size=100 kB<br>Bundles=100<br>Software/CLP=%{x}<br>=%{y}<extra></extra>",
         "legendgroup": "50",
         "marker": {
          "color": "#ab63fa"
         },
         "name": "50",
         "notched": false,
         "offsetgroup": "50",
         "orientation": "v",
         "showlegend": false,
         "type": "box",
         "x": [
          "DTN7-ng/QUICL",
          "DTN7-ng/MTCP"
         ],
         "x0": " ",
         "xaxis": "x4",
         "y": [
          0,
          0
         ],
         "y0": " ",
         "yaxis": "y4"
        },
        {
         "alignmentgroup": "True",
         "hovertemplate": "Loss (%)=50<br>Bundle Size=1 MB<br>Bundles=10<br>Software/CLP=%{x}<br>=%{y}<extra></extra>",
         "legendgroup": "50",
         "marker": {
          "color": "#ab63fa"
         },
         "name": "50",
         "notched": false,
         "offsetgroup": "50",
         "orientation": "v",
         "showlegend": false,
         "type": "box",
         "x": [
          "DTN7-ng/QUICL",
          "DTN7-ng/MTCP"
         ],
         "x0": " ",
         "xaxis": "x",
         "y": [
          0,
          0
         ],
         "y0": " ",
         "yaxis": "y"
        },
        {
         "alignmentgroup": "True",
         "hovertemplate": "Loss (%)=50<br>Bundle Size=1 MB<br>Bundles=100<br>Software/CLP=%{x}<br>=%{y}<extra></extra>",
         "legendgroup": "50",
         "marker": {
          "color": "#ab63fa"
         },
         "name": "50",
         "notched": false,
         "offsetgroup": "50",
         "orientation": "v",
         "showlegend": false,
         "type": "box",
         "x": [
          "DTN7-ng/QUICL",
          "DTN7-ng/MTCP"
         ],
         "x0": " ",
         "xaxis": "x2",
         "y": [
          0,
          0
         ],
         "y0": " ",
         "yaxis": "y2"
        }
       ],
       "layout": {
        "annotations": [
         {
          "showarrow": false,
          "text": "Bundles: 10",
          "x": 0.24,
          "xanchor": "center",
          "xref": "paper",
          "y": 0.9999999999999998,
          "yanchor": "bottom",
          "yref": "paper"
         },
         {
          "showarrow": false,
          "text": "Bundles: 100",
          "x": 0.74,
          "xanchor": "center",
          "xref": "paper",
          "y": 0.9999999999999998,
          "yanchor": "bottom",
          "yref": "paper"
         },
         {
          "showarrow": false,
          "text": "1 MB",
          "textangle": 90,
          "x": 0.98,
          "xanchor": "left",
          "xref": "paper",
          "y": 0.15666666666666665,
          "yanchor": "middle",
          "yref": "paper"
         },
         {
          "showarrow": false,
          "text": "100 kB",
          "textangle": 90,
          "x": 0.98,
          "xanchor": "left",
          "xref": "paper",
          "y": 0.4999999999999999,
          "yanchor": "middle",
          "yref": "paper"
         },
         {
          "showarrow": false,
          "text": "1 kB",
          "textangle": 90,
          "x": 0.98,
          "xanchor": "left",
          "xref": "paper",
          "y": 0.8433333333333332,
          "yanchor": "middle",
          "yref": "paper"
         },
         {
          "font": {
           "size": 14
          },
          "text": "Successful Receptions (%)",
          "textangle": -90,
          "x": -0.04,
          "xref": "paper",
          "y": 0.35,
          "yref": "paper"
         }
        ],
        "boxmode": "group",
        "legend": {
         "title": {
          "text": "Loss (%)"
         },
         "tracegroupgap": 0
        },
        "margin": {
         "b": 0,
         "l": 0,
         "r": 0,
         "t": 20
        },
        "template": {
         "data": {
          "bar": [
           {
            "error_x": {
             "color": "#2a3f5f"
            },
            "error_y": {
             "color": "#2a3f5f"
            },
            "marker": {
             "line": {
              "color": "#E5ECF6",
              "width": 0.5
             },
             "pattern": {
              "fillmode": "overlay",
              "size": 10,
              "solidity": 0.2
             }
            },
            "type": "bar"
           }
          ],
          "barpolar": [
           {
            "marker": {
             "line": {
              "color": "#E5ECF6",
              "width": 0.5
             },
             "pattern": {
              "fillmode": "overlay",
              "size": 10,
              "solidity": 0.2
             }
            },
            "type": "barpolar"
           }
          ],
          "carpet": [
           {
            "aaxis": {
             "endlinecolor": "#2a3f5f",
             "gridcolor": "white",
             "linecolor": "white",
             "minorgridcolor": "white",
             "startlinecolor": "#2a3f5f"
            },
            "baxis": {
             "endlinecolor": "#2a3f5f",
             "gridcolor": "white",
             "linecolor": "white",
             "minorgridcolor": "white",
             "startlinecolor": "#2a3f5f"
            },
            "type": "carpet"
           }
          ],
          "choropleth": [
           {
            "colorbar": {
             "outlinewidth": 0,
             "ticks": ""
            },
            "type": "choropleth"
           }
          ],
          "contour": [
           {
            "colorbar": {
             "outlinewidth": 0,
             "ticks": ""
            },
            "colorscale": [
             [
              0,
              "#0d0887"
             ],
             [
              0.1111111111111111,
              "#46039f"
             ],
             [
              0.2222222222222222,
              "#7201a8"
             ],
             [
              0.3333333333333333,
              "#9c179e"
             ],
             [
              0.4444444444444444,
              "#bd3786"
             ],
             [
              0.5555555555555556,
              "#d8576b"
             ],
             [
              0.6666666666666666,
              "#ed7953"
             ],
             [
              0.7777777777777778,
              "#fb9f3a"
             ],
             [
              0.8888888888888888,
              "#fdca26"
             ],
             [
              1,
              "#f0f921"
             ]
            ],
            "type": "contour"
           }
          ],
          "contourcarpet": [
           {
            "colorbar": {
             "outlinewidth": 0,
             "ticks": ""
            },
            "type": "contourcarpet"
           }
          ],
          "heatmap": [
           {
            "colorbar": {
             "outlinewidth": 0,
             "ticks": ""
            },
            "colorscale": [
             [
              0,
              "#0d0887"
             ],
             [
              0.1111111111111111,
              "#46039f"
             ],
             [
              0.2222222222222222,
              "#7201a8"
             ],
             [
              0.3333333333333333,
              "#9c179e"
             ],
             [
              0.4444444444444444,
              "#bd3786"
             ],
             [
              0.5555555555555556,
              "#d8576b"
             ],
             [
              0.6666666666666666,
              "#ed7953"
             ],
             [
              0.7777777777777778,
              "#fb9f3a"
             ],
             [
              0.8888888888888888,
              "#fdca26"
             ],
             [
              1,
              "#f0f921"
             ]
            ],
            "type": "heatmap"
           }
          ],
          "heatmapgl": [
           {
            "colorbar": {
             "outlinewidth": 0,
             "ticks": ""
            },
            "colorscale": [
             [
              0,
              "#0d0887"
             ],
             [
              0.1111111111111111,
              "#46039f"
             ],
             [
              0.2222222222222222,
              "#7201a8"
             ],
             [
              0.3333333333333333,
              "#9c179e"
             ],
             [
              0.4444444444444444,
              "#bd3786"
             ],
             [
              0.5555555555555556,
              "#d8576b"
             ],
             [
              0.6666666666666666,
              "#ed7953"
             ],
             [
              0.7777777777777778,
              "#fb9f3a"
             ],
             [
              0.8888888888888888,
              "#fdca26"
             ],
             [
              1,
              "#f0f921"
             ]
            ],
            "type": "heatmapgl"
           }
          ],
          "histogram": [
           {
            "marker": {
             "pattern": {
              "fillmode": "overlay",
              "size": 10,
              "solidity": 0.2
             }
            },
            "type": "histogram"
           }
          ],
          "histogram2d": [
           {
            "colorbar": {
             "outlinewidth": 0,
             "ticks": ""
            },
            "colorscale": [
             [
              0,
              "#0d0887"
             ],
             [
              0.1111111111111111,
              "#46039f"
             ],
             [
              0.2222222222222222,
              "#7201a8"
             ],
             [
              0.3333333333333333,
              "#9c179e"
             ],
             [
              0.4444444444444444,
              "#bd3786"
             ],
             [
              0.5555555555555556,
              "#d8576b"
             ],
             [
              0.6666666666666666,
              "#ed7953"
             ],
             [
              0.7777777777777778,
              "#fb9f3a"
             ],
             [
              0.8888888888888888,
              "#fdca26"
             ],
             [
              1,
              "#f0f921"
             ]
            ],
            "type": "histogram2d"
           }
          ],
          "histogram2dcontour": [
           {
            "colorbar": {
             "outlinewidth": 0,
             "ticks": ""
            },
            "colorscale": [
             [
              0,
              "#0d0887"
             ],
             [
              0.1111111111111111,
              "#46039f"
             ],
             [
              0.2222222222222222,
              "#7201a8"
             ],
             [
              0.3333333333333333,
              "#9c179e"
             ],
             [
              0.4444444444444444,
              "#bd3786"
             ],
             [
              0.5555555555555556,
              "#d8576b"
             ],
             [
              0.6666666666666666,
              "#ed7953"
             ],
             [
              0.7777777777777778,
              "#fb9f3a"
             ],
             [
              0.8888888888888888,
              "#fdca26"
             ],
             [
              1,
              "#f0f921"
             ]
            ],
            "type": "histogram2dcontour"
           }
          ],
          "mesh3d": [
           {
            "colorbar": {
             "outlinewidth": 0,
             "ticks": ""
            },
            "type": "mesh3d"
           }
          ],
          "parcoords": [
           {
            "line": {
             "colorbar": {
              "outlinewidth": 0,
              "ticks": ""
             }
            },
            "type": "parcoords"
           }
          ],
          "pie": [
           {
            "automargin": true,
            "type": "pie"
           }
          ],
          "scatter": [
           {
            "fillpattern": {
             "fillmode": "overlay",
             "size": 10,
             "solidity": 0.2
            },
            "type": "scatter"
           }
          ],
          "scatter3d": [
           {
            "line": {
             "colorbar": {
              "outlinewidth": 0,
              "ticks": ""
             }
            },
            "marker": {
             "colorbar": {
              "outlinewidth": 0,
              "ticks": ""
             }
            },
            "type": "scatter3d"
           }
          ],
          "scattercarpet": [
           {
            "marker": {
             "colorbar": {
              "outlinewidth": 0,
              "ticks": ""
             }
            },
            "type": "scattercarpet"
           }
          ],
          "scattergeo": [
           {
            "marker": {
             "colorbar": {
              "outlinewidth": 0,
              "ticks": ""
             }
            },
            "type": "scattergeo"
           }
          ],
          "scattergl": [
           {
            "marker": {
             "colorbar": {
              "outlinewidth": 0,
              "ticks": ""
             }
            },
            "type": "scattergl"
           }
          ],
          "scattermapbox": [
           {
            "marker": {
             "colorbar": {
              "outlinewidth": 0,
              "ticks": ""
             }
            },
            "type": "scattermapbox"
           }
          ],
          "scatterpolar": [
           {
            "marker": {
             "colorbar": {
              "outlinewidth": 0,
              "ticks": ""
             }
            },
            "type": "scatterpolar"
           }
          ],
          "scatterpolargl": [
           {
            "marker": {
             "colorbar": {
              "outlinewidth": 0,
              "ticks": ""
             }
            },
            "type": "scatterpolargl"
           }
          ],
          "scatterternary": [
           {
            "marker": {
             "colorbar": {
              "outlinewidth": 0,
              "ticks": ""
             }
            },
            "type": "scatterternary"
           }
          ],
          "surface": [
           {
            "colorbar": {
             "outlinewidth": 0,
             "ticks": ""
            },
            "colorscale": [
             [
              0,
              "#0d0887"
             ],
             [
              0.1111111111111111,
              "#46039f"
             ],
             [
              0.2222222222222222,
              "#7201a8"
             ],
             [
              0.3333333333333333,
              "#9c179e"
             ],
             [
              0.4444444444444444,
              "#bd3786"
             ],
             [
              0.5555555555555556,
              "#d8576b"
             ],
             [
              0.6666666666666666,
              "#ed7953"
             ],
             [
              0.7777777777777778,
              "#fb9f3a"
             ],
             [
              0.8888888888888888,
              "#fdca26"
             ],
             [
              1,
              "#f0f921"
             ]
            ],
            "type": "surface"
           }
          ],
          "table": [
           {
            "cells": {
             "fill": {
              "color": "#EBF0F8"
             },
             "line": {
              "color": "white"
             }
            },
            "header": {
             "fill": {
              "color": "#C8D4E3"
             },
             "line": {
              "color": "white"
             }
            },
            "type": "table"
           }
          ]
         },
         "layout": {
          "annotationdefaults": {
           "arrowcolor": "#2a3f5f",
           "arrowhead": 0,
           "arrowwidth": 1
          },
          "autotypenumbers": "strict",
          "coloraxis": {
           "colorbar": {
            "outlinewidth": 0,
            "ticks": ""
           }
          },
          "colorscale": {
           "diverging": [
            [
             0,
             "#8e0152"
            ],
            [
             0.1,
             "#c51b7d"
            ],
            [
             0.2,
             "#de77ae"
            ],
            [
             0.3,
             "#f1b6da"
            ],
            [
             0.4,
             "#fde0ef"
            ],
            [
             0.5,
             "#f7f7f7"
            ],
            [
             0.6,
             "#e6f5d0"
            ],
            [
             0.7,
             "#b8e186"
            ],
            [
             0.8,
             "#7fbc41"
            ],
            [
             0.9,
             "#4d9221"
            ],
            [
             1,
             "#276419"
            ]
           ],
           "sequential": [
            [
             0,
             "#0d0887"
            ],
            [
             0.1111111111111111,
             "#46039f"
            ],
            [
             0.2222222222222222,
             "#7201a8"
            ],
            [
             0.3333333333333333,
             "#9c179e"
            ],
            [
             0.4444444444444444,
             "#bd3786"
            ],
            [
             0.5555555555555556,
             "#d8576b"
            ],
            [
             0.6666666666666666,
             "#ed7953"
            ],
            [
             0.7777777777777778,
             "#fb9f3a"
            ],
            [
             0.8888888888888888,
             "#fdca26"
            ],
            [
             1,
             "#f0f921"
            ]
           ],
           "sequentialminus": [
            [
             0,
             "#0d0887"
            ],
            [
             0.1111111111111111,
             "#46039f"
            ],
            [
             0.2222222222222222,
             "#7201a8"
            ],
            [
             0.3333333333333333,
             "#9c179e"
            ],
            [
             0.4444444444444444,
             "#bd3786"
            ],
            [
             0.5555555555555556,
             "#d8576b"
            ],
            [
             0.6666666666666666,
             "#ed7953"
            ],
            [
             0.7777777777777778,
             "#fb9f3a"
            ],
            [
             0.8888888888888888,
             "#fdca26"
            ],
            [
             1,
             "#f0f921"
            ]
           ]
          },
          "colorway": [
           "#636efa",
           "#EF553B",
           "#00cc96",
           "#ab63fa",
           "#FFA15A",
           "#19d3f3",
           "#FF6692",
           "#B6E880",
           "#FF97FF",
           "#FECB52"
          ],
          "font": {
           "color": "#2a3f5f"
          },
          "geo": {
           "bgcolor": "white",
           "lakecolor": "white",
           "landcolor": "#E5ECF6",
           "showlakes": true,
           "showland": true,
           "subunitcolor": "white"
          },
          "hoverlabel": {
           "align": "left"
          },
          "hovermode": "closest",
          "mapbox": {
           "style": "light"
          },
          "paper_bgcolor": "white",
          "plot_bgcolor": "#E5ECF6",
          "polar": {
           "angularaxis": {
            "gridcolor": "white",
            "linecolor": "white",
            "ticks": ""
           },
           "bgcolor": "#E5ECF6",
           "radialaxis": {
            "gridcolor": "white",
            "linecolor": "white",
            "ticks": ""
           }
          },
          "scene": {
           "xaxis": {
            "backgroundcolor": "#E5ECF6",
            "gridcolor": "white",
            "gridwidth": 2,
            "linecolor": "white",
            "showbackground": true,
            "ticks": "",
            "zerolinecolor": "white"
           },
           "yaxis": {
            "backgroundcolor": "#E5ECF6",
            "gridcolor": "white",
            "gridwidth": 2,
            "linecolor": "white",
            "showbackground": true,
            "ticks": "",
            "zerolinecolor": "white"
           },
           "zaxis": {
            "backgroundcolor": "#E5ECF6",
            "gridcolor": "white",
            "gridwidth": 2,
            "linecolor": "white",
            "showbackground": true,
            "ticks": "",
            "zerolinecolor": "white"
           }
          },
          "shapedefaults": {
           "line": {
            "color": "#2a3f5f"
           }
          },
          "ternary": {
           "aaxis": {
            "gridcolor": "white",
            "linecolor": "white",
            "ticks": ""
           },
           "baxis": {
            "gridcolor": "white",
            "linecolor": "white",
            "ticks": ""
           },
           "bgcolor": "#E5ECF6",
           "caxis": {
            "gridcolor": "white",
            "linecolor": "white",
            "ticks": ""
           }
          },
          "title": {
           "x": 0.05
          },
          "xaxis": {
           "automargin": true,
           "gridcolor": "white",
           "linecolor": "white",
           "ticks": "",
           "title": {
            "standoff": 15
           },
           "zerolinecolor": "white",
           "zerolinewidth": 2
          },
          "yaxis": {
           "automargin": true,
           "gridcolor": "white",
           "linecolor": "white",
           "ticks": "",
           "title": {
            "standoff": 15
           },
           "zerolinecolor": "white",
           "zerolinewidth": 2
          }
         }
        },
        "xaxis": {
         "anchor": "y",
         "categoryarray": [
          "Serval",
          "IBR-DTN/TCPCL",
          "DTN7-rs/MTCP",
          "DTN7-rs/TCPCL",
          "DTN7-rs/HTTP",
          "DTN7-ng/MTCP",
          "DTN7-ng/QUICL"
         ],
         "categoryorder": "array",
         "domain": [
          0,
          0.48
         ],
         "title": {
          "text": "Software/CLP"
         }
        },
        "xaxis2": {
         "anchor": "y2",
         "categoryarray": [
          "Serval",
          "IBR-DTN/TCPCL",
          "DTN7-rs/MTCP",
          "DTN7-rs/TCPCL",
          "DTN7-rs/HTTP",
          "DTN7-ng/MTCP",
          "DTN7-ng/QUICL"
         ],
         "categoryorder": "array",
         "domain": [
          0.5,
          0.98
         ],
         "matches": "x",
         "title": {
          "text": "Software/CLP"
         }
        },
        "xaxis3": {
         "anchor": "y3",
         "domain": [
          0,
          0.48
         ],
         "matches": "x",
         "showticklabels": false
        },
        "xaxis4": {
         "anchor": "y4",
         "domain": [
          0.5,
          0.98
         ],
         "matches": "x",
         "showticklabels": false
        },
        "xaxis5": {
         "anchor": "y5",
         "domain": [
          0,
          0.48
         ],
         "matches": "x",
         "showticklabels": false
        },
        "xaxis6": {
         "anchor": "y6",
         "domain": [
          0.5,
          0.98
         ],
         "matches": "x",
         "showticklabels": false
        },
        "yaxis": {
         "anchor": "x",
         "domain": [
          0,
          0.3133333333333333
         ],
         "title": {
          "text": ""
         }
        },
        "yaxis2": {
         "anchor": "x2",
         "domain": [
          0,
          0.3133333333333333
         ],
         "matches": "y",
         "showticklabels": false
        },
        "yaxis3": {
         "anchor": "x3",
         "domain": [
          0.34333333333333327,
          0.6566666666666665
         ],
         "matches": "y",
         "title": {
          "text": ""
         }
        },
        "yaxis4": {
         "anchor": "x4",
         "domain": [
          0.34333333333333327,
          0.6566666666666665
         ],
         "matches": "y",
         "showticklabels": false
        },
        "yaxis5": {
         "anchor": "x5",
         "domain": [
          0.6866666666666665,
          0.9999999999999998
         ],
         "matches": "y",
         "title": {
          "text": ""
         }
        },
        "yaxis6": {
         "anchor": "x6",
         "domain": [
          0.6866666666666665,
          0.9999999999999998
         ],
         "matches": "y",
         "showticklabels": false
        }
       }
      },
      "text/html": [
       "<div>                            <div id=\"9d1f47ce-d911-4f55-8514-9fb1bbc9cf11\" class=\"plotly-graph-div\" style=\"height:525px; width:100%;\"></div>            <script type=\"text/javascript\">                require([\"plotly\"], function(Plotly) {                    window.PLOTLYENV=window.PLOTLYENV || {};                                    if (document.getElementById(\"9d1f47ce-d911-4f55-8514-9fb1bbc9cf11\")) {                    Plotly.newPlot(                        \"9d1f47ce-d911-4f55-8514-9fb1bbc9cf11\",                        [{\"alignmentgroup\":\"True\",\"hovertemplate\":\"Loss (%)=0<br>Bundle Size=1 kB<br>Bundles=10<br>Software/CLP=%{x}<br>=%{y}<extra></extra>\",\"legendgroup\":\"0\",\"marker\":{\"color\":\"#636efa\"},\"name\":\"0\",\"notched\":false,\"offsetgroup\":\"0\",\"orientation\":\"v\",\"showlegend\":true,\"x\":[\"DTN7-ng/QUICL\",\"DTN7-ng/MTCP\"],\"x0\":\" \",\"xaxis\":\"x5\",\"y\":[100.0,100.0],\"y0\":\" \",\"yaxis\":\"y5\",\"type\":\"box\"},{\"alignmentgroup\":\"True\",\"hovertemplate\":\"Loss (%)=0<br>Bundle Size=1 kB<br>Bundles=100<br>Software/CLP=%{x}<br>=%{y}<extra></extra>\",\"legendgroup\":\"0\",\"marker\":{\"color\":\"#636efa\"},\"name\":\"0\",\"notched\":false,\"offsetgroup\":\"0\",\"orientation\":\"v\",\"showlegend\":false,\"x\":[\"DTN7-ng/QUICL\",\"DTN7-ng/MTCP\"],\"x0\":\" \",\"xaxis\":\"x6\",\"y\":[100.0,100.0],\"y0\":\" \",\"yaxis\":\"y6\",\"type\":\"box\"},{\"alignmentgroup\":\"True\",\"hovertemplate\":\"Loss (%)=0<br>Bundle Size=100 kB<br>Bundles=10<br>Software/CLP=%{x}<br>=%{y}<extra></extra>\",\"legendgroup\":\"0\",\"marker\":{\"color\":\"#636efa\"},\"name\":\"0\",\"notched\":false,\"offsetgroup\":\"0\",\"orientation\":\"v\",\"showlegend\":false,\"x\":[\"DTN7-ng/QUICL\",\"DTN7-ng/MTCP\"],\"x0\":\" \",\"xaxis\":\"x3\",\"y\":[100.0,100.0],\"y0\":\" \",\"yaxis\":\"y3\",\"type\":\"box\"},{\"alignmentgroup\":\"True\",\"hovertemplate\":\"Loss (%)=0<br>Bundle Size=100 kB<br>Bundles=100<br>Software/CLP=%{x}<br>=%{y}<extra></extra>\",\"legendgroup\":\"0\",\"marker\":{\"color\":\"#636efa\"},\"name\":\"0\",\"notched\":false,\"offsetgroup\":\"0\",\"orientation\":\"v\",\"showlegend\":false,\"x\":[\"DTN7-ng/QUICL\",\"DTN7-ng/MTCP\"],\"x0\":\" \",\"xaxis\":\"x4\",\"y\":[100.0,100.0],\"y0\":\" \",\"yaxis\":\"y4\",\"type\":\"box\"},{\"alignmentgroup\":\"True\",\"hovertemplate\":\"Loss (%)=0<br>Bundle Size=1 MB<br>Bundles=10<br>Software/CLP=%{x}<br>=%{y}<extra></extra>\",\"legendgroup\":\"0\",\"marker\":{\"color\":\"#636efa\"},\"name\":\"0\",\"notched\":false,\"offsetgroup\":\"0\",\"orientation\":\"v\",\"showlegend\":false,\"x\":[\"DTN7-ng/QUICL\",\"DTN7-ng/MTCP\"],\"x0\":\" \",\"xaxis\":\"x\",\"y\":[100.0,100.0],\"y0\":\" \",\"yaxis\":\"y\",\"type\":\"box\"},{\"alignmentgroup\":\"True\",\"hovertemplate\":\"Loss (%)=0<br>Bundle Size=1 MB<br>Bundles=100<br>Software/CLP=%{x}<br>=%{y}<extra></extra>\",\"legendgroup\":\"0\",\"marker\":{\"color\":\"#636efa\"},\"name\":\"0\",\"notched\":false,\"offsetgroup\":\"0\",\"orientation\":\"v\",\"showlegend\":false,\"x\":[\"DTN7-ng/QUICL\",\"DTN7-ng/MTCP\"],\"x0\":\" \",\"xaxis\":\"x2\",\"y\":[100.0,100.0],\"y0\":\" \",\"yaxis\":\"y2\",\"type\":\"box\"},{\"alignmentgroup\":\"True\",\"hovertemplate\":\"Loss (%)=10<br>Bundle Size=1 kB<br>Bundles=10<br>Software/CLP=%{x}<br>=%{y}<extra></extra>\",\"legendgroup\":\"10\",\"marker\":{\"color\":\"#EF553B\"},\"name\":\"10\",\"notched\":false,\"offsetgroup\":\"10\",\"orientation\":\"v\",\"showlegend\":true,\"x\":[\"DTN7-ng/QUICL\",\"DTN7-ng/MTCP\"],\"x0\":\" \",\"xaxis\":\"x5\",\"y\":[100.0,0.0],\"y0\":\" \",\"yaxis\":\"y5\",\"type\":\"box\"},{\"alignmentgroup\":\"True\",\"hovertemplate\":\"Loss (%)=10<br>Bundle Size=1 kB<br>Bundles=100<br>Software/CLP=%{x}<br>=%{y}<extra></extra>\",\"legendgroup\":\"10\",\"marker\":{\"color\":\"#EF553B\"},\"name\":\"10\",\"notched\":false,\"offsetgroup\":\"10\",\"orientation\":\"v\",\"showlegend\":false,\"x\":[\"DTN7-ng/QUICL\",\"DTN7-ng/MTCP\"],\"x0\":\" \",\"xaxis\":\"x6\",\"y\":[100.0,100.0],\"y0\":\" \",\"yaxis\":\"y6\",\"type\":\"box\"},{\"alignmentgroup\":\"True\",\"hovertemplate\":\"Loss (%)=10<br>Bundle Size=100 kB<br>Bundles=10<br>Software/CLP=%{x}<br>=%{y}<extra></extra>\",\"legendgroup\":\"10\",\"marker\":{\"color\":\"#EF553B\"},\"name\":\"10\",\"notched\":false,\"offsetgroup\":\"10\",\"orientation\":\"v\",\"showlegend\":false,\"x\":[\"DTN7-ng/QUICL\",\"DTN7-ng/MTCP\"],\"x0\":\" \",\"xaxis\":\"x3\",\"y\":[100.0,70.0],\"y0\":\" \",\"yaxis\":\"y3\",\"type\":\"box\"},{\"alignmentgroup\":\"True\",\"hovertemplate\":\"Loss (%)=10<br>Bundle Size=100 kB<br>Bundles=100<br>Software/CLP=%{x}<br>=%{y}<extra></extra>\",\"legendgroup\":\"10\",\"marker\":{\"color\":\"#EF553B\"},\"name\":\"10\",\"notched\":false,\"offsetgroup\":\"10\",\"orientation\":\"v\",\"showlegend\":false,\"x\":[\"DTN7-ng/QUICL\",\"DTN7-ng/MTCP\"],\"x0\":\" \",\"xaxis\":\"x4\",\"y\":[100.0,28.000000000000004],\"y0\":\" \",\"yaxis\":\"y4\",\"type\":\"box\"},{\"alignmentgroup\":\"True\",\"hovertemplate\":\"Loss (%)=10<br>Bundle Size=1 MB<br>Bundles=10<br>Software/CLP=%{x}<br>=%{y}<extra></extra>\",\"legendgroup\":\"10\",\"marker\":{\"color\":\"#EF553B\"},\"name\":\"10\",\"notched\":false,\"offsetgroup\":\"10\",\"orientation\":\"v\",\"showlegend\":false,\"x\":[\"DTN7-ng/QUICL\",\"DTN7-ng/MTCP\"],\"x0\":\" \",\"xaxis\":\"x\",\"y\":[100.0,60.0],\"y0\":\" \",\"yaxis\":\"y\",\"type\":\"box\"},{\"alignmentgroup\":\"True\",\"hovertemplate\":\"Loss (%)=10<br>Bundle Size=1 MB<br>Bundles=100<br>Software/CLP=%{x}<br>=%{y}<extra></extra>\",\"legendgroup\":\"10\",\"marker\":{\"color\":\"#EF553B\"},\"name\":\"10\",\"notched\":false,\"offsetgroup\":\"10\",\"orientation\":\"v\",\"showlegend\":false,\"x\":[\"DTN7-ng/QUICL\",\"DTN7-ng/MTCP\"],\"x0\":\" \",\"xaxis\":\"x2\",\"y\":[100.0,1.0],\"y0\":\" \",\"yaxis\":\"y2\",\"type\":\"box\"},{\"alignmentgroup\":\"True\",\"hovertemplate\":\"Loss (%)=30<br>Bundle Size=1 kB<br>Bundles=10<br>Software/CLP=%{x}<br>=%{y}<extra></extra>\",\"legendgroup\":\"30\",\"marker\":{\"color\":\"#00cc96\"},\"name\":\"30\",\"notched\":false,\"offsetgroup\":\"30\",\"orientation\":\"v\",\"showlegend\":true,\"x\":[\"DTN7-ng/QUICL\",\"DTN7-ng/MTCP\"],\"x0\":\" \",\"xaxis\":\"x5\",\"y\":[70.0,0.0],\"y0\":\" \",\"yaxis\":\"y5\",\"type\":\"box\"},{\"alignmentgroup\":\"True\",\"hovertemplate\":\"Loss (%)=30<br>Bundle Size=1 kB<br>Bundles=100<br>Software/CLP=%{x}<br>=%{y}<extra></extra>\",\"legendgroup\":\"30\",\"marker\":{\"color\":\"#00cc96\"},\"name\":\"30\",\"notched\":false,\"offsetgroup\":\"30\",\"orientation\":\"v\",\"showlegend\":false,\"x\":[\"DTN7-ng/QUICL\",\"DTN7-ng/MTCP\"],\"x0\":\" \",\"xaxis\":\"x6\",\"y\":[100.0,0.0],\"y0\":\" \",\"yaxis\":\"y6\",\"type\":\"box\"},{\"alignmentgroup\":\"True\",\"hovertemplate\":\"Loss (%)=30<br>Bundle Size=100 kB<br>Bundles=10<br>Software/CLP=%{x}<br>=%{y}<extra></extra>\",\"legendgroup\":\"30\",\"marker\":{\"color\":\"#00cc96\"},\"name\":\"30\",\"notched\":false,\"offsetgroup\":\"30\",\"orientation\":\"v\",\"showlegend\":false,\"x\":[\"DTN7-ng/MTCP\",\"DTN7-ng/QUICL\"],\"x0\":\" \",\"xaxis\":\"x3\",\"y\":[0.0,100.0],\"y0\":\" \",\"yaxis\":\"y3\",\"type\":\"box\"},{\"alignmentgroup\":\"True\",\"hovertemplate\":\"Loss (%)=30<br>Bundle Size=100 kB<br>Bundles=100<br>Software/CLP=%{x}<br>=%{y}<extra></extra>\",\"legendgroup\":\"30\",\"marker\":{\"color\":\"#00cc96\"},\"name\":\"30\",\"notched\":false,\"offsetgroup\":\"30\",\"orientation\":\"v\",\"showlegend\":false,\"x\":[\"DTN7-ng/QUICL\",\"DTN7-ng/MTCP\"],\"x0\":\" \",\"xaxis\":\"x4\",\"y\":[100.0,0.0],\"y0\":\" \",\"yaxis\":\"y4\",\"type\":\"box\"},{\"alignmentgroup\":\"True\",\"hovertemplate\":\"Loss (%)=30<br>Bundle Size=1 MB<br>Bundles=10<br>Software/CLP=%{x}<br>=%{y}<extra></extra>\",\"legendgroup\":\"30\",\"marker\":{\"color\":\"#00cc96\"},\"name\":\"30\",\"notched\":false,\"offsetgroup\":\"30\",\"orientation\":\"v\",\"showlegend\":false,\"x\":[\"DTN7-ng/QUICL\",\"DTN7-ng/MTCP\"],\"x0\":\" \",\"xaxis\":\"x\",\"y\":[0.0,0.0],\"y0\":\" \",\"yaxis\":\"y\",\"type\":\"box\"},{\"alignmentgroup\":\"True\",\"hovertemplate\":\"Loss (%)=30<br>Bundle Size=1 MB<br>Bundles=100<br>Software/CLP=%{x}<br>=%{y}<extra></extra>\",\"legendgroup\":\"30\",\"marker\":{\"color\":\"#00cc96\"},\"name\":\"30\",\"notched\":false,\"offsetgroup\":\"30\",\"orientation\":\"v\",\"showlegend\":false,\"x\":[\"DTN7-ng/QUICL\",\"DTN7-ng/MTCP\"],\"x0\":\" \",\"xaxis\":\"x2\",\"y\":[100.0,0.0],\"y0\":\" \",\"yaxis\":\"y2\",\"type\":\"box\"},{\"alignmentgroup\":\"True\",\"hovertemplate\":\"Loss (%)=50<br>Bundle Size=1 kB<br>Bundles=10<br>Software/CLP=%{x}<br>=%{y}<extra></extra>\",\"legendgroup\":\"50\",\"marker\":{\"color\":\"#ab63fa\"},\"name\":\"50\",\"notched\":false,\"offsetgroup\":\"50\",\"orientation\":\"v\",\"showlegend\":true,\"x\":[\"DTN7-ng/QUICL\",\"DTN7-ng/MTCP\"],\"x0\":\" \",\"xaxis\":\"x5\",\"y\":[0.0,0.0],\"y0\":\" \",\"yaxis\":\"y5\",\"type\":\"box\"},{\"alignmentgroup\":\"True\",\"hovertemplate\":\"Loss (%)=50<br>Bundle Size=1 kB<br>Bundles=100<br>Software/CLP=%{x}<br>=%{y}<extra></extra>\",\"legendgroup\":\"50\",\"marker\":{\"color\":\"#ab63fa\"},\"name\":\"50\",\"notched\":false,\"offsetgroup\":\"50\",\"orientation\":\"v\",\"showlegend\":false,\"x\":[\"DTN7-ng/QUICL\",\"DTN7-ng/MTCP\"],\"x0\":\" \",\"xaxis\":\"x6\",\"y\":[42.0,0.0],\"y0\":\" \",\"yaxis\":\"y6\",\"type\":\"box\"},{\"alignmentgroup\":\"True\",\"hovertemplate\":\"Loss (%)=50<br>Bundle Size=100 kB<br>Bundles=10<br>Software/CLP=%{x}<br>=%{y}<extra></extra>\",\"legendgroup\":\"50\",\"marker\":{\"color\":\"#ab63fa\"},\"name\":\"50\",\"notched\":false,\"offsetgroup\":\"50\",\"orientation\":\"v\",\"showlegend\":false,\"x\":[\"DTN7-ng/QUICL\",\"DTN7-ng/MTCP\"],\"x0\":\" \",\"xaxis\":\"x3\",\"y\":[0.0,0.0],\"y0\":\" \",\"yaxis\":\"y3\",\"type\":\"box\"},{\"alignmentgroup\":\"True\",\"hovertemplate\":\"Loss (%)=50<br>Bundle Size=100 kB<br>Bundles=100<br>Software/CLP=%{x}<br>=%{y}<extra></extra>\",\"legendgroup\":\"50\",\"marker\":{\"color\":\"#ab63fa\"},\"name\":\"50\",\"notched\":false,\"offsetgroup\":\"50\",\"orientation\":\"v\",\"showlegend\":false,\"x\":[\"DTN7-ng/QUICL\",\"DTN7-ng/MTCP\"],\"x0\":\" \",\"xaxis\":\"x4\",\"y\":[0.0,0.0],\"y0\":\" \",\"yaxis\":\"y4\",\"type\":\"box\"},{\"alignmentgroup\":\"True\",\"hovertemplate\":\"Loss (%)=50<br>Bundle Size=1 MB<br>Bundles=10<br>Software/CLP=%{x}<br>=%{y}<extra></extra>\",\"legendgroup\":\"50\",\"marker\":{\"color\":\"#ab63fa\"},\"name\":\"50\",\"notched\":false,\"offsetgroup\":\"50\",\"orientation\":\"v\",\"showlegend\":false,\"x\":[\"DTN7-ng/QUICL\",\"DTN7-ng/MTCP\"],\"x0\":\" \",\"xaxis\":\"x\",\"y\":[0.0,0.0],\"y0\":\" \",\"yaxis\":\"y\",\"type\":\"box\"},{\"alignmentgroup\":\"True\",\"hovertemplate\":\"Loss (%)=50<br>Bundle Size=1 MB<br>Bundles=100<br>Software/CLP=%{x}<br>=%{y}<extra></extra>\",\"legendgroup\":\"50\",\"marker\":{\"color\":\"#ab63fa\"},\"name\":\"50\",\"notched\":false,\"offsetgroup\":\"50\",\"orientation\":\"v\",\"showlegend\":false,\"x\":[\"DTN7-ng/QUICL\",\"DTN7-ng/MTCP\"],\"x0\":\" \",\"xaxis\":\"x2\",\"y\":[0.0,0.0],\"y0\":\" \",\"yaxis\":\"y2\",\"type\":\"box\"}],                        {\"template\":{\"data\":{\"histogram2dcontour\":[{\"type\":\"histogram2dcontour\",\"colorbar\":{\"outlinewidth\":0,\"ticks\":\"\"},\"colorscale\":[[0.0,\"#0d0887\"],[0.1111111111111111,\"#46039f\"],[0.2222222222222222,\"#7201a8\"],[0.3333333333333333,\"#9c179e\"],[0.4444444444444444,\"#bd3786\"],[0.5555555555555556,\"#d8576b\"],[0.6666666666666666,\"#ed7953\"],[0.7777777777777778,\"#fb9f3a\"],[0.8888888888888888,\"#fdca26\"],[1.0,\"#f0f921\"]]}],\"choropleth\":[{\"type\":\"choropleth\",\"colorbar\":{\"outlinewidth\":0,\"ticks\":\"\"}}],\"histogram2d\":[{\"type\":\"histogram2d\",\"colorbar\":{\"outlinewidth\":0,\"ticks\":\"\"},\"colorscale\":[[0.0,\"#0d0887\"],[0.1111111111111111,\"#46039f\"],[0.2222222222222222,\"#7201a8\"],[0.3333333333333333,\"#9c179e\"],[0.4444444444444444,\"#bd3786\"],[0.5555555555555556,\"#d8576b\"],[0.6666666666666666,\"#ed7953\"],[0.7777777777777778,\"#fb9f3a\"],[0.8888888888888888,\"#fdca26\"],[1.0,\"#f0f921\"]]}],\"heatmap\":[{\"type\":\"heatmap\",\"colorbar\":{\"outlinewidth\":0,\"ticks\":\"\"},\"colorscale\":[[0.0,\"#0d0887\"],[0.1111111111111111,\"#46039f\"],[0.2222222222222222,\"#7201a8\"],[0.3333333333333333,\"#9c179e\"],[0.4444444444444444,\"#bd3786\"],[0.5555555555555556,\"#d8576b\"],[0.6666666666666666,\"#ed7953\"],[0.7777777777777778,\"#fb9f3a\"],[0.8888888888888888,\"#fdca26\"],[1.0,\"#f0f921\"]]}],\"heatmapgl\":[{\"type\":\"heatmapgl\",\"colorbar\":{\"outlinewidth\":0,\"ticks\":\"\"},\"colorscale\":[[0.0,\"#0d0887\"],[0.1111111111111111,\"#46039f\"],[0.2222222222222222,\"#7201a8\"],[0.3333333333333333,\"#9c179e\"],[0.4444444444444444,\"#bd3786\"],[0.5555555555555556,\"#d8576b\"],[0.6666666666666666,\"#ed7953\"],[0.7777777777777778,\"#fb9f3a\"],[0.8888888888888888,\"#fdca26\"],[1.0,\"#f0f921\"]]}],\"contourcarpet\":[{\"type\":\"contourcarpet\",\"colorbar\":{\"outlinewidth\":0,\"ticks\":\"\"}}],\"contour\":[{\"type\":\"contour\",\"colorbar\":{\"outlinewidth\":0,\"ticks\":\"\"},\"colorscale\":[[0.0,\"#0d0887\"],[0.1111111111111111,\"#46039f\"],[0.2222222222222222,\"#7201a8\"],[0.3333333333333333,\"#9c179e\"],[0.4444444444444444,\"#bd3786\"],[0.5555555555555556,\"#d8576b\"],[0.6666666666666666,\"#ed7953\"],[0.7777777777777778,\"#fb9f3a\"],[0.8888888888888888,\"#fdca26\"],[1.0,\"#f0f921\"]]}],\"surface\":[{\"type\":\"surface\",\"colorbar\":{\"outlinewidth\":0,\"ticks\":\"\"},\"colorscale\":[[0.0,\"#0d0887\"],[0.1111111111111111,\"#46039f\"],[0.2222222222222222,\"#7201a8\"],[0.3333333333333333,\"#9c179e\"],[0.4444444444444444,\"#bd3786\"],[0.5555555555555556,\"#d8576b\"],[0.6666666666666666,\"#ed7953\"],[0.7777777777777778,\"#fb9f3a\"],[0.8888888888888888,\"#fdca26\"],[1.0,\"#f0f921\"]]}],\"mesh3d\":[{\"type\":\"mesh3d\",\"colorbar\":{\"outlinewidth\":0,\"ticks\":\"\"}}],\"scatter\":[{\"fillpattern\":{\"fillmode\":\"overlay\",\"size\":10,\"solidity\":0.2},\"type\":\"scatter\"}],\"parcoords\":[{\"type\":\"parcoords\",\"line\":{\"colorbar\":{\"outlinewidth\":0,\"ticks\":\"\"}}}],\"scatterpolargl\":[{\"type\":\"scatterpolargl\",\"marker\":{\"colorbar\":{\"outlinewidth\":0,\"ticks\":\"\"}}}],\"bar\":[{\"error_x\":{\"color\":\"#2a3f5f\"},\"error_y\":{\"color\":\"#2a3f5f\"},\"marker\":{\"line\":{\"color\":\"#E5ECF6\",\"width\":0.5},\"pattern\":{\"fillmode\":\"overlay\",\"size\":10,\"solidity\":0.2}},\"type\":\"bar\"}],\"scattergeo\":[{\"type\":\"scattergeo\",\"marker\":{\"colorbar\":{\"outlinewidth\":0,\"ticks\":\"\"}}}],\"scatterpolar\":[{\"type\":\"scatterpolar\",\"marker\":{\"colorbar\":{\"outlinewidth\":0,\"ticks\":\"\"}}}],\"histogram\":[{\"marker\":{\"pattern\":{\"fillmode\":\"overlay\",\"size\":10,\"solidity\":0.2}},\"type\":\"histogram\"}],\"scattergl\":[{\"type\":\"scattergl\",\"marker\":{\"colorbar\":{\"outlinewidth\":0,\"ticks\":\"\"}}}],\"scatter3d\":[{\"type\":\"scatter3d\",\"line\":{\"colorbar\":{\"outlinewidth\":0,\"ticks\":\"\"}},\"marker\":{\"colorbar\":{\"outlinewidth\":0,\"ticks\":\"\"}}}],\"scattermapbox\":[{\"type\":\"scattermapbox\",\"marker\":{\"colorbar\":{\"outlinewidth\":0,\"ticks\":\"\"}}}],\"scatterternary\":[{\"type\":\"scatterternary\",\"marker\":{\"colorbar\":{\"outlinewidth\":0,\"ticks\":\"\"}}}],\"scattercarpet\":[{\"type\":\"scattercarpet\",\"marker\":{\"colorbar\":{\"outlinewidth\":0,\"ticks\":\"\"}}}],\"carpet\":[{\"aaxis\":{\"endlinecolor\":\"#2a3f5f\",\"gridcolor\":\"white\",\"linecolor\":\"white\",\"minorgridcolor\":\"white\",\"startlinecolor\":\"#2a3f5f\"},\"baxis\":{\"endlinecolor\":\"#2a3f5f\",\"gridcolor\":\"white\",\"linecolor\":\"white\",\"minorgridcolor\":\"white\",\"startlinecolor\":\"#2a3f5f\"},\"type\":\"carpet\"}],\"table\":[{\"cells\":{\"fill\":{\"color\":\"#EBF0F8\"},\"line\":{\"color\":\"white\"}},\"header\":{\"fill\":{\"color\":\"#C8D4E3\"},\"line\":{\"color\":\"white\"}},\"type\":\"table\"}],\"barpolar\":[{\"marker\":{\"line\":{\"color\":\"#E5ECF6\",\"width\":0.5},\"pattern\":{\"fillmode\":\"overlay\",\"size\":10,\"solidity\":0.2}},\"type\":\"barpolar\"}],\"pie\":[{\"automargin\":true,\"type\":\"pie\"}]},\"layout\":{\"autotypenumbers\":\"strict\",\"colorway\":[\"#636efa\",\"#EF553B\",\"#00cc96\",\"#ab63fa\",\"#FFA15A\",\"#19d3f3\",\"#FF6692\",\"#B6E880\",\"#FF97FF\",\"#FECB52\"],\"font\":{\"color\":\"#2a3f5f\"},\"hovermode\":\"closest\",\"hoverlabel\":{\"align\":\"left\"},\"paper_bgcolor\":\"white\",\"plot_bgcolor\":\"#E5ECF6\",\"polar\":{\"bgcolor\":\"#E5ECF6\",\"angularaxis\":{\"gridcolor\":\"white\",\"linecolor\":\"white\",\"ticks\":\"\"},\"radialaxis\":{\"gridcolor\":\"white\",\"linecolor\":\"white\",\"ticks\":\"\"}},\"ternary\":{\"bgcolor\":\"#E5ECF6\",\"aaxis\":{\"gridcolor\":\"white\",\"linecolor\":\"white\",\"ticks\":\"\"},\"baxis\":{\"gridcolor\":\"white\",\"linecolor\":\"white\",\"ticks\":\"\"},\"caxis\":{\"gridcolor\":\"white\",\"linecolor\":\"white\",\"ticks\":\"\"}},\"coloraxis\":{\"colorbar\":{\"outlinewidth\":0,\"ticks\":\"\"}},\"colorscale\":{\"sequential\":[[0.0,\"#0d0887\"],[0.1111111111111111,\"#46039f\"],[0.2222222222222222,\"#7201a8\"],[0.3333333333333333,\"#9c179e\"],[0.4444444444444444,\"#bd3786\"],[0.5555555555555556,\"#d8576b\"],[0.6666666666666666,\"#ed7953\"],[0.7777777777777778,\"#fb9f3a\"],[0.8888888888888888,\"#fdca26\"],[1.0,\"#f0f921\"]],\"sequentialminus\":[[0.0,\"#0d0887\"],[0.1111111111111111,\"#46039f\"],[0.2222222222222222,\"#7201a8\"],[0.3333333333333333,\"#9c179e\"],[0.4444444444444444,\"#bd3786\"],[0.5555555555555556,\"#d8576b\"],[0.6666666666666666,\"#ed7953\"],[0.7777777777777778,\"#fb9f3a\"],[0.8888888888888888,\"#fdca26\"],[1.0,\"#f0f921\"]],\"diverging\":[[0,\"#8e0152\"],[0.1,\"#c51b7d\"],[0.2,\"#de77ae\"],[0.3,\"#f1b6da\"],[0.4,\"#fde0ef\"],[0.5,\"#f7f7f7\"],[0.6,\"#e6f5d0\"],[0.7,\"#b8e186\"],[0.8,\"#7fbc41\"],[0.9,\"#4d9221\"],[1,\"#276419\"]]},\"xaxis\":{\"gridcolor\":\"white\",\"linecolor\":\"white\",\"ticks\":\"\",\"title\":{\"standoff\":15},\"zerolinecolor\":\"white\",\"automargin\":true,\"zerolinewidth\":2},\"yaxis\":{\"gridcolor\":\"white\",\"linecolor\":\"white\",\"ticks\":\"\",\"title\":{\"standoff\":15},\"zerolinecolor\":\"white\",\"automargin\":true,\"zerolinewidth\":2},\"scene\":{\"xaxis\":{\"backgroundcolor\":\"#E5ECF6\",\"gridcolor\":\"white\",\"linecolor\":\"white\",\"showbackground\":true,\"ticks\":\"\",\"zerolinecolor\":\"white\",\"gridwidth\":2},\"yaxis\":{\"backgroundcolor\":\"#E5ECF6\",\"gridcolor\":\"white\",\"linecolor\":\"white\",\"showbackground\":true,\"ticks\":\"\",\"zerolinecolor\":\"white\",\"gridwidth\":2},\"zaxis\":{\"backgroundcolor\":\"#E5ECF6\",\"gridcolor\":\"white\",\"linecolor\":\"white\",\"showbackground\":true,\"ticks\":\"\",\"zerolinecolor\":\"white\",\"gridwidth\":2}},\"shapedefaults\":{\"line\":{\"color\":\"#2a3f5f\"}},\"annotationdefaults\":{\"arrowcolor\":\"#2a3f5f\",\"arrowhead\":0,\"arrowwidth\":1},\"geo\":{\"bgcolor\":\"white\",\"landcolor\":\"#E5ECF6\",\"subunitcolor\":\"white\",\"showland\":true,\"showlakes\":true,\"lakecolor\":\"white\"},\"title\":{\"x\":0.05},\"mapbox\":{\"style\":\"light\"}}},\"xaxis\":{\"anchor\":\"y\",\"domain\":[0.0,0.48],\"title\":{\"text\":\"Software/CLP\"},\"categoryorder\":\"array\",\"categoryarray\":[\"Serval\",\"IBR-DTN/TCPCL\",\"DTN7-rs/MTCP\",\"DTN7-rs/TCPCL\",\"DTN7-rs/HTTP\",\"DTN7-ng/MTCP\",\"DTN7-ng/QUICL\"]},\"yaxis\":{\"anchor\":\"x\",\"domain\":[0.0,0.3133333333333333],\"title\":{\"text\":\"\"}},\"xaxis2\":{\"anchor\":\"y2\",\"domain\":[0.5,0.98],\"matches\":\"x\",\"title\":{\"text\":\"Software/CLP\"},\"categoryorder\":\"array\",\"categoryarray\":[\"Serval\",\"IBR-DTN/TCPCL\",\"DTN7-rs/MTCP\",\"DTN7-rs/TCPCL\",\"DTN7-rs/HTTP\",\"DTN7-ng/MTCP\",\"DTN7-ng/QUICL\"]},\"yaxis2\":{\"anchor\":\"x2\",\"domain\":[0.0,0.3133333333333333],\"matches\":\"y\",\"showticklabels\":false},\"xaxis3\":{\"anchor\":\"y3\",\"domain\":[0.0,0.48],\"matches\":\"x\",\"showticklabels\":false},\"yaxis3\":{\"anchor\":\"x3\",\"domain\":[0.34333333333333327,0.6566666666666665],\"matches\":\"y\",\"title\":{\"text\":\"\"}},\"xaxis4\":{\"anchor\":\"y4\",\"domain\":[0.5,0.98],\"matches\":\"x\",\"showticklabels\":false},\"yaxis4\":{\"anchor\":\"x4\",\"domain\":[0.34333333333333327,0.6566666666666665],\"matches\":\"y\",\"showticklabels\":false},\"xaxis5\":{\"anchor\":\"y5\",\"domain\":[0.0,0.48],\"matches\":\"x\",\"showticklabels\":false},\"yaxis5\":{\"anchor\":\"x5\",\"domain\":[0.6866666666666665,0.9999999999999998],\"matches\":\"y\",\"title\":{\"text\":\"\"}},\"xaxis6\":{\"anchor\":\"y6\",\"domain\":[0.5,0.98],\"matches\":\"x\",\"showticklabels\":false},\"yaxis6\":{\"anchor\":\"x6\",\"domain\":[0.6866666666666665,0.9999999999999998],\"matches\":\"y\",\"showticklabels\":false},\"annotations\":[{\"showarrow\":false,\"text\":\"Bundles: 10\",\"x\":0.24,\"xanchor\":\"center\",\"xref\":\"paper\",\"y\":0.9999999999999998,\"yanchor\":\"bottom\",\"yref\":\"paper\"},{\"showarrow\":false,\"text\":\"Bundles: 100\",\"x\":0.74,\"xanchor\":\"center\",\"xref\":\"paper\",\"y\":0.9999999999999998,\"yanchor\":\"bottom\",\"yref\":\"paper\"},{\"showarrow\":false,\"text\":\"1 MB\",\"textangle\":90,\"x\":0.98,\"xanchor\":\"left\",\"xref\":\"paper\",\"y\":0.15666666666666665,\"yanchor\":\"middle\",\"yref\":\"paper\"},{\"showarrow\":false,\"text\":\"100 kB\",\"textangle\":90,\"x\":0.98,\"xanchor\":\"left\",\"xref\":\"paper\",\"y\":0.4999999999999999,\"yanchor\":\"middle\",\"yref\":\"paper\"},{\"showarrow\":false,\"text\":\"1 kB\",\"textangle\":90,\"x\":0.98,\"xanchor\":\"left\",\"xref\":\"paper\",\"y\":0.8433333333333332,\"yanchor\":\"middle\",\"yref\":\"paper\"},{\"font\":{\"size\":14},\"text\":\"Successful Receptions (%)\",\"textangle\":-90,\"x\":-0.04,\"xref\":\"paper\",\"y\":0.35,\"yref\":\"paper\"}],\"legend\":{\"title\":{\"text\":\"Loss (%)\"},\"tracegroupgap\":0},\"margin\":{\"t\":20,\"l\":0,\"r\":0,\"b\":0},\"boxmode\":\"group\"},                        {\"responsive\": true}                    ).then(function(){\n",
       "                            \n",
       "var gd = document.getElementById('9d1f47ce-d911-4f55-8514-9fb1bbc9cf11');\n",
       "var x = new MutationObserver(function (mutations, observer) {{\n",
       "        var display = window.getComputedStyle(gd).display;\n",
       "        if (!display || display === 'none') {{\n",
       "            console.log([gd, 'removed!']);\n",
       "            Plotly.purge(gd);\n",
       "            observer.disconnect();\n",
       "        }}\n",
       "}});\n",
       "\n",
       "// Listen for the removal of the full notebook cells\n",
       "var notebookContainer = gd.closest('#notebook-container');\n",
       "if (notebookContainer) {{\n",
       "    x.observe(notebookContainer, {childList: true});\n",
       "}}\n",
       "\n",
       "// Listen for the clearing of the current output cell\n",
       "var outputEl = gd.closest('.output');\n",
       "if (outputEl) {{\n",
       "    x.observe(outputEl, {childList: true});\n",
       "}}\n",
       "\n",
       "                        })                };                });            </script>        </div>"
      ]
     },
     "metadata": {},
     "output_type": "display_data"
    }
   ],
   "source": [
    "fig = px.box(\n",
    "    ratio_df[ratio_df[\"# Nodes\"] == 2],\n",
    "    x=\"Software/CLP\", \n",
    "    y=\"Delivered (%)\",\n",
    "    color=\"Loss\",\n",
    "    facet_col=\"# Bundles\",\n",
    "    facet_row=\"Bundle Size\",\n",
    "    labels={\n",
    "        \"Runtime\": \"Runtime (s)\",\n",
    "        \"Loss\": \"Loss (%)\",\n",
    "        \"# Bundles\": \"Bundles\",\n",
    "        \"Delivered (%)\": \"\"\n",
    "    },\n",
    "    category_orders={\n",
    "        \"Loss\": [0, 10, 30],\n",
    "        \"Bundle Size\": [\"1 kB\", \"100 kB\", \"1 MB\"],\n",
    "        \"Software/CLP\": [\"Serval\", \"IBR-DTN/TCPCL\", \"DTN7-rs/MTCP\", \"DTN7-rs/TCPCL\", \"DTN7-rs/HTTP\", \"DTN7-ng/MTCP\", \"DTN7-ng/QUICL\"],\n",
    "        \"# Bundles\": [10, 100]\n",
    "    },\n",
    ")\n",
    "\n",
    "fig.for_each_annotation(lambda a: a.update(text=a.text.replace(\"=\", \": \")))\n",
    "fig.for_each_annotation(lambda a: a.update(text=a.text.replace(\"Bundle Size: \", \"\")))\n",
    "\n",
    "fig.add_annotation(x=-0.04, y=0.35,\n",
    "                   text=\"Successful Receptions (%)\",\n",
    "                   textangle=-90,\n",
    "                   xref=\"paper\",\n",
    "                   yref=\"paper\",\n",
    "                   font=dict(size=14)\n",
    "                   )\n",
    "\n",
    "fig.update_layout(\n",
    "    margin=dict(l=0, r=0, t=20, b=0),\n",
    ")\n",
    "\n",
    "fig.write_image(\"delivered_2.pdf\", width=700, height=300)\n",
    "fig"
   ]
  },
  {
   "cell_type": "code",
   "execution_count": 18,
   "metadata": {},
   "outputs": [
    {
     "data": {
      "application/vnd.plotly.v1+json": {
       "config": {
        "plotlyServerURL": "https://plot.ly"
       },
       "data": [
        {
         "alignmentgroup": "True",
         "hovertemplate": "Loss (%)=0<br>Bundle Size=1 kB<br>Bundles=10<br>Software/CLP=%{x}<br>=%{y}<extra></extra>",
         "legendgroup": "0",
         "marker": {
          "color": "#636efa"
         },
         "name": "0",
         "notched": false,
         "offsetgroup": "0",
         "orientation": "v",
         "showlegend": true,
         "type": "box",
         "x": [
          "DTN7-ng/MTCP",
          "DTN7-ng/QUICL"
         ],
         "x0": " ",
         "xaxis": "x5",
         "y": [
          100,
          100
         ],
         "y0": " ",
         "yaxis": "y5"
        },
        {
         "alignmentgroup": "True",
         "hovertemplate": "Loss (%)=0<br>Bundle Size=1 kB<br>Bundles=100<br>Software/CLP=%{x}<br>=%{y}<extra></extra>",
         "legendgroup": "0",
         "marker": {
          "color": "#636efa"
         },
         "name": "0",
         "notched": false,
         "offsetgroup": "0",
         "orientation": "v",
         "showlegend": false,
         "type": "box",
         "x": [
          "DTN7-ng/MTCP",
          "DTN7-ng/QUICL"
         ],
         "x0": " ",
         "xaxis": "x6",
         "y": [
          100,
          100
         ],
         "y0": " ",
         "yaxis": "y6"
        },
        {
         "alignmentgroup": "True",
         "hovertemplate": "Loss (%)=0<br>Bundle Size=100 kB<br>Bundles=10<br>Software/CLP=%{x}<br>=%{y}<extra></extra>",
         "legendgroup": "0",
         "marker": {
          "color": "#636efa"
         },
         "name": "0",
         "notched": false,
         "offsetgroup": "0",
         "orientation": "v",
         "showlegend": false,
         "type": "box",
         "x": [
          "DTN7-ng/MTCP",
          "DTN7-ng/QUICL"
         ],
         "x0": " ",
         "xaxis": "x3",
         "y": [
          100,
          100
         ],
         "y0": " ",
         "yaxis": "y3"
        },
        {
         "alignmentgroup": "True",
         "hovertemplate": "Loss (%)=0<br>Bundle Size=100 kB<br>Bundles=100<br>Software/CLP=%{x}<br>=%{y}<extra></extra>",
         "legendgroup": "0",
         "marker": {
          "color": "#636efa"
         },
         "name": "0",
         "notched": false,
         "offsetgroup": "0",
         "orientation": "v",
         "showlegend": false,
         "type": "box",
         "x": [
          "DTN7-ng/MTCP",
          "DTN7-ng/QUICL"
         ],
         "x0": " ",
         "xaxis": "x4",
         "y": [
          100,
          100
         ],
         "y0": " ",
         "yaxis": "y4"
        },
        {
         "alignmentgroup": "True",
         "hovertemplate": "Loss (%)=0<br>Bundle Size=1 MB<br>Bundles=10<br>Software/CLP=%{x}<br>=%{y}<extra></extra>",
         "legendgroup": "0",
         "marker": {
          "color": "#636efa"
         },
         "name": "0",
         "notched": false,
         "offsetgroup": "0",
         "orientation": "v",
         "showlegend": false,
         "type": "box",
         "x": [
          "DTN7-ng/QUICL",
          "DTN7-ng/MTCP"
         ],
         "x0": " ",
         "xaxis": "x",
         "y": [
          100,
          100
         ],
         "y0": " ",
         "yaxis": "y"
        },
        {
         "alignmentgroup": "True",
         "hovertemplate": "Loss (%)=0<br>Bundle Size=1 MB<br>Bundles=100<br>Software/CLP=%{x}<br>=%{y}<extra></extra>",
         "legendgroup": "0",
         "marker": {
          "color": "#636efa"
         },
         "name": "0",
         "notched": false,
         "offsetgroup": "0",
         "orientation": "v",
         "showlegend": false,
         "type": "box",
         "x": [
          "DTN7-ng/QUICL",
          "DTN7-ng/MTCP"
         ],
         "x0": " ",
         "xaxis": "x2",
         "y": [
          100,
          100
         ],
         "y0": " ",
         "yaxis": "y2"
        },
        {
         "alignmentgroup": "True",
         "hovertemplate": "Loss (%)=10<br>Bundle Size=1 kB<br>Bundles=10<br>Software/CLP=%{x}<br>=%{y}<extra></extra>",
         "legendgroup": "10",
         "marker": {
          "color": "#EF553B"
         },
         "name": "10",
         "notched": false,
         "offsetgroup": "10",
         "orientation": "v",
         "showlegend": true,
         "type": "box",
         "x": [
          "DTN7-ng/QUICL",
          "DTN7-ng/MTCP"
         ],
         "x0": " ",
         "xaxis": "x5",
         "y": [
          100,
          0
         ],
         "y0": " ",
         "yaxis": "y5"
        },
        {
         "alignmentgroup": "True",
         "hovertemplate": "Loss (%)=10<br>Bundle Size=1 kB<br>Bundles=100<br>Software/CLP=%{x}<br>=%{y}<extra></extra>",
         "legendgroup": "10",
         "marker": {
          "color": "#EF553B"
         },
         "name": "10",
         "notched": false,
         "offsetgroup": "10",
         "orientation": "v",
         "showlegend": false,
         "type": "box",
         "x": [
          "DTN7-ng/QUICL",
          "DTN7-ng/MTCP"
         ],
         "x0": " ",
         "xaxis": "x6",
         "y": [
          100,
          0
         ],
         "y0": " ",
         "yaxis": "y6"
        },
        {
         "alignmentgroup": "True",
         "hovertemplate": "Loss (%)=10<br>Bundle Size=100 kB<br>Bundles=10<br>Software/CLP=%{x}<br>=%{y}<extra></extra>",
         "legendgroup": "10",
         "marker": {
          "color": "#EF553B"
         },
         "name": "10",
         "notched": false,
         "offsetgroup": "10",
         "orientation": "v",
         "showlegend": false,
         "type": "box",
         "x": [
          "DTN7-ng/MTCP",
          "DTN7-ng/QUICL"
         ],
         "x0": " ",
         "xaxis": "x3",
         "y": [
          0,
          100
         ],
         "y0": " ",
         "yaxis": "y3"
        },
        {
         "alignmentgroup": "True",
         "hovertemplate": "Loss (%)=10<br>Bundle Size=100 kB<br>Bundles=100<br>Software/CLP=%{x}<br>=%{y}<extra></extra>",
         "legendgroup": "10",
         "marker": {
          "color": "#EF553B"
         },
         "name": "10",
         "notched": false,
         "offsetgroup": "10",
         "orientation": "v",
         "showlegend": false,
         "type": "box",
         "x": [
          "DTN7-ng/MTCP",
          "DTN7-ng/QUICL"
         ],
         "x0": " ",
         "xaxis": "x4",
         "y": [
          0,
          100
         ],
         "y0": " ",
         "yaxis": "y4"
        },
        {
         "alignmentgroup": "True",
         "hovertemplate": "Loss (%)=10<br>Bundle Size=1 MB<br>Bundles=10<br>Software/CLP=%{x}<br>=%{y}<extra></extra>",
         "legendgroup": "10",
         "marker": {
          "color": "#EF553B"
         },
         "name": "10",
         "notched": false,
         "offsetgroup": "10",
         "orientation": "v",
         "showlegend": false,
         "type": "box",
         "x": [
          "DTN7-ng/QUICL",
          "DTN7-ng/MTCP"
         ],
         "x0": " ",
         "xaxis": "x",
         "y": [
          100,
          0
         ],
         "y0": " ",
         "yaxis": "y"
        },
        {
         "alignmentgroup": "True",
         "hovertemplate": "Loss (%)=10<br>Bundle Size=1 MB<br>Bundles=100<br>Software/CLP=%{x}<br>=%{y}<extra></extra>",
         "legendgroup": "10",
         "marker": {
          "color": "#EF553B"
         },
         "name": "10",
         "notched": false,
         "offsetgroup": "10",
         "orientation": "v",
         "showlegend": false,
         "type": "box",
         "x": [
          "DTN7-ng/MTCP",
          "DTN7-ng/QUICL"
         ],
         "x0": " ",
         "xaxis": "x2",
         "y": [
          0,
          100
         ],
         "y0": " ",
         "yaxis": "y2"
        },
        {
         "alignmentgroup": "True",
         "hovertemplate": "Loss (%)=30<br>Bundle Size=1 kB<br>Bundles=10<br>Software/CLP=%{x}<br>=%{y}<extra></extra>",
         "legendgroup": "30",
         "marker": {
          "color": "#00cc96"
         },
         "name": "30",
         "notched": false,
         "offsetgroup": "30",
         "orientation": "v",
         "showlegend": true,
         "type": "box",
         "x": [
          "DTN7-ng/QUICL",
          "DTN7-ng/MTCP"
         ],
         "x0": " ",
         "xaxis": "x5",
         "y": [
          0,
          0
         ],
         "y0": " ",
         "yaxis": "y5"
        },
        {
         "alignmentgroup": "True",
         "hovertemplate": "Loss (%)=30<br>Bundle Size=1 kB<br>Bundles=100<br>Software/CLP=%{x}<br>=%{y}<extra></extra>",
         "legendgroup": "30",
         "marker": {
          "color": "#00cc96"
         },
         "name": "30",
         "notched": false,
         "offsetgroup": "30",
         "orientation": "v",
         "showlegend": false,
         "type": "box",
         "x": [
          "DTN7-ng/QUICL",
          "DTN7-ng/MTCP"
         ],
         "x0": " ",
         "xaxis": "x6",
         "y": [
          0,
          0
         ],
         "y0": " ",
         "yaxis": "y6"
        },
        {
         "alignmentgroup": "True",
         "hovertemplate": "Loss (%)=30<br>Bundle Size=100 kB<br>Bundles=10<br>Software/CLP=%{x}<br>=%{y}<extra></extra>",
         "legendgroup": "30",
         "marker": {
          "color": "#00cc96"
         },
         "name": "30",
         "notched": false,
         "offsetgroup": "30",
         "orientation": "v",
         "showlegend": false,
         "type": "box",
         "x": [
          "DTN7-ng/MTCP",
          "DTN7-ng/QUICL"
         ],
         "x0": " ",
         "xaxis": "x3",
         "y": [
          0,
          0
         ],
         "y0": " ",
         "yaxis": "y3"
        },
        {
         "alignmentgroup": "True",
         "hovertemplate": "Loss (%)=30<br>Bundle Size=100 kB<br>Bundles=100<br>Software/CLP=%{x}<br>=%{y}<extra></extra>",
         "legendgroup": "30",
         "marker": {
          "color": "#00cc96"
         },
         "name": "30",
         "notched": false,
         "offsetgroup": "30",
         "orientation": "v",
         "showlegend": false,
         "type": "box",
         "x": [
          "DTN7-ng/MTCP",
          "DTN7-ng/QUICL"
         ],
         "x0": " ",
         "xaxis": "x4",
         "y": [
          0,
          0
         ],
         "y0": " ",
         "yaxis": "y4"
        },
        {
         "alignmentgroup": "True",
         "hovertemplate": "Loss (%)=30<br>Bundle Size=1 MB<br>Bundles=10<br>Software/CLP=%{x}<br>=%{y}<extra></extra>",
         "legendgroup": "30",
         "marker": {
          "color": "#00cc96"
         },
         "name": "30",
         "notched": false,
         "offsetgroup": "30",
         "orientation": "v",
         "showlegend": false,
         "type": "box",
         "x": [
          "DTN7-ng/QUICL",
          "DTN7-ng/MTCP"
         ],
         "x0": " ",
         "xaxis": "x",
         "y": [
          0,
          0
         ],
         "y0": " ",
         "yaxis": "y"
        },
        {
         "alignmentgroup": "True",
         "hovertemplate": "Loss (%)=30<br>Bundle Size=1 MB<br>Bundles=100<br>Software/CLP=%{x}<br>=%{y}<extra></extra>",
         "legendgroup": "30",
         "marker": {
          "color": "#00cc96"
         },
         "name": "30",
         "notched": false,
         "offsetgroup": "30",
         "orientation": "v",
         "showlegend": false,
         "type": "box",
         "x": [
          "DTN7-ng/QUICL",
          "DTN7-ng/MTCP"
         ],
         "x0": " ",
         "xaxis": "x2",
         "y": [
          0,
          0
         ],
         "y0": " ",
         "yaxis": "y2"
        },
        {
         "alignmentgroup": "True",
         "hovertemplate": "Loss (%)=50<br>Bundle Size=1 kB<br>Bundles=10<br>Software/CLP=%{x}<br>=%{y}<extra></extra>",
         "legendgroup": "50",
         "marker": {
          "color": "#ab63fa"
         },
         "name": "50",
         "notched": false,
         "offsetgroup": "50",
         "orientation": "v",
         "showlegend": true,
         "type": "box",
         "x": [
          "DTN7-ng/QUICL",
          "DTN7-ng/MTCP"
         ],
         "x0": " ",
         "xaxis": "x5",
         "y": [
          0,
          0
         ],
         "y0": " ",
         "yaxis": "y5"
        },
        {
         "alignmentgroup": "True",
         "hovertemplate": "Loss (%)=50<br>Bundle Size=1 kB<br>Bundles=100<br>Software/CLP=%{x}<br>=%{y}<extra></extra>",
         "legendgroup": "50",
         "marker": {
          "color": "#ab63fa"
         },
         "name": "50",
         "notched": false,
         "offsetgroup": "50",
         "orientation": "v",
         "showlegend": false,
         "type": "box",
         "x": [
          "DTN7-ng/QUICL",
          "DTN7-ng/MTCP"
         ],
         "x0": " ",
         "xaxis": "x6",
         "y": [
          0,
          0
         ],
         "y0": " ",
         "yaxis": "y6"
        },
        {
         "alignmentgroup": "True",
         "hovertemplate": "Loss (%)=50<br>Bundle Size=100 kB<br>Bundles=10<br>Software/CLP=%{x}<br>=%{y}<extra></extra>",
         "legendgroup": "50",
         "marker": {
          "color": "#ab63fa"
         },
         "name": "50",
         "notched": false,
         "offsetgroup": "50",
         "orientation": "v",
         "showlegend": false,
         "type": "box",
         "x": [
          "DTN7-ng/MTCP",
          "DTN7-ng/QUICL"
         ],
         "x0": " ",
         "xaxis": "x3",
         "y": [
          0,
          0
         ],
         "y0": " ",
         "yaxis": "y3"
        },
        {
         "alignmentgroup": "True",
         "hovertemplate": "Loss (%)=50<br>Bundle Size=100 kB<br>Bundles=100<br>Software/CLP=%{x}<br>=%{y}<extra></extra>",
         "legendgroup": "50",
         "marker": {
          "color": "#ab63fa"
         },
         "name": "50",
         "notched": false,
         "offsetgroup": "50",
         "orientation": "v",
         "showlegend": false,
         "type": "box",
         "x": [
          "DTN7-ng/QUICL",
          "DTN7-ng/MTCP"
         ],
         "x0": " ",
         "xaxis": "x4",
         "y": [
          0,
          0
         ],
         "y0": " ",
         "yaxis": "y4"
        },
        {
         "alignmentgroup": "True",
         "hovertemplate": "Loss (%)=50<br>Bundle Size=1 MB<br>Bundles=10<br>Software/CLP=%{x}<br>=%{y}<extra></extra>",
         "legendgroup": "50",
         "marker": {
          "color": "#ab63fa"
         },
         "name": "50",
         "notched": false,
         "offsetgroup": "50",
         "orientation": "v",
         "showlegend": false,
         "type": "box",
         "x": [
          "DTN7-ng/QUICL",
          "DTN7-ng/MTCP"
         ],
         "x0": " ",
         "xaxis": "x",
         "y": [
          0,
          0
         ],
         "y0": " ",
         "yaxis": "y"
        },
        {
         "alignmentgroup": "True",
         "hovertemplate": "Loss (%)=50<br>Bundle Size=1 MB<br>Bundles=100<br>Software/CLP=%{x}<br>=%{y}<extra></extra>",
         "legendgroup": "50",
         "marker": {
          "color": "#ab63fa"
         },
         "name": "50",
         "notched": false,
         "offsetgroup": "50",
         "orientation": "v",
         "showlegend": false,
         "type": "box",
         "x": [
          "DTN7-ng/QUICL",
          "DTN7-ng/MTCP"
         ],
         "x0": " ",
         "xaxis": "x2",
         "y": [
          0,
          0
         ],
         "y0": " ",
         "yaxis": "y2"
        }
       ],
       "layout": {
        "annotations": [
         {
          "showarrow": false,
          "text": "Bundles: 10",
          "x": 0.24,
          "xanchor": "center",
          "xref": "paper",
          "y": 0.9999999999999998,
          "yanchor": "bottom",
          "yref": "paper"
         },
         {
          "showarrow": false,
          "text": "Bundles: 100",
          "x": 0.74,
          "xanchor": "center",
          "xref": "paper",
          "y": 0.9999999999999998,
          "yanchor": "bottom",
          "yref": "paper"
         },
         {
          "showarrow": false,
          "text": "1 MB",
          "textangle": 90,
          "x": 0.98,
          "xanchor": "left",
          "xref": "paper",
          "y": 0.15666666666666665,
          "yanchor": "middle",
          "yref": "paper"
         },
         {
          "showarrow": false,
          "text": "100 kB",
          "textangle": 90,
          "x": 0.98,
          "xanchor": "left",
          "xref": "paper",
          "y": 0.4999999999999999,
          "yanchor": "middle",
          "yref": "paper"
         },
         {
          "showarrow": false,
          "text": "1 kB",
          "textangle": 90,
          "x": 0.98,
          "xanchor": "left",
          "xref": "paper",
          "y": 0.8433333333333332,
          "yanchor": "middle",
          "yref": "paper"
         },
         {
          "font": {
           "size": 14
          },
          "text": "Successful Receptions (%)",
          "textangle": -90,
          "x": -0.04,
          "xref": "paper",
          "y": 0.35,
          "yref": "paper"
         }
        ],
        "boxmode": "group",
        "legend": {
         "title": {
          "text": "Loss (%)"
         },
         "tracegroupgap": 0
        },
        "margin": {
         "b": 0,
         "l": 0,
         "r": 0,
         "t": 20
        },
        "template": {
         "data": {
          "bar": [
           {
            "error_x": {
             "color": "#2a3f5f"
            },
            "error_y": {
             "color": "#2a3f5f"
            },
            "marker": {
             "line": {
              "color": "#E5ECF6",
              "width": 0.5
             },
             "pattern": {
              "fillmode": "overlay",
              "size": 10,
              "solidity": 0.2
             }
            },
            "type": "bar"
           }
          ],
          "barpolar": [
           {
            "marker": {
             "line": {
              "color": "#E5ECF6",
              "width": 0.5
             },
             "pattern": {
              "fillmode": "overlay",
              "size": 10,
              "solidity": 0.2
             }
            },
            "type": "barpolar"
           }
          ],
          "carpet": [
           {
            "aaxis": {
             "endlinecolor": "#2a3f5f",
             "gridcolor": "white",
             "linecolor": "white",
             "minorgridcolor": "white",
             "startlinecolor": "#2a3f5f"
            },
            "baxis": {
             "endlinecolor": "#2a3f5f",
             "gridcolor": "white",
             "linecolor": "white",
             "minorgridcolor": "white",
             "startlinecolor": "#2a3f5f"
            },
            "type": "carpet"
           }
          ],
          "choropleth": [
           {
            "colorbar": {
             "outlinewidth": 0,
             "ticks": ""
            },
            "type": "choropleth"
           }
          ],
          "contour": [
           {
            "colorbar": {
             "outlinewidth": 0,
             "ticks": ""
            },
            "colorscale": [
             [
              0,
              "#0d0887"
             ],
             [
              0.1111111111111111,
              "#46039f"
             ],
             [
              0.2222222222222222,
              "#7201a8"
             ],
             [
              0.3333333333333333,
              "#9c179e"
             ],
             [
              0.4444444444444444,
              "#bd3786"
             ],
             [
              0.5555555555555556,
              "#d8576b"
             ],
             [
              0.6666666666666666,
              "#ed7953"
             ],
             [
              0.7777777777777778,
              "#fb9f3a"
             ],
             [
              0.8888888888888888,
              "#fdca26"
             ],
             [
              1,
              "#f0f921"
             ]
            ],
            "type": "contour"
           }
          ],
          "contourcarpet": [
           {
            "colorbar": {
             "outlinewidth": 0,
             "ticks": ""
            },
            "type": "contourcarpet"
           }
          ],
          "heatmap": [
           {
            "colorbar": {
             "outlinewidth": 0,
             "ticks": ""
            },
            "colorscale": [
             [
              0,
              "#0d0887"
             ],
             [
              0.1111111111111111,
              "#46039f"
             ],
             [
              0.2222222222222222,
              "#7201a8"
             ],
             [
              0.3333333333333333,
              "#9c179e"
             ],
             [
              0.4444444444444444,
              "#bd3786"
             ],
             [
              0.5555555555555556,
              "#d8576b"
             ],
             [
              0.6666666666666666,
              "#ed7953"
             ],
             [
              0.7777777777777778,
              "#fb9f3a"
             ],
             [
              0.8888888888888888,
              "#fdca26"
             ],
             [
              1,
              "#f0f921"
             ]
            ],
            "type": "heatmap"
           }
          ],
          "heatmapgl": [
           {
            "colorbar": {
             "outlinewidth": 0,
             "ticks": ""
            },
            "colorscale": [
             [
              0,
              "#0d0887"
             ],
             [
              0.1111111111111111,
              "#46039f"
             ],
             [
              0.2222222222222222,
              "#7201a8"
             ],
             [
              0.3333333333333333,
              "#9c179e"
             ],
             [
              0.4444444444444444,
              "#bd3786"
             ],
             [
              0.5555555555555556,
              "#d8576b"
             ],
             [
              0.6666666666666666,
              "#ed7953"
             ],
             [
              0.7777777777777778,
              "#fb9f3a"
             ],
             [
              0.8888888888888888,
              "#fdca26"
             ],
             [
              1,
              "#f0f921"
             ]
            ],
            "type": "heatmapgl"
           }
          ],
          "histogram": [
           {
            "marker": {
             "pattern": {
              "fillmode": "overlay",
              "size": 10,
              "solidity": 0.2
             }
            },
            "type": "histogram"
           }
          ],
          "histogram2d": [
           {
            "colorbar": {
             "outlinewidth": 0,
             "ticks": ""
            },
            "colorscale": [
             [
              0,
              "#0d0887"
             ],
             [
              0.1111111111111111,
              "#46039f"
             ],
             [
              0.2222222222222222,
              "#7201a8"
             ],
             [
              0.3333333333333333,
              "#9c179e"
             ],
             [
              0.4444444444444444,
              "#bd3786"
             ],
             [
              0.5555555555555556,
              "#d8576b"
             ],
             [
              0.6666666666666666,
              "#ed7953"
             ],
             [
              0.7777777777777778,
              "#fb9f3a"
             ],
             [
              0.8888888888888888,
              "#fdca26"
             ],
             [
              1,
              "#f0f921"
             ]
            ],
            "type": "histogram2d"
           }
          ],
          "histogram2dcontour": [
           {
            "colorbar": {
             "outlinewidth": 0,
             "ticks": ""
            },
            "colorscale": [
             [
              0,
              "#0d0887"
             ],
             [
              0.1111111111111111,
              "#46039f"
             ],
             [
              0.2222222222222222,
              "#7201a8"
             ],
             [
              0.3333333333333333,
              "#9c179e"
             ],
             [
              0.4444444444444444,
              "#bd3786"
             ],
             [
              0.5555555555555556,
              "#d8576b"
             ],
             [
              0.6666666666666666,
              "#ed7953"
             ],
             [
              0.7777777777777778,
              "#fb9f3a"
             ],
             [
              0.8888888888888888,
              "#fdca26"
             ],
             [
              1,
              "#f0f921"
             ]
            ],
            "type": "histogram2dcontour"
           }
          ],
          "mesh3d": [
           {
            "colorbar": {
             "outlinewidth": 0,
             "ticks": ""
            },
            "type": "mesh3d"
           }
          ],
          "parcoords": [
           {
            "line": {
             "colorbar": {
              "outlinewidth": 0,
              "ticks": ""
             }
            },
            "type": "parcoords"
           }
          ],
          "pie": [
           {
            "automargin": true,
            "type": "pie"
           }
          ],
          "scatter": [
           {
            "fillpattern": {
             "fillmode": "overlay",
             "size": 10,
             "solidity": 0.2
            },
            "type": "scatter"
           }
          ],
          "scatter3d": [
           {
            "line": {
             "colorbar": {
              "outlinewidth": 0,
              "ticks": ""
             }
            },
            "marker": {
             "colorbar": {
              "outlinewidth": 0,
              "ticks": ""
             }
            },
            "type": "scatter3d"
           }
          ],
          "scattercarpet": [
           {
            "marker": {
             "colorbar": {
              "outlinewidth": 0,
              "ticks": ""
             }
            },
            "type": "scattercarpet"
           }
          ],
          "scattergeo": [
           {
            "marker": {
             "colorbar": {
              "outlinewidth": 0,
              "ticks": ""
             }
            },
            "type": "scattergeo"
           }
          ],
          "scattergl": [
           {
            "marker": {
             "colorbar": {
              "outlinewidth": 0,
              "ticks": ""
             }
            },
            "type": "scattergl"
           }
          ],
          "scattermapbox": [
           {
            "marker": {
             "colorbar": {
              "outlinewidth": 0,
              "ticks": ""
             }
            },
            "type": "scattermapbox"
           }
          ],
          "scatterpolar": [
           {
            "marker": {
             "colorbar": {
              "outlinewidth": 0,
              "ticks": ""
             }
            },
            "type": "scatterpolar"
           }
          ],
          "scatterpolargl": [
           {
            "marker": {
             "colorbar": {
              "outlinewidth": 0,
              "ticks": ""
             }
            },
            "type": "scatterpolargl"
           }
          ],
          "scatterternary": [
           {
            "marker": {
             "colorbar": {
              "outlinewidth": 0,
              "ticks": ""
             }
            },
            "type": "scatterternary"
           }
          ],
          "surface": [
           {
            "colorbar": {
             "outlinewidth": 0,
             "ticks": ""
            },
            "colorscale": [
             [
              0,
              "#0d0887"
             ],
             [
              0.1111111111111111,
              "#46039f"
             ],
             [
              0.2222222222222222,
              "#7201a8"
             ],
             [
              0.3333333333333333,
              "#9c179e"
             ],
             [
              0.4444444444444444,
              "#bd3786"
             ],
             [
              0.5555555555555556,
              "#d8576b"
             ],
             [
              0.6666666666666666,
              "#ed7953"
             ],
             [
              0.7777777777777778,
              "#fb9f3a"
             ],
             [
              0.8888888888888888,
              "#fdca26"
             ],
             [
              1,
              "#f0f921"
             ]
            ],
            "type": "surface"
           }
          ],
          "table": [
           {
            "cells": {
             "fill": {
              "color": "#EBF0F8"
             },
             "line": {
              "color": "white"
             }
            },
            "header": {
             "fill": {
              "color": "#C8D4E3"
             },
             "line": {
              "color": "white"
             }
            },
            "type": "table"
           }
          ]
         },
         "layout": {
          "annotationdefaults": {
           "arrowcolor": "#2a3f5f",
           "arrowhead": 0,
           "arrowwidth": 1
          },
          "autotypenumbers": "strict",
          "coloraxis": {
           "colorbar": {
            "outlinewidth": 0,
            "ticks": ""
           }
          },
          "colorscale": {
           "diverging": [
            [
             0,
             "#8e0152"
            ],
            [
             0.1,
             "#c51b7d"
            ],
            [
             0.2,
             "#de77ae"
            ],
            [
             0.3,
             "#f1b6da"
            ],
            [
             0.4,
             "#fde0ef"
            ],
            [
             0.5,
             "#f7f7f7"
            ],
            [
             0.6,
             "#e6f5d0"
            ],
            [
             0.7,
             "#b8e186"
            ],
            [
             0.8,
             "#7fbc41"
            ],
            [
             0.9,
             "#4d9221"
            ],
            [
             1,
             "#276419"
            ]
           ],
           "sequential": [
            [
             0,
             "#0d0887"
            ],
            [
             0.1111111111111111,
             "#46039f"
            ],
            [
             0.2222222222222222,
             "#7201a8"
            ],
            [
             0.3333333333333333,
             "#9c179e"
            ],
            [
             0.4444444444444444,
             "#bd3786"
            ],
            [
             0.5555555555555556,
             "#d8576b"
            ],
            [
             0.6666666666666666,
             "#ed7953"
            ],
            [
             0.7777777777777778,
             "#fb9f3a"
            ],
            [
             0.8888888888888888,
             "#fdca26"
            ],
            [
             1,
             "#f0f921"
            ]
           ],
           "sequentialminus": [
            [
             0,
             "#0d0887"
            ],
            [
             0.1111111111111111,
             "#46039f"
            ],
            [
             0.2222222222222222,
             "#7201a8"
            ],
            [
             0.3333333333333333,
             "#9c179e"
            ],
            [
             0.4444444444444444,
             "#bd3786"
            ],
            [
             0.5555555555555556,
             "#d8576b"
            ],
            [
             0.6666666666666666,
             "#ed7953"
            ],
            [
             0.7777777777777778,
             "#fb9f3a"
            ],
            [
             0.8888888888888888,
             "#fdca26"
            ],
            [
             1,
             "#f0f921"
            ]
           ]
          },
          "colorway": [
           "#636efa",
           "#EF553B",
           "#00cc96",
           "#ab63fa",
           "#FFA15A",
           "#19d3f3",
           "#FF6692",
           "#B6E880",
           "#FF97FF",
           "#FECB52"
          ],
          "font": {
           "color": "#2a3f5f"
          },
          "geo": {
           "bgcolor": "white",
           "lakecolor": "white",
           "landcolor": "#E5ECF6",
           "showlakes": true,
           "showland": true,
           "subunitcolor": "white"
          },
          "hoverlabel": {
           "align": "left"
          },
          "hovermode": "closest",
          "mapbox": {
           "style": "light"
          },
          "paper_bgcolor": "white",
          "plot_bgcolor": "#E5ECF6",
          "polar": {
           "angularaxis": {
            "gridcolor": "white",
            "linecolor": "white",
            "ticks": ""
           },
           "bgcolor": "#E5ECF6",
           "radialaxis": {
            "gridcolor": "white",
            "linecolor": "white",
            "ticks": ""
           }
          },
          "scene": {
           "xaxis": {
            "backgroundcolor": "#E5ECF6",
            "gridcolor": "white",
            "gridwidth": 2,
            "linecolor": "white",
            "showbackground": true,
            "ticks": "",
            "zerolinecolor": "white"
           },
           "yaxis": {
            "backgroundcolor": "#E5ECF6",
            "gridcolor": "white",
            "gridwidth": 2,
            "linecolor": "white",
            "showbackground": true,
            "ticks": "",
            "zerolinecolor": "white"
           },
           "zaxis": {
            "backgroundcolor": "#E5ECF6",
            "gridcolor": "white",
            "gridwidth": 2,
            "linecolor": "white",
            "showbackground": true,
            "ticks": "",
            "zerolinecolor": "white"
           }
          },
          "shapedefaults": {
           "line": {
            "color": "#2a3f5f"
           }
          },
          "ternary": {
           "aaxis": {
            "gridcolor": "white",
            "linecolor": "white",
            "ticks": ""
           },
           "baxis": {
            "gridcolor": "white",
            "linecolor": "white",
            "ticks": ""
           },
           "bgcolor": "#E5ECF6",
           "caxis": {
            "gridcolor": "white",
            "linecolor": "white",
            "ticks": ""
           }
          },
          "title": {
           "x": 0.05
          },
          "xaxis": {
           "automargin": true,
           "gridcolor": "white",
           "linecolor": "white",
           "ticks": "",
           "title": {
            "standoff": 15
           },
           "zerolinecolor": "white",
           "zerolinewidth": 2
          },
          "yaxis": {
           "automargin": true,
           "gridcolor": "white",
           "linecolor": "white",
           "ticks": "",
           "title": {
            "standoff": 15
           },
           "zerolinecolor": "white",
           "zerolinewidth": 2
          }
         }
        },
        "xaxis": {
         "anchor": "y",
         "categoryarray": [
          "Serval",
          "IBR-DTN/TCPCL",
          "DTN7-rs/MTCP",
          "DTN7-rs/TCPCL",
          "DTN7-rs/HTTP",
          "DTN7-ng/MTCP",
          "DTN7-ng/QUICL"
         ],
         "categoryorder": "array",
         "domain": [
          0,
          0.48
         ],
         "title": {
          "text": "Software/CLP"
         }
        },
        "xaxis2": {
         "anchor": "y2",
         "categoryarray": [
          "Serval",
          "IBR-DTN/TCPCL",
          "DTN7-rs/MTCP",
          "DTN7-rs/TCPCL",
          "DTN7-rs/HTTP",
          "DTN7-ng/MTCP",
          "DTN7-ng/QUICL"
         ],
         "categoryorder": "array",
         "domain": [
          0.5,
          0.98
         ],
         "matches": "x",
         "title": {
          "text": "Software/CLP"
         }
        },
        "xaxis3": {
         "anchor": "y3",
         "domain": [
          0,
          0.48
         ],
         "matches": "x",
         "showticklabels": false
        },
        "xaxis4": {
         "anchor": "y4",
         "domain": [
          0.5,
          0.98
         ],
         "matches": "x",
         "showticklabels": false
        },
        "xaxis5": {
         "anchor": "y5",
         "domain": [
          0,
          0.48
         ],
         "matches": "x",
         "showticklabels": false
        },
        "xaxis6": {
         "anchor": "y6",
         "domain": [
          0.5,
          0.98
         ],
         "matches": "x",
         "showticklabels": false
        },
        "yaxis": {
         "anchor": "x",
         "domain": [
          0,
          0.3133333333333333
         ],
         "title": {
          "text": ""
         }
        },
        "yaxis2": {
         "anchor": "x2",
         "domain": [
          0,
          0.3133333333333333
         ],
         "matches": "y",
         "showticklabels": false
        },
        "yaxis3": {
         "anchor": "x3",
         "domain": [
          0.34333333333333327,
          0.6566666666666665
         ],
         "matches": "y",
         "title": {
          "text": ""
         }
        },
        "yaxis4": {
         "anchor": "x4",
         "domain": [
          0.34333333333333327,
          0.6566666666666665
         ],
         "matches": "y",
         "showticklabels": false
        },
        "yaxis5": {
         "anchor": "x5",
         "domain": [
          0.6866666666666665,
          0.9999999999999998
         ],
         "matches": "y",
         "title": {
          "text": ""
         }
        },
        "yaxis6": {
         "anchor": "x6",
         "domain": [
          0.6866666666666665,
          0.9999999999999998
         ],
         "matches": "y",
         "showticklabels": false
        }
       }
      },
      "text/html": [
       "<div>                            <div id=\"a9f85356-599b-4b2e-9e1c-040e69bc4494\" class=\"plotly-graph-div\" style=\"height:525px; width:100%;\"></div>            <script type=\"text/javascript\">                require([\"plotly\"], function(Plotly) {                    window.PLOTLYENV=window.PLOTLYENV || {};                                    if (document.getElementById(\"a9f85356-599b-4b2e-9e1c-040e69bc4494\")) {                    Plotly.newPlot(                        \"a9f85356-599b-4b2e-9e1c-040e69bc4494\",                        [{\"alignmentgroup\":\"True\",\"hovertemplate\":\"Loss (%)=0<br>Bundle Size=1 kB<br>Bundles=10<br>Software/CLP=%{x}<br>=%{y}<extra></extra>\",\"legendgroup\":\"0\",\"marker\":{\"color\":\"#636efa\"},\"name\":\"0\",\"notched\":false,\"offsetgroup\":\"0\",\"orientation\":\"v\",\"showlegend\":true,\"x\":[\"DTN7-ng/MTCP\",\"DTN7-ng/QUICL\"],\"x0\":\" \",\"xaxis\":\"x5\",\"y\":[100.0,100.0],\"y0\":\" \",\"yaxis\":\"y5\",\"type\":\"box\"},{\"alignmentgroup\":\"True\",\"hovertemplate\":\"Loss (%)=0<br>Bundle Size=1 kB<br>Bundles=100<br>Software/CLP=%{x}<br>=%{y}<extra></extra>\",\"legendgroup\":\"0\",\"marker\":{\"color\":\"#636efa\"},\"name\":\"0\",\"notched\":false,\"offsetgroup\":\"0\",\"orientation\":\"v\",\"showlegend\":false,\"x\":[\"DTN7-ng/MTCP\",\"DTN7-ng/QUICL\"],\"x0\":\" \",\"xaxis\":\"x6\",\"y\":[100.0,100.0],\"y0\":\" \",\"yaxis\":\"y6\",\"type\":\"box\"},{\"alignmentgroup\":\"True\",\"hovertemplate\":\"Loss (%)=0<br>Bundle Size=100 kB<br>Bundles=10<br>Software/CLP=%{x}<br>=%{y}<extra></extra>\",\"legendgroup\":\"0\",\"marker\":{\"color\":\"#636efa\"},\"name\":\"0\",\"notched\":false,\"offsetgroup\":\"0\",\"orientation\":\"v\",\"showlegend\":false,\"x\":[\"DTN7-ng/MTCP\",\"DTN7-ng/QUICL\"],\"x0\":\" \",\"xaxis\":\"x3\",\"y\":[100.0,100.0],\"y0\":\" \",\"yaxis\":\"y3\",\"type\":\"box\"},{\"alignmentgroup\":\"True\",\"hovertemplate\":\"Loss (%)=0<br>Bundle Size=100 kB<br>Bundles=100<br>Software/CLP=%{x}<br>=%{y}<extra></extra>\",\"legendgroup\":\"0\",\"marker\":{\"color\":\"#636efa\"},\"name\":\"0\",\"notched\":false,\"offsetgroup\":\"0\",\"orientation\":\"v\",\"showlegend\":false,\"x\":[\"DTN7-ng/MTCP\",\"DTN7-ng/QUICL\"],\"x0\":\" \",\"xaxis\":\"x4\",\"y\":[100.0,100.0],\"y0\":\" \",\"yaxis\":\"y4\",\"type\":\"box\"},{\"alignmentgroup\":\"True\",\"hovertemplate\":\"Loss (%)=0<br>Bundle Size=1 MB<br>Bundles=10<br>Software/CLP=%{x}<br>=%{y}<extra></extra>\",\"legendgroup\":\"0\",\"marker\":{\"color\":\"#636efa\"},\"name\":\"0\",\"notched\":false,\"offsetgroup\":\"0\",\"orientation\":\"v\",\"showlegend\":false,\"x\":[\"DTN7-ng/QUICL\",\"DTN7-ng/MTCP\"],\"x0\":\" \",\"xaxis\":\"x\",\"y\":[100.0,100.0],\"y0\":\" \",\"yaxis\":\"y\",\"type\":\"box\"},{\"alignmentgroup\":\"True\",\"hovertemplate\":\"Loss (%)=0<br>Bundle Size=1 MB<br>Bundles=100<br>Software/CLP=%{x}<br>=%{y}<extra></extra>\",\"legendgroup\":\"0\",\"marker\":{\"color\":\"#636efa\"},\"name\":\"0\",\"notched\":false,\"offsetgroup\":\"0\",\"orientation\":\"v\",\"showlegend\":false,\"x\":[\"DTN7-ng/QUICL\",\"DTN7-ng/MTCP\"],\"x0\":\" \",\"xaxis\":\"x2\",\"y\":[100.0,100.0],\"y0\":\" \",\"yaxis\":\"y2\",\"type\":\"box\"},{\"alignmentgroup\":\"True\",\"hovertemplate\":\"Loss (%)=10<br>Bundle Size=1 kB<br>Bundles=10<br>Software/CLP=%{x}<br>=%{y}<extra></extra>\",\"legendgroup\":\"10\",\"marker\":{\"color\":\"#EF553B\"},\"name\":\"10\",\"notched\":false,\"offsetgroup\":\"10\",\"orientation\":\"v\",\"showlegend\":true,\"x\":[\"DTN7-ng/QUICL\",\"DTN7-ng/MTCP\"],\"x0\":\" \",\"xaxis\":\"x5\",\"y\":[100.0,0.0],\"y0\":\" \",\"yaxis\":\"y5\",\"type\":\"box\"},{\"alignmentgroup\":\"True\",\"hovertemplate\":\"Loss (%)=10<br>Bundle Size=1 kB<br>Bundles=100<br>Software/CLP=%{x}<br>=%{y}<extra></extra>\",\"legendgroup\":\"10\",\"marker\":{\"color\":\"#EF553B\"},\"name\":\"10\",\"notched\":false,\"offsetgroup\":\"10\",\"orientation\":\"v\",\"showlegend\":false,\"x\":[\"DTN7-ng/QUICL\",\"DTN7-ng/MTCP\"],\"x0\":\" \",\"xaxis\":\"x6\",\"y\":[100.0,0.0],\"y0\":\" \",\"yaxis\":\"y6\",\"type\":\"box\"},{\"alignmentgroup\":\"True\",\"hovertemplate\":\"Loss (%)=10<br>Bundle Size=100 kB<br>Bundles=10<br>Software/CLP=%{x}<br>=%{y}<extra></extra>\",\"legendgroup\":\"10\",\"marker\":{\"color\":\"#EF553B\"},\"name\":\"10\",\"notched\":false,\"offsetgroup\":\"10\",\"orientation\":\"v\",\"showlegend\":false,\"x\":[\"DTN7-ng/MTCP\",\"DTN7-ng/QUICL\"],\"x0\":\" \",\"xaxis\":\"x3\",\"y\":[0.0,100.0],\"y0\":\" \",\"yaxis\":\"y3\",\"type\":\"box\"},{\"alignmentgroup\":\"True\",\"hovertemplate\":\"Loss (%)=10<br>Bundle Size=100 kB<br>Bundles=100<br>Software/CLP=%{x}<br>=%{y}<extra></extra>\",\"legendgroup\":\"10\",\"marker\":{\"color\":\"#EF553B\"},\"name\":\"10\",\"notched\":false,\"offsetgroup\":\"10\",\"orientation\":\"v\",\"showlegend\":false,\"x\":[\"DTN7-ng/MTCP\",\"DTN7-ng/QUICL\"],\"x0\":\" \",\"xaxis\":\"x4\",\"y\":[0.0,100.0],\"y0\":\" \",\"yaxis\":\"y4\",\"type\":\"box\"},{\"alignmentgroup\":\"True\",\"hovertemplate\":\"Loss (%)=10<br>Bundle Size=1 MB<br>Bundles=10<br>Software/CLP=%{x}<br>=%{y}<extra></extra>\",\"legendgroup\":\"10\",\"marker\":{\"color\":\"#EF553B\"},\"name\":\"10\",\"notched\":false,\"offsetgroup\":\"10\",\"orientation\":\"v\",\"showlegend\":false,\"x\":[\"DTN7-ng/QUICL\",\"DTN7-ng/MTCP\"],\"x0\":\" \",\"xaxis\":\"x\",\"y\":[100.0,0.0],\"y0\":\" \",\"yaxis\":\"y\",\"type\":\"box\"},{\"alignmentgroup\":\"True\",\"hovertemplate\":\"Loss (%)=10<br>Bundle Size=1 MB<br>Bundles=100<br>Software/CLP=%{x}<br>=%{y}<extra></extra>\",\"legendgroup\":\"10\",\"marker\":{\"color\":\"#EF553B\"},\"name\":\"10\",\"notched\":false,\"offsetgroup\":\"10\",\"orientation\":\"v\",\"showlegend\":false,\"x\":[\"DTN7-ng/MTCP\",\"DTN7-ng/QUICL\"],\"x0\":\" \",\"xaxis\":\"x2\",\"y\":[0.0,100.0],\"y0\":\" \",\"yaxis\":\"y2\",\"type\":\"box\"},{\"alignmentgroup\":\"True\",\"hovertemplate\":\"Loss (%)=30<br>Bundle Size=1 kB<br>Bundles=10<br>Software/CLP=%{x}<br>=%{y}<extra></extra>\",\"legendgroup\":\"30\",\"marker\":{\"color\":\"#00cc96\"},\"name\":\"30\",\"notched\":false,\"offsetgroup\":\"30\",\"orientation\":\"v\",\"showlegend\":true,\"x\":[\"DTN7-ng/QUICL\",\"DTN7-ng/MTCP\"],\"x0\":\" \",\"xaxis\":\"x5\",\"y\":[0.0,0.0],\"y0\":\" \",\"yaxis\":\"y5\",\"type\":\"box\"},{\"alignmentgroup\":\"True\",\"hovertemplate\":\"Loss (%)=30<br>Bundle Size=1 kB<br>Bundles=100<br>Software/CLP=%{x}<br>=%{y}<extra></extra>\",\"legendgroup\":\"30\",\"marker\":{\"color\":\"#00cc96\"},\"name\":\"30\",\"notched\":false,\"offsetgroup\":\"30\",\"orientation\":\"v\",\"showlegend\":false,\"x\":[\"DTN7-ng/QUICL\",\"DTN7-ng/MTCP\"],\"x0\":\" \",\"xaxis\":\"x6\",\"y\":[0.0,0.0],\"y0\":\" \",\"yaxis\":\"y6\",\"type\":\"box\"},{\"alignmentgroup\":\"True\",\"hovertemplate\":\"Loss (%)=30<br>Bundle Size=100 kB<br>Bundles=10<br>Software/CLP=%{x}<br>=%{y}<extra></extra>\",\"legendgroup\":\"30\",\"marker\":{\"color\":\"#00cc96\"},\"name\":\"30\",\"notched\":false,\"offsetgroup\":\"30\",\"orientation\":\"v\",\"showlegend\":false,\"x\":[\"DTN7-ng/MTCP\",\"DTN7-ng/QUICL\"],\"x0\":\" \",\"xaxis\":\"x3\",\"y\":[0.0,0.0],\"y0\":\" \",\"yaxis\":\"y3\",\"type\":\"box\"},{\"alignmentgroup\":\"True\",\"hovertemplate\":\"Loss (%)=30<br>Bundle Size=100 kB<br>Bundles=100<br>Software/CLP=%{x}<br>=%{y}<extra></extra>\",\"legendgroup\":\"30\",\"marker\":{\"color\":\"#00cc96\"},\"name\":\"30\",\"notched\":false,\"offsetgroup\":\"30\",\"orientation\":\"v\",\"showlegend\":false,\"x\":[\"DTN7-ng/MTCP\",\"DTN7-ng/QUICL\"],\"x0\":\" \",\"xaxis\":\"x4\",\"y\":[0.0,0.0],\"y0\":\" \",\"yaxis\":\"y4\",\"type\":\"box\"},{\"alignmentgroup\":\"True\",\"hovertemplate\":\"Loss (%)=30<br>Bundle Size=1 MB<br>Bundles=10<br>Software/CLP=%{x}<br>=%{y}<extra></extra>\",\"legendgroup\":\"30\",\"marker\":{\"color\":\"#00cc96\"},\"name\":\"30\",\"notched\":false,\"offsetgroup\":\"30\",\"orientation\":\"v\",\"showlegend\":false,\"x\":[\"DTN7-ng/QUICL\",\"DTN7-ng/MTCP\"],\"x0\":\" \",\"xaxis\":\"x\",\"y\":[0.0,0.0],\"y0\":\" \",\"yaxis\":\"y\",\"type\":\"box\"},{\"alignmentgroup\":\"True\",\"hovertemplate\":\"Loss (%)=30<br>Bundle Size=1 MB<br>Bundles=100<br>Software/CLP=%{x}<br>=%{y}<extra></extra>\",\"legendgroup\":\"30\",\"marker\":{\"color\":\"#00cc96\"},\"name\":\"30\",\"notched\":false,\"offsetgroup\":\"30\",\"orientation\":\"v\",\"showlegend\":false,\"x\":[\"DTN7-ng/QUICL\",\"DTN7-ng/MTCP\"],\"x0\":\" \",\"xaxis\":\"x2\",\"y\":[0.0,0.0],\"y0\":\" \",\"yaxis\":\"y2\",\"type\":\"box\"},{\"alignmentgroup\":\"True\",\"hovertemplate\":\"Loss (%)=50<br>Bundle Size=1 kB<br>Bundles=10<br>Software/CLP=%{x}<br>=%{y}<extra></extra>\",\"legendgroup\":\"50\",\"marker\":{\"color\":\"#ab63fa\"},\"name\":\"50\",\"notched\":false,\"offsetgroup\":\"50\",\"orientation\":\"v\",\"showlegend\":true,\"x\":[\"DTN7-ng/QUICL\",\"DTN7-ng/MTCP\"],\"x0\":\" \",\"xaxis\":\"x5\",\"y\":[0.0,0.0],\"y0\":\" \",\"yaxis\":\"y5\",\"type\":\"box\"},{\"alignmentgroup\":\"True\",\"hovertemplate\":\"Loss (%)=50<br>Bundle Size=1 kB<br>Bundles=100<br>Software/CLP=%{x}<br>=%{y}<extra></extra>\",\"legendgroup\":\"50\",\"marker\":{\"color\":\"#ab63fa\"},\"name\":\"50\",\"notched\":false,\"offsetgroup\":\"50\",\"orientation\":\"v\",\"showlegend\":false,\"x\":[\"DTN7-ng/QUICL\",\"DTN7-ng/MTCP\"],\"x0\":\" \",\"xaxis\":\"x6\",\"y\":[0.0,0.0],\"y0\":\" \",\"yaxis\":\"y6\",\"type\":\"box\"},{\"alignmentgroup\":\"True\",\"hovertemplate\":\"Loss (%)=50<br>Bundle Size=100 kB<br>Bundles=10<br>Software/CLP=%{x}<br>=%{y}<extra></extra>\",\"legendgroup\":\"50\",\"marker\":{\"color\":\"#ab63fa\"},\"name\":\"50\",\"notched\":false,\"offsetgroup\":\"50\",\"orientation\":\"v\",\"showlegend\":false,\"x\":[\"DTN7-ng/MTCP\",\"DTN7-ng/QUICL\"],\"x0\":\" \",\"xaxis\":\"x3\",\"y\":[0.0,0.0],\"y0\":\" \",\"yaxis\":\"y3\",\"type\":\"box\"},{\"alignmentgroup\":\"True\",\"hovertemplate\":\"Loss (%)=50<br>Bundle Size=100 kB<br>Bundles=100<br>Software/CLP=%{x}<br>=%{y}<extra></extra>\",\"legendgroup\":\"50\",\"marker\":{\"color\":\"#ab63fa\"},\"name\":\"50\",\"notched\":false,\"offsetgroup\":\"50\",\"orientation\":\"v\",\"showlegend\":false,\"x\":[\"DTN7-ng/QUICL\",\"DTN7-ng/MTCP\"],\"x0\":\" \",\"xaxis\":\"x4\",\"y\":[0.0,0.0],\"y0\":\" \",\"yaxis\":\"y4\",\"type\":\"box\"},{\"alignmentgroup\":\"True\",\"hovertemplate\":\"Loss (%)=50<br>Bundle Size=1 MB<br>Bundles=10<br>Software/CLP=%{x}<br>=%{y}<extra></extra>\",\"legendgroup\":\"50\",\"marker\":{\"color\":\"#ab63fa\"},\"name\":\"50\",\"notched\":false,\"offsetgroup\":\"50\",\"orientation\":\"v\",\"showlegend\":false,\"x\":[\"DTN7-ng/QUICL\",\"DTN7-ng/MTCP\"],\"x0\":\" \",\"xaxis\":\"x\",\"y\":[0.0,0.0],\"y0\":\" \",\"yaxis\":\"y\",\"type\":\"box\"},{\"alignmentgroup\":\"True\",\"hovertemplate\":\"Loss (%)=50<br>Bundle Size=1 MB<br>Bundles=100<br>Software/CLP=%{x}<br>=%{y}<extra></extra>\",\"legendgroup\":\"50\",\"marker\":{\"color\":\"#ab63fa\"},\"name\":\"50\",\"notched\":false,\"offsetgroup\":\"50\",\"orientation\":\"v\",\"showlegend\":false,\"x\":[\"DTN7-ng/QUICL\",\"DTN7-ng/MTCP\"],\"x0\":\" \",\"xaxis\":\"x2\",\"y\":[0.0,0.0],\"y0\":\" \",\"yaxis\":\"y2\",\"type\":\"box\"}],                        {\"template\":{\"data\":{\"histogram2dcontour\":[{\"type\":\"histogram2dcontour\",\"colorbar\":{\"outlinewidth\":0,\"ticks\":\"\"},\"colorscale\":[[0.0,\"#0d0887\"],[0.1111111111111111,\"#46039f\"],[0.2222222222222222,\"#7201a8\"],[0.3333333333333333,\"#9c179e\"],[0.4444444444444444,\"#bd3786\"],[0.5555555555555556,\"#d8576b\"],[0.6666666666666666,\"#ed7953\"],[0.7777777777777778,\"#fb9f3a\"],[0.8888888888888888,\"#fdca26\"],[1.0,\"#f0f921\"]]}],\"choropleth\":[{\"type\":\"choropleth\",\"colorbar\":{\"outlinewidth\":0,\"ticks\":\"\"}}],\"histogram2d\":[{\"type\":\"histogram2d\",\"colorbar\":{\"outlinewidth\":0,\"ticks\":\"\"},\"colorscale\":[[0.0,\"#0d0887\"],[0.1111111111111111,\"#46039f\"],[0.2222222222222222,\"#7201a8\"],[0.3333333333333333,\"#9c179e\"],[0.4444444444444444,\"#bd3786\"],[0.5555555555555556,\"#d8576b\"],[0.6666666666666666,\"#ed7953\"],[0.7777777777777778,\"#fb9f3a\"],[0.8888888888888888,\"#fdca26\"],[1.0,\"#f0f921\"]]}],\"heatmap\":[{\"type\":\"heatmap\",\"colorbar\":{\"outlinewidth\":0,\"ticks\":\"\"},\"colorscale\":[[0.0,\"#0d0887\"],[0.1111111111111111,\"#46039f\"],[0.2222222222222222,\"#7201a8\"],[0.3333333333333333,\"#9c179e\"],[0.4444444444444444,\"#bd3786\"],[0.5555555555555556,\"#d8576b\"],[0.6666666666666666,\"#ed7953\"],[0.7777777777777778,\"#fb9f3a\"],[0.8888888888888888,\"#fdca26\"],[1.0,\"#f0f921\"]]}],\"heatmapgl\":[{\"type\":\"heatmapgl\",\"colorbar\":{\"outlinewidth\":0,\"ticks\":\"\"},\"colorscale\":[[0.0,\"#0d0887\"],[0.1111111111111111,\"#46039f\"],[0.2222222222222222,\"#7201a8\"],[0.3333333333333333,\"#9c179e\"],[0.4444444444444444,\"#bd3786\"],[0.5555555555555556,\"#d8576b\"],[0.6666666666666666,\"#ed7953\"],[0.7777777777777778,\"#fb9f3a\"],[0.8888888888888888,\"#fdca26\"],[1.0,\"#f0f921\"]]}],\"contourcarpet\":[{\"type\":\"contourcarpet\",\"colorbar\":{\"outlinewidth\":0,\"ticks\":\"\"}}],\"contour\":[{\"type\":\"contour\",\"colorbar\":{\"outlinewidth\":0,\"ticks\":\"\"},\"colorscale\":[[0.0,\"#0d0887\"],[0.1111111111111111,\"#46039f\"],[0.2222222222222222,\"#7201a8\"],[0.3333333333333333,\"#9c179e\"],[0.4444444444444444,\"#bd3786\"],[0.5555555555555556,\"#d8576b\"],[0.6666666666666666,\"#ed7953\"],[0.7777777777777778,\"#fb9f3a\"],[0.8888888888888888,\"#fdca26\"],[1.0,\"#f0f921\"]]}],\"surface\":[{\"type\":\"surface\",\"colorbar\":{\"outlinewidth\":0,\"ticks\":\"\"},\"colorscale\":[[0.0,\"#0d0887\"],[0.1111111111111111,\"#46039f\"],[0.2222222222222222,\"#7201a8\"],[0.3333333333333333,\"#9c179e\"],[0.4444444444444444,\"#bd3786\"],[0.5555555555555556,\"#d8576b\"],[0.6666666666666666,\"#ed7953\"],[0.7777777777777778,\"#fb9f3a\"],[0.8888888888888888,\"#fdca26\"],[1.0,\"#f0f921\"]]}],\"mesh3d\":[{\"type\":\"mesh3d\",\"colorbar\":{\"outlinewidth\":0,\"ticks\":\"\"}}],\"scatter\":[{\"fillpattern\":{\"fillmode\":\"overlay\",\"size\":10,\"solidity\":0.2},\"type\":\"scatter\"}],\"parcoords\":[{\"type\":\"parcoords\",\"line\":{\"colorbar\":{\"outlinewidth\":0,\"ticks\":\"\"}}}],\"scatterpolargl\":[{\"type\":\"scatterpolargl\",\"marker\":{\"colorbar\":{\"outlinewidth\":0,\"ticks\":\"\"}}}],\"bar\":[{\"error_x\":{\"color\":\"#2a3f5f\"},\"error_y\":{\"color\":\"#2a3f5f\"},\"marker\":{\"line\":{\"color\":\"#E5ECF6\",\"width\":0.5},\"pattern\":{\"fillmode\":\"overlay\",\"size\":10,\"solidity\":0.2}},\"type\":\"bar\"}],\"scattergeo\":[{\"type\":\"scattergeo\",\"marker\":{\"colorbar\":{\"outlinewidth\":0,\"ticks\":\"\"}}}],\"scatterpolar\":[{\"type\":\"scatterpolar\",\"marker\":{\"colorbar\":{\"outlinewidth\":0,\"ticks\":\"\"}}}],\"histogram\":[{\"marker\":{\"pattern\":{\"fillmode\":\"overlay\",\"size\":10,\"solidity\":0.2}},\"type\":\"histogram\"}],\"scattergl\":[{\"type\":\"scattergl\",\"marker\":{\"colorbar\":{\"outlinewidth\":0,\"ticks\":\"\"}}}],\"scatter3d\":[{\"type\":\"scatter3d\",\"line\":{\"colorbar\":{\"outlinewidth\":0,\"ticks\":\"\"}},\"marker\":{\"colorbar\":{\"outlinewidth\":0,\"ticks\":\"\"}}}],\"scattermapbox\":[{\"type\":\"scattermapbox\",\"marker\":{\"colorbar\":{\"outlinewidth\":0,\"ticks\":\"\"}}}],\"scatterternary\":[{\"type\":\"scatterternary\",\"marker\":{\"colorbar\":{\"outlinewidth\":0,\"ticks\":\"\"}}}],\"scattercarpet\":[{\"type\":\"scattercarpet\",\"marker\":{\"colorbar\":{\"outlinewidth\":0,\"ticks\":\"\"}}}],\"carpet\":[{\"aaxis\":{\"endlinecolor\":\"#2a3f5f\",\"gridcolor\":\"white\",\"linecolor\":\"white\",\"minorgridcolor\":\"white\",\"startlinecolor\":\"#2a3f5f\"},\"baxis\":{\"endlinecolor\":\"#2a3f5f\",\"gridcolor\":\"white\",\"linecolor\":\"white\",\"minorgridcolor\":\"white\",\"startlinecolor\":\"#2a3f5f\"},\"type\":\"carpet\"}],\"table\":[{\"cells\":{\"fill\":{\"color\":\"#EBF0F8\"},\"line\":{\"color\":\"white\"}},\"header\":{\"fill\":{\"color\":\"#C8D4E3\"},\"line\":{\"color\":\"white\"}},\"type\":\"table\"}],\"barpolar\":[{\"marker\":{\"line\":{\"color\":\"#E5ECF6\",\"width\":0.5},\"pattern\":{\"fillmode\":\"overlay\",\"size\":10,\"solidity\":0.2}},\"type\":\"barpolar\"}],\"pie\":[{\"automargin\":true,\"type\":\"pie\"}]},\"layout\":{\"autotypenumbers\":\"strict\",\"colorway\":[\"#636efa\",\"#EF553B\",\"#00cc96\",\"#ab63fa\",\"#FFA15A\",\"#19d3f3\",\"#FF6692\",\"#B6E880\",\"#FF97FF\",\"#FECB52\"],\"font\":{\"color\":\"#2a3f5f\"},\"hovermode\":\"closest\",\"hoverlabel\":{\"align\":\"left\"},\"paper_bgcolor\":\"white\",\"plot_bgcolor\":\"#E5ECF6\",\"polar\":{\"bgcolor\":\"#E5ECF6\",\"angularaxis\":{\"gridcolor\":\"white\",\"linecolor\":\"white\",\"ticks\":\"\"},\"radialaxis\":{\"gridcolor\":\"white\",\"linecolor\":\"white\",\"ticks\":\"\"}},\"ternary\":{\"bgcolor\":\"#E5ECF6\",\"aaxis\":{\"gridcolor\":\"white\",\"linecolor\":\"white\",\"ticks\":\"\"},\"baxis\":{\"gridcolor\":\"white\",\"linecolor\":\"white\",\"ticks\":\"\"},\"caxis\":{\"gridcolor\":\"white\",\"linecolor\":\"white\",\"ticks\":\"\"}},\"coloraxis\":{\"colorbar\":{\"outlinewidth\":0,\"ticks\":\"\"}},\"colorscale\":{\"sequential\":[[0.0,\"#0d0887\"],[0.1111111111111111,\"#46039f\"],[0.2222222222222222,\"#7201a8\"],[0.3333333333333333,\"#9c179e\"],[0.4444444444444444,\"#bd3786\"],[0.5555555555555556,\"#d8576b\"],[0.6666666666666666,\"#ed7953\"],[0.7777777777777778,\"#fb9f3a\"],[0.8888888888888888,\"#fdca26\"],[1.0,\"#f0f921\"]],\"sequentialminus\":[[0.0,\"#0d0887\"],[0.1111111111111111,\"#46039f\"],[0.2222222222222222,\"#7201a8\"],[0.3333333333333333,\"#9c179e\"],[0.4444444444444444,\"#bd3786\"],[0.5555555555555556,\"#d8576b\"],[0.6666666666666666,\"#ed7953\"],[0.7777777777777778,\"#fb9f3a\"],[0.8888888888888888,\"#fdca26\"],[1.0,\"#f0f921\"]],\"diverging\":[[0,\"#8e0152\"],[0.1,\"#c51b7d\"],[0.2,\"#de77ae\"],[0.3,\"#f1b6da\"],[0.4,\"#fde0ef\"],[0.5,\"#f7f7f7\"],[0.6,\"#e6f5d0\"],[0.7,\"#b8e186\"],[0.8,\"#7fbc41\"],[0.9,\"#4d9221\"],[1,\"#276419\"]]},\"xaxis\":{\"gridcolor\":\"white\",\"linecolor\":\"white\",\"ticks\":\"\",\"title\":{\"standoff\":15},\"zerolinecolor\":\"white\",\"automargin\":true,\"zerolinewidth\":2},\"yaxis\":{\"gridcolor\":\"white\",\"linecolor\":\"white\",\"ticks\":\"\",\"title\":{\"standoff\":15},\"zerolinecolor\":\"white\",\"automargin\":true,\"zerolinewidth\":2},\"scene\":{\"xaxis\":{\"backgroundcolor\":\"#E5ECF6\",\"gridcolor\":\"white\",\"linecolor\":\"white\",\"showbackground\":true,\"ticks\":\"\",\"zerolinecolor\":\"white\",\"gridwidth\":2},\"yaxis\":{\"backgroundcolor\":\"#E5ECF6\",\"gridcolor\":\"white\",\"linecolor\":\"white\",\"showbackground\":true,\"ticks\":\"\",\"zerolinecolor\":\"white\",\"gridwidth\":2},\"zaxis\":{\"backgroundcolor\":\"#E5ECF6\",\"gridcolor\":\"white\",\"linecolor\":\"white\",\"showbackground\":true,\"ticks\":\"\",\"zerolinecolor\":\"white\",\"gridwidth\":2}},\"shapedefaults\":{\"line\":{\"color\":\"#2a3f5f\"}},\"annotationdefaults\":{\"arrowcolor\":\"#2a3f5f\",\"arrowhead\":0,\"arrowwidth\":1},\"geo\":{\"bgcolor\":\"white\",\"landcolor\":\"#E5ECF6\",\"subunitcolor\":\"white\",\"showland\":true,\"showlakes\":true,\"lakecolor\":\"white\"},\"title\":{\"x\":0.05},\"mapbox\":{\"style\":\"light\"}}},\"xaxis\":{\"anchor\":\"y\",\"domain\":[0.0,0.48],\"title\":{\"text\":\"Software/CLP\"},\"categoryorder\":\"array\",\"categoryarray\":[\"Serval\",\"IBR-DTN/TCPCL\",\"DTN7-rs/MTCP\",\"DTN7-rs/TCPCL\",\"DTN7-rs/HTTP\",\"DTN7-ng/MTCP\",\"DTN7-ng/QUICL\"]},\"yaxis\":{\"anchor\":\"x\",\"domain\":[0.0,0.3133333333333333],\"title\":{\"text\":\"\"}},\"xaxis2\":{\"anchor\":\"y2\",\"domain\":[0.5,0.98],\"matches\":\"x\",\"title\":{\"text\":\"Software/CLP\"},\"categoryorder\":\"array\",\"categoryarray\":[\"Serval\",\"IBR-DTN/TCPCL\",\"DTN7-rs/MTCP\",\"DTN7-rs/TCPCL\",\"DTN7-rs/HTTP\",\"DTN7-ng/MTCP\",\"DTN7-ng/QUICL\"]},\"yaxis2\":{\"anchor\":\"x2\",\"domain\":[0.0,0.3133333333333333],\"matches\":\"y\",\"showticklabels\":false},\"xaxis3\":{\"anchor\":\"y3\",\"domain\":[0.0,0.48],\"matches\":\"x\",\"showticklabels\":false},\"yaxis3\":{\"anchor\":\"x3\",\"domain\":[0.34333333333333327,0.6566666666666665],\"matches\":\"y\",\"title\":{\"text\":\"\"}},\"xaxis4\":{\"anchor\":\"y4\",\"domain\":[0.5,0.98],\"matches\":\"x\",\"showticklabels\":false},\"yaxis4\":{\"anchor\":\"x4\",\"domain\":[0.34333333333333327,0.6566666666666665],\"matches\":\"y\",\"showticklabels\":false},\"xaxis5\":{\"anchor\":\"y5\",\"domain\":[0.0,0.48],\"matches\":\"x\",\"showticklabels\":false},\"yaxis5\":{\"anchor\":\"x5\",\"domain\":[0.6866666666666665,0.9999999999999998],\"matches\":\"y\",\"title\":{\"text\":\"\"}},\"xaxis6\":{\"anchor\":\"y6\",\"domain\":[0.5,0.98],\"matches\":\"x\",\"showticklabels\":false},\"yaxis6\":{\"anchor\":\"x6\",\"domain\":[0.6866666666666665,0.9999999999999998],\"matches\":\"y\",\"showticklabels\":false},\"annotations\":[{\"showarrow\":false,\"text\":\"Bundles: 10\",\"x\":0.24,\"xanchor\":\"center\",\"xref\":\"paper\",\"y\":0.9999999999999998,\"yanchor\":\"bottom\",\"yref\":\"paper\"},{\"showarrow\":false,\"text\":\"Bundles: 100\",\"x\":0.74,\"xanchor\":\"center\",\"xref\":\"paper\",\"y\":0.9999999999999998,\"yanchor\":\"bottom\",\"yref\":\"paper\"},{\"showarrow\":false,\"text\":\"1 MB\",\"textangle\":90,\"x\":0.98,\"xanchor\":\"left\",\"xref\":\"paper\",\"y\":0.15666666666666665,\"yanchor\":\"middle\",\"yref\":\"paper\"},{\"showarrow\":false,\"text\":\"100 kB\",\"textangle\":90,\"x\":0.98,\"xanchor\":\"left\",\"xref\":\"paper\",\"y\":0.4999999999999999,\"yanchor\":\"middle\",\"yref\":\"paper\"},{\"showarrow\":false,\"text\":\"1 kB\",\"textangle\":90,\"x\":0.98,\"xanchor\":\"left\",\"xref\":\"paper\",\"y\":0.8433333333333332,\"yanchor\":\"middle\",\"yref\":\"paper\"},{\"font\":{\"size\":14},\"text\":\"Successful Receptions (%)\",\"textangle\":-90,\"x\":-0.04,\"xref\":\"paper\",\"y\":0.35,\"yref\":\"paper\"}],\"legend\":{\"title\":{\"text\":\"Loss (%)\"},\"tracegroupgap\":0},\"margin\":{\"t\":20,\"l\":0,\"r\":0,\"b\":0},\"boxmode\":\"group\"},                        {\"responsive\": true}                    ).then(function(){\n",
       "                            \n",
       "var gd = document.getElementById('a9f85356-599b-4b2e-9e1c-040e69bc4494');\n",
       "var x = new MutationObserver(function (mutations, observer) {{\n",
       "        var display = window.getComputedStyle(gd).display;\n",
       "        if (!display || display === 'none') {{\n",
       "            console.log([gd, 'removed!']);\n",
       "            Plotly.purge(gd);\n",
       "            observer.disconnect();\n",
       "        }}\n",
       "}});\n",
       "\n",
       "// Listen for the removal of the full notebook cells\n",
       "var notebookContainer = gd.closest('#notebook-container');\n",
       "if (notebookContainer) {{\n",
       "    x.observe(notebookContainer, {childList: true});\n",
       "}}\n",
       "\n",
       "// Listen for the clearing of the current output cell\n",
       "var outputEl = gd.closest('.output');\n",
       "if (outputEl) {{\n",
       "    x.observe(outputEl, {childList: true});\n",
       "}}\n",
       "\n",
       "                        })                };                });            </script>        </div>"
      ]
     },
     "metadata": {},
     "output_type": "display_data"
    }
   ],
   "source": [
    "fig = px.box(\n",
    "    ratio_df[ratio_df[\"# Nodes\"] == 32],\n",
    "    x=\"Software/CLP\", \n",
    "    y=\"Delivered (%)\",\n",
    "    color=\"Loss\",\n",
    "    facet_col=\"# Bundles\",\n",
    "    facet_row=\"Bundle Size\",\n",
    "    labels={\n",
    "        \"Runtime\": \"Runtime (s)\",\n",
    "        \"Loss\": \"Loss (%)\",\n",
    "        \"# Bundles\": \"Bundles\",\n",
    "        \"Delivered (%)\": \"\"\n",
    "    },\n",
    "    category_orders={\n",
    "        \"Loss\": [0, 10, 30],\n",
    "        \"Bundle Size\": [\"1 kB\", \"100 kB\", \"1 MB\"],\n",
    "        \"Software/CLP\": [\"Serval\", \"IBR-DTN/TCPCL\", \"DTN7-rs/MTCP\", \"DTN7-rs/TCPCL\", \"DTN7-rs/HTTP\", \"DTN7-ng/MTCP\", \"DTN7-ng/QUICL\"],\n",
    "        \"# Bundles\": [10, 100]\n",
    "    },\n",
    ")\n",
    "\n",
    "fig.for_each_annotation(lambda a: a.update(text=a.text.replace(\"=\", \": \")))\n",
    "fig.for_each_annotation(lambda a: a.update(text=a.text.replace(\"Bundle Size: \", \"\")))\n",
    "\n",
    "fig.add_annotation(x=-0.04, y=0.35,\n",
    "                   text=\"Successful Receptions (%)\",\n",
    "                   textangle=-90,\n",
    "                   xref=\"paper\",\n",
    "                   yref=\"paper\",\n",
    "                   font=dict(size=14)\n",
    "                   )\n",
    "\n",
    "fig.update_layout(\n",
    "    margin=dict(l=0, r=0, t=20, b=0),\n",
    ")\n",
    "\n",
    "fig.write_image(\"delivered_32.pdf\", width=700, height=300)\n",
    "fig"
   ]
  }
 ],
 "metadata": {
  "kernelspec": {
   "display_name": "venv",
   "language": "python",
   "name": "python3"
  },
  "language_info": {
   "codemirror_mode": {
    "name": "ipython",
    "version": 3
   },
   "file_extension": ".py",
   "mimetype": "text/x-python",
   "name": "python",
   "nbconvert_exporter": "python",
   "pygments_lexer": "ipython3",
   "version": "3.8.10"
  },
  "orig_nbformat": 4,
  "vscode": {
   "interpreter": {
    "hash": "641d5286c24ce6c921edfe19b055ac39c0f930e75576e15c3d25ad0550bc35a7"
   }
  }
 },
 "nbformat": 4,
 "nbformat_minor": 2
}
